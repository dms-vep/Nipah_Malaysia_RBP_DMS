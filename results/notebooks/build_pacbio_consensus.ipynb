{
 "cells": [
  {
   "cell_type": "markdown",
   "id": "46cc8b5f-6062-4379-9165-0ef2ba6cf5a7",
   "metadata": {
    "papermill": {
     "duration": 0.013677,
     "end_time": "2023-07-18T23:45:46.660166",
     "exception": false,
     "start_time": "2023-07-18T23:45:46.646489",
     "status": "completed"
    },
    "tags": []
   },
   "source": [
    "# Build PacBio consensus sequences\n",
    "This notebook builds consensus sequences for each barcode from the PacBio CCS sequencing.\n",
    "\n",
    "Import Python modules:"
   ]
  },
  {
   "cell_type": "code",
   "execution_count": 1,
   "id": "66dc6438-6309-483c-a94f-273e9488981b",
   "metadata": {
    "execution": {
     "iopub.execute_input": "2023-07-18T23:45:46.677884Z",
     "iopub.status.busy": "2023-07-18T23:45:46.677273Z",
     "iopub.status.idle": "2023-07-18T23:45:48.818100Z",
     "shell.execute_reply": "2023-07-18T23:45:48.817201Z"
    },
    "papermill": {
     "duration": 2.153814,
     "end_time": "2023-07-18T23:45:48.821147",
     "exception": false,
     "start_time": "2023-07-18T23:45:46.667333",
     "status": "completed"
    },
    "tags": []
   },
   "outputs": [],
   "source": [
    "import itertools\n",
    "import os\n",
    "\n",
    "import Bio.SeqIO\n",
    "\n",
    "import alignparse.consensus\n",
    "import alignparse.utils\n",
    "\n",
    "import altair as alt\n",
    "\n",
    "import dms_variants.barcodes\n",
    "\n",
    "import numpy\n",
    "\n",
    "import pandas as pd\n",
    "\n",
    "import scipy.stats\n",
    "\n",
    "import yaml"
   ]
  },
  {
   "cell_type": "code",
   "execution_count": 2,
   "id": "3121841c-2e7f-49ec-b16e-a66bea9d2a88",
   "metadata": {
    "execution": {
     "iopub.execute_input": "2023-07-18T23:45:48.849425Z",
     "iopub.status.busy": "2023-07-18T23:45:48.848713Z",
     "iopub.status.idle": "2023-07-18T23:45:48.854163Z",
     "shell.execute_reply": "2023-07-18T23:45:48.853214Z"
    },
    "papermill": {
     "duration": 0.020458,
     "end_time": "2023-07-18T23:45:48.855759",
     "exception": false,
     "start_time": "2023-07-18T23:45:48.835301",
     "status": "completed"
    },
    "tags": []
   },
   "outputs": [],
   "source": [
    "_ = alt.data_transformers.disable_max_rows()"
   ]
  },
  {
   "cell_type": "markdown",
   "id": "1b67f83e-6dca-4217-bb0d-7291d1b032e6",
   "metadata": {
    "papermill": {
     "duration": 0.007972,
     "end_time": "2023-07-18T23:45:48.871088",
     "exception": false,
     "start_time": "2023-07-18T23:45:48.863116",
     "status": "completed"
    },
    "tags": []
   },
   "source": [
    "Get configuration information:"
   ]
  },
  {
   "cell_type": "code",
   "execution_count": 3,
   "id": "67f63ece-f250-4e81-bdde-e03b8ce6b072",
   "metadata": {
    "execution": {
     "iopub.execute_input": "2023-07-18T23:45:48.888935Z",
     "iopub.status.busy": "2023-07-18T23:45:48.888169Z",
     "iopub.status.idle": "2023-07-18T23:45:48.904141Z",
     "shell.execute_reply": "2023-07-18T23:45:48.903462Z"
    },
    "papermill": {
     "duration": 0.027497,
     "end_time": "2023-07-18T23:45:48.906486",
     "exception": false,
     "start_time": "2023-07-18T23:45:48.878989",
     "status": "completed"
    },
    "tags": []
   },
   "outputs": [],
   "source": [
    "# If you are running notebook interactively rather than in pipeline that handles\n",
    "# working directories, you may have to first `os.chdir` to appropriate directory.\n",
    "\n",
    "with open(\"config.yaml\") as f:\n",
    "    config = yaml.safe_load(f)"
   ]
  },
  {
   "cell_type": "markdown",
   "id": "6678d44d-a9a7-42d7-841c-d3c8e169f296",
   "metadata": {
    "papermill": {
     "duration": 0.006435,
     "end_time": "2023-07-18T23:45:48.924336",
     "exception": false,
     "start_time": "2023-07-18T23:45:48.917901",
     "status": "completed"
    },
    "tags": []
   },
   "source": [
    "Get the aligned CCSs:"
   ]
  },
  {
   "cell_type": "code",
   "execution_count": 4,
   "id": "ee8a458c-674c-40cd-9076-57c021ba315a",
   "metadata": {
    "execution": {
     "iopub.execute_input": "2023-07-18T23:45:48.940640Z",
     "iopub.status.busy": "2023-07-18T23:45:48.939778Z",
     "iopub.status.idle": "2023-07-18T23:45:56.608109Z",
     "shell.execute_reply": "2023-07-18T23:45:56.606810Z"
    },
    "papermill": {
     "duration": 7.680278,
     "end_time": "2023-07-18T23:45:56.611213",
     "exception": false,
     "start_time": "2023-07-18T23:45:48.930935",
     "status": "completed"
    },
    "tags": []
   },
   "outputs": [],
   "source": [
    "aligned_ccs = pd.read_csv(\n",
    "    \"results/process_ccs/CCSs_aligned_to_amplicon.csv\",\n",
    "    na_filter=None,\n",
    ")"
   ]
  },
  {
   "cell_type": "markdown",
   "id": "5b7627ba-18b3-4427-8385-3e1caa567c06",
   "metadata": {
    "papermill": {
     "duration": 0.007017,
     "end_time": "2023-07-18T23:45:56.631549",
     "exception": false,
     "start_time": "2023-07-18T23:45:56.624532",
     "status": "completed"
    },
    "tags": []
   },
   "source": [
    "Get the gene sequence:"
   ]
  },
  {
   "cell_type": "code",
   "execution_count": 5,
   "id": "dc6492b1-0998-47e5-869b-9d4d8b470832",
   "metadata": {
    "execution": {
     "iopub.execute_input": "2023-07-18T23:45:56.647750Z",
     "iopub.status.busy": "2023-07-18T23:45:56.647383Z",
     "iopub.status.idle": "2023-07-18T23:45:56.674002Z",
     "shell.execute_reply": "2023-07-18T23:45:56.673281Z"
    },
    "papermill": {
     "duration": 0.037644,
     "end_time": "2023-07-18T23:45:56.676019",
     "exception": false,
     "start_time": "2023-07-18T23:45:56.638375",
     "status": "completed"
    },
    "tags": []
   },
   "outputs": [
    {
     "name": "stdout",
     "output_type": "stream",
     "text": [
      "Read gene of length 1713 nucleotides\n"
     ]
    }
   ],
   "source": [
    "geneseq = str(Bio.SeqIO.read(config[\"gene_sequence_codon\"], \"fasta\").seq)\n",
    "\n",
    "print(f\"Read gene of length {len(geneseq)} nucleotides\")"
   ]
  },
  {
   "cell_type": "markdown",
   "id": "4899eccd-c306-44f1-a53b-2a497d5fc593",
   "metadata": {
    "papermill": {
     "duration": 0.008636,
     "end_time": "2023-07-18T23:45:56.695367",
     "exception": false,
     "start_time": "2023-07-18T23:45:56.686731",
     "status": "completed"
    },
    "tags": []
   },
   "source": [
    "## Identify strand exchange and filter CCSs known to have it\n",
    "We may have variant tags at the end of eac read which allow us to quantify strand exchange and filter out some strand exchange (that between variants with different tags):"
   ]
  },
  {
   "cell_type": "code",
   "execution_count": 6,
   "id": "d89c3ab3-f73f-4177-8df8-2fae881fbe3e",
   "metadata": {
    "execution": {
     "iopub.execute_input": "2023-07-18T23:45:56.712465Z",
     "iopub.status.busy": "2023-07-18T23:45:56.712144Z",
     "iopub.status.idle": "2023-07-18T23:46:20.255995Z",
     "shell.execute_reply": "2023-07-18T23:46:20.255092Z"
    },
    "papermill": {
     "duration": 23.55533,
     "end_time": "2023-07-18T23:46:20.258410",
     "exception": false,
     "start_time": "2023-07-18T23:45:56.703080",
     "status": "completed"
    },
    "tags": []
   },
   "outputs": [
    {
     "data": {
      "text/html": [
       "<div>\n",
       "<style scoped>\n",
       "    .dataframe tbody tr th:only-of-type {\n",
       "        vertical-align: middle;\n",
       "    }\n",
       "\n",
       "    .dataframe tbody tr th {\n",
       "        vertical-align: top;\n",
       "    }\n",
       "\n",
       "    .dataframe thead th {\n",
       "        text-align: right;\n",
       "    }\n",
       "</style>\n",
       "<table border=\"1\" class=\"dataframe\">\n",
       "  <thead>\n",
       "    <tr style=\"text-align: right;\">\n",
       "      <th></th>\n",
       "      <th>variant_tag5</th>\n",
       "      <th>variant_tag3</th>\n",
       "    </tr>\n",
       "  </thead>\n",
       "  <tbody>\n",
       "    <tr>\n",
       "      <th>variant_1</th>\n",
       "      <td>G</td>\n",
       "      <td>G</td>\n",
       "    </tr>\n",
       "    <tr>\n",
       "      <th>variant_2</th>\n",
       "      <td>C</td>\n",
       "      <td>C</td>\n",
       "    </tr>\n",
       "    <tr>\n",
       "      <th>wildtype</th>\n",
       "      <td>A</td>\n",
       "      <td>A</td>\n",
       "    </tr>\n",
       "  </tbody>\n",
       "</table>\n",
       "</div>"
      ],
      "text/plain": [
       "          variant_tag5 variant_tag3\n",
       "variant_1            G            G\n",
       "variant_2            C            C\n",
       "wildtype             A            A"
      ]
     },
     "metadata": {},
     "output_type": "display_data"
    },
    {
     "data": {
      "text/html": [
       "\n",
       "<style>\n",
       "  #altair-viz-1abee3d56e6d41ad9cc47eeefac0c8a8.vega-embed {\n",
       "    width: 100%;\n",
       "    display: flex;\n",
       "  }\n",
       "\n",
       "  #altair-viz-1abee3d56e6d41ad9cc47eeefac0c8a8.vega-embed details,\n",
       "  #altair-viz-1abee3d56e6d41ad9cc47eeefac0c8a8.vega-embed details summary {\n",
       "    position: relative;\n",
       "  }\n",
       "</style>\n",
       "<div id=\"altair-viz-1abee3d56e6d41ad9cc47eeefac0c8a8\"></div>\n",
       "<script type=\"text/javascript\">\n",
       "  var VEGA_DEBUG = (typeof VEGA_DEBUG == \"undefined\") ? {} : VEGA_DEBUG;\n",
       "  (function(spec, embedOpt){\n",
       "    let outputDiv = document.currentScript.previousElementSibling;\n",
       "    if (outputDiv.id !== \"altair-viz-1abee3d56e6d41ad9cc47eeefac0c8a8\") {\n",
       "      outputDiv = document.getElementById(\"altair-viz-1abee3d56e6d41ad9cc47eeefac0c8a8\");\n",
       "    }\n",
       "    const paths = {\n",
       "      \"vega\": \"https://cdn.jsdelivr.net/npm/vega@5?noext\",\n",
       "      \"vega-lib\": \"https://cdn.jsdelivr.net/npm/vega-lib?noext\",\n",
       "      \"vega-lite\": \"https://cdn.jsdelivr.net/npm/vega-lite@5.8.0?noext\",\n",
       "      \"vega-embed\": \"https://cdn.jsdelivr.net/npm/vega-embed@6?noext\",\n",
       "    };\n",
       "\n",
       "    function maybeLoadScript(lib, version) {\n",
       "      var key = `${lib.replace(\"-\", \"\")}_version`;\n",
       "      return (VEGA_DEBUG[key] == version) ?\n",
       "        Promise.resolve(paths[lib]) :\n",
       "        new Promise(function(resolve, reject) {\n",
       "          var s = document.createElement('script');\n",
       "          document.getElementsByTagName(\"head\")[0].appendChild(s);\n",
       "          s.async = true;\n",
       "          s.onload = () => {\n",
       "            VEGA_DEBUG[key] = version;\n",
       "            return resolve(paths[lib]);\n",
       "          };\n",
       "          s.onerror = () => reject(`Error loading script: ${paths[lib]}`);\n",
       "          s.src = paths[lib];\n",
       "        });\n",
       "    }\n",
       "\n",
       "    function showError(err) {\n",
       "      outputDiv.innerHTML = `<div class=\"error\" style=\"color:red;\">${err}</div>`;\n",
       "      throw err;\n",
       "    }\n",
       "\n",
       "    function displayChart(vegaEmbed) {\n",
       "      vegaEmbed(outputDiv, spec, embedOpt)\n",
       "        .catch(err => showError(`Javascript Error: ${err.message}<br>This usually means there's a typo in your chart specification. See the javascript console for the full traceback.`));\n",
       "    }\n",
       "\n",
       "    if(typeof define === \"function\" && define.amd) {\n",
       "      requirejs.config({paths});\n",
       "      require([\"vega-embed\"], displayChart, err => showError(`Error loading script: ${err.message}`));\n",
       "    } else {\n",
       "      maybeLoadScript(\"vega\", \"5\")\n",
       "        .then(() => maybeLoadScript(\"vega-lite\", \"5.8.0\"))\n",
       "        .then(() => maybeLoadScript(\"vega-embed\", \"6\"))\n",
       "        .catch(showError)\n",
       "        .then(() => displayChart(vegaEmbed));\n",
       "    }\n",
       "  })({\"config\": {\"view\": {\"continuousWidth\": 300, \"continuousHeight\": 300}}, \"data\": {\"name\": \"data-166cad361c73db7ca9825131d4edba06\"}, \"mark\": {\"type\": \"bar\"}, \"encoding\": {\"facet\": {\"columns\": 2, \"field\": \"pacbioRun\", \"title\": null, \"type\": \"nominal\"}, \"tooltip\": [{\"field\": \"pacbioRun\", \"type\": \"nominal\"}, {\"field\": \"strand_exchange\", \"type\": \"nominal\"}, {\"field\": \"n_CCSs\", \"type\": \"quantitative\"}, {\"field\": \"fraction\", \"type\": \"quantitative\"}], \"x\": {\"field\": \"n_CCSs\", \"type\": \"quantitative\"}, \"y\": {\"axis\": {\"title\": null}, \"field\": \"strand_exchange\", \"type\": \"nominal\"}}, \"height\": 100, \"resolve\": {\"scale\": {\"x\": \"independent\"}}, \"width\": 250, \"$schema\": \"https://vega.github.io/schema/vega-lite/v5.8.0.json\", \"datasets\": {\"data-166cad361c73db7ca9825131d4edba06\": [{\"pacbioRun\": \"LibA-221107\", \"strand_exchange\": \"invalid\", \"n_CCSs\": 256, \"fraction\": 8.250825082508251e-05}, {\"pacbioRun\": \"LibA-221107\", \"strand_exchange\": \"invalid nucleotide\", \"n_CCSs\": 13416, \"fraction\": 0.004323948019801981}, {\"pacbioRun\": \"LibA-221107\", \"strand_exchange\": \"partially wildtype\", \"n_CCSs\": 86808, \"fraction\": 0.027978032178217822}, {\"pacbioRun\": \"LibA-221107\", \"strand_exchange\": \"strand exchange\", \"n_CCSs\": 29902, \"fraction\": 0.00963735045379538}, {\"pacbioRun\": \"LibA-221107\", \"strand_exchange\": \"variant_1\", \"n_CCSs\": 2012092, \"fraction\": 0.6484929352310231}, {\"pacbioRun\": \"LibA-221107\", \"strand_exchange\": \"variant_2\", \"n_CCSs\": 959655, \"fraction\": 0.3092947478341584}, {\"pacbioRun\": \"LibA-221107\", \"strand_exchange\": \"wildtype\", \"n_CCSs\": 591, \"fraction\": 0.00019047803217821783}, {\"pacbioRun\": \"LibB-221107\", \"strand_exchange\": \"invalid\", \"n_CCSs\": 94, \"fraction\": 7.557017293510532e-05}, {\"pacbioRun\": \"LibB-221107\", \"strand_exchange\": \"invalid nucleotide\", \"n_CCSs\": 4963, \"fraction\": 0.003989944343371571}, {\"pacbioRun\": \"LibB-221107\", \"strand_exchange\": \"partially wildtype\", \"n_CCSs\": 35339, \"fraction\": 0.02841036533354986}, {\"pacbioRun\": \"LibB-221107\", \"strand_exchange\": \"strand exchange\", \"n_CCSs\": 10699, \"fraction\": 0.008601332768432892}, {\"pacbioRun\": \"LibB-221107\", \"strand_exchange\": \"variant_1\", \"n_CCSs\": 841509, \"fraction\": 0.6765210708132717}, {\"pacbioRun\": \"LibB-221107\", \"strand_exchange\": \"variant_2\", \"n_CCSs\": 350967, \"fraction\": 0.28215571153739477}, {\"pacbioRun\": \"LibB-221107\", \"strand_exchange\": \"wildtype\", \"n_CCSs\": 306, \"fraction\": 0.00024600503104406623}]}}, {\"mode\": \"vega-lite\"});\n",
       "</script>"
      ],
      "text/plain": [
       "alt.Chart(...)"
      ]
     },
     "metadata": {},
     "output_type": "display_data"
    },
    {
     "name": "stdout",
     "output_type": "stream",
     "text": [
      "There are 4346597 before filtering.\n"
     ]
    },
    {
     "name": "stdout",
     "output_type": "stream",
     "text": [
      "There are 4305996 after filtering.\n"
     ]
    }
   ],
   "source": [
    "variant_tags = config[\"variant_tags\"]\n",
    "\n",
    "if not variant_tags:\n",
    "    print(\"No variant tags specified, so cannot look for strand exchange\")\n",
    "\n",
    "else:\n",
    "    display(pd.DataFrame(variant_tags))\n",
    "\n",
    "    # invert dictionary so tag identities given by nucleotide identity\n",
    "    variant_tags_by_nt = {\n",
    "        tag: {val: key for key, val in vals.items()}\n",
    "        for tag, vals in variant_tags.items()\n",
    "    }\n",
    "    assert all(\n",
    "        len(d1) == len(d2)\n",
    "        for d1, d2 in zip(variant_tags.items(), variant_tags_by_nt.items())\n",
    "    )\n",
    "\n",
    "    # function to assign strand exchange status\n",
    "    def classify_strand_exchange(row):\n",
    "        tags = list({row[tag] for tag in variant_tags})\n",
    "        if len(tags) == 1:\n",
    "            return tags[0]\n",
    "        elif \"wildtype\" in tags:\n",
    "            return \"partially wildtype\"\n",
    "        elif \"invalid\" in tags:\n",
    "            return \"invalid nucleotide\"\n",
    "        else:\n",
    "            return \"strand exchange\"\n",
    "\n",
    "    # assign strand exchange status\n",
    "    for tag, d in variant_tags_by_nt.items():\n",
    "        aligned_ccs[tag] = aligned_ccs[f\"{tag}_sequence\"].map(d).fillna(\"invalid\")\n",
    "    aligned_ccs[\"strand_exchange\"] = aligned_ccs.apply(classify_strand_exchange, axis=1)\n",
    "\n",
    "    # get summary stats\n",
    "    strand_exchange_stats = (\n",
    "        aligned_ccs.groupby([\"pacbioRun\", \"strand_exchange\"], as_index=False)\n",
    "        .aggregate(n_CCSs=pd.NamedAgg(\"query_name\", \"count\"))\n",
    "        .assign(\n",
    "            fraction=lambda x: x[\"n_CCSs\"]\n",
    "            / x.groupby(\"pacbioRun\")[\"n_CCSs\"].transform(\"sum\")\n",
    "        )\n",
    "    )\n",
    "\n",
    "    # plot summary stats\n",
    "    strand_exchange_chart = (\n",
    "        alt.Chart(strand_exchange_stats)\n",
    "        .encode(\n",
    "            x=\"n_CCSs:Q\",\n",
    "            y=alt.Y(\n",
    "                \"strand_exchange:N\",\n",
    "                axis=alt.Axis(title=None),\n",
    "            ),\n",
    "            facet=alt.Facet(\"pacbioRun\", columns=2, title=None),\n",
    "            tooltip=strand_exchange_stats.columns.tolist(),\n",
    "        )\n",
    "        .mark_bar()\n",
    "        .properties(width=250, height=100)\n",
    "        .resolve_scale(x=\"independent\")\n",
    "    )\n",
    "    display(strand_exchange_chart)\n",
    "\n",
    "    # Filter out CCSs with strand exchange. Note that this approach is only\n",
    "    # expected to catch ~half of CCSs with strand exchange.\n",
    "    print(f\"There are {len(aligned_ccs)} before filtering.\")\n",
    "    aligned_ccs = aligned_ccs.query('strand_exchange != \"strand exchange\"')\n",
    "    print(f\"There are {len(aligned_ccs)} after filtering.\")"
   ]
  },
  {
   "cell_type": "markdown",
   "id": "350acb01-fb80-43ba-b175-3c661f076f61",
   "metadata": {
    "papermill": {
     "duration": 0.007143,
     "end_time": "2023-07-18T23:46:20.279225",
     "exception": false,
     "start_time": "2023-07-18T23:46:20.272082",
     "status": "completed"
    },
    "tags": []
   },
   "source": [
    "## Filter CCSs for accuracy\n",
    "\n",
    "Plot the gene and barcode accuracy for each CCS, and only keep those above an accuracy threshold:"
   ]
  },
  {
   "cell_type": "code",
   "execution_count": 7,
   "id": "fd4e8181-d2d5-49eb-b263-d956dbdb57e4",
   "metadata": {
    "execution": {
     "iopub.execute_input": "2023-07-18T23:46:20.299682Z",
     "iopub.status.busy": "2023-07-18T23:46:20.299069Z",
     "iopub.status.idle": "2023-07-18T23:46:25.914117Z",
     "shell.execute_reply": "2023-07-18T23:46:25.913124Z"
    },
    "papermill": {
     "duration": 5.630764,
     "end_time": "2023-07-18T23:46:25.918923",
     "exception": false,
     "start_time": "2023-07-18T23:46:20.288159",
     "status": "completed"
    },
    "tags": []
   },
   "outputs": [
    {
     "data": {
      "text/html": [
       "\n",
       "<style>\n",
       "  #altair-viz-5b1c9d7c521942898f563c5d57a52d16.vega-embed {\n",
       "    width: 100%;\n",
       "    display: flex;\n",
       "  }\n",
       "\n",
       "  #altair-viz-5b1c9d7c521942898f563c5d57a52d16.vega-embed details,\n",
       "  #altair-viz-5b1c9d7c521942898f563c5d57a52d16.vega-embed details summary {\n",
       "    position: relative;\n",
       "  }\n",
       "</style>\n",
       "<div id=\"altair-viz-5b1c9d7c521942898f563c5d57a52d16\"></div>\n",
       "<script type=\"text/javascript\">\n",
       "  var VEGA_DEBUG = (typeof VEGA_DEBUG == \"undefined\") ? {} : VEGA_DEBUG;\n",
       "  (function(spec, embedOpt){\n",
       "    let outputDiv = document.currentScript.previousElementSibling;\n",
       "    if (outputDiv.id !== \"altair-viz-5b1c9d7c521942898f563c5d57a52d16\") {\n",
       "      outputDiv = document.getElementById(\"altair-viz-5b1c9d7c521942898f563c5d57a52d16\");\n",
       "    }\n",
       "    const paths = {\n",
       "      \"vega\": \"https://cdn.jsdelivr.net/npm/vega@5?noext\",\n",
       "      \"vega-lib\": \"https://cdn.jsdelivr.net/npm/vega-lib?noext\",\n",
       "      \"vega-lite\": \"https://cdn.jsdelivr.net/npm/vega-lite@5.8.0?noext\",\n",
       "      \"vega-embed\": \"https://cdn.jsdelivr.net/npm/vega-embed@6?noext\",\n",
       "    };\n",
       "\n",
       "    function maybeLoadScript(lib, version) {\n",
       "      var key = `${lib.replace(\"-\", \"\")}_version`;\n",
       "      return (VEGA_DEBUG[key] == version) ?\n",
       "        Promise.resolve(paths[lib]) :\n",
       "        new Promise(function(resolve, reject) {\n",
       "          var s = document.createElement('script');\n",
       "          document.getElementsByTagName(\"head\")[0].appendChild(s);\n",
       "          s.async = true;\n",
       "          s.onload = () => {\n",
       "            VEGA_DEBUG[key] = version;\n",
       "            return resolve(paths[lib]);\n",
       "          };\n",
       "          s.onerror = () => reject(`Error loading script: ${paths[lib]}`);\n",
       "          s.src = paths[lib];\n",
       "        });\n",
       "    }\n",
       "\n",
       "    function showError(err) {\n",
       "      outputDiv.innerHTML = `<div class=\"error\" style=\"color:red;\">${err}</div>`;\n",
       "      throw err;\n",
       "    }\n",
       "\n",
       "    function displayChart(vegaEmbed) {\n",
       "      vegaEmbed(outputDiv, spec, embedOpt)\n",
       "        .catch(err => showError(`Javascript Error: ${err.message}<br>This usually means there's a typo in your chart specification. See the javascript console for the full traceback.`));\n",
       "    }\n",
       "\n",
       "    if(typeof define === \"function\" && define.amd) {\n",
       "      requirejs.config({paths});\n",
       "      require([\"vega-embed\"], displayChart, err => showError(`Error loading script: ${err.message}`));\n",
       "    } else {\n",
       "      maybeLoadScript(\"vega\", \"5\")\n",
       "        .then(() => maybeLoadScript(\"vega-lite\", \"5.8.0\"))\n",
       "        .then(() => maybeLoadScript(\"vega-embed\", \"6\"))\n",
       "        .catch(showError)\n",
       "        .then(() => displayChart(vegaEmbed));\n",
       "    }\n",
       "  })({\"config\": {\"view\": {\"continuousWidth\": 300, \"continuousHeight\": 300}}, \"data\": {\"name\": \"data-9932337001e73b5cce958a9750044046\"}, \"mark\": {\"type\": \"point\", \"filled\": true, \"size\": 30}, \"encoding\": {\"color\": {\"field\": \"meets_accuracy_cutoff\", \"type\": \"nominal\"}, \"column\": {\"field\": \"variable\", \"title\": null, \"type\": \"nominal\"}, \"row\": {\"field\": \"pacbioRun\", \"title\": null, \"type\": \"nominal\"}, \"tooltip\": [{\"field\": \"log10_error\", \"format\": \".3f\", \"type\": \"quantitative\"}, {\"field\": \"cumulative_fraction\", \"format\": \".3f\", \"type\": \"quantitative\"}, {\"field\": \"cumulative_count\", \"format\": \".4g\", \"type\": \"quantitative\"}], \"x\": {\"field\": \"log10_error\", \"scale\": {\"zero\": false}, \"type\": \"quantitative\"}, \"y\": {\"field\": \"cumulative_count\", \"type\": \"quantitative\"}}, \"height\": 120, \"width\": 225, \"$schema\": \"https://vega.github.io/schema/vega-lite/v5.8.0.json\", \"datasets\": {\"data-9932337001e73b5cce958a9750044046\": [{\"variable\": \"barcode_error\", \"pacbioRun\": \"LibA-221107\", \"level_2\": 0, \"cumulative_count\": 2340567.0, \"log10_error\": -7.0, \"meets_accuracy_cutoff\": true, \"cumulative_fraction\": 0.543559956860155}, {\"variable\": \"barcode_error\", \"pacbioRun\": \"LibA-221107\", \"level_2\": 1, \"cumulative_count\": 2347330.0, \"log10_error\": -6.94949494949495, \"meets_accuracy_cutoff\": true, \"cumulative_fraction\": 0.5451305574831004}, {\"variable\": \"barcode_error\", \"pacbioRun\": \"LibA-221107\", \"level_2\": 2, \"cumulative_count\": 2352862.0, \"log10_error\": -6.898989898989899, \"meets_accuracy_cutoff\": true, \"cumulative_fraction\": 0.5464152776732724}, {\"variable\": \"barcode_error\", \"pacbioRun\": \"LibA-221107\", \"level_2\": 3, \"cumulative_count\": 2359723.0, \"log10_error\": -6.848484848484849, \"meets_accuracy_cutoff\": true, \"cumulative_fraction\": 0.5480086372583718}, {\"variable\": \"barcode_error\", \"pacbioRun\": \"LibA-221107\", \"level_2\": 4, \"cumulative_count\": 2365108.0, \"log10_error\": -6.797979797979798, \"meets_accuracy_cutoff\": true, \"cumulative_fraction\": 0.5492592190053126}, {\"variable\": \"barcode_error\", \"pacbioRun\": \"LibA-221107\", \"level_2\": 5, \"cumulative_count\": 2372125.0, \"log10_error\": -6.747474747474747, \"meets_accuracy_cutoff\": true, \"cumulative_fraction\": 0.5508888071424126}, {\"variable\": \"barcode_error\", \"pacbioRun\": \"LibA-221107\", \"level_2\": 6, \"cumulative_count\": 2377600.0, \"log10_error\": -6.696969696969697, \"meets_accuracy_cutoff\": true, \"cumulative_fraction\": 0.5521602899770459}, {\"variable\": \"barcode_error\", \"pacbioRun\": \"LibA-221107\", \"level_2\": 7, \"cumulative_count\": 2384498.0, \"log10_error\": -6.646464646464646, \"meets_accuracy_cutoff\": true, \"cumulative_fraction\": 0.5537622422315301}, {\"variable\": \"barcode_error\", \"pacbioRun\": \"LibA-221107\", \"level_2\": 8, \"cumulative_count\": 2389877.0, \"log10_error\": -6.595959595959596, \"meets_accuracy_cutoff\": true, \"cumulative_fraction\": 0.5550114305726248}, {\"variable\": \"barcode_error\", \"pacbioRun\": \"LibA-221107\", \"level_2\": 9, \"cumulative_count\": 2396991.0, \"log10_error\": -6.545454545454546, \"meets_accuracy_cutoff\": true, \"cumulative_fraction\": 0.5566635454375712}, {\"variable\": \"barcode_error\", \"pacbioRun\": \"LibA-221107\", \"level_2\": 10, \"cumulative_count\": 2402235.0, \"log10_error\": -6.494949494949495, \"meets_accuracy_cutoff\": true, \"cumulative_fraction\": 0.5578813821471269}, {\"variable\": \"barcode_error\", \"pacbioRun\": \"LibA-221107\", \"level_2\": 11, \"cumulative_count\": 2409426.0, \"log10_error\": -6.444444444444445, \"meets_accuracy_cutoff\": true, \"cumulative_fraction\": 0.559551379053766}, {\"variable\": \"barcode_error\", \"pacbioRun\": \"LibA-221107\", \"level_2\": 12, \"cumulative_count\": 2414793.0, \"log10_error\": -6.393939393939394, \"meets_accuracy_cutoff\": true, \"cumulative_fraction\": 0.5607977805831682}, {\"variable\": \"barcode_error\", \"pacbioRun\": \"LibA-221107\", \"level_2\": 13, \"cumulative_count\": 2421849.0, \"log10_error\": -6.343434343434343, \"meets_accuracy_cutoff\": true, \"cumulative_fraction\": 0.5624364258582684}, {\"variable\": \"barcode_error\", \"pacbioRun\": \"LibA-221107\", \"level_2\": 14, \"cumulative_count\": 2427362.0, \"log10_error\": -6.292929292929293, \"meets_accuracy_cutoff\": true, \"cumulative_fraction\": 0.5637167335965941}, {\"variable\": \"barcode_error\", \"pacbioRun\": \"LibA-221107\", \"level_2\": 15, \"cumulative_count\": 2434528.0, \"log10_error\": -6.242424242424242, \"meets_accuracy_cutoff\": true, \"cumulative_fraction\": 0.5653809246455408}, {\"variable\": \"barcode_error\", \"pacbioRun\": \"LibA-221107\", \"level_2\": 16, \"cumulative_count\": 2440143.0, \"log10_error\": -6.191919191919192, \"meets_accuracy_cutoff\": true, \"cumulative_fraction\": 0.5666849202832516}, {\"variable\": \"barcode_error\", \"pacbioRun\": \"LibA-221107\", \"level_2\": 17, \"cumulative_count\": 2447347.0, \"log10_error\": -6.141414141414142, \"meets_accuracy_cutoff\": true, \"cumulative_fraction\": 0.5683579362358906}, {\"variable\": \"barcode_error\", \"pacbioRun\": \"LibA-221107\", \"level_2\": 18, \"cumulative_count\": 2452873.0, \"log10_error\": -6.090909090909091, \"meets_accuracy_cutoff\": true, \"cumulative_fraction\": 0.5696412630202164}, {\"variable\": \"barcode_error\", \"pacbioRun\": \"LibA-221107\", \"level_2\": 19, \"cumulative_count\": 2460118.0, \"log10_error\": -6.040404040404041, \"meets_accuracy_cutoff\": true, \"cumulative_fraction\": 0.5713238005794711}, {\"variable\": \"barcode_error\", \"pacbioRun\": \"LibA-221107\", \"level_2\": 20, \"cumulative_count\": 2465807.0, \"log10_error\": -5.98989898989899, \"meets_accuracy_cutoff\": true, \"cumulative_fraction\": 0.5726449815559513}, {\"variable\": \"barcode_error\", \"pacbioRun\": \"LibA-221107\", \"level_2\": 21, \"cumulative_count\": 2473015.0, \"log10_error\": -5.9393939393939394, \"meets_accuracy_cutoff\": true, \"cumulative_fraction\": 0.5743189264458212}, {\"variable\": \"barcode_error\", \"pacbioRun\": \"LibA-221107\", \"level_2\": 22, \"cumulative_count\": 2478832.0, \"log10_error\": -5.888888888888889, \"meets_accuracy_cutoff\": true, \"cumulative_fraction\": 0.5756698334136864}, {\"variable\": \"barcode_error\", \"pacbioRun\": \"LibA-221107\", \"level_2\": 23, \"cumulative_count\": 2486241.0, \"log10_error\": -5.838383838383838, \"meets_accuracy_cutoff\": true, \"cumulative_fraction\": 0.5773904573994031}, {\"variable\": \"barcode_error\", \"pacbioRun\": \"LibA-221107\", \"level_2\": 24, \"cumulative_count\": 2492044.0, \"log10_error\": -5.787878787878788, \"meets_accuracy_cutoff\": true, \"cumulative_fraction\": 0.5787381130869605}, {\"variable\": \"barcode_error\", \"pacbioRun\": \"LibA-221107\", \"level_2\": 25, \"cumulative_count\": 2499418.0, \"log10_error\": -5.737373737373737, \"meets_accuracy_cutoff\": true, \"cumulative_fraction\": 0.5804506088719079}, {\"variable\": \"barcode_error\", \"pacbioRun\": \"LibA-221107\", \"level_2\": 26, \"cumulative_count\": 2505275.0, \"log10_error\": -5.686868686868687, \"meets_accuracy_cutoff\": true, \"cumulative_fraction\": 0.5818108052120811}, {\"variable\": \"barcode_error\", \"pacbioRun\": \"LibA-221107\", \"level_2\": 27, \"cumulative_count\": 2512797.0, \"log10_error\": -5.636363636363637, \"meets_accuracy_cutoff\": true, \"cumulative_fraction\": 0.5835576716745673}, {\"variable\": \"barcode_error\", \"pacbioRun\": \"LibA-221107\", \"level_2\": 28, \"cumulative_count\": 2518884.0, \"log10_error\": -5.585858585858586, \"meets_accuracy_cutoff\": true, \"cumulative_fraction\": 0.5849712819055104}, {\"variable\": \"barcode_error\", \"pacbioRun\": \"LibA-221107\", \"level_2\": 29, \"cumulative_count\": 2526593.0, \"log10_error\": -5.5353535353535355, \"meets_accuracy_cutoff\": true, \"cumulative_fraction\": 0.5867615761835357}, {\"variable\": \"barcode_error\", \"pacbioRun\": \"LibA-221107\", \"level_2\": 30, \"cumulative_count\": 2532836.0, \"log10_error\": -5.484848484848484, \"meets_accuracy_cutoff\": true, \"cumulative_fraction\": 0.5882114149664793}, {\"variable\": \"barcode_error\", \"pacbioRun\": \"LibA-221107\", \"level_2\": 31, \"cumulative_count\": 2540446.0, \"log10_error\": -5.434343434343434, \"meets_accuracy_cutoff\": true, \"cumulative_fraction\": 0.5899787180480428}, {\"variable\": \"barcode_error\", \"pacbioRun\": \"LibA-221107\", \"level_2\": 32, \"cumulative_count\": 2546568.0, \"log10_error\": -5.383838383838384, \"meets_accuracy_cutoff\": true, \"cumulative_fraction\": 0.5914004564797553}, {\"variable\": \"barcode_error\", \"pacbioRun\": \"LibA-221107\", \"level_2\": 33, \"cumulative_count\": 2554199.0, \"log10_error\": -5.333333333333333, \"meets_accuracy_cutoff\": true, \"cumulative_fraction\": 0.5931726364817803}, {\"variable\": \"barcode_error\", \"pacbioRun\": \"LibA-221107\", \"level_2\": 34, \"cumulative_count\": 2560545.0, \"log10_error\": -5.282828282828283, \"meets_accuracy_cutoff\": true, \"cumulative_fraction\": 0.5946463953984166}, {\"variable\": \"barcode_error\", \"pacbioRun\": \"LibA-221107\", \"level_2\": 35, \"cumulative_count\": 2568315.0, \"log10_error\": -5.232323232323232, \"meets_accuracy_cutoff\": true, \"cumulative_fraction\": 0.5964508559692113}, {\"variable\": \"barcode_error\", \"pacbioRun\": \"LibA-221107\", \"level_2\": 36, \"cumulative_count\": 2574776.0, \"log10_error\": -5.181818181818182, \"meets_accuracy_cutoff\": true, \"cumulative_fraction\": 0.5979513218312326}, {\"variable\": \"barcode_error\", \"pacbioRun\": \"LibA-221107\", \"level_2\": 37, \"cumulative_count\": 2582381.0, \"log10_error\": -5.1313131313131315, \"meets_accuracy_cutoff\": true, \"cumulative_fraction\": 0.5997174637412576}, {\"variable\": \"barcode_error\", \"pacbioRun\": \"LibA-221107\", \"level_2\": 38, \"cumulative_count\": 2588844.0, \"log10_error\": -5.080808080808081, \"meets_accuracy_cutoff\": true, \"cumulative_fraction\": 0.6012183940718941}, {\"variable\": \"barcode_error\", \"pacbioRun\": \"LibA-221107\", \"level_2\": 39, \"cumulative_count\": 2596585.0, \"log10_error\": -5.03030303030303, \"meets_accuracy_cutoff\": true, \"cumulative_fraction\": 0.6030161198477658}, {\"variable\": \"barcode_error\", \"pacbioRun\": \"LibA-221107\", \"level_2\": 40, \"cumulative_count\": 2603098.0, \"log10_error\": -4.979797979797979, \"meets_accuracy_cutoff\": true, \"cumulative_fraction\": 0.6045286618937872}, {\"variable\": \"barcode_error\", \"pacbioRun\": \"LibA-221107\", \"level_2\": 41, \"cumulative_count\": 2610798.0, \"log10_error\": -4.929292929292929, \"meets_accuracy_cutoff\": true, \"cumulative_fraction\": 0.6063168660630432}, {\"variable\": \"barcode_error\", \"pacbioRun\": \"LibA-221107\", \"level_2\": 42, \"cumulative_count\": 2617439.0, \"log10_error\": -4.878787878787879, \"meets_accuracy_cutoff\": true, \"cumulative_fraction\": 0.6078591341004497}, {\"variable\": \"barcode_error\", \"pacbioRun\": \"LibA-221107\", \"level_2\": 43, \"cumulative_count\": 2625113.0, \"log10_error\": -4.828282828282829, \"meets_accuracy_cutoff\": true, \"cumulative_fraction\": 0.6096413001777057}, {\"variable\": \"barcode_error\", \"pacbioRun\": \"LibA-221107\", \"level_2\": 44, \"cumulative_count\": 2631835.0, \"log10_error\": -4.777777777777778, \"meets_accuracy_cutoff\": true, \"cumulative_fraction\": 0.6112023791940355}, {\"variable\": \"barcode_error\", \"pacbioRun\": \"LibA-221107\", \"level_2\": 45, \"cumulative_count\": 2639732.0, \"log10_error\": -4.7272727272727275, \"meets_accuracy_cutoff\": true, \"cumulative_fraction\": 0.6130363335219076}, {\"variable\": \"barcode_error\", \"pacbioRun\": \"LibA-221107\", \"level_2\": 46, \"cumulative_count\": 2646415.0, \"log10_error\": -4.6767676767676765, \"meets_accuracy_cutoff\": true, \"cumulative_fraction\": 0.6145883554002373}, {\"variable\": \"barcode_error\", \"pacbioRun\": \"LibA-221107\", \"level_2\": 47, \"cumulative_count\": 2654256.0, \"log10_error\": -4.626262626262626, \"meets_accuracy_cutoff\": true, \"cumulative_fraction\": 0.6164093046068784}, {\"variable\": \"barcode_error\", \"pacbioRun\": \"LibA-221107\", \"level_2\": 48, \"cumulative_count\": 2661054.0, \"log10_error\": -4.575757575757576, \"meets_accuracy_cutoff\": true, \"cumulative_fraction\": 0.617988033430593}, {\"variable\": \"barcode_error\", \"pacbioRun\": \"LibA-221107\", \"level_2\": 49, \"cumulative_count\": 2668931.0, \"log10_error\": -4.525252525252525, \"meets_accuracy_cutoff\": true, \"cumulative_fraction\": 0.6198173430723113}, {\"variable\": \"barcode_error\", \"pacbioRun\": \"LibA-221107\", \"level_2\": 50, \"cumulative_count\": 2675808.0, \"log10_error\": -4.474747474747475, \"meets_accuracy_cutoff\": true, \"cumulative_fraction\": 0.6214144184063338}, {\"variable\": \"barcode_error\", \"pacbioRun\": \"LibA-221107\", \"level_2\": 51, \"cumulative_count\": 2683684.0, \"log10_error\": -4.424242424242424, \"meets_accuracy_cutoff\": true, \"cumulative_fraction\": 0.6232434958137444}, {\"variable\": \"barcode_error\", \"pacbioRun\": \"LibA-221107\", \"level_2\": 52, \"cumulative_count\": 2690576.0, \"log10_error\": -4.373737373737374, \"meets_accuracy_cutoff\": true, \"cumulative_fraction\": 0.6248440546623824}, {\"variable\": \"barcode_error\", \"pacbioRun\": \"LibA-221107\", \"level_2\": 53, \"cumulative_count\": 2698402.0, \"log10_error\": -4.3232323232323235, \"meets_accuracy_cutoff\": true, \"cumulative_fraction\": 0.6266615203544081}, {\"variable\": \"barcode_error\", \"pacbioRun\": \"LibA-221107\", \"level_2\": 54, \"cumulative_count\": 2705292.0, \"log10_error\": -4.272727272727273, \"meets_accuracy_cutoff\": true, \"cumulative_fraction\": 0.6282616147344308}, {\"variable\": \"barcode_error\", \"pacbioRun\": \"LibA-221107\", \"level_2\": 55, \"cumulative_count\": 2712896.0, \"log10_error\": -4.222222222222222, \"meets_accuracy_cutoff\": true, \"cumulative_fraction\": 0.6300275244101481}, {\"variable\": \"barcode_error\", \"pacbioRun\": \"LibA-221107\", \"level_2\": 56, \"cumulative_count\": 2719774.0, \"log10_error\": -4.171717171717171, \"meets_accuracy_cutoff\": true, \"cumulative_fraction\": 0.6316248319784784}, {\"variable\": \"barcode_error\", \"pacbioRun\": \"LibA-221107\", \"level_2\": 57, \"cumulative_count\": 2727406.0, \"log10_error\": -4.121212121212121, \"meets_accuracy_cutoff\": true, \"cumulative_fraction\": 0.6333972442148111}, {\"variable\": \"barcode_error\", \"pacbioRun\": \"LibA-221107\", \"level_2\": 58, \"cumulative_count\": 2734274.0, \"log10_error\": -4.070707070707071, \"meets_accuracy_cutoff\": true, \"cumulative_fraction\": 0.6349922294400645}, {\"variable\": \"barcode_error\", \"pacbioRun\": \"LibA-221107\", \"level_2\": 59, \"cumulative_count\": 2741912.0, \"log10_error\": -4.020202020202021, \"meets_accuracy_cutoff\": true, \"cumulative_fraction\": 0.6367660350822435}, {\"variable\": \"barcode_error\", \"pacbioRun\": \"LibA-221107\", \"level_2\": 60, \"cumulative_count\": 2748953.0, \"log10_error\": -3.9696969696969697, \"meets_accuracy_cutoff\": false, \"cumulative_fraction\": 0.6384011968427281}, {\"variable\": \"barcode_error\", \"pacbioRun\": \"LibA-221107\", \"level_2\": 61, \"cumulative_count\": 2756614.0, \"log10_error\": -3.919191919191919, \"meets_accuracy_cutoff\": false, \"cumulative_fraction\": 0.640180343873984}, {\"variable\": \"barcode_error\", \"pacbioRun\": \"LibA-221107\", \"level_2\": 62, \"cumulative_count\": 2763582.0, \"log10_error\": -3.868686868686869, \"meets_accuracy_cutoff\": false, \"cumulative_fraction\": 0.641798552530007}, {\"variable\": \"barcode_error\", \"pacbioRun\": \"LibA-221107\", \"level_2\": 63, \"cumulative_count\": 2771098.0, \"log10_error\": -3.8181818181818183, \"meets_accuracy_cutoff\": false, \"cumulative_fraction\": 0.6435440255866471}, {\"variable\": \"barcode_error\", \"pacbioRun\": \"LibA-221107\", \"level_2\": 64, \"cumulative_count\": 2778107.0, \"log10_error\": -3.7676767676767677, \"meets_accuracy_cutoff\": false, \"cumulative_fraction\": 0.6451717558492855}, {\"variable\": \"barcode_error\", \"pacbioRun\": \"LibA-221107\", \"level_2\": 65, \"cumulative_count\": 2785680.0, \"log10_error\": -3.717171717171717, \"meets_accuracy_cutoff\": false, \"cumulative_fraction\": 0.6469304662614642}, {\"variable\": \"barcode_error\", \"pacbioRun\": \"LibA-221107\", \"level_2\": 66, \"cumulative_count\": 2792559.0, \"log10_error\": -3.6666666666666665, \"meets_accuracy_cutoff\": false, \"cumulative_fraction\": 0.6485280060641022}, {\"variable\": \"barcode_error\", \"pacbioRun\": \"LibA-221107\", \"level_2\": 67, \"cumulative_count\": 2800136.0, \"log10_error\": -3.6161616161616164, \"meets_accuracy_cutoff\": false, \"cumulative_fraction\": 0.6502876454135118}, {\"variable\": \"barcode_error\", \"pacbioRun\": \"LibA-221107\", \"level_2\": 68, \"cumulative_count\": 2807169.0, \"log10_error\": -3.5656565656565657, \"meets_accuracy_cutoff\": false, \"cumulative_fraction\": 0.6519209492995349}, {\"variable\": \"barcode_error\", \"pacbioRun\": \"LibA-221107\", \"level_2\": 69, \"cumulative_count\": 2814703.0, \"log10_error\": -3.515151515151515, \"meets_accuracy_cutoff\": false, \"cumulative_fraction\": 0.6536706025737135}, {\"variable\": \"barcode_error\", \"pacbioRun\": \"LibA-221107\", \"level_2\": 70, \"cumulative_count\": 2821522.0, \"log10_error\": -3.4646464646464645, \"meets_accuracy_cutoff\": false, \"cumulative_fraction\": 0.6552542083178897}, {\"variable\": \"barcode_error\", \"pacbioRun\": \"LibA-221107\", \"level_2\": 71, \"cumulative_count\": 2828974.0, \"log10_error\": -3.4141414141414144, \"meets_accuracy_cutoff\": false, \"cumulative_fraction\": 0.6569848183788374}, {\"variable\": \"barcode_error\", \"pacbioRun\": \"LibA-221107\", \"level_2\": 72, \"cumulative_count\": 2835952.0, \"log10_error\": -3.3636363636363638, \"meets_accuracy_cutoff\": false, \"cumulative_fraction\": 0.6586053493779371}, {\"variable\": \"barcode_error\", \"pacbioRun\": \"LibA-221107\", \"level_2\": 73, \"cumulative_count\": 2843235.0, \"log10_error\": -3.313131313131313, \"meets_accuracy_cutoff\": false, \"cumulative_fraction\": 0.6602967118408842}, {\"variable\": \"barcode_error\", \"pacbioRun\": \"LibA-221107\", \"level_2\": 74, \"cumulative_count\": 2849967.0, \"log10_error\": -3.2626262626262625, \"meets_accuracy_cutoff\": false, \"cumulative_fraction\": 0.6618601132002909}, {\"variable\": \"barcode_error\", \"pacbioRun\": \"LibA-221107\", \"level_2\": 75, \"cumulative_count\": 2857295.0, \"log10_error\": -3.2121212121212124, \"meets_accuracy_cutoff\": false, \"cumulative_fraction\": 0.6635619262070842}, {\"variable\": \"barcode_error\", \"pacbioRun\": \"LibA-221107\", \"level_2\": 76, \"cumulative_count\": 2863909.0, \"log10_error\": -3.1616161616161618, \"meets_accuracy_cutoff\": false, \"cumulative_fraction\": 0.6650979239181829}, {\"variable\": \"barcode_error\", \"pacbioRun\": \"LibA-221107\", \"level_2\": 77, \"cumulative_count\": 2871122.0, \"log10_error\": -3.111111111111111, \"meets_accuracy_cutoff\": false, \"cumulative_fraction\": 0.6667730299795912}, {\"variable\": \"barcode_error\", \"pacbioRun\": \"LibA-221107\", \"level_2\": 78, \"cumulative_count\": 2877674.0, \"log10_error\": -3.0606060606060606, \"meets_accuracy_cutoff\": false, \"cumulative_fraction\": 0.6682946291636128}, {\"variable\": \"barcode_error\", \"pacbioRun\": \"LibA-221107\", \"level_2\": 79, \"cumulative_count\": 2884625.0, \"log10_error\": -3.0101010101010104, \"meets_accuracy_cutoff\": false, \"cumulative_fraction\": 0.6699088898364048}, {\"variable\": \"barcode_error\", \"pacbioRun\": \"LibA-221107\", \"level_2\": 80, \"cumulative_count\": 2891000.0, \"log10_error\": -2.9595959595959593, \"meets_accuracy_cutoff\": false, \"cumulative_fraction\": 0.6713893835479643}, {\"variable\": \"barcode_error\", \"pacbioRun\": \"LibA-221107\", \"level_2\": 81, \"cumulative_count\": 2897867.0, \"log10_error\": -2.909090909090909, \"meets_accuracy_cutoff\": false, \"cumulative_fraction\": 0.67298413653891}, {\"variable\": \"barcode_error\", \"pacbioRun\": \"LibA-221107\", \"level_2\": 82, \"cumulative_count\": 2903989.0, \"log10_error\": -2.858585858585859, \"meets_accuracy_cutoff\": false, \"cumulative_fraction\": 0.6744058749706223}, {\"variable\": \"barcode_error\", \"pacbioRun\": \"LibA-221107\", \"level_2\": 83, \"cumulative_count\": 2910734.0, \"log10_error\": -2.808080808080808, \"meets_accuracy_cutoff\": false, \"cumulative_fraction\": 0.6759722953760291}, {\"variable\": \"barcode_error\", \"pacbioRun\": \"LibA-221107\", \"level_2\": 84, \"cumulative_count\": 2916690.0, \"log10_error\": -2.757575757575758, \"meets_accuracy_cutoff\": false, \"cumulative_fraction\": 0.6773554829126641}, {\"variable\": \"barcode_error\", \"pacbioRun\": \"LibA-221107\", \"level_2\": 85, \"cumulative_count\": 2923093.0, \"log10_error\": -2.7070707070707067, \"meets_accuracy_cutoff\": false, \"cumulative_fraction\": 0.678842479184839}, {\"variable\": \"barcode_error\", \"pacbioRun\": \"LibA-221107\", \"level_2\": 86, \"cumulative_count\": 2928818.0, \"log10_error\": -2.6565656565656566, \"meets_accuracy_cutoff\": false, \"cumulative_fraction\": 0.6801720205963963}, {\"variable\": \"barcode_error\", \"pacbioRun\": \"LibA-221107\", \"level_2\": 87, \"cumulative_count\": 2935198.0, \"log10_error\": -2.6060606060606064, \"meets_accuracy_cutoff\": false, \"cumulative_fraction\": 0.6816536754794942}, {\"variable\": \"barcode_error\", \"pacbioRun\": \"LibA-221107\", \"level_2\": 88, \"cumulative_count\": 2940790.0, \"log10_error\": -2.5555555555555554, \"meets_accuracy_cutoff\": false, \"cumulative_fraction\": 0.6829523297281279}, {\"variable\": \"barcode_error\", \"pacbioRun\": \"LibA-221107\", \"level_2\": 89, \"cumulative_count\": 2946894.0, \"log10_error\": -2.505050505050505, \"meets_accuracy_cutoff\": false, \"cumulative_fraction\": 0.6843698879423018}, {\"variable\": \"barcode_error\", \"pacbioRun\": \"LibA-221107\", \"level_2\": 90, \"cumulative_count\": 2952263.0, \"log10_error\": -2.454545454545455, \"meets_accuracy_cutoff\": false, \"cumulative_fraction\": 0.6856167539403195}, {\"variable\": \"barcode_error\", \"pacbioRun\": \"LibA-221107\", \"level_2\": 91, \"cumulative_count\": 2958401.0, \"log10_error\": -2.404040404040404, \"meets_accuracy_cutoff\": false, \"cumulative_fraction\": 0.6870422081209551}, {\"variable\": \"barcode_error\", \"pacbioRun\": \"LibA-221107\", \"level_2\": 92, \"cumulative_count\": 2963505.0, \"log10_error\": -2.353535353535354, \"meets_accuracy_cutoff\": false, \"cumulative_fraction\": 0.6882275320274334}, {\"variable\": \"barcode_error\", \"pacbioRun\": \"LibA-221107\", \"level_2\": 93, \"cumulative_count\": 2969368.0, \"log10_error\": -2.3030303030303028, \"meets_accuracy_cutoff\": false, \"cumulative_fraction\": 0.6895891217734527}, {\"variable\": \"barcode_error\", \"pacbioRun\": \"LibA-221107\", \"level_2\": 94, \"cumulative_count\": 2974181.0, \"log10_error\": -2.2525252525252526, \"meets_accuracy_cutoff\": false, \"cumulative_fraction\": 0.6907068654963916}, {\"variable\": \"barcode_error\", \"pacbioRun\": \"LibA-221107\", \"level_2\": 95, \"cumulative_count\": 2979745.0, \"log10_error\": -2.2020202020202024, \"meets_accuracy_cutoff\": false, \"cumulative_fraction\": 0.6919990171844098}, {\"variable\": \"barcode_error\", \"pacbioRun\": \"LibA-221107\", \"level_2\": 96, \"cumulative_count\": 2984421.0, \"log10_error\": -2.1515151515151514, \"meets_accuracy_cutoff\": false, \"cumulative_fraction\": 0.6930849448071944}, {\"variable\": \"barcode_error\", \"pacbioRun\": \"LibA-221107\", \"level_2\": 97, \"cumulative_count\": 2989770.0, \"log10_error\": -2.101010101010101, \"meets_accuracy_cutoff\": false, \"cumulative_fraction\": 0.6943271661190582}, {\"variable\": \"barcode_error\", \"pacbioRun\": \"LibA-221107\", \"level_2\": 98, \"cumulative_count\": 2994324.0, \"log10_error\": -2.05050505050505, \"meets_accuracy_cutoff\": false, \"cumulative_fraction\": 0.6953847611563039}, {\"variable\": \"barcode_error\", \"pacbioRun\": \"LibA-221107\", \"level_2\": 99, \"cumulative_count\": 2999591.0, \"log10_error\": -2.0, \"meets_accuracy_cutoff\": false, \"cumulative_fraction\": 0.6966079392549366}, {\"variable\": \"barcode_error\", \"pacbioRun\": \"LibB-221107\", \"level_2\": 0, \"cumulative_count\": 994527.0, \"log10_error\": -7.0, \"meets_accuracy_cutoff\": true, \"cumulative_fraction\": 0.23096328932957672}, {\"variable\": \"barcode_error\", \"pacbioRun\": \"LibB-221107\", \"level_2\": 1, \"cumulative_count\": 996729.0, \"log10_error\": -6.94949494949495, \"meets_accuracy_cutoff\": true, \"cumulative_fraction\": 0.23147466927512242}, {\"variable\": \"barcode_error\", \"pacbioRun\": \"LibB-221107\", \"level_2\": 2, \"cumulative_count\": 998464.0, \"log10_error\": -6.898989898989899, \"meets_accuracy_cutoff\": true, \"cumulative_fraction\": 0.23187759579897427}, {\"variable\": \"barcode_error\", \"pacbioRun\": \"LibB-221107\", \"level_2\": 3, \"cumulative_count\": 1000680.0, \"log10_error\": -6.848484848484849, \"meets_accuracy_cutoff\": true, \"cumulative_fraction\": 0.2323922270248277}, {\"variable\": \"barcode_error\", \"pacbioRun\": \"LibB-221107\", \"level_2\": 4, \"cumulative_count\": 1002372.0, \"log10_error\": -6.797979797979798, \"meets_accuracy_cutoff\": true, \"cumulative_fraction\": 0.23278516747344866}, {\"variable\": \"barcode_error\", \"pacbioRun\": \"LibB-221107\", \"level_2\": 5, \"cumulative_count\": 1004685.0, \"log10_error\": -6.747474747474747, \"meets_accuracy_cutoff\": true, \"cumulative_fraction\": 0.23332232542714856}, {\"variable\": \"barcode_error\", \"pacbioRun\": \"LibB-221107\", \"level_2\": 6, \"cumulative_count\": 1006434.0, \"log10_error\": -6.696969696969697, \"meets_accuracy_cutoff\": true, \"cumulative_fraction\": 0.23372850323130814}, {\"variable\": \"barcode_error\", \"pacbioRun\": \"LibB-221107\", \"level_2\": 7, \"cumulative_count\": 1008617.0, \"log10_error\": -6.646464646464646, \"meets_accuracy_cutoff\": true, \"cumulative_fraction\": 0.23423547072500764}, {\"variable\": \"barcode_error\", \"pacbioRun\": \"LibB-221107\", \"level_2\": 8, \"cumulative_count\": 1010302.0, \"log10_error\": -6.595959595959596, \"meets_accuracy_cutoff\": true, \"cumulative_fraction\": 0.2346267855334747}, {\"variable\": \"barcode_error\", \"pacbioRun\": \"LibB-221107\", \"level_2\": 9, \"cumulative_count\": 1012656.0, \"log10_error\": -6.545454545454546, \"meets_accuracy_cutoff\": true, \"cumulative_fraction\": 0.23517346509379014}, {\"variable\": \"barcode_error\", \"pacbioRun\": \"LibB-221107\", \"level_2\": 10, \"cumulative_count\": 1014363.0, \"log10_error\": -6.494949494949495, \"meets_accuracy_cutoff\": true, \"cumulative_fraction\": 0.23556988905702653}, {\"variable\": \"barcode_error\", \"pacbioRun\": \"LibB-221107\", \"level_2\": 11, \"cumulative_count\": 1016672.0, \"log10_error\": -6.444444444444445, \"meets_accuracy_cutoff\": true, \"cumulative_fraction\": 0.23610611807349566}, {\"variable\": \"barcode_error\", \"pacbioRun\": \"LibB-221107\", \"level_2\": 12, \"cumulative_count\": 1018418.0, \"log10_error\": -6.393939393939394, \"meets_accuracy_cutoff\": true, \"cumulative_fraction\": 0.23651159917473216}, {\"variable\": \"barcode_error\", \"pacbioRun\": \"LibB-221107\", \"level_2\": 13, \"cumulative_count\": 1020764.0, \"log10_error\": -6.343434343434343, \"meets_accuracy_cutoff\": true, \"cumulative_fraction\": 0.23705642086058604}, {\"variable\": \"barcode_error\", \"pacbioRun\": \"LibB-221107\", \"level_2\": 14, \"cumulative_count\": 1022500.0, \"log10_error\": -6.292929292929293, \"meets_accuracy_cutoff\": true, \"cumulative_fraction\": 0.2374595796187456}, {\"variable\": \"barcode_error\", \"pacbioRun\": \"LibB-221107\", \"level_2\": 15, \"cumulative_count\": 1024860.0, \"log10_error\": -6.242424242424242, \"meets_accuracy_cutoff\": true, \"cumulative_fraction\": 0.2380076525849072}, {\"variable\": \"barcode_error\", \"pacbioRun\": \"LibB-221107\", \"level_2\": 16, \"cumulative_count\": 1026682.0, \"log10_error\": -6.191919191919192, \"meets_accuracy_cutoff\": true, \"cumulative_fraction\": 0.23843078349352856}, {\"variable\": \"barcode_error\", \"pacbioRun\": \"LibB-221107\", \"level_2\": 17, \"cumulative_count\": 1029051.0, \"log10_error\": -6.141414141414142, \"meets_accuracy_cutoff\": true, \"cumulative_fraction\": 0.23898094656845942}, {\"variable\": \"barcode_error\", \"pacbioRun\": \"LibB-221107\", \"level_2\": 18, \"cumulative_count\": 1030783.0, \"log10_error\": -6.090909090909091, \"meets_accuracy_cutoff\": true, \"cumulative_fraction\": 0.2393831763893882}, {\"variable\": \"barcode_error\", \"pacbioRun\": \"LibB-221107\", \"level_2\": 19, \"cumulative_count\": 1033158.0, \"log10_error\": -6.040404040404041, \"meets_accuracy_cutoff\": true, \"cumulative_fraction\": 0.23993473287016523}, {\"variable\": \"barcode_error\", \"pacbioRun\": \"LibB-221107\", \"level_2\": 20, \"cumulative_count\": 1034951.0, \"log10_error\": -5.98989898989899, \"meets_accuracy_cutoff\": true, \"cumulative_fraction\": 0.24035112898386343}, {\"variable\": \"barcode_error\", \"pacbioRun\": \"LibB-221107\", \"level_2\": 21, \"cumulative_count\": 1037372.0, \"log10_error\": -5.9393939393939394, \"meets_accuracy_cutoff\": true, \"cumulative_fraction\": 0.24091336824279447}, {\"variable\": \"barcode_error\", \"pacbioRun\": \"LibB-221107\", \"level_2\": 22, \"cumulative_count\": 1039213.0, \"log10_error\": -5.888888888888889, \"meets_accuracy_cutoff\": true, \"cumulative_fraction\": 0.24134091160326204}, {\"variable\": \"barcode_error\", \"pacbioRun\": \"LibB-221107\", \"level_2\": 23, \"cumulative_count\": 1041641.0, \"log10_error\": -5.838383838383838, \"meets_accuracy_cutoff\": true, \"cumulative_fraction\": 0.24190477650234696}, {\"variable\": \"barcode_error\", \"pacbioRun\": \"LibB-221107\", \"level_2\": 24, \"cumulative_count\": 1043409.0, \"log10_error\": -5.787878787878788, \"meets_accuracy_cutoff\": true, \"cumulative_fraction\": 0.24231536675835277}, {\"variable\": \"barcode_error\", \"pacbioRun\": \"LibB-221107\", \"level_2\": 25, \"cumulative_count\": 1045867.0, \"log10_error\": -5.737373737373737, \"meets_accuracy_cutoff\": true, \"cumulative_fraction\": 0.24288619868666855}, {\"variable\": \"barcode_error\", \"pacbioRun\": \"LibB-221107\", \"level_2\": 26, \"cumulative_count\": 1047823.0, \"log10_error\": -5.686868686868687, \"meets_accuracy_cutoff\": true, \"cumulative_fraction\": 0.24334044899252114}, {\"variable\": \"barcode_error\", \"pacbioRun\": \"LibB-221107\", \"level_2\": 27, \"cumulative_count\": 1050215.0, \"log10_error\": -5.636363636363637, \"meets_accuracy_cutoff\": true, \"cumulative_fraction\": 0.24389595345652898}, {\"variable\": \"barcode_error\", \"pacbioRun\": \"LibB-221107\", \"level_2\": 28, \"cumulative_count\": 1052195.0, \"log10_error\": -5.585858585858586, \"meets_accuracy_cutoff\": true, \"cumulative_fraction\": 0.24435577738576628}, {\"variable\": \"barcode_error\", \"pacbioRun\": \"LibB-221107\", \"level_2\": 29, \"cumulative_count\": 1054691.0, \"log10_error\": -5.5353535353535355, \"meets_accuracy_cutoff\": true, \"cumulative_fraction\": 0.24493543421777447}, {\"variable\": \"barcode_error\", \"pacbioRun\": \"LibB-221107\", \"level_2\": 30, \"cumulative_count\": 1056687.0, \"log10_error\": -5.484848484848484, \"meets_accuracy_cutoff\": true, \"cumulative_fraction\": 0.24539897389593487}, {\"variable\": \"barcode_error\", \"pacbioRun\": \"LibB-221107\", \"level_2\": 31, \"cumulative_count\": 1059025.0, \"log10_error\": -5.434343434343434, \"meets_accuracy_cutoff\": true, \"cumulative_fraction\": 0.24594193770732717}, {\"variable\": \"barcode_error\", \"pacbioRun\": \"LibB-221107\", \"level_2\": 32, \"cumulative_count\": 1061058.0, \"log10_error\": -5.383838383838384, \"meets_accuracy_cutoff\": true, \"cumulative_fraction\": 0.24641407005487231}, {\"variable\": \"barcode_error\", \"pacbioRun\": \"LibB-221107\", \"level_2\": 33, \"cumulative_count\": 1063533.0, \"log10_error\": -5.333333333333333, \"meets_accuracy_cutoff\": true, \"cumulative_fraction\": 0.24698884996641893}, {\"variable\": \"barcode_error\", \"pacbioRun\": \"LibB-221107\", \"level_2\": 34, \"cumulative_count\": 1065455.0, \"log10_error\": -5.282828282828283, \"meets_accuracy_cutoff\": true, \"cumulative_fraction\": 0.24743520430580984}, {\"variable\": \"barcode_error\", \"pacbioRun\": \"LibB-221107\", \"level_2\": 35, \"cumulative_count\": 1067914.0, \"log10_error\": -5.232323232323232, \"meets_accuracy_cutoff\": true, \"cumulative_fraction\": 0.24800626846843332}, {\"variable\": \"barcode_error\", \"pacbioRun\": \"LibB-221107\", \"level_2\": 36, \"cumulative_count\": 1069909.0, \"log10_error\": -5.181818181818182, \"meets_accuracy_cutoff\": true, \"cumulative_fraction\": 0.24846957591228602}, {\"variable\": \"barcode_error\", \"pacbioRun\": \"LibB-221107\", \"level_2\": 37, \"cumulative_count\": 1072373.0, \"log10_error\": -5.1313131313131315, \"meets_accuracy_cutoff\": true, \"cumulative_fraction\": 0.24904180124644798}, {\"variable\": \"barcode_error\", \"pacbioRun\": \"LibB-221107\", \"level_2\": 38, \"cumulative_count\": 1074496.0, \"log10_error\": -5.080808080808081, \"meets_accuracy_cutoff\": true, \"cumulative_fraction\": 0.24953483468168572}, {\"variable\": \"barcode_error\", \"pacbioRun\": \"LibB-221107\", \"level_2\": 39, \"cumulative_count\": 1077017.0, \"log10_error\": -5.03030303030303, \"meets_accuracy_cutoff\": true, \"cumulative_fraction\": 0.2501202973713863}, {\"variable\": \"barcode_error\", \"pacbioRun\": \"LibB-221107\", \"level_2\": 40, \"cumulative_count\": 1079025.0, \"log10_error\": -4.979797979797979, \"meets_accuracy_cutoff\": true, \"cumulative_fraction\": 0.2505866238612391}, {\"variable\": \"barcode_error\", \"pacbioRun\": \"LibB-221107\", \"level_2\": 41, \"cumulative_count\": 1081586.0, \"log10_error\": -4.929292929292929, \"meets_accuracy_cutoff\": true, \"cumulative_fraction\": 0.25118137592324746}, {\"variable\": \"barcode_error\", \"pacbioRun\": \"LibB-221107\", \"level_2\": 42, \"cumulative_count\": 1083729.0, \"log10_error\": -4.878787878787879, \"meets_accuracy_cutoff\": true, \"cumulative_fraction\": 0.25167905404463914}, {\"variable\": \"barcode_error\", \"pacbioRun\": \"LibB-221107\", \"level_2\": 43, \"cumulative_count\": 1086326.0, \"log10_error\": -4.828282828282829, \"meets_accuracy_cutoff\": true, \"cumulative_fraction\": 0.2522821665417246}, {\"variable\": \"barcode_error\", \"pacbioRun\": \"LibB-221107\", \"level_2\": 44, \"cumulative_count\": 1088462.0, \"log10_error\": -4.777777777777778, \"meets_accuracy_cutoff\": true, \"cumulative_fraction\": 0.2527782190229624}, {\"variable\": \"barcode_error\", \"pacbioRun\": \"LibB-221107\", \"level_2\": 45, \"cumulative_count\": 1091075.0, \"log10_error\": -4.7272727272727275, \"meets_accuracy_cutoff\": true, \"cumulative_fraction\": 0.253385047268971}, {\"variable\": \"barcode_error\", \"pacbioRun\": \"LibB-221107\", \"level_2\": 46, \"cumulative_count\": 1093302.0, \"log10_error\": -4.6767676767676765, \"meets_accuracy_cutoff\": true, \"cumulative_fraction\": 0.2539022330722091}, {\"variable\": \"barcode_error\", \"pacbioRun\": \"LibB-221107\", \"level_2\": 47, \"cumulative_count\": 1095850.0, \"log10_error\": -4.626262626262626, \"meets_accuracy_cutoff\": true, \"cumulative_fraction\": 0.25449396608821745}, {\"variable\": \"barcode_error\", \"pacbioRun\": \"LibB-221107\", \"level_2\": 48, \"cumulative_count\": 1098037.0, \"log10_error\": -4.575757575757576, \"meets_accuracy_cutoff\": true, \"cumulative_fraction\": 0.2550018625191477}, {\"variable\": \"barcode_error\", \"pacbioRun\": \"LibB-221107\", \"level_2\": 49, \"cumulative_count\": 1100531.0, \"log10_error\": -4.525252525252525, \"meets_accuracy_cutoff\": true, \"cumulative_fraction\": 0.2555810548825405}, {\"variable\": \"barcode_error\", \"pacbioRun\": \"LibB-221107\", \"level_2\": 50, \"cumulative_count\": 1102742.0, \"log10_error\": -4.474747474747475, \"meets_accuracy_cutoff\": true, \"cumulative_fraction\": 0.25609452493685547}, {\"variable\": \"barcode_error\", \"pacbioRun\": \"LibB-221107\", \"level_2\": 51, \"cumulative_count\": 1105220.0, \"log10_error\": -4.424242424242424, \"meets_accuracy_cutoff\": true, \"cumulative_fraction\": 0.2566700015513252}, {\"variable\": \"barcode_error\", \"pacbioRun\": \"LibB-221107\", \"level_2\": 52, \"cumulative_count\": 1107454.0, \"log10_error\": -4.373737373737374, \"meets_accuracy_cutoff\": true, \"cumulative_fraction\": 0.25718881299471713}, {\"variable\": \"barcode_error\", \"pacbioRun\": \"LibB-221107\", \"level_2\": 53, \"cumulative_count\": 1110032.0, \"log10_error\": -4.3232323232323235, \"meets_accuracy_cutoff\": true, \"cumulative_fraction\": 0.2577875130399564}, {\"variable\": \"barcode_error\", \"pacbioRun\": \"LibB-221107\", \"level_2\": 54, \"cumulative_count\": 1112308.0, \"log10_error\": -4.272727272727273, \"meets_accuracy_cutoff\": true, \"cumulative_fraction\": 0.25831607832427156}, {\"variable\": \"barcode_error\", \"pacbioRun\": \"LibB-221107\", \"level_2\": 55, \"cumulative_count\": 1114863.0, \"log10_error\": -4.222222222222222, \"meets_accuracy_cutoff\": true, \"cumulative_fraction\": 0.2589094369804338}, {\"variable\": \"barcode_error\", \"pacbioRun\": \"LibB-221107\", \"level_2\": 56, \"cumulative_count\": 1117117.0, \"log10_error\": -4.171717171717171, \"meets_accuracy_cutoff\": true, \"cumulative_fraction\": 0.2594328931099797}, {\"variable\": \"barcode_error\", \"pacbioRun\": \"LibB-221107\", \"level_2\": 57, \"cumulative_count\": 1119543.0, \"log10_error\": -4.121212121212121, \"meets_accuracy_cutoff\": true, \"cumulative_fraction\": 0.2599962935404492}, {\"variable\": \"barcode_error\", \"pacbioRun\": \"LibB-221107\", \"level_2\": 58, \"cumulative_count\": 1121829.0, \"log10_error\": -4.070707070707071, \"meets_accuracy_cutoff\": true, \"cumulative_fraction\": 0.2605271811678413}, {\"variable\": \"barcode_error\", \"pacbioRun\": \"LibB-221107\", \"level_2\": 59, \"cumulative_count\": 1124300.0, \"log10_error\": -4.020202020202021, \"meets_accuracy_cutoff\": true, \"cumulative_fraction\": 0.26110103214215713}, {\"variable\": \"barcode_error\", \"pacbioRun\": \"LibB-221107\", \"level_2\": 60, \"cumulative_count\": 1126564.0, \"log10_error\": -3.9696969696969697, \"meets_accuracy_cutoff\": false, \"cumulative_fraction\": 0.26162681061477994}, {\"variable\": \"barcode_error\", \"pacbioRun\": \"LibB-221107\", \"level_2\": 61, \"cumulative_count\": 1129091.0, \"log10_error\": -3.919191919191919, \"meets_accuracy_cutoff\": false, \"cumulative_fraction\": 0.2622136667103267}, {\"variable\": \"barcode_error\", \"pacbioRun\": \"LibB-221107\", \"level_2\": 62, \"cumulative_count\": 1131329.0, \"log10_error\": -3.868686868686869, \"meets_accuracy_cutoff\": false, \"cumulative_fraction\": 0.26273340709094944}, {\"variable\": \"barcode_error\", \"pacbioRun\": \"LibB-221107\", \"level_2\": 63, \"cumulative_count\": 1133800.0, \"log10_error\": -3.8181818181818183, \"meets_accuracy_cutoff\": false, \"cumulative_fraction\": 0.2633072580652653}, {\"variable\": \"barcode_error\", \"pacbioRun\": \"LibB-221107\", \"level_2\": 64, \"cumulative_count\": 1136059.0, \"log10_error\": -3.7676767676767677, \"meets_accuracy_cutoff\": false, \"cumulative_fraction\": 0.2638318753663496}, {\"variable\": \"barcode_error\", \"pacbioRun\": \"LibB-221107\", \"level_2\": 65, \"cumulative_count\": 1138589.0, \"log10_error\": -3.717171717171717, \"meets_accuracy_cutoff\": false, \"cumulative_fraction\": 0.26441942816481945}, {\"variable\": \"barcode_error\", \"pacbioRun\": \"LibB-221107\", \"level_2\": 66, \"cumulative_count\": 1140812.0, \"log10_error\": -3.6666666666666665, \"meets_accuracy_cutoff\": false, \"cumulative_fraction\": 0.26493568503082676}, {\"variable\": \"barcode_error\", \"pacbioRun\": \"LibB-221107\", \"level_2\": 67, \"cumulative_count\": 1143311.0, \"log10_error\": -3.6161616161616164, \"meets_accuracy_cutoff\": false, \"cumulative_fraction\": 0.26551603856575806}, {\"variable\": \"barcode_error\", \"pacbioRun\": \"LibB-221107\", \"level_2\": 68, \"cumulative_count\": 1145638.0, \"log10_error\": -3.5656565656565657, \"meets_accuracy_cutoff\": false, \"cumulative_fraction\": 0.2660564477997657}, {\"variable\": \"barcode_error\", \"pacbioRun\": \"LibB-221107\", \"level_2\": 69, \"cumulative_count\": 1148060.0, \"log10_error\": -3.515151515151515, \"meets_accuracy_cutoff\": false, \"cumulative_fraction\": 0.26661891929300446}, {\"variable\": \"barcode_error\", \"pacbioRun\": \"LibB-221107\", \"level_2\": 70, \"cumulative_count\": 1150357.0, \"log10_error\": -3.4646464646464645, \"meets_accuracy_cutoff\": false, \"cumulative_fraction\": 0.2671523614977812}, {\"variable\": \"barcode_error\", \"pacbioRun\": \"LibB-221107\", \"level_2\": 71, \"cumulative_count\": 1152805.0, \"log10_error\": -3.4141414141414144, \"meets_accuracy_cutoff\": false, \"cumulative_fraction\": 0.26772087108302006}, {\"variable\": \"barcode_error\", \"pacbioRun\": \"LibB-221107\", \"level_2\": 72, \"cumulative_count\": 1155052.0, \"log10_error\": -3.3636363636363638, \"meets_accuracy_cutoff\": false, \"cumulative_fraction\": 0.26824270157241203}, {\"variable\": \"barcode_error\", \"pacbioRun\": \"LibB-221107\", \"level_2\": 73, \"cumulative_count\": 1157560.0, \"log10_error\": -3.313131313131313, \"meets_accuracy_cutoff\": false, \"cumulative_fraction\": 0.2688251452161126}, {\"variable\": \"barcode_error\", \"pacbioRun\": \"LibB-221107\", \"level_2\": 74, \"cumulative_count\": 1159781.0, \"log10_error\": -3.2626262626262625, \"meets_accuracy_cutoff\": false, \"cumulative_fraction\": 0.2693409376135045}, {\"variable\": \"barcode_error\", \"pacbioRun\": \"LibB-221107\", \"level_2\": 75, \"cumulative_count\": 1162242.0, \"log10_error\": -3.2121212121212124, \"meets_accuracy_cutoff\": false, \"cumulative_fraction\": 0.26991246624474335}, {\"variable\": \"barcode_error\", \"pacbioRun\": \"LibB-221107\", \"level_2\": 76, \"cumulative_count\": 1164528.0, \"log10_error\": -3.1616161616161618, \"meets_accuracy_cutoff\": false, \"cumulative_fraction\": 0.27044335387213553}, {\"variable\": \"barcode_error\", \"pacbioRun\": \"LibB-221107\", \"level_2\": 77, \"cumulative_count\": 1166920.0, \"log10_error\": -3.111111111111111, \"meets_accuracy_cutoff\": false, \"cumulative_fraction\": 0.27099885833614334}, {\"variable\": \"barcode_error\", \"pacbioRun\": \"LibB-221107\", \"level_2\": 78, \"cumulative_count\": 1169028.0, \"log10_error\": -3.0606060606060606, \"meets_accuracy_cutoff\": false, \"cumulative_fraction\": 0.2714884082567657}, {\"variable\": \"barcode_error\", \"pacbioRun\": \"LibB-221107\", \"level_2\": 79, \"cumulative_count\": 1171443.0, \"log10_error\": -3.0101010101010104, \"meets_accuracy_cutoff\": false, \"cumulative_fraction\": 0.27204925410985054}, {\"variable\": \"barcode_error\", \"pacbioRun\": \"LibB-221107\", \"level_2\": 80, \"cumulative_count\": 1173595.0, \"log10_error\": -2.9595959595959593, \"meets_accuracy_cutoff\": false, \"cumulative_fraction\": 0.27254902234001144}, {\"variable\": \"barcode_error\", \"pacbioRun\": \"LibB-221107\", \"level_2\": 81, \"cumulative_count\": 1175859.0, \"log10_error\": -2.909090909090909, \"meets_accuracy_cutoff\": false, \"cumulative_fraction\": 0.2730748008126343}, {\"variable\": \"barcode_error\", \"pacbioRun\": \"LibB-221107\", \"level_2\": 82, \"cumulative_count\": 1177961.0, \"log10_error\": -2.858585858585859, \"meets_accuracy_cutoff\": false, \"cumulative_fraction\": 0.2735629573274104}, {\"variable\": \"barcode_error\", \"pacbioRun\": \"LibB-221107\", \"level_2\": 83, \"cumulative_count\": 1180157.0, \"log10_error\": -2.808080808080808, \"meets_accuracy_cutoff\": false, \"cumulative_fraction\": 0.27407294386710995}, {\"variable\": \"barcode_error\", \"pacbioRun\": \"LibB-221107\", \"level_2\": 84, \"cumulative_count\": 1182229.0, \"log10_error\": -2.757575757575758, \"meets_accuracy_cutoff\": false, \"cumulative_fraction\": 0.2745541333526552}, {\"variable\": \"barcode_error\", \"pacbioRun\": \"LibB-221107\", \"level_2\": 85, \"cumulative_count\": 1184377.0, \"log10_error\": -2.7070707070707067, \"meets_accuracy_cutoff\": false, \"cumulative_fraction\": 0.27505297264558537}, {\"variable\": \"barcode_error\", \"pacbioRun\": \"LibB-221107\", \"level_2\": 86, \"cumulative_count\": 1186348.0, \"log10_error\": -2.6565656565656566, \"meets_accuracy_cutoff\": false, \"cumulative_fraction\": 0.27551070646605336}, {\"variable\": \"barcode_error\", \"pacbioRun\": \"LibB-221107\", \"level_2\": 87, \"cumulative_count\": 1188439.0, \"log10_error\": -2.6060606060606064, \"meets_accuracy_cutoff\": false, \"cumulative_fraction\": 0.27599630840344486}, {\"variable\": \"barcode_error\", \"pacbioRun\": \"LibB-221107\", \"level_2\": 88, \"cumulative_count\": 1190273.0, \"log10_error\": -2.5555555555555554, \"meets_accuracy_cutoff\": false, \"cumulative_fraction\": 0.2764222261237586}, {\"variable\": \"barcode_error\", \"pacbioRun\": \"LibB-221107\", \"level_2\": 89, \"cumulative_count\": 1192372.0, \"log10_error\": -2.505050505050505, \"meets_accuracy_cutoff\": false, \"cumulative_fraction\": 0.27690968593561166}, {\"variable\": \"barcode_error\", \"pacbioRun\": \"LibB-221107\", \"level_2\": 90, \"cumulative_count\": 1194206.0, \"log10_error\": -2.454545454545455, \"meets_accuracy_cutoff\": false, \"cumulative_fraction\": 0.27733560365592536}, {\"variable\": \"barcode_error\", \"pacbioRun\": \"LibB-221107\", \"level_2\": 91, \"cumulative_count\": 1196156.0, \"log10_error\": -2.404040404040404, \"meets_accuracy_cutoff\": false, \"cumulative_fraction\": 0.27778846055593176}, {\"variable\": \"barcode_error\", \"pacbioRun\": \"LibB-221107\", \"level_2\": 92, \"cumulative_count\": 1197943.0, \"log10_error\": -2.353535353535354, \"meets_accuracy_cutoff\": false, \"cumulative_fraction\": 0.2782034632637838}, {\"variable\": \"barcode_error\", \"pacbioRun\": \"LibB-221107\", \"level_2\": 93, \"cumulative_count\": 1199841.0, \"log10_error\": -2.3030303030303028, \"meets_accuracy_cutoff\": false, \"cumulative_fraction\": 0.27864424397979004}, {\"variable\": \"barcode_error\", \"pacbioRun\": \"LibB-221107\", \"level_2\": 94, \"cumulative_count\": 1201457.0, \"log10_error\": -2.2525252525252526, \"meets_accuracy_cutoff\": false, \"cumulative_fraction\": 0.27901953462102613}, {\"variable\": \"barcode_error\", \"pacbioRun\": \"LibB-221107\", \"level_2\": 95, \"cumulative_count\": 1203287.0, \"log10_error\": -2.2020202020202024, \"meets_accuracy_cutoff\": false, \"cumulative_fraction\": 0.2794445234041091}, {\"variable\": \"barcode_error\", \"pacbioRun\": \"LibB-221107\", \"level_2\": 96, \"cumulative_count\": 1204811.0, \"log10_error\": -2.1515151515151514, \"meets_accuracy_cutoff\": false, \"cumulative_fraction\": 0.2797984484890371}, {\"variable\": \"barcode_error\", \"pacbioRun\": \"LibB-221107\", \"level_2\": 97, \"cumulative_count\": 1206678.0, \"log10_error\": -2.101010101010101, \"meets_accuracy_cutoff\": false, \"cumulative_fraction\": 0.2802320299415048}, {\"variable\": \"barcode_error\", \"pacbioRun\": \"LibB-221107\", \"level_2\": 98, \"cumulative_count\": 1208171.0, \"log10_error\": -2.05050505050505, \"meets_accuracy_cutoff\": false, \"cumulative_fraction\": 0.28057875576289437}, {\"variable\": \"barcode_error\", \"pacbioRun\": \"LibB-221107\", \"level_2\": 99, \"cumulative_count\": 1209909.0, \"log10_error\": -2.0, \"meets_accuracy_cutoff\": false, \"cumulative_fraction\": 0.28098237898966927}, {\"variable\": \"gene_error\", \"pacbioRun\": \"LibA-221107\", \"level_2\": 0, \"cumulative_count\": 1486949.0, \"log10_error\": -7.0, \"meets_accuracy_cutoff\": true, \"cumulative_fraction\": 0.34532057159365687}, {\"variable\": \"gene_error\", \"pacbioRun\": \"LibA-221107\", \"level_2\": 1, \"cumulative_count\": 1496858.0, \"log10_error\": -6.94949494949495, \"meets_accuracy_cutoff\": true, \"cumulative_fraction\": 0.3476217813486125}, {\"variable\": \"gene_error\", \"pacbioRun\": \"LibA-221107\", \"level_2\": 2, \"cumulative_count\": 1501402.0, \"log10_error\": -6.898989898989899, \"meets_accuracy_cutoff\": true, \"cumulative_fraction\": 0.34867705404278126}, {\"variable\": \"gene_error\", \"pacbioRun\": \"LibA-221107\", \"level_2\": 3, \"cumulative_count\": 1511414.0, \"log10_error\": -6.848484848484849, \"meets_accuracy_cutoff\": true, \"cumulative_fraction\": 0.35100218393142957}, {\"variable\": \"gene_error\", \"pacbioRun\": \"LibA-221107\", \"level_2\": 4, \"cumulative_count\": 1515977.0, \"log10_error\": -6.797979797979798, \"meets_accuracy_cutoff\": true, \"cumulative_fraction\": 0.3520618690774446}, {\"variable\": \"gene_error\", \"pacbioRun\": \"LibA-221107\", \"level_2\": 5, \"cumulative_count\": 1526085.0, \"log10_error\": -6.747474747474747, \"meets_accuracy_cutoff\": true, \"cumulative_fraction\": 0.3544092934596316}, {\"variable\": \"gene_error\", \"pacbioRun\": \"LibA-221107\", \"level_2\": 6, \"cumulative_count\": 1530812.0, \"log10_error\": -6.696969696969697, \"meets_accuracy_cutoff\": true, \"cumulative_fraction\": 0.3555070650321087}, {\"variable\": \"gene_error\", \"pacbioRun\": \"LibA-221107\", \"level_2\": 7, \"cumulative_count\": 1540910.0, \"log10_error\": -6.646464646464646, \"meets_accuracy_cutoff\": true, \"cumulative_fraction\": 0.3578521670712188}, {\"variable\": \"gene_error\", \"pacbioRun\": \"LibA-221107\", \"level_2\": 8, \"cumulative_count\": 1545713.0, \"log10_error\": -6.595959595959596, \"meets_accuracy_cutoff\": true, \"cumulative_fraction\": 0.3589675884510808}, {\"variable\": \"gene_error\", \"pacbioRun\": \"LibA-221107\", \"level_2\": 9, \"cumulative_count\": 1556296.0, \"log10_error\": -6.545454545454546, \"meets_accuracy_cutoff\": true, \"cumulative_fraction\": 0.36142532412942324}, {\"variable\": \"gene_error\", \"pacbioRun\": \"LibA-221107\", \"level_2\": 10, \"cumulative_count\": 1561292.0, \"log10_error\": -6.494949494949495, \"meets_accuracy_cutoff\": true, \"cumulative_fraction\": 0.36258556673067044}, {\"variable\": \"gene_error\", \"pacbioRun\": \"LibA-221107\", \"level_2\": 11, \"cumulative_count\": 1571871.0, \"log10_error\": -6.444444444444445, \"meets_accuracy_cutoff\": true, \"cumulative_fraction\": 0.36504237347178214}, {\"variable\": \"gene_error\", \"pacbioRun\": \"LibA-221107\", \"level_2\": 12, \"cumulative_count\": 1576894.0, \"log10_error\": -6.393939393939394, \"meets_accuracy_cutoff\": true, \"cumulative_fraction\": 0.36620888639933713}, {\"variable\": \"gene_error\", \"pacbioRun\": \"LibA-221107\", \"level_2\": 13, \"cumulative_count\": 1587562.0, \"log10_error\": -6.343434343434343, \"meets_accuracy_cutoff\": true, \"cumulative_fraction\": 0.3686863619938337}, {\"variable\": \"gene_error\", \"pacbioRun\": \"LibA-221107\", \"level_2\": 14, \"cumulative_count\": 1592726.0, \"log10_error\": -6.292929292929293, \"meets_accuracy_cutoff\": true, \"cumulative_fraction\": 0.3698856199587738}, {\"variable\": \"gene_error\", \"pacbioRun\": \"LibA-221107\", \"level_2\": 15, \"cumulative_count\": 1603700.0, \"log10_error\": -6.242424242424242, \"meets_accuracy_cutoff\": true, \"cumulative_fraction\": 0.3724341592514252}, {\"variable\": \"gene_error\", \"pacbioRun\": \"LibA-221107\", \"level_2\": 16, \"cumulative_count\": 1608946.0, \"log10_error\": -6.191919191919192, \"meets_accuracy_cutoff\": true, \"cumulative_fraction\": 0.3736524604295963}, {\"variable\": \"gene_error\", \"pacbioRun\": \"LibA-221107\", \"level_2\": 17, \"cumulative_count\": 1619818.0, \"log10_error\": -6.141414141414142, \"meets_accuracy_cutoff\": true, \"cumulative_fraction\": 0.3761773118228628}, {\"variable\": \"gene_error\", \"pacbioRun\": \"LibA-221107\", \"level_2\": 18, \"cumulative_count\": 1625071.0, \"log10_error\": -6.090909090909091, \"meets_accuracy_cutoff\": true, \"cumulative_fraction\": 0.3773972386411878}, {\"variable\": \"gene_error\", \"pacbioRun\": \"LibA-221107\", \"level_2\": 19, \"cumulative_count\": 1636364.0, \"log10_error\": -6.040404040404041, \"meets_accuracy_cutoff\": true, \"cumulative_fraction\": 0.38001986067799415}, {\"variable\": \"gene_error\", \"pacbioRun\": \"LibA-221107\", \"level_2\": 20, \"cumulative_count\": 1641686.0, \"log10_error\": -5.98989898989899, \"meets_accuracy_cutoff\": true, \"cumulative_fraction\": 0.3812558116635501}, {\"variable\": \"gene_error\", \"pacbioRun\": \"LibA-221107\", \"level_2\": 21, \"cumulative_count\": 1653147.0, \"log10_error\": -5.9393939393939394, \"meets_accuracy_cutoff\": true, \"cumulative_fraction\": 0.3839174490640493}, {\"variable\": \"gene_error\", \"pacbioRun\": \"LibA-221107\", \"level_2\": 22, \"cumulative_count\": 1658693.0, \"log10_error\": -5.888888888888889, \"meets_accuracy_cutoff\": true, \"cumulative_fraction\": 0.38520542053452905}, {\"variable\": \"gene_error\", \"pacbioRun\": \"LibA-221107\", \"level_2\": 23, \"cumulative_count\": 1670006.0, \"log10_error\": -5.838383838383838, \"meets_accuracy_cutoff\": true, \"cumulative_fraction\": 0.3878326872574893}, {\"variable\": \"gene_error\", \"pacbioRun\": \"LibA-221107\", \"level_2\": 24, \"cumulative_count\": 1675482.0, \"log10_error\": -5.787878787878788, \"meets_accuracy_cutoff\": true, \"cumulative_fraction\": 0.3891044023264304}, {\"variable\": \"gene_error\", \"pacbioRun\": \"LibA-221107\", \"level_2\": 25, \"cumulative_count\": 1687519.0, \"log10_error\": -5.737373737373737, \"meets_accuracy_cutoff\": true, \"cumulative_fraction\": 0.39189980668816227}, {\"variable\": \"gene_error\", \"pacbioRun\": \"LibA-221107\", \"level_2\": 26, \"cumulative_count\": 1693339.0, \"log10_error\": -5.686868686868687, \"meets_accuracy_cutoff\": true, \"cumulative_fraction\": 0.3932514103589506}, {\"variable\": \"gene_error\", \"pacbioRun\": \"LibA-221107\", \"level_2\": 27, \"cumulative_count\": 1705353.0, \"log10_error\": -5.636363636363637, \"meets_accuracy_cutoff\": true, \"cumulative_fraction\": 0.3960414733316055}, {\"variable\": \"gene_error\", \"pacbioRun\": \"LibA-221107\", \"level_2\": 28, \"cumulative_count\": 1711237.0, \"log10_error\": -5.585858585858586, \"meets_accuracy_cutoff\": true, \"cumulative_fraction\": 0.3974079399980864}, {\"variable\": \"gene_error\", \"pacbioRun\": \"LibA-221107\", \"level_2\": 29, \"cumulative_count\": 1723460.0, \"log10_error\": -5.5353535353535355, \"meets_accuracy_cutoff\": true, \"cumulative_fraction\": 0.40024653994104964}, {\"variable\": \"gene_error\", \"pacbioRun\": \"LibA-221107\", \"level_2\": 30, \"cumulative_count\": 1729454.0, \"log10_error\": -5.484848484848484, \"meets_accuracy_cutoff\": true, \"cumulative_fraction\": 0.401638552381377}, {\"variable\": \"gene_error\", \"pacbioRun\": \"LibA-221107\", \"level_2\": 31, \"cumulative_count\": 1741966.0, \"log10_error\": -5.434343434343434, \"meets_accuracy_cutoff\": true, \"cumulative_fraction\": 0.4045442680392643}, {\"variable\": \"gene_error\", \"pacbioRun\": \"LibA-221107\", \"level_2\": 32, \"cumulative_count\": 1748219.0, \"log10_error\": -5.383838383838384, \"meets_accuracy_cutoff\": true, \"cumulative_fraction\": 0.4059964291652849}, {\"variable\": \"gene_error\", \"pacbioRun\": \"LibA-221107\", \"level_2\": 33, \"cumulative_count\": 1761029.0, \"log10_error\": -5.333333333333333, \"meets_accuracy_cutoff\": true, \"cumulative_fraction\": 0.40897135064686546}, {\"variable\": \"gene_error\", \"pacbioRun\": \"LibA-221107\", \"level_2\": 34, \"cumulative_count\": 1767488.0, \"log10_error\": -5.282828282828283, \"meets_accuracy_cutoff\": true, \"cumulative_fraction\": 0.4104713520402713}, {\"variable\": \"gene_error\", \"pacbioRun\": \"LibA-221107\", \"level_2\": 35, \"cumulative_count\": 1780593.0, \"log10_error\": -5.232323232323232, \"meets_accuracy_cutoff\": true, \"cumulative_fraction\": 0.41351478264262204}, {\"variable\": \"gene_error\", \"pacbioRun\": \"LibA-221107\", \"level_2\": 36, \"cumulative_count\": 1787230.0, \"log10_error\": -5.181818181818182, \"meets_accuracy_cutoff\": true, \"cumulative_fraction\": 0.4150561217427977}, {\"variable\": \"gene_error\", \"pacbioRun\": \"LibA-221107\", \"level_2\": 37, \"cumulative_count\": 1800715.0, \"log10_error\": -5.1313131313131315, \"meets_accuracy_cutoff\": true, \"cumulative_fraction\": 0.4181878013820728}, {\"variable\": \"gene_error\", \"pacbioRun\": \"LibA-221107\", \"level_2\": 38, \"cumulative_count\": 1807703.0, \"log10_error\": -5.080808080808081, \"meets_accuracy_cutoff\": true, \"cumulative_fraction\": 0.4198106547242496}, {\"variable\": \"gene_error\", \"pacbioRun\": \"LibA-221107\", \"level_2\": 39, \"cumulative_count\": 1821412.0, \"log10_error\": -5.03030303030303, \"meets_accuracy_cutoff\": true, \"cumulative_fraction\": 0.42299435484844855}, {\"variable\": \"gene_error\", \"pacbioRun\": \"LibA-221107\", \"level_2\": 40, \"cumulative_count\": 1828546.0, \"log10_error\": -4.979797979797979, \"meets_accuracy_cutoff\": true, \"cumulative_fraction\": 0.4246511143995489}, {\"variable\": \"gene_error\", \"pacbioRun\": \"LibA-221107\", \"level_2\": 41, \"cumulative_count\": 1842679.0, \"log10_error\": -4.929292929292929, \"meets_accuracy_cutoff\": true, \"cumulative_fraction\": 0.42793328187021074}, {\"variable\": \"gene_error\", \"pacbioRun\": \"LibA-221107\", \"level_2\": 42, \"cumulative_count\": 1849974.0, \"log10_error\": -4.878787878787879, \"meets_accuracy_cutoff\": true, \"cumulative_fraction\": 0.42962743114485014}, {\"variable\": \"gene_error\", \"pacbioRun\": \"LibA-221107\", \"level_2\": 43, \"cumulative_count\": 1864474.0, \"log10_error\": -4.828282828282829, \"meets_accuracy_cutoff\": true, \"cumulative_fraction\": 0.43299482860643623}, {\"variable\": \"gene_error\", \"pacbioRun\": \"LibA-221107\", \"level_2\": 44, \"cumulative_count\": 1872072.0, \"log10_error\": -4.777777777777778, \"meets_accuracy_cutoff\": true, \"cumulative_fraction\": 0.43475934487630735}, {\"variable\": \"gene_error\", \"pacbioRun\": \"LibA-221107\", \"level_2\": 45, \"cumulative_count\": 1887074.0, \"log10_error\": -4.7272727272727275, \"meets_accuracy_cutoff\": true, \"cumulative_fraction\": 0.4382433239603567}, {\"variable\": \"gene_error\", \"pacbioRun\": \"LibA-221107\", \"level_2\": 46, \"cumulative_count\": 1895231.0, \"log10_error\": -4.6767676767676765, \"meets_accuracy_cutoff\": true, \"cumulative_fraction\": 0.4401376592082296}, {\"variable\": \"gene_error\", \"pacbioRun\": \"LibA-221107\", \"level_2\": 47, \"cumulative_count\": 1910976.0, \"log10_error\": -4.626262626262626, \"meets_accuracy_cutoff\": true, \"cumulative_fraction\": 0.4437941883828968}, {\"variable\": \"gene_error\", \"pacbioRun\": \"LibA-221107\", \"level_2\": 48, \"cumulative_count\": 1919314.0, \"log10_error\": -4.575757575757576, \"meets_accuracy_cutoff\": true, \"cumulative_fraction\": 0.44573055804046263}, {\"variable\": \"gene_error\", \"pacbioRun\": \"LibA-221107\", \"level_2\": 49, \"cumulative_count\": 1935600.0, \"log10_error\": -4.525252525252525, \"meets_accuracy_cutoff\": true, \"cumulative_fraction\": 0.4495127259755931}, {\"variable\": \"gene_error\", \"pacbioRun\": \"LibA-221107\", \"level_2\": 50, \"cumulative_count\": 1944492.0, \"log10_error\": -4.474747474747475, \"meets_accuracy_cutoff\": true, \"cumulative_fraction\": 0.4515777534396223}, {\"variable\": \"gene_error\", \"pacbioRun\": \"LibA-221107\", \"level_2\": 51, \"cumulative_count\": 1961736.0, \"log10_error\": -4.424242424242424, \"meets_accuracy_cutoff\": true, \"cumulative_fraction\": 0.45558240184152515}, {\"variable\": \"gene_error\", \"pacbioRun\": \"LibA-221107\", \"level_2\": 52, \"cumulative_count\": 1971152.0, \"log10_error\": -4.373737373737374, \"meets_accuracy_cutoff\": true, \"cumulative_fraction\": 0.45776912008278686}, {\"variable\": \"gene_error\", \"pacbioRun\": \"LibA-221107\", \"level_2\": 53, \"cumulative_count\": 1989464.0, \"log10_error\": -4.3232323232323235, \"meets_accuracy_cutoff\": true, \"cumulative_fraction\": 0.46202179472530863}, {\"variable\": \"gene_error\", \"pacbioRun\": \"LibA-221107\", \"level_2\": 54, \"cumulative_count\": 1999693.0, \"log10_error\": -4.272727272727273, \"meets_accuracy_cutoff\": true, \"cumulative_fraction\": 0.46439731945872686}, {\"variable\": \"gene_error\", \"pacbioRun\": \"LibA-221107\", \"level_2\": 55, \"cumulative_count\": 2018874.0, \"log10_error\": -4.222222222222222, \"meets_accuracy_cutoff\": true, \"cumulative_fraction\": 0.4688518057146361}, {\"variable\": \"gene_error\", \"pacbioRun\": \"LibA-221107\", \"level_2\": 56, \"cumulative_count\": 2029983.0, \"log10_error\": -4.171717171717171, \"meets_accuracy_cutoff\": true, \"cumulative_fraction\": 0.4714316966388264}, {\"variable\": \"gene_error\", \"pacbioRun\": \"LibA-221107\", \"level_2\": 57, \"cumulative_count\": 2051033.0, \"log10_error\": -4.121212121212121, \"meets_accuracy_cutoff\": true, \"cumulative_fraction\": 0.4763202288158187}, {\"variable\": \"gene_error\", \"pacbioRun\": \"LibA-221107\", \"level_2\": 58, \"cumulative_count\": 2062892.0, \"log10_error\": -4.070707070707071, \"meets_accuracy_cutoff\": true, \"cumulative_fraction\": 0.47907429547078073}, {\"variable\": \"gene_error\", \"pacbioRun\": \"LibA-221107\", \"level_2\": 59, \"cumulative_count\": 2085722.0, \"log10_error\": -4.020202020202021, \"meets_accuracy_cutoff\": true, \"cumulative_fraction\": 0.48437620471547116}, {\"variable\": \"gene_error\", \"pacbioRun\": \"LibA-221107\", \"level_2\": 60, \"cumulative_count\": 2098964.0, \"log10_error\": -3.9696969696969697, \"meets_accuracy_cutoff\": false, \"cumulative_fraction\": 0.48745145141797624}, {\"variable\": \"gene_error\", \"pacbioRun\": \"LibA-221107\", \"level_2\": 61, \"cumulative_count\": 2124307.0, \"log10_error\": -3.919191919191919, \"meets_accuracy_cutoff\": false, \"cumulative_fraction\": 0.4933369654779057}, {\"variable\": \"gene_error\", \"pacbioRun\": \"LibA-221107\", \"level_2\": 62, \"cumulative_count\": 2139437.0, \"log10_error\": -3.868686868686869, \"meets_accuracy_cutoff\": false, \"cumulative_fraction\": 0.49685067055334003}, {\"variable\": \"gene_error\", \"pacbioRun\": \"LibA-221107\", \"level_2\": 63, \"cumulative_count\": 2167917.0, \"log10_error\": -3.8181818181818183, \"meets_accuracy_cutoff\": false, \"cumulative_fraction\": 0.5034647036365105}, {\"variable\": \"gene_error\", \"pacbioRun\": \"LibA-221107\", \"level_2\": 64, \"cumulative_count\": 2185903.0, \"log10_error\": -3.7676767676767677, \"meets_accuracy_cutoff\": false, \"cumulative_fraction\": 0.5076416698947236}, {\"variable\": \"gene_error\", \"pacbioRun\": \"LibA-221107\", \"level_2\": 65, \"cumulative_count\": 2219428.0, \"log10_error\": -3.717171717171717, \"meets_accuracy_cutoff\": false, \"cumulative_fraction\": 0.5154273250602184}, {\"variable\": \"gene_error\", \"pacbioRun\": \"LibA-221107\", \"level_2\": 66, \"cumulative_count\": 2240862.0, \"log10_error\": -3.6666666666666665, \"meets_accuracy_cutoff\": false, \"cumulative_fraction\": 0.5204050352113657}, {\"variable\": \"gene_error\", \"pacbioRun\": \"LibA-221107\", \"level_2\": 67, \"cumulative_count\": 2281892.0, \"log10_error\": -3.6161616161616164, \"meets_accuracy_cutoff\": false, \"cumulative_fraction\": 0.529933608856116}, {\"variable\": \"gene_error\", \"pacbioRun\": \"LibA-221107\", \"level_2\": 68, \"cumulative_count\": 2308790.0, \"log10_error\": -3.5656565656565657, \"meets_accuracy_cutoff\": false, \"cumulative_fraction\": 0.5361802472645121}, {\"variable\": \"gene_error\", \"pacbioRun\": \"LibA-221107\", \"level_2\": 69, \"cumulative_count\": 2346480.0, \"log10_error\": -3.515151515151515, \"meets_accuracy_cutoff\": false, \"cumulative_fraction\": 0.5449331583215591}, {\"variable\": \"gene_error\", \"pacbioRun\": \"LibA-221107\", \"level_2\": 70, \"cumulative_count\": 2375616.0, \"log10_error\": -3.4646464646464645, \"meets_accuracy_cutoff\": false, \"cumulative_fraction\": 0.551699537110578}, {\"variable\": \"gene_error\", \"pacbioRun\": \"LibA-221107\", \"level_2\": 71, \"cumulative_count\": 2403701.0, \"log10_error\": -3.4141414141414144, \"meets_accuracy_cutoff\": false, \"cumulative_fraction\": 0.5582218376422087}, {\"variable\": \"gene_error\", \"pacbioRun\": \"LibA-221107\", \"level_2\": 72, \"cumulative_count\": 2431645.0, \"log10_error\": -3.3636363636363638, \"meets_accuracy_cutoff\": false, \"cumulative_fraction\": 0.5647113931364544}, {\"variable\": \"gene_error\", \"pacbioRun\": \"LibA-221107\", \"level_2\": 73, \"cumulative_count\": 2459354.0, \"log10_error\": -3.313131313131313, \"meets_accuracy_cutoff\": false, \"cumulative_fraction\": 0.5711463735683916}, {\"variable\": \"gene_error\", \"pacbioRun\": \"LibA-221107\", \"level_2\": 74, \"cumulative_count\": 2486958.0, \"log10_error\": -3.2626262626262625, \"meets_accuracy_cutoff\": false, \"cumulative_fraction\": 0.5775569693980208}, {\"variable\": \"gene_error\", \"pacbioRun\": \"LibA-221107\", \"level_2\": 75, \"cumulative_count\": 2514171.0, \"log10_error\": -3.2121212121212124, \"meets_accuracy_cutoff\": false, \"cumulative_fraction\": 0.583876761613341}, {\"variable\": \"gene_error\", \"pacbioRun\": \"LibA-221107\", \"level_2\": 76, \"cumulative_count\": 2541122.0, \"log10_error\": -3.1616161616161618, \"meets_accuracy_cutoff\": false, \"cumulative_fraction\": 0.590135708440045}, {\"variable\": \"gene_error\", \"pacbioRun\": \"LibA-221107\", \"level_2\": 77, \"cumulative_count\": 2567709.0, \"log10_error\": -3.111111111111111, \"meets_accuracy_cutoff\": false, \"cumulative_fraction\": 0.5963101219787478}, {\"variable\": \"gene_error\", \"pacbioRun\": \"LibA-221107\", \"level_2\": 78, \"cumulative_count\": 2593751.0, \"log10_error\": -3.0606060606060606, \"meets_accuracy_cutoff\": false, \"cumulative_fraction\": 0.6023579678197565}, {\"variable\": \"gene_error\", \"pacbioRun\": \"LibA-221107\", \"level_2\": 79, \"cumulative_count\": 2619422.0, \"log10_error\": -3.0101010101010104, \"meets_accuracy_cutoff\": false, \"cumulative_fraction\": 0.6083196547326101}, {\"variable\": \"gene_error\", \"pacbioRun\": \"LibA-221107\", \"level_2\": 80, \"cumulative_count\": 2644691.0, \"log10_error\": -2.9595959595959593, \"meets_accuracy_cutoff\": false, \"cumulative_fraction\": 0.61418798345377}, {\"variable\": \"gene_error\", \"pacbioRun\": \"LibA-221107\", \"level_2\": 81, \"cumulative_count\": 2669695.0, \"log10_error\": -2.909090909090909, \"meets_accuracy_cutoff\": false, \"cumulative_fraction\": 0.6199947700833907}, {\"variable\": \"gene_error\", \"pacbioRun\": \"LibA-221107\", \"level_2\": 82, \"cumulative_count\": 2694404.0, \"log10_error\": -2.858585858585859, \"meets_accuracy_cutoff\": false, \"cumulative_fraction\": 0.6257330475922411}, {\"variable\": \"gene_error\", \"pacbioRun\": \"LibA-221107\", \"level_2\": 83, \"cumulative_count\": 2719152.0, \"log10_error\": -2.808080808080808, \"meets_accuracy_cutoff\": false, \"cumulative_fraction\": 0.6314803822390918}, {\"variable\": \"gene_error\", \"pacbioRun\": \"LibA-221107\", \"level_2\": 84, \"cumulative_count\": 2743632.0, \"log10_error\": -2.757575757575758, \"meets_accuracy_cutoff\": false, \"cumulative_fraction\": 0.6371654780914798}, {\"variable\": \"gene_error\", \"pacbioRun\": \"LibA-221107\", \"level_2\": 85, \"cumulative_count\": 2767871.0, \"log10_error\": -2.7070707070707067, \"meets_accuracy_cutoff\": false, \"cumulative_fraction\": 0.6427946054757134}, {\"variable\": \"gene_error\", \"pacbioRun\": \"LibA-221107\", \"level_2\": 86, \"cumulative_count\": 2791835.0, \"log10_error\": -2.6565656565656566, \"meets_accuracy_cutoff\": false, \"cumulative_fraction\": 0.6483598684253307}, {\"variable\": \"gene_error\", \"pacbioRun\": \"LibA-221107\", \"level_2\": 87, \"cumulative_count\": 2815466.0, \"log10_error\": -2.6060606060606064, \"meets_accuracy_cutoff\": false, \"cumulative_fraction\": 0.6538477973504853}, {\"variable\": \"gene_error\", \"pacbioRun\": \"LibA-221107\", \"level_2\": 88, \"cumulative_count\": 2838477.0, \"log10_error\": -2.5555555555555554, \"meets_accuracy_cutoff\": false, \"cumulative_fraction\": 0.6591917410048685}, {\"variable\": \"gene_error\", \"pacbioRun\": \"LibA-221107\", \"level_2\": 89, \"cumulative_count\": 2861037.0, \"log10_error\": -2.505050505050505, \"meets_accuracy_cutoff\": false, \"cumulative_fraction\": 0.6644309469864812}, {\"variable\": \"gene_error\", \"pacbioRun\": \"LibA-221107\", \"level_2\": 90, \"cumulative_count\": 2882844.0, \"log10_error\": -2.454545454545455, \"meets_accuracy_cutoff\": false, \"cumulative_fraction\": 0.669495280534399}, {\"variable\": \"gene_error\", \"pacbioRun\": \"LibA-221107\", \"level_2\": 91, \"cumulative_count\": 2904623.0, \"log10_error\": -2.404040404040404, \"meets_accuracy_cutoff\": false, \"cumulative_fraction\": 0.6745531115217014}, {\"variable\": \"gene_error\", \"pacbioRun\": \"LibA-221107\", \"level_2\": 92, \"cumulative_count\": 2925797.0, \"log10_error\": -2.353535353535354, \"meets_accuracy_cutoff\": false, \"cumulative_fraction\": 0.6794704407528479}, {\"variable\": \"gene_error\", \"pacbioRun\": \"LibA-221107\", \"level_2\": 93, \"cumulative_count\": 2947006.0, \"log10_error\": -2.3030303030303028, \"meets_accuracy_cutoff\": false, \"cumulative_fraction\": 0.6843958981847638}, {\"variable\": \"gene_error\", \"pacbioRun\": \"LibA-221107\", \"level_2\": 94, \"cumulative_count\": 2968446.0, \"log10_error\": -2.2525252525252526, \"meets_accuracy_cutoff\": false, \"cumulative_fraction\": 0.6893750017417573}, {\"variable\": \"gene_error\", \"pacbioRun\": \"LibA-221107\", \"level_2\": 95, \"cumulative_count\": 2989904.0, \"log10_error\": -2.2020202020202024, \"meets_accuracy_cutoff\": false, \"cumulative_fraction\": 0.6943582855162894}, {\"variable\": \"gene_error\", \"pacbioRun\": \"LibA-221107\", \"level_2\": 96, \"cumulative_count\": 3011307.0, \"log10_error\": -2.1515151515151514, \"meets_accuracy_cutoff\": false, \"cumulative_fraction\": 0.6993287964038982}, {\"variable\": \"gene_error\", \"pacbioRun\": \"LibA-221107\", \"level_2\": 97, \"cumulative_count\": 3032100.0, \"log10_error\": -2.101010101010101, \"meets_accuracy_cutoff\": false, \"cumulative_fraction\": 0.7041576443638127}, {\"variable\": \"gene_error\", \"pacbioRun\": \"LibA-221107\", \"level_2\": 98, \"cumulative_count\": 3051671.0, \"log10_error\": -2.05050505050505, \"meets_accuracy_cutoff\": false, \"cumulative_fraction\": 0.7087027019997232}, {\"variable\": \"gene_error\", \"pacbioRun\": \"LibA-221107\", \"level_2\": 99, \"cumulative_count\": 3067900.0, \"log10_error\": -2.0, \"meets_accuracy_cutoff\": false, \"cumulative_fraction\": 0.712471632579315}, {\"variable\": \"gene_error\", \"pacbioRun\": \"LibB-221107\", \"level_2\": 0, \"cumulative_count\": 691815.0, \"log10_error\": -7.0, \"meets_accuracy_cutoff\": true, \"cumulative_fraction\": 0.16066317757842785}, {\"variable\": \"gene_error\", \"pacbioRun\": \"LibB-221107\", \"level_2\": 1, \"cumulative_count\": 695564.0, \"log10_error\": -6.94949494949495, \"meets_accuracy_cutoff\": true, \"cumulative_fraction\": 0.16153382399797864}, {\"variable\": \"gene_error\", \"pacbioRun\": \"LibB-221107\", \"level_2\": 2, \"cumulative_count\": 697152.0, \"log10_error\": -6.898989898989899, \"meets_accuracy_cutoff\": true, \"cumulative_fraction\": 0.16190261207859924}, {\"variable\": \"gene_error\", \"pacbioRun\": \"LibB-221107\", \"level_2\": 3, \"cumulative_count\": 701007.0, \"log10_error\": -6.848484848484849, \"meets_accuracy_cutoff\": true, \"cumulative_fraction\": 0.16279787533476575}, {\"variable\": \"gene_error\", \"pacbioRun\": \"LibB-221107\", \"level_2\": 4, \"cumulative_count\": 702741.0, \"log10_error\": -6.797979797979798, \"meets_accuracy_cutoff\": true, \"cumulative_fraction\": 0.16320056962430993}, {\"variable\": \"gene_error\", \"pacbioRun\": \"LibB-221107\", \"level_2\": 5, \"cumulative_count\": 706560.0, \"log10_error\": -6.747474747474747, \"meets_accuracy_cutoff\": true, \"cumulative_fraction\": 0.1640874724453994}, {\"variable\": \"gene_error\", \"pacbioRun\": \"LibB-221107\", \"level_2\": 6, \"cumulative_count\": 708249.0, \"log10_error\": -6.696969696969697, \"meets_accuracy_cutoff\": true, \"cumulative_fraction\": 0.16447971619109725}, {\"variable\": \"gene_error\", \"pacbioRun\": \"LibB-221107\", \"level_2\": 7, \"cumulative_count\": 712114.0, \"log10_error\": -6.646464646464646, \"meets_accuracy_cutoff\": true, \"cumulative_fraction\": 0.1653773017903407}, {\"variable\": \"gene_error\", \"pacbioRun\": \"LibB-221107\", \"level_2\": 8, \"cumulative_count\": 713807.0, \"log10_error\": -6.595959595959596, \"meets_accuracy_cutoff\": true, \"cumulative_fraction\": 0.16577047447326937}, {\"variable\": \"gene_error\", \"pacbioRun\": \"LibB-221107\", \"level_2\": 9, \"cumulative_count\": 717834.0, \"log10_error\": -6.545454545454546, \"meets_accuracy_cutoff\": true, \"cumulative_fraction\": 0.16670568203035951}, {\"variable\": \"gene_error\", \"pacbioRun\": \"LibB-221107\", \"level_2\": 10, \"cumulative_count\": 719570.0, \"log10_error\": -6.494949494949495, \"meets_accuracy_cutoff\": true, \"cumulative_fraction\": 0.1671088407885191}, {\"variable\": \"gene_error\", \"pacbioRun\": \"LibB-221107\", \"level_2\": 11, \"cumulative_count\": 723540.0, \"log10_error\": -6.444444444444445, \"meets_accuracy_cutoff\": true, \"cumulative_fraction\": 0.16803081099007058}, {\"variable\": \"gene_error\", \"pacbioRun\": \"LibB-221107\", \"level_2\": 12, \"cumulative_count\": 725316.0, \"log10_error\": -6.393939393939394, \"meets_accuracy_cutoff\": true, \"cumulative_fraction\": 0.16844325912053795}, {\"variable\": \"gene_error\", \"pacbioRun\": \"LibB-221107\", \"level_2\": 13, \"cumulative_count\": 729384.0, \"log10_error\": -6.343434343434343, \"meets_accuracy_cutoff\": true, \"cumulative_fraction\": 0.16938798828424365}, {\"variable\": \"gene_error\", \"pacbioRun\": \"LibB-221107\", \"level_2\": 14, \"cumulative_count\": 731159.0, \"log10_error\": -6.292929292929293, \"meets_accuracy_cutoff\": true, \"cumulative_fraction\": 0.1698002041804033}, {\"variable\": \"gene_error\", \"pacbioRun\": \"LibB-221107\", \"level_2\": 15, \"cumulative_count\": 735210.0, \"log10_error\": -6.242424242424242, \"meets_accuracy_cutoff\": true, \"cumulative_fraction\": 0.17074098536087817}, {\"variable\": \"gene_error\", \"pacbioRun\": \"LibB-221107\", \"level_2\": 16, \"cumulative_count\": 736991.0, \"log10_error\": -6.191919191919192, \"meets_accuracy_cutoff\": true, \"cumulative_fraction\": 0.17115459466288405}, {\"variable\": \"gene_error\", \"pacbioRun\": \"LibB-221107\", \"level_2\": 17, \"cumulative_count\": 741050.0, \"log10_error\": -6.141414141414142, \"meets_accuracy_cutoff\": true, \"cumulative_fraction\": 0.17209723371782046}, {\"variable\": \"gene_error\", \"pacbioRun\": \"LibB-221107\", \"level_2\": 18, \"cumulative_count\": 742844.0, \"log10_error\": -6.090909090909091, \"meets_accuracy_cutoff\": true, \"cumulative_fraction\": 0.17251386206582636}, {\"variable\": \"gene_error\", \"pacbioRun\": \"LibB-221107\", \"level_2\": 19, \"cumulative_count\": 747156.0, \"log10_error\": -6.040404040404041, \"meets_accuracy_cutoff\": true, \"cumulative_fraction\": 0.17351525640060975}, {\"variable\": \"gene_error\", \"pacbioRun\": \"LibB-221107\", \"level_2\": 20, \"cumulative_count\": 749077.0, \"log10_error\": -5.98989898989899, \"meets_accuracy_cutoff\": true, \"cumulative_fraction\": 0.173961378505693}, {\"variable\": \"gene_error\", \"pacbioRun\": \"LibB-221107\", \"level_2\": 21, \"cumulative_count\": 753411.0, \"log10_error\": -5.9393939393939394, \"meets_accuracy_cutoff\": true, \"cumulative_fraction\": 0.1749678819952457}, {\"variable\": \"gene_error\", \"pacbioRun\": \"LibB-221107\", \"level_2\": 22, \"cumulative_count\": 755358.0, \"log10_error\": -5.888888888888889, \"meets_accuracy_cutoff\": true, \"cumulative_fraction\": 0.175420042192329}, {\"variable\": \"gene_error\", \"pacbioRun\": \"LibB-221107\", \"level_2\": 23, \"cumulative_count\": 759614.0, \"log10_error\": -5.838383838383838, \"meets_accuracy_cutoff\": true, \"cumulative_fraction\": 0.17640843140588147}, {\"variable\": \"gene_error\", \"pacbioRun\": \"LibB-221107\", \"level_2\": 24, \"cumulative_count\": 761506.0, \"log10_error\": -5.787878787878788, \"meets_accuracy_cutoff\": true, \"cumulative_fraction\": 0.17684781871604155}, {\"variable\": \"gene_error\", \"pacbioRun\": \"LibB-221107\", \"level_2\": 25, \"cumulative_count\": 765971.0, \"log10_error\": -5.737373737373737, \"meets_accuracy_cutoff\": true, \"cumulative_fraction\": 0.17788474489990236}, {\"variable\": \"gene_error\", \"pacbioRun\": \"LibB-221107\", \"level_2\": 26, \"cumulative_count\": 767991.0, \"log10_error\": -5.686868686868687, \"meets_accuracy_cutoff\": true, \"cumulative_fraction\": 0.17835385820144747}, {\"variable\": \"gene_error\", \"pacbioRun\": \"LibB-221107\", \"level_2\": 27, \"cumulative_count\": 772305.0, \"log10_error\": -5.636363636363637, \"meets_accuracy_cutoff\": true, \"cumulative_fraction\": 0.17935571700484626}, {\"variable\": \"gene_error\", \"pacbioRun\": \"LibB-221107\", \"level_2\": 28, \"cumulative_count\": 774345.0, \"log10_error\": -5.585858585858586, \"meets_accuracy_cutoff\": true, \"cumulative_fraction\": 0.17982947499254529}, {\"variable\": \"gene_error\", \"pacbioRun\": \"LibB-221107\", \"level_2\": 29, \"cumulative_count\": 778819.0, \"log10_error\": -5.5353535353535355, \"meets_accuracy_cutoff\": true, \"cumulative_fraction\": 0.18086849128517538}, {\"variable\": \"gene_error\", \"pacbioRun\": \"LibB-221107\", \"level_2\": 30, \"cumulative_count\": 780943.0, \"log10_error\": -5.484848484848484, \"meets_accuracy_cutoff\": true, \"cumulative_fraction\": 0.18136175695472082}, {\"variable\": \"gene_error\", \"pacbioRun\": \"LibB-221107\", \"level_2\": 31, \"cumulative_count\": 785522.0, \"log10_error\": -5.434343434343434, \"meets_accuracy_cutoff\": true, \"cumulative_fraction\": 0.18242515784965893}, {\"variable\": \"gene_error\", \"pacbioRun\": \"LibB-221107\", \"level_2\": 32, \"cumulative_count\": 787783.0, \"log10_error\": -5.383838383838384, \"meets_accuracy_cutoff\": true, \"cumulative_fraction\": 0.1829502396193587}, {\"variable\": \"gene_error\", \"pacbioRun\": \"LibB-221107\", \"level_2\": 33, \"cumulative_count\": 792461.0, \"log10_error\": -5.333333333333333, \"meets_accuracy_cutoff\": true, \"cumulative_fraction\": 0.18403663171075868}, {\"variable\": \"gene_error\", \"pacbioRun\": \"LibB-221107\", \"level_2\": 34, \"cumulative_count\": 794782.0, \"log10_error\": -5.282828282828283, \"meets_accuracy_cutoff\": true, \"cumulative_fraction\": 0.18457564753892014}, {\"variable\": \"gene_error\", \"pacbioRun\": \"LibB-221107\", \"level_2\": 35, \"cumulative_count\": 799600.0, \"log10_error\": -5.232323232323232, \"meets_accuracy_cutoff\": true, \"cumulative_fraction\": 0.18569455243339753}, {\"variable\": \"gene_error\", \"pacbioRun\": \"LibB-221107\", \"level_2\": 36, \"cumulative_count\": 801823.0, \"log10_error\": -5.181818181818182, \"meets_accuracy_cutoff\": true, \"cumulative_fraction\": 0.18621080929940484}, {\"variable\": \"gene_error\", \"pacbioRun\": \"LibB-221107\", \"level_2\": 37, \"cumulative_count\": 806703.0, \"log10_error\": -5.1313131313131315, \"meets_accuracy_cutoff\": true, \"cumulative_fraction\": 0.18734411272095933}, {\"variable\": \"gene_error\", \"pacbioRun\": \"LibB-221107\", \"level_2\": 38, \"cumulative_count\": 809142.0, \"log10_error\": -5.080808080808081, \"meets_accuracy_cutoff\": true, \"cumulative_fraction\": 0.1879105321974289}, {\"variable\": \"gene_error\", \"pacbioRun\": \"LibB-221107\", \"level_2\": 39, \"cumulative_count\": 814162.0, \"log10_error\": -5.03030303030303, \"meets_accuracy_cutoff\": true, \"cumulative_fraction\": 0.18907634842206078}, {\"variable\": \"gene_error\", \"pacbioRun\": \"LibB-221107\", \"level_2\": 40, \"cumulative_count\": 816661.0, \"log10_error\": -4.979797979797979, \"meets_accuracy_cutoff\": true, \"cumulative_fraction\": 0.18965670195699205}, {\"variable\": \"gene_error\", \"pacbioRun\": \"LibB-221107\", \"level_2\": 41, \"cumulative_count\": 821901.0, \"log10_error\": -4.929292929292929, \"meets_accuracy_cutoff\": true, \"cumulative_fraction\": 0.19087360972931697}, {\"variable\": \"gene_error\", \"pacbioRun\": \"LibB-221107\", \"level_2\": 42, \"cumulative_count\": 824392.0, \"log10_error\": -4.878787878787879, \"meets_accuracy_cutoff\": true, \"cumulative_fraction\": 0.19145210538978671}, {\"variable\": \"gene_error\", \"pacbioRun\": \"LibB-221107\", \"level_2\": 43, \"cumulative_count\": 829661.0, \"log10_error\": -4.828282828282829, \"meets_accuracy_cutoff\": true, \"cumulative_fraction\": 0.1926757479570348}, {\"variable\": \"gene_error\", \"pacbioRun\": \"LibB-221107\", \"level_2\": 44, \"cumulative_count\": 832298.0, \"log10_error\": -4.777777777777778, \"meets_accuracy_cutoff\": true, \"cumulative_fraction\": 0.19328814982642809}, {\"variable\": \"gene_error\", \"pacbioRun\": \"LibB-221107\", \"level_2\": 45, \"cumulative_count\": 837746.0, \"log10_error\": -4.7272727272727275, \"meets_accuracy_cutoff\": true, \"cumulative_fraction\": 0.19455336233475368}, {\"variable\": \"gene_error\", \"pacbioRun\": \"LibB-221107\", \"level_2\": 46, \"cumulative_count\": 840456.0, \"log10_error\": -4.6767676767676765, \"meets_accuracy_cutoff\": true, \"cumulative_fraction\": 0.19518271730860873}, {\"variable\": \"gene_error\", \"pacbioRun\": \"LibB-221107\", \"level_2\": 47, \"cumulative_count\": 846066.0, \"log10_error\": -4.626262626262626, \"meets_accuracy_cutoff\": true, \"cumulative_fraction\": 0.19648555177478103}, {\"variable\": \"gene_error\", \"pacbioRun\": \"LibB-221107\", \"level_2\": 48, \"cumulative_count\": 848999.0, \"log10_error\": -4.575757575757576, \"meets_accuracy_cutoff\": true, \"cumulative_fraction\": 0.1971666949992522}, {\"variable\": \"gene_error\", \"pacbioRun\": \"LibB-221107\", \"level_2\": 49, \"cumulative_count\": 854800.0, \"log10_error\": -4.525252525252525, \"meets_accuracy_cutoff\": true, \"cumulative_fraction\": 0.19851388621819435}, {\"variable\": \"gene_error\", \"pacbioRun\": \"LibB-221107\", \"level_2\": 50, \"cumulative_count\": 857851.0, \"log10_error\": -4.474747474747475, \"meets_accuracy_cutoff\": true, \"cumulative_fraction\": 0.19922243309097362}, {\"variable\": \"gene_error\", \"pacbioRun\": \"LibB-221107\", \"level_2\": 51, \"cumulative_count\": 863986.0, \"log10_error\": -4.424242424242424, \"meets_accuracy_cutoff\": true, \"cumulative_fraction\": 0.20064719056868607}, {\"variable\": \"gene_error\", \"pacbioRun\": \"LibB-221107\", \"level_2\": 52, \"cumulative_count\": 867268.0, \"log10_error\": -4.373737373737374, \"meets_accuracy_cutoff\": true, \"cumulative_fraction\": 0.20140938356654303}, {\"variable\": \"gene_error\", \"pacbioRun\": \"LibB-221107\", \"level_2\": 53, \"cumulative_count\": 873884.0, \"log10_error\": -4.3232323232323235, \"meets_accuracy_cutoff\": true, \"cumulative_fraction\": 0.20294584574625707}, {\"variable\": \"gene_error\", \"pacbioRun\": \"LibB-221107\", \"level_2\": 54, \"cumulative_count\": 877424.0, \"log10_error\": -4.272727272727273, \"meets_accuracy_cutoff\": true, \"cumulative_fraction\": 0.20376795519549948}, {\"variable\": \"gene_error\", \"pacbioRun\": \"LibB-221107\", \"level_2\": 55, \"cumulative_count\": 884278.0, \"log10_error\": -4.222222222222222, \"meets_accuracy_cutoff\": true, \"cumulative_fraction\": 0.20535968914044508}, {\"variable\": \"gene_error\", \"pacbioRun\": \"LibB-221107\", \"level_2\": 56, \"cumulative_count\": 888040.0, \"log10_error\": -4.171717171717171, \"meets_accuracy_cutoff\": true, \"cumulative_fraction\": 0.20623335460599593}, {\"variable\": \"gene_error\", \"pacbioRun\": \"LibB-221107\", \"level_2\": 57, \"cumulative_count\": 895495.0, \"log10_error\": -4.121212121212121, \"meets_accuracy_cutoff\": true, \"cumulative_fraction\": 0.20796466136986658}, {\"variable\": \"gene_error\", \"pacbioRun\": \"LibB-221107\", \"level_2\": 58, \"cumulative_count\": 899606.0, \"log10_error\": -4.070707070707071, \"meets_accuracy_cutoff\": true, \"cumulative_fraction\": 0.20891937660880316}, {\"variable\": \"gene_error\", \"pacbioRun\": \"LibB-221107\", \"level_2\": 59, \"cumulative_count\": 907697.0, \"log10_error\": -4.020202020202021, \"meets_accuracy_cutoff\": true, \"cumulative_fraction\": 0.21079838439236823}, {\"variable\": \"gene_error\", \"pacbioRun\": \"LibB-221107\", \"level_2\": 60, \"cumulative_count\": 912131.0, \"log10_error\": -3.9696969696969697, \"meets_accuracy_cutoff\": false, \"cumulative_fraction\": 0.2118281113126905}, {\"variable\": \"gene_error\", \"pacbioRun\": \"LibB-221107\", \"level_2\": 61, \"cumulative_count\": 921076.0, \"log10_error\": -3.919191919191919, \"meets_accuracy_cutoff\": false, \"cumulative_fraction\": 0.21390544719502758}, {\"variable\": \"gene_error\", \"pacbioRun\": \"LibB-221107\", \"level_2\": 62, \"cumulative_count\": 926167.0, \"log10_error\": -3.868686868686869, \"meets_accuracy_cutoff\": false, \"cumulative_fraction\": 0.21508775205550587}, {\"variable\": \"gene_error\", \"pacbioRun\": \"LibB-221107\", \"level_2\": 63, \"cumulative_count\": 936209.0, \"log10_error\": -3.8181818181818183, \"meets_accuracy_cutoff\": false, \"cumulative_fraction\": 0.217419848973385}, {\"variable\": \"gene_error\", \"pacbioRun\": \"LibB-221107\", \"level_2\": 64, \"cumulative_count\": 942066.0, \"log10_error\": -3.7676767676767677, \"meets_accuracy_cutoff\": false, \"cumulative_fraction\": 0.21878004531355813}, {\"variable\": \"gene_error\", \"pacbioRun\": \"LibB-221107\", \"level_2\": 65, \"cumulative_count\": 953825.0, \"log10_error\": -3.717171717171717, \"meets_accuracy_cutoff\": false, \"cumulative_fraction\": 0.2215108885377506}, {\"variable\": \"gene_error\", \"pacbioRun\": \"LibB-221107\", \"level_2\": 66, \"cumulative_count\": 961050.0, \"log10_error\": -3.6666666666666665, \"meets_accuracy_cutoff\": false, \"cumulative_fraction\": 0.2231887814108513}, {\"variable\": \"gene_error\", \"pacbioRun\": \"LibB-221107\", \"level_2\": 67, \"cumulative_count\": 975283.0, \"log10_error\": -3.6161616161616164, \"meets_accuracy_cutoff\": false, \"cumulative_fraction\": 0.2264941723122827}, {\"variable\": \"gene_error\", \"pacbioRun\": \"LibB-221107\", \"level_2\": 68, \"cumulative_count\": 984288.0, \"log10_error\": -3.5656565656565657, \"meets_accuracy_cutoff\": false, \"cumulative_fraction\": 0.22858544225308153}, {\"variable\": \"gene_error\", \"pacbioRun\": \"LibB-221107\", \"level_2\": 69, \"cumulative_count\": 997103.0, \"log10_error\": -3.515151515151515, \"meets_accuracy_cutoff\": false, \"cumulative_fraction\": 0.23156152490620055}, {\"variable\": \"gene_error\", \"pacbioRun\": \"LibB-221107\", \"level_2\": 70, \"cumulative_count\": 1006515.0, \"log10_error\": -3.4646464646464645, \"meets_accuracy_cutoff\": false, \"cumulative_fraction\": 0.2337473142102315}, {\"variable\": \"gene_error\", \"pacbioRun\": \"LibB-221107\", \"level_2\": 71, \"cumulative_count\": 1015639.0, \"log10_error\": -3.4141414141414144, \"meets_accuracy_cutoff\": false, \"cumulative_fraction\": 0.2358662200336461}, {\"variable\": \"gene_error\", \"pacbioRun\": \"LibB-221107\", \"level_2\": 72, \"cumulative_count\": 1024673.0, \"log10_error\": -3.3636363636363638, \"meets_accuracy_cutoff\": false, \"cumulative_fraction\": 0.2379642247693681}, {\"variable\": \"gene_error\", \"pacbioRun\": \"LibB-221107\", \"level_2\": 73, \"cumulative_count\": 1033727.0, \"log10_error\": -3.313131313131313, \"meets_accuracy_cutoff\": false, \"cumulative_fraction\": 0.24006687419124403}, {\"variable\": \"gene_error\", \"pacbioRun\": \"LibB-221107\", \"level_2\": 74, \"cumulative_count\": 1042586.0, \"log10_error\": -3.2626262626262625, \"meets_accuracy_cutoff\": false, \"cumulative_fraction\": 0.2421242379231193}, {\"variable\": \"gene_error\", \"pacbioRun\": \"LibB-221107\", \"level_2\": 75, \"cumulative_count\": 1051239.0, \"log10_error\": -3.2121212121212124, \"meets_accuracy_cutoff\": false, \"cumulative_fraction\": 0.24413376138760928}, {\"variable\": \"gene_error\", \"pacbioRun\": \"LibB-221107\", \"level_2\": 76, \"cumulative_count\": 1059826.0, \"log10_error\": -3.1616161616161618, \"meets_accuracy_cutoff\": false, \"cumulative_fraction\": 0.24612795738779136}, {\"variable\": \"gene_error\", \"pacbioRun\": \"LibB-221107\", \"level_2\": 77, \"cumulative_count\": 1067973.0, \"log10_error\": -3.111111111111111, \"meets_accuracy_cutoff\": false, \"cumulative_fraction\": 0.24801997029258735}, {\"variable\": \"gene_error\", \"pacbioRun\": \"LibB-221107\", \"level_2\": 78, \"cumulative_count\": 1076193.0, \"log10_error\": -3.0606060606060606, \"meets_accuracy_cutoff\": false, \"cumulative_fraction\": 0.24992893630184515}, {\"variable\": \"gene_error\", \"pacbioRun\": \"LibB-221107\", \"level_2\": 79, \"cumulative_count\": 1084057.0, \"log10_error\": -3.0101010101010104, \"meets_accuracy_cutoff\": false, \"cumulative_fraction\": 0.2517552268975633}, {\"variable\": \"gene_error\", \"pacbioRun\": \"LibB-221107\", \"level_2\": 80, \"cumulative_count\": 1091922.0, \"log10_error\": -2.9595959595959593, \"meets_accuracy_cutoff\": false, \"cumulative_fraction\": 0.2535817497275892}, {\"variable\": \"gene_error\", \"pacbioRun\": \"LibB-221107\", \"level_2\": 81, \"cumulative_count\": 1099863.0, \"log10_error\": -2.909090909090909, \"meets_accuracy_cutoff\": false, \"cumulative_fraction\": 0.2554259223649999}, {\"variable\": \"gene_error\", \"pacbioRun\": \"LibB-221107\", \"level_2\": 82, \"cumulative_count\": 1107724.0, \"log10_error\": -2.858585858585859, \"meets_accuracy_cutoff\": false, \"cumulative_fraction\": 0.25725151625779497}, {\"variable\": \"gene_error\", \"pacbioRun\": \"LibB-221107\", \"level_2\": 83, \"cumulative_count\": 1115544.0, \"log10_error\": -2.808080808080808, \"meets_accuracy_cutoff\": false, \"cumulative_fraction\": 0.2590675885439745}, {\"variable\": \"gene_error\", \"pacbioRun\": \"LibB-221107\", \"level_2\": 84, \"cumulative_count\": 1123679.0, \"log10_error\": -2.757575757575758, \"meets_accuracy_cutoff\": false, \"cumulative_fraction\": 0.26095681463707815}, {\"variable\": \"gene_error\", \"pacbioRun\": \"LibB-221107\", \"level_2\": 85, \"cumulative_count\": 1131372.0, \"log10_error\": -2.7070707070707067, \"meets_accuracy_cutoff\": false, \"cumulative_fraction\": 0.2627433931661804}, {\"variable\": \"gene_error\", \"pacbioRun\": \"LibB-221107\", \"level_2\": 86, \"cumulative_count\": 1139181.0, \"log10_error\": -2.6565656565656566, \"meets_accuracy_cutoff\": false, \"cumulative_fraction\": 0.2645569108749753}, {\"variable\": \"gene_error\", \"pacbioRun\": \"LibB-221107\", \"level_2\": 87, \"cumulative_count\": 1146854.0, \"log10_error\": -2.6060606060606064, \"meets_accuracy_cutoff\": false, \"cumulative_fraction\": 0.2663388447179236}, {\"variable\": \"gene_error\", \"pacbioRun\": \"LibB-221107\", \"level_2\": 88, \"cumulative_count\": 1154544.0, \"log10_error\": -2.5555555555555554, \"meets_accuracy_cutoff\": false, \"cumulative_fraction\": 0.2681247265441027}, {\"variable\": \"gene_error\", \"pacbioRun\": \"LibB-221107\", \"level_2\": 89, \"cumulative_count\": 1161845.0, \"log10_error\": -2.505050505050505, \"meets_accuracy_cutoff\": false, \"cumulative_fraction\": 0.26982026922458824}, {\"variable\": \"gene_error\", \"pacbioRun\": \"LibB-221107\", \"level_2\": 90, \"cumulative_count\": 1168974.0, \"log10_error\": -2.454545454545455, \"meets_accuracy_cutoff\": false, \"cumulative_fraction\": 0.2714758676041501}, {\"variable\": \"gene_error\", \"pacbioRun\": \"LibB-221107\", \"level_2\": 91, \"cumulative_count\": 1176007.0, \"log10_error\": -2.404040404040404, \"meets_accuracy_cutoff\": false, \"cumulative_fraction\": 0.2731091714901732}, {\"variable\": \"gene_error\", \"pacbioRun\": \"LibB-221107\", \"level_2\": 92, \"cumulative_count\": 1182731.0, \"log10_error\": -2.353535353535354, \"meets_accuracy_cutoff\": false, \"cumulative_fraction\": 0.2746707149751184}, {\"variable\": \"gene_error\", \"pacbioRun\": \"LibB-221107\", \"level_2\": 93, \"cumulative_count\": 1189553.0, \"log10_error\": -2.3030303030303028, \"meets_accuracy_cutoff\": false, \"cumulative_fraction\": 0.27625501742221775}, {\"variable\": \"gene_error\", \"pacbioRun\": \"LibB-221107\", \"level_2\": 94, \"cumulative_count\": 1196654.0, \"log10_error\": -2.2525252525252526, \"meets_accuracy_cutoff\": false, \"cumulative_fraction\": 0.2779041132411642}, {\"variable\": \"gene_error\", \"pacbioRun\": \"LibB-221107\", \"level_2\": 95, \"cumulative_count\": 1203681.0, \"log10_error\": -2.2020202020202024, \"meets_accuracy_cutoff\": false, \"cumulative_fraction\": 0.2795360237213411}, {\"variable\": \"gene_error\", \"pacbioRun\": \"LibB-221107\", \"level_2\": 96, \"cumulative_count\": 1210837.0, \"log10_error\": -2.1515151515151514, \"meets_accuracy_cutoff\": false, \"cumulative_fraction\": 0.2811978924272108}, {\"variable\": \"gene_error\", \"pacbioRun\": \"LibB-221107\", \"level_2\": 97, \"cumulative_count\": 1218048.0, \"log10_error\": -2.101010101010101, \"meets_accuracy_cutoff\": false, \"cumulative_fraction\": 0.28287253402000373}, {\"variable\": \"gene_error\", \"pacbioRun\": \"LibB-221107\", \"level_2\": 98, \"cumulative_count\": 1225166.0, \"log10_error\": -2.05050505050505, \"meets_accuracy_cutoff\": false, \"cumulative_fraction\": 0.28452557782218096}, {\"variable\": \"gene_error\", \"pacbioRun\": \"LibB-221107\", \"level_2\": 99, \"cumulative_count\": 1231370.0, \"log10_error\": -2.0, \"meets_accuracy_cutoff\": false, \"cumulative_fraction\": 0.28596635946712445}]}}, {\"mode\": \"vega-lite\"});\n",
       "</script>"
      ],
      "text/plain": [
       "alt.Chart(...)"
      ]
     },
     "metadata": {},
     "output_type": "display_data"
    }
   ],
   "source": [
    "max_error_rate = config[\"max_ccs_error_rate\"]  # require error rate <= this to keep CCS\n",
    "\n",
    "log10_error_floor = -7  # error rates less than this set to this for plotting\n",
    "log10_error_ceil = -2  # error rates greater than this set to this for plotting\n",
    "nbins = 100  # bins for cumulative fraction plot\n",
    "\n",
    "# calculate error rates\n",
    "aligned_ccs = aligned_ccs.assign(\n",
    "    gene_error=lambda x: 1 - x[\"gene_accuracy\"],\n",
    "    barcode_error=lambda x: 1 - x[\"barcode_accuracy\"],\n",
    ")\n",
    "\n",
    "# calculate cumulative frequencies on log error rates\n",
    "cumfrac = (\n",
    "    aligned_ccs.melt(\n",
    "        id_vars=[\"query_name\", \"pacbioRun\"],\n",
    "        value_vars=[\"barcode_error\", \"gene_error\"],\n",
    "        value_name=\"error\",\n",
    "    )\n",
    "    .assign(log10_error=lambda x: numpy.log10(x[\"error\"]).clip(lower=log10_error_floor))\n",
    "    .groupby([\"variable\", \"pacbioRun\"])\n",
    "    .apply(\n",
    "        lambda g: pd.DataFrame(\n",
    "            {\n",
    "                \"cumulative_count\": scipy.stats.cumfreq(\n",
    "                    g[\"log10_error\"],\n",
    "                    numbins=nbins,\n",
    "                    defaultreallimits=(log10_error_floor, log10_error_ceil),\n",
    "                )[0],\n",
    "                \"log10_error\": numpy.linspace(\n",
    "                    log10_error_floor, log10_error_ceil, nbins\n",
    "                ),\n",
    "            }\n",
    "        )\n",
    "    )\n",
    "    .assign(\n",
    "        meets_accuracy_cutoff=lambda x: x[\"log10_error\"] <= numpy.log10(max_error_rate),\n",
    "        cumulative_fraction=lambda x: x[\"cumulative_count\"] / len(aligned_ccs),\n",
    "    )\n",
    "    .reset_index()\n",
    ")\n",
    "\n",
    "# plot cumulative frequencies\n",
    "cumfrac_chart = (\n",
    "    alt.Chart(cumfrac)\n",
    "    .encode(\n",
    "        x=alt.X(\n",
    "            \"log10_error\",\n",
    "            scale=alt.Scale(zero=False),\n",
    "        ),\n",
    "        y=\"cumulative_count\",\n",
    "        color=\"meets_accuracy_cutoff\",\n",
    "        column=alt.Column(\"variable\", title=None),\n",
    "        row=alt.Row(\"pacbioRun\", title=None),\n",
    "        tooltip=[\n",
    "            alt.Tooltip(\"log10_error\", format=\".3f\"),\n",
    "            alt.Tooltip(\"cumulative_fraction\", format=\".3f\"),\n",
    "            alt.Tooltip(\"cumulative_count\", format=\".4g\"),\n",
    "        ],\n",
    "    )\n",
    "    .mark_point(filled=True, size=30)\n",
    "    .properties(width=225, height=120)\n",
    ")\n",
    "display(cumfrac_chart)"
   ]
  },
  {
   "cell_type": "markdown",
   "id": "9988e505-073b-4145-a74d-61fbab31af0d",
   "metadata": {
    "papermill": {
     "duration": 0.007978,
     "end_time": "2023-07-18T23:46:25.941698",
     "exception": false,
     "start_time": "2023-07-18T23:46:25.933720",
     "status": "completed"
    },
    "tags": []
   },
   "source": [
    "Remove CCSs that do not meet accuracy threshold:"
   ]
  },
  {
   "cell_type": "code",
   "execution_count": 8,
   "id": "e36fa65e-c9c2-4cdb-ae6f-20605e24867f",
   "metadata": {
    "execution": {
     "iopub.execute_input": "2023-07-18T23:46:25.962979Z",
     "iopub.status.busy": "2023-07-18T23:46:25.962482Z",
     "iopub.status.idle": "2023-07-18T23:46:27.194636Z",
     "shell.execute_reply": "2023-07-18T23:46:27.193843Z"
    },
    "papermill": {
     "duration": 1.24507,
     "end_time": "2023-07-18T23:46:27.197025",
     "exception": false,
     "start_time": "2023-07-18T23:46:25.951955",
     "status": "completed"
    },
    "tags": []
   },
   "outputs": [
    {
     "name": "stdout",
     "output_type": "stream",
     "text": [
      "There are 4305996 CCSs before accuracy filtering.\n"
     ]
    },
    {
     "name": "stdout",
     "output_type": "stream",
     "text": [
      "After filtering 2968654 CCSs remain.\n"
     ]
    }
   ],
   "source": [
    "print(f\"There are {len(aligned_ccs)} CCSs before accuracy filtering.\")\n",
    "aligned_ccs = aligned_ccs.query(\"barcode_error <= @max_error_rate\").query(\n",
    "    \"gene_error <= @max_error_rate\"\n",
    ")\n",
    "print(f\"After filtering {len(aligned_ccs)} CCSs remain.\")"
   ]
  },
  {
   "cell_type": "markdown",
   "id": "cd87e522-ecb6-4a64-922a-28f998450a12",
   "metadata": {
    "papermill": {
     "duration": 0.008766,
     "end_time": "2023-07-18T23:46:27.222333",
     "exception": false,
     "start_time": "2023-07-18T23:46:27.213567",
     "status": "completed"
    },
    "tags": []
   },
   "source": [
    "## Convert in-frame deletions to substitutions\n",
    "If a deletion is in-frame, convert to substitution format using `-` as the substitution character:"
   ]
  },
  {
   "cell_type": "code",
   "execution_count": 9,
   "id": "74f3520f-d8db-4e5c-a434-032151a6c772",
   "metadata": {
    "execution": {
     "iopub.execute_input": "2023-07-18T23:46:27.247146Z",
     "iopub.status.busy": "2023-07-18T23:46:27.246745Z",
     "iopub.status.idle": "2023-07-18T23:46:41.702294Z",
     "shell.execute_reply": "2023-07-18T23:46:41.701505Z"
    },
    "papermill": {
     "duration": 14.468289,
     "end_time": "2023-07-18T23:46:41.705164",
     "exception": false,
     "start_time": "2023-07-18T23:46:27.236875",
     "status": "completed"
    },
    "tags": []
   },
   "outputs": [],
   "source": [
    "deltosubs = alignparse.utils.InFrameDeletionsToSubs(geneseq)\n",
    "\n",
    "aligned_ccs = (\n",
    "    aligned_ccs.assign(\n",
    "        mutations_inframe=lambda x: x[\"gene_mutations\"].map(deltosubs.dels_to_subs),\n",
    "        inframe_deletion=lambda x: x[\"gene_mutations\"] != x[\"mutations_inframe\"],\n",
    "    )\n",
    "    .drop(columns=\"gene_mutations\")\n",
    "    .rename(columns={\"mutations_inframe\": \"gene_mutations\"})\n",
    ")"
   ]
  },
  {
   "cell_type": "markdown",
   "id": "2586faea-2f2f-475a-b1b2-80e3b285ef68",
   "metadata": {
    "papermill": {
     "duration": 0.008347,
     "end_time": "2023-07-18T23:46:41.730391",
     "exception": false,
     "start_time": "2023-07-18T23:46:41.722044",
     "status": "completed"
    },
    "tags": []
   },
   "source": [
    "How many CCSs have in-frame deletions?"
   ]
  },
  {
   "cell_type": "code",
   "execution_count": 10,
   "id": "97faad39-19fe-4920-aebf-d5e73ceba957",
   "metadata": {
    "execution": {
     "iopub.execute_input": "2023-07-18T23:46:41.752094Z",
     "iopub.status.busy": "2023-07-18T23:46:41.751507Z",
     "iopub.status.idle": "2023-07-18T23:46:41.921859Z",
     "shell.execute_reply": "2023-07-18T23:46:41.921145Z"
    },
    "papermill": {
     "duration": 0.184604,
     "end_time": "2023-07-18T23:46:41.924851",
     "exception": false,
     "start_time": "2023-07-18T23:46:41.740247",
     "status": "completed"
    },
    "tags": []
   },
   "outputs": [
    {
     "name": "stdout",
     "output_type": "stream",
     "text": [
      "Number of CCSs with in-frame deletions:\n"
     ]
    },
    {
     "data": {
      "text/html": [
       "<div>\n",
       "<style scoped>\n",
       "    .dataframe tbody tr th:only-of-type {\n",
       "        vertical-align: middle;\n",
       "    }\n",
       "\n",
       "    .dataframe tbody tr th {\n",
       "        vertical-align: top;\n",
       "    }\n",
       "\n",
       "    .dataframe thead th {\n",
       "        text-align: right;\n",
       "    }\n",
       "</style>\n",
       "<table border=\"1\" class=\"dataframe\">\n",
       "  <thead>\n",
       "    <tr style=\"text-align: right;\">\n",
       "      <th></th>\n",
       "      <th>n_CCSs</th>\n",
       "      <th>fraction</th>\n",
       "    </tr>\n",
       "    <tr>\n",
       "      <th>inframe_deletion</th>\n",
       "      <th></th>\n",
       "      <th></th>\n",
       "    </tr>\n",
       "  </thead>\n",
       "  <tbody>\n",
       "    <tr>\n",
       "      <th>False</th>\n",
       "      <td>2965721</td>\n",
       "      <td>0.999</td>\n",
       "    </tr>\n",
       "    <tr>\n",
       "      <th>True</th>\n",
       "      <td>2933</td>\n",
       "      <td>0.001</td>\n",
       "    </tr>\n",
       "  </tbody>\n",
       "</table>\n",
       "</div>"
      ],
      "text/plain": [
       "                   n_CCSs  fraction\n",
       "inframe_deletion                   \n",
       "False             2965721     0.999\n",
       "True                 2933     0.001"
      ]
     },
     "metadata": {},
     "output_type": "display_data"
    }
   ],
   "source": [
    "print(\"Number of CCSs with in-frame deletions:\")\n",
    "display(\n",
    "    aligned_ccs.groupby(\"inframe_deletion\")\n",
    "    .aggregate(n_CCSs=pd.NamedAgg(\"query_name\", \"count\"))\n",
    "    .assign(fraction=lambda x: x[\"n_CCSs\"] / x[\"n_CCSs\"].sum())\n",
    "    .round(3)\n",
    ")"
   ]
  },
  {
   "cell_type": "markdown",
   "id": "ada702ee-bfd2-4393-8b01-8352a20dc101",
   "metadata": {
    "papermill": {
     "duration": 0.013875,
     "end_time": "2023-07-18T23:46:41.954750",
     "exception": false,
     "start_time": "2023-07-18T23:46:41.940875",
     "status": "completed"
    },
    "tags": []
   },
   "source": [
    "## Empirical accuracy of CCSs\n",
    "We can compute the empirical accuracy of individual CCSs by comparing mutations found in CCSs with the same barcode.\n",
    "\n",
    "First, annotate which CCSs have indels (not in frame):"
   ]
  },
  {
   "cell_type": "code",
   "execution_count": 11,
   "id": "4d486850-06a1-45fb-92b9-ae9a415d8c54",
   "metadata": {
    "execution": {
     "iopub.execute_input": "2023-07-18T23:46:41.975466Z",
     "iopub.status.busy": "2023-07-18T23:46:41.975118Z",
     "iopub.status.idle": "2023-07-18T23:46:59.286834Z",
     "shell.execute_reply": "2023-07-18T23:46:59.286082Z"
    },
    "papermill": {
     "duration": 17.324922,
     "end_time": "2023-07-18T23:46:59.289743",
     "exception": false,
     "start_time": "2023-07-18T23:46:41.964821",
     "status": "completed"
    },
    "tags": []
   },
   "outputs": [],
   "source": [
    "aligned_ccs = alignparse.consensus.add_mut_info_cols(\n",
    "    aligned_ccs,\n",
    "    mutation_col=\"gene_mutations\",\n",
    "    n_indel_col=\"n_indels\",\n",
    "    overwrite_cols=True,\n",
    ").assign(has_indel=lambda x: x[\"n_indels\"] > 0)"
   ]
  },
  {
   "cell_type": "markdown",
   "id": "bc68c3de-5f32-4941-b7d1-3bd6faca5882",
   "metadata": {
    "papermill": {
     "duration": 0.013433,
     "end_time": "2023-07-18T23:46:59.320027",
     "exception": false,
     "start_time": "2023-07-18T23:46:59.306594",
     "status": "completed"
    },
    "tags": []
   },
   "source": [
    "Now compute empirical accuracy, for all sequences and only those without indels, and at the error-rate filter we chose to use and one 10-fold higher.\n",
    "Note that the in-frame codon deletions are not classified as deletions since we have re-classified as substitutions above.\n",
    "The empirical accuracy is the estimated accuracy of each **individual** CCS:"
   ]
  },
  {
   "cell_type": "code",
   "execution_count": 12,
   "id": "79ef04ef-bce4-4956-ac1a-6cfb8ba370e4",
   "metadata": {
    "execution": {
     "iopub.execute_input": "2023-07-18T23:46:59.342395Z",
     "iopub.status.busy": "2023-07-18T23:46:59.341800Z",
     "iopub.status.idle": "2023-07-18T23:47:37.023895Z",
     "shell.execute_reply": "2023-07-18T23:47:37.023257Z"
    },
    "papermill": {
     "duration": 37.712286,
     "end_time": "2023-07-18T23:47:37.042419",
     "exception": false,
     "start_time": "2023-07-18T23:46:59.330133",
     "status": "completed"
    },
    "tags": []
   },
   "outputs": [
    {
     "name": "stdout",
     "output_type": "stream",
     "text": [
      "Empirical accuracies:\n"
     ]
    },
    {
     "data": {
      "text/html": [
       "\n",
       "<style>\n",
       "  #altair-viz-1c5d77913bcd4babafcc85356fdc24ab.vega-embed {\n",
       "    width: 100%;\n",
       "    display: flex;\n",
       "  }\n",
       "\n",
       "  #altair-viz-1c5d77913bcd4babafcc85356fdc24ab.vega-embed details,\n",
       "  #altair-viz-1c5d77913bcd4babafcc85356fdc24ab.vega-embed details summary {\n",
       "    position: relative;\n",
       "  }\n",
       "</style>\n",
       "<div id=\"altair-viz-1c5d77913bcd4babafcc85356fdc24ab\"></div>\n",
       "<script type=\"text/javascript\">\n",
       "  var VEGA_DEBUG = (typeof VEGA_DEBUG == \"undefined\") ? {} : VEGA_DEBUG;\n",
       "  (function(spec, embedOpt){\n",
       "    let outputDiv = document.currentScript.previousElementSibling;\n",
       "    if (outputDiv.id !== \"altair-viz-1c5d77913bcd4babafcc85356fdc24ab\") {\n",
       "      outputDiv = document.getElementById(\"altair-viz-1c5d77913bcd4babafcc85356fdc24ab\");\n",
       "    }\n",
       "    const paths = {\n",
       "      \"vega\": \"https://cdn.jsdelivr.net/npm/vega@5?noext\",\n",
       "      \"vega-lib\": \"https://cdn.jsdelivr.net/npm/vega-lib?noext\",\n",
       "      \"vega-lite\": \"https://cdn.jsdelivr.net/npm/vega-lite@5.8.0?noext\",\n",
       "      \"vega-embed\": \"https://cdn.jsdelivr.net/npm/vega-embed@6?noext\",\n",
       "    };\n",
       "\n",
       "    function maybeLoadScript(lib, version) {\n",
       "      var key = `${lib.replace(\"-\", \"\")}_version`;\n",
       "      return (VEGA_DEBUG[key] == version) ?\n",
       "        Promise.resolve(paths[lib]) :\n",
       "        new Promise(function(resolve, reject) {\n",
       "          var s = document.createElement('script');\n",
       "          document.getElementsByTagName(\"head\")[0].appendChild(s);\n",
       "          s.async = true;\n",
       "          s.onload = () => {\n",
       "            VEGA_DEBUG[key] = version;\n",
       "            return resolve(paths[lib]);\n",
       "          };\n",
       "          s.onerror = () => reject(`Error loading script: ${paths[lib]}`);\n",
       "          s.src = paths[lib];\n",
       "        });\n",
       "    }\n",
       "\n",
       "    function showError(err) {\n",
       "      outputDiv.innerHTML = `<div class=\"error\" style=\"color:red;\">${err}</div>`;\n",
       "      throw err;\n",
       "    }\n",
       "\n",
       "    function displayChart(vegaEmbed) {\n",
       "      vegaEmbed(outputDiv, spec, embedOpt)\n",
       "        .catch(err => showError(`Javascript Error: ${err.message}<br>This usually means there's a typo in your chart specification. See the javascript console for the full traceback.`));\n",
       "    }\n",
       "\n",
       "    if(typeof define === \"function\" && define.amd) {\n",
       "      requirejs.config({paths});\n",
       "      require([\"vega-embed\"], displayChart, err => showError(`Error loading script: ${err.message}`));\n",
       "    } else {\n",
       "      maybeLoadScript(\"vega\", \"5\")\n",
       "        .then(() => maybeLoadScript(\"vega-lite\", \"5.8.0\"))\n",
       "        .then(() => maybeLoadScript(\"vega-embed\", \"6\"))\n",
       "        .catch(showError)\n",
       "        .then(() => displayChart(vegaEmbed));\n",
       "    }\n",
       "  })({\"config\": {\"view\": {\"continuousWidth\": 300, \"continuousHeight\": 300}}, \"data\": {\"name\": \"data-55119190e5e99cf36b64431706dfd0fc\"}, \"mark\": {\"type\": \"point\", \"filled\": true, \"size\": 75}, \"encoding\": {\"facet\": {\"columns\": 2, \"field\": \"pacbioRun\", \"title\": null, \"type\": \"nominal\"}, \"tooltip\": [{\"field\": \"accuracy\", \"format\": \".3f\", \"type\": \"quantitative\"}], \"x\": {\"field\": \"accuracy\", \"scale\": {\"domain\": [0, 1]}, \"type\": \"quantitative\"}, \"y\": {\"axis\": {\"title\": null}, \"field\": \"label\", \"type\": \"nominal\"}}, \"height\": 65, \"width\": 225, \"$schema\": \"https://vega.github.io/schema/vega-lite/v5.8.0.json\", \"datasets\": {\"data-55119190e5e99cf36b64431706dfd0fc\": [{\"accuracy\": 0.7907051759514518, \"label\": \"allow indels, 10x accuracy\", \"pacbioRun\": \"LibA-221107\"}, {\"accuracy\": 0.7669017051806458, \"label\": \"allow indels, 10x accuracy\", \"pacbioRun\": \"LibB-221107\"}, {\"accuracy\": 0.7667805309057827, \"label\": \"allow indels\", \"pacbioRun\": \"LibA-221107\"}, {\"accuracy\": 0.7461079617631559, \"label\": \"allow indels\", \"pacbioRun\": \"LibB-221107\"}, {\"accuracy\": 0.8240748573959573, \"label\": \"no indels, 10x accuracy\", \"pacbioRun\": \"LibA-221107\"}, {\"accuracy\": 0.7985838891480768, \"label\": \"no indels, 10x accuracy\", \"pacbioRun\": \"LibB-221107\"}, {\"accuracy\": 0.8252553400252144, \"label\": \"no indels\", \"pacbioRun\": \"LibA-221107\"}, {\"accuracy\": 0.7989971022823591, \"label\": \"no indels\", \"pacbioRun\": \"LibB-221107\"}]}}, {\"mode\": \"vega-lite\"});\n",
       "</script>"
      ],
      "text/plain": [
       "alt.Chart(...)"
      ]
     },
     "metadata": {},
     "output_type": "display_data"
    }
   ],
   "source": [
    "# compute empirical accuracies\n",
    "empirical_acc = []\n",
    "for no_indel, acc_10x in itertools.product([True, False], [True, False]):\n",
    "    df = aligned_ccs.copy()\n",
    "    if not no_indel:\n",
    "        df = df.query(\"n_indels == 0\")\n",
    "        label = \"no indels\"\n",
    "    else:\n",
    "        label = \"allow indels\"\n",
    "    if acc_10x:\n",
    "        max_error_rate_10x = max_error_rate / 10\n",
    "        df = df.query(\"barcode_error <= @max_error_rate_10x\").query(\n",
    "            \"gene_error <= @max_error_rate_10x\"\n",
    "        )\n",
    "        label += \", 10x accuracy\"\n",
    "    for pacbioRun, run_df in df.groupby(\"pacbioRun\"):\n",
    "        empirical_acc.append(\n",
    "            alignparse.consensus.empirical_accuracy(\n",
    "                run_df, upstream_group_cols=None, mutation_col=\"gene_mutations\"\n",
    "            ).assign(label=label, pacbioRun=pacbioRun)\n",
    "        )\n",
    "empirical_acc = pd.concat(empirical_acc, ignore_index=True)\n",
    "\n",
    "# plot empirical accuracy\n",
    "print(\"Empirical accuracies:\")\n",
    "empirical_acc_chart = (\n",
    "    alt.Chart(empirical_acc)\n",
    "    .encode(\n",
    "        x=alt.X(\n",
    "            \"accuracy:Q\",\n",
    "            scale=alt.Scale(domain=(0, 1)),\n",
    "        ),\n",
    "        y=alt.Y(\n",
    "            \"label:N\",\n",
    "            axis=alt.Axis(title=None),\n",
    "        ),\n",
    "        facet=alt.Facet(\n",
    "            \"pacbioRun\",\n",
    "            title=None,\n",
    "            columns=2,\n",
    "        ),\n",
    "        tooltip=[alt.Tooltip(\"accuracy\", format=\".3f\")],\n",
    "    )\n",
    "    .mark_point(filled=True, size=75)\n",
    "    .properties(width=225, height=65)\n",
    ")\n",
    "display(empirical_acc_chart)"
   ]
  },
  {
   "cell_type": "markdown",
   "id": "dfeeaac0-b3d8-4125-8df7-3baeb4be36cb",
   "metadata": {
    "papermill": {
     "duration": 0.009893,
     "end_time": "2023-07-18T23:47:37.060939",
     "exception": false,
     "start_time": "2023-07-18T23:47:37.051046",
     "status": "completed"
    },
    "tags": []
   },
   "source": [
    "## Rarefaction and other estimates of library diversity\n",
    "To help understand how many barcodes there are and how evenly the number of reads are distributed among these barcodes, we make rarefaction curves. \n",
    "We also compute a few other metrics of diversity:\n",
    " 1. number of barcodes observed >$n$ times up to the minimum number of CCSs required to call a consensus below.\n",
    " 2. [inverse Simpson index](https://en.wikipedia.org/wiki/Diversity_index#Simpson_index), which is reciprocal of probability two randomly drawn sequences have same barcode."
   ]
  },
  {
   "cell_type": "code",
   "execution_count": 13,
   "id": "8195ddbf-c7a2-4fb5-b584-0ca0ff1632d7",
   "metadata": {
    "execution": {
     "iopub.execute_input": "2023-07-18T23:47:37.087089Z",
     "iopub.status.busy": "2023-07-18T23:47:37.086790Z",
     "iopub.status.idle": "2023-07-18T23:47:41.395465Z",
     "shell.execute_reply": "2023-07-18T23:47:41.394862Z"
    },
    "papermill": {
     "duration": 4.326675,
     "end_time": "2023-07-18T23:47:41.398215",
     "exception": false,
     "start_time": "2023-07-18T23:47:37.071540",
     "status": "completed"
    },
    "tags": []
   },
   "outputs": [
    {
     "data": {
      "text/html": [
       "\n",
       "<style>\n",
       "  #altair-viz-cf466cba936d4e7f8b5e2b104d3c0231.vega-embed {\n",
       "    width: 100%;\n",
       "    display: flex;\n",
       "  }\n",
       "\n",
       "  #altair-viz-cf466cba936d4e7f8b5e2b104d3c0231.vega-embed details,\n",
       "  #altair-viz-cf466cba936d4e7f8b5e2b104d3c0231.vega-embed details summary {\n",
       "    position: relative;\n",
       "  }\n",
       "</style>\n",
       "<div id=\"altair-viz-cf466cba936d4e7f8b5e2b104d3c0231\"></div>\n",
       "<script type=\"text/javascript\">\n",
       "  var VEGA_DEBUG = (typeof VEGA_DEBUG == \"undefined\") ? {} : VEGA_DEBUG;\n",
       "  (function(spec, embedOpt){\n",
       "    let outputDiv = document.currentScript.previousElementSibling;\n",
       "    if (outputDiv.id !== \"altair-viz-cf466cba936d4e7f8b5e2b104d3c0231\") {\n",
       "      outputDiv = document.getElementById(\"altair-viz-cf466cba936d4e7f8b5e2b104d3c0231\");\n",
       "    }\n",
       "    const paths = {\n",
       "      \"vega\": \"https://cdn.jsdelivr.net/npm/vega@5?noext\",\n",
       "      \"vega-lib\": \"https://cdn.jsdelivr.net/npm/vega-lib?noext\",\n",
       "      \"vega-lite\": \"https://cdn.jsdelivr.net/npm/vega-lite@5.8.0?noext\",\n",
       "      \"vega-embed\": \"https://cdn.jsdelivr.net/npm/vega-embed@6?noext\",\n",
       "    };\n",
       "\n",
       "    function maybeLoadScript(lib, version) {\n",
       "      var key = `${lib.replace(\"-\", \"\")}_version`;\n",
       "      return (VEGA_DEBUG[key] == version) ?\n",
       "        Promise.resolve(paths[lib]) :\n",
       "        new Promise(function(resolve, reject) {\n",
       "          var s = document.createElement('script');\n",
       "          document.getElementsByTagName(\"head\")[0].appendChild(s);\n",
       "          s.async = true;\n",
       "          s.onload = () => {\n",
       "            VEGA_DEBUG[key] = version;\n",
       "            return resolve(paths[lib]);\n",
       "          };\n",
       "          s.onerror = () => reject(`Error loading script: ${paths[lib]}`);\n",
       "          s.src = paths[lib];\n",
       "        });\n",
       "    }\n",
       "\n",
       "    function showError(err) {\n",
       "      outputDiv.innerHTML = `<div class=\"error\" style=\"color:red;\">${err}</div>`;\n",
       "      throw err;\n",
       "    }\n",
       "\n",
       "    function displayChart(vegaEmbed) {\n",
       "      vegaEmbed(outputDiv, spec, embedOpt)\n",
       "        .catch(err => showError(`Javascript Error: ${err.message}<br>This usually means there's a typo in your chart specification. See the javascript console for the full traceback.`));\n",
       "    }\n",
       "\n",
       "    if(typeof define === \"function\" && define.amd) {\n",
       "      requirejs.config({paths});\n",
       "      require([\"vega-embed\"], displayChart, err => showError(`Error loading script: ${err.message}`));\n",
       "    } else {\n",
       "      maybeLoadScript(\"vega\", \"5\")\n",
       "        .then(() => maybeLoadScript(\"vega-lite\", \"5.8.0\"))\n",
       "        .then(() => maybeLoadScript(\"vega-embed\", \"6\"))\n",
       "        .catch(showError)\n",
       "        .then(() => displayChart(vegaEmbed));\n",
       "    }\n",
       "  })({\"config\": {\"view\": {\"continuousWidth\": 300, \"continuousHeight\": 300}}, \"data\": {\"name\": \"data-56189940b6803095e29c362398ee2eef\"}, \"mark\": {\"type\": \"point\", \"filled\": true, \"size\": 10}, \"encoding\": {\"color\": {\"field\": \"library\", \"type\": \"nominal\"}, \"tooltip\": [{\"field\": \"ncounts\", \"type\": \"quantitative\"}, {\"field\": \"nbarcodes\", \"type\": \"quantitative\"}, {\"field\": \"library\", \"type\": \"nominal\"}], \"x\": {\"field\": \"ncounts\", \"title\": \"number of CCSs\", \"type\": \"quantitative\"}, \"y\": {\"field\": \"nbarcodes\", \"title\": \"number of barcodes\", \"type\": \"quantitative\"}}, \"height\": 175, \"resolve\": {\"scale\": {\"y\": \"independent\"}}, \"width\": 300, \"$schema\": \"https://vega.github.io/schema/vega-lite/v5.8.0.json\", \"datasets\": {\"data-56189940b6803095e29c362398ee2eef\": [{\"ncounts\": 1, \"nbarcodes\": 1.0001048592093866, \"library\": \"LibA\"}, {\"ncounts\": 2070, \"nbarcodes\": 2016.2234633897897, \"library\": \"LibA\"}, {\"ncounts\": 4139, \"nbarcodes\": 3930.9441792244033, \"library\": \"LibA\"}, {\"ncounts\": 6209, \"nbarcodes\": 5755.318403056954, \"library\": \"LibA\"}, {\"ncounts\": 8278, \"nbarcodes\": 7495.549609531634, \"library\": \"LibA\"}, {\"ncounts\": 10347, \"nbarcodes\": 9159.4365799207, \"library\": \"LibA\"}, {\"ncounts\": 12417, \"nbarcodes\": 10753.760163606916, \"library\": \"LibA\"}, {\"ncounts\": 14486, \"nbarcodes\": 12282.289465261274, \"library\": \"LibA\"}, {\"ncounts\": 16555, \"nbarcodes\": 13750.517689633372, \"library\": \"LibA\"}, {\"ncounts\": 18625, \"nbarcodes\": 15163.312058243653, \"library\": \"LibA\"}, {\"ncounts\": 20694, \"nbarcodes\": 16523.07351715282, \"library\": \"LibA\"}, {\"ncounts\": 22763, \"nbarcodes\": 17833.88855531314, \"library\": \"LibA\"}, {\"ncounts\": 24833, \"nbarcodes\": 19099.426034666496, \"library\": \"LibA\"}, {\"ncounts\": 26902, \"nbarcodes\": 20321.249808512148, \"library\": \"LibA\"}, {\"ncounts\": 28971, \"nbarcodes\": 21502.52058227689, \"library\": \"LibA\"}, {\"ncounts\": 31041, \"nbarcodes\": 22646.10225977945, \"library\": \"LibA\"}, {\"ncounts\": 33110, \"nbarcodes\": 23753.018504814856, \"library\": \"LibA\"}, {\"ncounts\": 35180, \"nbarcodes\": 24826.29705881291, \"library\": \"LibA\"}, {\"ncounts\": 37249, \"nbarcodes\": 25866.70320804238, \"library\": \"LibA\"}, {\"ncounts\": 39318, \"nbarcodes\": 26876.428721331948, \"library\": \"LibA\"}, {\"ncounts\": 41388, \"nbarcodes\": 27857.481615424345, \"library\": \"LibA\"}, {\"ncounts\": 43457, \"nbarcodes\": 28810.34487259625, \"library\": \"LibA\"}, {\"ncounts\": 45526, \"nbarcodes\": 29736.827433951155, \"library\": \"LibA\"}, {\"ncounts\": 47596, \"nbarcodes\": 30638.5968118687, \"library\": \"LibA\"}, {\"ncounts\": 49665, \"nbarcodes\": 31515.935855351578, \"library\": \"LibA\"}, {\"ncounts\": 51734, \"nbarcodes\": 32370.364851792663, \"library\": \"LibA\"}, {\"ncounts\": 53804, \"nbarcodes\": 33203.28991759314, \"library\": \"LibA\"}, {\"ncounts\": 55873, \"nbarcodes\": 34014.852244089445, \"library\": \"LibA\"}, {\"ncounts\": 57942, \"nbarcodes\": 34806.346158587985, \"library\": \"LibA\"}, {\"ncounts\": 60012, \"nbarcodes\": 35578.97496964132, \"library\": \"LibA\"}, {\"ncounts\": 62081, \"nbarcodes\": 36332.776431296574, \"library\": \"LibA\"}, {\"ncounts\": 64151, \"nbarcodes\": 37069.21903402213, \"library\": \"LibA\"}, {\"ncounts\": 66220, \"nbarcodes\": 37788.288332210286, \"library\": \"LibA\"}, {\"ncounts\": 68289, \"nbarcodes\": 38491.00244167223, \"library\": \"LibA\"}, {\"ncounts\": 70359, \"nbarcodes\": 39178.31168560748, \"library\": \"LibA\"}, {\"ncounts\": 72428, \"nbarcodes\": 39850.14057538807, \"library\": \"LibA\"}, {\"ncounts\": 74497, \"nbarcodes\": 40507.382540829756, \"library\": \"LibA\"}, {\"ncounts\": 76567, \"nbarcodes\": 41150.87267292001, \"library\": \"LibA\"}, {\"ncounts\": 78636, \"nbarcodes\": 41780.49150805682, \"library\": \"LibA\"}, {\"ncounts\": 80705, \"nbarcodes\": 42397.02918599878, \"library\": \"LibA\"}, {\"ncounts\": 82775, \"nbarcodes\": 43001.226823959645, \"library\": \"LibA\"}, {\"ncounts\": 84844, \"nbarcodes\": 43592.931234715186, \"library\": \"LibA\"}, {\"ncounts\": 86913, \"nbarcodes\": 44172.847225735444, \"library\": \"LibA\"}, {\"ncounts\": 88983, \"nbarcodes\": 44741.63702948316, \"library\": \"LibA\"}, {\"ncounts\": 91052, \"nbarcodes\": 45299.12402413964, \"library\": \"LibA\"}, {\"ncounts\": 93121, \"nbarcodes\": 45845.940305267, \"library\": \"LibA\"}, {\"ncounts\": 95191, \"nbarcodes\": 46382.68195844229, \"library\": \"LibA\"}, {\"ncounts\": 97260, \"nbarcodes\": 46909.154424398635, \"library\": \"LibA\"}, {\"ncounts\": 99330, \"nbarcodes\": 47426.17651014285, \"library\": \"LibA\"}, {\"ncounts\": 101399, \"nbarcodes\": 47933.54509570497, \"library\": \"LibA\"}, {\"ncounts\": 103468, \"nbarcodes\": 48431.79587322081, \"library\": \"LibA\"}, {\"ncounts\": 105538, \"nbarcodes\": 48921.43486322085, \"library\": \"LibA\"}, {\"ncounts\": 107607, \"nbarcodes\": 49402.249294268746, \"library\": \"LibA\"}, {\"ncounts\": 109676, \"nbarcodes\": 49874.72717481807, \"library\": \"LibA\"}, {\"ncounts\": 111746, \"nbarcodes\": 50339.33094127968, \"library\": \"LibA\"}, {\"ncounts\": 113815, \"nbarcodes\": 50795.84092065855, \"library\": \"LibA\"}, {\"ncounts\": 115884, \"nbarcodes\": 51244.70441921833, \"library\": \"LibA\"}, {\"ncounts\": 117954, \"nbarcodes\": 51686.34488739741, \"library\": \"LibA\"}, {\"ncounts\": 120023, \"nbarcodes\": 52120.5393899596, \"library\": \"LibA\"}, {\"ncounts\": 122092, \"nbarcodes\": 52547.699744515514, \"library\": \"LibA\"}, {\"ncounts\": 124162, \"nbarcodes\": 52968.215191175084, \"library\": \"LibA\"}, {\"ncounts\": 126231, \"nbarcodes\": 53381.86169926873, \"library\": \"LibA\"}, {\"ncounts\": 128301, \"nbarcodes\": 53789.21371615634, \"library\": \"LibA\"}, {\"ncounts\": 130370, \"nbarcodes\": 54190.04634496138, \"library\": \"LibA\"}, {\"ncounts\": 132439, \"nbarcodes\": 54584.719965389646, \"library\": \"LibA\"}, {\"ncounts\": 134509, \"nbarcodes\": 54973.577763982554, \"library\": \"LibA\"}, {\"ncounts\": 136578, \"nbarcodes\": 55356.394841330424, \"library\": \"LibA\"}, {\"ncounts\": 138647, \"nbarcodes\": 55733.50649684179, \"library\": \"LibA\"}, {\"ncounts\": 140717, \"nbarcodes\": 56105.23152352438, \"library\": \"LibA\"}, {\"ncounts\": 142786, \"nbarcodes\": 56471.346161270456, \"library\": \"LibA\"}, {\"ncounts\": 144855, \"nbarcodes\": 56832.16342572458, \"library\": \"LibA\"}, {\"ncounts\": 146925, \"nbarcodes\": 57187.979629755195, \"library\": \"LibA\"}, {\"ncounts\": 148994, \"nbarcodes\": 57538.57456882492, \"library\": \"LibA\"}, {\"ncounts\": 151063, \"nbarcodes\": 57884.23930161098, \"library\": \"LibA\"}, {\"ncounts\": 153133, \"nbarcodes\": 58225.25260546866, \"library\": \"LibA\"}, {\"ncounts\": 155202, \"nbarcodes\": 58561.3953456508, \"library\": \"LibA\"}, {\"ncounts\": 157272, \"nbarcodes\": 58893.10043700447, \"library\": \"LibA\"}, {\"ncounts\": 159341, \"nbarcodes\": 59220.151273829884, \"library\": \"LibA\"}, {\"ncounts\": 161410, \"nbarcodes\": 59542.80979495641, \"library\": \"LibA\"}, {\"ncounts\": 163480, \"nbarcodes\": 59861.326774626315, \"library\": \"LibA\"}, {\"ncounts\": 165549, \"nbarcodes\": 60175.48893551443, \"library\": \"LibA\"}, {\"ncounts\": 167618, \"nbarcodes\": 60485.54248140588, \"library\": \"LibA\"}, {\"ncounts\": 169688, \"nbarcodes\": 60791.72370139956, \"library\": \"LibA\"}, {\"ncounts\": 171757, \"nbarcodes\": 61093.822866149996, \"library\": \"LibA\"}, {\"ncounts\": 173826, \"nbarcodes\": 61392.07267109752, \"library\": \"LibA\"}, {\"ncounts\": 175896, \"nbarcodes\": 61686.695543555696, \"library\": \"LibA\"}, {\"ncounts\": 177965, \"nbarcodes\": 61977.48572121943, \"library\": \"LibA\"}, {\"ncounts\": 180034, \"nbarcodes\": 62264.663245275784, \"library\": \"LibA\"}, {\"ncounts\": 182104, \"nbarcodes\": 62548.43827818968, \"library\": \"LibA\"}, {\"ncounts\": 184173, \"nbarcodes\": 62828.60890172798, \"library\": \"LibA\"}, {\"ncounts\": 186242, \"nbarcodes\": 63105.38388294478, \"library\": \"LibA\"}, {\"ncounts\": 188312, \"nbarcodes\": 63378.96206173133, \"library\": \"LibA\"}, {\"ncounts\": 190381, \"nbarcodes\": 63649.14569516975, \"library\": \"LibA\"}, {\"ncounts\": 192451, \"nbarcodes\": 63916.26034794669, \"library\": \"LibA\"}, {\"ncounts\": 194520, \"nbarcodes\": 64180.11084978869, \"library\": \"LibA\"}, {\"ncounts\": 196589, \"nbarcodes\": 64440.88783801565, \"library\": \"LibA\"}, {\"ncounts\": 198659, \"nbarcodes\": 64698.77479612222, \"library\": \"LibA\"}, {\"ncounts\": 200728, \"nbarcodes\": 64953.58030155101, \"library\": \"LibA\"}, {\"ncounts\": 202797, \"nbarcodes\": 65205.48558280768, \"library\": \"LibA\"}, {\"ncounts\": 204867, \"nbarcodes\": 65454.66542136396, \"library\": \"LibA\"}, {\"ncounts\": 206936, \"nbarcodes\": 65700.93235589497, \"library\": \"LibA\"}, {\"ncounts\": 209005, \"nbarcodes\": 65944.45927951514, \"library\": \"LibA\"}, {\"ncounts\": 211075, \"nbarcodes\": 66185.41245309333, \"library\": \"LibA\"}, {\"ncounts\": 213144, \"nbarcodes\": 66423.60858683145, \"library\": \"LibA\"}, {\"ncounts\": 215213, \"nbarcodes\": 66659.21265099221, \"library\": \"LibA\"}, {\"ncounts\": 217283, \"nbarcodes\": 66892.38391568945, \"library\": \"LibA\"}, {\"ncounts\": 219352, \"nbarcodes\": 67122.9421981612, \"library\": \"LibA\"}, {\"ncounts\": 221422, \"nbarcodes\": 67351.15553256348, \"library\": \"LibA\"}, {\"ncounts\": 223491, \"nbarcodes\": 67576.8463493009, \"library\": \"LibA\"}, {\"ncounts\": 225560, \"nbarcodes\": 67800.16839371843, \"library\": \"LibA\"}, {\"ncounts\": 227630, \"nbarcodes\": 68021.26871420298, \"library\": \"LibA\"}, {\"ncounts\": 229699, \"nbarcodes\": 68239.97436393608, \"library\": \"LibA\"}, {\"ncounts\": 231768, \"nbarcodes\": 68456.432185354, \"library\": \"LibA\"}, {\"ncounts\": 233838, \"nbarcodes\": 68670.78310089358, \"library\": \"LibA\"}, {\"ncounts\": 235907, \"nbarcodes\": 68882.85845585048, \"library\": \"LibA\"}, {\"ncounts\": 237976, \"nbarcodes\": 69092.79831092672, \"library\": \"LibA\"}, {\"ncounts\": 240046, \"nbarcodes\": 69300.73856159992, \"library\": \"LibA\"}, {\"ncounts\": 242115, \"nbarcodes\": 69506.51331484393, \"library\": \"LibA\"}, {\"ncounts\": 244184, \"nbarcodes\": 69710.25808028704, \"library\": \"LibA\"}, {\"ncounts\": 246254, \"nbarcodes\": 69912.10231367288, \"library\": \"LibA\"}, {\"ncounts\": 248323, \"nbarcodes\": 70111.88458153215, \"library\": \"LibA\"}, {\"ncounts\": 250392, \"nbarcodes\": 70309.7344999375, \"library\": \"LibA\"}, {\"ncounts\": 252462, \"nbarcodes\": 70505.77711839463, \"library\": \"LibA\"}, {\"ncounts\": 254531, \"nbarcodes\": 70699.85402075571, \"library\": \"LibA\"}, {\"ncounts\": 256601, \"nbarcodes\": 70892.18213484208, \"library\": \"LibA\"}, {\"ncounts\": 258670, \"nbarcodes\": 71082.60530755427, \"library\": \"LibA\"}, {\"ncounts\": 260739, \"nbarcodes\": 71271.24509227788, \"library\": \"LibA\"}, {\"ncounts\": 262809, \"nbarcodes\": 71458.21936335781, \"library\": \"LibA\"}, {\"ncounts\": 264878, \"nbarcodes\": 71643.37472272199, \"library\": \"LibA\"}, {\"ncounts\": 266947, \"nbarcodes\": 71826.82866960428, \"library\": \"LibA\"}, {\"ncounts\": 269017, \"nbarcodes\": 72008.69463673985, \"library\": \"LibA\"}, {\"ncounts\": 271086, \"nbarcodes\": 72188.82281774882, \"library\": \"LibA\"}, {\"ncounts\": 273155, \"nbarcodes\": 72367.3262108361, \"library\": \"LibA\"}, {\"ncounts\": 275225, \"nbarcodes\": 72544.31484188962, \"library\": \"LibA\"}, {\"ncounts\": 277294, \"nbarcodes\": 72719.64104085963, \"library\": \"LibA\"}, {\"ncounts\": 279363, \"nbarcodes\": 72893.41474958893, \"library\": \"LibA\"}, {\"ncounts\": 281433, \"nbarcodes\": 73065.74165392791, \"library\": \"LibA\"}, {\"ncounts\": 283502, \"nbarcodes\": 73236.47803557027, \"library\": \"LibA\"}, {\"ncounts\": 285572, \"nbarcodes\": 73405.81068798882, \"library\": \"LibA\"}, {\"ncounts\": 287641, \"nbarcodes\": 73573.5979217052, \"library\": \"LibA\"}, {\"ncounts\": 289710, \"nbarcodes\": 73739.94320189278, \"library\": \"LibA\"}, {\"ncounts\": 291780, \"nbarcodes\": 73904.94621360154, \"library\": \"LibA\"}, {\"ncounts\": 293849, \"nbarcodes\": 74068.46840652559, \"library\": \"LibA\"}, {\"ncounts\": 295918, \"nbarcodes\": 74230.60974776879, \"library\": \"LibA\"}, {\"ncounts\": 297988, \"nbarcodes\": 74391.46673735057, \"library\": \"LibA\"}, {\"ncounts\": 300057, \"nbarcodes\": 74550.90373834527, \"library\": \"LibA\"}, {\"ncounts\": 302126, \"nbarcodes\": 74709.01696509225, \"library\": \"LibA\"}, {\"ncounts\": 304196, \"nbarcodes\": 74865.90103775111, \"library\": \"LibA\"}, {\"ncounts\": 306265, \"nbarcodes\": 75021.4218229909, \"library\": \"LibA\"}, {\"ncounts\": 308334, \"nbarcodes\": 75175.67384625628, \"library\": \"LibA\"}, {\"ncounts\": 310404, \"nbarcodes\": 75328.74773464716, \"library\": \"LibA\"}, {\"ncounts\": 312473, \"nbarcodes\": 75480.51268540304, \"library\": \"LibA\"}, {\"ncounts\": 314543, \"nbarcodes\": 75631.13235014587, \"library\": \"LibA\"}, {\"ncounts\": 316612, \"nbarcodes\": 75780.47744819545, \"library\": \"LibA\"}, {\"ncounts\": 318681, \"nbarcodes\": 75928.6373553256, \"library\": \"LibA\"}, {\"ncounts\": 320751, \"nbarcodes\": 76075.698611698, \"library\": \"LibA\"}, {\"ncounts\": 322820, \"nbarcodes\": 76221.53483314542, \"library\": \"LibA\"}, {\"ncounts\": 324889, \"nbarcodes\": 76366.23232432865, \"library\": \"LibA\"}, {\"ncounts\": 326959, \"nbarcodes\": 76509.875394529, \"library\": \"LibA\"}, {\"ncounts\": 329028, \"nbarcodes\": 76652.33990638008, \"library\": \"LibA\"}, {\"ncounts\": 331097, \"nbarcodes\": 76793.7098791101, \"library\": \"LibA\"}, {\"ncounts\": 333167, \"nbarcodes\": 76934.06721357332, \"library\": \"LibA\"}, {\"ncounts\": 335236, \"nbarcodes\": 77073.29041970435, \"library\": \"LibA\"}, {\"ncounts\": 337305, \"nbarcodes\": 77211.46067546654, \"library\": \"LibA\"}, {\"ncounts\": 339375, \"nbarcodes\": 77348.65782450754, \"library\": \"LibA\"}, {\"ncounts\": 341444, \"nbarcodes\": 77484.76259473614, \"library\": \"LibA\"}, {\"ncounts\": 343513, \"nbarcodes\": 77619.85423235083, \"library\": \"LibA\"}, {\"ncounts\": 345583, \"nbarcodes\": 77754.01017724231, \"library\": \"LibA\"}, {\"ncounts\": 347652, \"nbarcodes\": 77887.1133640442, \"library\": \"LibA\"}, {\"ncounts\": 349722, \"nbarcodes\": 78019.30481959727, \"library\": \"LibA\"}, {\"ncounts\": 351791, \"nbarcodes\": 78150.46888863239, \"library\": \"LibA\"}, {\"ncounts\": 353860, \"nbarcodes\": 78280.68142828418, \"library\": \"LibA\"}, {\"ncounts\": 355930, \"nbarcodes\": 78410.01658298298, \"library\": \"LibA\"}, {\"ncounts\": 357999, \"nbarcodes\": 78538.36074645433, \"library\": \"LibA\"}, {\"ncounts\": 360068, \"nbarcodes\": 78665.78797441242, \"library\": \"LibA\"}, {\"ncounts\": 362138, \"nbarcodes\": 78792.37015032975, \"library\": \"LibA\"}, {\"ncounts\": 364207, \"nbarcodes\": 78917.99627443349, \"library\": \"LibA\"}, {\"ncounts\": 366276, \"nbarcodes\": 79042.7381580722, \"library\": \"LibA\"}, {\"ncounts\": 368346, \"nbarcodes\": 79166.6660285956, \"library\": \"LibA\"}, {\"ncounts\": 370415, \"nbarcodes\": 79289.67065649877, \"library\": \"LibA\"}, {\"ncounts\": 372484, \"nbarcodes\": 79411.82223340569, \"library\": \"LibA\"}, {\"ncounts\": 374554, \"nbarcodes\": 79533.18920194072, \"library\": \"LibA\"}, {\"ncounts\": 376623, \"nbarcodes\": 79653.66437318134, \"library\": \"LibA\"}, {\"ncounts\": 378693, \"nbarcodes\": 79773.3738110397, \"library\": \"LibA\"}, {\"ncounts\": 380762, \"nbarcodes\": 79892.21134560855, \"library\": \"LibA\"}, {\"ncounts\": 382831, \"nbarcodes\": 80010.2446354658, \"library\": \"LibA\"}, {\"ncounts\": 384901, \"nbarcodes\": 80127.53934694946, \"library\": \"LibA\"}, {\"ncounts\": 386970, \"nbarcodes\": 80243.99106056044, \"library\": \"LibA\"}, {\"ncounts\": 389039, \"nbarcodes\": 80359.66596513154, \"library\": \"LibA\"}, {\"ncounts\": 391109, \"nbarcodes\": 80474.62784468941, \"library\": \"LibA\"}, {\"ncounts\": 393178, \"nbarcodes\": 80588.77472206563, \"library\": \"LibA\"}, {\"ncounts\": 395247, \"nbarcodes\": 80702.17059544867, \"library\": \"LibA\"}, {\"ncounts\": 397317, \"nbarcodes\": 80814.87831812592, \"library\": \"LibA\"}, {\"ncounts\": 399386, \"nbarcodes\": 80926.79714850348, \"library\": \"LibA\"}, {\"ncounts\": 401455, \"nbarcodes\": 81037.9900529507, \"library\": \"LibA\"}, {\"ncounts\": 403525, \"nbarcodes\": 81148.51806673208, \"library\": \"LibA\"}, {\"ncounts\": 405594, \"nbarcodes\": 81258.2823909097, \"library\": \"LibA\"}, {\"ncounts\": 407664, \"nbarcodes\": 81367.39709235633, \"library\": \"LibA\"}, {\"ncounts\": 409733, \"nbarcodes\": 81475.76429182666, \"library\": \"LibA\"}, {\"ncounts\": 411802, \"nbarcodes\": 81583.4445530528, \"library\": \"LibA\"}, {\"ncounts\": 413872, \"nbarcodes\": 81690.49658987652, \"library\": \"LibA\"}, {\"ncounts\": 415941, \"nbarcodes\": 81796.82467228587, \"library\": \"LibA\"}, {\"ncounts\": 418010, \"nbarcodes\": 81902.48767195946, \"library\": \"LibA\"}, {\"ncounts\": 420080, \"nbarcodes\": 82007.54348564456, \"library\": \"LibA\"}, {\"ncounts\": 422149, \"nbarcodes\": 82111.89762135608, \"library\": \"LibA\"}, {\"ncounts\": 424218, \"nbarcodes\": 82215.60746708888, \"library\": \"LibA\"}, {\"ncounts\": 426288, \"nbarcodes\": 82318.73008997421, \"library\": \"LibA\"}, {\"ncounts\": 428357, \"nbarcodes\": 82421.17218409615, \"library\": \"LibA\"}, {\"ncounts\": 430426, \"nbarcodes\": 82522.99048371609, \"library\": \"LibA\"}, {\"ncounts\": 432496, \"nbarcodes\": 82624.24016390645, \"library\": \"LibA\"}, {\"ncounts\": 434565, \"nbarcodes\": 82724.82997128791, \"library\": \"LibA\"}, {\"ncounts\": 436634, \"nbarcodes\": 82824.81540855882, \"library\": \"LibA\"}, {\"ncounts\": 438704, \"nbarcodes\": 82924.25018406907, \"library\": \"LibA\"}, {\"ncounts\": 440773, \"nbarcodes\": 83023.04463993311, \"library\": \"LibA\"}, {\"ncounts\": 442843, \"nbarcodes\": 83121.30050069845, \"library\": \"LibA\"}, {\"ncounts\": 444912, \"nbarcodes\": 83218.92841509801, \"library\": \"LibA\"}, {\"ncounts\": 446981, \"nbarcodes\": 83315.98234332123, \"library\": \"LibA\"}, {\"ncounts\": 449051, \"nbarcodes\": 83412.51423328015, \"library\": \"LibA\"}, {\"ncounts\": 451120, \"nbarcodes\": 83508.43667716275, \"library\": \"LibA\"}, {\"ncounts\": 453189, \"nbarcodes\": 83603.80224115956, \"library\": \"LibA\"}, {\"ncounts\": 455259, \"nbarcodes\": 83698.6618391008, \"library\": \"LibA\"}, {\"ncounts\": 457328, \"nbarcodes\": 83792.92970914257, \"library\": \"LibA\"}, {\"ncounts\": 459397, \"nbarcodes\": 83886.65696717543, \"library\": \"LibA\"}, {\"ncounts\": 461467, \"nbarcodes\": 83979.89386572679, \"library\": \"LibA\"}, {\"ncounts\": 463536, \"nbarcodes\": 84072.5559360428, \"library\": \"LibA\"}, {\"ncounts\": 465605, \"nbarcodes\": 84164.69307746613, \"library\": \"LibA\"}, {\"ncounts\": 467675, \"nbarcodes\": 84256.35485179754, \"library\": \"LibA\"}, {\"ncounts\": 469744, \"nbarcodes\": 84347.45765860387, \"library\": \"LibA\"}, {\"ncounts\": 471814, \"nbarcodes\": 84438.0945029687, \"library\": \"LibA\"}, {\"ncounts\": 473883, \"nbarcodes\": 84528.18301411954, \"library\": \"LibA\"}, {\"ncounts\": 475952, \"nbarcodes\": 84617.77167223199, \"library\": \"LibA\"}, {\"ncounts\": 478022, \"nbarcodes\": 84706.9082735772, \"library\": \"LibA\"}, {\"ncounts\": 480091, \"nbarcodes\": 84795.5116877458, \"library\": \"LibA\"}, {\"ncounts\": 482160, \"nbarcodes\": 84883.6294294598, \"library\": \"LibA\"}, {\"ncounts\": 484230, \"nbarcodes\": 84971.30836054904, \"library\": \"LibA\"}, {\"ncounts\": 486299, \"nbarcodes\": 85058.46852268197, \"library\": \"LibA\"}, {\"ncounts\": 488368, \"nbarcodes\": 85145.15680572914, \"library\": \"LibA\"}, {\"ncounts\": 490438, \"nbarcodes\": 85231.41927429779, \"library\": \"LibA\"}, {\"ncounts\": 492507, \"nbarcodes\": 85317.1765787836, \"library\": \"LibA\"}, {\"ncounts\": 494576, \"nbarcodes\": 85402.47521818057, \"library\": \"LibA\"}, {\"ncounts\": 496646, \"nbarcodes\": 85487.36026235507, \"library\": \"LibA\"}, {\"ncounts\": 498715, \"nbarcodes\": 85571.75379984485, \"library\": \"LibA\"}, {\"ncounts\": 500784, \"nbarcodes\": 85655.70124159599, \"library\": \"LibA\"}, {\"ncounts\": 502854, \"nbarcodes\": 85739.24674939518, \"library\": \"LibA\"}, {\"ncounts\": 504923, \"nbarcodes\": 85822.31383439354, \"library\": \"LibA\"}, {\"ncounts\": 506993, \"nbarcodes\": 85904.9866306417, \"library\": \"LibA\"}, {\"ncounts\": 509062, \"nbarcodes\": 85987.1894473375, \"library\": \"LibA\"}, {\"ncounts\": 511131, \"nbarcodes\": 86068.96598302305, \"library\": \"LibA\"}, {\"ncounts\": 513201, \"nbarcodes\": 86150.35941823239, \"library\": \"LibA\"}, {\"ncounts\": 515270, \"nbarcodes\": 86231.29477413374, \"library\": \"LibA\"}, {\"ncounts\": 517339, \"nbarcodes\": 86311.81542451569, \"library\": \"LibA\"}, {\"ncounts\": 519409, \"nbarcodes\": 86391.96346610603, \"library\": \"LibA\"}, {\"ncounts\": 521478, \"nbarcodes\": 86471.66550529878, \"library\": \"LibA\"}, {\"ncounts\": 523547, \"nbarcodes\": 86550.96341117601, \"library\": \"LibA\"}, {\"ncounts\": 525617, \"nbarcodes\": 86629.89923405263, \"library\": \"LibA\"}, {\"ncounts\": 527686, \"nbarcodes\": 86708.40007006127, \"library\": \"LibA\"}, {\"ncounts\": 529755, \"nbarcodes\": 86786.50759671887, \"library\": \"LibA\"}, {\"ncounts\": 531825, \"nbarcodes\": 86864.2629084691, \"library\": \"LibA\"}, {\"ncounts\": 533894, \"nbarcodes\": 86941.59410179727, \"library\": \"LibA\"}, {\"ncounts\": 535964, \"nbarcodes\": 87018.5793808756, \"library\": \"LibA\"}, {\"ncounts\": 538033, \"nbarcodes\": 87095.14766214945, \"library\": \"LibA\"}, {\"ncounts\": 540102, \"nbarcodes\": 87171.33941902372, \"library\": \"LibA\"}, {\"ncounts\": 542172, \"nbarcodes\": 87247.19447423024, \"library\": \"LibA\"}, {\"ncounts\": 544241, \"nbarcodes\": 87322.64287573521, \"library\": \"LibA\"}, {\"ncounts\": 546310, \"nbarcodes\": 87397.72428278078, \"library\": \"LibA\"}, {\"ncounts\": 548380, \"nbarcodes\": 87472.47808344089, \"library\": \"LibA\"}, {\"ncounts\": 550449, \"nbarcodes\": 87546.83496710547, \"library\": \"LibA\"}, {\"ncounts\": 552518, \"nbarcodes\": 87620.83423751305, \"library\": \"LibA\"}, {\"ncounts\": 554588, \"nbarcodes\": 87694.51452898062, \"library\": \"LibA\"}, {\"ncounts\": 556657, \"nbarcodes\": 87767.80746564906, \"library\": \"LibA\"}, {\"ncounts\": 558726, \"nbarcodes\": 87840.75167214058, \"library\": \"LibA\"}, {\"ncounts\": 560796, \"nbarcodes\": 87913.38529212453, \"library\": \"LibA\"}, {\"ncounts\": 562865, \"nbarcodes\": 87985.64085556833, \"library\": \"LibA\"}, {\"ncounts\": 564935, \"nbarcodes\": 88057.59100157765, \"library\": \"LibA\"}, {\"ncounts\": 567004, \"nbarcodes\": 88129.16912063322, \"library\": \"LibA\"}, {\"ncounts\": 569073, \"nbarcodes\": 88200.41280407408, \"library\": \"LibA\"}, {\"ncounts\": 571143, \"nbarcodes\": 88271.35896884395, \"library\": \"LibA\"}, {\"ncounts\": 573212, \"nbarcodes\": 88341.94195706691, \"library\": \"LibA\"}, {\"ncounts\": 575281, \"nbarcodes\": 88412.19846335227, \"library\": \"LibA\"}, {\"ncounts\": 577351, \"nbarcodes\": 88482.16514960348, \"library\": \"LibA\"}, {\"ncounts\": 579420, \"nbarcodes\": 88551.7770194021, \"library\": \"LibA\"}, {\"ncounts\": 581489, \"nbarcodes\": 88621.0703713371, \"library\": \"LibA\"}, {\"ncounts\": 583559, \"nbarcodes\": 88690.08122808482, \"library\": \"LibA\"}, {\"ncounts\": 585628, \"nbarcodes\": 88758.74524271637, \"library\": \"LibA\"}, {\"ncounts\": 587697, \"nbarcodes\": 88827.09859325341, \"library\": \"LibA\"}, {\"ncounts\": 589767, \"nbarcodes\": 88895.17639647821, \"library\": \"LibA\"}, {\"ncounts\": 591836, \"nbarcodes\": 88962.91540167732, \"library\": \"LibA\"}, {\"ncounts\": 593905, \"nbarcodes\": 89030.35094258533, \"library\": \"LibA\"}, {\"ncounts\": 595975, \"nbarcodes\": 89097.51790816073, \"library\": \"LibA\"}, {\"ncounts\": 598044, \"nbarcodes\": 89164.35361725972, \"library\": \"LibA\"}, {\"ncounts\": 600114, \"nbarcodes\": 89230.92525013696, \"library\": \"LibA\"}, {\"ncounts\": 602183, \"nbarcodes\": 89297.17058831485, \"library\": \"LibA\"}, {\"ncounts\": 604252, \"nbarcodes\": 89363.12421292611, \"library\": \"LibA\"}, {\"ncounts\": 606322, \"nbarcodes\": 89428.82021424253, \"library\": \"LibA\"}, {\"ncounts\": 608391, \"nbarcodes\": 89494.1970512183, \"library\": \"LibA\"}, {\"ncounts\": 610460, \"nbarcodes\": 89559.28910134222, \"library\": \"LibA\"}, {\"ncounts\": 612530, \"nbarcodes\": 89624.12976149858, \"library\": \"LibA\"}, {\"ncounts\": 614599, \"nbarcodes\": 89688.65822105216, \"library\": \"LibA\"}, {\"ncounts\": 616668, \"nbarcodes\": 89752.90830225698, \"library\": \"LibA\"}, {\"ncounts\": 618738, \"nbarcodes\": 89816.9130529349, \"library\": \"LibA\"}, {\"ncounts\": 620807, \"nbarcodes\": 89880.6126365765, \"library\": \"LibA\"}, {\"ncounts\": 622876, \"nbarcodes\": 89944.04025112024, \"library\": \"LibA\"}, {\"ncounts\": 624946, \"nbarcodes\": 90007.22810640273, \"library\": \"LibA\"}, {\"ncounts\": 627015, \"nbarcodes\": 90070.11749679454, \"library\": \"LibA\"}, {\"ncounts\": 629085, \"nbarcodes\": 90132.7710024126, \"library\": \"LibA\"}, {\"ncounts\": 631154, \"nbarcodes\": 90195.13045441872, \"library\": \"LibA\"}, {\"ncounts\": 633223, \"nbarcodes\": 90257.22770698168, \"library\": \"LibA\"}, {\"ncounts\": 635293, \"nbarcodes\": 90319.0949237029, \"library\": \"LibA\"}, {\"ncounts\": 637362, \"nbarcodes\": 90380.67391892592, \"library\": \"LibA\"}, {\"ncounts\": 639431, \"nbarcodes\": 90441.99692091274, \"library\": \"LibA\"}, {\"ncounts\": 641501, \"nbarcodes\": 90503.09504952762, \"library\": \"LibA\"}, {\"ncounts\": 643570, \"nbarcodes\": 90563.9112406538, \"library\": \"LibA\"}, {\"ncounts\": 645639, \"nbarcodes\": 90624.47678657423, \"library\": \"LibA\"}, {\"ncounts\": 647709, \"nbarcodes\": 90684.82282494692, \"library\": \"LibA\"}, {\"ncounts\": 649778, \"nbarcodes\": 90744.89277024768, \"library\": \"LibA\"}, {\"ncounts\": 651847, \"nbarcodes\": 90804.71760845331, \"library\": \"LibA\"}, {\"ncounts\": 653917, \"nbarcodes\": 90864.32791437385, \"library\": \"LibA\"}, {\"ncounts\": 655986, \"nbarcodes\": 90923.66783203525, \"library\": \"LibA\"}, {\"ncounts\": 658056, \"nbarcodes\": 90982.79640108394, \"library\": \"LibA\"}, {\"ncounts\": 660125, \"nbarcodes\": 91041.65854780874, \"library\": \"LibA\"}, {\"ncounts\": 662194, \"nbarcodes\": 91100.2841521315, \"library\": \"LibA\"}, {\"ncounts\": 664264, \"nbarcodes\": 91158.70332827768, \"library\": \"LibA\"}, {\"ncounts\": 666333, \"nbarcodes\": 91216.86136033034, \"library\": \"LibA\"}, {\"ncounts\": 668402, \"nbarcodes\": 91274.78797610861, \"library\": \"LibA\"}, {\"ncounts\": 670472, \"nbarcodes\": 91332.51294186943, \"library\": \"LibA\"}, {\"ncounts\": 672541, \"nbarcodes\": 91389.98179216859, \"library\": \"LibA\"}, {\"ncounts\": 674610, \"nbarcodes\": 91447.22427562847, \"library\": \"LibA\"}, {\"ncounts\": 676680, \"nbarcodes\": 91504.26948187804, \"library\": \"LibA\"}, {\"ncounts\": 678749, \"nbarcodes\": 91561.06399299625, \"library\": \"LibA\"}, {\"ncounts\": 680818, \"nbarcodes\": 91617.6367445956, \"library\": \"LibA\"}, {\"ncounts\": 682888, \"nbarcodes\": 91674.01652999928, \"library\": \"LibA\"}, {\"ncounts\": 684957, \"nbarcodes\": 91730.15050644643, \"library\": \"LibA\"}, {\"ncounts\": 687026, \"nbarcodes\": 91786.06745449634, \"library\": \"LibA\"}, {\"ncounts\": 689096, \"nbarcodes\": 91841.79562937678, \"library\": \"LibA\"}, {\"ncounts\": 691165, \"nbarcodes\": 91897.28289696886, \"library\": \"LibA\"}, {\"ncounts\": 693235, \"nbarcodes\": 91952.58429169227, \"library\": \"LibA\"}, {\"ncounts\": 695304, \"nbarcodes\": 92007.6478543978, \"library\": \"LibA\"}, {\"ncounts\": 697373, \"nbarcodes\": 92062.50163089094, \"library\": \"LibA\"}, {\"ncounts\": 699443, \"nbarcodes\": 92117.173662265, \"library\": \"LibA\"}, {\"ncounts\": 701512, \"nbarcodes\": 92171.61230722023, \"library\": \"LibA\"}, {\"ncounts\": 703581, \"nbarcodes\": 92225.84573501191, \"library\": \"LibA\"}, {\"ncounts\": 705651, \"nbarcodes\": 92279.90101437591, \"library\": \"LibA\"}, {\"ncounts\": 707720, \"nbarcodes\": 92333.72771325555, \"library\": \"LibA\"}, {\"ncounts\": 709789, \"nbarcodes\": 92387.35318107238, \"library\": \"LibA\"}, {\"ncounts\": 711859, \"nbarcodes\": 92440.80443186552, \"library\": \"LibA\"}, {\"ncounts\": 713928, \"nbarcodes\": 92494.03135744284, \"library\": \"LibA\"}, {\"ncounts\": 715997, \"nbarcodes\": 92547.06107868359, \"library\": \"LibA\"}, {\"ncounts\": 718067, \"nbarcodes\": 92599.9203371391, \"library\": \"LibA\"}, {\"ncounts\": 720136, \"nbarcodes\": 92652.55945798071, \"library\": \"LibA\"}, {\"ncounts\": 722206, \"nbarcodes\": 92705.03068057622, \"library\": \"LibA\"}, {\"ncounts\": 724275, \"nbarcodes\": 92757.28444291858, \"library\": \"LibA\"}, {\"ncounts\": 726344, \"nbarcodes\": 92809.34732276395, \"library\": \"LibA\"}, {\"ncounts\": 728414, \"nbarcodes\": 92861.2459211854, \"library\": \"LibA\"}, {\"ncounts\": 730483, \"nbarcodes\": 92912.93110448343, \"library\": \"LibA\"}, {\"ncounts\": 732552, \"nbarcodes\": 92964.42942301226, \"library\": \"LibA\"}, {\"ncounts\": 734622, \"nbarcodes\": 93015.7666352102, \"library\": \"LibA\"}, {\"ncounts\": 736691, \"nbarcodes\": 93066.89441286342, \"library\": \"LibA\"}, {\"ncounts\": 738760, \"nbarcodes\": 93117.83886514859, \"library\": \"LibA\"}, {\"ncounts\": 740830, \"nbarcodes\": 93168.62567498536, \"library\": \"LibA\"}, {\"ncounts\": 742899, \"nbarcodes\": 93219.20699169571, \"library\": \"LibA\"}, {\"ncounts\": 744968, \"nbarcodes\": 93269.60841194118, \"library\": \"LibA\"}, {\"ncounts\": 747038, \"nbarcodes\": 93319.85542354868, \"library\": \"LibA\"}, {\"ncounts\": 749107, \"nbarcodes\": 93369.9005082806, \"library\": \"LibA\"}, {\"ncounts\": 751176, \"nbarcodes\": 93419.7693680989, \"library\": \"LibA\"}, {\"ncounts\": 753246, \"nbarcodes\": 93469.4869842126, \"library\": \"LibA\"}, {\"ncounts\": 755315, \"nbarcodes\": 93519.00642093035, \"library\": \"LibA\"}, {\"ncounts\": 757385, \"nbarcodes\": 93568.37657543767, \"library\": \"LibA\"}, {\"ncounts\": 759454, \"nbarcodes\": 93617.55102028877, \"library\": \"LibA\"}, {\"ncounts\": 761523, \"nbarcodes\": 93666.55462434399, \"library\": \"LibA\"}, {\"ncounts\": 763593, \"nbarcodes\": 93715.41193931742, \"library\": \"LibA\"}, {\"ncounts\": 765662, \"nbarcodes\": 93764.07703627848, \"library\": \"LibA\"}, {\"ncounts\": 767731, \"nbarcodes\": 93812.57447610065, \"library\": \"LibA\"}, {\"ncounts\": 769801, \"nbarcodes\": 93860.92872058252, \"library\": \"LibA\"}, {\"ncounts\": 771870, \"nbarcodes\": 93909.09414149485, \"library\": \"LibA\"}, {\"ncounts\": 773939, \"nbarcodes\": 93957.094940824, \"library\": \"LibA\"}, {\"ncounts\": 776009, \"nbarcodes\": 94004.95536402223, \"library\": \"LibA\"}, {\"ncounts\": 778078, \"nbarcodes\": 94052.63024093967, \"library\": \"LibA\"}, {\"ncounts\": 780147, \"nbarcodes\": 94100.14366541998, \"library\": \"LibA\"}, {\"ncounts\": 782217, \"nbarcodes\": 94147.51944526147, \"library\": \"LibA\"}, {\"ncounts\": 784286, \"nbarcodes\": 94194.71294569924, \"library\": \"LibA\"}, {\"ncounts\": 786356, \"nbarcodes\": 94241.77057510449, \"library\": \"LibA\"}, {\"ncounts\": 788425, \"nbarcodes\": 94288.64799367638, \"library\": \"LibA\"}, {\"ncounts\": 790494, \"nbarcodes\": 94335.36885864241, \"library\": \"LibA\"}, {\"ncounts\": 792564, \"nbarcodes\": 94381.95664276028, \"library\": \"LibA\"}, {\"ncounts\": 794633, \"nbarcodes\": 94428.36720039853, \"library\": \"LibA\"}, {\"ncounts\": 796702, \"nbarcodes\": 94474.62408093257, \"library\": \"LibA\"}, {\"ncounts\": 798772, \"nbarcodes\": 94520.75044983599, \"library\": \"LibA\"}, {\"ncounts\": 800841, \"nbarcodes\": 94566.70264028526, \"library\": \"LibA\"}, {\"ncounts\": 802910, \"nbarcodes\": 94612.50398218173, \"library\": \"LibA\"}, {\"ncounts\": 804980, \"nbarcodes\": 94658.17724210177, \"library\": \"LibA\"}, {\"ncounts\": 807049, \"nbarcodes\": 94703.67943044218, \"library\": \"LibA\"}, {\"ncounts\": 809118, \"nbarcodes\": 94749.03326911308, \"library\": \"LibA\"}, {\"ncounts\": 811188, \"nbarcodes\": 94794.26155001846, \"library\": \"LibA\"}, {\"ncounts\": 813257, \"nbarcodes\": 94839.32157270261, \"library\": \"LibA\"}, {\"ncounts\": 815327, \"nbarcodes\": 94884.25769795367, \"library\": \"LibA\"}, {\"ncounts\": 817396, \"nbarcodes\": 94929.0272632273, \"library\": \"LibA\"}, {\"ncounts\": 819465, \"nbarcodes\": 94973.65308740817, \"library\": \"LibA\"}, {\"ncounts\": 821535, \"nbarcodes\": 95018.15730972876, \"library\": \"LibA\"}, {\"ncounts\": 823604, \"nbarcodes\": 95062.49777297843, \"library\": \"LibA\"}, {\"ncounts\": 825673, \"nbarcodes\": 95106.696951089, \"library\": \"LibA\"}, {\"ncounts\": 827743, \"nbarcodes\": 95150.77682048605, \"library\": \"LibA\"}, {\"ncounts\": 829812, \"nbarcodes\": 95194.69572679735, \"library\": \"LibA\"}, {\"ncounts\": 831881, \"nbarcodes\": 95238.47568369278, \"library\": \"LibA\"}, {\"ncounts\": 833951, \"nbarcodes\": 95282.13870051564, \"library\": \"LibA\"}, {\"ncounts\": 836020, \"nbarcodes\": 95325.64340715516, \"library\": \"LibA\"}, {\"ncounts\": 838089, \"nbarcodes\": 95369.01152626006, \"library\": \"LibA\"}, {\"ncounts\": 840159, \"nbarcodes\": 95412.26477136546, \"library\": \"LibA\"}, {\"ncounts\": 842228, \"nbarcodes\": 95455.36233565112, \"library\": \"LibA\"}, {\"ncounts\": 844297, \"nbarcodes\": 95498.32569409671, \"library\": \"LibA\"}, {\"ncounts\": 846367, \"nbarcodes\": 95541.17638375734, \"library\": \"LibA\"}, {\"ncounts\": 848436, \"nbarcodes\": 95583.8738087829, \"library\": \"LibA\"}, {\"ncounts\": 850506, \"nbarcodes\": 95626.45985721431, \"library\": \"LibA\"}, {\"ncounts\": 852575, \"nbarcodes\": 95668.89429779367, \"library\": \"LibA\"}, {\"ncounts\": 854644, \"nbarcodes\": 95711.1983369105, \"library\": \"LibA\"}, {\"ncounts\": 856714, \"nbarcodes\": 95753.39316539674, \"library\": \"LibA\"}, {\"ncounts\": 858783, \"nbarcodes\": 95795.43870276528, \"library\": \"LibA\"}, {\"ncounts\": 860852, \"nbarcodes\": 95837.35615343697, \"library\": \"LibA\"}, {\"ncounts\": 862922, \"nbarcodes\": 95879.16633580351, \"library\": \"LibA\"}, {\"ncounts\": 864991, \"nbarcodes\": 95920.82959387425, \"library\": \"LibA\"}, {\"ncounts\": 867060, \"nbarcodes\": 95962.36684963245, \"library\": \"LibA\"}, {\"ncounts\": 869130, \"nbarcodes\": 96003.79885561907, \"library\": \"LibA\"}, {\"ncounts\": 871199, \"nbarcodes\": 96045.08621839627, \"library\": \"LibA\"}, {\"ncounts\": 873268, \"nbarcodes\": 96086.24970824528, \"library\": \"LibA\"}, {\"ncounts\": 875338, \"nbarcodes\": 96127.30974811122, \"library\": \"LibA\"}, {\"ncounts\": 877407, \"nbarcodes\": 96168.22752718818, \"library\": \"LibA\"}, {\"ncounts\": 879477, \"nbarcodes\": 96209.04307117304, \"library\": \"LibA\"}, {\"ncounts\": 881546, \"nbarcodes\": 96249.71771891076, \"library\": \"LibA\"}, {\"ncounts\": 883615, \"nbarcodes\": 96290.27193428439, \"library\": \"LibA\"}, {\"ncounts\": 885685, \"nbarcodes\": 96330.72583532103, \"library\": \"LibA\"}, {\"ncounts\": 887754, \"nbarcodes\": 96371.04092269187, \"library\": \"LibA\"}, {\"ncounts\": 889823, \"nbarcodes\": 96411.2375182215, \"library\": \"LibA\"}, {\"ncounts\": 891893, \"nbarcodes\": 96451.33563766396, \"library\": \"LibA\"}, {\"ncounts\": 893962, \"nbarcodes\": 96491.29705393975, \"library\": \"LibA\"}, {\"ncounts\": 896031, \"nbarcodes\": 96531.14199083221, \"library\": \"LibA\"}, {\"ncounts\": 898101, \"nbarcodes\": 96570.88998859645, \"library\": \"LibA\"}, {\"ncounts\": 900170, \"nbarcodes\": 96610.50355172408, \"library\": \"LibA\"}, {\"ncounts\": 902239, \"nbarcodes\": 96650.0023627554, \"library\": \"LibA\"}, {\"ncounts\": 904309, \"nbarcodes\": 96689.4061120501, \"library\": \"LibA\"}, {\"ncounts\": 906378, \"nbarcodes\": 96728.67729852693, \"library\": \"LibA\"}, {\"ncounts\": 908448, \"nbarcodes\": 96767.85454674718, \"library\": \"LibA\"}, {\"ncounts\": 910517, \"nbarcodes\": 96806.9005192505, \"library\": \"LibA\"}, {\"ncounts\": 912586, \"nbarcodes\": 96845.8349384997, \"library\": \"LibA\"}, {\"ncounts\": 914656, \"nbarcodes\": 96884.67696635025, \"library\": \"LibA\"}, {\"ncounts\": 916725, \"nbarcodes\": 96923.38967749028, \"library\": \"LibA\"}, {\"ncounts\": 918794, \"nbarcodes\": 96961.99260407807, \"library\": \"LibA\"}, {\"ncounts\": 920864, \"nbarcodes\": 97000.50472884033, \"library\": \"LibA\"}, {\"ncounts\": 922933, \"nbarcodes\": 97038.88951541134, \"library\": \"LibA\"}, {\"ncounts\": 925002, \"nbarcodes\": 97077.16619426805, \"library\": \"LibA\"}, {\"ncounts\": 927072, \"nbarcodes\": 97115.35375160477, \"library\": \"LibA\"}, {\"ncounts\": 929141, \"nbarcodes\": 97153.41574720104, \"library\": \"LibA\"}, {\"ncounts\": 931210, \"nbarcodes\": 97191.37128534424, \"library\": \"LibA\"}, {\"ncounts\": 933280, \"nbarcodes\": 97229.23918546927, \"library\": \"LibA\"}, {\"ncounts\": 935349, \"nbarcodes\": 97266.98343120227, \"library\": \"LibA\"}, {\"ncounts\": 937418, \"nbarcodes\": 97304.62294772812, \"library\": \"LibA\"}, {\"ncounts\": 939488, \"nbarcodes\": 97342.17625227162, \"library\": \"LibA\"}, {\"ncounts\": 941557, \"nbarcodes\": 97379.6076766452, \"library\": \"LibA\"}, {\"ncounts\": 943627, \"nbarcodes\": 97416.95393381882, \"library\": \"LibA\"}, {\"ncounts\": 945696, \"nbarcodes\": 97454.1795730852, \"library\": \"LibA\"}, {\"ncounts\": 947765, \"nbarcodes\": 97491.30303137885, \"library\": \"LibA\"}, {\"ncounts\": 949835, \"nbarcodes\": 97528.34278269013, \"library\": \"LibA\"}, {\"ncounts\": 951904, \"nbarcodes\": 97565.26354552973, \"library\": \"LibA\"}, {\"ncounts\": 953973, \"nbarcodes\": 97602.08374288089, \"library\": \"LibA\"}, {\"ncounts\": 956043, \"nbarcodes\": 97638.8216755469, \"library\": \"LibA\"}, {\"ncounts\": 958112, \"nbarcodes\": 97675.44232930463, \"library\": \"LibA\"}, {\"ncounts\": 960181, \"nbarcodes\": 97711.9639119163, \"library\": \"LibA\"}, {\"ncounts\": 962251, \"nbarcodes\": 97748.40463123313, \"library\": \"LibA\"}, {\"ncounts\": 964320, \"nbarcodes\": 97784.72963398196, \"library\": \"LibA\"}, {\"ncounts\": 966389, \"nbarcodes\": 97820.95722763843, \"library\": \"LibA\"}, {\"ncounts\": 968459, \"nbarcodes\": 97857.10516034787, \"library\": \"LibA\"}, {\"ncounts\": 970528, \"nbarcodes\": 97893.13903978787, \"library\": \"LibA\"}, {\"ncounts\": 972598, \"nbarcodes\": 97929.09426540369, \"library\": \"LibA\"}, {\"ncounts\": 974667, \"nbarcodes\": 97964.93652975191, \"library\": \"LibA\"}, {\"ncounts\": 976736, \"nbarcodes\": 98000.68369454105, \"library\": \"LibA\"}, {\"ncounts\": 978806, \"nbarcodes\": 98036.35343411785, \"library\": \"LibA\"}, {\"ncounts\": 980875, \"nbarcodes\": 98071.91183414376, \"library\": \"LibA\"}, {\"ncounts\": 982944, \"nbarcodes\": 98107.37653843069, \"library\": \"LibA\"}, {\"ncounts\": 985014, \"nbarcodes\": 98142.76509739301, \"library\": \"LibA\"}, {\"ncounts\": 987083, \"nbarcodes\": 98178.04383226263, \"library\": \"LibA\"}, {\"ncounts\": 989152, \"nbarcodes\": 98213.23025808507, \"library\": \"LibA\"}, {\"ncounts\": 991222, \"nbarcodes\": 98248.34180304868, \"library\": \"LibA\"}, {\"ncounts\": 993291, \"nbarcodes\": 98283.34497900774, \"library\": \"LibA\"}, {\"ncounts\": 995360, \"nbarcodes\": 98318.25723052653, \"library\": \"LibA\"}, {\"ncounts\": 997430, \"nbarcodes\": 98353.09585642569, \"library\": \"LibA\"}, {\"ncounts\": 999499, \"nbarcodes\": 98387.8274533571, \"library\": \"LibA\"}, {\"ncounts\": 1001568, \"nbarcodes\": 98422.46959552777, \"library\": \"LibA\"}, {\"ncounts\": 1003638, \"nbarcodes\": 98457.03919624856, \"library\": \"LibA\"}, {\"ncounts\": 1005707, \"nbarcodes\": 98491.50337751536, \"library\": \"LibA\"}, {\"ncounts\": 1007777, \"nbarcodes\": 98525.89582430654, \"library\": \"LibA\"}, {\"ncounts\": 1009846, \"nbarcodes\": 98560.18380025106, \"library\": \"LibA\"}, {\"ncounts\": 1011915, \"nbarcodes\": 98594.38431259998, \"library\": \"LibA\"}, {\"ncounts\": 1013985, \"nbarcodes\": 98628.51429959155, \"library\": \"LibA\"}, {\"ncounts\": 1016054, \"nbarcodes\": 98662.54116562621, \"library\": \"LibA\"}, {\"ncounts\": 1018123, \"nbarcodes\": 98696.48185260927, \"library\": \"LibA\"}, {\"ncounts\": 1020193, \"nbarcodes\": 98730.35310565676, \"library\": \"LibA\"}, {\"ncounts\": 1022262, \"nbarcodes\": 98764.12265269418, \"library\": \"LibA\"}, {\"ncounts\": 1024331, \"nbarcodes\": 98797.80719725796, \"library\": \"LibA\"}, {\"ncounts\": 1026401, \"nbarcodes\": 98831.42341047469, \"library\": \"LibA\"}, {\"ncounts\": 1028470, \"nbarcodes\": 98864.93926998659, \"library\": \"LibA\"}, {\"ncounts\": 1030539, \"nbarcodes\": 98898.37140821808, \"library\": \"LibA\"}, {\"ncounts\": 1032609, \"nbarcodes\": 98931.73627493481, \"library\": \"LibA\"}, {\"ncounts\": 1034678, \"nbarcodes\": 98965.0020149946, \"library\": \"LibA\"}, {\"ncounts\": 1036748, \"nbarcodes\": 98998.20126824525, \"library\": \"LibA\"}, {\"ncounts\": 1038817, \"nbarcodes\": 99031.30234181388, \"library\": \"LibA\"}, {\"ncounts\": 1040886, \"nbarcodes\": 99064.32155337496, \"library\": \"LibA\"}, {\"ncounts\": 1042956, \"nbarcodes\": 99097.27534146831, \"library\": \"LibA\"}, {\"ncounts\": 1045025, \"nbarcodes\": 99130.1321193973, \"library\": \"LibA\"}, {\"ncounts\": 1047094, \"nbarcodes\": 99162.90828767764, \"library\": \"LibA\"}, {\"ncounts\": 1049164, \"nbarcodes\": 99195.62001723368, \"library\": \"LibA\"}, {\"ncounts\": 1051233, \"nbarcodes\": 99228.2360318767, \"library\": \"LibA\"}, {\"ncounts\": 1053302, \"nbarcodes\": 99260.77252782525, \"library\": \"LibA\"}, {\"ncounts\": 1055372, \"nbarcodes\": 99293.24556177703, \"library\": \"LibA\"}, {\"ncounts\": 1057441, \"nbarcodes\": 99325.62405573064, \"library\": \"LibA\"}, {\"ncounts\": 1059510, \"nbarcodes\": 99357.92421675156, \"library\": \"LibA\"}, {\"ncounts\": 1061580, \"nbarcodes\": 99390.16187276036, \"library\": \"LibA\"}, {\"ncounts\": 1063649, \"nbarcodes\": 99422.3062363503, \"library\": \"LibA\"}, {\"ncounts\": 1065719, \"nbarcodes\": 99454.38878682113, \"library\": \"LibA\"}, {\"ncounts\": 1067788, \"nbarcodes\": 99486.37880788374, \"library\": \"LibA\"}, {\"ncounts\": 1069857, \"nbarcodes\": 99518.29221903393, \"library\": \"LibA\"}, {\"ncounts\": 1071927, \"nbarcodes\": 99550.14474372953, \"library\": \"LibA\"}, {\"ncounts\": 1073996, \"nbarcodes\": 99581.9059340473, \"library\": \"LibA\"}, {\"ncounts\": 1076065, \"nbarcodes\": 99613.59159420752, \"library\": \"LibA\"}, {\"ncounts\": 1078135, \"nbarcodes\": 99645.21723602043, \"library\": \"LibA\"}, {\"ncounts\": 1080204, \"nbarcodes\": 99676.7527039518, \"library\": \"LibA\"}, {\"ncounts\": 1082273, \"nbarcodes\": 99708.21361337461, \"library\": \"LibA\"}, {\"ncounts\": 1084343, \"nbarcodes\": 99739.61551021678, \"library\": \"LibA\"}, {\"ncounts\": 1086412, \"nbarcodes\": 99770.92831507364, \"library\": \"LibA\"}, {\"ncounts\": 1088481, \"nbarcodes\": 99802.16760392701, \"library\": \"LibA\"}, {\"ncounts\": 1090551, \"nbarcodes\": 99833.34869751547, \"library\": \"LibA\"}, {\"ncounts\": 1092620, \"nbarcodes\": 99864.44186182156, \"library\": \"LibA\"}, {\"ncounts\": 1094689, \"nbarcodes\": 99895.46238895075, \"library\": \"LibA\"}, {\"ncounts\": 1096759, \"nbarcodes\": 99926.42572948331, \"library\": \"LibA\"}, {\"ncounts\": 1098828, \"nbarcodes\": 99957.30211632991, \"library\": \"LibA\"}, {\"ncounts\": 1100898, \"nbarcodes\": 99988.12184205443, \"library\": \"LibA\"}, {\"ncounts\": 1102967, \"nbarcodes\": 100018.85542012031, \"library\": \"LibA\"}, {\"ncounts\": 1105036, \"nbarcodes\": 100049.51795502572, \"library\": \"LibA\"}, {\"ncounts\": 1107106, \"nbarcodes\": 100080.12465268267, \"library\": \"LibA\"}, {\"ncounts\": 1109175, \"nbarcodes\": 100110.64625993936, \"library\": \"LibA\"}, {\"ncounts\": 1111244, \"nbarcodes\": 100141.09783576985, \"library\": \"LibA\"}, {\"ncounts\": 1113314, \"nbarcodes\": 100171.49435312732, \"library\": \"LibA\"}, {\"ncounts\": 1115383, \"nbarcodes\": 100201.80680667124, \"library\": \"LibA\"}, {\"ncounts\": 1117452, \"nbarcodes\": 100232.0501464191, \"library\": \"LibA\"}, {\"ncounts\": 1119522, \"nbarcodes\": 100262.23928876773, \"library\": \"LibA\"}, {\"ncounts\": 1121591, \"nbarcodes\": 100292.34537192517, \"library\": \"LibA\"}, {\"ncounts\": 1123660, \"nbarcodes\": 100322.38321844576, \"library\": \"LibA\"}, {\"ncounts\": 1125730, \"nbarcodes\": 100352.36764637555, \"library\": \"LibA\"}, {\"ncounts\": 1127799, \"nbarcodes\": 100382.27000526579, \"library\": \"LibA\"}, {\"ncounts\": 1129869, \"nbarcodes\": 100412.11939823486, \"library\": \"LibA\"}, {\"ncounts\": 1131938, \"nbarcodes\": 100441.88739389923, \"library\": \"LibA\"}, {\"ncounts\": 1134007, \"nbarcodes\": 100471.5886867378, \"library\": \"LibA\"}, {\"ncounts\": 1136077, \"nbarcodes\": 100501.23790604553, \"library\": \"LibA\"}, {\"ncounts\": 1138146, \"nbarcodes\": 100530.80652459206, \"library\": \"LibA\"}, {\"ncounts\": 1140215, \"nbarcodes\": 100560.30936662042, \"library\": \"LibA\"}, {\"ncounts\": 1142285, \"nbarcodes\": 100589.76082996323, \"library\": \"LibA\"}, {\"ncounts\": 1144354, \"nbarcodes\": 100619.13279875729, \"library\": \"LibA\"}, {\"ncounts\": 1146423, \"nbarcodes\": 100648.4396903863, \"library\": \"LibA\"}, {\"ncounts\": 1148493, \"nbarcodes\": 100677.69597831562, \"library\": \"LibA\"}, {\"ncounts\": 1150562, \"nbarcodes\": 100706.87366535563, \"library\": \"LibA\"}, {\"ncounts\": 1152631, \"nbarcodes\": 100735.9871230725, \"library\": \"LibA\"}, {\"ncounts\": 1154701, \"nbarcodes\": 100765.0507933317, \"library\": \"LibA\"}, {\"ncounts\": 1156770, \"nbarcodes\": 100794.03672269601, \"library\": \"LibA\"}, {\"ncounts\": 1158839, \"nbarcodes\": 100822.95928766528, \"library\": \"LibA\"}, {\"ncounts\": 1160909, \"nbarcodes\": 100851.83264929887, \"library\": \"LibA\"}, {\"ncounts\": 1162978, \"nbarcodes\": 100880.62928519901, \"library\": \"LibA\"}, {\"ncounts\": 1165048, \"nbarcodes\": 100909.37713721105, \"library\": \"LibA\"}, {\"ncounts\": 1167117, \"nbarcodes\": 100938.04885101368, \"library\": \"LibA\"}, {\"ncounts\": 1169186, \"nbarcodes\": 100966.65848820133, \"library\": \"LibA\"}, {\"ncounts\": 1171256, \"nbarcodes\": 100995.22012646125, \"library\": \"LibA\"}, {\"ncounts\": 1173325, \"nbarcodes\": 101023.70643885621, \"library\": \"LibA\"}, {\"ncounts\": 1175394, \"nbarcodes\": 101052.13150495898, \"library\": \"LibA\"}, {\"ncounts\": 1177464, \"nbarcodes\": 101080.50922614081, \"library\": \"LibA\"}, {\"ncounts\": 1179533, \"nbarcodes\": 101108.81244421555, \"library\": \"LibA\"}, {\"ncounts\": 1181602, \"nbarcodes\": 101137.0552176653, \"library\": \"LibA\"}, {\"ncounts\": 1183672, \"nbarcodes\": 101165.25129299352, \"library\": \"LibA\"}, {\"ncounts\": 1185741, \"nbarcodes\": 101193.37374401081, \"library\": \"LibA\"}, {\"ncounts\": 1187810, \"nbarcodes\": 101221.43645017533, \"library\": \"LibA\"}, {\"ncounts\": 1189880, \"nbarcodes\": 101249.45317785384, \"library\": \"LibA\"}, {\"ncounts\": 1191949, \"nbarcodes\": 101277.39708626523, \"library\": \"LibA\"}, {\"ncounts\": 1194019, \"nbarcodes\": 101305.2954500629, \"library\": \"LibA\"}, {\"ncounts\": 1196088, \"nbarcodes\": 101333.12155649066, \"library\": \"LibA\"}, {\"ncounts\": 1198157, \"nbarcodes\": 101360.88909356133, \"library\": \"LibA\"}, {\"ncounts\": 1200227, \"nbarcodes\": 101388.61174054159, \"library\": \"LibA\"}, {\"ncounts\": 1202296, \"nbarcodes\": 101416.26287336818, \"library\": \"LibA\"}, {\"ncounts\": 1204365, \"nbarcodes\": 101443.85623972672, \"library\": \"LibA\"}, {\"ncounts\": 1206435, \"nbarcodes\": 101471.40533287404, \"library\": \"LibA\"}, {\"ncounts\": 1208504, \"nbarcodes\": 101498.88369234519, \"library\": \"LibA\"}, {\"ncounts\": 1210573, \"nbarcodes\": 101526.30497623849, \"library\": \"LibA\"}, {\"ncounts\": 1212643, \"nbarcodes\": 101553.68259126174, \"library\": \"LibA\"}, {\"ncounts\": 1214712, \"nbarcodes\": 101580.99029600936, \"library\": \"LibA\"}, {\"ncounts\": 1216781, \"nbarcodes\": 101608.24155576612, \"library\": \"LibA\"}, {\"ncounts\": 1218851, \"nbarcodes\": 101635.44980408515, \"library\": \"LibA\"}, {\"ncounts\": 1220920, \"nbarcodes\": 101662.58888025784, \"library\": \"LibA\"}, {\"ncounts\": 1222990, \"nbarcodes\": 101689.6852953522, \"library\": \"LibA\"}, {\"ncounts\": 1225059, \"nbarcodes\": 101716.71308851162, \"library\": \"LibA\"}, {\"ncounts\": 1227128, \"nbarcodes\": 101743.68558918555, \"library\": \"LibA\"}, {\"ncounts\": 1229198, \"nbarcodes\": 101770.61599710447, \"library\": \"LibA\"}, {\"ncounts\": 1231267, \"nbarcodes\": 101797.478521939, \"library\": \"LibA\"}, {\"ncounts\": 1233336, \"nbarcodes\": 101824.2864377071, \"library\": \"LibA\"}, {\"ncounts\": 1235406, \"nbarcodes\": 101851.0527965283, \"library\": \"LibA\"}, {\"ncounts\": 1237475, \"nbarcodes\": 101877.75204372304, \"library\": \"LibA\"}, {\"ncounts\": 1239544, \"nbarcodes\": 101904.39728206146, \"library\": \"LibA\"}, {\"ncounts\": 1241614, \"nbarcodes\": 101931.0015930109, \"library\": \"LibA\"}, {\"ncounts\": 1243683, \"nbarcodes\": 101957.53947508727, \"library\": \"LibA\"}, {\"ncounts\": 1245752, \"nbarcodes\": 101984.0239776696, \"library\": \"LibA\"}, {\"ncounts\": 1247822, \"nbarcodes\": 102010.46810980207, \"library\": \"LibA\"}, {\"ncounts\": 1249891, \"nbarcodes\": 102036.84651234328, \"library\": \"LibA\"}, {\"ncounts\": 1251960, \"nbarcodes\": 102063.17218545606, \"library\": \"LibA\"}, {\"ncounts\": 1254030, \"nbarcodes\": 102089.45807849274, \"library\": \"LibA\"}, {\"ncounts\": 1256099, \"nbarcodes\": 102115.67889287291, \"library\": \"LibA\"}, {\"ncounts\": 1258169, \"nbarcodes\": 102141.86028028492, \"library\": \"LibA\"}, {\"ncounts\": 1260238, \"nbarcodes\": 102167.97705484572, \"library\": \"LibA\"}, {\"ncounts\": 1262307, \"nbarcodes\": 102194.04214106943, \"library\": \"LibA\"}, {\"ncounts\": 1264377, \"nbarcodes\": 102220.06826081073, \"library\": \"LibA\"}, {\"ncounts\": 1266446, \"nbarcodes\": 102246.0305069638, \"library\": \"LibA\"}, {\"ncounts\": 1268515, \"nbarcodes\": 102271.94166920114, \"library\": \"LibA\"}, {\"ncounts\": 1270585, \"nbarcodes\": 102297.8144052178, \"library\": \"LibA\"}, {\"ncounts\": 1272654, \"nbarcodes\": 102323.62390391836, \"library\": \"LibA\"}, {\"ncounts\": 1274723, \"nbarcodes\": 102349.38291722142, \"library\": \"LibA\"}, {\"ncounts\": 1276793, \"nbarcodes\": 102375.10401905638, \"library\": \"LibA\"}, {\"ncounts\": 1278862, \"nbarcodes\": 102400.76257012243, \"library\": \"LibA\"}, {\"ncounts\": 1280931, \"nbarcodes\": 102426.37112877727, \"library\": \"LibA\"}, {\"ncounts\": 1283001, \"nbarcodes\": 102451.94231761775, \"library\": \"LibA\"}, {\"ncounts\": 1285070, \"nbarcodes\": 102477.45160333661, \"library\": \"LibA\"}, {\"ncounts\": 1287140, \"nbarcodes\": 102502.92381617163, \"library\": \"LibA\"}, {\"ncounts\": 1289209, \"nbarcodes\": 102528.33455597812, \"library\": \"LibA\"}, {\"ncounts\": 1291278, \"nbarcodes\": 102553.69625926514, \"library\": \"LibA\"}, {\"ncounts\": 1293348, \"nbarcodes\": 102579.02143229355, \"library\": \"LibA\"}, {\"ncounts\": 1295417, \"nbarcodes\": 102604.2856942123, \"library\": \"LibA\"}, {\"ncounts\": 1297486, \"nbarcodes\": 102629.50158470523, \"library\": \"LibA\"}, {\"ncounts\": 1299556, \"nbarcodes\": 102654.68131943732, \"library\": \"LibA\"}, {\"ncounts\": 1301625, \"nbarcodes\": 102679.80086610434, \"library\": \"LibA\"}, {\"ncounts\": 1303694, \"nbarcodes\": 102704.87250071266, \"library\": \"LibA\"}, {\"ncounts\": 1305764, \"nbarcodes\": 102729.9085402291, \"library\": \"LibA\"}, {\"ncounts\": 1307833, \"nbarcodes\": 102754.88494044062, \"library\": \"LibA\"}, {\"ncounts\": 1309902, \"nbarcodes\": 102779.81392917901, \"library\": \"LibA\"}, {\"ncounts\": 1311972, \"nbarcodes\": 102804.70784375926, \"library\": \"LibA\"}, {\"ncounts\": 1314041, \"nbarcodes\": 102829.5427150404, \"library\": \"LibA\"}, {\"ncounts\": 1316111, \"nbarcodes\": 102854.3427229573, \"library\": \"LibA\"}, {\"ncounts\": 1318180, \"nbarcodes\": 102879.08409561962, \"library\": \"LibA\"}, {\"ncounts\": 1320249, \"nbarcodes\": 102903.77901490415, \"library\": \"LibA\"}, {\"ncounts\": 1322319, \"nbarcodes\": 102928.43950471439, \"library\": \"LibA\"}, {\"ncounts\": 1324388, \"nbarcodes\": 102953.04202561657, \"library\": \"LibA\"}, {\"ncounts\": 1326457, \"nbarcodes\": 102977.59851416106, \"library\": \"LibA\"}, {\"ncounts\": 1328527, \"nbarcodes\": 103002.121115095, \"library\": \"LibA\"}, {\"ncounts\": 1330596, \"nbarcodes\": 103026.58618456966, \"library\": \"LibA\"}, {\"ncounts\": 1332665, \"nbarcodes\": 103051.00587315699, \"library\": \"LibA\"}, {\"ncounts\": 1334735, \"nbarcodes\": 103075.39200873065, \"library\": \"LibA\"}, {\"ncounts\": 1336804, \"nbarcodes\": 103099.72125170402, \"library\": \"LibA\"}, {\"ncounts\": 1338873, \"nbarcodes\": 103124.00555415393, \"library\": \"LibA\"}, {\"ncounts\": 1340943, \"nbarcodes\": 103148.256784156, \"library\": \"LibA\"}, {\"ncounts\": 1343012, \"nbarcodes\": 103172.45164377315, \"library\": \"LibA\"}, {\"ncounts\": 1345081, \"nbarcodes\": 103196.60206718388, \"library\": \"LibA\"}, {\"ncounts\": 1347151, \"nbarcodes\": 103220.71982665012, \"library\": \"LibA\"}, {\"ncounts\": 1349220, \"nbarcodes\": 103244.78184708816, \"library\": \"LibA\"}, {\"ncounts\": 1351290, \"nbarcodes\": 103268.81145638268, \"library\": \"LibA\"}, {\"ncounts\": 1353359, \"nbarcodes\": 103292.78566142601, \"library\": \"LibA\"}, {\"ncounts\": 1355428, \"nbarcodes\": 103316.71618176985, \"library\": \"LibA\"}, {\"ncounts\": 1357498, \"nbarcodes\": 103340.61476344492, \"library\": \"LibA\"}, {\"ncounts\": 1359567, \"nbarcodes\": 103364.45842199645, \"library\": \"LibA\"}, {\"ncounts\": 1361636, \"nbarcodes\": 103388.25893942434, \"library\": \"LibA\"}, {\"ncounts\": 1363706, \"nbarcodes\": 103412.02791712961, \"library\": \"LibA\"}, {\"ncounts\": 1365775, \"nbarcodes\": 103435.74250037565, \"library\": \"LibA\"}, {\"ncounts\": 1367844, \"nbarcodes\": 103459.4143554019, \"library\": \"LibA\"}, {\"ncounts\": 1369914, \"nbarcodes\": 103483.05508521458, \"library\": \"LibA\"}, {\"ncounts\": 1371983, \"nbarcodes\": 103506.64199243624, \"library\": \"LibA\"}, {\"ncounts\": 1374052, \"nbarcodes\": 103530.18664348923, \"library\": \"LibA\"}, {\"ncounts\": 1376122, \"nbarcodes\": 103553.70050478695, \"library\": \"LibA\"}, {\"ncounts\": 1378191, \"nbarcodes\": 103577.16106005514, \"library\": \"LibA\"}, {\"ncounts\": 1380261, \"nbarcodes\": 103600.59112953114, \"library\": \"LibA\"}, {\"ncounts\": 1382330, \"nbarcodes\": 103623.96817869967, \"library\": \"LibA\"}, {\"ncounts\": 1384399, \"nbarcodes\": 103647.30377391528, \"library\": \"LibA\"}, {\"ncounts\": 1386469, \"nbarcodes\": 103670.60920609662, \"library\": \"LibA\"}, {\"ncounts\": 1388538, \"nbarcodes\": 103693.86216151384, \"library\": \"LibA\"}, {\"ncounts\": 1390607, \"nbarcodes\": 103717.07404526326, \"library\": \"LibA\"}, {\"ncounts\": 1392677, \"nbarcodes\": 103740.25620142152, \"library\": \"LibA\"}, {\"ncounts\": 1394746, \"nbarcodes\": 103763.38637511103, \"library\": \"LibA\"}, {\"ncounts\": 1396815, \"nbarcodes\": 103786.47591153366, \"library\": \"LibA\"}, {\"ncounts\": 1398885, \"nbarcodes\": 103809.53607123245, \"library\": \"LibA\"}, {\"ncounts\": 1400954, \"nbarcodes\": 103832.54471017695, \"library\": \"LibA\"}, {\"ncounts\": 1403023, \"nbarcodes\": 103855.5131806194, \"library\": \"LibA\"}, {\"ncounts\": 1405093, \"nbarcodes\": 103878.45261925494, \"library\": \"LibA\"}, {\"ncounts\": 1407162, \"nbarcodes\": 103901.34104040716, \"library\": \"LibA\"}, {\"ncounts\": 1409231, \"nbarcodes\": 103924.18969235242, \"library\": \"LibA\"}, {\"ncounts\": 1411301, \"nbarcodes\": 103947.00966049502, \"library\": \"LibA\"}, {\"ncounts\": 1413370, \"nbarcodes\": 103969.7791338509, \"library\": \"LibA\"}, {\"ncounts\": 1415440, \"nbarcodes\": 103992.52014811433, \"library\": \"LibA\"}, {\"ncounts\": 1417509, \"nbarcodes\": 104015.21096023094, \"library\": \"LibA\"}, {\"ncounts\": 1419578, \"nbarcodes\": 104037.86268712213, \"library\": \"LibA\"}, {\"ncounts\": 1421648, \"nbarcodes\": 104060.48632085072, \"library\": \"LibA\"}, {\"ncounts\": 1423717, \"nbarcodes\": 104083.06023562935, \"library\": \"LibA\"}, {\"ncounts\": 1425786, \"nbarcodes\": 104105.59538520532, \"library\": \"LibA\"}, {\"ncounts\": 1427856, \"nbarcodes\": 104128.10287269906, \"library\": \"LibA\"}, {\"ncounts\": 1429925, \"nbarcodes\": 104150.56102386837, \"library\": \"LibA\"}, {\"ncounts\": 1431994, \"nbarcodes\": 104172.98085206935, \"library\": \"LibA\"}, {\"ncounts\": 1434064, \"nbarcodes\": 104195.37332476953, \"library\": \"LibA\"}, {\"ncounts\": 1436133, \"nbarcodes\": 104217.71694958872, \"library\": \"LibA\"}, {\"ncounts\": 1438202, \"nbarcodes\": 104240.02266094966, \"library\": \"LibA\"}, {\"ncounts\": 1440272, \"nbarcodes\": 104262.30131650782, \"library\": \"LibA\"}, {\"ncounts\": 1442341, \"nbarcodes\": 104284.531561822, \"library\": \"LibA\"}, {\"ncounts\": 1444411, \"nbarcodes\": 104306.73499794738, \"library\": \"LibA\"}, {\"ncounts\": 1446480, \"nbarcodes\": 104328.89028937578, \"library\": \"LibA\"}, {\"ncounts\": 1448549, \"nbarcodes\": 104351.00832194001, \"library\": \"LibA\"}, {\"ncounts\": 1450619, \"nbarcodes\": 104373.09986748702, \"library\": \"LibA\"}, {\"ncounts\": 1452688, \"nbarcodes\": 104395.14370866721, \"library\": \"LibA\"}, {\"ncounts\": 1454757, \"nbarcodes\": 104417.150670823, \"library\": \"LibA\"}, {\"ncounts\": 1456827, \"nbarcodes\": 104439.13144930222, \"library\": \"LibA\"}, {\"ncounts\": 1458896, \"nbarcodes\": 104461.0649550145, \"library\": \"LibA\"}, {\"ncounts\": 1460965, \"nbarcodes\": 104482.9619509358, \"library\": \"LibA\"}, {\"ncounts\": 1463035, \"nbarcodes\": 104504.83307845378, \"library\": \"LibA\"}, {\"ncounts\": 1465104, \"nbarcodes\": 104526.65737949598, \"library\": \"LibA\"}, {\"ncounts\": 1467173, \"nbarcodes\": 104548.44549213935, \"library\": \"LibA\"}, {\"ncounts\": 1469243, \"nbarcodes\": 104570.20807923825, \"library\": \"LibA\"}, {\"ncounts\": 1471312, \"nbarcodes\": 104591.92423429208, \"library\": \"LibA\"}, {\"ncounts\": 1473382, \"nbarcodes\": 104613.61509172195, \"library\": \"LibA\"}, {\"ncounts\": 1475451, \"nbarcodes\": 104635.25976106938, \"library\": \"LibA\"}, {\"ncounts\": 1477520, \"nbarcodes\": 104656.8688588478, \"library\": \"LibA\"}, {\"ncounts\": 1479590, \"nbarcodes\": 104678.45295285537, \"library\": \"LibA\"}, {\"ncounts\": 1481659, \"nbarcodes\": 104699.99124355392, \"library\": \"LibA\"}, {\"ncounts\": 1483728, \"nbarcodes\": 104721.49438000716, \"library\": \"LibA\"}, {\"ncounts\": 1485798, \"nbarcodes\": 104742.97275771093, \"library\": \"LibA\"}, {\"ncounts\": 1487867, \"nbarcodes\": 104764.4057855301, \"library\": \"LibA\"}, {\"ncounts\": 1489936, \"nbarcodes\": 104785.80397027805, \"library\": \"LibA\"}, {\"ncounts\": 1492006, \"nbarcodes\": 104807.17773348711, \"library\": \"LibA\"}, {\"ncounts\": 1494075, \"nbarcodes\": 104828.50650480608, \"library\": \"LibA\"}, {\"ncounts\": 1496144, \"nbarcodes\": 104849.80077682383, \"library\": \"LibA\"}, {\"ncounts\": 1498214, \"nbarcodes\": 104871.07088207865, \"library\": \"LibA\"}, {\"ncounts\": 1500283, \"nbarcodes\": 104892.29644039879, \"library\": \"LibA\"}, {\"ncounts\": 1502352, \"nbarcodes\": 104913.48781885498, \"library\": \"LibA\"}, {\"ncounts\": 1504422, \"nbarcodes\": 104934.65531730064, \"library\": \"LibA\"}, {\"ncounts\": 1506491, \"nbarcodes\": 104955.77866309935, \"library\": \"LibA\"}, {\"ncounts\": 1508561, \"nbarcodes\": 104976.87833098715, \"library\": \"LibA\"}, {\"ncounts\": 1510630, \"nbarcodes\": 104997.93406438961, \"library\": \"LibA\"}, {\"ncounts\": 1512699, \"nbarcodes\": 105018.95616392777, \"library\": \"LibA\"}, {\"ncounts\": 1514769, \"nbarcodes\": 105039.95489501742, \"library\": \"LibA\"}, {\"ncounts\": 1516838, \"nbarcodes\": 105060.9100365564, \"library\": \"LibA\"}, {\"ncounts\": 1518907, \"nbarcodes\": 105081.83190107868, \"library\": \"LibA\"}, {\"ncounts\": 1520977, \"nbarcodes\": 105102.73067563251, \"library\": \"LibA\"}, {\"ncounts\": 1523046, \"nbarcodes\": 105123.58623348543, \"library\": \"LibA\"}, {\"ncounts\": 1525115, \"nbarcodes\": 105144.40881468548, \"library\": \"LibA\"}, {\"ncounts\": 1527185, \"nbarcodes\": 105165.20854365456, \"library\": \"LibA\"}, {\"ncounts\": 1529254, \"nbarcodes\": 105185.9654762881, \"library\": \"LibA\"}, {\"ncounts\": 1531323, \"nbarcodes\": 105206.68973088474, \"library\": \"LibA\"}, {\"ncounts\": 1533393, \"nbarcodes\": 105227.3914206266, \"library\": \"LibA\"}, {\"ncounts\": 1535462, \"nbarcodes\": 105248.05065325052, \"library\": \"LibA\"}, {\"ncounts\": 1537532, \"nbarcodes\": 105268.6874923959, \"library\": \"LibA\"}, {\"ncounts\": 1539601, \"nbarcodes\": 105289.28209365631, \"library\": \"LibA\"}, {\"ncounts\": 1541670, \"nbarcodes\": 105309.84456896396, \"library\": \"LibA\"}, {\"ncounts\": 1543740, \"nbarcodes\": 105330.38489848275, \"library\": \"LibA\"}, {\"ncounts\": 1545809, \"nbarcodes\": 105350.88335640341, \"library\": \"LibA\"}, {\"ncounts\": 1547878, \"nbarcodes\": 105371.34998740692, \"library\": \"LibA\"}, {\"ncounts\": 1549948, \"nbarcodes\": 105391.79472733053, \"library\": \"LibA\"}, {\"ncounts\": 1552017, \"nbarcodes\": 105412.19796836998, \"library\": \"LibA\"}, {\"ncounts\": 1554086, \"nbarcodes\": 105432.56964307999, \"library\": \"LibA\"}, {\"ncounts\": 1556156, \"nbarcodes\": 105452.9197134008, \"library\": \"LibA\"}, {\"ncounts\": 1558225, \"nbarcodes\": 105473.22859711423, \"library\": \"LibA\"}, {\"ncounts\": 1560294, \"nbarcodes\": 105493.50625312891, \"library\": \"LibA\"}, {\"ncounts\": 1562364, \"nbarcodes\": 105513.76251933759, \"library\": \"LibA\"}, {\"ncounts\": 1564433, \"nbarcodes\": 105533.97795959123, \"library\": \"LibA\"}, {\"ncounts\": 1566503, \"nbarcodes\": 105554.17219434798, \"library\": \"LibA\"}, {\"ncounts\": 1568572, \"nbarcodes\": 105574.3258095587, \"library\": \"LibA\"}, {\"ncounts\": 1570641, \"nbarcodes\": 105594.44866734886, \"library\": \"LibA\"}, {\"ncounts\": 1572711, \"nbarcodes\": 105614.55057130648, \"library\": \"LibA\"}, {\"ncounts\": 1574780, \"nbarcodes\": 105634.61220580827, \"library\": \"LibA\"}, {\"ncounts\": 1576849, \"nbarcodes\": 105654.6433473028, \"library\": \"LibA\"}, {\"ncounts\": 1578919, \"nbarcodes\": 105674.65378245682, \"library\": \"LibA\"}, {\"ncounts\": 1580988, \"nbarcodes\": 105694.62424412329, \"library\": \"LibA\"}, {\"ncounts\": 1583057, \"nbarcodes\": 105714.56454232549, \"library\": \"LibA\"}, {\"ncounts\": 1585127, \"nbarcodes\": 105734.48435052177, \"library\": \"LibA\"}, {\"ncounts\": 1587196, \"nbarcodes\": 105754.36454114321, \"library\": \"LibA\"}, {\"ncounts\": 1589265, \"nbarcodes\": 105774.21482089767, \"library\": \"LibA\"}, {\"ncounts\": 1591335, \"nbarcodes\": 105794.04483595773, \"library\": \"LibA\"}, {\"ncounts\": 1593404, \"nbarcodes\": 105813.83554918903, \"library\": \"LibA\"}, {\"ncounts\": 1595473, \"nbarcodes\": 105833.5966301443, \"library\": \"LibA\"}, {\"ncounts\": 1597543, \"nbarcodes\": 105853.33769045537, \"library\": \"LibA\"}, {\"ncounts\": 1599612, \"nbarcodes\": 105873.03976983318, \"library\": \"LibA\"}, {\"ncounts\": 1601682, \"nbarcodes\": 105892.72196148883, \"library\": \"LibA\"}, {\"ncounts\": 1603751, \"nbarcodes\": 105912.36539128568, \"library\": \"LibA\"}, {\"ncounts\": 1605820, \"nbarcodes\": 105931.9796346571, \"library\": \"LibA\"}, {\"ncounts\": 1607890, \"nbarcodes\": 105951.57422854967, \"library\": \"LibA\"}, {\"ncounts\": 1609959, \"nbarcodes\": 105971.13036482105, \"library\": \"LibA\"}, {\"ncounts\": 1612028, \"nbarcodes\": 105990.65756100418, \"library\": \"LibA\"}, {\"ncounts\": 1614098, \"nbarcodes\": 106010.1653607892, \"library\": \"LibA\"}, {\"ncounts\": 1616167, \"nbarcodes\": 106029.6349866347, \"library\": \"LibA\"}, {\"ncounts\": 1618236, \"nbarcodes\": 106049.07594447308, \"library\": \"LibA\"}, {\"ncounts\": 1620306, \"nbarcodes\": 106068.49772950826, \"library\": \"LibA\"}, {\"ncounts\": 1622375, \"nbarcodes\": 106087.88162990028, \"library\": \"LibA\"}, {\"ncounts\": 1624444, \"nbarcodes\": 106107.23713323049, \"library\": \"LibA\"}, {\"ncounts\": 1626514, \"nbarcodes\": 106126.57366256273, \"library\": \"LibA\"}, {\"ncounts\": 1628583, \"nbarcodes\": 106145.87261810883, \"library\": \"LibA\"}, {\"ncounts\": 1630653, \"nbarcodes\": 106165.15275071935, \"library\": \"LibA\"}, {\"ncounts\": 1632722, \"nbarcodes\": 106184.39549606718, \"library\": \"LibA\"}, {\"ncounts\": 1634791, \"nbarcodes\": 106203.61027357794, \"library\": \"LibA\"}, {\"ncounts\": 1636861, \"nbarcodes\": 106222.80642381609, \"library\": \"LibA\"}, {\"ncounts\": 1638930, \"nbarcodes\": 106241.96549224721, \"library\": \"LibA\"}, {\"ncounts\": 1640999, \"nbarcodes\": 106261.09684095821, \"library\": \"LibA\"}, {\"ncounts\": 1643069, \"nbarcodes\": 106280.20978051207, \"library\": \"LibA\"}, {\"ncounts\": 1645138, \"nbarcodes\": 106299.28591306739, \"library\": \"LibA\"}, {\"ncounts\": 1647207, \"nbarcodes\": 106318.33458020329, \"library\": \"LibA\"}, {\"ncounts\": 1649277, \"nbarcodes\": 106337.36502896714, \"library\": \"LibA\"}, {\"ncounts\": 1651346, \"nbarcodes\": 106356.35897879406, \"library\": \"LibA\"}, {\"ncounts\": 1653415, \"nbarcodes\": 106375.32568810637, \"library\": \"LibA\"}, {\"ncounts\": 1655485, \"nbarcodes\": 106394.27440126946, \"library\": \"LibA\"}, {\"ncounts\": 1657554, \"nbarcodes\": 106413.18688329053, \"library\": \"LibA\"}, {\"ncounts\": 1659623, \"nbarcodes\": 106432.0723650824, \"library\": \"LibA\"}, {\"ncounts\": 1661693, \"nbarcodes\": 106450.9400564552, \"library\": \"LibA\"}, {\"ncounts\": 1663762, \"nbarcodes\": 106469.77179417868, \"library\": \"LibA\"}, {\"ncounts\": 1665832, \"nbarcodes\": 106488.58585219781, \"library\": \"LibA\"}, {\"ncounts\": 1667901, \"nbarcodes\": 106507.36414078971, \"library\": \"LibA\"}, {\"ncounts\": 1669970, \"nbarcodes\": 106526.11584910919, \"library\": \"LibA\"}, {\"ncounts\": 1672040, \"nbarcodes\": 106544.85007246501, \"library\": \"LibA\"}, {\"ncounts\": 1674109, \"nbarcodes\": 106563.54878996707, \"library\": \"LibA\"}, {\"ncounts\": 1676178, \"nbarcodes\": 106582.22115368955, \"library\": \"LibA\"}, {\"ncounts\": 1678248, \"nbarcodes\": 106600.87624058645, \"library\": \"LibA\"}, {\"ncounts\": 1680317, \"nbarcodes\": 106619.49609237855, \"library\": \"LibA\"}, {\"ncounts\": 1682386, \"nbarcodes\": 106638.08981302485, \"library\": \"LibA\"}, {\"ncounts\": 1684456, \"nbarcodes\": 106656.6664467468, \"library\": \"LibA\"}, {\"ncounts\": 1686525, \"nbarcodes\": 106675.20811693912, \"library\": \"LibA\"}, {\"ncounts\": 1688594, \"nbarcodes\": 106693.72388053949, \"library\": \"LibA\"}, {\"ncounts\": 1690664, \"nbarcodes\": 106712.22273169729, \"library\": \"LibA\"}, {\"ncounts\": 1692733, \"nbarcodes\": 106730.68689771647, \"library\": \"LibA\"}, {\"ncounts\": 1694803, \"nbarcodes\": 106749.13428818928, \"library\": \"LibA\"}, {\"ncounts\": 1696872, \"nbarcodes\": 106767.54714468056, \"library\": \"LibA\"}, {\"ncounts\": 1698941, \"nbarcodes\": 106785.93446183158, \"library\": \"LibA\"}, {\"ncounts\": 1701011, \"nbarcodes\": 106804.30519294832, \"library\": \"LibA\"}, {\"ncounts\": 1703080, \"nbarcodes\": 106822.64165827425, \"library\": \"LibA\"}, {\"ncounts\": 1705149, \"nbarcodes\": 106840.95280372581, \"library\": \"LibA\"}, {\"ncounts\": 1707219, \"nbarcodes\": 106859.24754833285, \"library\": \"LibA\"}, {\"ncounts\": 1709288, \"nbarcodes\": 106877.50827141842, \"library\": \"LibA\"}, {\"ncounts\": 1711357, \"nbarcodes\": 106895.74388928562, \"library\": \"LibA\"}, {\"ncounts\": 1713427, \"nbarcodes\": 106913.96328867678, \"library\": \"LibA\"}, {\"ncounts\": 1715496, \"nbarcodes\": 106932.148923423, \"library\": \"LibA\"}, {\"ncounts\": 1717565, \"nbarcodes\": 106950.30966254894, \"library\": \"LibA\"}, {\"ncounts\": 1719635, \"nbarcodes\": 106968.45435416783, \"library\": \"LibA\"}, {\"ncounts\": 1721704, \"nbarcodes\": 106986.56554193785, \"library\": \"LibA\"}, {\"ncounts\": 1723774, \"nbarcodes\": 107004.66077908213, \"library\": \"LibA\"}, {\"ncounts\": 1725843, \"nbarcodes\": 107022.72267856805, \"library\": \"LibA\"}, {\"ncounts\": 1727912, \"nbarcodes\": 107040.76003366029, \"library\": \"LibA\"}, {\"ncounts\": 1729982, \"nbarcodes\": 107058.78163885302, \"library\": \"LibA\"}, {\"ncounts\": 1732051, \"nbarcodes\": 107076.77012355496, \"library\": \"LibA\"}, {\"ncounts\": 1734120, \"nbarcodes\": 107094.73429173231, \"library\": \"LibA\"}, {\"ncounts\": 1736190, \"nbarcodes\": 107112.6828677724, \"library\": \"LibA\"}, {\"ncounts\": 1738259, \"nbarcodes\": 107130.59857606873, \"library\": \"LibA\"}, {\"ncounts\": 1740328, \"nbarcodes\": 107148.49016756493, \"library\": \"LibA\"}, {\"ncounts\": 1742398, \"nbarcodes\": 107166.36632422486, \"library\": \"LibA\"}, {\"ncounts\": 1744467, \"nbarcodes\": 107184.20986608202, \"library\": \"LibA\"}, {\"ncounts\": 1746536, \"nbarcodes\": 107202.02948558723, \"library\": \"LibA\"}, {\"ncounts\": 1748606, \"nbarcodes\": 107219.83385184767, \"library\": \"LibA\"}, {\"ncounts\": 1750675, \"nbarcodes\": 107237.60582124713, \"library\": \"LibA\"}, {\"ncounts\": 1752744, \"nbarcodes\": 107255.35407653984, \"library\": \"LibA\"}, {\"ncounts\": 1754814, \"nbarcodes\": 107273.08724072167, \"library\": \"LibA\"}, {\"ncounts\": 1756883, \"nbarcodes\": 107290.78823924414, \"library\": \"LibA\"}, {\"ncounts\": 1758953, \"nbarcodes\": 107308.47426942478, \"library\": \"LibA\"}, {\"ncounts\": 1761022, \"nbarcodes\": 107326.12828477162, \"library\": \"LibA\"}, {\"ncounts\": 1763091, \"nbarcodes\": 107343.75890556161, \"library\": \"LibA\"}, {\"ncounts\": 1765161, \"nbarcodes\": 107361.37470975416, \"library\": \"LibA\"}, {\"ncounts\": 1767230, \"nbarcodes\": 107378.95873986513, \"library\": \"LibA\"}, {\"ncounts\": 1769299, \"nbarcodes\": 107396.51957775358, \"library\": \"LibA\"}, {\"ncounts\": 1771369, \"nbarcodes\": 107414.06574562527, \"library\": \"LibA\"}, {\"ncounts\": 1773438, \"nbarcodes\": 107431.58036665684, \"library\": \"LibA\"}, {\"ncounts\": 1775507, \"nbarcodes\": 107449.0719742421, \"library\": \"LibA\"}, {\"ncounts\": 1777577, \"nbarcodes\": 107466.54908331076, \"library\": \"LibA\"}, {\"ncounts\": 1779646, \"nbarcodes\": 107483.99486627876, \"library\": \"LibA\"}, {\"ncounts\": 1781715, \"nbarcodes\": 107501.41783508862, \"library\": \"LibA\"}, {\"ncounts\": 1783785, \"nbarcodes\": 107518.82644684793, \"library\": \"LibA\"}, {\"ncounts\": 1785854, \"nbarcodes\": 107536.20395425963, \"library\": \"LibA\"}, {\"ncounts\": 1787924, \"nbarcodes\": 107553.56722091971, \"library\": \"LibA\"}, {\"ncounts\": 1789993, \"nbarcodes\": 107570.89951887685, \"library\": \"LibA\"}, {\"ncounts\": 1792062, \"nbarcodes\": 107588.20931409442, \"library\": \"LibA\"}, {\"ncounts\": 1794132, \"nbarcodes\": 107605.50501260105, \"library\": \"LibA\"}, {\"ncounts\": 1796201, \"nbarcodes\": 107622.7699734301, \"library\": \"LibA\"}, {\"ncounts\": 1798270, \"nbarcodes\": 107640.01260788644, \"library\": \"LibA\"}, {\"ncounts\": 1800340, \"nbarcodes\": 107657.24129590858, \"library\": \"LibA\"}, {\"ncounts\": 1802409, \"nbarcodes\": 107674.43945253141, \"library\": \"LibA\"}, {\"ncounts\": 1804478, \"nbarcodes\": 107691.61546797951, \"library\": \"LibA\"}, {\"ncounts\": 1806548, \"nbarcodes\": 107708.77769496191, \"library\": \"LibA\"}, {\"ncounts\": 1808617, \"nbarcodes\": 107725.90959585871, \"library\": \"LibA\"}, {\"ncounts\": 1810686, \"nbarcodes\": 107743.01953276606, \"library\": \"LibA\"}, {\"ncounts\": 1812756, \"nbarcodes\": 107760.11582272477, \"library\": \"LibA\"}, {\"ncounts\": 1814825, \"nbarcodes\": 107777.18200618346, \"library\": \"LibA\"}, {\"ncounts\": 1816895, \"nbarcodes\": 107794.23463284703, \"library\": \"LibA\"}, {\"ncounts\": 1818964, \"nbarcodes\": 107811.25729327461, \"library\": \"LibA\"}, {\"ncounts\": 1821033, \"nbarcodes\": 107828.25828189326, \"library\": \"LibA\"}, {\"ncounts\": 1823103, \"nbarcodes\": 107845.24586896092, \"library\": \"LibA\"}, {\"ncounts\": 1825172, \"nbarcodes\": 107862.20368037958, \"library\": \"LibA\"}, {\"ncounts\": 1827241, \"nbarcodes\": 107879.14000304513, \"library\": \"LibA\"}, {\"ncounts\": 1829311, \"nbarcodes\": 107896.06305310444, \"library\": \"LibA\"}, {\"ncounts\": 1831380, \"nbarcodes\": 107912.95654575391, \"library\": \"LibA\"}, {\"ncounts\": 1833449, \"nbarcodes\": 107929.82871574651, \"library\": \"LibA\"}, {\"ncounts\": 1835519, \"nbarcodes\": 107946.68775685289, \"library\": \"LibA\"}, {\"ncounts\": 1837588, \"nbarcodes\": 107963.5174371887, \"library\": \"LibA\"}, {\"ncounts\": 1839657, \"nbarcodes\": 107980.32596357857, \"library\": \"LibA\"}, {\"ncounts\": 1841727, \"nbarcodes\": 107997.12150206516, \"library\": \"LibA\"}, {\"ncounts\": 1843796, \"nbarcodes\": 108013.88788337987, \"library\": \"LibA\"}, {\"ncounts\": 1845865, \"nbarcodes\": 108030.63327316055, \"library\": \"LibA\"}, {\"ncounts\": 1847935, \"nbarcodes\": 108047.36581071379, \"library\": \"LibA\"}, {\"ncounts\": 1850004, \"nbarcodes\": 108064.0693875748, \"library\": \"LibA\"}, {\"ncounts\": 1852074, \"nbarcodes\": 108080.7601982005, \"library\": \"LibA\"}, {\"ncounts\": 1854143, \"nbarcodes\": 108097.42218084191, \"library\": \"LibA\"}, {\"ncounts\": 1856212, \"nbarcodes\": 108114.06344722722, \"library\": \"LibA\"}, {\"ncounts\": 1858282, \"nbarcodes\": 108130.6920862936, \"library\": \"LibA\"}, {\"ncounts\": 1860351, \"nbarcodes\": 108147.29208451389, \"library\": \"LibA\"}, {\"ncounts\": 1862420, \"nbarcodes\": 108163.87153513434, \"library\": \"LibA\"}, {\"ncounts\": 1864490, \"nbarcodes\": 108180.43849189804, \"library\": \"LibA\"}, {\"ncounts\": 1866559, \"nbarcodes\": 108196.9769970478, \"library\": \"LibA\"}, {\"ncounts\": 1868628, \"nbarcodes\": 108213.49512018179, \"library\": \"LibA\"}, {\"ncounts\": 1870698, \"nbarcodes\": 108230.0008721081, \"library\": \"LibA\"}, {\"ncounts\": 1872767, \"nbarcodes\": 108246.47836629904, \"library\": \"LibA\"}, {\"ncounts\": 1874836, \"nbarcodes\": 108262.93563250378, \"library\": \"LibA\"}, {\"ncounts\": 1876906, \"nbarcodes\": 108279.38066266035, \"library\": \"LibA\"}, {\"ncounts\": 1878975, \"nbarcodes\": 108295.7976236885, \"library\": \"LibA\"}, {\"ncounts\": 1881045, \"nbarcodes\": 108312.20243111429, \"library\": \"LibA\"}, {\"ncounts\": 1883114, \"nbarcodes\": 108328.57929140203, \"library\": \"LibA\"}, {\"ncounts\": 1885183, \"nbarcodes\": 108344.93618213237, \"library\": \"LibA\"}, {\"ncounts\": 1887253, \"nbarcodes\": 108361.28105119556, \"library\": \"LibA\"}, {\"ncounts\": 1889322, \"nbarcodes\": 108377.59815296711, \"library\": \"LibA\"}, {\"ncounts\": 1891391, \"nbarcodes\": 108393.89544574385, \"library\": \"LibA\"}, {\"ncounts\": 1893461, \"nbarcodes\": 108410.18083764944, \"library\": \"LibA\"}, {\"ncounts\": 1895530, \"nbarcodes\": 108426.43864622866, \"library\": \"LibA\"}, {\"ncounts\": 1897599, \"nbarcodes\": 108442.67679652825, \"library\": \"LibA\"}, {\"ncounts\": 1899669, \"nbarcodes\": 108458.90317324492, \"library\": \"LibA\"}, {\"ncounts\": 1901738, \"nbarcodes\": 108475.10214321259, \"library\": \"LibA\"}, {\"ncounts\": 1903807, \"nbarcodes\": 108491.28161002308, \"library\": \"LibA\"}, {\"ncounts\": 1905877, \"nbarcodes\": 108507.44942233761, \"library\": \"LibA\"}, {\"ncounts\": 1907946, \"nbarcodes\": 108523.5900057099, \"library\": \"LibA\"}, {\"ncounts\": 1910015, \"nbarcodes\": 108539.71123531474, \"library\": \"LibA\"}, {\"ncounts\": 1912085, \"nbarcodes\": 108555.82093140403, \"library\": \"LibA\"}, {\"ncounts\": 1914154, \"nbarcodes\": 108571.90357782315, \"library\": \"LibA\"}, {\"ncounts\": 1916224, \"nbarcodes\": 108587.97477593843, \"library\": \"LibA\"}, {\"ncounts\": 1918293, \"nbarcodes\": 108604.01904064033, \"library\": \"LibA\"}, {\"ncounts\": 1920362, \"nbarcodes\": 108620.0441917272, \"library\": \"LibA\"}, {\"ncounts\": 1922432, \"nbarcodes\": 108636.05800935802, \"library\": \"LibA\"}, {\"ncounts\": 1924501, \"nbarcodes\": 108652.04506998385, \"library\": \"LibA\"}, {\"ncounts\": 1926570, \"nbarcodes\": 108668.01316182257, \"library\": \"LibA\"}, {\"ncounts\": 1928640, \"nbarcodes\": 108683.97003692048, \"library\": \"LibA\"}, {\"ncounts\": 1930709, \"nbarcodes\": 108699.90032262997, \"library\": \"LibA\"}, {\"ncounts\": 1932778, \"nbarcodes\": 108715.81178803401, \"library\": \"LibA\"}, {\"ncounts\": 1934848, \"nbarcodes\": 108731.7121496747, \"library\": \"LibA\"}, {\"ncounts\": 1936917, \"nbarcodes\": 108747.58609469952, \"library\": \"LibA\"}, {\"ncounts\": 1938986, \"nbarcodes\": 108763.44135842104, \"library\": \"LibA\"}, {\"ncounts\": 1941056, \"nbarcodes\": 108779.28563625524, \"library\": \"LibA\"}, {\"ncounts\": 1943125, \"nbarcodes\": 108795.10366518308, \"library\": \"LibA\"}, {\"ncounts\": 1945195, \"nbarcodes\": 108810.91078189311, \"library\": \"LibA\"}, {\"ncounts\": 1947264, \"nbarcodes\": 108826.69176346836, \"library\": \"LibA\"}, {\"ncounts\": 1949333, \"nbarcodes\": 108842.4542932919, \"library\": \"LibA\"}, {\"ncounts\": 1951403, \"nbarcodes\": 108858.206027962, \"library\": \"LibA\"}, {\"ncounts\": 1953472, \"nbarcodes\": 108873.93178657205, \"library\": \"LibA\"}, {\"ncounts\": 1955541, \"nbarcodes\": 108889.63923625313, \"library\": \"LibA\"}, {\"ncounts\": 1957611, \"nbarcodes\": 108905.33599589128, \"library\": \"LibA\"}, {\"ncounts\": 1959680, \"nbarcodes\": 108921.00694908688, \"library\": \"LibA\"}, {\"ncounts\": 1961749, \"nbarcodes\": 108936.65972794245, \"library\": \"LibA\"}, {\"ncounts\": 1963819, \"nbarcodes\": 108952.30192577033, \"library\": \"LibA\"}, {\"ncounts\": 1965888, \"nbarcodes\": 108967.91847949203, \"library\": \"LibA\"}, {\"ncounts\": 1967957, \"nbarcodes\": 108983.51699269787, \"library\": \"LibA\"}, {\"ncounts\": 1970027, \"nbarcodes\": 108999.1050373451, \"library\": \"LibA\"}, {\"ncounts\": 1972096, \"nbarcodes\": 109014.6675954252, \"library\": \"LibA\"}, {\"ncounts\": 1974166, \"nbarcodes\": 109030.21975612147, \"library\": \"LibA\"}, {\"ncounts\": 1976235, \"nbarcodes\": 109045.74653386588, \"library\": \"LibA\"}, {\"ncounts\": 1978304, \"nbarcodes\": 109061.25549644006, \"library\": \"LibA\"}, {\"ncounts\": 1980374, \"nbarcodes\": 109076.75416621481, \"library\": \"LibA\"}, {\"ncounts\": 1982443, \"nbarcodes\": 109092.22761411424, \"library\": \"LibA\"}, {\"ncounts\": 1984512, \"nbarcodes\": 109107.68337572698, \"library\": \"LibA\"}, {\"ncounts\": 1986582, \"nbarcodes\": 109123.12895025236, \"library\": \"LibA\"}, {\"ncounts\": 1988651, \"nbarcodes\": 109138.54945857315, \"library\": \"LibA\"}, {\"ncounts\": 1990720, \"nbarcodes\": 109153.95241087288, \"library\": \"LibA\"}, {\"ncounts\": 1992790, \"nbarcodes\": 109169.34528109201, \"library\": \"LibA\"}, {\"ncounts\": 1994859, \"nbarcodes\": 109184.7132382541, \"library\": \"LibA\"}, {\"ncounts\": 1996928, \"nbarcodes\": 109200.06376732638, \"library\": \"LibA\"}, {\"ncounts\": 1998998, \"nbarcodes\": 109215.40431700402, \"library\": \"LibA\"}, {\"ncounts\": 2001067, \"nbarcodes\": 109230.72010806178, \"library\": \"LibA\"}, {\"ncounts\": 2003136, \"nbarcodes\": 109246.01859861852, \"library\": \"LibA\"}, {\"ncounts\": 2005206, \"nbarcodes\": 109261.30721109168, \"library\": \"LibA\"}, {\"ncounts\": 2007275, \"nbarcodes\": 109276.57121617305, \"library\": \"LibA\"}, {\"ncounts\": 2009345, \"nbarcodes\": 109291.82541160462, \"library\": \"LibA\"}, {\"ncounts\": 2011414, \"nbarcodes\": 109307.0550994312, \"library\": \"LibA\"}, {\"ncounts\": 2013483, \"nbarcodes\": 109322.26769477465, \"library\": \"LibA\"}, {\"ncounts\": 2015553, \"nbarcodes\": 109337.47058083607, \"library\": \"LibA\"}, {\"ncounts\": 2017622, \"nbarcodes\": 109352.6491074935, \"library\": \"LibA\"}, {\"ncounts\": 2019691, \"nbarcodes\": 109367.81066702511, \"library\": \"LibA\"}, {\"ncounts\": 2021761, \"nbarcodes\": 109382.96261353393, \"library\": \"LibA\"}, {\"ncounts\": 2023830, \"nbarcodes\": 109398.09035051573, \"library\": \"LibA\"}, {\"ncounts\": 2025899, \"nbarcodes\": 109413.20124230474, \"library\": \"LibA\"}, {\"ncounts\": 2027969, \"nbarcodes\": 109428.30261871552, \"library\": \"LibA\"}, {\"ncounts\": 2030038, \"nbarcodes\": 109443.37993151807, \"library\": \"LibA\"}, {\"ncounts\": 2032107, \"nbarcodes\": 109458.4405198866, \"library\": \"LibA\"}, {\"ncounts\": 2034177, \"nbarcodes\": 109473.49169043604, \"library\": \"LibA\"}, {\"ncounts\": 2036246, \"nbarcodes\": 109488.51894137316, \"library\": \"LibA\"}, {\"ncounts\": 2038316, \"nbarcodes\": 109503.5368387087, \"library\": \"LibA\"}, {\"ncounts\": 2040385, \"nbarcodes\": 109518.53091191844, \"library\": \"LibA\"}, {\"ncounts\": 2042454, \"nbarcodes\": 109533.50846032055, \"library\": \"LibA\"}, {\"ncounts\": 2044524, \"nbarcodes\": 109548.47674990247, \"library\": \"LibA\"}, {\"ncounts\": 2046593, \"nbarcodes\": 109563.42135790005, \"library\": \"LibA\"}, {\"ncounts\": 2048662, \"nbarcodes\": 109578.34955836515, \"library\": \"LibA\"}, {\"ncounts\": 2050732, \"nbarcodes\": 109593.26859403096, \"library\": \"LibA\"}, {\"ncounts\": 2052801, \"nbarcodes\": 109608.16408937992, \"library\": \"LibA\"}, {\"ncounts\": 2054870, \"nbarcodes\": 109623.04329389021, \"library\": \"LibA\"}, {\"ncounts\": 2056940, \"nbarcodes\": 109637.91342658715, \"library\": \"LibA\"}, {\"ncounts\": 2059009, \"nbarcodes\": 109652.760158223, \"library\": \"LibA\"}, {\"ncounts\": 2061078, \"nbarcodes\": 109667.59071514482, \"library\": \"LibA\"}, {\"ncounts\": 2063148, \"nbarcodes\": 109682.41229171684, \"library\": \"LibA\"}, {\"ncounts\": 2065217, \"nbarcodes\": 109697.2106056619, \"library\": \"LibA\"}, {\"ncounts\": 2067287, \"nbarcodes\": 109712.0, \"library\": \"LibA\"}, {\"ncounts\": 1, \"nbarcodes\": 1.0001630139449844, \"library\": \"LibB\"}, {\"ncounts\": 903, \"nbarcodes\": 892.1294161633268, \"library\": \"LibB\"}, {\"ncounts\": 1805, \"nbarcodes\": 1762.263822605004, \"library\": \"LibB\"}, {\"ncounts\": 2707, \"nbarcodes\": 2612.4149958917405, \"library\": \"LibB\"}, {\"ncounts\": 3610, \"nbarcodes\": 3444.421215508628, \"library\": \"LibB\"}, {\"ncounts\": 4512, \"nbarcodes\": 4257.293621665551, \"library\": \"LibB\"}, {\"ncounts\": 5414, \"nbarcodes\": 5052.752199857947, \"library\": \"LibB\"}, {\"ncounts\": 6316, \"nbarcodes\": 5831.52734543808, \"library\": \"LibB\"}, {\"ncounts\": 7219, \"nbarcodes\": 6595.135115280456, \"library\": \"LibB\"}, {\"ncounts\": 8121, \"nbarcodes\": 7342.518457840968, \"library\": \"LibB\"}, {\"ncounts\": 9023, \"nbarcodes\": 8075.123467263751, \"library\": \"LibB\"}, {\"ncounts\": 9925, \"nbarcodes\": 8793.504981251288, \"library\": \"LibB\"}, {\"ncounts\": 10828, \"nbarcodes\": 9498.958291303206, \"library\": \"LibB\"}, {\"ncounts\": 11730, \"nbarcodes\": 10190.411342823878, \"library\": \"LibB\"}, {\"ncounts\": 12632, \"nbarcodes\": 10869.115730827296, \"library\": \"LibB\"}, {\"ncounts\": 13535, \"nbarcodes\": 11536.239564722113, \"library\": \"LibB\"}, {\"ncounts\": 14437, \"nbarcodes\": 12190.719003117963, \"library\": \"LibB\"}, {\"ncounts\": 15339, \"nbarcodes\": 12833.690879781861, \"library\": \"LibB\"}, {\"ncounts\": 16241, \"nbarcodes\": 13465.52617318205, \"library\": \"LibB\"}, {\"ncounts\": 17144, \"nbarcodes\": 14087.25996753281, \"library\": \"LibB\"}, {\"ncounts\": 18046, \"nbarcodes\": 14697.85102388401, \"library\": \"LibB\"}, {\"ncounts\": 18948, \"nbarcodes\": 15298.312945293277, \"library\": \"LibB\"}, {\"ncounts\": 19850, \"nbarcodes\": 15888.949459985524, \"library\": \"LibB\"}, {\"ncounts\": 20753, \"nbarcodes\": 16470.690193643604, \"library\": \"LibB\"}, {\"ncounts\": 21655, \"nbarcodes\": 17042.52391363369, \"library\": \"LibB\"}, {\"ncounts\": 22557, \"nbarcodes\": 17605.36516028404, \"library\": \"LibB\"}, {\"ncounts\": 23459, \"nbarcodes\": 18159.46705704549, \"library\": \"LibB\"}, {\"ncounts\": 24362, \"nbarcodes\": 18705.672234855403, \"library\": \"LibB\"}, {\"ncounts\": 25264, \"nbarcodes\": 19243.00372921281, \"library\": \"LibB\"}, {\"ncounts\": 26166, \"nbarcodes\": 19772.294161494545, \"library\": \"LibB\"}, {\"ncounts\": 27069, \"nbarcodes\": 20294.330521029697, \"library\": \"LibB\"}, {\"ncounts\": 27971, \"nbarcodes\": 20808.16250299386, \"library\": \"LibB\"}, {\"ncounts\": 28873, \"nbarcodes\": 21314.569821508325, \"library\": \"LibB\"}, {\"ncounts\": 29775, \"nbarcodes\": 21813.74150260928, \"library\": \"LibB\"}, {\"ncounts\": 30678, \"nbarcodes\": 22306.402199242148, \"library\": \"LibB\"}, {\"ncounts\": 31580, \"nbarcodes\": 22791.63623561134, \"library\": \"LibB\"}, {\"ncounts\": 32482, \"nbarcodes\": 23270.16222834267, \"library\": \"LibB\"}, {\"ncounts\": 33384, \"nbarcodes\": 23742.142964130806, \"library\": \"LibB\"}, {\"ncounts\": 34287, \"nbarcodes\": 24208.24802432448, \"library\": \"LibB\"}, {\"ncounts\": 35189, \"nbarcodes\": 24667.596771588534, \"library\": \"LibB\"}, {\"ncounts\": 36091, \"nbarcodes\": 25120.855077886008, \"library\": \"LibB\"}, {\"ncounts\": 36993, \"nbarcodes\": 25568.164048059072, \"library\": \"LibB\"}, {\"ncounts\": 37896, \"nbarcodes\": 26010.146101386475, \"library\": \"LibB\"}, {\"ncounts\": 38798, \"nbarcodes\": 26445.95441585005, \"library\": \"LibB\"}, {\"ncounts\": 39700, \"nbarcodes\": 26876.208752325198, \"library\": \"LibB\"}, {\"ncounts\": 40603, \"nbarcodes\": 27301.50022537027, \"library\": \"LibB\"}, {\"ncounts\": 41505, \"nbarcodes\": 27721.006069739873, \"library\": \"LibB\"}, {\"ncounts\": 42407, \"nbarcodes\": 28135.315837127448, \"library\": \"LibB\"}, {\"ncounts\": 43309, \"nbarcodes\": 28544.540602774796, \"library\": \"LibB\"}, {\"ncounts\": 44212, \"nbarcodes\": 28949.234581399287, \"library\": \"LibB\"}, {\"ncounts\": 45114, \"nbarcodes\": 29348.605685563292, \"library\": \"LibB\"}, {\"ncounts\": 46016, \"nbarcodes\": 29743.206948768493, \"library\": \"LibB\"}, {\"ncounts\": 46918, \"nbarcodes\": 30133.136378151743, \"library\": \"LibB\"}, {\"ncounts\": 47821, \"nbarcodes\": 30518.91439752381, \"library\": \"LibB\"}, {\"ncounts\": 48723, \"nbarcodes\": 30899.779289476617, \"library\": \"LibB\"}, {\"ncounts\": 49625, \"nbarcodes\": 31276.25065633857, \"library\": \"LibB\"}, {\"ncounts\": 50528, \"nbarcodes\": 31648.826139922334, \"library\": \"LibB\"}, {\"ncounts\": 51430, \"nbarcodes\": 32016.7655793066, \"library\": \"LibB\"}, {\"ncounts\": 52332, \"nbarcodes\": 32380.56588646093, \"library\": \"LibB\"}, {\"ncounts\": 53234, \"nbarcodes\": 32740.30733489833, \"library\": \"LibB\"}, {\"ncounts\": 54137, \"nbarcodes\": 33096.459791294015, \"library\": \"LibB\"}, {\"ncounts\": 55039, \"nbarcodes\": 33448.31059118755, \"library\": \"LibB\"}, {\"ncounts\": 55941, \"nbarcodes\": 33796.32945776355, \"library\": \"LibB\"}, {\"ncounts\": 56843, \"nbarcodes\": 34140.58796956675, \"library\": \"LibB\"}, {\"ncounts\": 57746, \"nbarcodes\": 34481.531436548794, \"library\": \"LibB\"}, {\"ncounts\": 58648, \"nbarcodes\": 34818.47252169465, \"library\": \"LibB\"}, {\"ncounts\": 59550, \"nbarcodes\": 35151.85684494523, \"library\": \"LibB\"}, {\"ncounts\": 60452, \"nbarcodes\": 35481.74842962431, \"library\": \"LibB\"}, {\"ncounts\": 61355, \"nbarcodes\": 35808.570235584884, \"library\": \"LibB\"}, {\"ncounts\": 62257, \"nbarcodes\": 36131.6591551134, \"library\": \"LibB\"}, {\"ncounts\": 63159, \"nbarcodes\": 36451.43831888496, \"library\": \"LibB\"}, {\"ncounts\": 64062, \"nbarcodes\": 36768.31496219951, \"library\": \"LibB\"}, {\"ncounts\": 64964, \"nbarcodes\": 37081.64372331419, \"library\": \"LibB\"}, {\"ncounts\": 65866, \"nbarcodes\": 37391.832043936614, \"library\": \"LibB\"}, {\"ncounts\": 66768, \"nbarcodes\": 37698.933918317445, \"library\": \"LibB\"}, {\"ncounts\": 67671, \"nbarcodes\": 38003.33694683805, \"library\": \"LibB\"}, {\"ncounts\": 68573, \"nbarcodes\": 38304.41815861199, \"library\": \"LibB\"}, {\"ncounts\": 69475, \"nbarcodes\": 38602.5660438297, \"library\": \"LibB\"}, {\"ncounts\": 70377, \"nbarcodes\": 38897.82928384439, \"library\": \"LibB\"}, {\"ncounts\": 71280, \"nbarcodes\": 39190.57795032901, \"library\": \"LibB\"}, {\"ncounts\": 72182, \"nbarcodes\": 39480.21014408007, \"library\": \"LibB\"}, {\"ncounts\": 73084, \"nbarcodes\": 39767.0969811328, \"library\": \"LibB\"}, {\"ncounts\": 73986, \"nbarcodes\": 40051.28251100516, \"library\": \"LibB\"}, {\"ncounts\": 74889, \"nbarcodes\": 40333.12049925048, \"library\": \"LibB\"}, {\"ncounts\": 75791, \"nbarcodes\": 40612.02938846998, \"library\": \"LibB\"}, {\"ncounts\": 76693, \"nbarcodes\": 40888.36373971757, \"library\": \"LibB\"}, {\"ncounts\": 77596, \"nbarcodes\": 41162.46605776103, \"library\": \"LibB\"}, {\"ncounts\": 78498, \"nbarcodes\": 41433.76882461547, \"library\": \"LibB\"}, {\"ncounts\": 79400, \"nbarcodes\": 41702.61535035615, \"library\": \"LibB\"}, {\"ncounts\": 80302, \"nbarcodes\": 41969.043635267095, \"library\": \"LibB\"}, {\"ncounts\": 81205, \"nbarcodes\": 42233.381458336546, \"library\": \"LibB\"}, {\"ncounts\": 82107, \"nbarcodes\": 42495.08006507583, \"library\": \"LibB\"}, {\"ncounts\": 83009, \"nbarcodes\": 42754.468600338354, \"library\": \"LibB\"}, {\"ncounts\": 83911, \"nbarcodes\": 43011.58146534731, \"library\": \"LibB\"}, {\"ncounts\": 84814, \"nbarcodes\": 43266.73386791876, \"library\": \"LibB\"}, {\"ncounts\": 85716, \"nbarcodes\": 43519.393793907984, \"library\": \"LibB\"}, {\"ncounts\": 86618, \"nbarcodes\": 43769.87758335218, \"library\": \"LibB\"}, {\"ncounts\": 87521, \"nbarcodes\": 44018.490703922114, \"library\": \"LibB\"}, {\"ncounts\": 88423, \"nbarcodes\": 44264.71408886216, \"library\": \"LibB\"}, {\"ncounts\": 89325, \"nbarcodes\": 44508.8544816118, \"library\": \"LibB\"}, {\"ncounts\": 90227, \"nbarcodes\": 44750.9416558519, \"library\": \"LibB\"}, {\"ncounts\": 91130, \"nbarcodes\": 44991.269624819586, \"library\": \"LibB\"}, {\"ncounts\": 92032, \"nbarcodes\": 45229.33524750527, \"library\": \"LibB\"}, {\"ncounts\": 92934, \"nbarcodes\": 45465.433382242605, \"library\": \"LibB\"}, {\"ncounts\": 93836, \"nbarcodes\": 45699.59143513381, \"library\": \"LibB\"}, {\"ncounts\": 94739, \"nbarcodes\": 45932.09323657791, \"library\": \"LibB\"}, {\"ncounts\": 95641, \"nbarcodes\": 46162.449876872175, \"library\": \"LibB\"}, {\"ncounts\": 96543, \"nbarcodes\": 46390.94581637553, \"library\": \"LibB\"}, {\"ncounts\": 97445, \"nbarcodes\": 46617.6065464739, \"library\": \"LibB\"}, {\"ncounts\": 98348, \"nbarcodes\": 46842.70508277787, \"library\": \"LibB\"}, {\"ncounts\": 99250, \"nbarcodes\": 47065.76746240787, \"library\": \"LibB\"}, {\"ncounts\": 100152, \"nbarcodes\": 47287.06787433053, \"library\": \"LibB\"}, {\"ncounts\": 101055, \"nbarcodes\": 47506.87208701851, \"library\": \"LibB\"}, {\"ncounts\": 101957, \"nbarcodes\": 47724.71661128426, \"library\": \"LibB\"}, {\"ncounts\": 102859, \"nbarcodes\": 47940.868214823204, \"library\": \"LibB\"}, {\"ncounts\": 103761, \"nbarcodes\": 48155.34915472293, \"library\": \"LibB\"}, {\"ncounts\": 104664, \"nbarcodes\": 48368.41633230483, \"library\": \"LibB\"}, {\"ncounts\": 105566, \"nbarcodes\": 48579.61910090436, \"library\": \"LibB\"}, {\"ncounts\": 106468, \"nbarcodes\": 48789.21539689604, \"library\": \"LibB\"}, {\"ncounts\": 107370, \"nbarcodes\": 48997.22571665711, \"library\": \"LibB\"}, {\"ncounts\": 108273, \"nbarcodes\": 49203.89851843334, \"library\": \"LibB\"}, {\"ncounts\": 109175, \"nbarcodes\": 49408.79580343902, \"library\": \"LibB\"}, {\"ncounts\": 110077, \"nbarcodes\": 49612.166834766525, \"library\": \"LibB\"}, {\"ncounts\": 110979, \"nbarcodes\": 49814.03063208104, \"library\": \"LibB\"}, {\"ncounts\": 111882, \"nbarcodes\": 50014.62755048817, \"library\": \"LibB\"}, {\"ncounts\": 112784, \"nbarcodes\": 50213.53174105794, \"library\": \"LibB\"}, {\"ncounts\": 113686, \"nbarcodes\": 50410.98421988001, \"library\": \"LibB\"}, {\"ncounts\": 114589, \"nbarcodes\": 50607.21956347085, \"library\": \"LibB\"}, {\"ncounts\": 115491, \"nbarcodes\": 50801.82049997674, \"library\": \"LibB\"}, {\"ncounts\": 116393, \"nbarcodes\": 50995.02252476915, \"library\": \"LibB\"}, {\"ncounts\": 117295, \"nbarcodes\": 51186.84245155523, \"library\": \"LibB\"}, {\"ncounts\": 118198, \"nbarcodes\": 51377.50751235107, \"library\": \"LibB\"}, {\"ncounts\": 119100, \"nbarcodes\": 51566.6115260534, \"library\": \"LibB\"}, {\"ncounts\": 120002, \"nbarcodes\": 51754.38262142894, \"library\": \"LibB\"}, {\"ncounts\": 120904, \"nbarcodes\": 51940.8367070551, \"library\": \"LibB\"}, {\"ncounts\": 121807, \"nbarcodes\": 52126.19383979543, \"library\": \"LibB\"}, {\"ncounts\": 122709, \"nbarcodes\": 52310.05864212704, \"library\": \"LibB\"}, {\"ncounts\": 123611, \"nbarcodes\": 52492.652296308304, \"library\": \"LibB\"}, {\"ncounts\": 124514, \"nbarcodes\": 52674.18980764931, \"library\": \"LibB\"}, {\"ncounts\": 125416, \"nbarcodes\": 52854.2838870873, \"library\": \"LibB\"}, {\"ncounts\": 126318, \"nbarcodes\": 53033.150451888636, \"library\": \"LibB\"}, {\"ncounts\": 127220, \"nbarcodes\": 53210.80357885557, \"library\": \"LibB\"}, {\"ncounts\": 128123, \"nbarcodes\": 53387.45200300111, \"library\": \"LibB\"}, {\"ncounts\": 129025, \"nbarcodes\": 53562.71830818786, \"library\": \"LibB\"}, {\"ncounts\": 129927, \"nbarcodes\": 53736.812101608826, \"library\": \"LibB\"}, {\"ncounts\": 130829, \"nbarcodes\": 53909.746536884515, \"library\": \"LibB\"}, {\"ncounts\": 131732, \"nbarcodes\": 54081.72448201281, \"library\": \"LibB\"}, {\"ncounts\": 132634, \"nbarcodes\": 54252.37783135355, \"library\": \"LibB\"}, {\"ncounts\": 133536, \"nbarcodes\": 54421.910201399165, \"library\": \"LibB\"}, {\"ncounts\": 134438, \"nbarcodes\": 54590.33402882971, \"library\": \"LibB\"}, {\"ncounts\": 135341, \"nbarcodes\": 54757.846471867146, \"library\": \"LibB\"}, {\"ncounts\": 136243, \"nbarcodes\": 54924.088408547475, \"library\": \"LibB\"}, {\"ncounts\": 137145, \"nbarcodes\": 55089.25790376184, \"library\": \"LibB\"}, {\"ncounts\": 138048, \"nbarcodes\": 55253.54776740867, \"library\": \"LibB\"}, {\"ncounts\": 138950, \"nbarcodes\": 55416.605832182526, \"library\": \"LibB\"}, {\"ncounts\": 139852, \"nbarcodes\": 55578.625660229736, \"library\": \"LibB\"}, {\"ncounts\": 140754, \"nbarcodes\": 55739.61853354151, \"library\": \"LibB\"}, {\"ncounts\": 141657, \"nbarcodes\": 55899.772261409526, \"library\": \"LibB\"}, {\"ncounts\": 142559, \"nbarcodes\": 56058.74275215767, \"library\": \"LibB\"}, {\"ncounts\": 143461, \"nbarcodes\": 56216.71875337775, \"library\": \"LibB\"}, {\"ncounts\": 144363, \"nbarcodes\": 56373.71046376264, \"library\": \"LibB\"}, {\"ncounts\": 145266, \"nbarcodes\": 56529.90087970955, \"library\": \"LibB\"}, {\"ncounts\": 146168, \"nbarcodes\": 56684.95404099152, \"library\": \"LibB\"}, {\"ncounts\": 147070, \"nbarcodes\": 56839.0536284207, \"library\": \"LibB\"}, {\"ncounts\": 147972, \"nbarcodes\": 56992.209458426376, \"library\": \"LibB\"}, {\"ncounts\": 148875, \"nbarcodes\": 57144.599398942664, \"library\": \"LibB\"}, {\"ncounts\": 149777, \"nbarcodes\": 57295.89568732846, \"library\": \"LibB\"}, {\"ncounts\": 150679, \"nbarcodes\": 57446.27693018535, \"library\": \"LibB\"}, {\"ncounts\": 151582, \"nbarcodes\": 57595.917668921604, \"library\": \"LibB\"}, {\"ncounts\": 152484, \"nbarcodes\": 57744.49570511961, \"library\": \"LibB\"}, {\"ncounts\": 153386, \"nbarcodes\": 57892.18626656365, \"library\": \"LibB\"}, {\"ncounts\": 154288, \"nbarcodes\": 58038.99822889943, \"library\": \"LibB\"}, {\"ncounts\": 155191, \"nbarcodes\": 58185.10170501382, \"library\": \"LibB\"}, {\"ncounts\": 156093, \"nbarcodes\": 58330.18195996592, \"library\": \"LibB\"}, {\"ncounts\": 156995, \"nbarcodes\": 58474.409610791205, \"library\": \"LibB\"}, {\"ncounts\": 157897, \"nbarcodes\": 58617.79307970247, \"library\": \"LibB\"}, {\"ncounts\": 158800, \"nbarcodes\": 58760.498393639165, \"library\": \"LibB\"}, {\"ncounts\": 159702, \"nbarcodes\": 58902.21756631587, \"library\": \"LibB\"}, {\"ncounts\": 160604, \"nbarcodes\": 59043.117228250274, \"library\": \"LibB\"}, {\"ncounts\": 161507, \"nbarcodes\": 59183.3601826004, \"library\": \"LibB\"}, {\"ncounts\": 162409, \"nbarcodes\": 59322.643740514686, \"library\": \"LibB\"}, {\"ncounts\": 163311, \"nbarcodes\": 59461.131466679835, \"library\": \"LibB\"}, {\"ncounts\": 164213, \"nbarcodes\": 59598.83073387312, \"library\": \"LibB\"}, {\"ncounts\": 165116, \"nbarcodes\": 59735.90081810805, \"library\": \"LibB\"}, {\"ncounts\": 166018, \"nbarcodes\": 59872.04544316103, \"library\": \"LibB\"}, {\"ncounts\": 166920, \"nbarcodes\": 60007.42409100733, \"library\": \"LibB\"}, {\"ncounts\": 167822, \"nbarcodes\": 60142.04403235781, \"library\": \"LibB\"}, {\"ncounts\": 168725, \"nbarcodes\": 60276.0605476427, \"library\": \"LibB\"}, {\"ncounts\": 169627, \"nbarcodes\": 60409.18374530152, \"library\": \"LibB\"}, {\"ncounts\": 170529, \"nbarcodes\": 60541.56947849652, \"library\": \"LibB\"}, {\"ncounts\": 171431, \"nbarcodes\": 60673.22460190036, \"library\": \"LibB\"}, {\"ncounts\": 172334, \"nbarcodes\": 60804.30064867468, \"library\": \"LibB\"}, {\"ncounts\": 173236, \"nbarcodes\": 60934.51409807646, \"library\": \"LibB\"}, {\"ncounts\": 174138, \"nbarcodes\": 61064.017035021556, \"library\": \"LibB\"}, {\"ncounts\": 175041, \"nbarcodes\": 61192.95836287253, \"library\": \"LibB\"}, {\"ncounts\": 175943, \"nbarcodes\": 61321.05901763464, \"library\": \"LibB\"}, {\"ncounts\": 176845, \"nbarcodes\": 61448.46849908795, \"library\": \"LibB\"}, {\"ncounts\": 177747, \"nbarcodes\": 61575.19305834612, \"library\": \"LibB\"}, {\"ncounts\": 178650, \"nbarcodes\": 61701.37821278356, \"library\": \"LibB\"}, {\"ncounts\": 179552, \"nbarcodes\": 61826.75077185028, \"library\": \"LibB\"}, {\"ncounts\": 180454, \"nbarcodes\": 61951.456787128714, \"library\": \"LibB\"}, {\"ncounts\": 181356, \"nbarcodes\": 62075.50222338848, \"library\": \"LibB\"}, {\"ncounts\": 182259, \"nbarcodes\": 62199.0294111261, \"library\": \"LibB\"}, {\"ncounts\": 183161, \"nbarcodes\": 62321.77058583429, \"library\": \"LibB\"}, {\"ncounts\": 184063, \"nbarcodes\": 62443.86861536061, \"library\": \"LibB\"}, {\"ncounts\": 184965, \"nbarcodes\": 62565.32930131377, \"library\": \"LibB\"}, {\"ncounts\": 185868, \"nbarcodes\": 62686.291665432596, \"library\": \"LibB\"}, {\"ncounts\": 186770, \"nbarcodes\": 62806.49351516331, \"library\": \"LibB\"}, {\"ncounts\": 187672, \"nbarcodes\": 62926.07437526397, \"library\": \"LibB\"}, {\"ncounts\": 188575, \"nbarcodes\": 63045.171533270164, \"library\": \"LibB\"}, {\"ncounts\": 189477, \"nbarcodes\": 63163.5263299223, \"library\": \"LibB\"}, {\"ncounts\": 190379, \"nbarcodes\": 63281.27623348723, \"library\": \"LibB\"}, {\"ncounts\": 191281, \"nbarcodes\": 63398.42651843918, \"library\": \"LibB\"}, {\"ncounts\": 192184, \"nbarcodes\": 63515.11124040679, \"library\": \"LibB\"}, {\"ncounts\": 193086, \"nbarcodes\": 63631.07701297133, \"library\": \"LibB\"}, {\"ncounts\": 193988, \"nbarcodes\": 63746.45847131026, \"library\": \"LibB\"}, {\"ncounts\": 194890, \"nbarcodes\": 63861.260512424975, \"library\": \"LibB\"}, {\"ncounts\": 195793, \"nbarcodes\": 63975.614278494555, \"library\": \"LibB\"}, {\"ncounts\": 196695, \"nbarcodes\": 64089.27150823181, \"library\": \"LibB\"}, {\"ncounts\": 197597, \"nbarcodes\": 64202.36379419369, \"library\": \"LibB\"}, {\"ncounts\": 198500, \"nbarcodes\": 64315.020510348106, \"library\": \"LibB\"}, {\"ncounts\": 199402, \"nbarcodes\": 64426.99646742986, \"library\": \"LibB\"}, {\"ncounts\": 200304, \"nbarcodes\": 64538.42177484291, \"library\": \"LibB\"}, {\"ncounts\": 201206, \"nbarcodes\": 64649.30069692964, \"library\": \"LibB\"}, {\"ncounts\": 202109, \"nbarcodes\": 64759.75992925737, \"library\": \"LibB\"}, {\"ncounts\": 203011, \"nbarcodes\": 64869.55917883702, \"library\": \"LibB\"}, {\"ncounts\": 203913, \"nbarcodes\": 64978.82552145024, \"library\": \"LibB\"}, {\"ncounts\": 204815, \"nbarcodes\": 65087.56346127599, \"library\": \"LibB\"}, {\"ncounts\": 205718, \"nbarcodes\": 65195.89670512159, \"library\": \"LibB\"}, {\"ncounts\": 206620, \"nbarcodes\": 65303.58974690886, \"library\": \"LibB\"}, {\"ncounts\": 207522, \"nbarcodes\": 65410.76713374863, \"library\": \"LibB\"}, {\"ncounts\": 208424, \"nbarcodes\": 65517.43285724285, \"library\": \"LibB\"}, {\"ncounts\": 209327, \"nbarcodes\": 65623.70850089306, \"library\": \"LibB\"}, {\"ncounts\": 210229, \"nbarcodes\": 65729.36283304576, \"library\": \"LibB\"}, {\"ncounts\": 211131, \"nbarcodes\": 65834.51767412252, \"library\": \"LibB\"}, {\"ncounts\": 212034, \"nbarcodes\": 65939.29302048327, \"library\": \"LibB\"}, {\"ncounts\": 212936, \"nbarcodes\": 66043.46044689615, \"library\": \"LibB\"}, {\"ncounts\": 213838, \"nbarcodes\": 66147.14039400799, \"library\": \"LibB\"}, {\"ncounts\": 214740, \"nbarcodes\": 66250.3366466758, \"library\": \"LibB\"}, {\"ncounts\": 215643, \"nbarcodes\": 66353.16653067089, \"library\": \"LibB\"}, {\"ncounts\": 216545, \"nbarcodes\": 66455.40616979834, \"library\": \"LibB\"}, {\"ncounts\": 217447, \"nbarcodes\": 66557.17336491232, \"library\": \"LibB\"}, {\"ncounts\": 218349, \"nbarcodes\": 66658.47183461307, \"library\": \"LibB\"}, {\"ncounts\": 219252, \"nbarcodes\": 66759.41673314896, \"library\": \"LibB\"}, {\"ncounts\": 220154, \"nbarcodes\": 66859.78821548849, \"library\": \"LibB\"}, {\"ncounts\": 221056, \"nbarcodes\": 66959.7016187217, \"library\": \"LibB\"}, {\"ncounts\": 221958, \"nbarcodes\": 67059.16065562348, \"library\": \"LibB\"}, {\"ncounts\": 222861, \"nbarcodes\": 67158.27828696374, \"library\": \"LibB\"}, {\"ncounts\": 223763, \"nbarcodes\": 67256.838438087, \"library\": \"LibB\"}, {\"ncounts\": 224665, \"nbarcodes\": 67354.95459752908, \"library\": \"LibB\"}, {\"ncounts\": 225568, \"nbarcodes\": 67452.73798618889, \"library\": \"LibB\"}, {\"ncounts\": 226470, \"nbarcodes\": 67549.97567648377, \"library\": \"LibB\"}, {\"ncounts\": 227372, \"nbarcodes\": 67646.77919609379, \"library\": \"LibB\"}, {\"ncounts\": 228274, \"nbarcodes\": 67743.15205053778, \"library\": \"LibB\"}, {\"ncounts\": 229177, \"nbarcodes\": 67839.20345654005, \"library\": \"LibB\"}, {\"ncounts\": 230079, \"nbarcodes\": 67934.72399217972, \"library\": \"LibB\"}, {\"ncounts\": 230981, \"nbarcodes\": 68029.8233144661, \"library\": \"LibB\"}, {\"ncounts\": 231883, \"nbarcodes\": 68124.50468857137, \"library\": \"LibB\"}, {\"ncounts\": 232786, \"nbarcodes\": 68218.8753852298, \"library\": \"LibB\"}, {\"ncounts\": 233688, \"nbarcodes\": 68312.72949631675, \"library\": \"LibB\"}, {\"ncounts\": 234590, \"nbarcodes\": 68406.17488296439, \"library\": \"LibB\"}, {\"ncounts\": 235493, \"nbarcodes\": 68499.31731546631, \"library\": \"LibB\"}, {\"ncounts\": 236395, \"nbarcodes\": 68591.9535743292, \"library\": \"LibB\"}, {\"ncounts\": 237297, \"nbarcodes\": 68684.18995064498, \"library\": \"LibB\"}, {\"ncounts\": 238199, \"nbarcodes\": 68776.02942682081, \"library\": \"LibB\"}, {\"ncounts\": 239102, \"nbarcodes\": 68867.5760131879, \"library\": \"LibB\"}, {\"ncounts\": 240004, \"nbarcodes\": 68958.62974174116, \"library\": \"LibB\"}, {\"ncounts\": 240906, \"nbarcodes\": 69049.29507813544, \"library\": \"LibB\"}, {\"ncounts\": 241808, \"nbarcodes\": 69139.57487891505, \"library\": \"LibB\"}, {\"ncounts\": 242711, \"nbarcodes\": 69229.57131897689, \"library\": \"LibB\"}, {\"ncounts\": 243613, \"nbarcodes\": 69319.08778502376, \"library\": \"LibB\"}, {\"ncounts\": 244515, \"nbarcodes\": 69408.22696904448, \"library\": \"LibB\"}, {\"ncounts\": 245417, \"nbarcodes\": 69496.99139795972, \"library\": \"LibB\"}, {\"ncounts\": 246320, \"nbarcodes\": 69585.4816599801, \"library\": \"LibB\"}, {\"ncounts\": 247222, \"nbarcodes\": 69673.50442143185, \"library\": \"LibB\"}, {\"ncounts\": 248124, \"nbarcodes\": 69761.16031283927, \"library\": \"LibB\"}, {\"ncounts\": 249027, \"nbarcodes\": 69848.548695611, \"library\": \"LibB\"}, {\"ncounts\": 249929, \"nbarcodes\": 69935.47844052971, \"library\": \"LibB\"}, {\"ncounts\": 250831, \"nbarcodes\": 70022.04919236113, \"library\": \"LibB\"}, {\"ncounts\": 251733, \"nbarcodes\": 70108.26333577864, \"library\": \"LibB\"}, {\"ncounts\": 252636, \"nbarcodes\": 70194.21832881632, \"library\": \"LibB\"}, {\"ncounts\": 253538, \"nbarcodes\": 70279.72640123681, \"library\": \"LibB\"}, {\"ncounts\": 254440, \"nbarcodes\": 70364.8852583195, \"library\": \"LibB\"}, {\"ncounts\": 255342, \"nbarcodes\": 70449.69733746312, \"library\": \"LibB\"}, {\"ncounts\": 256245, \"nbarcodes\": 70534.25841368586, \"library\": \"LibB\"}, {\"ncounts\": 257147, \"nbarcodes\": 70618.38382575811, \"library\": \"LibB\"}, {\"ncounts\": 258049, \"nbarcodes\": 70702.16940269044, \"library\": \"LibB\"}, {\"ncounts\": 258951, \"nbarcodes\": 70785.61774252472, \"library\": \"LibB\"}, {\"ncounts\": 259854, \"nbarcodes\": 70868.8229031352, \"library\": \"LibB\"}, {\"ncounts\": 260756, \"nbarcodes\": 70951.60295608958, \"library\": \"LibB\"}, {\"ncounts\": 261658, \"nbarcodes\": 71034.05255941999, \"library\": \"LibB\"}, {\"ncounts\": 262561, \"nbarcodes\": 71116.26467621262, \"library\": \"LibB\"}, {\"ncounts\": 263463, \"nbarcodes\": 71198.05954976735, \"library\": \"LibB\"}, {\"ncounts\": 264365, \"nbarcodes\": 71279.5304873121, \"library\": \"LibB\"}, {\"ncounts\": 265267, \"nbarcodes\": 71360.67978065982, \"library\": \"LibB\"}, {\"ncounts\": 266170, \"nbarcodes\": 71441.59896813046, \"library\": \"LibB\"}, {\"ncounts\": 267072, \"nbarcodes\": 71522.1108815743, \"library\": \"LibB\"}, {\"ncounts\": 267974, \"nbarcodes\": 71602.30745855466, \"library\": \"LibB\"}, {\"ncounts\": 268876, \"nbarcodes\": 71682.19089058062, \"library\": \"LibB\"}, {\"ncounts\": 269779, \"nbarcodes\": 71761.85120582684, \"library\": \"LibB\"}, {\"ncounts\": 270681, \"nbarcodes\": 71841.11403565071, \"library\": \"LibB\"}, {\"ncounts\": 271583, \"nbarcodes\": 71920.06976547596, \"library\": \"LibB\"}, {\"ncounts\": 272486, \"nbarcodes\": 71998.80757361074, \"library\": \"LibB\"}, {\"ncounts\": 273388, \"nbarcodes\": 72077.15486808056, \"library\": \"LibB\"}, {\"ncounts\": 274290, \"nbarcodes\": 72155.20114751563, \"library\": \"LibB\"}, {\"ncounts\": 275192, \"nbarcodes\": 72232.94833539812, \"library\": \"LibB\"}, {\"ncounts\": 276095, \"nbarcodes\": 72310.48404620106, \"library\": \"LibB\"}, {\"ncounts\": 276997, \"nbarcodes\": 72387.63848793565, \"library\": \"LibB\"}, {\"ncounts\": 277899, \"nbarcodes\": 72464.4995881053, \"library\": \"LibB\"}, {\"ncounts\": 278801, \"nbarcodes\": 72541.06930092291, \"library\": \"LibB\"}, {\"ncounts\": 279704, \"nbarcodes\": 72617.43386370724, \"library\": \"LibB\"}, {\"ncounts\": 280606, \"nbarcodes\": 72693.42596137358, \"library\": \"LibB\"}, {\"ncounts\": 281508, \"nbarcodes\": 72769.13219512577, \"library\": \"LibB\"}, {\"ncounts\": 282410, \"nbarcodes\": 72844.55440077087, \"library\": \"LibB\"}, {\"ncounts\": 283313, \"nbarcodes\": 72919.77752747877, \"library\": \"LibB\"}, {\"ncounts\": 284215, \"nbarcodes\": 72994.63670389097, \"library\": \"LibB\"}, {\"ncounts\": 285117, \"nbarcodes\": 73069.21724992261, \"library\": \"LibB\"}, {\"ncounts\": 286020, \"nbarcodes\": 73143.60316786554, \"library\": \"LibB\"}, {\"ncounts\": 286922, \"nbarcodes\": 73217.63131532245, \"library\": \"LibB\"}, {\"ncounts\": 287824, \"nbarcodes\": 73291.38611550699, \"library\": \"LibB\"}, {\"ncounts\": 288726, \"nbarcodes\": 73364.86915761358, \"library\": \"LibB\"}, {\"ncounts\": 289629, \"nbarcodes\": 73438.16323552387, \"library\": \"LibB\"}, {\"ncounts\": 290531, \"nbarcodes\": 73511.10763792226, \"library\": \"LibB\"}, {\"ncounts\": 291433, \"nbarcodes\": 73583.78537725162, \"library\": \"LibB\"}, {\"ncounts\": 292335, \"nbarcodes\": 73656.19811403503, \"library\": \"LibB\"}, {\"ncounts\": 293238, \"nbarcodes\": 73728.42734253967, \"library\": \"LibB\"}, {\"ncounts\": 294140, \"nbarcodes\": 73800.31464119197, \"library\": \"LibB\"}, {\"ncounts\": 295042, \"nbarcodes\": 73871.94191138643, \"library\": \"LibB\"}, {\"ncounts\": 295944, \"nbarcodes\": 73943.31063221287, \"library\": \"LibB\"}, {\"ncounts\": 296847, \"nbarcodes\": 74014.50109134767, \"library\": \"LibB\"}, {\"ncounts\": 297749, \"nbarcodes\": 74085.35720963306, \"library\": \"LibB\"}, {\"ncounts\": 298651, \"nbarcodes\": 74155.95957177624, \"library\": \"LibB\"}, {\"ncounts\": 299554, \"nbarcodes\": 74226.38745088628, \"library\": \"LibB\"}, {\"ncounts\": 300456, \"nbarcodes\": 74296.48648213808, \"library\": \"LibB\"}, {\"ncounts\": 301358, \"nbarcodes\": 74366.33628206776, \"library\": \"LibB\"}, {\"ncounts\": 302260, \"nbarcodes\": 74435.938431243, \"library\": \"LibB\"}, {\"ncounts\": 303163, \"nbarcodes\": 74505.37103238341, \"library\": \"LibB\"}, {\"ncounts\": 304065, \"nbarcodes\": 74574.4819462905, \"library\": \"LibB\"}, {\"ncounts\": 304967, \"nbarcodes\": 74643.34962575944, \"library\": \"LibB\"}, {\"ncounts\": 305869, \"nbarcodes\": 74711.97543024429, \"library\": \"LibB\"}, {\"ncounts\": 306772, \"nbarcodes\": 74780.43662437468, \"library\": \"LibB\"}, {\"ncounts\": 307674, \"nbarcodes\": 74848.5828637864, \"library\": \"LibB\"}, {\"ncounts\": 308576, \"nbarcodes\": 74916.49160432373, \"library\": \"LibB\"}, {\"ncounts\": 309479, \"nbarcodes\": 74984.23918930104, \"library\": \"LibB\"}, {\"ncounts\": 310381, \"nbarcodes\": 75051.6768402211, \"library\": \"LibB\"}, {\"ncounts\": 311283, \"nbarcodes\": 75118.88122437158, \"library\": \"LibB\"}, {\"ncounts\": 312185, \"nbarcodes\": 75185.8536464787, \"library\": \"LibB\"}, {\"ncounts\": 313088, \"nbarcodes\": 75252.66936941637, \"library\": \"LibB\"}, {\"ncounts\": 313990, \"nbarcodes\": 75319.18174971997, \"library\": \"LibB\"}, {\"ncounts\": 314892, \"nbarcodes\": 75385.4662294163, \"library\": \"LibB\"}, {\"ncounts\": 315794, \"nbarcodes\": 75451.52408237856, \"library\": \"LibB\"}, {\"ncounts\": 316697, \"nbarcodes\": 75517.42959563625, \"library\": \"LibB\"}, {\"ncounts\": 317599, \"nbarcodes\": 75583.03806241529, \"library\": \"LibB\"}, {\"ncounts\": 318501, \"nbarcodes\": 75648.42390566142, \"library\": \"LibB\"}, {\"ncounts\": 319403, \"nbarcodes\": 75713.58838974274, \"library\": \"LibB\"}, {\"ncounts\": 320306, \"nbarcodes\": 75778.60466539365, \"library\": \"LibB\"}, {\"ncounts\": 321208, \"nbarcodes\": 75843.33004957659, \"library\": \"LibB\"}, {\"ncounts\": 322110, \"nbarcodes\": 75907.83778695985, \"library\": \"LibB\"}, {\"ncounts\": 323013, \"nbarcodes\": 75972.20045553675, \"library\": \"LibB\"}, {\"ncounts\": 323915, \"nbarcodes\": 76036.27662134971, \"library\": \"LibB\"}, {\"ncounts\": 324817, \"nbarcodes\": 76100.1389647689, \"library\": \"LibB\"}, {\"ncounts\": 325719, \"nbarcodes\": 76163.78864103116, \"library\": \"LibB\"}, {\"ncounts\": 326622, \"nbarcodes\": 76227.2971897148, \"library\": \"LibB\"}, {\"ncounts\": 327524, \"nbarcodes\": 76290.52501383546, \"library\": \"LibB\"}, {\"ncounts\": 328426, \"nbarcodes\": 76353.54379540609, \"library\": \"LibB\"}, {\"ncounts\": 329328, \"nbarcodes\": 76416.35476014882, \"library\": \"LibB\"}, {\"ncounts\": 330231, \"nbarcodes\": 76479.02823981098, \"library\": \"LibB\"}, {\"ncounts\": 331133, \"nbarcodes\": 76541.42675240462, \"library\": \"LibB\"}, {\"ncounts\": 332035, \"nbarcodes\": 76603.62083429113, \"library\": \"LibB\"}, {\"ncounts\": 332937, \"nbarcodes\": 76665.61170413147, \"library\": \"LibB\"}, {\"ncounts\": 333840, \"nbarcodes\": 76727.46885459406, \"library\": \"LibB\"}, {\"ncounts\": 334742, \"nbarcodes\": 76789.05642419637, \"library\": \"LibB\"}, {\"ncounts\": 335644, \"nbarcodes\": 76850.44416585246, \"library\": \"LibB\"}, {\"ncounts\": 336547, \"nbarcodes\": 76911.70077825508, \"library\": \"LibB\"}, {\"ncounts\": 337449, \"nbarcodes\": 76972.69187740391, \"library\": \"LibB\"}, {\"ncounts\": 338351, \"nbarcodes\": 77033.48636822807, \"library\": \"LibB\"}, {\"ncounts\": 339253, \"nbarcodes\": 77094.08541206559, \"library\": \"LibB\"}, {\"ncounts\": 340156, \"nbarcodes\": 77154.55687042137, \"library\": \"LibB\"}, {\"ncounts\": 341058, \"nbarcodes\": 77214.76791201354, \"library\": \"LibB\"}, {\"ncounts\": 341960, \"nbarcodes\": 77274.78662468915, \"library\": \"LibB\"}, {\"ncounts\": 342862, \"nbarcodes\": 77334.61415882164, \"library\": \"LibB\"}, {\"ncounts\": 343765, \"nbarcodes\": 77394.31743967035, \"library\": \"LibB\"}, {\"ncounts\": 344667, \"nbarcodes\": 77453.76537396267, \"library\": \"LibB\"}, {\"ncounts\": 345569, \"nbarcodes\": 77513.02517088261, \"library\": \"LibB\"}, {\"ncounts\": 346472, \"nbarcodes\": 77572.16323689054, \"library\": \"LibB\"}, {\"ncounts\": 347374, \"nbarcodes\": 77631.04958987104, \"library\": \"LibB\"}, {\"ncounts\": 348276, \"nbarcodes\": 77689.75078137562, \"library\": \"LibB\"}, {\"ncounts\": 349178, \"nbarcodes\": 77748.26785614538, \"library\": \"LibB\"}, {\"ncounts\": 350081, \"nbarcodes\": 77806.66643449802, \"library\": \"LibB\"}, {\"ncounts\": 350983, \"nbarcodes\": 77864.81802365201, \"library\": \"LibB\"}, {\"ncounts\": 351885, \"nbarcodes\": 77922.7884546307, \"library\": \"LibB\"}, {\"ncounts\": 352787, \"nbarcodes\": 77980.57869934851, \"library\": \"LibB\"}, {\"ncounts\": 353690, \"nbarcodes\": 78038.25343260425, \"library\": \"LibB\"}, {\"ncounts\": 354592, \"nbarcodes\": 78095.68587412243, \"library\": \"LibB\"}, {\"ncounts\": 355494, \"nbarcodes\": 78152.94096638352, \"library\": \"LibB\"}, {\"ncounts\": 356396, \"nbarcodes\": 78210.01966364504, \"library\": \"LibB\"}, {\"ncounts\": 357299, \"nbarcodes\": 78266.98584552128, \"library\": \"LibB\"}, {\"ncounts\": 358201, \"nbarcodes\": 78323.71425800034, \"library\": \"LibB\"}, {\"ncounts\": 359103, \"nbarcodes\": 78380.26900677767, \"library\": \"LibB\"}, {\"ncounts\": 360006, \"nbarcodes\": 78436.7134599275, \"library\": \"LibB\"}, {\"ncounts\": 360908, \"nbarcodes\": 78492.92344969056, \"library\": \"LibB\"}, {\"ncounts\": 361810, \"nbarcodes\": 78548.96248656984, \"library\": \"LibB\"}, {\"ncounts\": 362712, \"nbarcodes\": 78604.83145765541, \"library\": \"LibB\"}, {\"ncounts\": 363615, \"nbarcodes\": 78660.59291818253, \"library\": \"LibB\"}, {\"ncounts\": 364517, \"nbarcodes\": 78716.12424904096, \"library\": \"LibB\"}, {\"ncounts\": 365419, \"nbarcodes\": 78771.48817180852, \"library\": \"LibB\"}, {\"ncounts\": 366321, \"nbarcodes\": 78826.6855534172, \"library\": \"LibB\"}, {\"ncounts\": 367224, \"nbarcodes\": 78881.77810478795, \"library\": \"LibB\"}, {\"ncounts\": 368126, \"nbarcodes\": 78936.64473009144, \"library\": \"LibB\"}, {\"ncounts\": 369028, \"nbarcodes\": 78991.34736413427, \"library\": \"LibB\"}, {\"ncounts\": 369930, \"nbarcodes\": 79045.88684182185, \"library\": \"LibB\"}, {\"ncounts\": 370833, \"nbarcodes\": 79100.32417250004, \"library\": \"LibB\"}, {\"ncounts\": 371735, \"nbarcodes\": 79154.53959054514, \"library\": \"LibB\"}, {\"ncounts\": 372637, \"nbarcodes\": 79208.59437119137, \"library\": \"LibB\"}, {\"ncounts\": 373540, \"nbarcodes\": 79262.5489548885, \"library\": \"LibB\"}, {\"ncounts\": 374442, \"nbarcodes\": 79316.28464540605, \"library\": \"LibB\"}, {\"ncounts\": 375344, \"nbarcodes\": 79369.86211147874, \"library\": \"LibB\"}, {\"ncounts\": 376246, \"nbarcodes\": 79423.28209422923, \"library\": \"LibB\"}, {\"ncounts\": 377149, \"nbarcodes\": 79476.6044099924, \"library\": \"LibB\"}, {\"ncounts\": 378051, \"nbarcodes\": 79529.71173972446, \"library\": \"LibB\"}, {\"ncounts\": 378953, \"nbarcodes\": 79582.66394498244, \"library\": \"LibB\"}, {\"ncounts\": 379855, \"nbarcodes\": 79635.46186133524, \"library\": \"LibB\"}, {\"ncounts\": 380758, \"nbarcodes\": 79688.16455349853, \"library\": \"LibB\"}, {\"ncounts\": 381660, \"nbarcodes\": 79740.65598053268, \"library\": \"LibB\"}, {\"ncounts\": 382562, \"nbarcodes\": 79792.99542462344, \"library\": \"LibB\"}, {\"ncounts\": 383465, \"nbarcodes\": 79845.24138813789, \"library\": \"LibB\"}, {\"ncounts\": 384367, \"nbarcodes\": 79897.27890795805, \"library\": \"LibB\"}, {\"ncounts\": 385269, \"nbarcodes\": 79949.16671088562, \"library\": \"LibB\"}, {\"ncounts\": 386171, \"nbarcodes\": 80000.9054560991, \"library\": \"LibB\"}, {\"ncounts\": 387074, \"nbarcodes\": 80052.55306313472, \"library\": \"LibB\"}, {\"ncounts\": 387976, \"nbarcodes\": 80103.9958069967, \"library\": \"LibB\"}, {\"ncounts\": 388878, \"nbarcodes\": 80155.29172977168, \"library\": \"LibB\"}, {\"ncounts\": 389780, \"nbarcodes\": 80206.44156837334, \"library\": \"LibB\"}, {\"ncounts\": 390683, \"nbarcodes\": 80257.50250573998, \"library\": \"LibB\"}, {\"ncounts\": 391585, \"nbarcodes\": 80308.36210078908, \"library\": \"LibB\"}, {\"ncounts\": 392487, \"nbarcodes\": 80359.07769722427, \"library\": \"LibB\"}, {\"ncounts\": 393389, \"nbarcodes\": 80409.65006804408, \"library\": \"LibB\"}, {\"ncounts\": 394292, \"nbarcodes\": 80460.13565861528, \"library\": \"LibB\"}, {\"ncounts\": 395194, \"nbarcodes\": 80510.42335345909, \"library\": \"LibB\"}, {\"ncounts\": 396096, \"nbarcodes\": 80560.56990460333, \"library\": \"LibB\"}, {\"ncounts\": 396999, \"nbarcodes\": 80610.63126679002, \"library\": \"LibB\"}, {\"ncounts\": 397901, \"nbarcodes\": 80660.49730412081, \"library\": \"LibB\"}, {\"ncounts\": 398803, \"nbarcodes\": 80710.22410674098, \"library\": \"LibB\"}, {\"ncounts\": 399705, \"nbarcodes\": 80759.81245399684, \"library\": \"LibB\"}, {\"ncounts\": 400608, \"nbarcodes\": 80809.31771025447, \"library\": \"LibB\"}, {\"ncounts\": 401510, \"nbarcodes\": 80858.6308749286, \"library\": \"LibB\"}, {\"ncounts\": 402412, \"nbarcodes\": 80907.8075234316, \"library\": \"LibB\"}, {\"ncounts\": 403314, \"nbarcodes\": 80956.8482652929, \"library\": \"LibB\"}, {\"ncounts\": 404217, \"nbarcodes\": 81005.80797215832, \"library\": \"LibB\"}, {\"ncounts\": 405119, \"nbarcodes\": 81054.57875613766, \"library\": \"LibB\"}, {\"ncounts\": 406021, \"nbarcodes\": 81103.21566006972, \"library\": \"LibB\"}, {\"ncounts\": 406923, \"nbarcodes\": 81151.71919176422, \"library\": \"LibB\"}, {\"ncounts\": 407826, \"nbarcodes\": 81200.14360432838, \"library\": \"LibB\"}, {\"ncounts\": 408728, \"nbarcodes\": 81248.38224601328, \"library\": \"LibB\"}, {\"ncounts\": 409630, \"nbarcodes\": 81296.48945589387, \"library\": \"LibB\"}, {\"ncounts\": 410533, \"nbarcodes\": 81344.51893696906, \"library\": \"LibB\"}, {\"ncounts\": 411435, \"nbarcodes\": 81392.36497228297, \"library\": \"LibB\"}, {\"ncounts\": 412337, \"nbarcodes\": 81440.08142465993, \"library\": \"LibB\"}, {\"ncounts\": 413239, \"nbarcodes\": 81487.66885972672, \"library\": \"LibB\"}, {\"ncounts\": 414142, \"nbarcodes\": 81535.18046536208, \"library\": \"LibB\"}, {\"ncounts\": 415044, \"nbarcodes\": 81582.51156549952, \"library\": \"LibB\"}, {\"ncounts\": 415946, \"nbarcodes\": 81629.71546758643, \"library\": \"LibB\"}, {\"ncounts\": 416848, \"nbarcodes\": 81676.79275454875, \"library\": \"LibB\"}, {\"ncounts\": 417751, \"nbarcodes\": 81723.79597083769, \"library\": \"LibB\"}, {\"ncounts\": 418653, \"nbarcodes\": 81770.621646881, \"library\": \"LibB\"}, {\"ncounts\": 419555, \"nbarcodes\": 81817.32245964922, \"library\": \"LibB\"}, {\"ncounts\": 420458, \"nbarcodes\": 81863.950522714, \"library\": \"LibB\"}, {\"ncounts\": 421360, \"nbarcodes\": 81910.40313979863, \"library\": \"LibB\"}, {\"ncounts\": 422262, \"nbarcodes\": 81956.7326687641, \"library\": \"LibB\"}, {\"ncounts\": 423164, \"nbarcodes\": 82002.9395400781, \"library\": \"LibB\"}, {\"ncounts\": 424067, \"nbarcodes\": 82049.07540055331, \"library\": \"LibB\"}, {\"ncounts\": 424969, \"nbarcodes\": 82095.03866118415, \"library\": \"LibB\"}, {\"ncounts\": 425871, \"nbarcodes\": 82140.88095369603, \"library\": \"LibB\"}, {\"ncounts\": 426773, \"nbarcodes\": 82186.60292377954, \"library\": \"LibB\"}, {\"ncounts\": 427676, \"nbarcodes\": 82232.25552425395, \"library\": \"LibB\"}, {\"ncounts\": 428578, \"nbarcodes\": 82277.73821442324, \"library\": \"LibB\"}, {\"ncounts\": 429480, \"nbarcodes\": 82323.10212187658, \"library\": \"LibB\"}, {\"ncounts\": 430382, \"nbarcodes\": 82368.34786750193, \"library\": \"LibB\"}, {\"ncounts\": 431285, \"nbarcodes\": 82413.52585751009, \"library\": \"LibB\"}, {\"ncounts\": 432187, \"nbarcodes\": 82458.53661383105, \"library\": \"LibB\"}, {\"ncounts\": 433089, \"nbarcodes\": 82503.43075522098, \"library\": \"LibB\"}, {\"ncounts\": 433992, \"nbarcodes\": 82548.2583689882, \"library\": \"LibB\"}, {\"ncounts\": 434894, \"nbarcodes\": 82592.92067320515, \"library\": \"LibB\"}, {\"ncounts\": 435796, \"nbarcodes\": 82637.46789703629, \"library\": \"LibB\"}, {\"ncounts\": 436698, \"nbarcodes\": 82681.90058572612, \"library\": \"LibB\"}, {\"ncounts\": 437601, \"nbarcodes\": 82726.2682975831, \"library\": \"LibB\"}, {\"ncounts\": 438503, \"nbarcodes\": 82770.47325086102, \"library\": \"LibB\"}, {\"ncounts\": 439405, \"nbarcodes\": 82814.5651629189, \"library\": \"LibB\"}, {\"ncounts\": 440307, \"nbarcodes\": 82858.54457145734, \"library\": \"LibB\"}, {\"ncounts\": 441210, \"nbarcodes\": 82902.46046473444, \"library\": \"LibB\"}, {\"ncounts\": 442112, \"nbarcodes\": 82946.21611973266, \"library\": \"LibB\"}, {\"ncounts\": 443014, \"nbarcodes\": 82989.86074173376, \"library\": \"LibB\"}, {\"ncounts\": 443916, \"nbarcodes\": 83033.39473811892, \"library\": \"LibB\"}, {\"ncounts\": 444819, \"nbarcodes\": 83076.86676614237, \"library\": \"LibB\"}, {\"ncounts\": 445721, \"nbarcodes\": 83120.18099022305, \"library\": \"LibB\"}, {\"ncounts\": 446623, \"nbarcodes\": 83163.38608734046, \"library\": \"LibB\"}, {\"ncounts\": 447526, \"nbarcodes\": 83206.53023066751, \"library\": \"LibB\"}, {\"ncounts\": 448428, \"nbarcodes\": 83249.51838861428, \"library\": \"LibB\"}, {\"ncounts\": 449330, \"nbarcodes\": 83292.39883079696, \"library\": \"LibB\"}, {\"ncounts\": 450232, \"nbarcodes\": 83335.17201674932, \"library\": \"LibB\"}, {\"ncounts\": 451135, \"nbarcodes\": 83377.88567213203, \"library\": \"LibB\"}, {\"ncounts\": 452037, \"nbarcodes\": 83420.44566493944, \"library\": \"LibB\"}, {\"ncounts\": 452939, \"nbarcodes\": 83462.8998258247, \"library\": \"LibB\"}, {\"ncounts\": 453841, \"nbarcodes\": 83505.24853077019, \"library\": \"LibB\"}, {\"ncounts\": 454744, \"nbarcodes\": 83547.53909474988, \"library\": \"LibB\"}, {\"ncounts\": 455646, \"nbarcodes\": 83589.6782761307, \"library\": \"LibB\"}, {\"ncounts\": 456548, \"nbarcodes\": 83631.71342159144, \"library\": \"LibB\"}, {\"ncounts\": 457451, \"nbarcodes\": 83673.69140184818, \"library\": \"LibB\"}, {\"ncounts\": 458353, \"nbarcodes\": 83715.5196303182, \"library\": \"LibB\"}, {\"ncounts\": 459255, \"nbarcodes\": 83757.24516917138, \"library\": \"LibB\"}, {\"ncounts\": 460157, \"nbarcodes\": 83798.86841491853, \"library\": \"LibB\"}, {\"ncounts\": 461060, \"nbarcodes\": 83840.4358042939, \"library\": \"LibB\"}, {\"ncounts\": 461962, \"nbarcodes\": 83881.85567921925, \"library\": \"LibB\"}, {\"ncounts\": 462864, \"nbarcodes\": 83923.17459217552, \"library\": \"LibB\"}, {\"ncounts\": 463766, \"nbarcodes\": 83964.39292726576, \"library\": \"LibB\"}, {\"ncounts\": 464669, \"nbarcodes\": 84005.55666120489, \"library\": \"LibB\"}, {\"ncounts\": 465571, \"nbarcodes\": 84046.5750528955, \"library\": \"LibB\"}, {\"ncounts\": 466473, \"nbarcodes\": 84087.49414326827, \"library\": \"LibB\"}, {\"ncounts\": 467375, \"nbarcodes\": 84128.31436046847, \"library\": \"LibB\"}, {\"ncounts\": 468278, \"nbarcodes\": 84169.08121417277, \"library\": \"LibB\"}, {\"ncounts\": 469180, \"nbarcodes\": 84209.7048092271, \"library\": \"LibB\"}, {\"ncounts\": 470082, \"nbarcodes\": 84250.23078358662, \"library\": \"LibB\"}, {\"ncounts\": 470985, \"nbarcodes\": 84290.70427327222, \"library\": \"LibB\"}, {\"ncounts\": 471887, \"nbarcodes\": 84331.03610266588, \"library\": \"LibB\"}, {\"ncounts\": 472789, \"nbarcodes\": 84371.2714694967, \"library\": \"LibB\"}, {\"ncounts\": 473691, \"nbarcodes\": 84411.41083709113, \"library\": \"LibB\"}, {\"ncounts\": 474594, \"nbarcodes\": 84451.4988914294, \"library\": \"LibB\"}, {\"ncounts\": 475496, \"nbarcodes\": 84491.44730789366, \"library\": \"LibB\"}, {\"ncounts\": 476398, \"nbarcodes\": 84531.30087763439, \"library\": \"LibB\"}, {\"ncounts\": 477300, \"nbarcodes\": 84571.06000355355, \"library\": \"LibB\"}, {\"ncounts\": 478203, \"nbarcodes\": 84610.769007637, \"library\": \"LibB\"}, {\"ncounts\": 479105, \"nbarcodes\": 84650.34029224492, \"library\": \"LibB\"}, {\"ncounts\": 480007, \"nbarcodes\": 84689.81832432961, \"library\": \"LibB\"}, {\"ncounts\": 480909, \"nbarcodes\": 84729.20344170851, \"library\": \"LibB\"}, {\"ncounts\": 481812, \"nbarcodes\": 84768.53953769935, \"library\": \"LibB\"}, {\"ncounts\": 482714, \"nbarcodes\": 84807.73989364551, \"library\": \"LibB\"}, {\"ncounts\": 483616, \"nbarcodes\": 84846.84848276616, \"library\": \"LibB\"}, {\"ncounts\": 484519, \"nbarcodes\": 84885.90887259136, \"library\": \"LibB\"}, {\"ncounts\": 485421, \"nbarcodes\": 84924.83495812285, \"library\": \"LibB\"}, {\"ncounts\": 486323, \"nbarcodes\": 84963.67037205788, \"library\": \"LibB\"}, {\"ncounts\": 487225, \"nbarcodes\": 85002.41550834358, \"library\": \"LibB\"}, {\"ncounts\": 488128, \"nbarcodes\": 85041.11353378824, \"library\": \"LibB\"}, {\"ncounts\": 489030, \"nbarcodes\": 85079.67908405597, \"library\": \"LibB\"}, {\"ncounts\": 489932, \"nbarcodes\": 85118.15544645241, \"library\": \"LibB\"}, {\"ncounts\": 490834, \"nbarcodes\": 85156.54298637985, \"library\": \"LibB\"}, {\"ncounts\": 491737, \"nbarcodes\": 85194.88444410838, \"library\": \"LibB\"}, {\"ncounts\": 492639, \"nbarcodes\": 85233.09527821753, \"library\": \"LibB\"}, {\"ncounts\": 493541, \"nbarcodes\": 85271.21833931332, \"library\": \"LibB\"}, {\"ncounts\": 494444, \"nbarcodes\": 85309.2961087958, \"library\": \"LibB\"}, {\"ncounts\": 495346, \"nbarcodes\": 85347.24456549186, \"library\": \"LibB\"}, {\"ncounts\": 496248, \"nbarcodes\": 85385.10633662276, \"library\": \"LibB\"}, {\"ncounts\": 497150, \"nbarcodes\": 85422.88171087494, \"library\": \"LibB\"}, {\"ncounts\": 498053, \"nbarcodes\": 85460.61279862022, \"library\": \"LibB\"}, {\"ncounts\": 498955, \"nbarcodes\": 85498.21635073188, \"library\": \"LibB\"}, {\"ncounts\": 499857, \"nbarcodes\": 85535.73456392126, \"library\": \"LibB\"}, {\"ncounts\": 500759, \"nbarcodes\": 85573.16775989768, \"library\": \"LibB\"}, {\"ncounts\": 501662, \"nbarcodes\": 85610.55763494194, \"library\": \"LibB\"}, {\"ncounts\": 502564, \"nbarcodes\": 85647.82170350642, \"library\": \"LibB\"}, {\"ncounts\": 503466, \"nbarcodes\": 85685.00176031675, \"library\": \"LibB\"}, {\"ncounts\": 504368, \"nbarcodes\": 85722.09815360904, \"library\": \"LibB\"}, {\"ncounts\": 505271, \"nbarcodes\": 85759.1521604973, \"library\": \"LibB\"}, {\"ncounts\": 506173, \"nbarcodes\": 85796.08207833295, \"library\": \"LibB\"}, {\"ncounts\": 507075, \"nbarcodes\": 85832.92929321303, \"library\": \"LibB\"}, {\"ncounts\": 507978, \"nbarcodes\": 85869.73482850776, \"library\": \"LibB\"}, {\"ncounts\": 508880, \"nbarcodes\": 85906.41751936362, \"library\": \"LibB\"}, {\"ncounts\": 509782, \"nbarcodes\": 85943.01846893509, \"library\": \"LibB\"}, {\"ncounts\": 510684, \"nbarcodes\": 85979.53799189151, \"library\": \"LibB\"}, {\"ncounts\": 511587, \"nbarcodes\": 86016.01676658176, \"library\": \"LibB\"}, {\"ncounts\": 512489, \"nbarcodes\": 86052.37431003562, \"library\": \"LibB\"}, {\"ncounts\": 513391, \"nbarcodes\": 86088.65138448983, \"library\": \"LibB\"}, {\"ncounts\": 514293, \"nbarcodes\": 86124.84828536226, \"library\": \"LibB\"}, {\"ncounts\": 515196, \"nbarcodes\": 86161.005338188, \"library\": \"LibB\"}, {\"ncounts\": 516098, \"nbarcodes\": 86197.04275377282, \"library\": \"LibB\"}, {\"ncounts\": 517000, \"nbarcodes\": 86233.000912603, \"library\": \"LibB\"}, {\"ncounts\": 517902, \"nbarcodes\": 86268.88014334362, \"library\": \"LibB\"}, {\"ncounts\": 518805, \"nbarcodes\": 86304.72040196699, \"library\": \"LibB\"}, {\"ncounts\": 519707, \"nbarcodes\": 86340.44259016782, \"library\": \"LibB\"}, {\"ncounts\": 520609, \"nbarcodes\": 86376.08674554106, \"library\": \"LibB\"}, {\"ncounts\": 521512, \"nbarcodes\": 86411.69254871945, \"library\": \"LibB\"}, {\"ncounts\": 522414, \"nbarcodes\": 86447.18145187937, \"library\": \"LibB\"}, {\"ncounts\": 523316, \"nbarcodes\": 86482.59318537975, \"library\": \"LibB\"}, {\"ncounts\": 524218, \"nbarcodes\": 86517.92808756517, \"library\": \"LibB\"}, {\"ncounts\": 525121, \"nbarcodes\": 86553.2254808885, \"library\": \"LibB\"}, {\"ncounts\": 526023, \"nbarcodes\": 86588.40746558201, \"library\": \"LibB\"}, {\"ncounts\": 526925, \"nbarcodes\": 86623.51348605877, \"library\": \"LibB\"}, {\"ncounts\": 527827, \"nbarcodes\": 86658.54379382035, \"library\": \"LibB\"}, {\"ncounts\": 528730, \"nbarcodes\": 86693.53741573136, \"library\": \"LibB\"}, {\"ncounts\": 529632, \"nbarcodes\": 86728.41712552094, \"library\": \"LibB\"}, {\"ncounts\": 530534, \"nbarcodes\": 86763.22199409752, \"library\": \"LibB\"}, {\"ncounts\": 531437, \"nbarcodes\": 86797.99074331798, \"library\": \"LibB\"}, {\"ncounts\": 532339, \"nbarcodes\": 86832.64669405707, \"library\": \"LibB\"}, {\"ncounts\": 533241, \"nbarcodes\": 86867.22863571676, \"library\": \"LibB\"}, {\"ncounts\": 534143, \"nbarcodes\": 86901.7368570413, \"library\": \"LibB\"}, {\"ncounts\": 535046, \"nbarcodes\": 86936.20975745225, \"library\": \"LibB\"}, {\"ncounts\": 535948, \"nbarcodes\": 86970.57127891877, \"library\": \"LibB\"}, {\"ncounts\": 536850, \"nbarcodes\": 87004.85988865531, \"library\": \"LibB\"}, {\"ncounts\": 537752, \"nbarcodes\": 87039.07586446803, \"library\": \"LibB\"}, {\"ncounts\": 538655, \"nbarcodes\": 87073.25730503183, \"library\": \"LibB\"}, {\"ncounts\": 539557, \"nbarcodes\": 87107.32874424351, \"library\": \"LibB\"}, {\"ncounts\": 540459, \"nbarcodes\": 87141.32836203654, \"library\": \"LibB\"}, {\"ncounts\": 541361, \"nbarcodes\": 87175.25642809788, \"library\": \"LibB\"}, {\"ncounts\": 542264, \"nbarcodes\": 87209.15067166038, \"library\": \"LibB\"}, {\"ncounts\": 543166, \"nbarcodes\": 87242.93633045886, \"library\": \"LibB\"}, {\"ncounts\": 544068, \"nbarcodes\": 87276.65120164289, \"library\": \"LibB\"}, {\"ncounts\": 544971, \"nbarcodes\": 87310.33281579691, \"library\": \"LibB\"}, {\"ncounts\": 545873, \"nbarcodes\": 87343.90684746442, \"library\": \"LibB\"}, {\"ncounts\": 546775, \"nbarcodes\": 87377.41087183192, \"library\": \"LibB\"}, {\"ncounts\": 547677, \"nbarcodes\": 87410.84516330974, \"library\": \"LibB\"}, {\"ncounts\": 548580, \"nbarcodes\": 87444.24691092745, \"library\": \"LibB\"}, {\"ncounts\": 549482, \"nbarcodes\": 87477.54241350965, \"library\": \"LibB\"}, {\"ncounts\": 550384, \"nbarcodes\": 87510.76893922343, \"library\": \"LibB\"}, {\"ncounts\": 551286, \"nbarcodes\": 87543.9267162777, \"library\": \"LibB\"}, {\"ncounts\": 552189, \"nbarcodes\": 87577.05268354081, \"library\": \"LibB\"}, {\"ncounts\": 553091, \"nbarcodes\": 87610.07366991774, \"library\": \"LibB\"}, {\"ncounts\": 553993, \"nbarcodes\": 87643.02668705612, \"library\": \"LibB\"}, {\"ncounts\": 554895, \"nbarcodes\": 87675.91196597362, \"library\": \"LibB\"}, {\"ncounts\": 555798, \"nbarcodes\": 87708.76609868223, \"library\": \"LibB\"}, {\"ncounts\": 556700, \"nbarcodes\": 87741.51655361358, \"library\": \"LibB\"}, {\"ncounts\": 557602, \"nbarcodes\": 87774.19999617554, \"library\": \"LibB\"}, {\"ncounts\": 558505, \"nbarcodes\": 87806.85280080912, \"library\": \"LibB\"}, {\"ncounts\": 559407, \"nbarcodes\": 87839.40288528259, \"library\": \"LibB\"}, {\"ncounts\": 560309, \"nbarcodes\": 87871.88667043706, \"library\": \"LibB\"}, {\"ncounts\": 561211, \"nbarcodes\": 87904.30442135407, \"library\": \"LibB\"}, {\"ncounts\": 562114, \"nbarcodes\": 87936.6921752317, \"library\": \"LibB\"}, {\"ncounts\": 563016, \"nbarcodes\": 87968.97844203803, \"library\": \"LibB\"}, {\"ncounts\": 563918, \"nbarcodes\": 88001.19936755487, \"library\": \"LibB\"}, {\"ncounts\": 564820, \"nbarcodes\": 88033.35518038642, \"library\": \"LibB\"}, {\"ncounts\": 565723, \"nbarcodes\": 88065.48165537778, \"library\": \"LibB\"}, {\"ncounts\": 566625, \"nbarcodes\": 88097.50785110096, \"library\": \"LibB\"}, {\"ncounts\": 567527, \"nbarcodes\": 88129.46963937185, \"library\": \"LibB\"}, {\"ncounts\": 568430, \"nbarcodes\": 88161.40254504367, \"library\": \"LibB\"}, {\"ncounts\": 569332, \"nbarcodes\": 88193.23609748246, \"library\": \"LibB\"}, {\"ncounts\": 570234, \"nbarcodes\": 88225.00590294796, \"library\": \"LibB\"}, {\"ncounts\": 571136, \"nbarcodes\": 88256.71219153225, \"library\": \"LibB\"}, {\"ncounts\": 572039, \"nbarcodes\": 88288.39022721381, \"library\": \"LibB\"}, {\"ncounts\": 572941, \"nbarcodes\": 88319.97008138044, \"library\": \"LibB\"}, {\"ncounts\": 573843, \"nbarcodes\": 88351.48708662235, \"library\": \"LibB\"}, {\"ncounts\": 574745, \"nbarcodes\": 88382.94145900474, \"library\": \"LibB\"}, {\"ncounts\": 575648, \"nbarcodes\": 88414.36817396748, \"library\": \"LibB\"}, {\"ncounts\": 576550, \"nbarcodes\": 88445.6978883128, \"library\": \"LibB\"}, {\"ncounts\": 577452, \"nbarcodes\": 88476.96560216867, \"library\": \"LibB\"}, {\"ncounts\": 578354, \"nbarcodes\": 88508.17157402168, \"library\": \"LibB\"}, {\"ncounts\": 579257, \"nbarcodes\": 88539.35049510605, \"library\": \"LibB\"}, {\"ncounts\": 580159, \"nbarcodes\": 88570.43351371295, \"library\": \"LibB\"}, {\"ncounts\": 581061, \"nbarcodes\": 88601.45542469076, \"library\": \"LibB\"}, {\"ncounts\": 581964, \"nbarcodes\": 88632.45071837721, \"library\": \"LibB\"}, {\"ncounts\": 582866, \"nbarcodes\": 88663.35096229149, \"library\": \"LibB\"}, {\"ncounts\": 583768, \"nbarcodes\": 88694.19071086448, \"library\": \"LibB\"}, {\"ncounts\": 584670, \"nbarcodes\": 88724.97018536598, \"library\": \"LibB\"}, {\"ncounts\": 585573, \"nbarcodes\": 88755.7236179952, \"library\": \"LibB\"}, {\"ncounts\": 586475, \"nbarcodes\": 88786.38311509343, \"library\": \"LibB\"}, {\"ncounts\": 587377, \"nbarcodes\": 88816.98294132376, \"library\": \"LibB\"}, {\"ncounts\": 588279, \"nbarcodes\": 88847.52332087506, \"library\": \"LibB\"}, {\"ncounts\": 589182, \"nbarcodes\": 88878.03820630499, \"library\": \"LibB\"}, {\"ncounts\": 590084, \"nbarcodes\": 88908.46023169725, \"library\": \"LibB\"}, {\"ncounts\": 590986, \"nbarcodes\": 88938.82340448165, \"library\": \"LibB\"}, {\"ncounts\": 591888, \"nbarcodes\": 88969.12794452024, \"library\": \"LibB\"}, {\"ncounts\": 592791, \"nbarcodes\": 88999.40754210805, \"library\": \"LibB\"}, {\"ncounts\": 593693, \"nbarcodes\": 89029.59534433408, \"library\": \"LibB\"}, {\"ncounts\": 594595, \"nbarcodes\": 89059.72509509748, \"library\": \"LibB\"}, {\"ncounts\": 595498, \"nbarcodes\": 89089.83029843416, \"library\": \"LibB\"}, {\"ncounts\": 596400, \"nbarcodes\": 89119.84448696955, \"library\": \"LibB\"}, {\"ncounts\": 597302, \"nbarcodes\": 89149.8012174113, \"library\": \"LibB\"}, {\"ncounts\": 598204, \"nbarcodes\": 89179.70070000918, \"library\": \"LibB\"}, {\"ncounts\": 599107, \"nbarcodes\": 89209.5761540324, \"library\": \"LibB\"}, {\"ncounts\": 600009, \"nbarcodes\": 89239.3616169445, \"library\": \"LibB\"}, {\"ncounts\": 600911, \"nbarcodes\": 89269.09040411127, \"library\": \"LibB\"}, {\"ncounts\": 601813, \"nbarcodes\": 89298.76269839126, \"library\": \"LibB\"}, {\"ncounts\": 602716, \"nbarcodes\": 89328.41148008312, \"library\": \"LibB\"}, {\"ncounts\": 603618, \"nbarcodes\": 89357.97129751169, \"library\": \"LibB\"}, {\"ncounts\": 604520, \"nbarcodes\": 89387.47518677292, \"library\": \"LibB\"}, {\"ncounts\": 605423, \"nbarcodes\": 89416.95596225902, \"library\": \"LibB\"}, {\"ncounts\": 606325, \"nbarcodes\": 89446.34849893961, \"library\": \"LibB\"}, {\"ncounts\": 607227, \"nbarcodes\": 89475.68566285081, \"library\": \"LibB\"}, {\"ncounts\": 608129, \"nbarcodes\": 89504.96765408888, \"library\": \"LibB\"}, {\"ncounts\": 609032, \"nbarcodes\": 89534.22701827133, \"library\": \"LibB\"}, {\"ncounts\": 609934, \"nbarcodes\": 89563.39912851472, \"library\": \"LibB\"}, {\"ncounts\": 610836, \"nbarcodes\": 89592.51660567566, \"library\": \"LibB\"}, {\"ncounts\": 611738, \"nbarcodes\": 89621.57963645403, \"library\": \"LibB\"}, {\"ncounts\": 612641, \"nbarcodes\": 89650.62052498404, \"library\": \"LibB\"}, {\"ncounts\": 613543, \"nbarcodes\": 89679.5751299316, \"library\": \"LibB\"}, {\"ncounts\": 614445, \"nbarcodes\": 89708.47582094073, \"library\": \"LibB\"}, {\"ncounts\": 615347, \"nbarcodes\": 89737.32277052058, \"library\": \"LibB\"}, {\"ncounts\": 616250, \"nbarcodes\": 89766.1480634143, \"library\": \"LibB\"}, {\"ncounts\": 617152, \"nbarcodes\": 89794.8880148032, \"library\": \"LibB\"}, {\"ncounts\": 618054, \"nbarcodes\": 89823.5747568015, \"library\": \"LibB\"}, {\"ncounts\": 618957, \"nbarcodes\": 89852.24018921789, \"library\": \"LibB\"}, {\"ncounts\": 619859, \"nbarcodes\": 89880.82099055106, \"library\": \"LibB\"}, {\"ncounts\": 620761, \"nbarcodes\": 89909.34910156064, \"library\": \"LibB\"}, {\"ncounts\": 621663, \"nbarcodes\": 89937.82469257644, \"library\": \"LibB\"}, {\"ncounts\": 622566, \"nbarcodes\": 89966.2794283415, \"library\": \"LibB\"}, {\"ncounts\": 623468, \"nbarcodes\": 89994.6504519885, \"library\": \"LibB\"}, {\"ncounts\": 624370, \"nbarcodes\": 90022.96947273506, \"library\": \"LibB\"}, {\"ncounts\": 625272, \"nbarcodes\": 90051.23667639284, \"library\": \"LibB\"}, {\"ncounts\": 626175, \"nbarcodes\": 90079.48344893707, \"library\": \"LibB\"}, {\"ncounts\": 627077, \"nbarcodes\": 90107.64742438098, \"library\": \"LibB\"}, {\"ncounts\": 627979, \"nbarcodes\": 90135.76005990071, \"library\": \"LibB\"}, {\"ncounts\": 628881, \"nbarcodes\": 90163.82154115773, \"library\": \"LibB\"}, {\"ncounts\": 629784, \"nbarcodes\": 90191.86304813647, \"library\": \"LibB\"}, {\"ncounts\": 630686, \"nbarcodes\": 90219.82262744683, \"library\": \"LibB\"}, {\"ncounts\": 631588, \"nbarcodes\": 90247.7315486046, \"library\": \"LibB\"}, {\"ncounts\": 632491, \"nbarcodes\": 90275.62082112729, \"library\": \"LibB\"}, {\"ncounts\": 633393, \"nbarcodes\": 90303.42882929725, \"library\": \"LibB\"}, {\"ncounts\": 634295, \"nbarcodes\": 90331.18666673677, \"library\": \"LibB\"}, {\"ncounts\": 635197, \"nbarcodes\": 90358.89446476926, \"library\": \"LibB\"}, {\"ncounts\": 636100, \"nbarcodes\": 90386.58304661821, \"library\": \"LibB\"}, {\"ncounts\": 637002, \"nbarcodes\": 90414.19123476156, \"library\": \"LibB\"}, {\"ncounts\": 637904, \"nbarcodes\": 90441.74986789038, \"library\": \"LibB\"}, {\"ncounts\": 638806, \"nbarcodes\": 90469.25912875822, \"library\": \"LibB\"}, {\"ncounts\": 639709, \"nbarcodes\": 90496.74957572027, \"library\": \"LibB\"}, {\"ncounts\": 640611, \"nbarcodes\": 90524.16047667035, \"library\": \"LibB\"}, {\"ncounts\": 641513, \"nbarcodes\": 90551.52245551902, \"library\": \"LibB\"}, {\"ncounts\": 642416, \"nbarcodes\": 90578.8659332812, \"library\": \"LibB\"}, {\"ncounts\": 643318, \"nbarcodes\": 90606.13050029094, \"library\": \"LibB\"}, {\"ncounts\": 644220, \"nbarcodes\": 90633.34661083945, \"library\": \"LibB\"}, {\"ncounts\": 645122, \"nbarcodes\": 90660.51441479787, \"library\": \"LibB\"}, {\"ncounts\": 646025, \"nbarcodes\": 90687.66412734233, \"library\": \"LibB\"}, {\"ncounts\": 646927, \"nbarcodes\": 90714.73573966537, \"library\": \"LibB\"}, {\"ncounts\": 647829, \"nbarcodes\": 90741.7595144159, \"library\": \"LibB\"}, {\"ncounts\": 648731, \"nbarcodes\": 90768.73559386395, \"library\": \"LibB\"}, {\"ncounts\": 649634, \"nbarcodes\": 90795.69396055717, \"library\": \"LibB\"}, {\"ncounts\": 650536, \"nbarcodes\": 90822.57504161469, \"library\": \"LibB\"}, {\"ncounts\": 651438, \"nbarcodes\": 90849.40889510361, \"library\": \"LibB\"}, {\"ncounts\": 652340, \"nbarcodes\": 90876.19563727242, \"library\": \"LibB\"}, {\"ncounts\": 653243, \"nbarcodes\": 90902.96505065591, \"library\": \"LibB\"}, {\"ncounts\": 654145, \"nbarcodes\": 90929.65799145981, \"library\": \"LibB\"}, {\"ncounts\": 655047, \"nbarcodes\": 90956.3042712806, \"library\": \"LibB\"}, {\"ncounts\": 655950, \"nbarcodes\": 90982.93350444813, \"library\": \"LibB\"}, {\"ncounts\": 656852, \"nbarcodes\": 91009.48685395847, \"library\": \"LibB\"}, {\"ncounts\": 657754, \"nbarcodes\": 91035.99398155422, \"library\": \"LibB\"}, {\"ncounts\": 658656, \"nbarcodes\": 91062.45502585686, \"library\": \"LibB\"}, {\"ncounts\": 659559, \"nbarcodes\": 91088.89939310588, \"library\": \"LibB\"}, {\"ncounts\": 660461, \"nbarcodes\": 91115.2686603654, \"library\": \"LibB\"}, {\"ncounts\": 661363, \"nbarcodes\": 91141.59226352122, \"library\": \"LibB\"}, {\"ncounts\": 662265, \"nbarcodes\": 91167.87035762661, \"library\": \"LibB\"}, {\"ncounts\": 663168, \"nbarcodes\": 91194.13214346836, \"library\": \"LibB\"}, {\"ncounts\": 664070, \"nbarcodes\": 91220.31957496551, \"library\": \"LibB\"}, {\"ncounts\": 664972, \"nbarcodes\": 91246.46191848314, \"library\": \"LibB\"}, {\"ncounts\": 665874, \"nbarcodes\": 91272.55931690904, \"library\": \"LibB\"}, {\"ncounts\": 666777, \"nbarcodes\": 91298.64074606546, \"library\": \"LibB\"}, {\"ncounts\": 667679, \"nbarcodes\": 91324.64858756891, \"library\": \"LibB\"}, {\"ncounts\": 668581, \"nbarcodes\": 91350.6118845917, \"library\": \"LibB\"}, {\"ncounts\": 669484, \"nbarcodes\": 91376.55948603342, \"library\": \"LibB\"}, {\"ncounts\": 670386, \"nbarcodes\": 91402.4340595756, \"library\": \"LibB\"}, {\"ncounts\": 671288, \"nbarcodes\": 91428.26449724393, \"library\": \"LibB\"}, {\"ncounts\": 672190, \"nbarcodes\": 91454.05093543262, \"library\": \"LibB\"}, {\"ncounts\": 673093, \"nbarcodes\": 91479.82201595927, \"library\": \"LibB\"}, {\"ncounts\": 673995, \"nbarcodes\": 91505.5208016613, \"library\": \"LibB\"}, {\"ncounts\": 674897, \"nbarcodes\": 91531.17597890116, \"library\": \"LibB\"}, {\"ncounts\": 675799, \"nbarcodes\": 91556.78769686329, \"library\": \"LibB\"}, {\"ncounts\": 676702, \"nbarcodes\": 91582.38438720594, \"library\": \"LibB\"}, {\"ncounts\": 677604, \"nbarcodes\": 91607.90951040668, \"library\": \"LibB\"}, {\"ncounts\": 678506, \"nbarcodes\": 91633.39154957855, \"library\": \"LibB\"}, {\"ncounts\": 679409, \"nbarcodes\": 91658.85883132137, \"library\": \"LibB\"}, {\"ncounts\": 680311, \"nbarcodes\": 91684.25506521808, \"library\": \"LibB\"}, {\"ncounts\": 681213, \"nbarcodes\": 91709.60860245569, \"library\": \"LibB\"}, {\"ncounts\": 682115, \"nbarcodes\": 91734.91959450522, \"library\": \"LibB\"}, {\"ncounts\": 683018, \"nbarcodes\": 91760.21613459883, \"library\": \"LibB\"}, {\"ncounts\": 683920, \"nbarcodes\": 91785.4423326345, \"library\": \"LibB\"}, {\"ncounts\": 684822, \"nbarcodes\": 91810.62635851176, \"library\": \"LibB\"}, {\"ncounts\": 685724, \"nbarcodes\": 91835.76832379006, \"library\": \"LibB\"}, {\"ncounts\": 686627, \"nbarcodes\": 91860.89617132492, \"library\": \"LibB\"}, {\"ncounts\": 687529, \"nbarcodes\": 91885.95437050216, \"library\": \"LibB\"}, {\"ncounts\": 688431, \"nbarcodes\": 91910.9708922754, \"library\": \"LibB\"}, {\"ncounts\": 689333, \"nbarcodes\": 91935.94585555568, \"library\": \"LibB\"}, {\"ncounts\": 690236, \"nbarcodes\": 91960.90701446643, \"library\": \"LibB\"}, {\"ncounts\": 691138, \"nbarcodes\": 91985.79920803287, \"library\": \"LibB\"}, {\"ncounts\": 692040, \"nbarcodes\": 92010.65020995095, \"library\": \"LibB\"}, {\"ncounts\": 692943, \"nbarcodes\": 92035.4876380572, \"library\": \"LibB\"}, {\"ncounts\": 693845, \"nbarcodes\": 92060.25659180786, \"library\": \"LibB\"}, {\"ncounts\": 694747, \"nbarcodes\": 92084.98473714039, \"library\": \"LibB\"}, {\"ncounts\": 695649, \"nbarcodes\": 92109.67217447204, \"library\": \"LibB\"}, {\"ncounts\": 696552, \"nbarcodes\": 92134.34634192723, \"library\": \"LibB\"}, {\"ncounts\": 697454, \"nbarcodes\": 92158.95270179721, \"library\": \"LibB\"}, {\"ncounts\": 698356, \"nbarcodes\": 92183.51872877093, \"library\": \"LibB\"}, {\"ncounts\": 699258, \"nbarcodes\": 92208.04452336162, \"library\": \"LibB\"}, {\"ncounts\": 700161, \"nbarcodes\": 92232.55734310034, \"library\": \"LibB\"}, {\"ncounts\": 701063, \"nbarcodes\": 92257.00301410939, \"library\": \"LibB\"}, {\"ncounts\": 701965, \"nbarcodes\": 92281.40881784097, \"library\": \"LibB\"}, {\"ncounts\": 702867, \"nbarcodes\": 92305.77486880623, \"library\": \"LibB\"}, {\"ncounts\": 703770, \"nbarcodes\": 92330.12822564442, \"library\": \"LibB\"}, {\"ncounts\": 704672, \"nbarcodes\": 92354.41508321237, \"library\": \"LibB\"}, {\"ncounts\": 705574, \"nbarcodes\": 92378.66252376411, \"library\": \"LibB\"}, {\"ncounts\": 706477, \"nbarcodes\": 92402.89750331521, \"library\": \"LibB\"}, {\"ncounts\": 707379, \"nbarcodes\": 92427.06643731671, \"library\": \"LibB\"}, {\"ncounts\": 708281, \"nbarcodes\": 92451.19631864324, \"library\": \"LibB\"}, {\"ncounts\": 709183, \"nbarcodes\": 92475.287246966, \"library\": \"LibB\"}, {\"ncounts\": 710086, \"nbarcodes\": 92499.36597967418, \"library\": \"LibB\"}, {\"ncounts\": 710988, \"nbarcodes\": 92523.37931299815, \"library\": \"LibB\"}, {\"ncounts\": 711890, \"nbarcodes\": 92547.35403152682, \"library\": \"LibB\"}, {\"ncounts\": 712792, \"nbarcodes\": 92571.29025011949, \"library\": \"LibB\"}, {\"ncounts\": 713695, \"nbarcodes\": 92595.2145468683, \"library\": \"LibB\"}, {\"ncounts\": 714597, \"nbarcodes\": 92619.07406450887, \"library\": \"LibB\"}, {\"ncounts\": 715499, \"nbarcodes\": 92642.8954009524, \"library\": \"LibB\"}, {\"ncounts\": 716402, \"nbarcodes\": 92666.70503326092, \"library\": \"LibB\"}, {\"ncounts\": 717304, \"nbarcodes\": 92690.45032545376, \"library\": \"LibB\"}, {\"ncounts\": 718206, \"nbarcodes\": 92714.15778629608, \"library\": \"LibB\"}, {\"ncounts\": 719108, \"nbarcodes\": 92737.82750695037, \"library\": \"LibB\"}, {\"ncounts\": 720011, \"nbarcodes\": 92761.48578649486, \"library\": \"LibB\"}, {\"ncounts\": 720913, \"nbarcodes\": 92785.08032670656, \"library\": \"LibB\"}, {\"ncounts\": 721815, \"nbarcodes\": 92808.63746649738, \"library\": \"LibB\"}, {\"ncounts\": 722717, \"nbarcodes\": 92832.15729946208, \"library\": \"LibB\"}, {\"ncounts\": 723620, \"nbarcodes\": 92855.66595231925, \"library\": \"LibB\"}, {\"ncounts\": 724522, \"nbarcodes\": 92879.11145689328, \"library\": \"LibB\"}, {\"ncounts\": 725424, \"nbarcodes\": 92902.51998487428, \"library\": \"LibB\"}, {\"ncounts\": 726326, \"nbarcodes\": 92925.89162831572, \"library\": \"LibB\"}, {\"ncounts\": 727229, \"nbarcodes\": 92949.25234339095, \"library\": \"LibB\"}, {\"ncounts\": 728131, \"nbarcodes\": 92972.55050600322, \"library\": \"LibB\"}, {\"ncounts\": 729033, \"nbarcodes\": 92995.81209635713, \"library\": \"LibB\"}, {\"ncounts\": 729936, \"nbarcodes\": 93019.06295027697, \"library\": \"LibB\"}, {\"ncounts\": 730838, \"nbarcodes\": 93042.25168003168, \"library\": \"LibB\"}, {\"ncounts\": 731740, \"nbarcodes\": 93065.40415376416, \"library\": \"LibB\"}, {\"ncounts\": 732642, \"nbarcodes\": 93088.52047026719, \"library\": \"LibB\"}, {\"ncounts\": 733545, \"nbarcodes\": 93111.62629564603, \"library\": \"LibB\"}, {\"ncounts\": 734447, \"nbarcodes\": 93134.67056258513, \"library\": \"LibB\"}, {\"ncounts\": 735349, \"nbarcodes\": 93157.67897825976, \"library\": \"LibB\"}, {\"ncounts\": 736251, \"nbarcodes\": 93180.65164607135, \"library\": \"LibB\"}, {\"ncounts\": 737154, \"nbarcodes\": 93203.6140703585, \"library\": \"LibB\"}, {\"ncounts\": 738056, \"nbarcodes\": 93226.51549639655, \"library\": \"LibB\"}, {\"ncounts\": 738958, \"nbarcodes\": 93249.38146620456, \"library\": \"LibB\"}, {\"ncounts\": 739860, \"nbarcodes\": 93272.21208668833, \"library\": \"LibB\"}, {\"ncounts\": 740763, \"nbarcodes\": 93295.03270765588, \"library\": \"LibB\"}, {\"ncounts\": 741665, \"nbarcodes\": 93317.79287584145, \"library\": \"LibB\"}, {\"ncounts\": 742567, \"nbarcodes\": 93340.5179897188, \"library\": \"LibB\"}, {\"ncounts\": 743470, \"nbarcodes\": 93363.23327372958, \"library\": \"LibB\"}, {\"ncounts\": 744372, \"nbarcodes\": 93385.88852363545, \"library\": \"LibB\"}, {\"ncounts\": 745274, \"nbarcodes\": 93408.50900636324, \"library\": \"LibB\"}, {\"ncounts\": 746176, \"nbarcodes\": 93431.09481500521, \"library\": \"LibB\"}, {\"ncounts\": 747079, \"nbarcodes\": 93453.67103914988, \"library\": \"LibB\"}, {\"ncounts\": 747981, \"nbarcodes\": 93476.18775331577, \"library\": \"LibB\"}, {\"ncounts\": 748883, \"nbarcodes\": 93498.6700906176, \"library\": \"LibB\"}, {\"ncounts\": 749785, \"nbarcodes\": 93521.11813828179, \"library\": \"LibB\"}, {\"ncounts\": 750688, \"nbarcodes\": 93543.5568191163, \"library\": \"LibB\"}, {\"ncounts\": 751590, \"nbarcodes\": 93565.93652864527, \"library\": \"LibB\"}, {\"ncounts\": 752492, \"nbarcodes\": 93588.28223582334, \"library\": \"LibB\"}, {\"ncounts\": 753395, \"nbarcodes\": 93610.61874470543, \"library\": \"LibB\"}, {\"ncounts\": 754297, \"nbarcodes\": 93632.89667978394, \"library\": \"LibB\"}, {\"ncounts\": 755199, \"nbarcodes\": 93655.14088359517, \"library\": \"LibB\"}, {\"ncounts\": 756101, \"nbarcodes\": 93677.35145421936, \"library\": \"LibB\"}, {\"ncounts\": 757004, \"nbarcodes\": 93699.55305334108, \"library\": \"LibB\"}, {\"ncounts\": 757906, \"nbarcodes\": 93721.69658811064, \"library\": \"LibB\"}, {\"ncounts\": 758808, \"nbarcodes\": 93743.80676605686, \"library\": \"LibB\"}, {\"ncounts\": 759710, \"nbarcodes\": 93765.88367489344, \"library\": \"LibB\"}, {\"ncounts\": 760613, \"nbarcodes\": 93787.95182637693, \"library\": \"LibB\"}, {\"ncounts\": 761515, \"nbarcodes\": 93809.96242542607, \"library\": \"LibB\"}, {\"ncounts\": 762417, \"nbarcodes\": 93831.94002959067, \"library\": \"LibB\"}, {\"ncounts\": 763319, \"nbarcodes\": 93853.88472670405, \"library\": \"LibB\"}, {\"ncounts\": 764222, \"nbarcodes\": 93875.82087542888, \"library\": \"LibB\"}, {\"ncounts\": 765124, \"nbarcodes\": 93897.69998129307, \"library\": \"LibB\"}, {\"ncounts\": 766026, \"nbarcodes\": 93919.54643985863, \"library\": \"LibB\"}, {\"ncounts\": 766929, \"nbarcodes\": 93941.38451465852, \"library\": \"LibB\"}, {\"ncounts\": 767831, \"nbarcodes\": 93963.16592250224, \"library\": \"LibB\"}, {\"ncounts\": 768733, \"nbarcodes\": 93984.91494855545, \"library\": \"LibB\"}, {\"ncounts\": 769635, \"nbarcodes\": 94006.63167828719, \"library\": \"LibB\"}, {\"ncounts\": 770538, \"nbarcodes\": 94028.34022888726, \"library\": \"LibB\"}, {\"ncounts\": 771440, \"nbarcodes\": 94049.99260154911, \"library\": \"LibB\"}, {\"ncounts\": 772342, \"nbarcodes\": 94071.61294355316, \"library\": \"LibB\"}, {\"ncounts\": 773244, \"nbarcodes\": 94093.20133598345, \"library\": \"LibB\"}, {\"ncounts\": 774147, \"nbarcodes\": 94114.78175020288, \"library\": \"LibB\"}, {\"ncounts\": 775049, \"nbarcodes\": 94136.30647126086, \"library\": \"LibB\"}, {\"ncounts\": 775951, \"nbarcodes\": 94157.79950056123, \"library\": \"LibB\"}, {\"ncounts\": 776853, \"nbarcodes\": 94179.2609207379, \"library\": \"LibB\"}, {\"ncounts\": 777756, \"nbarcodes\": 94200.71456400625, \"library\": \"LibB\"}, {\"ncounts\": 778658, \"nbarcodes\": 94222.11299253072, \"library\": \"LibB\"}, {\"ncounts\": 779560, \"nbarcodes\": 94243.48006733196, \"library\": \"LibB\"}, {\"ncounts\": 780463, \"nbarcodes\": 94264.83950468086, \"library\": \"LibB\"}, {\"ncounts\": 781365, \"nbarcodes\": 94286.14408347357, \"library\": \"LibB\"}, {\"ncounts\": 782267, \"nbarcodes\": 94307.41755891303, \"library\": \"LibB\"}, {\"ncounts\": 783169, \"nbarcodes\": 94328.6600069039, \"library\": \"LibB\"}, {\"ncounts\": 784072, \"nbarcodes\": 94349.89501565936, \"library\": \"LibB\"}, {\"ncounts\": 784974, \"nbarcodes\": 94371.07563433769, \"library\": \"LibB\"}, {\"ncounts\": 785876, \"nbarcodes\": 94392.22547252476, \"library\": \"LibB\"}, {\"ncounts\": 786778, \"nbarcodes\": 94413.34461512983, \"library\": \"LibB\"}, {\"ncounts\": 787681, \"nbarcodes\": 94434.45650377659, \"library\": \"LibB\"}, {\"ncounts\": 788583, \"nbarcodes\": 94455.51446060925, \"library\": \"LibB\"}, {\"ncounts\": 789485, \"nbarcodes\": 94476.54196680144, \"library\": \"LibB\"}, {\"ncounts\": 790388, \"nbarcodes\": 94497.56235500246, \"library\": \"LibB\"}, {\"ncounts\": 791290, \"nbarcodes\": 94518.5291572132, \"library\": \"LibB\"}, {\"ncounts\": 792192, \"nbarcodes\": 94539.46574133632, \"library\": \"LibB\"}, {\"ncounts\": 793094, \"nbarcodes\": 94560.3721921859, \"library\": \"LibB\"}, {\"ncounts\": 793997, \"nbarcodes\": 94581.27171109151, \"library\": \"LibB\"}, {\"ncounts\": 794899, \"nbarcodes\": 94602.11809204241, \"library\": \"LibB\"}, {\"ncounts\": 795801, \"nbarcodes\": 94622.93457008954, \"library\": \"LibB\"}, {\"ncounts\": 796703, \"nbarcodes\": 94643.72122801573, \"library\": \"LibB\"}, {\"ncounts\": 797606, \"nbarcodes\": 94664.50113493587, \"library\": \"LibB\"}, {\"ncounts\": 798508, \"nbarcodes\": 94685.22834921096, \"library\": \"LibB\"}, {\"ncounts\": 799410, \"nbarcodes\": 94705.92596954935, \"library\": \"LibB\"}, {\"ncounts\": 800312, \"nbarcodes\": 94726.59407496406, \"library\": \"LibB\"}, {\"ncounts\": 801215, \"nbarcodes\": 94747.25561368035, \"library\": \"LibB\"}, {\"ncounts\": 802117, \"nbarcodes\": 94767.86489137543, \"library\": \"LibB\"}, {\"ncounts\": 803019, \"nbarcodes\": 94788.4448853105, \"library\": \"LibB\"}, {\"ncounts\": 803922, \"nbarcodes\": 94809.01843737657, \"library\": \"LibB\"}, {\"ncounts\": 804824, \"nbarcodes\": 94829.54005529199, \"library\": \"LibB\"}, {\"ncounts\": 805726, \"nbarcodes\": 94850.03261775493, \"library\": \"LibB\"}, {\"ncounts\": 806628, \"nbarcodes\": 94870.49619556032, \"library\": \"LibB\"}, {\"ncounts\": 807531, \"nbarcodes\": 94890.95350619034, \"library\": \"LibB\"}, {\"ncounts\": 808433, \"nbarcodes\": 94911.35930975367, \"library\": \"LibB\"}, {\"ncounts\": 809335, \"nbarcodes\": 94931.73635293944, \"library\": \"LibB\"}, {\"ncounts\": 810237, \"nbarcodes\": 94952.08471002706, \"library\": \"LibB\"}, {\"ncounts\": 811140, \"nbarcodes\": 94972.426965836, \"library\": \"LibB\"}, {\"ncounts\": 812042, \"nbarcodes\": 94992.71814263216, \"library\": \"LibB\"}, {\"ncounts\": 812944, \"nbarcodes\": 95012.98085041328, \"library\": \"LibB\"}, {\"ncounts\": 813846, \"nbarcodes\": 95033.21516328224, \"library\": \"LibB\"}, {\"ncounts\": 814749, \"nbarcodes\": 95053.4435436656, \"library\": \"LibB\"}, {\"ncounts\": 815651, \"nbarcodes\": 95073.62125842561, \"library\": \"LibB\"}, {\"ncounts\": 816553, \"nbarcodes\": 95093.77079661253, \"library\": \"LibB\"}, {\"ncounts\": 817456, \"nbarcodes\": 95113.91452093924, \"library\": \"LibB\"}, {\"ncounts\": 818358, \"nbarcodes\": 95134.00789085063, \"library\": \"LibB\"}, {\"ncounts\": 819260, \"nbarcodes\": 95154.0732997554, \"library\": \"LibB\"}, {\"ncounts\": 820162, \"nbarcodes\": 95174.11081351718, \"library\": \"LibB\"}, {\"ncounts\": 821065, \"nbarcodes\": 95194.1426797909, \"library\": \"LibB\"}, {\"ncounts\": 821967, \"nbarcodes\": 95214.12459436366, \"library\": \"LibB\"}, {\"ncounts\": 822869, \"nbarcodes\": 95234.0788327281, \"library\": \"LibB\"}, {\"ncounts\": 823771, \"nbarcodes\": 95254.00545951466, \"library\": \"LibB\"}, {\"ncounts\": 824674, \"nbarcodes\": 95273.92659334962, \"library\": \"LibB\"}, {\"ncounts\": 825576, \"nbarcodes\": 95293.79817986678, \"library\": \"LibB\"}, {\"ncounts\": 826478, \"nbarcodes\": 95313.64236542053, \"library\": \"LibB\"}, {\"ncounts\": 827381, \"nbarcodes\": 95333.48117522182, \"library\": \"LibB\"}, {\"ncounts\": 828283, \"nbarcodes\": 95353.2707361083, \"library\": \"LibB\"}, {\"ncounts\": 829185, \"nbarcodes\": 95373.03310354553, \"library\": \"LibB\"}, {\"ncounts\": 830087, \"nbarcodes\": 95392.768343823, \"library\": \"LibB\"}, {\"ncounts\": 830990, \"nbarcodes\": 95412.49835999291, \"library\": \"LibB\"}, {\"ncounts\": 831892, \"nbarcodes\": 95432.17952195434, \"library\": \"LibB\"}, {\"ncounts\": 832794, \"nbarcodes\": 95451.83376148967, \"library\": \"LibB\"}, {\"ncounts\": 833696, \"nbarcodes\": 95471.46114451686, \"library\": \"LibB\"}, {\"ncounts\": 834599, \"nbarcodes\": 95491.08345357685, \"library\": \"LibB\"}, {\"ncounts\": 835501, \"nbarcodes\": 95510.65729999142, \"library\": \"LibB\"}, {\"ncounts\": 836403, \"nbarcodes\": 95530.20448902725, \"library\": \"LibB\"}, {\"ncounts\": 837305, \"nbarcodes\": 95549.72508895447, \"library\": \"LibB\"}, {\"ncounts\": 838208, \"nbarcodes\": 95569.24076441697, \"library\": \"LibB\"}, {\"ncounts\": 839110, \"nbarcodes\": 95588.70835969696, \"library\": \"LibB\"}, {\"ncounts\": 840012, \"nbarcodes\": 95608.14956014784, \"library\": \"LibB\"}, {\"ncounts\": 840915, \"nbarcodes\": 95627.58594885831, \"library\": \"LibB\"}, {\"ncounts\": 841817, \"nbarcodes\": 95646.97453723788, \"library\": \"LibB\"}, {\"ncounts\": 842719, \"nbarcodes\": 95666.33692928136, \"library\": \"LibB\"}, {\"ncounts\": 843621, \"nbarcodes\": 95685.67319309624, \"library\": \"LibB\"}, {\"ncounts\": 844524, \"nbarcodes\": 95705.00478478358, \"library\": \"LibB\"}, {\"ncounts\": 845426, \"nbarcodes\": 95724.28895324301, \"library\": \"LibB\"}, {\"ncounts\": 846328, \"nbarcodes\": 95743.54718396062, \"library\": \"LibB\"}, {\"ncounts\": 847230, \"nbarcodes\": 95762.77954206191, \"library\": \"LibB\"}, {\"ncounts\": 848133, \"nbarcodes\": 95782.00737078133, \"library\": \"LibB\"}, {\"ncounts\": 849035, \"nbarcodes\": 95801.1881450233, \"library\": \"LibB\"}, {\"ncounts\": 849937, \"nbarcodes\": 95820.34323683084, \"library\": \"LibB\"}, {\"ncounts\": 850839, \"nbarcodes\": 95839.4727081148, \"library\": \"LibB\"}, {\"ncounts\": 851742, \"nbarcodes\": 95858.59778839565, \"library\": \"LibB\"}, {\"ncounts\": 852644, \"nbarcodes\": 95877.67618084412, \"library\": \"LibB\"}, {\"ncounts\": 853546, \"nbarcodes\": 95896.72914192214, \"library\": \"LibB\"}, {\"ncounts\": 854449, \"nbarcodes\": 95915.77781360835, \"library\": \"LibB\"}, {\"ncounts\": 855351, \"nbarcodes\": 95934.7800691277, \"library\": \"LibB\"}, {\"ncounts\": 856253, \"nbarcodes\": 95953.75707898333, \"library\": \"LibB\"}, {\"ncounts\": 857155, \"nbarcodes\": 95972.70890474197, \"library\": \"LibB\"}, {\"ncounts\": 858058, \"nbarcodes\": 95991.656575262, \"library\": \"LibB\"}, {\"ncounts\": 858960, \"nbarcodes\": 96010.55818873733, \"library\": \"LibB\"}, {\"ncounts\": 859862, \"nbarcodes\": 96029.43480058257, \"library\": \"LibB\"}, {\"ncounts\": 860764, \"nbarcodes\": 96048.28647130608, \"library\": \"LibB\"}, {\"ncounts\": 861667, \"nbarcodes\": 96067.13412064777, \"library\": \"LibB\"}, {\"ncounts\": 862569, \"nbarcodes\": 96085.9360650144, \"library\": \"LibB\"}, {\"ncounts\": 863471, \"nbarcodes\": 96104.71324958606, \"library\": \"LibB\"}, {\"ncounts\": 864374, \"nbarcodes\": 96123.48651170445, \"library\": \"LibB\"}, {\"ncounts\": 865276, \"nbarcodes\": 96142.21432880619, \"library\": \"LibB\"}, {\"ncounts\": 866178, \"nbarcodes\": 96160.91756678006, \"library\": \"LibB\"}, {\"ncounts\": 867080, \"nbarcodes\": 96179.59628305041, \"library\": \"LibB\"}, {\"ncounts\": 867983, \"nbarcodes\": 96198.27120525484, \"library\": \"LibB\"}, {\"ncounts\": 868885, \"nbarcodes\": 96216.90102902944, \"library\": \"LibB\"}, {\"ncounts\": 869787, \"nbarcodes\": 96235.50650959, \"library\": \"LibB\"}, {\"ncounts\": 870689, \"nbarcodes\": 96254.08770330632, \"library\": \"LibB\"}, {\"ncounts\": 871592, \"nbarcodes\": 96272.66522909931, \"library\": \"LibB\"}, {\"ncounts\": 872494, \"nbarcodes\": 96291.19799842553, \"library\": \"LibB\"}, {\"ncounts\": 873396, \"nbarcodes\": 96309.70665624278, \"library\": \"LibB\"}, {\"ncounts\": 874298, \"nbarcodes\": 96328.19125949971, \"library\": \"LibB\"}, {\"ncounts\": 875201, \"nbarcodes\": 96346.6723196461, \"library\": \"LibB\"}, {\"ncounts\": 876103, \"nbarcodes\": 96365.10896167213, \"library\": \"LibB\"}, {\"ncounts\": 877005, \"nbarcodes\": 96383.52172070854, \"library\": \"LibB\"}, {\"ncounts\": 877908, \"nbarcodes\": 96401.93102838288, \"library\": \"LibB\"}, {\"ncounts\": 878810, \"nbarcodes\": 96420.29616760951, \"library\": \"LibB\"}, {\"ncounts\": 879712, \"nbarcodes\": 96438.63759540506, \"library\": \"LibB\"}, {\"ncounts\": 880614, \"nbarcodes\": 96456.95536708082, \"library\": \"LibB\"}, {\"ncounts\": 881517, \"nbarcodes\": 96475.26980856642, \"library\": \"LibB\"}, {\"ncounts\": 882419, \"nbarcodes\": 96493.54041142786, \"library\": \"LibB\"}, {\"ncounts\": 883321, \"nbarcodes\": 96511.78752689724, \"library\": \"LibB\"}, {\"ncounts\": 884223, \"nbarcodes\": 96530.01121032902, \"library\": \"LibB\"}, {\"ncounts\": 885126, \"nbarcodes\": 96548.23168266857, \"library\": \"LibB\"}, {\"ncounts\": 886028, \"nbarcodes\": 96566.40864239154, \"library\": \"LibB\"}, {\"ncounts\": 886930, \"nbarcodes\": 96584.5623359592, \"library\": \"LibB\"}, {\"ncounts\": 887832, \"nbarcodes\": 96602.69281861302, \"library\": \"LibB\"}, {\"ncounts\": 888735, \"nbarcodes\": 96620.82020615163, \"library\": \"LibB\"}, {\"ncounts\": 889637, \"nbarcodes\": 96638.9044041863, \"library\": \"LibB\"}, {\"ncounts\": 890539, \"nbarcodes\": 96656.96555429373, \"library\": \"LibB\"}, {\"ncounts\": 891442, \"nbarcodes\": 96675.02369638055, \"library\": \"LibB\"}, {\"ncounts\": 892344, \"nbarcodes\": 96693.0388879848, \"library\": \"LibB\"}, {\"ncounts\": 893246, \"nbarcodes\": 96711.03119360395, \"library\": \"LibB\"}, {\"ncounts\": 894148, \"nbarcodes\": 96729.00066735875, \"library\": \"LibB\"}, {\"ncounts\": 895051, \"nbarcodes\": 96746.96724613504, \"library\": \"LibB\"}, {\"ncounts\": 895953, \"nbarcodes\": 96764.89119030726, \"library\": \"LibB\"}, {\"ncounts\": 896855, \"nbarcodes\": 96782.79246225518, \"library\": \"LibB\"}, {\"ncounts\": 897757, \"nbarcodes\": 96800.67111453821, \"library\": \"LibB\"}, {\"ncounts\": 898660, \"nbarcodes\": 96818.54698390943, \"library\": \"LibB\"}, {\"ncounts\": 899562, \"nbarcodes\": 96836.38053054608, \"library\": \"LibB\"}, {\"ncounts\": 900464, \"nbarcodes\": 96854.19161552258, \"library\": \"LibB\"}, {\"ncounts\": 901367, \"nbarcodes\": 96872.0, \"library\": \"LibB\"}]}}, {\"mode\": \"vega-lite\"});\n",
       "</script>"
      ],
      "text/plain": [
       "alt.Chart(...)"
      ]
     },
     "metadata": {},
     "output_type": "display_data"
    },
    {
     "data": {
      "text/html": [
       "\n",
       "<style>\n",
       "  #altair-viz-0efbad1c988b48bdab23dc1c3d4616d9.vega-embed {\n",
       "    width: 100%;\n",
       "    display: flex;\n",
       "  }\n",
       "\n",
       "  #altair-viz-0efbad1c988b48bdab23dc1c3d4616d9.vega-embed details,\n",
       "  #altair-viz-0efbad1c988b48bdab23dc1c3d4616d9.vega-embed details summary {\n",
       "    position: relative;\n",
       "  }\n",
       "</style>\n",
       "<div id=\"altair-viz-0efbad1c988b48bdab23dc1c3d4616d9\"></div>\n",
       "<script type=\"text/javascript\">\n",
       "  var VEGA_DEBUG = (typeof VEGA_DEBUG == \"undefined\") ? {} : VEGA_DEBUG;\n",
       "  (function(spec, embedOpt){\n",
       "    let outputDiv = document.currentScript.previousElementSibling;\n",
       "    if (outputDiv.id !== \"altair-viz-0efbad1c988b48bdab23dc1c3d4616d9\") {\n",
       "      outputDiv = document.getElementById(\"altair-viz-0efbad1c988b48bdab23dc1c3d4616d9\");\n",
       "    }\n",
       "    const paths = {\n",
       "      \"vega\": \"https://cdn.jsdelivr.net/npm/vega@5?noext\",\n",
       "      \"vega-lib\": \"https://cdn.jsdelivr.net/npm/vega-lib?noext\",\n",
       "      \"vega-lite\": \"https://cdn.jsdelivr.net/npm/vega-lite@5.8.0?noext\",\n",
       "      \"vega-embed\": \"https://cdn.jsdelivr.net/npm/vega-embed@6?noext\",\n",
       "    };\n",
       "\n",
       "    function maybeLoadScript(lib, version) {\n",
       "      var key = `${lib.replace(\"-\", \"\")}_version`;\n",
       "      return (VEGA_DEBUG[key] == version) ?\n",
       "        Promise.resolve(paths[lib]) :\n",
       "        new Promise(function(resolve, reject) {\n",
       "          var s = document.createElement('script');\n",
       "          document.getElementsByTagName(\"head\")[0].appendChild(s);\n",
       "          s.async = true;\n",
       "          s.onload = () => {\n",
       "            VEGA_DEBUG[key] = version;\n",
       "            return resolve(paths[lib]);\n",
       "          };\n",
       "          s.onerror = () => reject(`Error loading script: ${paths[lib]}`);\n",
       "          s.src = paths[lib];\n",
       "        });\n",
       "    }\n",
       "\n",
       "    function showError(err) {\n",
       "      outputDiv.innerHTML = `<div class=\"error\" style=\"color:red;\">${err}</div>`;\n",
       "      throw err;\n",
       "    }\n",
       "\n",
       "    function displayChart(vegaEmbed) {\n",
       "      vegaEmbed(outputDiv, spec, embedOpt)\n",
       "        .catch(err => showError(`Javascript Error: ${err.message}<br>This usually means there's a typo in your chart specification. See the javascript console for the full traceback.`));\n",
       "    }\n",
       "\n",
       "    if(typeof define === \"function\" && define.amd) {\n",
       "      requirejs.config({paths});\n",
       "      require([\"vega-embed\"], displayChart, err => showError(`Error loading script: ${err.message}`));\n",
       "    } else {\n",
       "      maybeLoadScript(\"vega\", \"5\")\n",
       "        .then(() => maybeLoadScript(\"vega-lite\", \"5.8.0\"))\n",
       "        .then(() => maybeLoadScript(\"vega-embed\", \"6\"))\n",
       "        .catch(showError)\n",
       "        .then(() => displayChart(vegaEmbed));\n",
       "    }\n",
       "  })({\"config\": {\"view\": {\"continuousWidth\": 300, \"continuousHeight\": 300}}, \"data\": {\"name\": \"data-8c296eb23bc2f56faa4b9e6242d400ab\"}, \"mark\": {\"type\": \"bar\"}, \"encoding\": {\"facet\": {\"columns\": 2, \"field\": \"library\", \"title\": null, \"type\": \"nominal\"}, \"tooltip\": [{\"field\": \"library\", \"type\": \"nominal\"}, {\"field\": \"metric\", \"type\": \"nominal\"}, {\"field\": \"diversity\", \"type\": \"quantitative\"}], \"x\": {\"field\": \"diversity\", \"type\": \"quantitative\"}, \"y\": {\"field\": \"metric\", \"title\": null, \"type\": \"nominal\"}}, \"height\": 60, \"width\": 200, \"$schema\": \"https://vega.github.io/schema/vega-lite/v5.8.0.json\", \"datasets\": {\"data-8c296eb23bc2f56faa4b9e6242d400ab\": [{\"library\": \"LibA\", \"metric\": \"inverse_simpson_index\", \"diversity\": 37756.78598221227}, {\"library\": \"LibB\", \"metric\": \"inverse_simpson_index\", \"diversity\": 35378.330204539736}, {\"library\": \"LibA\", \"metric\": \"barcodes with >0 CCSs\", \"diversity\": 109712.0}, {\"library\": \"LibB\", \"metric\": \"barcodes with >0 CCSs\", \"diversity\": 96872.0}, {\"library\": \"LibA\", \"metric\": \"barcodes with >1 CCSs\", \"diversity\": 94950.0}, {\"library\": \"LibB\", \"metric\": \"barcodes with >1 CCSs\", \"diversity\": 79107.0}, {\"library\": \"LibA\", \"metric\": \"barcodes with >2 CCSs\", \"diversity\": 86952.0}, {\"library\": \"LibB\", \"metric\": \"barcodes with >2 CCSs\", \"diversity\": 67944.0}]}}, {\"mode\": \"vega-lite\"});\n",
       "</script>"
      ],
      "text/plain": [
       "alt.Chart(...)"
      ]
     },
     "metadata": {},
     "output_type": "display_data"
    }
   ],
   "source": [
    "# required CCSs per barcode to call consensus below\n",
    "min_support = config[\"consensus_params\"][\"min_support\"]\n",
    "\n",
    "\n",
    "# number of counts for each library / barcode\n",
    "barcodecounts = aligned_ccs.groupby([\"library\", \"barcode\"], as_index=False).aggregate(\n",
    "    count=pd.NamedAgg(\"query_name\", \"count\")\n",
    ")\n",
    "\n",
    "# make rarefaction plot\n",
    "rarefy_df = pd.concat(\n",
    "    [\n",
    "        (\n",
    "            dms_variants.barcodes.rarefyBarcodes(\n",
    "                df, maxpoints=1000, logspace=False\n",
    "            ).assign(library=library)\n",
    "        )\n",
    "        for library, df in barcodecounts.groupby(\"library\")\n",
    "    ]\n",
    ")\n",
    "rarefy_chart = (\n",
    "    alt.Chart(rarefy_df)\n",
    "    .encode(\n",
    "        x=alt.X(\n",
    "            \"ncounts\",\n",
    "            title=\"number of CCSs\",\n",
    "        ),\n",
    "        y=alt.X(\n",
    "            \"nbarcodes\",\n",
    "            title=\"number of barcodes\",\n",
    "        ),\n",
    "        color=alt.Color(\"library\"),\n",
    "        tooltip=rarefy_df.columns.tolist(),\n",
    "    )\n",
    "    .mark_point(size=10, filled=True)\n",
    "    .resolve_scale(y=\"independent\")\n",
    "    .properties(height=175, width=300)\n",
    ")\n",
    "display(rarefy_chart)\n",
    "\n",
    "# compute diversity statistics\n",
    "diversity = dms_variants.barcodes.inverse_simpson_index(barcodecounts).melt(\n",
    "    id_vars=\"library\",\n",
    "    value_vars=\"inverse_simpson_index\",\n",
    "    var_name=\"metric\",\n",
    "    value_name=\"diversity\",\n",
    ")\n",
    "for n in range(min_support):\n",
    "    diversity = pd.concat(\n",
    "        [\n",
    "            diversity,\n",
    "            barcodecounts.query(\"count > @n\")\n",
    "            .groupby(\"library\", as_index=False)\n",
    "            .aggregate(diversity=pd.NamedAgg(\"barcode\", \"nunique\"))\n",
    "            .assign(metric=f\"barcodes with >{n} CCSs\"),\n",
    "        ],\n",
    "        ignore_index=True,\n",
    "    )\n",
    "diversity_chart = (\n",
    "    alt.Chart(diversity)\n",
    "    .encode(\n",
    "        x=alt.X(\"diversity\"),\n",
    "        y=alt.Y(\"metric\", title=None),\n",
    "        facet=alt.Facet(\"library\", columns=2, title=None),\n",
    "        tooltip=diversity.columns.tolist(),\n",
    "    )\n",
    "    .mark_bar()\n",
    "    .properties(width=200, height=15 * (min_support + 1))\n",
    ")\n",
    "display(diversity_chart)"
   ]
  },
  {
   "cell_type": "markdown",
   "id": "23564ffd-6b32-4d3c-9ae9-add609120a5e",
   "metadata": {
    "papermill": {
     "duration": 0.011764,
     "end_time": "2023-07-18T23:47:41.427458",
     "exception": false,
     "start_time": "2023-07-18T23:47:41.415694",
     "status": "completed"
    },
    "tags": []
   },
   "source": [
    "## Build consensus sequences\n",
    "Use the [alignparse.consensus.simple_mutconsensus](https://jbloomlab.github.io/alignparse/alignparse.consensus.html#alignparse.consensus.simple_mutconsensus) method to build consensus sequences, and plot how many barcodes and CCSs contributed to valid consensuses or had to be dropped.\n",
    "Note the stats for barcodes and CCSs look different, because there are uneven numbers of CCSs per barcode:"
   ]
  },
  {
   "cell_type": "code",
   "execution_count": 14,
   "id": "1ab9a335-d309-45f3-97d0-6f1c790b03e3",
   "metadata": {
    "execution": {
     "iopub.execute_input": "2023-07-18T23:47:41.474514Z",
     "iopub.status.busy": "2023-07-18T23:47:41.474218Z",
     "iopub.status.idle": "2023-07-18T23:48:02.362181Z",
     "shell.execute_reply": "2023-07-18T23:48:02.361596Z"
    },
    "papermill": {
     "duration": 20.90548,
     "end_time": "2023-07-18T23:48:02.365391",
     "exception": false,
     "start_time": "2023-07-18T23:47:41.459911",
     "status": "completed"
    },
    "tags": []
   },
   "outputs": [
    {
     "name": "stdout",
     "output_type": "stream",
     "text": [
      "Building consensus sequences with following settings\n",
      "  max_sub_diffs=None\n",
      "  max_indel_diffs=None\n",
      "  max_minor_sub_frac=0.4\n",
      "  max_minor_indel_frac=0.4\n",
      "  min_support=3\n"
     ]
    },
    {
     "data": {
      "text/html": [
       "\n",
       "<style>\n",
       "  #altair-viz-f7da8502178a4345b51783ca8d52e5bf.vega-embed {\n",
       "    width: 100%;\n",
       "    display: flex;\n",
       "  }\n",
       "\n",
       "  #altair-viz-f7da8502178a4345b51783ca8d52e5bf.vega-embed details,\n",
       "  #altair-viz-f7da8502178a4345b51783ca8d52e5bf.vega-embed details summary {\n",
       "    position: relative;\n",
       "  }\n",
       "</style>\n",
       "<div id=\"altair-viz-f7da8502178a4345b51783ca8d52e5bf\"></div>\n",
       "<script type=\"text/javascript\">\n",
       "  var VEGA_DEBUG = (typeof VEGA_DEBUG == \"undefined\") ? {} : VEGA_DEBUG;\n",
       "  (function(spec, embedOpt){\n",
       "    let outputDiv = document.currentScript.previousElementSibling;\n",
       "    if (outputDiv.id !== \"altair-viz-f7da8502178a4345b51783ca8d52e5bf\") {\n",
       "      outputDiv = document.getElementById(\"altair-viz-f7da8502178a4345b51783ca8d52e5bf\");\n",
       "    }\n",
       "    const paths = {\n",
       "      \"vega\": \"https://cdn.jsdelivr.net/npm/vega@5?noext\",\n",
       "      \"vega-lib\": \"https://cdn.jsdelivr.net/npm/vega-lib?noext\",\n",
       "      \"vega-lite\": \"https://cdn.jsdelivr.net/npm/vega-lite@5.8.0?noext\",\n",
       "      \"vega-embed\": \"https://cdn.jsdelivr.net/npm/vega-embed@6?noext\",\n",
       "    };\n",
       "\n",
       "    function maybeLoadScript(lib, version) {\n",
       "      var key = `${lib.replace(\"-\", \"\")}_version`;\n",
       "      return (VEGA_DEBUG[key] == version) ?\n",
       "        Promise.resolve(paths[lib]) :\n",
       "        new Promise(function(resolve, reject) {\n",
       "          var s = document.createElement('script');\n",
       "          document.getElementsByTagName(\"head\")[0].appendChild(s);\n",
       "          s.async = true;\n",
       "          s.onload = () => {\n",
       "            VEGA_DEBUG[key] = version;\n",
       "            return resolve(paths[lib]);\n",
       "          };\n",
       "          s.onerror = () => reject(`Error loading script: ${paths[lib]}`);\n",
       "          s.src = paths[lib];\n",
       "        });\n",
       "    }\n",
       "\n",
       "    function showError(err) {\n",
       "      outputDiv.innerHTML = `<div class=\"error\" style=\"color:red;\">${err}</div>`;\n",
       "      throw err;\n",
       "    }\n",
       "\n",
       "    function displayChart(vegaEmbed) {\n",
       "      vegaEmbed(outputDiv, spec, embedOpt)\n",
       "        .catch(err => showError(`Javascript Error: ${err.message}<br>This usually means there's a typo in your chart specification. See the javascript console for the full traceback.`));\n",
       "    }\n",
       "\n",
       "    if(typeof define === \"function\" && define.amd) {\n",
       "      requirejs.config({paths});\n",
       "      require([\"vega-embed\"], displayChart, err => showError(`Error loading script: ${err.message}`));\n",
       "    } else {\n",
       "      maybeLoadScript(\"vega\", \"5\")\n",
       "        .then(() => maybeLoadScript(\"vega-lite\", \"5.8.0\"))\n",
       "        .then(() => maybeLoadScript(\"vega-embed\", \"6\"))\n",
       "        .catch(showError)\n",
       "        .then(() => displayChart(vegaEmbed));\n",
       "    }\n",
       "  })({\"config\": {\"view\": {\"continuousWidth\": 300, \"continuousHeight\": 300}, \"axis\": {\"grid\": false}}, \"data\": {\"name\": \"data-c68ff138f2766fe63fc43eb7e6da75b0\"}, \"mark\": {\"type\": \"bar\", \"size\": 11.25}, \"encoding\": {\"color\": {\"field\": \"category\", \"scale\": {\"range\": [\"blue\", \"orange\", \"orangered\", \"goldenrod\", \"gold\", \"darkorange\"]}, \"sort\": [\"retained\", \"too few sequences\", \"minor subs too frequent\", \"minor indels too frequent\"], \"type\": \"nominal\"}, \"column\": {\"field\": \"type_of_count\", \"type\": \"nominal\"}, \"row\": {\"field\": \"library\", \"title\": null, \"type\": \"nominal\"}, \"tooltip\": [{\"field\": \"library\", \"type\": \"nominal\"}, {\"field\": \"category\", \"type\": \"nominal\"}, {\"field\": \"dropped\", \"type\": \"nominal\"}, {\"field\": \"nseqs\", \"type\": \"quantitative\"}, {\"field\": \"type_of_count\", \"type\": \"nominal\"}, {\"field\": \"count\", \"type\": \"quantitative\"}], \"x\": {\"field\": \"nseqs\", \"scale\": {\"domain\": [1, 15]}, \"title\": \"number of CCSs for barcode\", \"type\": \"quantitative\"}, \"y\": {\"field\": \"count\", \"stack\": true, \"type\": \"quantitative\"}}, \"height\": 120, \"resolve\": {\"scale\": {\"y\": \"independent\"}}, \"width\": 225, \"$schema\": \"https://vega.github.io/schema/vega-lite/v5.8.0.json\", \"datasets\": {\"data-c68ff138f2766fe63fc43eb7e6da75b0\": [{\"library\": \"LibA\", \"category\": \"minor indels too frequent\", \"dropped\": true, \"nseqs\": 10, \"type_of_count\": \"n_barcodes\", \"count\": 1}, {\"library\": \"LibA\", \"category\": \"minor indels too frequent\", \"dropped\": true, \"nseqs\": 15, \"type_of_count\": \"n_barcodes\", \"count\": 8}, {\"library\": \"LibA\", \"category\": \"minor subs too frequent\", \"dropped\": true, \"nseqs\": 10, \"type_of_count\": \"n_barcodes\", \"count\": 28}, {\"library\": \"LibA\", \"category\": \"minor subs too frequent\", \"dropped\": true, \"nseqs\": 12, \"type_of_count\": \"n_barcodes\", \"count\": 24}, {\"library\": \"LibA\", \"category\": \"minor subs too frequent\", \"dropped\": true, \"nseqs\": 14, \"type_of_count\": \"n_barcodes\", \"count\": 18}, {\"library\": \"LibA\", \"category\": \"minor subs too frequent\", \"dropped\": true, \"nseqs\": 15, \"type_of_count\": \"n_barcodes\", \"count\": 987}, {\"library\": \"LibA\", \"category\": \"retained\", \"dropped\": false, \"nseqs\": 3, \"type_of_count\": \"n_barcodes\", \"count\": 6289}, {\"library\": \"LibA\", \"category\": \"retained\", \"dropped\": false, \"nseqs\": 4, \"type_of_count\": \"n_barcodes\", \"count\": 5256}, {\"library\": \"LibA\", \"category\": \"retained\", \"dropped\": false, \"nseqs\": 5, \"type_of_count\": \"n_barcodes\", \"count\": 4700}, {\"library\": \"LibA\", \"category\": \"retained\", \"dropped\": false, \"nseqs\": 6, \"type_of_count\": \"n_barcodes\", \"count\": 4274}, {\"library\": \"LibA\", \"category\": \"retained\", \"dropped\": false, \"nseqs\": 7, \"type_of_count\": \"n_barcodes\", \"count\": 3719}, {\"library\": \"LibA\", \"category\": \"retained\", \"dropped\": false, \"nseqs\": 8, \"type_of_count\": \"n_barcodes\", \"count\": 3585}, {\"library\": \"LibA\", \"category\": \"retained\", \"dropped\": false, \"nseqs\": 9, \"type_of_count\": \"n_barcodes\", \"count\": 3226}, {\"library\": \"LibA\", \"category\": \"retained\", \"dropped\": false, \"nseqs\": 10, \"type_of_count\": \"n_barcodes\", \"count\": 3026}, {\"library\": \"LibA\", \"category\": \"retained\", \"dropped\": false, \"nseqs\": 11, \"type_of_count\": \"n_barcodes\", \"count\": 2706}, {\"library\": \"LibA\", \"category\": \"retained\", \"dropped\": false, \"nseqs\": 12, \"type_of_count\": \"n_barcodes\", \"count\": 2556}, {\"library\": \"LibA\", \"category\": \"retained\", \"dropped\": false, \"nseqs\": 13, \"type_of_count\": \"n_barcodes\", \"count\": 2408}, {\"library\": \"LibA\", \"category\": \"retained\", \"dropped\": false, \"nseqs\": 14, \"type_of_count\": \"n_barcodes\", \"count\": 2192}, {\"library\": \"LibA\", \"category\": \"retained\", \"dropped\": false, \"nseqs\": 15, \"type_of_count\": \"n_barcodes\", \"count\": 41949}, {\"library\": \"LibA\", \"category\": \"too few sequences\", \"dropped\": true, \"nseqs\": 1, \"type_of_count\": \"n_barcodes\", \"count\": 14762}, {\"library\": \"LibA\", \"category\": \"too few sequences\", \"dropped\": true, \"nseqs\": 2, \"type_of_count\": \"n_barcodes\", \"count\": 7998}, {\"library\": \"LibB\", \"category\": \"minor indels too frequent\", \"dropped\": true, \"nseqs\": 10, \"type_of_count\": \"n_barcodes\", \"count\": 1}, {\"library\": \"LibB\", \"category\": \"minor indels too frequent\", \"dropped\": true, \"nseqs\": 12, \"type_of_count\": \"n_barcodes\", \"count\": 1}, {\"library\": \"LibB\", \"category\": \"minor indels too frequent\", \"dropped\": true, \"nseqs\": 14, \"type_of_count\": \"n_barcodes\", \"count\": 1}, {\"library\": \"LibB\", \"category\": \"minor indels too frequent\", \"dropped\": true, \"nseqs\": 15, \"type_of_count\": \"n_barcodes\", \"count\": 1}, {\"library\": \"LibB\", \"category\": \"minor subs too frequent\", \"dropped\": true, \"nseqs\": 10, \"type_of_count\": \"n_barcodes\", \"count\": 60}, {\"library\": \"LibB\", \"category\": \"minor subs too frequent\", \"dropped\": true, \"nseqs\": 12, \"type_of_count\": \"n_barcodes\", \"count\": 55}, {\"library\": \"LibB\", \"category\": \"minor subs too frequent\", \"dropped\": true, \"nseqs\": 14, \"type_of_count\": \"n_barcodes\", \"count\": 24}, {\"library\": \"LibB\", \"category\": \"minor subs too frequent\", \"dropped\": true, \"nseqs\": 15, \"type_of_count\": \"n_barcodes\", \"count\": 633}, {\"library\": \"LibB\", \"category\": \"retained\", \"dropped\": false, \"nseqs\": 3, \"type_of_count\": \"n_barcodes\", \"count\": 8643}, {\"library\": \"LibB\", \"category\": \"retained\", \"dropped\": false, \"nseqs\": 4, \"type_of_count\": \"n_barcodes\", \"count\": 7047}, {\"library\": \"LibB\", \"category\": \"retained\", \"dropped\": false, \"nseqs\": 5, \"type_of_count\": \"n_barcodes\", \"count\": 5860}, {\"library\": \"LibB\", \"category\": \"retained\", \"dropped\": false, \"nseqs\": 6, \"type_of_count\": \"n_barcodes\", \"count\": 5034}, {\"library\": \"LibB\", \"category\": \"retained\", \"dropped\": false, \"nseqs\": 7, \"type_of_count\": \"n_barcodes\", \"count\": 4313}, {\"library\": \"LibB\", \"category\": \"retained\", \"dropped\": false, \"nseqs\": 8, \"type_of_count\": \"n_barcodes\", \"count\": 3735}, {\"library\": \"LibB\", \"category\": \"retained\", \"dropped\": false, \"nseqs\": 9, \"type_of_count\": \"n_barcodes\", \"count\": 3198}, {\"library\": \"LibB\", \"category\": \"retained\", \"dropped\": false, \"nseqs\": 10, \"type_of_count\": \"n_barcodes\", \"count\": 2859}, {\"library\": \"LibB\", \"category\": \"retained\", \"dropped\": false, \"nseqs\": 11, \"type_of_count\": \"n_barcodes\", \"count\": 2582}, {\"library\": \"LibB\", \"category\": \"retained\", \"dropped\": false, \"nseqs\": 12, \"type_of_count\": \"n_barcodes\", \"count\": 2214}, {\"library\": \"LibB\", \"category\": \"retained\", \"dropped\": false, \"nseqs\": 13, \"type_of_count\": \"n_barcodes\", \"count\": 1942}, {\"library\": \"LibB\", \"category\": \"retained\", \"dropped\": false, \"nseqs\": 14, \"type_of_count\": \"n_barcodes\", \"count\": 1715}, {\"library\": \"LibB\", \"category\": \"retained\", \"dropped\": false, \"nseqs\": 15, \"type_of_count\": \"n_barcodes\", \"count\": 18026}, {\"library\": \"LibB\", \"category\": \"too few sequences\", \"dropped\": true, \"nseqs\": 1, \"type_of_count\": \"n_barcodes\", \"count\": 17765}, {\"library\": \"LibB\", \"category\": \"too few sequences\", \"dropped\": true, \"nseqs\": 2, \"type_of_count\": \"n_barcodes\", \"count\": 11163}, {\"library\": \"LibA\", \"category\": \"minor indels too frequent\", \"dropped\": true, \"nseqs\": 10, \"type_of_count\": \"n_CCSs\", \"count\": 10}, {\"library\": \"LibA\", \"category\": \"minor indels too frequent\", \"dropped\": true, \"nseqs\": 15, \"type_of_count\": \"n_CCSs\", \"count\": 120}, {\"library\": \"LibA\", \"category\": \"minor subs too frequent\", \"dropped\": true, \"nseqs\": 10, \"type_of_count\": \"n_CCSs\", \"count\": 280}, {\"library\": \"LibA\", \"category\": \"minor subs too frequent\", \"dropped\": true, \"nseqs\": 12, \"type_of_count\": \"n_CCSs\", \"count\": 288}, {\"library\": \"LibA\", \"category\": \"minor subs too frequent\", \"dropped\": true, \"nseqs\": 14, \"type_of_count\": \"n_CCSs\", \"count\": 252}, {\"library\": \"LibA\", \"category\": \"minor subs too frequent\", \"dropped\": true, \"nseqs\": 15, \"type_of_count\": \"n_CCSs\", \"count\": 14805}, {\"library\": \"LibA\", \"category\": \"retained\", \"dropped\": false, \"nseqs\": 3, \"type_of_count\": \"n_CCSs\", \"count\": 18867}, {\"library\": \"LibA\", \"category\": \"retained\", \"dropped\": false, \"nseqs\": 4, \"type_of_count\": \"n_CCSs\", \"count\": 21024}, {\"library\": \"LibA\", \"category\": \"retained\", \"dropped\": false, \"nseqs\": 5, \"type_of_count\": \"n_CCSs\", \"count\": 23500}, {\"library\": \"LibA\", \"category\": \"retained\", \"dropped\": false, \"nseqs\": 6, \"type_of_count\": \"n_CCSs\", \"count\": 25644}, {\"library\": \"LibA\", \"category\": \"retained\", \"dropped\": false, \"nseqs\": 7, \"type_of_count\": \"n_CCSs\", \"count\": 26033}, {\"library\": \"LibA\", \"category\": \"retained\", \"dropped\": false, \"nseqs\": 8, \"type_of_count\": \"n_CCSs\", \"count\": 28680}, {\"library\": \"LibA\", \"category\": \"retained\", \"dropped\": false, \"nseqs\": 9, \"type_of_count\": \"n_CCSs\", \"count\": 29034}, {\"library\": \"LibA\", \"category\": \"retained\", \"dropped\": false, \"nseqs\": 10, \"type_of_count\": \"n_CCSs\", \"count\": 30260}, {\"library\": \"LibA\", \"category\": \"retained\", \"dropped\": false, \"nseqs\": 11, \"type_of_count\": \"n_CCSs\", \"count\": 29766}, {\"library\": \"LibA\", \"category\": \"retained\", \"dropped\": false, \"nseqs\": 12, \"type_of_count\": \"n_CCSs\", \"count\": 30672}, {\"library\": \"LibA\", \"category\": \"retained\", \"dropped\": false, \"nseqs\": 13, \"type_of_count\": \"n_CCSs\", \"count\": 31304}, {\"library\": \"LibA\", \"category\": \"retained\", \"dropped\": false, \"nseqs\": 14, \"type_of_count\": \"n_CCSs\", \"count\": 30688}, {\"library\": \"LibA\", \"category\": \"retained\", \"dropped\": false, \"nseqs\": 15, \"type_of_count\": \"n_CCSs\", \"count\": 629235}, {\"library\": \"LibA\", \"category\": \"too few sequences\", \"dropped\": true, \"nseqs\": 1, \"type_of_count\": \"n_CCSs\", \"count\": 14762}, {\"library\": \"LibA\", \"category\": \"too few sequences\", \"dropped\": true, \"nseqs\": 2, \"type_of_count\": \"n_CCSs\", \"count\": 15996}, {\"library\": \"LibB\", \"category\": \"minor indels too frequent\", \"dropped\": true, \"nseqs\": 10, \"type_of_count\": \"n_CCSs\", \"count\": 10}, {\"library\": \"LibB\", \"category\": \"minor indels too frequent\", \"dropped\": true, \"nseqs\": 12, \"type_of_count\": \"n_CCSs\", \"count\": 12}, {\"library\": \"LibB\", \"category\": \"minor indels too frequent\", \"dropped\": true, \"nseqs\": 14, \"type_of_count\": \"n_CCSs\", \"count\": 14}, {\"library\": \"LibB\", \"category\": \"minor indels too frequent\", \"dropped\": true, \"nseqs\": 15, \"type_of_count\": \"n_CCSs\", \"count\": 15}, {\"library\": \"LibB\", \"category\": \"minor subs too frequent\", \"dropped\": true, \"nseqs\": 10, \"type_of_count\": \"n_CCSs\", \"count\": 600}, {\"library\": \"LibB\", \"category\": \"minor subs too frequent\", \"dropped\": true, \"nseqs\": 12, \"type_of_count\": \"n_CCSs\", \"count\": 660}, {\"library\": \"LibB\", \"category\": \"minor subs too frequent\", \"dropped\": true, \"nseqs\": 14, \"type_of_count\": \"n_CCSs\", \"count\": 336}, {\"library\": \"LibB\", \"category\": \"minor subs too frequent\", \"dropped\": true, \"nseqs\": 15, \"type_of_count\": \"n_CCSs\", \"count\": 9495}, {\"library\": \"LibB\", \"category\": \"retained\", \"dropped\": false, \"nseqs\": 3, \"type_of_count\": \"n_CCSs\", \"count\": 25929}, {\"library\": \"LibB\", \"category\": \"retained\", \"dropped\": false, \"nseqs\": 4, \"type_of_count\": \"n_CCSs\", \"count\": 28188}, {\"library\": \"LibB\", \"category\": \"retained\", \"dropped\": false, \"nseqs\": 5, \"type_of_count\": \"n_CCSs\", \"count\": 29300}, {\"library\": \"LibB\", \"category\": \"retained\", \"dropped\": false, \"nseqs\": 6, \"type_of_count\": \"n_CCSs\", \"count\": 30204}, {\"library\": \"LibB\", \"category\": \"retained\", \"dropped\": false, \"nseqs\": 7, \"type_of_count\": \"n_CCSs\", \"count\": 30191}, {\"library\": \"LibB\", \"category\": \"retained\", \"dropped\": false, \"nseqs\": 8, \"type_of_count\": \"n_CCSs\", \"count\": 29880}, {\"library\": \"LibB\", \"category\": \"retained\", \"dropped\": false, \"nseqs\": 9, \"type_of_count\": \"n_CCSs\", \"count\": 28782}, {\"library\": \"LibB\", \"category\": \"retained\", \"dropped\": false, \"nseqs\": 10, \"type_of_count\": \"n_CCSs\", \"count\": 28590}, {\"library\": \"LibB\", \"category\": \"retained\", \"dropped\": false, \"nseqs\": 11, \"type_of_count\": \"n_CCSs\", \"count\": 28402}, {\"library\": \"LibB\", \"category\": \"retained\", \"dropped\": false, \"nseqs\": 12, \"type_of_count\": \"n_CCSs\", \"count\": 26568}, {\"library\": \"LibB\", \"category\": \"retained\", \"dropped\": false, \"nseqs\": 13, \"type_of_count\": \"n_CCSs\", \"count\": 25246}, {\"library\": \"LibB\", \"category\": \"retained\", \"dropped\": false, \"nseqs\": 14, \"type_of_count\": \"n_CCSs\", \"count\": 24010}, {\"library\": \"LibB\", \"category\": \"retained\", \"dropped\": false, \"nseqs\": 15, \"type_of_count\": \"n_CCSs\", \"count\": 270390}, {\"library\": \"LibB\", \"category\": \"too few sequences\", \"dropped\": true, \"nseqs\": 1, \"type_of_count\": \"n_CCSs\", \"count\": 17765}, {\"library\": \"LibB\", \"category\": \"too few sequences\", \"dropped\": true, \"nseqs\": 2, \"type_of_count\": \"n_CCSs\", \"count\": 22326}]}}, {\"mode\": \"vega-lite\"});\n",
       "</script>"
      ],
      "text/plain": [
       "alt.Chart(...)"
      ]
     },
     "metadata": {},
     "output_type": "display_data"
    }
   ],
   "source": [
    "# get parameters for building consensus\n",
    "consensus_params = config[\"consensus_params\"]\n",
    "print(\n",
    "    \"Building consensus sequences with following settings\\n  \"\n",
    "    + \"\\n  \".join(f\"{param}={val}\" for param, val in consensus_params.items())\n",
    ")\n",
    "\n",
    "# build consensus sequences and plot results\n",
    "max_plot_nseqs = 15  # group nseqs >= this together\n",
    "plot_width = 225\n",
    "\n",
    "consensus, dropped = alignparse.consensus.simple_mutconsensus(\n",
    "    aligned_ccs, mutation_col=\"gene_mutations\", **consensus_params\n",
    ")\n",
    "\n",
    "consensus_stats = (\n",
    "    pd.concat(\n",
    "        [\n",
    "            consensus.rename(columns={\"variant_call_support\": \"nseqs\"})\n",
    "            .drop(columns=\"gene_mutations\")\n",
    "            .assign(drop_reason=\"retained\", dropped=False),\n",
    "            dropped.assign(dropped=True),\n",
    "        ]\n",
    "    )\n",
    "    .assign(nseqs=lambda x: x[\"nseqs\"].clip(upper=max_plot_nseqs))\n",
    "    .groupby([\"library\", \"drop_reason\", \"dropped\", \"nseqs\"], as_index=False)\n",
    "    .aggregate(\n",
    "        n_barcodes=pd.NamedAgg(\"barcode\", \"count\"),\n",
    "        n_CCSs=pd.NamedAgg(\"nseqs\", \"sum\"),\n",
    "    )\n",
    "    .rename(columns={\"drop_reason\": \"category\"})\n",
    "    .melt(\n",
    "        id_vars=[\"library\", \"category\", \"dropped\", \"nseqs\"],\n",
    "        value_vars=[\"n_barcodes\", \"n_CCSs\"],\n",
    "        var_name=\"type_of_count\",\n",
    "        value_name=\"count\",\n",
    "    )\n",
    ")\n",
    "\n",
    "# get drop reasons in order to plot\n",
    "drop_reasons = (\n",
    "    consensus_stats.groupby([\"category\", \"dropped\"], as_index=False)\n",
    "    .aggregate({\"count\": \"sum\"})\n",
    "    .sort_values([\"dropped\", \"count\"], ascending=[True, False])[\"category\"]\n",
    "    .tolist()\n",
    ")\n",
    "drop_colors = [\"blue\", \"orange\", \"orangered\", \"goldenrod\", \"gold\", \"darkorange\"]\n",
    "assert len(drop_reasons) <= len(drop_colors)\n",
    "\n",
    "consensus_stats_chart = (\n",
    "    alt.Chart(consensus_stats)\n",
    "    .encode(\n",
    "        x=alt.X(\n",
    "            \"nseqs\",\n",
    "            scale=alt.Scale(domain=(1, max_plot_nseqs)),\n",
    "            title=\"number of CCSs for barcode\",\n",
    "        ),\n",
    "        y=alt.Y(\"count\", stack=True),\n",
    "        color=alt.Color(\n",
    "            \"category\",\n",
    "            sort=drop_reasons,\n",
    "            scale=alt.Scale(range=drop_colors),\n",
    "        ),\n",
    "        row=alt.Row(\n",
    "            \"library\",\n",
    "            title=None,\n",
    "        ),\n",
    "        column=alt.Column(\"type_of_count\"),\n",
    "        tooltip=consensus_stats.columns.tolist(),\n",
    "    )\n",
    "    .mark_bar(size=0.75 * plot_width / max_plot_nseqs)\n",
    "    .properties(width=plot_width, height=120)\n",
    "    .configure_axis(grid=False)\n",
    "    .resolve_scale(y=\"independent\")\n",
    ")\n",
    "\n",
    "display(consensus_stats_chart)"
   ]
  },
  {
   "cell_type": "markdown",
   "id": "769f578f-25e1-4dcc-bdc9-219cde993d78",
   "metadata": {
    "papermill": {
     "duration": 0.012327,
     "end_time": "2023-07-18T23:48:02.396505",
     "exception": false,
     "start_time": "2023-07-18T23:48:02.384178",
     "status": "completed"
    },
    "tags": []
   },
   "source": [
    "## Write consensus sequences to barcode-variant lookup tables for subsequent use\n",
    "We filter any consensus sequences with indels that are not in-frame codon-length deletions (so filtering out-of-frame indels), and then write the remaining sequences to barcode-variant lookup tables for later use:"
   ]
  },
  {
   "cell_type": "code",
   "execution_count": 15,
   "id": "d954cb13-007c-4d03-beec-8f4001660704",
   "metadata": {
    "execution": {
     "iopub.execute_input": "2023-07-18T23:48:02.430654Z",
     "iopub.status.busy": "2023-07-18T23:48:02.430165Z",
     "iopub.status.idle": "2023-07-18T23:48:04.104474Z",
     "shell.execute_reply": "2023-07-18T23:48:04.103765Z"
    },
    "papermill": {
     "duration": 1.6899,
     "end_time": "2023-07-18T23:48:04.107332",
     "exception": false,
     "start_time": "2023-07-18T23:48:02.417432",
     "status": "completed"
    },
    "tags": []
   },
   "outputs": [
    {
     "data": {
      "text/html": [
       "\n",
       "<style>\n",
       "  #altair-viz-df6d8ef2d6c244cdabeac3722fb3efab.vega-embed {\n",
       "    width: 100%;\n",
       "    display: flex;\n",
       "  }\n",
       "\n",
       "  #altair-viz-df6d8ef2d6c244cdabeac3722fb3efab.vega-embed details,\n",
       "  #altair-viz-df6d8ef2d6c244cdabeac3722fb3efab.vega-embed details summary {\n",
       "    position: relative;\n",
       "  }\n",
       "</style>\n",
       "<div id=\"altair-viz-df6d8ef2d6c244cdabeac3722fb3efab\"></div>\n",
       "<script type=\"text/javascript\">\n",
       "  var VEGA_DEBUG = (typeof VEGA_DEBUG == \"undefined\") ? {} : VEGA_DEBUG;\n",
       "  (function(spec, embedOpt){\n",
       "    let outputDiv = document.currentScript.previousElementSibling;\n",
       "    if (outputDiv.id !== \"altair-viz-df6d8ef2d6c244cdabeac3722fb3efab\") {\n",
       "      outputDiv = document.getElementById(\"altair-viz-df6d8ef2d6c244cdabeac3722fb3efab\");\n",
       "    }\n",
       "    const paths = {\n",
       "      \"vega\": \"https://cdn.jsdelivr.net/npm/vega@5?noext\",\n",
       "      \"vega-lib\": \"https://cdn.jsdelivr.net/npm/vega-lib?noext\",\n",
       "      \"vega-lite\": \"https://cdn.jsdelivr.net/npm/vega-lite@5.8.0?noext\",\n",
       "      \"vega-embed\": \"https://cdn.jsdelivr.net/npm/vega-embed@6?noext\",\n",
       "    };\n",
       "\n",
       "    function maybeLoadScript(lib, version) {\n",
       "      var key = `${lib.replace(\"-\", \"\")}_version`;\n",
       "      return (VEGA_DEBUG[key] == version) ?\n",
       "        Promise.resolve(paths[lib]) :\n",
       "        new Promise(function(resolve, reject) {\n",
       "          var s = document.createElement('script');\n",
       "          document.getElementsByTagName(\"head\")[0].appendChild(s);\n",
       "          s.async = true;\n",
       "          s.onload = () => {\n",
       "            VEGA_DEBUG[key] = version;\n",
       "            return resolve(paths[lib]);\n",
       "          };\n",
       "          s.onerror = () => reject(`Error loading script: ${paths[lib]}`);\n",
       "          s.src = paths[lib];\n",
       "        });\n",
       "    }\n",
       "\n",
       "    function showError(err) {\n",
       "      outputDiv.innerHTML = `<div class=\"error\" style=\"color:red;\">${err}</div>`;\n",
       "      throw err;\n",
       "    }\n",
       "\n",
       "    function displayChart(vegaEmbed) {\n",
       "      vegaEmbed(outputDiv, spec, embedOpt)\n",
       "        .catch(err => showError(`Javascript Error: ${err.message}<br>This usually means there's a typo in your chart specification. See the javascript console for the full traceback.`));\n",
       "    }\n",
       "\n",
       "    if(typeof define === \"function\" && define.amd) {\n",
       "      requirejs.config({paths});\n",
       "      require([\"vega-embed\"], displayChart, err => showError(`Error loading script: ${err.message}`));\n",
       "    } else {\n",
       "      maybeLoadScript(\"vega\", \"5\")\n",
       "        .then(() => maybeLoadScript(\"vega-lite\", \"5.8.0\"))\n",
       "        .then(() => maybeLoadScript(\"vega-embed\", \"6\"))\n",
       "        .catch(showError)\n",
       "        .then(() => displayChart(vegaEmbed));\n",
       "    }\n",
       "  })({\"config\": {\"view\": {\"continuousWidth\": 300, \"continuousHeight\": 300}}, \"data\": {\"name\": \"data-73fb4241648dc65b6502353490d5303d\"}, \"mark\": {\"type\": \"bar\"}, \"encoding\": {\"color\": {\"field\": \"retained\", \"type\": \"nominal\"}, \"facet\": {\"columns\": 2, \"field\": \"library\", \"type\": \"nominal\"}, \"tooltip\": [{\"field\": \"library\", \"type\": \"nominal\"}, {\"field\": \"category\", \"type\": \"nominal\"}, {\"field\": \"n_barcodes\", \"type\": \"quantitative\"}, {\"field\": \"retained\", \"type\": \"nominal\"}], \"x\": {\"field\": \"n_barcodes\", \"type\": \"quantitative\"}, \"y\": {\"field\": \"category\", \"title\": null, \"type\": \"nominal\"}}, \"height\": 45, \"width\": 175, \"$schema\": \"https://vega.github.io/schema/vega-lite/v5.8.0.json\", \"datasets\": {\"data-73fb4241648dc65b6502353490d5303d\": [{\"library\": \"LibA\", \"category\": \"out_of_frame_indel\", \"n_barcodes\": 1068, \"retained\": false}, {\"library\": \"LibB\", \"category\": \"out_of_frame_indel\", \"n_barcodes\": 771, \"retained\": false}, {\"library\": \"LibA\", \"category\": \"in_frame_codon_deletion\", \"n_barcodes\": 35, \"retained\": true}, {\"library\": \"LibB\", \"category\": \"in_frame_codon_deletion\", \"n_barcodes\": 27, \"retained\": true}, {\"library\": \"LibA\", \"category\": \"no_indel\", \"n_barcodes\": 84783, \"retained\": true}, {\"library\": \"LibB\", \"category\": \"no_indel\", \"n_barcodes\": 66370, \"retained\": true}]}}, {\"mode\": \"vega-lite\"});\n",
       "</script>"
      ],
      "text/plain": [
       "alt.Chart(...)"
      ]
     },
     "metadata": {},
     "output_type": "display_data"
    },
    {
     "name": "stdout",
     "output_type": "stream",
     "text": [
      "Writing 2726724 consensus sequences to results/variants/nt_variants.csv\n"
     ]
    }
   ],
   "source": [
    "# annotate with information on mutation types\n",
    "consensus = alignparse.consensus.add_mut_info_cols(\n",
    "    consensus,\n",
    "    mutation_col=\"gene_mutations\",\n",
    "    sub_str_col=\"substitutions\",\n",
    "    n_indel_col=\"n_indels\",\n",
    ")\n",
    "\n",
    "# plot summary stats\n",
    "stats = (\n",
    "    consensus.assign(\n",
    "        out_of_frame_indel=lambda x: x[\"n_indels\"] > 0,\n",
    "        in_frame_codon_deletion=lambda x: (\n",
    "            (~x[\"out_of_frame_indel\"]) & (x[\"substitutions\"].str.contains(\"-\"))\n",
    "        ),\n",
    "        no_indel=lambda x: (~x[\"out_of_frame_indel\"]) & (~x[\"in_frame_codon_deletion\"]),\n",
    "    )[[\"library\", \"out_of_frame_indel\", \"in_frame_codon_deletion\", \"no_indel\"]]\n",
    "    .groupby(\"library\", as_index=False)\n",
    "    .aggregate(\"sum\")\n",
    "    .melt(\n",
    "        id_vars=\"library\",\n",
    "        var_name=\"category\",\n",
    "        value_name=\"n_barcodes\",\n",
    "    )\n",
    "    .assign(retained=lambda x: x[\"category\"] != \"out_of_frame_indel\")\n",
    ")\n",
    "stats_chart = (\n",
    "    alt.Chart(stats)\n",
    "    .encode(\n",
    "        x=alt.X(\"n_barcodes\"),\n",
    "        y=alt.Y(\"category\", title=None),\n",
    "        color=alt.Color(\"retained\"),\n",
    "        tooltip=stats.columns.tolist(),\n",
    "        facet=alt.Facet(\"library\", columns=2),\n",
    "    )\n",
    "    .mark_bar()\n",
    "    .properties(width=175, height=45)\n",
    ")\n",
    "display(stats_chart)\n",
    "\n",
    "# write to file\n",
    "consensus = consensus.query(\"n_indels == 0\")\n",
    "nt_variants = \"results/variants/nt_variants.csv\"\n",
    "os.makedirs(os.path.dirname(nt_variants), exist_ok=True)\n",
    "print(f\"Writing {len(df)} consensus sequences to {nt_variants}\")\n",
    "_ = consensus.to_csv(\n",
    "    consensus[[\"library\", \"barcode\", \"substitutions\", \"variant_call_support\"]].to_csv(\n",
    "        nt_variants,\n",
    "        index=False,\n",
    "    )\n",
    ")"
   ]
  }
 ],
 "metadata": {
  "kernelspec": {
   "display_name": "Python 3 (ipykernel)",
   "language": "python",
   "name": "python3"
  },
  "language_info": {
   "codemirror_mode": {
    "name": "ipython",
    "version": 3
   },
   "file_extension": ".py",
   "mimetype": "text/x-python",
   "name": "python",
   "nbconvert_exporter": "python",
   "pygments_lexer": "ipython3",
   "version": "3.11.4"
  },
  "papermill": {
   "default_parameters": {},
   "duration": 140.67227,
   "end_time": "2023-07-18T23:48:05.148032",
   "environment_variables": {},
   "exception": null,
   "input_path": "dms-vep-pipeline-3/notebooks/build_pacbio_consensus.ipynb",
   "output_path": "results/notebooks/build_pacbio_consensus.ipynb",
   "parameters": {},
   "start_time": "2023-07-18T23:45:44.475762",
   "version": "2.3.4"
  }
 },
 "nbformat": 4,
 "nbformat_minor": 5
}