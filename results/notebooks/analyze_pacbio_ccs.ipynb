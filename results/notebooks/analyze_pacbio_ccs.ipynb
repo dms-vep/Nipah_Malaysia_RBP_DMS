{
 "cells": [
  {
   "cell_type": "markdown",
   "id": "f4ed3553",
   "metadata": {
    "papermill": {
     "duration": 0.010677,
     "end_time": "2023-07-20T16:53:11.697195",
     "exception": false,
     "start_time": "2023-07-20T16:53:11.686518",
     "status": "completed"
    },
    "tags": []
   },
   "source": [
    "# Analyze PacBio CCSs\n",
    "This notebook analyzes the PacBio CCSs that have been previously aligned and parsed with [alignparse](https://jbloomlab.github.io/alignparse/).\n",
    "\n",
    "Import Python modules:"
   ]
  },
  {
   "cell_type": "code",
   "execution_count": 1,
   "id": "2893fd61",
   "metadata": {
    "execution": {
     "iopub.execute_input": "2023-07-20T16:53:11.711923Z",
     "iopub.status.busy": "2023-07-20T16:53:11.711286Z",
     "iopub.status.idle": "2023-07-20T16:53:16.701241Z",
     "shell.execute_reply": "2023-07-20T16:53:16.700070Z"
    },
    "papermill": {
     "duration": 5.000864,
     "end_time": "2023-07-20T16:53:16.704648",
     "exception": false,
     "start_time": "2023-07-20T16:53:11.703784",
     "status": "completed"
    },
    "tags": []
   },
   "outputs": [],
   "source": [
    "import os\n",
    "\n",
    "import alignparse.targets\n",
    "\n",
    "import altair as alt\n",
    "\n",
    "import pandas as pd\n",
    "\n",
    "import yaml"
   ]
  },
  {
   "cell_type": "markdown",
   "id": "89afc4f9",
   "metadata": {
    "papermill": {
     "duration": 0.008015,
     "end_time": "2023-07-20T16:53:16.721866",
     "exception": false,
     "start_time": "2023-07-20T16:53:16.713851",
     "status": "completed"
    },
    "tags": []
   },
   "source": [
    "Get configuration information:"
   ]
  },
  {
   "cell_type": "code",
   "execution_count": 2,
   "id": "423f0eaa",
   "metadata": {
    "execution": {
     "iopub.execute_input": "2023-07-20T16:53:16.737539Z",
     "iopub.status.busy": "2023-07-20T16:53:16.736937Z",
     "iopub.status.idle": "2023-07-20T16:53:16.754420Z",
     "shell.execute_reply": "2023-07-20T16:53:16.753301Z"
    },
    "papermill": {
     "duration": 0.028088,
     "end_time": "2023-07-20T16:53:16.756205",
     "exception": false,
     "start_time": "2023-07-20T16:53:16.728117",
     "status": "completed"
    },
    "tags": []
   },
   "outputs": [],
   "source": [
    "# If you are running notebook interactively rather than in pipeline that handles\n",
    "# working directories, you may have to first `os.chdir` to appropriate directory.\n",
    "\n",
    "with open(\"config.yaml\") as f:\n",
    "    config = yaml.safe_load(f)"
   ]
  },
  {
   "cell_type": "markdown",
   "id": "507f9d1f",
   "metadata": {
    "papermill": {
     "duration": 0.007118,
     "end_time": "2023-07-20T16:53:16.770788",
     "exception": false,
     "start_time": "2023-07-20T16:53:16.763670",
     "status": "completed"
    },
    "tags": []
   },
   "source": [
    "Read in the PacBio runs:"
   ]
  },
  {
   "cell_type": "code",
   "execution_count": 3,
   "id": "ac0cfc84",
   "metadata": {
    "execution": {
     "iopub.execute_input": "2023-07-20T16:53:16.786764Z",
     "iopub.status.busy": "2023-07-20T16:53:16.786050Z",
     "iopub.status.idle": "2023-07-20T16:53:16.827916Z",
     "shell.execute_reply": "2023-07-20T16:53:16.827271Z"
    },
    "papermill": {
     "duration": 0.052725,
     "end_time": "2023-07-20T16:53:16.829426",
     "exception": false,
     "start_time": "2023-07-20T16:53:16.776701",
     "status": "completed"
    },
    "tags": []
   },
   "outputs": [
    {
     "data": {
      "text/html": [
       "<div>\n",
       "<style scoped>\n",
       "    .dataframe tbody tr th:only-of-type {\n",
       "        vertical-align: middle;\n",
       "    }\n",
       "\n",
       "    .dataframe tbody tr th {\n",
       "        vertical-align: top;\n",
       "    }\n",
       "\n",
       "    .dataframe thead th {\n",
       "        text-align: right;\n",
       "    }\n",
       "</style>\n",
       "<table border=\"1\" class=\"dataframe\">\n",
       "  <thead>\n",
       "    <tr style=\"text-align: right;\">\n",
       "      <th></th>\n",
       "      <th>library</th>\n",
       "      <th>pacbioRun</th>\n",
       "      <th>fastq</th>\n",
       "      <th>subdir</th>\n",
       "    </tr>\n",
       "  </thead>\n",
       "  <tbody>\n",
       "    <tr>\n",
       "      <th>0</th>\n",
       "      <td>LibA</td>\n",
       "      <td>LibA-221107</td>\n",
       "      <td>/fh/fast/bloom_j/SR/ngs/pacbio/221102_Caelan_B...</td>\n",
       "      <td>results/process_ccs/LibA-221107</td>\n",
       "    </tr>\n",
       "    <tr>\n",
       "      <th>1</th>\n",
       "      <td>LibB</td>\n",
       "      <td>LibB-221107</td>\n",
       "      <td>/fh/fast/bloom_j/SR/ngs/pacbio/221102_Caelan_B...</td>\n",
       "      <td>results/process_ccs/LibB-221107</td>\n",
       "    </tr>\n",
       "  </tbody>\n",
       "</table>\n",
       "</div>"
      ],
      "text/plain": [
       "  library    pacbioRun                                              fastq  \\\n",
       "0    LibA  LibA-221107  /fh/fast/bloom_j/SR/ngs/pacbio/221102_Caelan_B...   \n",
       "1    LibB  LibB-221107  /fh/fast/bloom_j/SR/ngs/pacbio/221102_Caelan_B...   \n",
       "\n",
       "                            subdir  \n",
       "0  results/process_ccs/LibA-221107  \n",
       "1  results/process_ccs/LibB-221107  "
      ]
     },
     "execution_count": 3,
     "metadata": {},
     "output_type": "execute_result"
    }
   ],
   "source": [
    "pacbio_runs = (\n",
    "    pd.read_csv(config[\"pacbio_runs\"])\n",
    "    .assign(subdir=lambda x: \"results/process_ccs/\" + x[\"run\"])\n",
    "    .rename(columns={\"run\": \"pacbioRun\"})\n",
    ")\n",
    "\n",
    "pacbio_runs"
   ]
  },
  {
   "cell_type": "markdown",
   "id": "c5cfc637",
   "metadata": {
    "papermill": {
     "duration": 0.006065,
     "end_time": "2023-07-20T16:53:16.843963",
     "exception": false,
     "start_time": "2023-07-20T16:53:16.837898",
     "status": "completed"
    },
    "tags": []
   },
   "source": [
    "## Stats on CCS alignments\n",
    "Read and plot the alignment stats from running `alignparse` on the PacBio CCSs:"
   ]
  },
  {
   "cell_type": "code",
   "execution_count": 4,
   "id": "226972d4",
   "metadata": {
    "execution": {
     "iopub.execute_input": "2023-07-20T16:53:16.858145Z",
     "iopub.status.busy": "2023-07-20T16:53:16.857633Z",
     "iopub.status.idle": "2023-07-20T16:53:16.937424Z",
     "shell.execute_reply": "2023-07-20T16:53:16.936595Z"
    },
    "papermill": {
     "duration": 0.089311,
     "end_time": "2023-07-20T16:53:16.939523",
     "exception": false,
     "start_time": "2023-07-20T16:53:16.850212",
     "status": "completed"
    },
    "tags": []
   },
   "outputs": [
    {
     "data": {
      "text/html": [
       "\n",
       "<style>\n",
       "  #altair-viz-71effd49cf9340bb9e7be729cee409b1.vega-embed {\n",
       "    width: 100%;\n",
       "    display: flex;\n",
       "  }\n",
       "\n",
       "  #altair-viz-71effd49cf9340bb9e7be729cee409b1.vega-embed details,\n",
       "  #altair-viz-71effd49cf9340bb9e7be729cee409b1.vega-embed details summary {\n",
       "    position: relative;\n",
       "  }\n",
       "</style>\n",
       "<div id=\"altair-viz-71effd49cf9340bb9e7be729cee409b1\"></div>\n",
       "<script type=\"text/javascript\">\n",
       "  var VEGA_DEBUG = (typeof VEGA_DEBUG == \"undefined\") ? {} : VEGA_DEBUG;\n",
       "  (function(spec, embedOpt){\n",
       "    let outputDiv = document.currentScript.previousElementSibling;\n",
       "    if (outputDiv.id !== \"altair-viz-71effd49cf9340bb9e7be729cee409b1\") {\n",
       "      outputDiv = document.getElementById(\"altair-viz-71effd49cf9340bb9e7be729cee409b1\");\n",
       "    }\n",
       "    const paths = {\n",
       "      \"vega\": \"https://cdn.jsdelivr.net/npm/vega@5?noext\",\n",
       "      \"vega-lib\": \"https://cdn.jsdelivr.net/npm/vega-lib?noext\",\n",
       "      \"vega-lite\": \"https://cdn.jsdelivr.net/npm/vega-lite@5.8.0?noext\",\n",
       "      \"vega-embed\": \"https://cdn.jsdelivr.net/npm/vega-embed@6?noext\",\n",
       "    };\n",
       "\n",
       "    function maybeLoadScript(lib, version) {\n",
       "      var key = `${lib.replace(\"-\", \"\")}_version`;\n",
       "      return (VEGA_DEBUG[key] == version) ?\n",
       "        Promise.resolve(paths[lib]) :\n",
       "        new Promise(function(resolve, reject) {\n",
       "          var s = document.createElement('script');\n",
       "          document.getElementsByTagName(\"head\")[0].appendChild(s);\n",
       "          s.async = true;\n",
       "          s.onload = () => {\n",
       "            VEGA_DEBUG[key] = version;\n",
       "            return resolve(paths[lib]);\n",
       "          };\n",
       "          s.onerror = () => reject(`Error loading script: ${paths[lib]}`);\n",
       "          s.src = paths[lib];\n",
       "        });\n",
       "    }\n",
       "\n",
       "    function showError(err) {\n",
       "      outputDiv.innerHTML = `<div class=\"error\" style=\"color:red;\">${err}</div>`;\n",
       "      throw err;\n",
       "    }\n",
       "\n",
       "    function displayChart(vegaEmbed) {\n",
       "      vegaEmbed(outputDiv, spec, embedOpt)\n",
       "        .catch(err => showError(`Javascript Error: ${err.message}<br>This usually means there's a typo in your chart specification. See the javascript console for the full traceback.`));\n",
       "    }\n",
       "\n",
       "    if(typeof define === \"function\" && define.amd) {\n",
       "      requirejs.config({paths});\n",
       "      require([\"vega-embed\"], displayChart, err => showError(`Error loading script: ${err.message}`));\n",
       "    } else {\n",
       "      maybeLoadScript(\"vega\", \"5\")\n",
       "        .then(() => maybeLoadScript(\"vega-lite\", \"5.8.0\"))\n",
       "        .then(() => maybeLoadScript(\"vega-embed\", \"6\"))\n",
       "        .catch(showError)\n",
       "        .then(() => displayChart(vegaEmbed));\n",
       "    }\n",
       "  })({\"config\": {\"view\": {\"continuousWidth\": 300, \"continuousHeight\": 300}}, \"data\": {\"name\": \"data-fa0b41e91a8e01c9eb4154ddfd597613\"}, \"mark\": {\"type\": \"bar\"}, \"encoding\": {\"facet\": {\"columns\": 2, \"field\": \"pacbioRun\", \"title\": null, \"type\": \"nominal\"}, \"tooltip\": [{\"field\": \"category\", \"type\": \"nominal\"}, {\"field\": \"count\", \"type\": \"quantitative\"}, {\"field\": \"pacbioRun\", \"type\": \"nominal\"}, {\"field\": \"library\", \"type\": \"nominal\"}], \"x\": {\"field\": \"count\", \"type\": \"quantitative\"}, \"y\": {\"axis\": {\"title\": null}, \"field\": \"category\", \"type\": \"nominal\"}}, \"height\": 50, \"resolve\": {\"scale\": {\"x\": \"independent\", \"y\": \"independent\"}}, \"width\": 250, \"$schema\": \"https://vega.github.io/schema/vega-lite/v5.8.0.json\", \"datasets\": {\"data-fa0b41e91a8e01c9eb4154ddfd597613\": [{\"category\": \"aligned PacBio_amplicon\", \"count\": 3102720, \"pacbioRun\": \"LibA-221107\", \"library\": \"LibA\"}, {\"category\": \"filtered PacBio_amplicon\", \"count\": 346597, \"pacbioRun\": \"LibA-221107\", \"library\": \"LibA\"}, {\"category\": \"unmapped\", \"count\": 16644, \"pacbioRun\": \"LibA-221107\", \"library\": \"LibA\"}, {\"category\": \"aligned PacBio_amplicon\", \"count\": 1243877, \"pacbioRun\": \"LibB-221107\", \"library\": \"LibB\"}, {\"category\": \"filtered PacBio_amplicon\", \"count\": 133175, \"pacbioRun\": \"LibB-221107\", \"library\": \"LibB\"}, {\"category\": \"unmapped\", \"count\": 4019, \"pacbioRun\": \"LibB-221107\", \"library\": \"LibB\"}]}}, {\"mode\": \"vega-lite\"});\n",
       "</script>"
      ],
      "text/plain": [
       "alt.Chart(...)"
      ]
     },
     "execution_count": 4,
     "metadata": {},
     "output_type": "execute_result"
    }
   ],
   "source": [
    "readstats = pd.concat(\n",
    "    [\n",
    "        (\n",
    "            pd.read_csv(os.path.join(row.subdir, \"readstats.csv\")).assign(\n",
    "                pacbioRun=row.pacbioRun, library=row.library\n",
    "            )\n",
    "        )\n",
    "        for row in pacbio_runs.itertuples()\n",
    "    ],\n",
    "    ignore_index=True,\n",
    ")\n",
    "\n",
    "readstats_chart = (\n",
    "    alt.Chart(readstats)\n",
    "    .encode(\n",
    "        x=\"count:Q\",\n",
    "        y=alt.Y(\n",
    "            \"category:N\",\n",
    "            axis=alt.Axis(title=None),\n",
    "        ),\n",
    "        tooltip=readstats.columns.tolist(),\n",
    "        facet=alt.Facet(\"pacbioRun:N\", columns=2, title=None),\n",
    "    )\n",
    "    .mark_bar()\n",
    "    .properties(width=250, height=50)\n",
    "    .resolve_scale(x=\"independent\", y=\"independent\")\n",
    ")\n",
    "\n",
    "readstats_chart"
   ]
  },
  {
   "cell_type": "markdown",
   "id": "9d785ae1",
   "metadata": {
    "papermill": {
     "duration": 0.009074,
     "end_time": "2023-07-20T16:53:16.957554",
     "exception": false,
     "start_time": "2023-07-20T16:53:16.948480",
     "status": "completed"
    },
    "tags": []
   },
   "source": [
    "## Visualize target to which reads are being aligned\n",
    "Draw images of the target we're parsing:"
   ]
  },
  {
   "cell_type": "code",
   "execution_count": 5,
   "id": "acc407aa",
   "metadata": {
    "execution": {
     "iopub.execute_input": "2023-07-20T16:53:16.973857Z",
     "iopub.status.busy": "2023-07-20T16:53:16.973611Z",
     "iopub.status.idle": "2023-07-20T16:53:17.325018Z",
     "shell.execute_reply": "2023-07-20T16:53:17.324149Z"
    },
    "papermill": {
     "duration": 0.362129,
     "end_time": "2023-07-20T16:53:17.327412",
     "exception": false,
     "start_time": "2023-07-20T16:53:16.965283",
     "status": "completed"
    },
    "tags": []
   },
   "outputs": [
    {
     "name": "stderr",
     "output_type": "stream",
     "text": [
      "/fh/fast/bloom_j/software/miniconda3/envs/dms-vep-pipeline-3/lib/python3.11/site-packages/Bio/GenBank/Scanner.py:1529: BiopythonParserWarning: Attempting to parse malformed locus line:\n",
      "'LOCUS       PacBio_amplicon        1898 bp    DNA     linear   UNA 07-NOV-2022\\n'\n",
      "Found locus 'PacBio_amplicon' size '1898' residue_type 'DNA'\n",
      "Some fields may be wrong.\n",
      "  warnings.warn(\n"
     ]
    },
    {
     "data": {
      "image/png": "[encoded data removed]",
      "text/plain": [
       "<Figure size 700x200 with 1 Axes>"
      ]
     },
     "metadata": {},
     "output_type": "display_data"
    }
   ],
   "source": [
    "targets = alignparse.targets.Targets(\n",
    "    seqsfile=config[\"pacbio_amplicon\"],\n",
    "    feature_parse_specs=config[\"pacbio_amplicon_specs\"],\n",
    ")\n",
    "\n",
    "fig = targets.plot(\n",
    "    ax_width=7,\n",
    "    plots_indexing=\"genbank\",\n",
    "    ax_height=2,\n",
    "    hspace=1.2,\n",
    ")"
   ]
  },
  {
   "cell_type": "markdown",
   "id": "dee7aa33",
   "metadata": {
    "papermill": {
     "duration": 0.00827,
     "end_time": "2023-07-20T16:53:17.346313",
     "exception": false,
     "start_time": "2023-07-20T16:53:17.338043",
     "status": "completed"
    },
    "tags": []
   },
   "source": [
    "## Why were some CCSs filtered?\n",
    "Plot the number of CCSs filtered for each reason:"
   ]
  },
  {
   "cell_type": "code",
   "execution_count": 6,
   "id": "8e76db9f",
   "metadata": {
    "execution": {
     "iopub.execute_input": "2023-07-20T16:53:17.361199Z",
     "iopub.status.busy": "2023-07-20T16:53:17.360855Z",
     "iopub.status.idle": "2023-07-20T16:53:17.983269Z",
     "shell.execute_reply": "2023-07-20T16:53:17.982331Z"
    },
    "papermill": {
     "duration": 0.632805,
     "end_time": "2023-07-20T16:53:17.985512",
     "exception": false,
     "start_time": "2023-07-20T16:53:17.352707",
     "status": "completed"
    },
    "tags": []
   },
   "outputs": [
    {
     "data": {
      "text/html": [
       "\n",
       "<style>\n",
       "  #altair-viz-685dcbd224bc4471a850964a8cebcc59.vega-embed {\n",
       "    width: 100%;\n",
       "    display: flex;\n",
       "  }\n",
       "\n",
       "  #altair-viz-685dcbd224bc4471a850964a8cebcc59.vega-embed details,\n",
       "  #altair-viz-685dcbd224bc4471a850964a8cebcc59.vega-embed details summary {\n",
       "    position: relative;\n",
       "  }\n",
       "</style>\n",
       "<div id=\"altair-viz-685dcbd224bc4471a850964a8cebcc59\"></div>\n",
       "<script type=\"text/javascript\">\n",
       "  var VEGA_DEBUG = (typeof VEGA_DEBUG == \"undefined\") ? {} : VEGA_DEBUG;\n",
       "  (function(spec, embedOpt){\n",
       "    let outputDiv = document.currentScript.previousElementSibling;\n",
       "    if (outputDiv.id !== \"altair-viz-685dcbd224bc4471a850964a8cebcc59\") {\n",
       "      outputDiv = document.getElementById(\"altair-viz-685dcbd224bc4471a850964a8cebcc59\");\n",
       "    }\n",
       "    const paths = {\n",
       "      \"vega\": \"https://cdn.jsdelivr.net/npm/vega@5?noext\",\n",
       "      \"vega-lib\": \"https://cdn.jsdelivr.net/npm/vega-lib?noext\",\n",
       "      \"vega-lite\": \"https://cdn.jsdelivr.net/npm/vega-lite@5.8.0?noext\",\n",
       "      \"vega-embed\": \"https://cdn.jsdelivr.net/npm/vega-embed@6?noext\",\n",
       "    };\n",
       "\n",
       "    function maybeLoadScript(lib, version) {\n",
       "      var key = `${lib.replace(\"-\", \"\")}_version`;\n",
       "      return (VEGA_DEBUG[key] == version) ?\n",
       "        Promise.resolve(paths[lib]) :\n",
       "        new Promise(function(resolve, reject) {\n",
       "          var s = document.createElement('script');\n",
       "          document.getElementsByTagName(\"head\")[0].appendChild(s);\n",
       "          s.async = true;\n",
       "          s.onload = () => {\n",
       "            VEGA_DEBUG[key] = version;\n",
       "            return resolve(paths[lib]);\n",
       "          };\n",
       "          s.onerror = () => reject(`Error loading script: ${paths[lib]}`);\n",
       "          s.src = paths[lib];\n",
       "        });\n",
       "    }\n",
       "\n",
       "    function showError(err) {\n",
       "      outputDiv.innerHTML = `<div class=\"error\" style=\"color:red;\">${err}</div>`;\n",
       "      throw err;\n",
       "    }\n",
       "\n",
       "    function displayChart(vegaEmbed) {\n",
       "      vegaEmbed(outputDiv, spec, embedOpt)\n",
       "        .catch(err => showError(`Javascript Error: ${err.message}<br>This usually means there's a typo in your chart specification. See the javascript console for the full traceback.`));\n",
       "    }\n",
       "\n",
       "    if(typeof define === \"function\" && define.amd) {\n",
       "      requirejs.config({paths});\n",
       "      require([\"vega-embed\"], displayChart, err => showError(`Error loading script: ${err.message}`));\n",
       "    } else {\n",
       "      maybeLoadScript(\"vega\", \"5\")\n",
       "        .then(() => maybeLoadScript(\"vega-lite\", \"5.8.0\"))\n",
       "        .then(() => maybeLoadScript(\"vega-embed\", \"6\"))\n",
       "        .catch(showError)\n",
       "        .then(() => displayChart(vegaEmbed));\n",
       "    }\n",
       "  })({\"config\": {\"view\": {\"continuousWidth\": 300, \"continuousHeight\": 300}}, \"data\": {\"name\": \"data-77daa5158abe898986c793d502b11499\"}, \"mark\": {\"type\": \"bar\"}, \"encoding\": {\"color\": {\"field\": \"is_aligned\", \"type\": \"nominal\"}, \"facet\": {\"columns\": 2, \"field\": \"pacbioRun\", \"title\": null, \"type\": \"nominal\"}, \"tooltip\": [{\"field\": \"pacbioRun\", \"type\": \"nominal\"}, {\"field\": \"filter_reason\", \"type\": \"nominal\"}, {\"field\": \"count\", \"type\": \"quantitative\"}, {\"field\": \"total_counts\", \"type\": \"quantitative\"}, {\"field\": \"frac_counts\", \"type\": \"quantitative\"}], \"x\": {\"field\": \"count\", \"type\": \"quantitative\"}, \"y\": {\"axis\": {\"title\": null}, \"field\": \"filter_reason\", \"type\": \"nominal\"}}, \"height\": 75, \"resolve\": {\"scale\": {\"x\": \"independent\", \"y\": \"independent\"}}, \"transform\": [{\"filter\": \"(datum.frac_counts > 0.01)\"}, {\"calculate\": \"(datum.filter_reason === 'aligned')\", \"as\": \"is_aligned\"}], \"width\": 250, \"$schema\": \"https://vega.github.io/schema/vega-lite/v5.8.0.json\", \"datasets\": {\"data-77daa5158abe898986c793d502b11499\": [{\"pacbioRun\": \"LibA-221107\", \"filter_reason\": \"barcode clip3\", \"count\": 1491, \"total_counts\": 3449317, \"frac_counts\": 0.00043225948789282054}, {\"pacbioRun\": \"LibA-221107\", \"filter_reason\": \"barcode mutation_nt_count\", \"count\": 139484, \"total_counts\": 3449317, \"frac_counts\": 0.04043815050921675}, {\"pacbioRun\": \"LibA-221107\", \"filter_reason\": \"gene clip3\", \"count\": 10962, \"total_counts\": 3449317, \"frac_counts\": 0.003178020460282427}, {\"pacbioRun\": \"LibA-221107\", \"filter_reason\": \"gene mutation_nt_count\", \"count\": 4937, \"total_counts\": 3449317, \"frac_counts\": 0.0014312978482406806}, {\"pacbioRun\": \"LibA-221107\", \"filter_reason\": \"query_clip3\", \"count\": 92809, \"total_counts\": 3449317, \"frac_counts\": 0.026906486124644385}, {\"pacbioRun\": \"LibA-221107\", \"filter_reason\": \"query_clip5\", \"count\": 9964, \"total_counts\": 3449317, \"frac_counts\": 0.0028886878184869644}, {\"pacbioRun\": \"LibA-221107\", \"filter_reason\": \"termini3 clip3\", \"count\": 6487, \"total_counts\": 3449317, \"frac_counts\": 0.0018806621716705076}, {\"pacbioRun\": \"LibA-221107\", \"filter_reason\": \"termini3 mutation_nt_count\", \"count\": 37959, \"total_counts\": 3449317, \"frac_counts\": 0.011004787324563095}, {\"pacbioRun\": \"LibA-221107\", \"filter_reason\": \"termini5 clip5\", \"count\": 13153, \"total_counts\": 3449317, \"frac_counts\": 0.003813218674885492}, {\"pacbioRun\": \"LibA-221107\", \"filter_reason\": \"termini5 mutation_nt_count\", \"count\": 29351, \"total_counts\": 3449317, \"frac_counts\": 0.008509220810960547}, {\"pacbioRun\": \"LibB-221107\", \"filter_reason\": \"barcode clip3\", \"count\": 490, \"total_counts\": 1377052, \"frac_counts\": 0.00035583260472371413}, {\"pacbioRun\": \"LibB-221107\", \"filter_reason\": \"barcode mutation_nt_count\", \"count\": 50935, \"total_counts\": 1377052, \"frac_counts\": 0.036988436166535466}, {\"pacbioRun\": \"LibB-221107\", \"filter_reason\": \"gene clip3\", \"count\": 4039, \"total_counts\": 1377052, \"frac_counts\": 0.0029330773275083296}, {\"pacbioRun\": \"LibB-221107\", \"filter_reason\": \"gene mutation_nt_count\", \"count\": 2380, \"total_counts\": 1377052, \"frac_counts\": 0.0017283297943723258}, {\"pacbioRun\": \"LibB-221107\", \"filter_reason\": \"query_clip3\", \"count\": 39332, \"total_counts\": 1377052, \"frac_counts\": 0.028562465324475764}, {\"pacbioRun\": \"LibB-221107\", \"filter_reason\": \"query_clip5\", \"count\": 4160, \"total_counts\": 1377052, \"frac_counts\": 0.0030209461952054096}, {\"pacbioRun\": \"LibB-221107\", \"filter_reason\": \"termini3 clip3\", \"count\": 2447, \"total_counts\": 1377052, \"frac_counts\": 0.0017769844566508746}, {\"pacbioRun\": \"LibB-221107\", \"filter_reason\": \"termini3 mutation_nt_count\", \"count\": 14254, \"total_counts\": 1377052, \"frac_counts\": 0.01035109785251392}, {\"pacbioRun\": \"LibB-221107\", \"filter_reason\": \"termini5 clip5\", \"count\": 5124, \"total_counts\": 1377052, \"frac_counts\": 0.003720992380825125}, {\"pacbioRun\": \"LibB-221107\", \"filter_reason\": \"termini5 mutation_nt_count\", \"count\": 10014, \"total_counts\": 1377052, \"frac_counts\": 0.007272056538169946}, {\"pacbioRun\": \"LibA-221107\", \"filter_reason\": \"aligned\", \"count\": 3102720, \"total_counts\": 3449317, \"frac_counts\": 0.8995172087691563}, {\"pacbioRun\": \"LibB-221107\", \"filter_reason\": \"aligned\", \"count\": 1243877, \"total_counts\": 1377052, \"frac_counts\": 0.9032897813590192}]}}, {\"mode\": \"vega-lite\"});\n",
       "</script>"
      ],
      "text/plain": [
       "alt.Chart(...)"
      ]
     },
     "execution_count": 6,
     "metadata": {},
     "output_type": "execute_result"
    }
   ],
   "source": [
    "# CSVs holding filtered reads\n",
    "filtered_csvs = pd.concat(\n",
    "    [\n",
    "        (\n",
    "            pd.read_csv(os.path.join(row.subdir, \"filtered.csv\")).assign(\n",
    "                pacbioRun=row.pacbioRun, library=row.library\n",
    "            )\n",
    "        )\n",
    "        for row in pacbio_runs.itertuples()\n",
    "    ],\n",
    "    ignore_index=True,\n",
    ")\n",
    "\n",
    "# details for all filtered reads\n",
    "filtered = pd.concat(\n",
    "    [\n",
    "        pd.read_csv(row.csv_file).assign(\n",
    "            target=row.target, pacbioRun=row.pacbioRun, library=row.library\n",
    "        )\n",
    "        for row in filtered_csvs.itertuples()\n",
    "    ],\n",
    "    ignore_index=True,\n",
    ")\n",
    "\n",
    "# count reasons for filtering, then add number of non-filtered\n",
    "filtered_reasons = pd.concat(\n",
    "    [\n",
    "        filtered.groupby([\"pacbioRun\", \"filter_reason\"], as_index=False).aggregate(\n",
    "            count=pd.NamedAgg(\"query_name\", \"count\")\n",
    "        ),\n",
    "        readstats.query('category.str.startswith(\"aligned\")', engine=\"python\")\n",
    "        .groupby(\"pacbioRun\", as_index=False)\n",
    "        .aggregate({\"count\": \"sum\"})\n",
    "        .assign(filter_reason=\"aligned\"),\n",
    "    ]\n",
    ").assign(\n",
    "    total_counts=lambda x: x.groupby(\"pacbioRun\")[\"count\"].transform(\"sum\"),\n",
    "    frac_counts=lambda x: x[\"count\"] / x[\"total_counts\"],\n",
    ")\n",
    "\n",
    "# make chart\n",
    "filtered_chart = (\n",
    "    alt.Chart(filtered_reasons)\n",
    "    .encode(\n",
    "        x=\"count:Q\",\n",
    "        y=alt.Y(\n",
    "            \"filter_reason:N\",\n",
    "            axis=alt.Axis(title=None),\n",
    "        ),\n",
    "        color=\"is_aligned:N\",\n",
    "        tooltip=filtered_reasons.columns.tolist(),\n",
    "        facet=alt.Facet(\"pacbioRun:N\", columns=2, title=None),\n",
    "    )\n",
    "    .mark_bar()\n",
    "    .properties(width=250, height=75)\n",
    "    .resolve_scale(x=\"independent\", y=\"independent\")\n",
    "    .transform_filter(alt.datum.frac_counts > 0.01)\n",
    "    .transform_calculate(is_aligned=alt.datum.filter_reason == \"aligned\")\n",
    ")\n",
    "\n",
    "filtered_chart"
   ]
  },
  {
   "cell_type": "markdown",
   "id": "855025be",
   "metadata": {
    "papermill": {
     "duration": 0.006882,
     "end_time": "2023-07-20T16:53:18.004268",
     "exception": false,
     "start_time": "2023-07-20T16:53:17.997386",
     "status": "completed"
    },
    "tags": []
   },
   "source": [
    "## Get CCSs that align to the amplicon"
   ]
  },
  {
   "cell_type": "code",
   "execution_count": 7,
   "id": "b51b45a2",
   "metadata": {
    "execution": {
     "iopub.execute_input": "2023-07-20T16:53:18.019446Z",
     "iopub.status.busy": "2023-07-20T16:53:18.019156Z",
     "iopub.status.idle": "2023-07-20T16:53:45.934197Z",
     "shell.execute_reply": "2023-07-20T16:53:45.932935Z"
    },
    "papermill": {
     "duration": 27.92577,
     "end_time": "2023-07-20T16:53:45.937001",
     "exception": false,
     "start_time": "2023-07-20T16:53:18.011231",
     "status": "completed"
    },
    "tags": []
   },
   "outputs": [
    {
     "name": "stdout",
     "output_type": "stream",
     "text": [
      "\n",
      "Read 4.347e+06 alignable CCSs:\n"
     ]
    },
    {
     "data": {
      "text/html": [
       "<div>\n",
       "<style scoped>\n",
       "    .dataframe tbody tr th:only-of-type {\n",
       "        vertical-align: middle;\n",
       "    }\n",
       "\n",
       "    .dataframe tbody tr th {\n",
       "        vertical-align: top;\n",
       "    }\n",
       "\n",
       "    .dataframe thead th {\n",
       "        text-align: right;\n",
       "    }\n",
       "</style>\n",
       "<table border=\"1\" class=\"dataframe\">\n",
       "  <thead>\n",
       "    <tr style=\"text-align: right;\">\n",
       "      <th></th>\n",
       "      <th>n_CCSs</th>\n",
       "    </tr>\n",
       "    <tr>\n",
       "      <th>pacbioRun</th>\n",
       "      <th></th>\n",
       "    </tr>\n",
       "  </thead>\n",
       "  <tbody>\n",
       "    <tr>\n",
       "      <th>LibA-221107</th>\n",
       "      <td>3102720</td>\n",
       "    </tr>\n",
       "    <tr>\n",
       "      <th>LibB-221107</th>\n",
       "      <td>1243877</td>\n",
       "    </tr>\n",
       "  </tbody>\n",
       "</table>\n",
       "</div>"
      ],
      "text/plain": [
       "              n_CCSs\n",
       "pacbioRun           \n",
       "LibA-221107  3102720\n",
       "LibB-221107  1243877"
      ]
     },
     "metadata": {},
     "output_type": "display_data"
    },
    {
     "name": "stdout",
     "output_type": "stream",
     "text": [
      "Writing to results/process_ccs/CCSs_aligned_to_amplicon.csv\n"
     ]
    }
   ],
   "source": [
    "# CSVs holding aligned reads\n",
    "aligned_csvs = pd.concat(\n",
    "    [\n",
    "        (\n",
    "            pd.read_csv(os.path.join(row.subdir, \"aligned.csv\")).assign(\n",
    "                pacbioRun=row.pacbioRun, library=row.library\n",
    "            )\n",
    "        )\n",
    "        for row in pacbio_runs.itertuples()\n",
    "    ],\n",
    "    ignore_index=True,\n",
    ")\n",
    "\n",
    "assert aligned_csvs[\"target\"].nunique() == 1\n",
    "\n",
    "aligned = pd.concat(\n",
    "    [\n",
    "        (\n",
    "            pd.read_csv(row.csv_file)\n",
    "            .assign(pacbioRun=row.pacbioRun, library=row.library)\n",
    "            .drop(columns=[\"query_clip5\", \"query_clip3\"])\n",
    "            .rename(columns={\"barcode_sequence\": \"barcode\"})\n",
    "        )\n",
    "        for row in aligned_csvs.itertuples()\n",
    "    ],\n",
    "    ignore_index=True,\n",
    ")\n",
    "print(f\"\\nRead {len(aligned):.4g} alignable CCSs:\")\n",
    "display(\n",
    "    aligned.groupby(\"pacbioRun\").aggregate(n_CCSs=pd.NamedAgg(\"query_name\", \"count\"))\n",
    ")\n",
    "output_csv = \"results/process_ccs/CCSs_aligned_to_amplicon.csv\"\n",
    "print(f\"Writing to {output_csv}\")\n",
    "aligned.to_csv(output_csv, index=False)"
   ]
  },
  {
   "cell_type": "code",
   "execution_count": null,
   "id": "0ef1a890",
   "metadata": {
    "papermill": {
     "duration": 0.008205,
     "end_time": "2023-07-20T16:53:45.961551",
     "exception": false,
     "start_time": "2023-07-20T16:53:45.953346",
     "status": "completed"
    },
    "tags": []
   },
   "outputs": [],
   "source": []
  }
 ],
 "metadata": {
  "kernelspec": {
   "display_name": "Python 3 (ipykernel)",
   "language": "python",
   "name": "python3"
  },
  "language_info": {
   "codemirror_mode": {
    "name": "ipython",
    "version": 3
   },
   "file_extension": ".py",
   "mimetype": "text/x-python",
   "name": "python",
   "nbconvert_exporter": "python",
   "pygments_lexer": "ipython3",
   "version": "3.11.4"
  },
  "papermill": {
   "default_parameters": {},
   "duration": 39.88261,
   "end_time": "2023-07-20T16:53:46.894752",
   "environment_variables": {},
   "exception": null,
   "input_path": "dms-vep-pipeline-3/notebooks/analyze_pacbio_ccs.ipynb",
   "output_path": "results/notebooks/analyze_pacbio_ccs.ipynb",
   "parameters": {},
   "start_time": "2023-07-20T16:53:07.012142",
   "version": "2.3.4"
  }
 },
 "nbformat": 4,
 "nbformat_minor": 5
}