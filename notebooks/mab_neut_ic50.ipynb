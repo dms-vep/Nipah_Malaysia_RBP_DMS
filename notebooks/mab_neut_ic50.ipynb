{
 "cells": [
  {
   "cell_type": "markdown",
   "id": "a518b3fe-8d6a-4581-812e-cbf39f96f189",
   "metadata": {
    "editable": true,
    "slideshow": {
     "slide_type": ""
    },
    "tags": []
   },
   "source": [
    "### Make neut plots of all six monoclonal antibodies used for mapping escape in Nipah RBP"
   ]
  },
  {
   "cell_type": "code",
   "execution_count": null,
   "id": "da527013-c690-4f03-a5d9-3e0fcab924d3",
   "metadata": {
    "editable": true,
    "slideshow": {
     "slide_type": ""
    },
    "tags": [
     "parameters"
    ]
   },
   "outputs": [],
   "source": [
    "# this cell is tagged as parameters for `papermill` parameterization\n",
    "altair_config = None\n",
    "mab_neuts = None\n",
    "mab_neuts_plot = None"
   ]
  },
  {
   "cell_type": "code",
   "execution_count": null,
   "id": "17d33550-8011-4e7d-ba14-5696ed01ddb5",
   "metadata": {
    "editable": true,
    "slideshow": {
     "slide_type": ""
    },
    "tags": []
   },
   "outputs": [],
   "source": [
    "import warnings\n",
    "import math\n",
    "\n",
    "from IPython.display import display, HTML, SVG\n",
    "\n",
    "import matplotlib.pyplot as plt\n",
    "import pandas as pd\n",
    "import numpy as np\n",
    "\n",
    "import neutcurve\n",
    "from neutcurve.colorschemes import CBPALETTE\n",
    "from neutcurve.colorschemes import CBMARKERS\n",
    "import scipy.stats\n",
    "\n",
    "from plotnine import *\n",
    "\n",
    "import yaml\n",
    "\n",
    "import altair as alt\n",
    "import re\n",
    "import os\n",
    "\n",
    "print(f\"Using `neutcurve` version {neutcurve.__version__}\")"
   ]
  },
  {
   "cell_type": "code",
   "execution_count": null,
   "id": "8ebfb3f3-14c9-47f0-bc94-e2fb46ca2b34",
   "metadata": {},
   "outputs": [],
   "source": [
    "# allow more rows for Altair\n",
    "_ = alt.data_transformers.disable_max_rows()\n",
    "\n",
    "if os.getcwd() == '/fh/fast/bloom_j/computational_notebooks/blarsen/2023/Nipah_Malaysia_RBP_DMS/':\n",
    "    pass\n",
    "    print(\"Already in correct directory\")\n",
    "else:\n",
    "    os.chdir(\"/fh/fast/bloom_j/computational_notebooks/blarsen/2023/Nipah_Malaysia_RBP_DMS/\")\n",
    "    print(\"Setup in correct directory\")"
   ]
  },
  {
   "cell_type": "code",
   "execution_count": null,
   "id": "dfae3172-4158-4859-87f1-c8087788db3d",
   "metadata": {
    "editable": true,
    "slideshow": {
     "slide_type": ""
    },
    "tags": []
   },
   "outputs": [],
   "source": [
    "#altair_config = 'data/custom_analyses_data/theme.py'\n",
    "#nipah_config = 'nipah_config.yaml'\n",
    "#mab_neuts = 'data/custom_analyses_data/experimental_data/231220_mAb_all_redo.csv'\n",
    "#mab_neuts_plot = "
   ]
  },
  {
   "cell_type": "code",
   "execution_count": null,
   "id": "79b5a94b-efbb-4ae4-8603-118bfff0e59a",
   "metadata": {},
   "outputs": [],
   "source": [
    "if altair_config:\n",
    "    with open(altair_config, 'r') as file:\n",
    "        exec(file.read())"
   ]
  },
  {
   "cell_type": "code",
   "execution_count": null,
   "id": "ad008705-ff90-4cd3-9059-cd1463e61d32",
   "metadata": {},
   "outputs": [],
   "source": [
    "#load data\n",
    "df = pd.read_csv(mab_neuts)"
   ]
  },
  {
   "cell_type": "code",
   "execution_count": null,
   "id": "8e215ef3-e962-4912-8e6c-ca7e107418e2",
   "metadata": {},
   "outputs": [],
   "source": [
    "fits = neutcurve.curvefits.CurveFits(\n",
    "            data=df,\n",
    "            fixbottom=0,\n",
    "            )\n",
    "fitParams = fits.fitParams(ics=[50, 90, 95, 97, 98, 99])\n",
    "fitParams['ic50_ng'] = fitParams['ic50'] * 1000\n",
    "display(fitParams[['serum','ic50_ng']])"
   ]
  },
  {
   "cell_type": "code",
   "execution_count": null,
   "id": "25a94a8d-11b9-4ad8-b517-850b8c5f0f1f",
   "metadata": {},
   "outputs": [],
   "source": [
    "def extract_dataframe_from_neutcurve(serum, viruses, replicate='average'):\n",
    "    curves = []\n",
    "    # Loop over each virus type and retrieve the curve\n",
    "    for sera in serum:\n",
    "        #print(sera)\n",
    "        #print(viruses)\n",
    "        curve = fits.getCurve(serum=sera, virus=viruses, replicate=replicate)\n",
    "        df = curve.dataframe()\n",
    "        df['antibody'] = sera\n",
    "        curves.append(df)\n",
    "    \n",
    "    # Concatenate all the dataframes into one\n",
    "    curve = pd.concat(curves, axis=0)\n",
    "    curve['upper'] = curve['measurement'] + curve['stderr']\n",
    "    curve['lower'] = curve['measurement'] - curve['stderr']\n",
    "    \n",
    "    return curve\n",
    "\n",
    "# Example usage:\n",
    "serum = ['nAH1.3','m102.4','HENV-26','HENV-32','HENV-103','HENV-117']\n",
    "viruses = 'NiV'\n",
    "curve = extract_dataframe_from_neutcurve(serum, viruses)\n",
    "display(curve.head(3))"
   ]
  },
  {
   "cell_type": "code",
   "execution_count": null,
   "id": "63719188-f03f-43ce-a617-756e1d59f68a",
   "metadata": {},
   "outputs": [],
   "source": [
    "def plot_neut():\n",
    "    chart = alt.Chart(curve).mark_line(size=1.5,opacity=1).encode(\n",
    "        x=alt.X('concentration:Q',scale=alt.Scale(type='log'),axis=alt.Axis(format='.0e'),title='Concentration (μg/mL)'),\n",
    "        y=alt.Y('fit:Q',title='Fraction Infectivity'), \n",
    "        color=alt.Color('antibody',title='Antibody')\n",
    "    ).properties(\n",
    "        height=alt.Step(10),\n",
    "        width=300,\n",
    "    )\n",
    "\n",
    "    circle = alt.Chart(curve).mark_circle(size=40,opacity=1).encode(\n",
    "        x=alt.X('concentration',scale=alt.Scale(type='log'),axis=alt.Axis(format='.0e'),title='Concentration (μg/mL)'),\n",
    "        y=alt.Y('measurement:Q',title='Fraction Infectivity'), \n",
    "        color=alt.Color('antibody',title='Antibody')\n",
    "    ).properties(\n",
    "        height=alt.Step(10),\n",
    "        width=300,\n",
    "    )\n",
    "\n",
    "    error = alt.Chart(curve).mark_errorbar(opacity=1).encode(\n",
    "        x='concentration',\n",
    "        y=alt.Y('lower',title='Fraction Infectivity',axis=alt.Axis(tickCount=3)),\n",
    "        y2='upper',\n",
    "        color='antibody'\n",
    "    )\n",
    "    plot = chart+circle+error\n",
    "    return plot\n",
    "\n",
    "neut_chart = plot_neut()\n",
    "neut_chart.display()\n",
    "neut_chart.save(mab_neuts_plot)\n"
   ]
  }
 ],
 "metadata": {
  "kernelspec": {
   "display_name": "Python 3 (ipykernel)",
   "language": "python",
   "name": "python3"
  },
  "language_info": {
   "codemirror_mode": {
    "name": "ipython",
    "version": 3
   },
   "file_extension": ".py",
   "mimetype": "text/x-python",
   "name": "python",
   "nbconvert_exporter": "python",
   "pygments_lexer": "ipython3",
   "version": "3.11.7"
  }
 },
 "nbformat": 4,
 "nbformat_minor": 5
}
