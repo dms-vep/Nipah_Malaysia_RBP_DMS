{
 "cells": [
  {
   "cell_type": "markdown",
   "id": "a5b23694-d323-489e-89a8-769d60a9feda",
   "metadata": {
    "editable": true,
    "slideshow": {
     "slide_type": ""
    },
    "tags": []
   },
   "source": [
    "# ephrin_binding.ipynb\n",
    "Analyze effect of RBP mutations on receptor binding from DMS selection data using soluble bat Ephrin-B2 or -B3\n",
    "- Written by Brendan Larsen"
   ]
  },
  {
   "cell_type": "code",
   "execution_count": null,
   "id": "e42b6131-9c06-40ad-944c-374772cf2708",
   "metadata": {
    "editable": true,
    "slideshow": {
     "slide_type": ""
    },
    "tags": [
     "parameters"
    ]
   },
   "outputs": [],
   "source": [
    "# this cell is tagged as parameters for `papermill` parameterization\n",
    "# input configs\n",
    "altair_config = None\n",
    "nipah_config = None\n",
    "\n",
    "# input files\n",
    "binding_E2_file = None\n",
    "binding_E3_file = None\n",
    "\n",
    "# output images\n",
    "entry_binding_combined_corr_plot = None\n",
    "E2_E3_correlation = None\n",
    "E2_E3_correlation_site = None\n",
    "binding_by_site_plot = None\n",
    "entry_binding_corr_heatmap = None\n",
    "binding_region_bubble_plot = None\n",
    "combined_contact_ranked_bar_output = None"
   ]
  },
  {
   "cell_type": "markdown",
   "id": "5ca8e268-7fd5-403b-b7be-9cc9a1939db3",
   "metadata": {},
   "source": [
    "### Import libraries"
   ]
  },
  {
   "cell_type": "code",
   "execution_count": null,
   "id": "f83e70ff-0049-4b6b-a852-bc4d9034333b",
   "metadata": {
    "editable": true,
    "slideshow": {
     "slide_type": ""
    },
    "tags": []
   },
   "outputs": [],
   "source": [
    "import math\n",
    "import os\n",
    "import re\n",
    "import altair as alt\n",
    "import numpy as np\n",
    "import pandas as pd\n",
    "import scipy.stats\n",
    "import yaml"
   ]
  },
  {
   "cell_type": "markdown",
   "id": "127af949-2cb7-43d5-b238-bd2284b078fe",
   "metadata": {},
   "source": [
    "### Set working directory"
   ]
  },
  {
   "cell_type": "code",
   "execution_count": null,
   "id": "402f8b06-af68-47b0-90ce-d3aeef00a455",
   "metadata": {
    "editable": true,
    "slideshow": {
     "slide_type": ""
    },
    "tags": []
   },
   "outputs": [],
   "source": [
    "# allow more rows for Altair\n",
    "_ = alt.data_transformers.disable_max_rows()\n",
    "\n",
    "if (\n",
    "    os.getcwd()\n",
    "    == \"/fh/fast/bloom_j/computational_notebooks/blarsen/2023/Nipah_Malaysia_RBP_DMS/\"\n",
    "):\n",
    "    pass\n",
    "    print(\"Already in correct directory\")\n",
    "else:\n",
    "    os.chdir(\n",
    "        \"/fh/fast/bloom_j/computational_notebooks/blarsen/2023/Nipah_Malaysia_RBP_DMS/\"\n",
    "    )\n",
    "    print(\"Setup in correct directory\")"
   ]
  },
  {
   "cell_type": "markdown",
   "id": "abdc58fb-cd4d-444e-b804-0703e864a240",
   "metadata": {},
   "source": [
    "### Set hard paths for running in interactive mode"
   ]
  },
  {
   "cell_type": "code",
   "execution_count": null,
   "id": "41d0f72c-caa8-4b68-ad84-230a4b133cb0",
   "metadata": {
    "editable": true,
    "slideshow": {
     "slide_type": ""
    },
    "tags": []
   },
   "outputs": [],
   "source": [
    "if nipah_config is None:\n",
    "    ##hard paths in case don't want to run with snakemake\n",
    "    print(\"loading hard paths\")\n",
    "    altair_config = \"data/custom_analyses_data/theme.py\"\n",
    "    nipah_config = \"nipah_config.yaml\"\n",
    "\n",
    "    # input files\n",
    "    binding_E2_file = \"results/filtered_data/binding/e2_binding_filtered.csv\"\n",
    "    binding_E3_file = \"results/filtered_data/binding/e3_binding_filtered.csv\""
   ]
  },
  {
   "cell_type": "markdown",
   "id": "f55001f2-a30a-48c3-a443-684958ee69ca",
   "metadata": {
    "editable": true,
    "slideshow": {
     "slide_type": ""
    },
    "tags": []
   },
   "source": [
    "### Run config files to setup altair theme and config variables"
   ]
  },
  {
   "cell_type": "code",
   "execution_count": null,
   "id": "cb74a233-ce16-46b2-87aa-22d2435efb54",
   "metadata": {
    "editable": true,
    "slideshow": {
     "slide_type": ""
    },
    "tags": []
   },
   "outputs": [],
   "source": [
    "if altair_config:\n",
    "    with open(altair_config, \"r\") as file:\n",
    "        exec(file.read())\n",
    "\n",
    "with open(nipah_config) as f:\n",
    "    config = yaml.safe_load(f)"
   ]
  },
  {
   "cell_type": "markdown",
   "id": "59f79855-5d2c-427a-ae77-d95ee8b0eb27",
   "metadata": {},
   "source": [
    "# Import and merge data"
   ]
  },
  {
   "cell_type": "markdown",
   "id": "9c54aa9a-59b3-4525-81a2-11b5b1bd84a2",
   "metadata": {
    "editable": true,
    "slideshow": {
     "slide_type": ""
    },
    "tags": []
   },
   "source": [
    "### Import the filtered binding and entry data for bEFNB2 and bEFNB3"
   ]
  },
  {
   "cell_type": "code",
   "execution_count": null,
   "id": "6f44b62f-a44e-439e-a443-c7948c628344",
   "metadata": {
    "editable": true,
    "slideshow": {
     "slide_type": ""
    },
    "tags": []
   },
   "outputs": [],
   "source": [
    "# import binding data\n",
    "df_E2_filter = pd.read_csv(binding_E2_file)\n",
    "df_E3_filter = pd.read_csv(binding_E3_file)"
   ]
  },
  {
   "cell_type": "markdown",
   "id": "827b0970-8062-4998-ab11-0f5602e44cf4",
   "metadata": {},
   "source": [
    "### Merge data"
   ]
  },
  {
   "cell_type": "code",
   "execution_count": null,
   "id": "5d560dff-7ce5-4fad-8df1-23470af571ce",
   "metadata": {
    "editable": true,
    "slideshow": {
     "slide_type": ""
    },
    "tags": []
   },
   "outputs": [],
   "source": [
    "## Merge the filtered EFNB2 and EFNB3 DataFrames for combined analysis.\n",
    "df_binding_effect_merge = pd.merge(\n",
    "    df_E2_filter,\n",
    "    df_E3_filter,\n",
    "    on=[\"site\", \"wildtype\", \"mutant\"],\n",
    "    suffixes=[\"_E2\", \"_E3\"],\n",
    "    how=\"outer\",\n",
    ")\n",
    "display(df_binding_effect_merge.head(3))\n",
    "## Add a 'selection' column to distinguish between EFNB2 and EFNB3 data.\n",
    "df_E2_filter[\"selection\"] = \"bEFNB2\"\n",
    "df_E3_filter[\"selection\"] = \"bEFNB3\"\n",
    "\n",
    "## Concatenate the DataFrames for plotting or further analysis.\n",
    "df_binding_effect_concat = pd.concat([df_E2_filter, df_E3_filter])"
   ]
  },
  {
   "cell_type": "markdown",
   "id": "f439bab3-7fcb-4d61-83ee-b590e2bf6a27",
   "metadata": {},
   "source": [
    "# Calculate stats"
   ]
  },
  {
   "cell_type": "code",
   "execution_count": null,
   "id": "16a9c5a0-b44d-4f31-82e7-ef04611dd773",
   "metadata": {},
   "outputs": [],
   "source": [
    "# What are the top 5 highest and lowest binding mutants for EFNB2 and EFNB3?\n",
    "def find_highest_lowest(df, name):\n",
    "    print(f\"We are analyzing {name}\\n\")\n",
    "    print(f\"The total number of mutants was: {df.shape[0]}\\n\")\n",
    "    tmp_df = df.sort_values(by=\"binding_mean\")\n",
    "    print(\"These are the lowest binding mutants detected:\")\n",
    "    display(tmp_df.head(5))\n",
    "\n",
    "    tmp_df_high = df.sort_values(by=\"binding_mean\", ascending=False)\n",
    "    print(\"\\nThese are the highest binding mutants detected:\\n\")\n",
    "    display(tmp_df_high.head(5))\n",
    "\n",
    "    # What about mutants with positive entry scores?\n",
    "    tmp_df = df[df[\"effect\"] > 0].sort_values(by=\"binding_mean\")\n",
    "    print(\"These are the lowest binding mutants detected with positive entry scores:\")\n",
    "    display(tmp_df.head(5))\n",
    "\n",
    "    tmp_df_high = df[df[\"effect\"] > 0].sort_values(by=\"binding_mean\", ascending=False)\n",
    "    print(\n",
    "        \"\\nThese are the highest binding mutants detected with positive entry scores:\\n\"\n",
    "    )\n",
    "    display(tmp_df_high.head(5))\n",
    "\n",
    "    mean_df = df.groupby('site')['binding_mean'].sum().reset_index()\n",
    "    print('These are the sites with the highest summed binding score:\\n')\n",
    "    display(mean_df.sort_values(by='binding_mean',ascending=False).head(10))\n",
    "\n",
    "\n",
    "find_highest_lowest(df_E2_filter, \"bEFNB2\")\n",
    "find_highest_lowest(df_E3_filter, \"bEFNB3\")"
   ]
  },
  {
   "cell_type": "code",
   "execution_count": null,
   "id": "445417e8-956d-4efb-96ce-d728514263bb",
   "metadata": {},
   "outputs": [],
   "source": [
    "def overall_stats(df, effect, name):\n",
    "    # Now group sites and find sites where all mutants are deleterious\n",
    "    filtered_df = df.groupby(\"site\").filter(lambda group: (group[effect] < -0.25).all())\n",
    "    # Which sites are these?\n",
    "    unique = filtered_df[\"site\"].unique()\n",
    "    # Convert unique to a Pandas Series\n",
    "    unique_series = pd.Series(unique)\n",
    "\n",
    "    # Find the common elements that are also contact sites\n",
    "    unique_contact_bool = unique_series.isin(config[\"contact_sites\"])\n",
    "    # Filter and get the common elements\n",
    "    common_elements = unique_series[unique_contact_bool]\n",
    "\n",
    "    print(f\"The dataset we are analyzing is: {name}\\n\")\n",
    "\n",
    "    # Print the common elements\n",
    "    print(\n",
    "        f\"Here are the contact sites that only have negative binding scores: {list(common_elements)}\\n\"\n",
    "    )\n",
    "\n",
    "    print(f\"There are {len(unique)} sites with all negative binding score mutants\\n\")\n",
    "    print(\n",
    "        f\"These are the sites with all negative binding score mutants: {list(unique)}\\n\"\n",
    "    )\n",
    "\n",
    "    # Now find sites with low and high binding (median)\n",
    "    median_df = (\n",
    "        df.groupby(\"site\")[\"binding_mean\"]\n",
    "        .max()\n",
    "        .reset_index()\n",
    "        .sort_values(by=\"binding_mean\", ascending=False)\n",
    "    )\n",
    "    print(\"These are the sites with the highest binding mutants:\\n\")\n",
    "    display(median_df.head(5))\n",
    "\n",
    "    # Now calculate mutant number\n",
    "    total_mutants = df.shape[0]\n",
    "\n",
    "    mutants_above_cutoff_tolerated = df[df[\"effect\"] > 0]\n",
    "    mutants_above_cutoff_tolerated = mutants_above_cutoff_tolerated[\n",
    "        [\"site\", \"effect\", \"binding_mean\", \"wildtype\", \"mutant\"]\n",
    "    ]\n",
    "\n",
    "    total_sites = df[\"site\"].unique().shape[0]\n",
    "\n",
    "    print(f\"The total number of sites are: {total_sites}\")\n",
    "\n",
    "\n",
    "overall_stats(df_E2_filter, \"binding_mean\", \"EFNB2\")\n",
    "overall_stats(df_E3_filter, \"binding_mean\", \"EFNB3\")"
   ]
  },
  {
   "cell_type": "markdown",
   "id": "1ccd0059-9a24-4828-b75b-31042ec92549",
   "metadata": {},
   "source": [
    "### Find sites with opposite effects on binding"
   ]
  },
  {
   "cell_type": "code",
   "execution_count": null,
   "id": "d0d5764b-239e-4551-a414-7d8f01b6d1a6",
   "metadata": {},
   "outputs": [],
   "source": [
    "# find sites that are different\n",
    "def find_biggest_differences(df):\n",
    "    efnb2_good_efnb3_bad = df[\n",
    "        (df[\"binding_mean_E2\"] > 0.5) & (df[\"binding_mean_E3\"] < -0.5)\n",
    "    ].sort_values(by=\"binding_mean_E2\", ascending=False)\n",
    "    print('mutantions good for efnb2 binding, bad for efnb3 binding:\\n')\n",
    "    display(efnb2_good_efnb3_bad)\n",
    "\n",
    "    efnb2_bad_efnb3_good = df[\n",
    "        (df[\"binding_mean_E2\"] < -0.5) & (df[\"binding_mean_E3\"] > 0.5)\n",
    "    ].sort_values(by=\"binding_mean_E3\", ascending=False)\n",
    "    print('mutantions bad for efnb2 binding, good for efnb3 binding:\\n')\n",
    "    display(efnb2_bad_efnb3_good)\n",
    "\n",
    "\n",
    "find_biggest_differences(df_binding_effect_merge)"
   ]
  },
  {
   "cell_type": "markdown",
   "id": "a36aacf3-f324-4191-b4c1-ac0ad3eb3da2",
   "metadata": {},
   "source": [
    "### Find the top overlapping binders for both bEFNB2 and bEFNB3"
   ]
  },
  {
   "cell_type": "code",
   "execution_count": null,
   "id": "dd054dc6-11f5-43bb-a36e-6df611541f47",
   "metadata": {},
   "outputs": [],
   "source": [
    "def find_good_binding_for_both(df):\n",
    "    e2_good = df.sort_values(by='binding_mean_E2',ascending=False)\n",
    "    e3_good = df.sort_values(by='binding_mean_E3',ascending=False)\n",
    "    e2_good = e2_good.head(50)\n",
    "    e3_good = e3_good.head(50)\n",
    "    combo = pd.merge(e2_good,e3_good,on=['site','wildtype','mutant'],how='inner')\n",
    "    display(combo)\n",
    "\n",
    "find_good_binding_for_both(df_binding_effect_merge)"
   ]
  },
  {
   "cell_type": "markdown",
   "id": "51401930-f176-4c3f-b7a9-b157e62ea32f",
   "metadata": {},
   "source": [
    "### Find sites with the largest absolute difference in binding"
   ]
  },
  {
   "cell_type": "code",
   "execution_count": null,
   "id": "a31836c6-1216-4cab-a835-278090785116",
   "metadata": {},
   "outputs": [],
   "source": [
    "# Compare E2 and E3 binders\n",
    "def find_highest_lowest(df):\n",
    "    df[\"binding_diff\"] = (df[\"binding_mean_E2\"] - df[\"binding_mean_E3\"]).abs()\n",
    "    print(\n",
    "        \"These are the mutants with the biggest difference between EFNB2 and EFNB3:\\n\"\n",
    "    )\n",
    "    display(df.sort_values(by=\"binding_diff\", ascending=False).head(10))\n",
    "\n",
    "    # calculate aggregate differences\n",
    "    agg_df = (\n",
    "        df.groupby(\"site\")[[\"binding_mean_E2\", \"binding_mean_E3\", \"binding_diff\"]]\n",
    "        .mean()\n",
    "        .reset_index()\n",
    "    )\n",
    "    print(\"These are the sites with the biggest difference between EFNB2 and EFNB3:\\n\")\n",
    "    display(agg_df.sort_values(by=\"binding_diff\", ascending=False).head(5))\n",
    "\n",
    "\n",
    "find_highest_lowest(df_binding_effect_merge)"
   ]
  },
  {
   "cell_type": "markdown",
   "id": "7bcebe3b-e800-4368-98de-f77858a44e62",
   "metadata": {},
   "source": [
    "# Make plots"
   ]
  },
  {
   "cell_type": "markdown",
   "id": "afb14ff3-2c64-470d-a4a6-b9b276178c60",
   "metadata": {
    "editable": true,
    "slideshow": {
     "slide_type": ""
    },
    "tags": []
   },
   "source": [
    "### Make plots showing correlation between binding and entry for EFNB2 and EFNB3"
   ]
  },
  {
   "cell_type": "code",
   "execution_count": null,
   "id": "006e9c89-037b-49d9-99e8-27de0f45199c",
   "metadata": {
    "editable": true,
    "slideshow": {
     "slide_type": ""
    },
    "tags": []
   },
   "outputs": [],
   "source": [
    "def plot_corr_binding_entry_updated(df, flag):\n",
    "    df = df.copy().round(2)\n",
    "    # Define interactive selectors for variant selection.\n",
    "    variant_selector = alt.selection_point(\n",
    "        on=\"mouseover\", nearest=True, empty=False, fields=[\"site\", \"mutant\"], value=0\n",
    "    )\n",
    "    # 'variant_selector_agg' is for aggregated selection based on 'site' only.\n",
    "    variant_selector_agg = alt.selection_point(\n",
    "        on=\"mouseover\", nearest=True, empty=False, fields=[\"site\"], value=0\n",
    "    )\n",
    "\n",
    "    # Initialize an empty list to store charts for each unique selection in 'df'.\n",
    "    empty_chart = []\n",
    "    \n",
    "    # Loop through each unique cell selection in the DataFrame.\n",
    "    for cell in list(df[\"selection\"].unique()):\n",
    "        # Filter DataFrame for the current selection.\n",
    "        tmp_df = df[df[\"selection\"] == cell]\n",
    "        \n",
    "        # Check if aggregation flag is True to aggregate data.\n",
    "        if flag == True:\n",
    "            # Aggregate data by 'site', summing 'binding_median' and 'effect', then reset index.\n",
    "            agg_df = (\n",
    "                tmp_df.groupby(\"site\")[[\"binding_mean\", \"effect\"]].mean().reset_index().round(2)\n",
    "            )\n",
    "            # Create a chart using aggregated data with specified encodings.\n",
    "            chart = (\n",
    "                alt.Chart(agg_df)\n",
    "                .mark_point(stroke=\"black\", filled=True)  # Use filled points with black stroke.\n",
    "                .encode(\n",
    "                    x=alt.X(\n",
    "                        \"effect\",\n",
    "                        title=f\"Mean entry in CHO-{cell}\",\n",
    "                        axis=alt.Axis(grid=False),\n",
    "                    ),\n",
    "                    y=alt.Y(\n",
    "                        \"binding_mean\",\n",
    "                        title=f\"Mean {cell} binding\",\n",
    "                        axis=alt.Axis(grid=False),\n",
    "                    ),\n",
    "                    # Dynamic opacity, size, strokeWidth, and color based on 'variant_selector_agg'.\n",
    "                    opacity=alt.condition(\n",
    "                        variant_selector_agg, alt.value(1), alt.value(0.2)\n",
    "                    ),\n",
    "                    size=alt.condition(\n",
    "                        variant_selector_agg, alt.value(100), alt.value(50)\n",
    "                    ),\n",
    "                    strokeWidth=alt.condition(\n",
    "                        variant_selector_agg, alt.value(1), alt.value(0)\n",
    "                    ),\n",
    "                    color=alt.condition(\n",
    "                        variant_selector_agg, alt.value(\"orange\"), alt.value(\"gray\")\n",
    "                    ),\n",
    "                    tooltip=[\"site\", \"binding_mean\", \"effect\"],\n",
    "                )\n",
    "                .add_params(variant_selector_agg)\n",
    "            )\n",
    "            # Add the chart to the list.\n",
    "            empty_chart.append(chart)\n",
    "\n",
    "        else:\n",
    "            # Create a chart for individual data points with specified encodings.\n",
    "            chart = (\n",
    "                alt.Chart(tmp_df)\n",
    "                .mark_point(stroke=\"black\", filled=True)\n",
    "                .encode(\n",
    "                    x=alt.X(\n",
    "                        \"effect\", title=f\"Entry in CHO-{cell}\", axis=alt.Axis(grid=False)\n",
    "                    ),\n",
    "                    y=alt.Y(\n",
    "                        \"binding_mean\",\n",
    "                        title=f\"{cell} binding\",\n",
    "                        axis=alt.Axis(grid=False),\n",
    "                    ),\n",
    "                    # Dynamic opacity, size, strokeWidth, and color based on 'variant_selector'.\n",
    "                    opacity=alt.condition(\n",
    "                        variant_selector, alt.value(1), alt.value(0.1)\n",
    "                    ),\n",
    "                    size=alt.condition(variant_selector, alt.value(50), alt.value(20)),\n",
    "                    strokeWidth=alt.condition(\n",
    "                        variant_selector, alt.value(1), alt.value(0)\n",
    "                    ),\n",
    "                    color=alt.condition(\n",
    "                        variant_selector, alt.value(\"orange\"), alt.value(\"gray\")\n",
    "                    ),\n",
    "                    tooltip=[\n",
    "                        \"site\",\n",
    "                        \"wildtype\",\n",
    "                        \"mutant\",\n",
    "                        \"binding_mean\",\n",
    "                        \"times_seen_binding\",\n",
    "                        \"effect\",\n",
    "                    ],\n",
    "                )\n",
    "                .add_params(variant_selector)\n",
    "            )\n",
    "            # Add the chart to the list.\n",
    "            empty_chart.append(chart)\n",
    "\n",
    "    # Combine all charts horizontally with a title.\n",
    "    combined_chart = alt.hconcat(\n",
    "        *empty_chart, title=alt.Title(\"Correlation between binding and entry\")\n",
    "    )\n",
    "    \n",
    "    # Return the combined chart for display or further use.\n",
    "    return combined_chart\n",
    "\n",
    "# Generate and display plots for non-aggregated data.\n",
    "entry_binding_corr_plot = plot_corr_binding_entry_updated(df_binding_effect_concat, False)\n",
    "entry_binding_corr_plot.display()\n",
    "\n",
    "# Save the plot \n",
    "if entry_binding_combined_corr_plot is not None:\n",
    "    entry_binding_corr_plot.save(entry_binding_combined_corr_plot)\n",
    "\n",
    "# Repeat for aggregated data.\n",
    "entry_binding_corr_plot_agg = plot_corr_binding_entry_updated(df_binding_effect_concat, True)\n",
    "entry_binding_corr_plot_agg.display()"
   ]
  },
  {
   "cell_type": "markdown",
   "id": "fe308d30-916b-4b78-b9c0-a4b422d713ae",
   "metadata": {},
   "source": [
    "### Same plot as above, but slightly different format"
   ]
  },
  {
   "cell_type": "code",
   "execution_count": null,
   "id": "5b0ca4ac-fd20-43d9-bf02-50ce94a94a3e",
   "metadata": {
    "editable": true,
    "slideshow": {
     "slide_type": ""
    },
    "tags": []
   },
   "outputs": [],
   "source": [
    "def plot_entry_binding_corr_heatmap(df):\n",
    "    empty_chart = []\n",
    "    for cell in list(df[\"selection\"].unique()):\n",
    "        tmp_df = df[df[\"selection\"] == cell]\n",
    "        chart = (\n",
    "            alt.Chart(tmp_df, title=f\"{cell}\")\n",
    "            .mark_rect()\n",
    "            .encode(\n",
    "                x=alt.X(\n",
    "                    \"effect\", title=\"Cell entry\", axis=alt.Axis(values=[-2, -1, 0, 1])\n",
    "                ).bin(maxbins=50),\n",
    "                y=alt.Y(\n",
    "                    \"binding_mean\",\n",
    "                    title=\"Receptor binding\",\n",
    "                    axis=alt.Axis(values=[-4, -2, 0, 2]),\n",
    "                ).bin(maxbins=50),\n",
    "                color=alt.Color(\"count()\", title=\"Count\").scale(type='log'),\n",
    "            )\n",
    "        ).properties(width=200,height=200)\n",
    "        empty_chart.append(chart)\n",
    "\n",
    "    combined_chart = alt.hconcat(\n",
    "        *empty_chart, \n",
    "    ).resolve_scale(y=\"shared\", x=\"shared\", color=\"shared\")\n",
    "    return combined_chart\n",
    "\n",
    "\n",
    "entry_binding_corr_heat = plot_entry_binding_corr_heatmap(df_binding_effect_concat)\n",
    "entry_binding_corr_heat.display()\n",
    "if entry_binding_combined_corr_plot is not None:\n",
    "    entry_binding_corr_heat.save(entry_binding_corr_heatmap)"
   ]
  },
  {
   "cell_type": "markdown",
   "id": "99534d2f-74bf-4e39-b787-4f0f11cfa280",
   "metadata": {
    "editable": true,
    "slideshow": {
     "slide_type": ""
    },
    "tags": []
   },
   "source": [
    "# Find correlations between bEFNB2 and bEFNB3 binding"
   ]
  },
  {
   "cell_type": "code",
   "execution_count": null,
   "id": "5bae5583-32fb-4010-b578-05efb2eeb5dd",
   "metadata": {},
   "outputs": [],
   "source": [
    "def plot_entry_binding_corr(df):\n",
    "    chart = (\n",
    "        alt.Chart(df, title=\"Correlation Between Mutant Binding Scores\")\n",
    "        .mark_rect()\n",
    "        .encode(\n",
    "            x=alt.X(\n",
    "                \"binding_mean_E2\",\n",
    "                title=\"bEFNB2 binding\",\n",
    "                axis=alt.Axis(values=[-4,-2, 0, 2]),\n",
    "            ).bin(maxbins=50),\n",
    "            y=alt.Y(\n",
    "                \"binding_mean_E3\",\n",
    "                title=\"bEFNB3 binding\",\n",
    "                axis=alt.Axis(values=[-2, 0, 2]),\n",
    "            ).bin(maxbins=50),\n",
    "            color=alt.Color(\"count()\", title=\"Count\").scale(type='log'),\n",
    "        )\n",
    "    ).properties(width=200,height=200)\n",
    "    return chart\n",
    "\n",
    "\n",
    "entry_binding_corr_heatmap_1 = plot_entry_binding_corr(df_binding_effect_merge)\n",
    "entry_binding_corr_heatmap_1.display()"
   ]
  },
  {
   "cell_type": "markdown",
   "id": "92a634f9-66b9-41ce-a57f-aee59f7837f5",
   "metadata": {},
   "source": [
    "# Plot correlations of binding mutants in scatterplots, and color different subsets"
   ]
  },
  {
   "cell_type": "markdown",
   "id": "ec3de08a-8b75-46cc-b3a9-f1d849cc55c1",
   "metadata": {},
   "source": [
    "### First, find mutations that are outliers in the correlation between bEFNB2 and bEFNB3 binding"
   ]
  },
  {
   "cell_type": "code",
   "execution_count": null,
   "id": "6c8c2af6-0d24-446f-a81a-0eeb22d39f52",
   "metadata": {},
   "outputs": [],
   "source": [
    "def find_outliers(df):\n",
    "    df = df.dropna().copy()\n",
    "    #Calculate the best fit line\n",
    "    slope, intercept = np.polyfit(df['binding_mean_E2'], df['binding_mean_E3'], 1)\n",
    "    \n",
    "    #compute residuals\n",
    "    df['predicted_y'] = slope * df['binding_mean_E2'] + intercept\n",
    "    df['residuals'] = df['binding_mean_E3'] - df['predicted_y']\n",
    "    \n",
    "    #identify outliers\n",
    "    # calculate the mean and standard deviation of the residuals\n",
    "    mean_residual = np.mean(df['residuals'])\n",
    "    std_residual = np.std(df['residuals'])\n",
    "\n",
    "    outlier_threshold = 4.5 #4.5 std deviations\n",
    "    df['is_outlier'] = abs(df['residuals']) > (std_residual * outlier_threshold)\n",
    "    \n",
    "    # Filter the DataFrame to only include outliers\n",
    "    outliers = df[df['is_outlier']]\n",
    "    print(f'Here are the outlier mutations outside of a {outlier_threshold} standard deviation:\\n')\n",
    "    display(outliers)\n",
    "    outliers_list = list(outliers['site'].unique())\n",
    "    print(f' Here are the sites: \\n {outliers_list}')\n",
    "    return df,outliers_list\n",
    "\n",
    "residuals_df,outliers_list = find_outliers(df_binding_effect_merge)"
   ]
  },
  {
   "cell_type": "markdown",
   "id": "134d5f82-889b-4afe-88c5-5413b1f14e24",
   "metadata": {},
   "source": [
    "### Find mutations in the top quantile of binding for bEFNB2 and bEFNB3 both"
   ]
  },
  {
   "cell_type": "code",
   "execution_count": null,
   "id": "46e02f91-6753-41ca-8403-c645b0c87805",
   "metadata": {},
   "outputs": [],
   "source": [
    "def find_top_for_both(df):\n",
    "    quantile_threshold = 0.99\n",
    "    # Calculate the quantiles for both variables\n",
    "    x_quantile = df['binding_mean_E2'].quantile(quantile_threshold)\n",
    "    y_quantile = df['binding_mean_E3'].quantile(quantile_threshold)\n",
    "    \n",
    "    # Filter points that are above the quantile threshold\n",
    "    df['meets_threshold'] = (df['binding_mean_E2'] >= x_quantile) & (df['binding_mean_E3'] >= y_quantile)\n",
    "    subset = df.query('meets_threshold == True')\n",
    "    top_mutants = list(subset['site'].unique())\n",
    "    return df, top_mutants\n",
    "\n",
    "top_residuals_df,top_mutants_list = find_top_for_both(residuals_df)\n",
    "print(f' The sites with the top binding mutations are : \\n {top_mutants_list}')\n",
    "cleaned_df = top_residuals_df.query('meets_threshold == True')[['wildtype','site','mutant','binding_mean_E2','binding_mean_E3']].round(2)\n",
    "print(f'Here are the specific mutations:\\n')\n",
    "display(cleaned_df)"
   ]
  },
  {
   "cell_type": "markdown",
   "id": "1153a622-cad9-46ec-8b8f-cbe2bd28fbb1",
   "metadata": {},
   "source": [
    "## Plot correlations between individual mutational effects on binding, and color different subsets of sites"
   ]
  },
  {
   "cell_type": "code",
   "execution_count": null,
   "id": "14175a0a-2851-4aaa-ac96-4939cb304243",
   "metadata": {
    "editable": true,
    "slideshow": {
     "slide_type": ""
    },
    "tags": []
   },
   "outputs": [],
   "source": [
    "def plot_affinity_BLI_mutants(df, highlight_conditions, color, subset=None):\n",
    "    df = df.round(2).copy()\n",
    "    df['site_mutant'] = df['site'].astype(str) + df['mutant'].astype(str)\n",
    "\n",
    "    if subset is not None:\n",
    "        df = df[df['site'].isin(subset)]\n",
    "\n",
    "    slope, intercept, r_value, p_value, std_err = scipy.stats.linregress(\n",
    "        df[\"binding_mean_E2\"], df[\"binding_mean_E3\"]\n",
    "    )\n",
    "    \n",
    "    # make correlation chart\n",
    "    chart = alt.Chart(df #,title=alt.Title(\"Correlation Between Mutant Binding Scores\",subtitle=f'r = {r_value:.2f}'\n",
    "    ).mark_point(\n",
    "        color=\"gray\", \n",
    "        size=30, \n",
    "        opacity=0.4, \n",
    "        filled=True\n",
    "    ).encode(\n",
    "        x=alt.X(\"binding_mean_E2\", title=(\"bEFNB2 binding\"),axis=alt.Axis(tickCount=4)),\n",
    "        y=alt.Y(\"binding_mean_E3\", title=(\"bEFNB3 binding\"),axis=alt.Axis(tickCount=4)),\n",
    "        tooltip=[\n",
    "            \"site\",\n",
    "            \"wildtype\",\n",
    "            \"mutant\",\n",
    "            \"binding_mean_E2\",\n",
    "            \"binding_mean_E3\",\n",
    "            \"effect_E2\",\n",
    "            \"effect_E3\",\n",
    "            \"binding_std_E2\",\n",
    "            \"binding_std_E3\",\n",
    "            \"times_seen_binding_E2\",\n",
    "            \"times_seen_binding_E3\"\n",
    "        ],\n",
    "    )\n",
    "\n",
    "    #make colored circles for specific data\n",
    "    highlight = chart.transform_filter(highlight_conditions).mark_point(\n",
    "        color=color, size=60, opacity=1, filled=True, stroke='black', strokeWidth=1\n",
    "    )\n",
    "    #write text near the orange circles\n",
    "    text_on_point = chart.transform_filter(highlight_conditions).mark_text(\n",
    "            align='center',baseline='top',dy=-20,fontSize=16\n",
    "    ).encode(text='site_mutant')\n",
    "    \n",
    "    min = int(df[\"binding_mean_E2\"].min())\n",
    "    max = int(df[\"binding_mean_E3\"].max())\n",
    "    text = (\n",
    "        alt.Chart({\"values\": [{\"x\": min, \"y\": max, \"text\": f\"r = {r_value:.2f}\"}]})\n",
    "        .mark_text(align=\"left\", baseline=\"top\", dx=-10, dy=-20)\n",
    "        .encode(x=alt.X(\"x:Q\"), y=alt.Y(\"y:Q\"), text=\"text:N\")\n",
    "    )\n",
    "    # Vertical line at x=0\n",
    "    vline = alt.Chart(pd.DataFrame({'x': [0]})).mark_rule(color='gray',opacity=1,strokeDash=[2,4]).encode(x='x:Q')\n",
    "    # Horizontal line at y=0\n",
    "    hline = alt.Chart(pd.DataFrame({'y': [0]})).mark_rule(color='gray',opacity=1,strokeDash=[2,4]).encode(y='y:Q')\n",
    "    chart_and_text = chart + text_on_point + highlight + vline + hline\n",
    "    return chart_and_text.properties(height=200,width=200)\n"
   ]
  },
  {
   "cell_type": "markdown",
   "id": "850a0213-6cc8-4af0-badd-dd3c7403a78c",
   "metadata": {},
   "source": [
    "### Sites selected for BLI validation"
   ]
  },
  {
   "cell_type": "code",
   "execution_count": null,
   "id": "491d6c8d-4d0b-4a32-acf5-4246900870f3",
   "metadata": {},
   "outputs": [],
   "source": [
    "# these are the data we want to show in orange circles\n",
    "highlight_conditions = (\n",
    "        (alt.datum.site == 244) & (alt.datum.mutant == 'W') |\n",
    "        (alt.datum.site == 305) & (alt.datum.mutant == 'W') | \n",
    "        (alt.datum.site == 492) & (alt.datum.mutant == 'L') |\n",
    "        (alt.datum.site == 507) & (alt.datum.mutant == 'I') |\n",
    "        (alt.datum.site == 530) & (alt.datum.mutant == 'F') |\n",
    "        (alt.datum.site == 553) & (alt.datum.mutant == 'W') |\n",
    "        (alt.datum.site == 555) & (alt.datum.mutant == 'Y') |\n",
    "        (alt.datum.site == 559) & (alt.datum.mutant == 'R') |\n",
    "        (alt.datum.site == 588) & (alt.datum.mutant == 'V') \n",
    ")\n",
    "\n",
    "E2_E3_corr_BLI_mutants = plot_affinity_BLI_mutants(df_binding_effect_merge,highlight_conditions,'#e49444')\n",
    "E2_E3_corr_BLI_mutants.display()"
   ]
  },
  {
   "cell_type": "markdown",
   "id": "a8c0b63c-1785-40a2-8741-d8009f5c3c10",
   "metadata": {},
   "source": [
    "### Sites selected for neutralization validations"
   ]
  },
  {
   "cell_type": "code",
   "execution_count": null,
   "id": "1f5820a4-3026-4ae6-a312-8699118df0cc",
   "metadata": {},
   "outputs": [],
   "source": [
    "highlight_conditions_neut = (\n",
    "        (alt.datum.site == 333) & (alt.datum.mutant == 'Q') |\n",
    "        (alt.datum.site == 492) & (alt.datum.mutant == 'R') | \n",
    "        (alt.datum.site == 507) & (alt.datum.mutant == 'I') |\n",
    "        (alt.datum.site == 530) & (alt.datum.mutant == 'F') |\n",
    "        (alt.datum.site == 553) & (alt.datum.mutant == 'W') |\n",
    "        (alt.datum.site == 555) & (alt.datum.mutant == 'K') \n",
    ")\n",
    "neut_muts = plot_affinity_BLI_mutants(df_binding_effect_merge,highlight_conditions_neut,'#5778a4')\n",
    "neut_muts.display()"
   ]
  },
  {
   "cell_type": "markdown",
   "id": "cc8fa842-888b-46ab-a64f-c5391c484821",
   "metadata": {},
   "source": [
    "### Find outliers"
   ]
  },
  {
   "cell_type": "code",
   "execution_count": null,
   "id": "cc6d697f-2aae-4013-b98d-2097482d5a37",
   "metadata": {},
   "outputs": [],
   "source": [
    "highlight_conditions_top_sites = (\n",
    "        (alt.datum.site == 580) & (alt.datum.mutant == 'S') |\n",
    "        (alt.datum.site == 211) & (alt.datum.mutant == 'F') | \n",
    "        (alt.datum.site == 553) & (alt.datum.mutant == 'W') |\n",
    "        (alt.datum.site == 589) & (alt.datum.mutant == 'G') |\n",
    "        (alt.datum.site == 306) & (alt.datum.mutant == 'R') |\n",
    "        (alt.datum.site == 492) & (alt.datum.mutant == 'L') |\n",
    "        (alt.datum.site == 492) & (alt.datum.mutant == 'R') |\n",
    "        (alt.datum.site == 588) & (alt.datum.mutant == 'P') |\n",
    "        (alt.datum.site == 530) & (alt.datum.mutant == 'F') |\n",
    "        (alt.datum.site == 546) & (alt.datum.mutant == 'H') |\n",
    "        (alt.datum.site == 555) & (alt.datum.mutant == 'K') \n",
    "\n",
    "\n",
    ")\n",
    "\n",
    "E2_E3_corr = plot_affinity_BLI_mutants(residuals_df,highlight_conditions_top_sites,'#af7aa1')\n",
    "E2_E3_corr.display()\n",
    "if entry_binding_combined_corr_plot is not None:\n",
    "    E2_E3_corr.save(E2_E3_correlation)"
   ]
  },
  {
   "cell_type": "markdown",
   "id": "b131d5aa-c3bd-46f5-a3f4-688fca8ecd29",
   "metadata": {},
   "source": [
    "### Find top mutations for both bEFNB2 and bEFNB3"
   ]
  },
  {
   "cell_type": "code",
   "execution_count": null,
   "id": "ad4100d2-c063-497e-8b4a-139341a935f4",
   "metadata": {},
   "outputs": [],
   "source": [
    "highlight_conditions = (\n",
    "        (alt.datum.meets_threshold == True)\n",
    ")\n",
    "E2_E3_corr = plot_affinity_BLI_mutants(top_residuals_df.query('meets_threshold == True'),highlight_conditions,'#d1615d')\n",
    "E2_E3_corr.display()"
   ]
  },
  {
   "cell_type": "markdown",
   "id": "aaee547f-d541-40af-a812-a2ace69cddae",
   "metadata": {},
   "source": [
    "# Plot correlations of mutants for individual sites of interest with letters of each mutant plotted"
   ]
  },
  {
   "cell_type": "code",
   "execution_count": null,
   "id": "fa12f7c8-728e-4a7e-a636-26a1dad644a3",
   "metadata": {},
   "outputs": [],
   "source": [
    "def plot_affinity_individual_mutants(df,mutant):\n",
    "    df = df.round(2).copy()\n",
    "    df = df[df['site'] == mutant]\n",
    "    if df.empty:\n",
    "        print('nothing here')\n",
    "        pass\n",
    "    else:\n",
    "        wildtype_site = (df['wildtype'].astype(str) + df['site'].astype(str)).unique()[0]\n",
    "\n",
    "        chart = alt.Chart(df #,title=alt.Title(f\"Site {wildtype_site}\"\n",
    "        ).mark_text(\n",
    "            size=15,\n",
    "            opacity=1,\n",
    "        ).encode(\n",
    "            x=alt.X(\"binding_mean_E2\", title=(\"bEFNB2 binding\"),axis=alt.Axis(tickCount=3),scale=alt.Scale(domain=[-5,2])),\n",
    "            y=alt.Y(\"binding_mean_E3\", title=(\"bEFNB3 binding\"),axis=alt.Axis(tickCount=3),scale=alt.Scale(domain=[-2,2])),\n",
    "            text=alt.Text('mutant'),\n",
    "            color=alt.Color(\n",
    "                'mutant_type_E2',\n",
    "                legend = None, \n",
    "                title='Amino acid type',\n",
    "                scale=alt.Scale(\n",
    "                    domain=['Aromatic', 'Hydrophilic', 'Hydrophobic','Negative', 'Positive', 'Special'],\n",
    "                    range=[\"#4e79a7\",\"#f28e2c\",\"#e15759\",\"#76b7b2\",\"#59a14f\",\"#edc949\"])),\n",
    "            tooltip=[\n",
    "                \"site\",\n",
    "                \"wildtype\",\n",
    "                \"mutant\",\n",
    "                \"binding_mean_E2\",\n",
    "                \"binding_mean_E3\",\n",
    "                \"effect_E2\",\n",
    "                \"effect_E3\",\n",
    "            ],\n",
    "        )\n",
    "        # Vertical line at x=0\n",
    "        vline = alt.Chart(pd.DataFrame({'x': [0]})).mark_rule(color='gray',opacity=1,strokeDash=[2,4]).encode(x='x:Q')\n",
    "        # Horizontal line at y=0\n",
    "        hline = alt.Chart(pd.DataFrame({'y': [0]})).mark_rule(color='gray',opacity=1,strokeDash=[2,4]).encode(y='y:Q')\n",
    "        final_chart = vline + hline + chart\n",
    "        return final_chart.properties(height=200,width=200)"
   ]
  },
  {
   "cell_type": "markdown",
   "id": "19e3db98-4c39-4799-97f8-e9bfd8545632",
   "metadata": {},
   "source": [
    "### Plot amino acid letter correlation plots for the top sites"
   ]
  },
  {
   "cell_type": "code",
   "execution_count": null,
   "id": "10cb8a85-9e2a-4b40-b363-f5708c6738a1",
   "metadata": {},
   "outputs": [],
   "source": [
    "#indiv_graph = plot_affinity_individual_mutants(df_binding_effect_merge,492)\n",
    "indiv_graph = plot_affinity_individual_mutants(df_binding_effect_merge,553)\n",
    "#indiv_graph = plot_affinity_individual_mutants(df_binding_effect_merge,530)\n",
    "\n",
    "indiv_graph.display()"
   ]
  },
  {
   "cell_type": "code",
   "execution_count": null,
   "id": "4408ef8a-d7f1-4871-922c-a14d9986f260",
   "metadata": {},
   "outputs": [],
   "source": [
    "empty_charts = []\n",
    "top_mutants_list = [580,211,553,589,306,492,530]\n",
    "for site in top_mutants_list:\n",
    "    indiv_graph = plot_affinity_individual_mutants(df_binding_effect_merge,site)\n",
    "    empty_charts.append(indiv_graph)\n",
    "\n",
    "top_sites = alt.vconcat(*empty_charts).resolve_scale(x='shared',y='shared',color='shared')\n",
    "top_sites.display()"
   ]
  },
  {
   "cell_type": "markdown",
   "id": "1c15e6d1-9610-4374-8398-a17397fc15db",
   "metadata": {},
   "source": [
    "### Plot amino acid letter correlation plots for the outlier sites"
   ]
  },
  {
   "cell_type": "code",
   "execution_count": null,
   "id": "ae7fdf67-959d-4b57-a3dd-d55287084378",
   "metadata": {},
   "outputs": [],
   "source": [
    "empty_charts = []\n",
    "for site in outliers_list:\n",
    "    if site < 180:\n",
    "        pass\n",
    "    else:\n",
    "        indiv_graph = plot_affinity_individual_mutants(df_binding_effect_merge,site)\n",
    "        empty_charts.append(indiv_graph)\n",
    "\n",
    "outlier_sites = alt.vconcat(*empty_charts).resolve_scale(x='shared',y='shared',color='shared')\n",
    "outlier_sites.display()"
   ]
  },
  {
   "cell_type": "markdown",
   "id": "c951e791-c00b-4315-963f-f66f5cef3299",
   "metadata": {},
   "source": [
    "### Now make for all contact sites"
   ]
  },
  {
   "cell_type": "code",
   "execution_count": null,
   "id": "15a511a9-0aac-4a35-b376-6a722374c28d",
   "metadata": {},
   "outputs": [],
   "source": [
    "empty_charts = []\n",
    "for site in config['contact_sites']:\n",
    "    tmp_df = df_binding_effect_merge[df_binding_effect_merge['site'] == site]\n",
    "    non_nan_in_effect_E2 = tmp_df['binding_mean_E2'].notnull().any()\n",
    "    non_nan_in_effect_E3 = tmp_df['binding_mean_E3'].notnull().any()\n",
    "\n",
    "    if non_nan_in_effect_E2 and non_nan_in_effect_E3:        \n",
    "        contact_plots = plot_affinity_individual_mutants(tmp_df,site)\n",
    "        empty_charts.append(contact_plots)\n",
    "    else:\n",
    "        pass\n",
    "\n",
    "all_contact_plots = alt.vconcat(*empty_charts).resolve_scale(x='shared', y='shared')\n",
    "all_contact_plots.display()"
   ]
  },
  {
   "cell_type": "markdown",
   "id": "040df4b9-3fa3-4a78-9786-6386bd127ef9",
   "metadata": {},
   "source": [
    "### Make correlation amino acid letter plots for 580-590 loop"
   ]
  },
  {
   "cell_type": "code",
   "execution_count": null,
   "id": "e0eca717-fd90-45fd-9e71-1fbd8b510304",
   "metadata": {},
   "outputs": [],
   "source": [
    "for site in list(range(580,590)):\n",
    "    tmp_df = df_binding_effect_merge[df_binding_effect_merge['site'] == site]\n",
    "    non_nan_in_effect_E2 = tmp_df['binding_mean_E2'].notnull().any()\n",
    "    non_nan_in_effect_E3 = tmp_df['binding_mean_E3'].notnull().any()\n",
    "\n",
    "    if non_nan_in_effect_E2 and non_nan_in_effect_E3:        \n",
    "        test_plots = plot_affinity_individual_mutants(tmp_df,site)\n",
    "        test_plots.display()\n",
    "    else:\n",
    "        pass"
   ]
  },
  {
   "cell_type": "markdown",
   "id": "05e2dc0a-76b3-487e-8023-f68be6ef6ca9",
   "metadata": {
    "editable": true,
    "slideshow": {
     "slide_type": ""
    },
    "tags": []
   },
   "source": [
    "# Plot correlations between each site for mean value"
   ]
  },
  {
   "cell_type": "code",
   "execution_count": null,
   "id": "8d82d3ee-79bb-40ee-8ef5-63280552e471",
   "metadata": {
    "editable": true,
    "slideshow": {
     "slide_type": ""
    },
    "tags": []
   },
   "outputs": [],
   "source": [
    "def plot_affinity_solid_mean(df):\n",
    "    df = df.dropna()\n",
    "    means = (\n",
    "        df.groupby(\"site\")\n",
    "        .agg(\n",
    "            {\n",
    "                \"effect_E2\": \"mean\",\n",
    "                \"effect_E3\": \"mean\",\n",
    "                \"binding_mean_E2\": \"mean\",\n",
    "                \"binding_mean_E3\": \"mean\",\n",
    "                \"wildtype\": \"first\",\n",
    "            }\n",
    "        )\n",
    "        .reset_index().round(2)\n",
    "    )\n",
    "    slope, intercept, r_value, p_value, std_err = scipy.stats.linregress(\n",
    "        means[\"binding_mean_E2\"], means[\"binding_mean_E3\"]\n",
    "    )\n",
    "    r_value = float(r_value)\n",
    "    chart = (\n",
    "        alt.Chart(\n",
    "            means,\n",
    "            title=alt.Title(\n",
    "                \"Correlation between Aggregate Mutant Binding Scores\",\n",
    "                subtitle=f\"r={r_value:.2f}\",\n",
    "            ),\n",
    "        )\n",
    "        .mark_point(size=50, opacity=0.5,filled=True,color='gray')\n",
    "        .encode(\n",
    "            x=alt.X(\n",
    "                \"binding_mean_E2\",\n",
    "                title=(\"Mean bEFNB2 binding\"),\n",
    "                axis=alt.Axis(tickCount=3),\n",
    "            ),\n",
    "            y=alt.Y(\n",
    "                \"binding_mean_E3\",\n",
    "                title=(\"Mean bEFNB3 binding\"),\n",
    "                axis=alt.Axis(tickCount=3),\n",
    "            ),\n",
    "            tooltip=[\n",
    "                \"site\",\n",
    "                \"wildtype\",\n",
    "                \"binding_mean_E2\",\n",
    "                \"binding_mean_E3\",\n",
    "                \"effect_E2\",\n",
    "                \"effect_E3\",\n",
    "            ],\n",
    "        )\n",
    "    )\n",
    "    text = (\n",
    "        alt.Chart({\"values\": [{\"x\": -3.5, \"y\": 0.5, \"text\": f\"r = {r_value:.2f}\"}]})\n",
    "        .mark_text(align=\"left\", baseline=\"top\", dx=0, dy=0)\n",
    "        .encode(x=alt.X(\"x:Q\"), y=alt.Y(\"y:Q\"), text=\"text:N\")\n",
    "    )\n",
    "    chart_and_text = chart.properties(width=200,height=200)\n",
    "    return chart_and_text\n",
    "\n",
    "\n",
    "E2_E3_site_corr = plot_affinity_solid_mean(df_binding_effect_merge)\n",
    "E2_E3_site_corr.display()\n",
    "if entry_binding_combined_corr_plot is not None:\n",
    "    E2_E3_site_corr.save(E2_E3_correlation_site)"
   ]
  },
  {
   "cell_type": "markdown",
   "id": "805e432b-d901-4cad-b305-0346e0ca5447",
   "metadata": {
    "editable": true,
    "slideshow": {
     "slide_type": ""
    },
    "tags": []
   },
   "source": [
    "# Make plot showing binding by site"
   ]
  },
  {
   "cell_type": "code",
   "execution_count": null,
   "id": "6a3be425-d246-4351-a64f-c717b2046236",
   "metadata": {},
   "outputs": [],
   "source": [
    "def plot_affinity_by_site(df):\n",
    "     # define ranges of different RBP regions\n",
    "    barrel_ranges = {\n",
    "        \"Stalk\": list(range(70, 148)),\n",
    "        \"Neck\": list(range(148, 166)),\n",
    "        \"Linker\": list(range(166, 178)),\n",
    "        \"Head\": list(range(178, 603)),\n",
    "    }\n",
    "    \n",
    "    custom_order = [\"Stalk\", \"Neck\", \"Linker\", \"Head\"] #custom order for color legend\n",
    "    \n",
    "    agg_means = [] #store aggregation \n",
    "    \n",
    "    # For each barrel, filter the dataframe to the sites belonging to that barrel and then store the means\n",
    "    for barrel, sites in barrel_ranges.items():\n",
    "        subset = df[df[\"site\"].isin(sites)]\n",
    "        for _, row in subset.iterrows():\n",
    "            agg_means.append(\n",
    "                {\"region\": barrel, \"binding_mean\": row[\"binding_mean\"], \"site\": row[\"site\"],\"selection\": row[\"selection\"]}\n",
    "            )\n",
    "        agg_means_df = pd.DataFrame(agg_means).round(2)\n",
    "    \n",
    "    # Setup interactivity\n",
    "    variant_selector = alt.selection_point(\n",
    "        on=\"mouseover\", nearest=True, empty=False, fields=[\"site\"], value=0\n",
    "    )\n",
    "    #make chart\n",
    "    chart = alt.Chart(agg_means_df).mark_bar(stroke='black',size=1.5,binSpacing=0,color='black').encode(\n",
    "        alt.X(\"site\")\n",
    "            .title(\"Site\")\n",
    "            .axis(tickCount=5,labelAngle=-90,grid=True),\n",
    "            #.scale(domain=[70, 602]),\n",
    "        \n",
    "        alt.Y('mean(binding_mean)')\n",
    "            .axis(tickCount=3)\n",
    "            .title('Mean binding'),\n",
    "        alt.Row('selection',title=None),\n",
    "        tooltip=['site'],\n",
    "        strokeWidth=alt.condition(variant_selector, alt.value(1), alt.value(0)),\n",
    "        color=alt.Color('region',sort=custom_order,title='Region'),\n",
    "        #strokeColor=alt.condition(variant_selector, alt.value('orange'), alt.value('black')),\n",
    "\n",
    "\n",
    "    ).properties(height=150, width=800).add_params(variant_selector).resolve_scale(y='independent')\n",
    "    \n",
    "\n",
    "    return chart\n",
    "\n",
    "\n",
    "binding_by_site = plot_affinity_by_site(df_binding_effect_concat)\n",
    "binding_by_site.display()\n",
    "if entry_binding_combined_corr_plot is not None:\n",
    "    binding_by_site.save(binding_by_site_plot)"
   ]
  },
  {
   "cell_type": "markdown",
   "id": "69d8f067-bebc-454b-9807-3e05bd977e95",
   "metadata": {},
   "source": [
    "# Make bar chart showing max binding score for each contact residue"
   ]
  },
  {
   "cell_type": "code",
   "execution_count": null,
   "id": "5de2b70e-b7f2-4aaf-97fb-39763a3a99f6",
   "metadata": {},
   "outputs": [],
   "source": [
    "def plot_affinity_by_contact_site(df, sites_to_show):\n",
    "    # Filter the DataFrame based on the sites to show\n",
    "    contact_df = df[df[\"site\"].isin(sites_to_show)]\n",
    "    \n",
    "    # Define a selection for highlighting bars on hover\n",
    "    variant_selector = alt.selection_point(on=\"mouseover\", nearest=True, empty=False, fields=[\"site\"])\n",
    "    \n",
    "    # Create the chart\n",
    "    chart = alt.Chart(contact_df).mark_bar(stroke='black').encode(\n",
    "        y=alt.Y(\"site:N\", title=\"Site\",sort='-x'),\n",
    "        x=alt.X(\"max(binding_mean):Q\", title=\"Max binding mutant at site\"),\n",
    "        color=alt.condition(variant_selector, alt.value(\"orange\"), alt.value(\"black\")),\n",
    "        strokeWidth=alt.condition(variant_selector, alt.value(1), alt.value(0)),\n",
    "        column=alt.Column('selection',title=None)\n",
    "    ).add_params(variant_selector).properties(width=200, height=alt.Step(12)).resolve_scale(x='independent',y='shared').configure_header(\n",
    "        labelFontSize=20,  \n",
    "        labelAngle=0,\n",
    "        labelAlign='center',\n",
    "        labelAnchor='middle',\n",
    "        labelFont='Helvetica Light',\n",
    "        labelFontStyle='bold',\n",
    "        labelPadding=3\n",
    "    )\n",
    "    \n",
    "    return chart"
   ]
  },
  {
   "cell_type": "code",
   "execution_count": null,
   "id": "e79478cc-999c-43f3-8021-f4333a13f9f9",
   "metadata": {},
   "outputs": [],
   "source": [
    "contact_binding_by_site = plot_affinity_by_contact_site(df_binding_effect_concat, config[\"contact_sites\"])\n",
    "contact_binding_by_site.display()\n",
    "if entry_binding_combined_corr_plot is not None:\n",
    "    contact_binding_by_site.save(combined_contact_ranked_bar_output)"
   ]
  },
  {
   "cell_type": "markdown",
   "id": "e1a7d81f-bd72-428d-a358-2c5e7b3841a0",
   "metadata": {
    "editable": true,
    "slideshow": {
     "slide_type": ""
    },
    "tags": []
   },
   "source": [
    "# Make bubble plots for binding in different areas of receptor pocket"
   ]
  },
  {
   "cell_type": "code",
   "execution_count": null,
   "id": "66e007fc-73e6-4bf2-8dd2-2e7a59eb29dc",
   "metadata": {
    "editable": true,
    "slideshow": {
     "slide_type": ""
    },
    "tags": []
   },
   "outputs": [],
   "source": [
    "def make_bubble_binding_region(df):\n",
    "    barrel_ranges = {\n",
    "        \"Stalk\": list(range(70, 148)),\n",
    "        \"Neck\": list(range(148, 166)),\n",
    "        \"Linker\": list(range(166, 178)),\n",
    "        \"Head\": list(range(178, 603)),\n",
    "        \"Receptor Contact\": config[\"contact_sites\"],\n",
    "    }\n",
    "    custom_order = [\"Stalk\", \"Neck\", \"Linker\", \"Head\", \"Receptor Contact\"]\n",
    "    agg_means = []\n",
    "\n",
    "    # For each barrel, filter the site_means dataframe to the sites belonging to that barrel and then store the means\n",
    "    for barrel, sites in barrel_ranges.items():\n",
    "        subset = df[df[\"site\"].isin(sites)]\n",
    "        for _, row in subset.iterrows():\n",
    "            agg_means.append(\n",
    "                {\n",
    "                    \"region\": barrel,\n",
    "                    \"binding_mean\": row[\"binding_mean\"],\n",
    "                    \"site\": row[\"site\"],\n",
    "                    \"mutant\": row[\"mutant\"],\n",
    "                    \"selection\": row[\"selection\"],\n",
    "                }\n",
    "            )\n",
    "        agg_means_df = pd.DataFrame(agg_means)\n",
    "\n",
    "    variant_selector = alt.selection_point(\n",
    "        on=\"mouseover\", empty=False, nearest=True, fields=[\"site\", \"mutant\"], value=1\n",
    "    )\n",
    "\n",
    "    chart = alt.Chart(agg_means_df).mark_point(stroke=\"black\",filled=True).encode(\n",
    "        x=alt.X(\n",
    "            \"region:O\",\n",
    "            sort=custom_order,\n",
    "            title=\"RBP Region\",\n",
    "            axis=alt.Axis(labelAngle=-90),\n",
    "        ),\n",
    "        y=alt.Y(\n",
    "            \"binding_mean\",\n",
    "            title=\"Binding\",\n",
    "            axis=alt.Axis(tickCount=4),\n",
    "        ),\n",
    "        xOffset=\"random:Q\",\n",
    "        tooltip=[\"region\", \"binding_mean\", \"site\", \"mutant\"],\n",
    "        color=alt.condition(\n",
    "            variant_selector, alt.value(\"orange\"), alt.value(\"black\")\n",
    "        ),\n",
    "        opacity=alt.condition(variant_selector, alt.value(1), alt.value(0.1)),\n",
    "        strokeWidth=alt.condition(variant_selector, alt.value(2), alt.value(0)),\n",
    "        size=alt.condition(variant_selector, alt.value(70), alt.value(20)),\n",
    "        column=alt.Column('selection',title=None)\n",
    "    ).transform_calculate(random=\"sqrt(-1*log(random()))*cos(2*PI*random())\"\n",
    "    ).properties(\n",
    "        width=300, \n",
    "        height=300\n",
    "    ).add_params(variant_selector\n",
    "    ).resolve_scale(y='independent'\n",
    "    ).configure_header(\n",
    "        labelFontSize=20,  \n",
    "        labelAngle=0,\n",
    "        labelAlign='center',\n",
    "        labelAnchor='middle',\n",
    "        labelFont='Helvetica Light',\n",
    "        labelFontStyle='bold',\n",
    "        labelPadding=1\n",
    "    )\n",
    "    \n",
    "    return chart\n",
    "\n",
    "\n",
    "entry_region_bubble = make_bubble_binding_region(df_binding_effect_concat)\n",
    "entry_region_bubble.display()\n",
    "if entry_binding_combined_corr_plot is not None:\n",
    "    entry_region_bubble.save(binding_region_bubble_plot)"
   ]
  },
  {
   "cell_type": "markdown",
   "id": "4b55af75-1edd-431b-a82d-72d673873a89",
   "metadata": {},
   "source": [
    "# Plot effects of selected mutants on cell entry"
   ]
  },
  {
   "cell_type": "code",
   "execution_count": null,
   "id": "76962075-8141-461a-a303-06688a09617f",
   "metadata": {},
   "outputs": [],
   "source": [
    "def plot_effects_of_mutants(df):\n",
    "    tmp_df = df.copy()\n",
    "    tmp_df = tmp_df[\n",
    "        #((tmp_df['site'] == 580) & (tmp_df['mutant'] == 'S')) |\n",
    "        ((tmp_df['site'] == 598) & (tmp_df['mutant'] == 'G')) |\n",
    "        #((tmp_df['site'] == 492) & (tmp_df['mutant'] == 'L')) |\n",
    "        ((tmp_df['site'] == 553) & (tmp_df['mutant'] == 'W')) |\n",
    "        #((tmp_df['site'] == 588) & (tmp_df['mutant'] == 'P')) |\n",
    "        #((tmp_df['site'] == 492) & (tmp_df['mutant'] == 'R')) |\n",
    "        #((tmp_df['site'] == 530) & (tmp_df['mutant'] == 'F')) |\n",
    "        #((tmp_df['site'] == 492) & (tmp_df['mutant'] == 'K')) |\n",
    "        #((tmp_df['site'] == 239) & (tmp_df['mutant'] == 'H')) |\n",
    "        ((tmp_df['site'] == 211) & (tmp_df['mutant'] == 'F')) |\n",
    "        ((tmp_df['site'] == 546) & (tmp_df['mutant'] == 'H')) |\n",
    "        ((tmp_df['site'] == 143) & (tmp_df['mutant'] == 'Q')) |\n",
    "        ((tmp_df['site'] == 331) & (tmp_df['mutant'] == 'E')) |\n",
    "        ((tmp_df['site'] == 566) & (tmp_df['mutant'] == 'C')) \n",
    "\n",
    "        #((tmp_df['site'] == 589) & (tmp_df['mutant'] == 'G')) \n",
    "    ]\n",
    "    tmp_df['label'] = (tmp_df['wildtype'].astype(str) + tmp_df['site'].astype(str) + tmp_df['mutant'].astype(str))\n",
    "\n",
    "    tmp_df = tmp_df.sort_values(by='site')\n",
    "    binding_chart = alt.Chart(tmp_df).mark_bar().encode(\n",
    "        alt.X(\"label:N\",title='Mutant',sort=None),\n",
    "        alt.Y(\"binding_mean:Q\",title='Binding score',axis=alt.Axis(tickCount=4)),\n",
    "        xOffset=\"selection:N\",\n",
    "        color=alt.Color(\"selection:N\",title='Receptor selection'),\n",
    "        #row='selection'\n",
    "    )\n",
    "    binding_chart.resolve_scale(y='independent',x='shared').display()\n",
    "plot_effects_of_mutants(df_binding_effect_concat)"
   ]
  },
  {
   "cell_type": "code",
   "execution_count": null,
   "id": "0bcfd4c0-33b8-4e71-bc5d-bba9ba5a2b1c",
   "metadata": {},
   "outputs": [],
   "source": []
  }
 ],
 "metadata": {
  "kernelspec": {
   "display_name": "Python 3 (ipykernel)",
   "language": "python",
   "name": "python3"
  },
  "language_info": {
   "codemirror_mode": {
    "name": "ipython",
    "version": 3
   },
   "file_extension": ".py",
   "mimetype": "text/x-python",
   "name": "python",
   "nbconvert_exporter": "python",
   "pygments_lexer": "ipython3",
   "version": "3.11.8"
  }
 },
 "nbformat": 4,
 "nbformat_minor": 5
}
