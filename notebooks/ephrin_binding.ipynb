{
 "cells": [
  {
   "cell_type": "markdown",
   "id": "a5b23694-d323-489e-89a8-769d60a9feda",
   "metadata": {
    "editable": true,
    "slideshow": {
     "slide_type": ""
    },
    "tags": []
   },
   "source": [
    "## Analyze selection data using soluble Ephrin-B2 or -B3"
   ]
  },
  {
   "cell_type": "code",
   "execution_count": null,
   "id": "e42b6131-9c06-40ad-944c-374772cf2708",
   "metadata": {
    "editable": true,
    "slideshow": {
     "slide_type": ""
    },
    "tags": [
     "parameters"
    ]
   },
   "outputs": [],
   "source": [
    "# this cell is tagged as parameters for `papermill` parameterization\n",
    "#input configs\n",
    "altair_config = None\n",
    "nipah_config = None\n",
    "\n",
    "#input files\n",
    "entropy_file = None\n",
    "func_scores_E2_file = None\n",
    "binding_E2_file = None\n",
    "func_scores_E3_file = None\n",
    "binding_E3_file = None\n",
    "\n",
    "#output files\n",
    "filtered_E2_binding_data = None\n",
    "filtered_E3_binding_data = None\n",
    "filtered_E2_binding_low_effect = None\n",
    "filtered_E3_binding_low_effect = None\n",
    "\n",
    "#output images\n",
    "entry_binding_combined_corr_plot = None\n",
    "entry_binding_combined_corr_plot_agg = None\n",
    "E2_E3_correlation = None\n",
    "E2_E3_correlation_site = None\n",
    "combined_E2_E3_site_corr = None\n",
    "binding_by_site_plot = None\n",
    "entry_binding_corr_heatmap = None\n",
    "binding_corr_heatmap = None"
   ]
  },
  {
   "cell_type": "code",
   "execution_count": null,
   "id": "f83e70ff-0049-4b6b-a852-bc4d9034333b",
   "metadata": {
    "editable": true,
    "slideshow": {
     "slide_type": ""
    },
    "tags": []
   },
   "outputs": [],
   "source": [
    "import math\n",
    "import os\n",
    "import re\n",
    "import altair as alt\n",
    "import numpy as np\n",
    "import pandas as pd\n",
    "import scipy.stats\n",
    "import yaml"
   ]
  },
  {
   "cell_type": "code",
   "execution_count": null,
   "id": "402f8b06-af68-47b0-90ce-d3aeef00a455",
   "metadata": {
    "editable": true,
    "slideshow": {
     "slide_type": ""
    },
    "tags": []
   },
   "outputs": [],
   "source": [
    "# allow more rows for Altair\n",
    "_ = alt.data_transformers.disable_max_rows()\n",
    "\n",
    "if os.getcwd() == '/fh/fast/bloom_j/computational_notebooks/blarsen/2023/Nipah_Malaysia_RBP_DMS/':\n",
    "    pass\n",
    "    print(\"Already in correct directory\")\n",
    "else:\n",
    "    os.chdir(\"/fh/fast/bloom_j/computational_notebooks/blarsen/2023/Nipah_Malaysia_RBP_DMS/\")\n",
    "    print(\"Setup in correct directory\")"
   ]
  },
  {
   "cell_type": "code",
   "execution_count": null,
   "id": "41d0f72c-caa8-4b68-ad84-230a4b133cb0",
   "metadata": {
    "editable": true,
    "slideshow": {
     "slide_type": ""
    },
    "tags": []
   },
   "outputs": [],
   "source": [
    "if nipah_config is None:\n",
    "##hard paths in case don't want to run with snakemake\n",
    "    print('loading hard paths')\n",
    "    altair_config = \"data/custom_analyses_data/theme.py\"\n",
    "    nipah_config = \"nipah_config.yaml\"\n",
    "    entropy_file = 'results/entropy/entropy.csv'\n",
    "    \n",
    "    #input files\n",
    "    func_scores_E2_file = \"results/func_effects/averages/CHO_EFNB2_low_func_effects.csv\"\n",
    "    binding_E2_file = \"results/receptor_affinity/averages/EFNB2_monomeric_mut_effect.csv\"\n",
    "    func_scores_E3_file = \"results/func_effects/averages/CHO_EFNB3_low_func_effects.csv\"\n",
    "    binding_E3_file = \"results/receptor_affinity/averages/EFNB3_dimeric_mut_effect.csv\"\n",
    "\n",
    "    filtered_E2_binding_data=\"results/filtered_data/E2_binding_filtered.csv\"\n",
    "    filtered_E3_binding_data=\"results/filtered_data/E3_binding_filtered.csv\"\n",
    "    filtered_E2_binding_low_effect=\"results/filtered_data/E2_binding_low_effect_filter.csv\"\n",
    "    filtered_E3_binding_low_effect=\"results/filtered_data/E3_binding_low_effect_filter.csv\""
   ]
  },
  {
   "cell_type": "code",
   "execution_count": null,
   "id": "a4598039-b355-4d7e-b8d6-6e8d78493f64",
   "metadata": {
    "editable": true,
    "slideshow": {
     "slide_type": ""
    },
    "tags": []
   },
   "outputs": [],
   "source": [
    "print(filtered_E2_binding_data)"
   ]
  },
  {
   "cell_type": "markdown",
   "id": "f55001f2-a30a-48c3-a443-684958ee69ca",
   "metadata": {
    "editable": true,
    "slideshow": {
     "slide_type": ""
    },
    "tags": []
   },
   "source": [
    "### Run config files to setup altair theme and config variables"
   ]
  },
  {
   "cell_type": "code",
   "execution_count": null,
   "id": "cb74a233-ce16-46b2-87aa-22d2435efb54",
   "metadata": {
    "editable": true,
    "slideshow": {
     "slide_type": ""
    },
    "tags": []
   },
   "outputs": [],
   "source": [
    "if altair_config:\n",
    "    with open(altair_config, 'r') as file:\n",
    "        exec(file.read())\n",
    "\n",
    "with open(nipah_config) as f:\n",
    "    config = yaml.safe_load(f)"
   ]
  },
  {
   "cell_type": "markdown",
   "id": "9c54aa9a-59b3-4525-81a2-11b5b1bd84a2",
   "metadata": {
    "editable": true,
    "slideshow": {
     "slide_type": ""
    },
    "tags": []
   },
   "source": [
    "### Make the E2/E3 dataframes, filter separately, then merge"
   ]
  },
  {
   "cell_type": "code",
   "execution_count": null,
   "id": "6f44b62f-a44e-439e-a443-c7948c628344",
   "metadata": {
    "editable": true,
    "slideshow": {
     "slide_type": ""
    },
    "tags": []
   },
   "outputs": [],
   "source": [
    "#import binding and entry data\n",
    "e2 = pd.read_csv(binding_E2_file)\n",
    "e2_func = pd.read_csv(func_scores_E2_file)\n",
    "e3 = pd.read_csv(binding_E3_file)\n",
    "e3_func = pd.read_csv(func_scores_E3_file)"
   ]
  },
  {
   "cell_type": "code",
   "execution_count": null,
   "id": "5d560dff-7ce5-4fad-8df1-23470af571ce",
   "metadata": {
    "editable": true,
    "slideshow": {
     "slide_type": ""
    },
    "tags": []
   },
   "outputs": [],
   "source": [
    "def merge_func_binding_dfs(func,binding,name):\n",
    "    df_int = pd.merge(\n",
    "        binding,\n",
    "        func,\n",
    "        on=['site','mutant','wildtype'],\n",
    "        suffixes=['_binding','_cell_entry'],\n",
    "        validate='one_to_one',\n",
    "        how='outer'\n",
    "    ).round(3)\n",
    "    df = df_int.rename(columns={'Ephrin binding_mean':'binding_mean','Ephrin binding_std':'binding_std','Ephrin binding_median':'binding_median'})\n",
    "\n",
    "    # Only save relevant columns\n",
    "    df = df[['site','wildtype','mutant','binding_median','binding_std','times_seen_binding','effect','effect_std','times_seen_cell_entry','frac_models']]\n",
    "    \n",
    "    def filter_binding_data(df):\n",
    "        df_filter = df[\n",
    "            (df['mutant'] != '*') &\n",
    "            (df['mutant'] != '-') &\n",
    "            (df['site'] != 603) &\n",
    "            # Filter cell entry parameters\n",
    "            (df['effect'] >= config['min_func_effect_for_binding']) &\n",
    "            (df['times_seen_cell_entry'] >= config['func_times_seen_cutoff']) &\n",
    "            (df['effect_std'] <= config['func_std_cutoff']) &\n",
    "            # Filter binding parameters\n",
    "            (df['times_seen_binding'] >= config['min_times_seen_binding']) &\n",
    "            (df['binding_std'] <= config['max_binding_std']) &\n",
    "            (df['frac_models'] >= config['frac_models'])\n",
    "        ]\n",
    "        return df_filter\n",
    "\n",
    "    df_filter = filter_binding_data(df)\n",
    "    \n",
    "    #For pulling out low effect mutants for heatmaps later. Find mutants below func effect cutoff, but still have ok times_seen and func_std.\n",
    "    def store_filtered_info(df):\n",
    "        df_low_filter = df[\n",
    "            (df['mutant'] != '*') &\n",
    "            (df['mutant'] != '-') &\n",
    "            (df['site'] != 603) &\n",
    "            (df['effect'] < config['min_func_effect_for_binding']) &\n",
    "            (df['times_seen_cell_entry'] >= config['func_times_seen_cutoff']) &\n",
    "            (df['effect_std'] <= config['func_std_cutoff']) \n",
    "        ]\n",
    "        return df_low_filter\n",
    "    \n",
    "    df_low_effect_filter = store_filtered_info(df)\n",
    "    \n",
    "    if name == 'EFNB2':\n",
    "        print(name)\n",
    "        df_filter.to_csv(filtered_E2_binding_data,index=False)\n",
    "        df_low_effect_filter.to_csv(filtered_E2_binding_low_effect,index=False)\n",
    "    else:\n",
    "        df_filter.to_csv(filtered_E3_binding_data,index=False)\n",
    "        df_low_effect_filter.to_csv(filtered_E3_binding_low_effect,index=False)\n",
    "    \n",
    "    return df_filter,df_low_effect_filter\n",
    "\n",
    "#Call filtering function\n",
    "df_E2_filter,df_E2_filter_missing = merge_func_binding_dfs(e2_func,e2,'EFNB2')\n",
    "df_E3_filter,df_E3_filter_missing = merge_func_binding_dfs(e3_func,e3,'EFNB3')\n",
    "\n",
    "#Now that they are filtered, merge EFNB2 and EFNB3\n",
    "df_binding_effect_merge = pd.merge(\n",
    "    df_E2_filter,\n",
    "    df_E3_filter,\n",
    "    on=['site','wildtype','mutant'],\n",
    "    suffixes=['_E2','_E3'],\n",
    "    how='outer'\n",
    ")\n",
    "\n",
    "#display stats\n",
    "display(df_binding_effect_merge.describe().round(3))\n",
    "\n",
    "# Make a concat df of E2/E3 data for plotting later\n",
    "df_E2_filter['selection'] = 'EFNB2'\n",
    "df_E3_filter['selection'] = 'EFNB3'\n",
    "df_binding_effect_concat = pd.concat([df_E2_filter,df_E3_filter])"
   ]
  },
  {
   "cell_type": "markdown",
   "id": "afb14ff3-2c64-470d-a4a6-b9b276178c60",
   "metadata": {
    "editable": true,
    "slideshow": {
     "slide_type": ""
    },
    "tags": []
   },
   "source": [
    "### Make nice interactive plot for correlation between binding and entry for EFNB2 and EFNB3"
   ]
  },
  {
   "cell_type": "code",
   "execution_count": null,
   "id": "006e9c89-037b-49d9-99e8-27de0f45199c",
   "metadata": {
    "editable": true,
    "slideshow": {
     "slide_type": ""
    },
    "tags": []
   },
   "outputs": [],
   "source": [
    "def plot_corr_binding_entry_updated(df,flag):\n",
    "    variant_selector = alt.selection_point(\n",
    "        on=\"mouseover\",\n",
    "        empty=False,\n",
    "        fields=[\"site\",\"mutant\"],\n",
    "        value=0\n",
    "    )  \n",
    "    variant_selector_agg = alt.selection_point(\n",
    "        on=\"mouseover\",\n",
    "        empty=False,\n",
    "        fields=[\"site\"],\n",
    "        value=0\n",
    "    )  \n",
    "    slider = alt.binding_range(min=2, max=10, step=1, name=\"times seen\")\n",
    "    selector = alt.param(name=\"SelectorName\", value=2, bind=slider)\n",
    "\n",
    "    empty_chart = []\n",
    "    \n",
    "    for cell in list(df['selection'].unique()):\n",
    "        tmp_df = df[df['selection'] == cell]\n",
    "        if flag == True:\n",
    "            agg_df = tmp_df.groupby('site')[['binding_median','effect']].sum().reset_index()\n",
    "            chart = alt.Chart(agg_df).mark_point(stroke='black',filled=True).encode(\n",
    "                x=alt.X('effect', title=f'Median {cell} Cell Entry', axis=alt.Axis(grid=True)),\n",
    "                y=alt.Y('binding_median', title=f'Summed {cell} Binding', axis=alt.Axis(grid=True)),\n",
    "                opacity=alt.condition(variant_selector_agg, alt.value(1), alt.value(0.2)),\n",
    "                size=alt.condition(variant_selector_agg,alt.value(100),alt.value(50)),\n",
    "                strokeWidth=alt.condition(variant_selector_agg,alt.value(1),alt.value(0)),\n",
    "                color=alt.condition(variant_selector_agg,alt.value('orange'),alt.value('black')),\n",
    "                tooltip=['site', 'binding_median','effect'],\n",
    "            ).properties(\n",
    "                width=200,\n",
    "                height=200,\n",
    "            ).add_params(variant_selector_agg)\n",
    "            \n",
    "            empty_chart.append(chart)\n",
    "        \n",
    "        \n",
    "        else:\n",
    "            chart = alt.Chart(tmp_df).mark_point(stroke='black',filled=True).encode(\n",
    "                x=alt.X('effect', title=f'{cell} Cell Entry', axis=alt.Axis(grid=True)),\n",
    "                y=alt.Y('binding_median', title=f'{cell} Binding', axis=alt.Axis(grid=True)),\n",
    "                opacity=alt.condition(variant_selector, alt.value(1), alt.value(0.1)),\n",
    "                size=alt.condition(variant_selector,alt.value(50),alt.value(20)),\n",
    "                strokeWidth=alt.condition(variant_selector,alt.value(1),alt.value(0)),\n",
    "                color=alt.condition(variant_selector,alt.value('orange'),alt.value('black')),\n",
    "                tooltip=['site', 'wildtype', 'mutant','binding_median','times_seen_binding','effect'],\n",
    "            ).properties(\n",
    "                width=200,\n",
    "                height=200,\n",
    "            ).add_params(variant_selector,selector).transform_filter(\n",
    "                alt.datum.times_seen_binding >= selector\n",
    "            )\n",
    "            empty_chart.append(chart)\n",
    "    \n",
    "    combined_chart = alt.hconcat(*empty_chart,title=alt.Title('Correlation between binding and entry'))\n",
    "    return combined_chart\n",
    "\n",
    "entry_binding_corr_plot = plot_corr_binding_entry_updated(df_binding_effect_concat,False)\n",
    "entry_binding_corr_plot.display()\n",
    "entry_binding_corr_plot.save(entry_binding_combined_corr_plot)\n",
    "\n",
    "entry_binding_corr_plot_agg = plot_corr_binding_entry_updated(df_binding_effect_concat,True)\n",
    "entry_binding_corr_plot_agg.display()\n",
    "entry_binding_corr_plot_agg.save(entry_binding_combined_corr_plot_agg)"
   ]
  },
  {
   "cell_type": "code",
   "execution_count": null,
   "id": "5b0ca4ac-fd20-43d9-bf02-50ce94a94a3e",
   "metadata": {
    "editable": true,
    "slideshow": {
     "slide_type": ""
    },
    "tags": []
   },
   "outputs": [],
   "source": [
    "def plot_entry_binding_corr_heatmap(df):\n",
    "    empty_chart = []\n",
    "    \n",
    "    for cell in list(df['selection'].unique()):\n",
    "        tmp_df = df[df['selection'] == cell]\n",
    "        chart = alt.Chart(tmp_df,title=f'{cell}').mark_rect().encode(\n",
    "            x=alt.X('effect',title='Cell Entry',axis=alt.Axis(values=[-2,-1,0,1])).bin(maxbins=60),\n",
    "            y=alt.Y('binding_median',title='Binding',axis=alt.Axis(values=[-4,-2,0,2])).bin(maxbins=60),\n",
    "            color=alt.Color('count()',title='Count').scale(scheme='greenblue'),\n",
    "            #tooltip=['effect','binding_median']\n",
    "        )\n",
    "        empty_chart.append(chart)\n",
    "    \n",
    "    combined_chart = alt.hconcat(*empty_chart,title=alt.Title('Correlation between binding and entry')).resolve_scale(y='shared',x='shared',color='shared')\n",
    "    return combined_chart\n",
    "\n",
    "entry_binding_corr_heat = plot_entry_binding_corr_heatmap(df_binding_effect_concat)\n",
    "entry_binding_corr_heat.display()\n",
    "entry_binding_corr_heat.save(entry_binding_corr_heatmap)"
   ]
  },
  {
   "cell_type": "code",
   "execution_count": null,
   "id": "a64fa8c9-27fd-46fd-812a-7656645e55d1",
   "metadata": {
    "editable": true,
    "slideshow": {
     "slide_type": ""
    },
    "tags": []
   },
   "outputs": [],
   "source": [
    "def overall_stats(df,effect,name):\n",
    "    #Find quantiles\n",
    "    quantile_2 = df['binding_median'].quantile(.02)\n",
    "    quantile_98 = df['binding_median'].quantile(.98)\n",
    "    print(f'The 2% quantile for {name} is: {quantile_2}')\n",
    "    print(f'The 98% quantile for {name} is: {quantile_98}')\n",
    "\n",
    "    #Now group sites and find intolerant sites \n",
    "    filtered_df = df.groupby('site').filter(lambda group: (group[effect] <-0.25).all())\n",
    "    unique = filtered_df['site'].unique()\n",
    "    # Convert unique to a Pandas Series\n",
    "    unique_series = pd.Series(unique)\n",
    "    #print(unique_series)\n",
    "    # Find the common elements\n",
    "    unique_contact_bool = unique_series.isin(config['contact_sites'])\n",
    "    #print(unique_contact_bool)\n",
    "    # Filter and get the common elements\n",
    "    common_elements = unique_series[unique_contact_bool]\n",
    "\n",
    "    # Print the common elements\n",
    "    print(f'Here are the contact sites that are conserved: {common_elements}')\n",
    "    \n",
    "    print(f'There are {len(unique)} sites with all negative binding score mutants for {name}')\n",
    "    print(f'These are the sites for {name} with all negative binding score mutants: {list(unique)}')\n",
    "\n",
    "    #Now find sites with low and high binding (median)\n",
    "    median_df = df.groupby('site')['binding_median'].median().reset_index().sort_values(by='binding_median')\n",
    "    print(f'For {name}, these are the sites with lowest median binding scores: {median_df.head(5)}')\n",
    "    median_df = df.groupby('site')['binding_median'].median().reset_index().sort_values(by='binding_median',ascending=False)\n",
    "    print(f'For {name}, these are the sites with highest median binding scores: {median_df.head(5)}')\n",
    "    \n",
    "    #Now calculate mutant number\n",
    "    total_mutants = df.shape[0]\n",
    "    upper_cutoff = df[df[effect] > 1].sort_values(by='binding_median',ascending=False)\n",
    "    median_upper = upper_cutoff['effect'].median()\n",
    "    print(f'The median entry score for top binders was: {median_upper}')\n",
    "    \n",
    "    mutants_above_cutoff_tolerated = upper_cutoff[upper_cutoff['effect'] > 0]\n",
    "    mutants_above_cutoff_tolerated = mutants_above_cutoff_tolerated[['site','effect','binding_median','wildtype','mutant']]\n",
    "    print(f'The mutants with positive entry scores and good binding are: {mutants_above_cutoff_tolerated.head(5)}')\n",
    "    \n",
    "    lower_cutoff = df[df[effect] < -1]\n",
    "    \n",
    "    print(f'For {name}, there are a total of : {total_mutants} binding mutants')\n",
    "    print(f'For {name}, there are {upper_cutoff.shape[0]} mutants above cutoff, and {mutants_above_cutoff_tolerated.shape[0]} that have good entry scores')\n",
    "    print(f'For {name}, there are {lower_cutoff.shape[0]} mutants below cutoff')\n",
    " \n",
    "    total_sites = df['site'].unique().shape[0]\n",
    "    \n",
    "    print(f'The total number of sites are: {total_sites}')\n",
    "\n",
    "\n",
    "overall_stats(df_E2_filter,'binding_median','E2')\n",
    "overall_stats(df_E3_filter,'binding_median','E3')"
   ]
  },
  {
   "cell_type": "markdown",
   "id": "32817590-fc6a-442d-b3c6-e8c01c69a314",
   "metadata": {
    "editable": true,
    "slideshow": {
     "slide_type": ""
    },
    "tags": []
   },
   "source": [
    "### Find sites with opposite effects on binding"
   ]
  },
  {
   "cell_type": "code",
   "execution_count": null,
   "id": "5a3f42fc-b361-41c0-bcc2-3c0db60c6d01",
   "metadata": {
    "editable": true,
    "slideshow": {
     "slide_type": ""
    },
    "tags": []
   },
   "outputs": [],
   "source": [
    "#find sites that are different\n",
    "def find_biggest_differences(df):\n",
    "    \n",
    "    df = df[df['site'].isin(config['contact_sites'])]\n",
    "    efnb2_good_efnb3_bad = df[\n",
    "        (df['binding_median_E2'] > 0.1) &\n",
    "        (df['binding_median_E3'] < -0.1)\n",
    "    ].sort_values(by='binding_median_E2',ascending=False)\n",
    "    display(efnb2_good_efnb3_bad)\n",
    "    efnb2_bad_efnb3_good = df[\n",
    "        (df['binding_median_E2'] < -0.1) &\n",
    "        (df['binding_median_E3'] > 0.1)\n",
    "    ].sort_values(by='binding_median_E3',ascending=False)\n",
    "    display(efnb2_bad_efnb3_good)\n",
    "\n",
    "\n",
    "find_biggest_differences(df_binding_effect_merge)"
   ]
  },
  {
   "cell_type": "markdown",
   "id": "99534d2f-74bf-4e39-b787-4f0f11cfa280",
   "metadata": {
    "editable": true,
    "slideshow": {
     "slide_type": ""
    },
    "tags": []
   },
   "source": [
    "### Find correlations between EFNB2 and EFNB3 binding"
   ]
  },
  {
   "cell_type": "code",
   "execution_count": null,
   "id": "5bae5583-32fb-4010-b578-05efb2eeb5dd",
   "metadata": {},
   "outputs": [],
   "source": [
    "def plot_entry_binding_corr(df):\n",
    "    chart = alt.Chart(df,title='Correlation Between Ephrin Binding Scores').mark_rect().encode(\n",
    "        x=alt.X('binding_median_E2',title='EFNB2 binding',axis=alt.Axis(values=[-5,0,2])).bin(maxbins=40),\n",
    "        y=alt.Y('binding_median_E3',title='EFNB3 binding',axis=alt.Axis(values=[-2,0,2])).bin(maxbins=40),\n",
    "        color=alt.Color('count()',title='Count').scale(scheme='greenblue'),\n",
    "    ).properties(\n",
    "        height=200,\n",
    "        width=200,\n",
    "    )\n",
    "    return chart\n",
    "\n",
    "entry_binding_corr_heatmap_1 = plot_entry_binding_corr(df_binding_effect_merge)\n",
    "entry_binding_corr_heatmap_1.display()\n",
    "entry_binding_corr_heatmap_1.save(binding_corr_heatmap)"
   ]
  },
  {
   "cell_type": "code",
   "execution_count": null,
   "id": "14175a0a-2851-4aaa-ac96-4939cb304243",
   "metadata": {
    "editable": true,
    "slideshow": {
     "slide_type": ""
    },
    "tags": []
   },
   "outputs": [],
   "source": [
    "def plot_affinity_solid(df):\n",
    "    slider = alt.binding_range(min=1, max=20, step=1, name=\"times_seen\")\n",
    "    selector = alt.param(name=\"SelectorName\", value=1, bind=slider)\n",
    "    df = df.dropna()\n",
    "    # calculate r value\n",
    "    slope, intercept, r_value, p_value, std_err = scipy.stats.linregress(df['binding_median_E2'], df['binding_median_E3'])\n",
    "    r_value = float(r_value)\n",
    "    # make chart\n",
    "    chart = alt.Chart(df,title=alt.Title('Correlation between Mutant Binding Scores',subtitle=f'r={r_value:.2f}')).mark_point(color='black',size=30, opacity=0.2,filled=True).encode(\n",
    "        x=alt.X('binding_median_E2', title=('EFNB2 Binding')),\n",
    "        y=alt.Y('binding_median_E3', title=('EFNB3 Binding')),\n",
    "        tooltip=['site', 'wildtype','mutant','binding_median_E2','binding_median_E3','effect_E2','effect_E3'],\n",
    "    ).properties(\n",
    "        width=200, \n",
    "        height=200\n",
    "    ).add_params(selector).transform_filter(\n",
    "            (alt.datum.times_seen_binding_E2 >= selector)\n",
    "    )\n",
    "    min = int(df['binding_median_E2'].min())\n",
    "    max = int(df['binding_median_E3'].max())\n",
    "    text = alt.Chart({'values':[{'x': min, 'y': max, 'text': f'r = {r_value:.2f}'}]}).mark_text(\n",
    "        align='left', baseline='top', dx=-10, dy=-20).encode(\n",
    "            x=alt.X('x:Q'),\n",
    "            y=alt.Y('y:Q'),\n",
    "            text='text:N'\n",
    "        )\n",
    "    chart_and_text = chart\n",
    "    return chart_and_text\n",
    "\n",
    "E2_E3_corr = plot_affinity_solid(df_binding_effect_merge)\n",
    "E2_E3_corr.display()\n",
    "E2_E3_corr.save(E2_E3_correlation)"
   ]
  },
  {
   "cell_type": "markdown",
   "id": "05e2dc0a-76b3-487e-8023-f68be6ef6ca9",
   "metadata": {
    "editable": true,
    "slideshow": {
     "slide_type": ""
    },
    "tags": []
   },
   "source": [
    "### Plot correlations between summary statistics for each site"
   ]
  },
  {
   "cell_type": "code",
   "execution_count": null,
   "id": "8d82d3ee-79bb-40ee-8ef5-63280552e471",
   "metadata": {
    "editable": true,
    "slideshow": {
     "slide_type": ""
    },
    "tags": []
   },
   "outputs": [],
   "source": [
    "def plot_affinity_solid_mean(df):\n",
    "    df = df.dropna()\n",
    "    means = df.groupby('site').agg({\n",
    "            'effect_E2': 'median',\n",
    "            'effect_E3': 'median',\n",
    "            'binding_median_E2': 'median',\n",
    "            'binding_median_E3': 'median',\n",
    "            'wildtype': 'first'\n",
    "        }).reset_index()\n",
    "    slope, intercept, r_value, p_value, std_err = scipy.stats.linregress(means['binding_median_E2'], means['binding_median_E3'])\n",
    "    r_value = float(r_value)\n",
    "    chart = alt.Chart(means,title=alt.Title('Correlation between Aggregate Mutant Binding Scores',subtitle=f'r={r_value:.2f}')).mark_point(size=50, color='black', opacity=0.3,filled=True).encode(\n",
    "            x=alt.X('binding_median_E2', title=('Median Ephrin-B2 Binding'), axis=alt.Axis(tickCount=3)),\n",
    "            y=alt.Y('binding_median_E3', title=('Median Ephrin-B3 Binding'), axis=alt.Axis(tickCount=3)),\n",
    "            tooltip=['site', 'wildtype','binding_median_E2','binding_median_E3','effect_E2','effect_E3'],\n",
    "        ).properties(\n",
    "            width=200, \n",
    "            height=200\n",
    "    )\n",
    "    text = alt.Chart({'values':[{'x': -3.5, 'y': 0.5, 'text': f'r = {r_value:.2f}'}]}).mark_text(\n",
    "        align='left', baseline='top', dx=0, dy=-10).encode(\n",
    "            x=alt.X('x:Q'),\n",
    "            y=alt.Y('y:Q'),\n",
    "            text='text:N'\n",
    "        )\n",
    "    chart_and_text = chart #+ text\n",
    "    return chart_and_text#.display()\n",
    "\n",
    "E2_E3_site_corr = plot_affinity_solid_mean(df_binding_effect_merge)\n",
    "E2_E3_site_corr.display()\n",
    "E2_E3_site_corr.save(E2_E3_correlation_site)\n",
    "\n",
    "(E2_E3_site_corr | E2_E3_corr).save(combined_E2_E3_site_corr)"
   ]
  },
  {
   "cell_type": "markdown",
   "id": "805e432b-d901-4cad-b305-0346e0ca5447",
   "metadata": {
    "editable": true,
    "slideshow": {
     "slide_type": ""
    },
    "tags": []
   },
   "source": [
    "### Make plot showing binding by site (median)"
   ]
  },
  {
   "cell_type": "code",
   "execution_count": null,
   "id": "46cf36ea-e278-4c08-8200-6f3822117719",
   "metadata": {
    "editable": true,
    "slideshow": {
     "slide_type": ""
    },
    "tags": []
   },
   "outputs": [],
   "source": [
    "def plot_affinity_by_site_median(df):\n",
    "    variant_selector = alt.selection_point(\n",
    "        on=\"mouseover\",\n",
    "        empty=False,\n",
    "        fields=[\"site\"],\n",
    "        value=0\n",
    "    )  \n",
    "    empty_charts = []\n",
    "    for selection in ['binding_median_E2','binding_median_E3']:\n",
    "        if selection == 'binding_median_E2':\n",
    "            name = 'EFNB2 Binding'\n",
    "        else:\n",
    "            name = 'EFNB3 Binding'\n",
    "        mean = df.groupby('site')[selection].sum().reset_index()\n",
    "        chart = alt.Chart(mean).mark_point(size=60, color='black', stroke='black',filled=True).encode(\n",
    "            x=alt.X('site', title=('Site'), axis=alt.Axis(grid=True, tickCount=4),scale=alt.Scale(domain=[70,602])),\n",
    "            y=alt.Y(selection, title=(name), axis=alt.Axis(grid=True, tickCount=4)),\n",
    "            tooltip=['site'],\n",
    "            color=alt.condition(variant_selector, alt.value('orange'), alt.value('black')),\n",
    "            opacity=alt.condition(variant_selector, alt.value(1), alt.value(0.4)),\n",
    "            strokeWidth=alt.condition(variant_selector,alt.value(2),alt.value(0))\n",
    "        ).properties(\n",
    "            width=500, \n",
    "            height=100\n",
    "        ).add_params(variant_selector)\n",
    "        empty_charts.append(chart)\n",
    "    combined_chart = alt.vconcat(*empty_charts, spacing=1,title='Summed Binding by Site')\n",
    "    return combined_chart\n",
    "\n",
    "\n",
    "\n",
    "binding_by_site = plot_affinity_by_site_median(df_binding_effect_merge)\n",
    "binding_by_site.display()\n",
    "binding_by_site.save(binding_by_site_plot)"
   ]
  },
  {
   "cell_type": "markdown",
   "id": "e1a7d81f-bd72-428d-a358-2c5e7b3841a0",
   "metadata": {
    "editable": true,
    "slideshow": {
     "slide_type": ""
    },
    "tags": []
   },
   "source": [
    "### Make bubble plots for binding in different areas of receptor pocket"
   ]
  },
  {
   "cell_type": "code",
   "execution_count": null,
   "id": "647ad123-419c-4037-a42e-773a29e421bb",
   "metadata": {
    "editable": true,
    "slideshow": {
     "slide_type": ""
    },
    "tags": []
   },
   "outputs": [],
   "source": [
    "def make_boxplot_binding_region(df,title):# Create a box plot using Altair for aggregated means\n",
    "    barrel_ranges = {\n",
    "    'Hydrophobic': config['hydrophobic'],\n",
    "    'Salt Bridges': config['salt_bridges'],\n",
    "    'Hydrogen Bonds': config['h_bond_total'],\n",
    "    'Contact': config['contact_sites'],\n",
    "    'Overall': list(range(71,602)),\n",
    "    }\n",
    "    \n",
    "    mean_df = df.groupby('site')[['binding_median']].median().reset_index()\n",
    "    custom_order = ['Hydrophobic','Salt Bridges','Hydrogen Bonds','Contact','Overall']\n",
    "    agg_means = []\n",
    "    \n",
    "    # For each barrel, filter the site_means dataframe to the sites belonging to that barrel and then store the means\n",
    "    for barrel, sites in barrel_ranges.items():\n",
    "        subset = mean_df[mean_df['site'].isin(sites)]\n",
    "        for _, row in subset.iterrows():\n",
    "            agg_means.append({'barrel': barrel, 'effect': row['binding_median'],'site':row['site']})\n",
    "        agg_means_df = pd.DataFrame(agg_means)\n",
    "    chart = alt.Chart(agg_means_df).mark_point(filled=True,size=70,opacity=0.4,color='black').encode(\n",
    "                x=alt.X('barrel:O', sort=custom_order,title=None,axis=alt.Axis(labelAngle=-90)),\n",
    "                y=alt.Y('effect',title=f'Median {title} Binding',axis=alt.Axis(grid=True,tickCount=4)),\n",
    "                xOffset='random:Q',\n",
    "                #color = alt.Color('barrel').legend(None),\n",
    "                tooltip=['barrel', 'effect','site'],\n",
    "            ).transform_calculate(\n",
    "                random=\"sqrt(-1*log(random()))*cos(2*PI*random())\"\n",
    "        \n",
    "            ).properties(\n",
    "                height=alt.Step(20),\n",
    "                width=alt.Step(25)\n",
    "            )\n",
    "    \n",
    "    return chart.display()\n",
    "\n",
    "make_boxplot_binding_region(df_E2_filter,'EFNB2')\n",
    "make_boxplot_binding_region(df_E3_filter,'EFNB3')"
   ]
  },
  {
   "cell_type": "markdown",
   "id": "fed35fac-eb93-44ef-8b63-0c6eadb49df5",
   "metadata": {
    "editable": true,
    "slideshow": {
     "slide_type": ""
    },
    "tags": []
   },
   "source": [
    "### Plot histogram"
   ]
  },
  {
   "cell_type": "code",
   "execution_count": null,
   "id": "1503b384-fc20-4287-ad26-0d823ae505f7",
   "metadata": {
    "editable": true,
    "slideshow": {
     "slide_type": ""
    },
    "tags": []
   },
   "outputs": [],
   "source": [
    "def effect_histogram(df):\n",
    "    colors = {'E2': '#1f4e79', 'E3': '#ff7f0e'}\n",
    "    all_charts = []\n",
    "    for effect in ['E2','E3']:\n",
    "        func_effect_container = []\n",
    "        for func_effect in [-2]:# Melt the dataframe for the specific columns\n",
    "            df = df[\n",
    "                (df[f'effect_{effect}'] > func_effect)\n",
    "            ]\n",
    "            color = colors[effect]    \n",
    "            df_melted = df.melt(value_vars=['binding_median_E2', 'binding_median_E3'], var_name='Effect', value_name='Value')\n",
    "        \n",
    "            # Histogram for 'effect_E2'\n",
    "            histogram = alt.Chart(df_melted[df_melted['Effect'] == f'binding_median_{effect}']).mark_bar(opacity=1,color=color).encode(\n",
    "                x=alt.X('Value', bin=alt.Bin(step=0.1), title=f'Binding {effect}',axis=alt.Axis(tickCount=4,values=[3,1,0,-1,-5]),scale=alt.Scale(domain=[-6,3])),\n",
    "                y=alt.Y('count()',stack=None,title='Count'),\n",
    "                #color=alt.Color('red'),\n",
    "                tooltip=['Effect', 'count()']\n",
    "            ).properties(\n",
    "                width=150, \n",
    "                height=alt.Step(10)\n",
    "            )\n",
    "            func_effect_container.append(histogram)\n",
    "        combined_effect_chart = alt.hconcat(*func_effect_container).resolve_scale(y='shared', x='shared', color='independent')\n",
    "        all_charts.append(combined_effect_chart)\n",
    "    final_combined_chart = alt.vconcat(*all_charts).resolve_scale(y='independent', x='independent', color='independent')\n",
    "    return final_combined_chart.display()\n",
    "    \n",
    "effect_histogram(df_binding_effect_merge)\n",
    "#effect_histogram(df_affinity_filter_merge,'#ff7f0e','binding_mean_E3')"
   ]
  },
  {
   "cell_type": "code",
   "execution_count": null,
   "id": "8fe7823b-c37b-480d-b4e5-70a8770c5777",
   "metadata": {},
   "outputs": [],
   "source": []
  }
 ],
 "metadata": {
  "kernelspec": {
   "display_name": "Python 3 (ipykernel)",
   "language": "python",
   "name": "python3"
  },
  "language_info": {
   "codemirror_mode": {
    "name": "ipython",
    "version": 3
   },
   "file_extension": ".py",
   "mimetype": "text/x-python",
   "name": "python",
   "nbconvert_exporter": "python",
   "pygments_lexer": "ipython3",
   "version": "3.11.7"
  }
 },
 "nbformat": 4,
 "nbformat_minor": 5
}
