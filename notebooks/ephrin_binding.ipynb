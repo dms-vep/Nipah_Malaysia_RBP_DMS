{
 "cells": [
  {
   "cell_type": "markdown",
   "id": "a5b23694-d323-489e-89a8-769d60a9feda",
   "metadata": {
    "editable": true,
    "slideshow": {
     "slide_type": ""
    },
    "tags": []
   },
   "source": [
    "# ephrin_binding.ipynb\n",
    "Analyze receptor selection data using soluble bat Ephrin-B2 or -B3\n",
    "- Written by Brendan Larsen"
   ]
  },
  {
   "cell_type": "code",
   "execution_count": null,
   "id": "e42b6131-9c06-40ad-944c-374772cf2708",
   "metadata": {
    "editable": true,
    "slideshow": {
     "slide_type": ""
    },
    "tags": [
     "parameters"
    ]
   },
   "outputs": [],
   "source": [
    "# this cell is tagged as parameters for `papermill` parameterization\n",
    "# input configs\n",
    "altair_config = None\n",
    "nipah_config = None\n",
    "\n",
    "# input files\n",
    "binding_E2_file = None\n",
    "binding_E3_file = None\n",
    "\n",
    "# output images\n",
    "entry_binding_combined_corr_plot = None\n",
    "entry_binding_combined_corr_plot_agg = None\n",
    "E2_E3_correlation = None\n",
    "E2_E3_correlation_site = None\n",
    "binding_by_site_plot = None\n",
    "entry_binding_corr_heatmap = None\n",
    "binding_corr_heatmap = None\n",
    "binding_region_bubble_plot = None\n",
    "combined_contact_ranked_bar_output = None"
   ]
  },
  {
   "cell_type": "code",
   "execution_count": null,
   "id": "f83e70ff-0049-4b6b-a852-bc4d9034333b",
   "metadata": {
    "editable": true,
    "slideshow": {
     "slide_type": ""
    },
    "tags": []
   },
   "outputs": [],
   "source": [
    "import math\n",
    "import os\n",
    "import re\n",
    "import altair as alt\n",
    "import numpy as np\n",
    "import pandas as pd\n",
    "import scipy.stats\n",
    "import yaml"
   ]
  },
  {
   "cell_type": "code",
   "execution_count": null,
   "id": "402f8b06-af68-47b0-90ce-d3aeef00a455",
   "metadata": {
    "editable": true,
    "slideshow": {
     "slide_type": ""
    },
    "tags": []
   },
   "outputs": [],
   "source": [
    "# allow more rows for Altair\n",
    "_ = alt.data_transformers.disable_max_rows()\n",
    "\n",
    "if (\n",
    "    os.getcwd()\n",
    "    == \"/fh/fast/bloom_j/computational_notebooks/blarsen/2023/Nipah_Malaysia_RBP_DMS/\"\n",
    "):\n",
    "    pass\n",
    "    print(\"Already in correct directory\")\n",
    "else:\n",
    "    os.chdir(\n",
    "        \"/fh/fast/bloom_j/computational_notebooks/blarsen/2023/Nipah_Malaysia_RBP_DMS/\"\n",
    "    )\n",
    "    print(\"Setup in correct directory\")"
   ]
  },
  {
   "cell_type": "markdown",
   "id": "abdc58fb-cd4d-444e-b804-0703e864a240",
   "metadata": {},
   "source": [
    "### hard paths for running in interactive mode"
   ]
  },
  {
   "cell_type": "code",
   "execution_count": null,
   "id": "41d0f72c-caa8-4b68-ad84-230a4b133cb0",
   "metadata": {
    "editable": true,
    "slideshow": {
     "slide_type": ""
    },
    "tags": []
   },
   "outputs": [],
   "source": [
    "if nipah_config is None:\n",
    "    ##hard paths in case don't want to run with snakemake\n",
    "    print(\"loading hard paths\")\n",
    "    altair_config = \"data/custom_analyses_data/theme.py\"\n",
    "    nipah_config = \"nipah_config.yaml\"\n",
    "\n",
    "    # input files\n",
    "    binding_E2_file = \"results/filtered_data/binding/e2_binding_filtered.csv\"\n",
    "    binding_E3_file = \"results/filtered_data/binding/e3_binding_filtered.csv\""
   ]
  },
  {
   "cell_type": "markdown",
   "id": "f55001f2-a30a-48c3-a443-684958ee69ca",
   "metadata": {
    "editable": true,
    "slideshow": {
     "slide_type": ""
    },
    "tags": []
   },
   "source": [
    "### Run config files to setup altair theme and config variables"
   ]
  },
  {
   "cell_type": "code",
   "execution_count": null,
   "id": "cb74a233-ce16-46b2-87aa-22d2435efb54",
   "metadata": {
    "editable": true,
    "slideshow": {
     "slide_type": ""
    },
    "tags": []
   },
   "outputs": [],
   "source": [
    "if altair_config:\n",
    "    with open(altair_config, \"r\") as file:\n",
    "        exec(file.read())\n",
    "\n",
    "with open(nipah_config) as f:\n",
    "    config = yaml.safe_load(f)"
   ]
  },
  {
   "cell_type": "markdown",
   "id": "9c54aa9a-59b3-4525-81a2-11b5b1bd84a2",
   "metadata": {
    "editable": true,
    "slideshow": {
     "slide_type": ""
    },
    "tags": []
   },
   "source": [
    "### Import the filtered binding and entry data for bEFNB2 and bEFNB3"
   ]
  },
  {
   "cell_type": "code",
   "execution_count": null,
   "id": "6f44b62f-a44e-439e-a443-c7948c628344",
   "metadata": {
    "editable": true,
    "slideshow": {
     "slide_type": ""
    },
    "tags": []
   },
   "outputs": [],
   "source": [
    "# import binding data\n",
    "df_E2_filter = pd.read_csv(binding_E2_file)\n",
    "display(df_E2_filter.head(3))\n",
    "df_E3_filter = pd.read_csv(binding_E3_file)\n",
    "display(df_E3_filter.head(3))"
   ]
  },
  {
   "cell_type": "markdown",
   "id": "827b0970-8062-4998-ab11-0f5602e44cf4",
   "metadata": {},
   "source": [
    "### Merge data"
   ]
  },
  {
   "cell_type": "code",
   "execution_count": null,
   "id": "5d560dff-7ce5-4fad-8df1-23470af571ce",
   "metadata": {
    "editable": true,
    "slideshow": {
     "slide_type": ""
    },
    "tags": []
   },
   "outputs": [],
   "source": [
    "## Merge the filtered EFNB2 and EFNB3 DataFrames for combined analysis.\n",
    "df_binding_effect_merge = pd.merge(\n",
    "    df_E2_filter,\n",
    "    df_E3_filter,\n",
    "    on=[\"site\", \"wildtype\", \"mutant\"],\n",
    "    suffixes=[\"_E2\", \"_E3\"],\n",
    "    how=\"outer\",\n",
    ")\n",
    "display(df_binding_effect_merge.head(3))\n",
    "## Add a 'selection' column to distinguish between EFNB2 and EFNB3 data.\n",
    "df_E2_filter[\"selection\"] = \"bEFNB2\"\n",
    "df_E3_filter[\"selection\"] = \"bEFNB3\"\n",
    "\n",
    "## Concatenate the DataFrames for plotting or further analysis.\n",
    "df_binding_effect_concat = pd.concat([df_E2_filter, df_E3_filter])\n",
    "display(df_binding_effect_concat.head(3))"
   ]
  },
  {
   "cell_type": "code",
   "execution_count": null,
   "id": "16a9c5a0-b44d-4f31-82e7-ef04611dd773",
   "metadata": {},
   "outputs": [],
   "source": [
    "# What are the top 5 highest and lowest binding mutants for EFNB2 and EFNB3?\n",
    "def find_highest_lowest(df, name):\n",
    "    print(f\"We are analyzing {name}\\n\")\n",
    "    print(f\"The total number of mutants was: {df.shape[0]}\\n\")\n",
    "    tmp_df = df.sort_values(by=\"binding_mean\")\n",
    "    print(\"These are the lowest binding mutants detected:\")\n",
    "    display(tmp_df.head(5))\n",
    "\n",
    "    tmp_df_high = df.sort_values(by=\"binding_mean\", ascending=False)\n",
    "    print(\"\\nThese are the highest binding mutants detected:\\n\")\n",
    "    display(tmp_df_high.head(5))\n",
    "\n",
    "    # What about mutants with positive entry scores?\n",
    "    tmp_df = df[df[\"effect\"] > 0].sort_values(by=\"binding_mean\")\n",
    "    print(\"These are the lowest binding mutants detected with positive entry scores:\")\n",
    "    display(tmp_df.head(5))\n",
    "\n",
    "    tmp_df_high = df[df[\"effect\"] > 0].sort_values(by=\"binding_mean\", ascending=False)\n",
    "    print(\n",
    "        \"\\nThese are the highest binding mutants detected with positive entry scores:\\n\"\n",
    "    )\n",
    "    display(tmp_df_high.head(5))\n",
    "\n",
    "    mean_df = df.groupby('site')['binding_mean'].sum().reset_index()\n",
    "    display(mean_df.sort_values(by='binding_mean',ascending=False).head(10))\n",
    "\n",
    "\n",
    "find_highest_lowest(df_E2_filter, \"bEFNB2\")\n",
    "find_highest_lowest(df_E3_filter, \"bEFNB3\")"
   ]
  },
  {
   "cell_type": "markdown",
   "id": "a36aacf3-f324-4191-b4c1-ac0ad3eb3da2",
   "metadata": {},
   "source": [
    "### Find the top overlapping binders for both bEFNB2 and bEFNB3"
   ]
  },
  {
   "cell_type": "code",
   "execution_count": null,
   "id": "dd054dc6-11f5-43bb-a36e-6df611541f47",
   "metadata": {},
   "outputs": [],
   "source": [
    "def find_good_binding_for_both(df):\n",
    "    e2_good = df.sort_values(by='binding_mean_E2',ascending=False)\n",
    "    e3_good = df.sort_values(by='binding_mean_E3',ascending=False)\n",
    "    e2_good = e2_good.head(50)\n",
    "    e3_good = e3_good.head(50)\n",
    "    combo = pd.merge(e2_good,e3_good,on=['site','wildtype','mutant'],how='inner')\n",
    "    display(combo)\n",
    "\n",
    "find_good_binding_for_both(df_binding_effect_merge)"
   ]
  },
  {
   "cell_type": "code",
   "execution_count": null,
   "id": "a31836c6-1216-4cab-a835-278090785116",
   "metadata": {},
   "outputs": [],
   "source": [
    "# Compare E2 and E3 binders\n",
    "def find_highest_lowest(df):\n",
    "    df[\"binding_diff\"] = (df[\"binding_mean_E2\"] - df[\"binding_mean_E3\"]).abs()\n",
    "    print(\n",
    "        \"These are the mutants with the biggest difference between EFNB2 and EFNB3:\\n\"\n",
    "    )\n",
    "    display(df.sort_values(by=\"binding_diff\", ascending=False).head(10))\n",
    "\n",
    "    # calculate aggregate differences\n",
    "    agg_df = (\n",
    "        df.groupby(\"site\")[[\"binding_mean_E2\", \"binding_mean_E3\", \"binding_diff\"]]\n",
    "        .mean()\n",
    "        .reset_index()\n",
    "    )\n",
    "    print(\"These are the sites with the biggest difference between EFNB2 and EFNB3:\\n\")\n",
    "    display(agg_df.sort_values(by=\"binding_diff\", ascending=False).head(5))\n",
    "\n",
    "\n",
    "find_highest_lowest(df_binding_effect_merge)\n",
    "# find_highest_lowest(df_E3_filter,'EFNB3')"
   ]
  },
  {
   "cell_type": "markdown",
   "id": "afb14ff3-2c64-470d-a4a6-b9b276178c60",
   "metadata": {
    "editable": true,
    "slideshow": {
     "slide_type": ""
    },
    "tags": []
   },
   "source": [
    "### Make plots showing correlation between binding and entry for EFNB2 and EFNB3"
   ]
  },
  {
   "cell_type": "code",
   "execution_count": null,
   "id": "006e9c89-037b-49d9-99e8-27de0f45199c",
   "metadata": {
    "editable": true,
    "slideshow": {
     "slide_type": ""
    },
    "tags": []
   },
   "outputs": [],
   "source": [
    "def plot_corr_binding_entry_updated(df, flag):\n",
    "    # Define interactive selectors for variant selection.\n",
    "    # 'variant_selector' is for selecting individual variants based on 'site' and 'mutant'.\n",
    "    variant_selector = alt.selection_point(\n",
    "        on=\"mouseover\", nearest=True, empty=False, fields=[\"site\", \"mutant\"], value=0\n",
    "    )\n",
    "    # 'variant_selector_agg' is for aggregated selection based on 'site' only.\n",
    "    variant_selector_agg = alt.selection_point(\n",
    "        on=\"mouseover\", nearest=True, empty=False, fields=[\"site\"], value=0\n",
    "    )\n",
    "\n",
    "    # Initialize an empty list to store charts for each unique selection in 'df'.\n",
    "    empty_chart = []\n",
    "    \n",
    "    # Loop through each unique cell selection in the DataFrame.\n",
    "    for cell in list(df[\"selection\"].unique()):\n",
    "        # Filter DataFrame for the current selection.\n",
    "        tmp_df = df[df[\"selection\"] == cell]\n",
    "        \n",
    "        # Check if aggregation flag is True to aggregate data.\n",
    "        if flag == True:\n",
    "            # Aggregate data by 'site', summing 'binding_median' and 'effect', then reset index.\n",
    "            agg_df = (\n",
    "                tmp_df.groupby(\"site\")[[\"binding_mean\", \"effect\"]].mean().reset_index()\n",
    "            )\n",
    "            # Create a chart using aggregated data with specified encodings.\n",
    "            chart = (\n",
    "                alt.Chart(agg_df)\n",
    "                .mark_point(stroke=\"black\", filled=True)  # Use filled points with black stroke.\n",
    "                .encode(\n",
    "                    x=alt.X(\n",
    "                        \"effect\",\n",
    "                        title=f\"Mean entry in CHO-{cell}\",\n",
    "                        axis=alt.Axis(grid=True),\n",
    "                    ),\n",
    "                    y=alt.Y(\n",
    "                        \"binding_mean\",\n",
    "                        title=f\"Mean {cell} binding\",\n",
    "                        axis=alt.Axis(grid=True),\n",
    "                    ),\n",
    "                    # Dynamic opacity, size, strokeWidth, and color based on 'variant_selector_agg'.\n",
    "                    opacity=alt.condition(\n",
    "                        variant_selector_agg, alt.value(1), alt.value(0.2)\n",
    "                    ),\n",
    "                    size=alt.condition(\n",
    "                        variant_selector_agg, alt.value(100), alt.value(50)\n",
    "                    ),\n",
    "                    strokeWidth=alt.condition(\n",
    "                        variant_selector_agg, alt.value(1), alt.value(0)\n",
    "                    ),\n",
    "                    color=alt.condition(\n",
    "                        variant_selector_agg, alt.value(\"orange\"), alt.value(\"black\")\n",
    "                    ),\n",
    "                    tooltip=[\"site\", \"binding_mean\", \"effect\"],\n",
    "                )\n",
    "                .add_params(variant_selector_agg)\n",
    "            )\n",
    "            # Add the chart to the list.\n",
    "            empty_chart.append(chart)\n",
    "\n",
    "        else:\n",
    "            # Create a chart for individual data points with specified encodings.\n",
    "            chart = (\n",
    "                alt.Chart(tmp_df)\n",
    "                .mark_point(stroke=\"black\", filled=True)\n",
    "                .encode(\n",
    "                    x=alt.X(\n",
    "                        \"effect\", title=f\"Entry in CHO-{cell}\", axis=alt.Axis(grid=True)\n",
    "                    ),\n",
    "                    y=alt.Y(\n",
    "                        \"binding_mean\",\n",
    "                        title=f\"{cell} binding\",\n",
    "                        axis=alt.Axis(grid=True),\n",
    "                    ),\n",
    "                    # Dynamic opacity, size, strokeWidth, and color based on 'variant_selector'.\n",
    "                    opacity=alt.condition(\n",
    "                        variant_selector, alt.value(1), alt.value(0.1)\n",
    "                    ),\n",
    "                    size=alt.condition(variant_selector, alt.value(50), alt.value(20)),\n",
    "                    strokeWidth=alt.condition(\n",
    "                        variant_selector, alt.value(1), alt.value(0)\n",
    "                    ),\n",
    "                    color=alt.condition(\n",
    "                        variant_selector, alt.value(\"orange\"), alt.value(\"black\")\n",
    "                    ),\n",
    "                    tooltip=[\n",
    "                        \"site\",\n",
    "                        \"wildtype\",\n",
    "                        \"mutant\",\n",
    "                        \"binding_mean\",\n",
    "                        \"times_seen_binding\",\n",
    "                        \"effect\",\n",
    "                    ],\n",
    "                )\n",
    "                .add_params(variant_selector)\n",
    "            )\n",
    "            # Add the chart to the list.\n",
    "            empty_chart.append(chart)\n",
    "\n",
    "    # Combine all charts horizontally with a title.\n",
    "    combined_chart = alt.hconcat(\n",
    "        *empty_chart, title=alt.Title(\"Correlation between binding and entry\")\n",
    "    )\n",
    "    \n",
    "    # Return the combined chart for display or further use.\n",
    "    return combined_chart\n",
    "\n",
    "# Generate and display plots for non-aggregated data.\n",
    "entry_binding_corr_plot = plot_corr_binding_entry_updated(df_binding_effect_concat, False)\n",
    "entry_binding_corr_plot.display()\n",
    "\n",
    "# Save the plot \n",
    "if entry_binding_combined_corr_plot is not None:\n",
    "    entry_binding_corr_plot.save(entry_binding_combined_corr_plot)\n",
    "\n",
    "# Repeat for aggregated data.\n",
    "entry_binding_corr_plot_agg = plot_corr_binding_entry_updated(df_binding_effect_concat, True)\n",
    "entry_binding_corr_plot_agg.display()\n",
    "\n",
    "# Save the aggregated plot\n",
    "if entry_binding_combined_corr_plot is not None:\n",
    "    entry_binding_corr_plot_agg.save(entry_binding_combined_corr_plot_agg)"
   ]
  },
  {
   "cell_type": "markdown",
   "id": "fe308d30-916b-4b78-b9c0-a4b422d713ae",
   "metadata": {},
   "source": [
    "### Same plot as above, but slightly different format"
   ]
  },
  {
   "cell_type": "code",
   "execution_count": null,
   "id": "5b0ca4ac-fd20-43d9-bf02-50ce94a94a3e",
   "metadata": {
    "editable": true,
    "slideshow": {
     "slide_type": ""
    },
    "tags": []
   },
   "outputs": [],
   "source": [
    "def plot_entry_binding_corr_heatmap(df):\n",
    "    empty_chart = []\n",
    "\n",
    "    for cell in list(df[\"selection\"].unique()):\n",
    "        tmp_df = df[df[\"selection\"] == cell]\n",
    "        chart = (\n",
    "            alt.Chart(tmp_df, title=f\"{cell}\")\n",
    "            .mark_rect()\n",
    "            .encode(\n",
    "                x=alt.X(\n",
    "                    \"effect\", title=\"Cell entry\", axis=alt.Axis(values=[-2, -1, 0, 1])\n",
    "                ).bin(maxbins=50),\n",
    "                y=alt.Y(\n",
    "                    \"binding_mean\",\n",
    "                    title=\"Receptor binding\",\n",
    "                    axis=alt.Axis(values=[-4, -2, 0, 2]),\n",
    "                ).bin(maxbins=50),\n",
    "                color=alt.Color(\"count()\", title=\"Count\").scale(type='log'),\n",
    "            )\n",
    "        ).properties(width=200,height=200)\n",
    "        empty_chart.append(chart)\n",
    "\n",
    "    combined_chart = alt.hconcat(\n",
    "        *empty_chart, \n",
    "    ).resolve_scale(y=\"shared\", x=\"shared\", color=\"shared\")\n",
    "    return combined_chart\n",
    "\n",
    "\n",
    "entry_binding_corr_heat = plot_entry_binding_corr_heatmap(df_binding_effect_concat)\n",
    "entry_binding_corr_heat.display()\n",
    "if entry_binding_combined_corr_plot is not None:\n",
    "    entry_binding_corr_heat.save(entry_binding_corr_heatmap)"
   ]
  },
  {
   "cell_type": "markdown",
   "id": "04bfb134-291f-4e89-91ad-45916376c694",
   "metadata": {},
   "source": [
    "### Calculate some stats on binding"
   ]
  },
  {
   "cell_type": "code",
   "execution_count": null,
   "id": "a64fa8c9-27fd-46fd-812a-7656645e55d1",
   "metadata": {
    "editable": true,
    "slideshow": {
     "slide_type": ""
    },
    "tags": []
   },
   "outputs": [],
   "source": [
    "def overall_stats(df, effect, name):\n",
    "    # Now group sites and find sites where all mutants are deleterious\n",
    "    filtered_df = df.groupby(\"site\").filter(lambda group: (group[effect] < -0.25).all())\n",
    "    # Which sites are these?\n",
    "    unique = filtered_df[\"site\"].unique()\n",
    "    # Convert unique to a Pandas Series\n",
    "    unique_series = pd.Series(unique)\n",
    "\n",
    "    # Find the common elements that are also contact sites\n",
    "    unique_contact_bool = unique_series.isin(config[\"contact_sites\"])\n",
    "    # Filter and get the common elements\n",
    "    common_elements = unique_series[unique_contact_bool]\n",
    "\n",
    "    print(f\"The dataset we are analyzing is: {name}\\n\")\n",
    "\n",
    "    # Print the common elements\n",
    "    print(\n",
    "        f\"Here are the contact sites that only have negative binding scores: {list(common_elements)}\\n\"\n",
    "    )\n",
    "\n",
    "    print(f\"There are {len(unique)} sites with all negative binding score mutants\\n\")\n",
    "    print(\n",
    "        f\"These are the sites with all negative binding score mutants: {list(unique)}\\n\"\n",
    "    )\n",
    "\n",
    "    # Now find sites with low and high binding (median)\n",
    "    median_df = (\n",
    "        df.groupby(\"site\")[\"binding_mean\"]\n",
    "        .max()\n",
    "        .reset_index()\n",
    "        .sort_values(by=\"binding_mean\", ascending=False)\n",
    "    )\n",
    "    print(\"These are the sites with the highest binding mutants:\\n\")\n",
    "    display(median_df.head(5))\n",
    "\n",
    "    # Now calculate mutant number\n",
    "    total_mutants = df.shape[0]\n",
    "\n",
    "    mutants_above_cutoff_tolerated = df[df[\"effect\"] > 0]\n",
    "    mutants_above_cutoff_tolerated = mutants_above_cutoff_tolerated[\n",
    "        [\"site\", \"effect\", \"binding_mean\", \"wildtype\", \"mutant\"]\n",
    "    ]\n",
    "\n",
    "    total_sites = df[\"site\"].unique().shape[0]\n",
    "\n",
    "    print(f\"The total number of sites are: {total_sites}\")\n",
    "\n",
    "\n",
    "overall_stats(df_E2_filter, \"binding_mean\", \"EFNB2\")\n",
    "overall_stats(df_E3_filter, \"binding_mean\", \"EFNB3\")"
   ]
  },
  {
   "cell_type": "markdown",
   "id": "32817590-fc6a-442d-b3c6-e8c01c69a314",
   "metadata": {
    "editable": true,
    "slideshow": {
     "slide_type": ""
    },
    "tags": []
   },
   "source": [
    "### Find sites with opposite effects on binding"
   ]
  },
  {
   "cell_type": "code",
   "execution_count": null,
   "id": "5a3f42fc-b361-41c0-bcc2-3c0db60c6d01",
   "metadata": {
    "editable": true,
    "slideshow": {
     "slide_type": ""
    },
    "tags": []
   },
   "outputs": [],
   "source": [
    "# find sites that are different\n",
    "def find_biggest_differences(df):\n",
    "    efnb2_good_efnb3_bad = df[\n",
    "        (df[\"binding_mean_E2\"] > 0.5) & (df[\"binding_mean_E3\"] < -0.5)\n",
    "    ].sort_values(by=\"binding_mean_E2\", ascending=False)\n",
    "    print('mutantions good for efnb2 binding, bad for efnb3 binding:\\n')\n",
    "    display(efnb2_good_efnb3_bad)\n",
    "\n",
    "    efnb2_bad_efnb3_good = df[\n",
    "        (df[\"binding_mean_E2\"] < -0.5) & (df[\"binding_mean_E3\"] > 0.5)\n",
    "    ].sort_values(by=\"binding_mean_E3\", ascending=False)\n",
    "    print('mutantions bad for efnb2 binding, good for efnb3 binding:\\n')\n",
    "    display(efnb2_bad_efnb3_good)\n",
    "\n",
    "\n",
    "find_biggest_differences(df_binding_effect_merge)"
   ]
  },
  {
   "cell_type": "markdown",
   "id": "99534d2f-74bf-4e39-b787-4f0f11cfa280",
   "metadata": {
    "editable": true,
    "slideshow": {
     "slide_type": ""
    },
    "tags": []
   },
   "source": [
    "### Find correlations between EFNB2 and EFNB3 binding"
   ]
  },
  {
   "cell_type": "code",
   "execution_count": null,
   "id": "5bae5583-32fb-4010-b578-05efb2eeb5dd",
   "metadata": {},
   "outputs": [],
   "source": [
    "def plot_entry_binding_corr(df):\n",
    "    chart = (\n",
    "        alt.Chart(df, title=\"Correlation Between Mutant Binding Scores\")\n",
    "        .mark_rect()\n",
    "        .encode(\n",
    "            x=alt.X(\n",
    "                \"binding_mean_E2\",\n",
    "                title=\"bEFNB2 binding\",\n",
    "                axis=alt.Axis(values=[-4,-2, 0, 2]),\n",
    "            ).bin(maxbins=50),\n",
    "            y=alt.Y(\n",
    "                \"binding_mean_E3\",\n",
    "                title=\"bEFNB3 binding\",\n",
    "                axis=alt.Axis(values=[-2, 0, 2]),\n",
    "            ).bin(maxbins=50),\n",
    "            color=alt.Color(\"count()\", title=\"Count\").scale(type='log'),\n",
    "        )\n",
    "    ).properties(width=200,height=200)\n",
    "    return chart\n",
    "\n",
    "\n",
    "entry_binding_corr_heatmap_1 = plot_entry_binding_corr(df_binding_effect_merge)\n",
    "entry_binding_corr_heatmap_1.display()\n",
    "if entry_binding_combined_corr_plot is not None:\n",
    "    entry_binding_corr_heatmap_1.save(binding_corr_heatmap)"
   ]
  },
  {
   "cell_type": "markdown",
   "id": "92a634f9-66b9-41ce-a57f-aee59f7837f5",
   "metadata": {},
   "source": [
    "### Plot correlations with mutants we did BLI on"
   ]
  },
  {
   "cell_type": "code",
   "execution_count": null,
   "id": "14175a0a-2851-4aaa-ac96-4939cb304243",
   "metadata": {
    "editable": true,
    "slideshow": {
     "slide_type": ""
    },
    "tags": []
   },
   "outputs": [],
   "source": [
    "def plot_affinity_BLI_mutants(df):\n",
    "    df = df.dropna().round(2).copy()\n",
    "    df['site_mutant'] = df['site'].astype(str) + df['mutant'].astype(str)\n",
    "    slope, intercept, r_value, p_value, std_err = scipy.stats.linregress(\n",
    "        df[\"binding_mean_E2\"], df[\"binding_mean_E3\"]\n",
    "    )\n",
    "    \n",
    "    # make chart\n",
    "    chart = alt.Chart(df,title=alt.Title(\"Correlation Between Mutant Binding Scores\")\n",
    "    ).mark_point(\n",
    "        color=\"gray\", \n",
    "        size=30, \n",
    "        opacity=0.4, \n",
    "        filled=True\n",
    "    ).encode(\n",
    "        x=alt.X(\"binding_mean_E2\", title=(\"bEFNB2 binding\"),axis=alt.Axis(tickCount=4)),\n",
    "        y=alt.Y(\"binding_mean_E3\", title=(\"bEFNB3 binding\"),axis=alt.Axis(tickCount=4)),\n",
    "        tooltip=[\n",
    "            \"site\",\n",
    "            \"wildtype\",\n",
    "            \"mutant\",\n",
    "            \"binding_mean_E2\",\n",
    "            \"binding_mean_E3\",\n",
    "            \"effect_E2\",\n",
    "            \"effect_E3\",\n",
    "        ],\n",
    "    )\n",
    "    \n",
    "    highlight = chart.transform_filter(\n",
    "        (alt.datum.site == 244) & (alt.datum.mutant == 'W') |\n",
    "        (alt.datum.site == 305) & (alt.datum.mutant == 'W') | \n",
    "        (alt.datum.site == 492) & (alt.datum.mutant == 'L') |\n",
    "        (alt.datum.site == 507) & (alt.datum.mutant == 'I') |\n",
    "        (alt.datum.site == 530) & (alt.datum.mutant == 'F') |\n",
    "        (alt.datum.site == 553) & (alt.datum.mutant == 'W') |\n",
    "        (alt.datum.site == 555) & (alt.datum.mutant == 'Y') |\n",
    "        (alt.datum.site == 559) & (alt.datum.mutant == 'R') |\n",
    "        (alt.datum.site == 588) & (alt.datum.mutant == 'V') \n",
    "    ).mark_point(\n",
    "        color=\"orange\", size=40, opacity=1, filled=True, stroke='black', strokeWidth=1\n",
    "    )\n",
    "\n",
    "    text_on_point = chart.transform_filter(\n",
    "        (alt.datum.site == 244) & (alt.datum.mutant == 'W') |\n",
    "        (alt.datum.site == 305) & (alt.datum.mutant == 'W') | \n",
    "        (alt.datum.site == 492) & (alt.datum.mutant == 'L') |\n",
    "        (alt.datum.site == 507) & (alt.datum.mutant == 'I') |\n",
    "        (alt.datum.site == 530) & (alt.datum.mutant == 'F') |\n",
    "        (alt.datum.site == 553) & (alt.datum.mutant == 'W') |\n",
    "        (alt.datum.site == 555) & (alt.datum.mutant == 'Y') |\n",
    "        (alt.datum.site == 559) & (alt.datum.mutant == 'R') |\n",
    "        (alt.datum.site == 588) & (alt.datum.mutant == 'V') \n",
    "    ).mark_text(\n",
    "        align='center',baseline='top',dy=-15,fontSize=14\n",
    "    ).encode(text='site_mutant')\n",
    "    \n",
    "    min = int(df[\"binding_mean_E2\"].min())\n",
    "    max = int(df[\"binding_mean_E3\"].max())\n",
    "    text = (\n",
    "        alt.Chart({\"values\": [{\"x\": min, \"y\": max, \"text\": f\"r = {r_value:.2f}\"}]})\n",
    "        .mark_text(align=\"left\", baseline=\"top\", dx=-10, dy=-20)\n",
    "        .encode(x=alt.X(\"x:Q\"), y=alt.Y(\"y:Q\"), text=\"text:N\")\n",
    "    )\n",
    "    chart_and_text = chart + text + text_on_point + highlight\n",
    "    return chart_and_text.properties(height=300,width=300)\n",
    "\n",
    "\n",
    "E2_E3_corr = plot_affinity_BLI_mutants(df_binding_effect_merge)\n",
    "E2_E3_corr.display()\n",
    "if entry_binding_combined_corr_plot is not None:\n",
    "    E2_E3_corr.save(E2_E3_correlation)"
   ]
  },
  {
   "cell_type": "code",
   "execution_count": null,
   "id": "a85bf70c-343a-4363-89de-5ca573a4fd57",
   "metadata": {},
   "outputs": [],
   "source": [
    "def plot_affinity_neut(df):\n",
    "    df = df.dropna().round(2).copy()\n",
    "    df['site_mutant'] = df['site'].astype(str) + df['mutant'].astype(str)\n",
    "    slope, intercept, r_value, p_value, std_err = scipy.stats.linregress(\n",
    "        df[\"binding_mean_E2\"], df[\"binding_mean_E3\"]\n",
    "    )\n",
    "    \n",
    "    # make chart\n",
    "    chart = alt.Chart(df,title=alt.Title(\"Correlation Between Mutant Binding Scores\")\n",
    "    ).mark_point(\n",
    "        color=\"gray\", \n",
    "        size=30, \n",
    "        opacity=0.4, \n",
    "        filled=True\n",
    "    ).encode(\n",
    "        x=alt.X(\"binding_mean_E2\", title=(\"bEFNB2 binding\"),axis=alt.Axis(tickCount=4)),\n",
    "        y=alt.Y(\"binding_mean_E3\", title=(\"bEFNB3 binding\"),axis=alt.Axis(tickCount=4)),\n",
    "        tooltip=[\n",
    "            \"site\",\n",
    "            \"wildtype\",\n",
    "            \"mutant\",\n",
    "            \"binding_mean_E2\",\n",
    "            \"binding_mean_E3\",\n",
    "            \"effect_E2\",\n",
    "            \"effect_E3\",\n",
    "        ],\n",
    "    )\n",
    "    \n",
    "    highlight = chart.transform_filter(\n",
    "        (alt.datum.site == 333) & (alt.datum.mutant == 'Q') |\n",
    "        (alt.datum.site == 492) & (alt.datum.mutant == 'R') | \n",
    "        (alt.datum.site == 507) & (alt.datum.mutant == 'I') |\n",
    "        (alt.datum.site == 530) & (alt.datum.mutant == 'F') |\n",
    "        (alt.datum.site == 553) & (alt.datum.mutant == 'W') |\n",
    "        (alt.datum.site == 555) & (alt.datum.mutant == 'K') \n",
    "\n",
    "    ).mark_point(\n",
    "        color=\"blue\", size=40, opacity=1, filled=True, stroke='black', strokeWidth=1\n",
    "    )\n",
    "\n",
    "    text_on_point = chart.transform_filter(\n",
    "        (alt.datum.site == 333) & (alt.datum.mutant == 'Q') |\n",
    "        (alt.datum.site == 492) & (alt.datum.mutant == 'R') | \n",
    "        (alt.datum.site == 507) & (alt.datum.mutant == 'I') |\n",
    "        (alt.datum.site == 530) & (alt.datum.mutant == 'F') |\n",
    "        (alt.datum.site == 553) & (alt.datum.mutant == 'W') |\n",
    "        (alt.datum.site == 555) & (alt.datum.mutant == 'K') \n",
    "    ).mark_text(\n",
    "        align='center',baseline='top',dy=-15,fontSize=14\n",
    "    ).encode(text='site_mutant')\n",
    "    \n",
    "    min = int(df[\"binding_mean_E2\"].min())\n",
    "    max = int(df[\"binding_mean_E3\"].max())\n",
    "    text = (\n",
    "        alt.Chart({\"values\": [{\"x\": min, \"y\": max, \"text\": f\"r = {r_value:.2f}\"}]})\n",
    "        .mark_text(align=\"left\", baseline=\"top\", dx=-10, dy=-20)\n",
    "        .encode(x=alt.X(\"x:Q\"), y=alt.Y(\"y:Q\"), text=\"text:N\")\n",
    "    )\n",
    "    chart_and_text = chart + text + text_on_point + highlight\n",
    "    return chart_and_text.properties(height=300,width=300)\n",
    "\n",
    "\n",
    "E2_E3_corr = plot_affinity_neut(df_binding_effect_merge)\n",
    "E2_E3_corr.display()\n",
    "#if entry_binding_combined_corr_plot is not None:\n",
    "#    E2_E3_corr.save(E2_E3_correlation)"
   ]
  },
  {
   "cell_type": "code",
   "execution_count": null,
   "id": "cc62e9bb-8362-417d-89ee-3b6eca6f8e90",
   "metadata": {},
   "outputs": [],
   "source": [
    "def plot_affinity_highB3(df):\n",
    "    df = df.dropna().round(2).copy()\n",
    "    df = df[df['site'].isin(config['contact_sites'])]\n",
    "    df['site_mutant'] = df['site'].astype(str) + df['mutant'].astype(str)\n",
    "    slope, intercept, r_value, p_value, std_err = scipy.stats.linregress(\n",
    "        df[\"binding_mean_E2\"], df[\"binding_mean_E3\"]\n",
    "    )\n",
    "    \n",
    "    # make chart\n",
    "    chart = alt.Chart(df,title=alt.Title(\"Correlation Between Mutant Binding Scores\")\n",
    "    ).mark_point(\n",
    "        color=\"gray\", \n",
    "        size=30, \n",
    "        opacity=0.4, \n",
    "        filled=True\n",
    "    ).encode(\n",
    "        x=alt.X(\"binding_mean_E2\", title=(\"bEFNB2 binding\"),axis=alt.Axis(tickCount=4)),\n",
    "        y=alt.Y(\"binding_mean_E3\", title=(\"bEFNB3 binding\"),axis=alt.Axis(tickCount=4)),\n",
    "        tooltip=[\n",
    "            \"site\",\n",
    "            \"wildtype\",\n",
    "            \"mutant\",\n",
    "            \"binding_mean_E2\",\n",
    "            \"binding_mean_E3\",\n",
    "            \"effect_E2\",\n",
    "            \"effect_E3\",\n",
    "        ],\n",
    "    )\n",
    "    \n",
    "    highlight = chart.transform_filter(\n",
    "        (alt.datum.site == 580) & (alt.datum.mutant == 'S') |\n",
    "        (alt.datum.site == 458) & (alt.datum.mutant == 'Y') | \n",
    "        (alt.datum.site == 492) & (alt.datum.mutant == 'L') |\n",
    "        (alt.datum.site == 491) & (alt.datum.mutant == 'A') |\n",
    "        (alt.datum.site == 588) & (alt.datum.mutant == 'P') |\n",
    "        (alt.datum.site == 492) & (alt.datum.mutant == 'R') |\n",
    "        (alt.datum.site == 530) & (alt.datum.mutant == 'F') |\n",
    "        (alt.datum.site == 492) & (alt.datum.mutant == 'K') |\n",
    "        (alt.datum.site == 239) & (alt.datum.mutant == 'H') \n",
    "\n",
    "\n",
    "\n",
    "    ).mark_point(\n",
    "        color=\"blue\", size=40, opacity=1, filled=True, stroke='black', strokeWidth=1\n",
    "    )\n",
    "\n",
    "    text_on_point = chart.transform_filter(\n",
    "        (alt.datum.site == 580) & (alt.datum.mutant == 'S') |\n",
    "        (alt.datum.site == 458) & (alt.datum.mutant == 'Y') | \n",
    "        (alt.datum.site == 492) & (alt.datum.mutant == 'L') |\n",
    "        (alt.datum.site == 491) & (alt.datum.mutant == 'A') |\n",
    "        (alt.datum.site == 588) & (alt.datum.mutant == 'P') |\n",
    "        (alt.datum.site == 492) & (alt.datum.mutant == 'R') |\n",
    "        (alt.datum.site == 530) & (alt.datum.mutant == 'F') |\n",
    "        (alt.datum.site == 492) & (alt.datum.mutant == 'K') |\n",
    "        (alt.datum.site == 239) & (alt.datum.mutant == 'H') \n",
    "    ).mark_text(\n",
    "        align='center',baseline='top',dy=-15,fontSize=14\n",
    "    ).encode(text='site_mutant')\n",
    "    \n",
    "    min = int(df[\"binding_mean_E2\"].min())\n",
    "    max = int(df[\"binding_mean_E3\"].max())\n",
    "    text = (\n",
    "        alt.Chart({\"values\": [{\"x\": min, \"y\": max, \"text\": f\"r = {r_value:.2f}\"}]})\n",
    "        .mark_text(align=\"left\", baseline=\"top\", dx=-10, dy=-20)\n",
    "        .encode(x=alt.X(\"x:Q\"), y=alt.Y(\"y:Q\"), text=\"text:N\")\n",
    "    )\n",
    "    chart_and_text = chart + text + text_on_point + highlight\n",
    "    return chart_and_text.properties(height=300,width=300)\n",
    "\n",
    "\n",
    "E2_E3_corr = plot_affinity_highB3(df_binding_effect_merge)\n",
    "E2_E3_corr.display()\n",
    "#if entry_binding_combined_corr_plot is not None:\n",
    "#    E2_E3_corr.save(E2_E3_correlation)"
   ]
  },
  {
   "cell_type": "markdown",
   "id": "aaee547f-d541-40af-a812-a2ace69cddae",
   "metadata": {},
   "source": [
    "### Plot correlations of mutants for individual sites of interest with letters of each mutant plotted"
   ]
  },
  {
   "cell_type": "code",
   "execution_count": null,
   "id": "fa12f7c8-728e-4a7e-a636-26a1dad644a3",
   "metadata": {},
   "outputs": [],
   "source": [
    "def plot_affinity_individual_mutants(df,mutant):\n",
    "    df = df.dropna().round(2).copy()\n",
    "    df = df[df['site'] == mutant]\n",
    "    \n",
    "    chart = alt.Chart(df,title=alt.Title(f\"Correlation Between Mutant Binding Scores at Site {mutant}\")\n",
    "    ).mark_text(\n",
    "        size=15\n",
    "    ).encode(\n",
    "        x=alt.X(\"binding_mean_E2\", title=(\"bEFNB2 binding\"),axis=alt.Axis(tickCount=4)),\n",
    "        y=alt.Y(\"binding_mean_E3\", title=(\"bEFNB3 binding\"),axis=alt.Axis(tickCount=4)),\n",
    "        text=alt.Color('mutant'),\n",
    "        tooltip=[\n",
    "            \"site\",\n",
    "            \"wildtype\",\n",
    "            \"mutant\",\n",
    "            \"binding_mean_E2\",\n",
    "            \"binding_mean_E3\",\n",
    "            \"effect_E2\",\n",
    "            \"effect_E3\",\n",
    "        ],\n",
    "    )\n",
    "    \n",
    "    return chart.properties(height=300,width=300)"
   ]
  },
  {
   "cell_type": "code",
   "execution_count": null,
   "id": "8650e57c-5822-43b5-bdb8-1d0043803018",
   "metadata": {},
   "outputs": [],
   "source": [
    "indiv_mutant_492 = plot_affinity_individual_mutants(df_binding_effect_merge,492)\n",
    "indiv_mutant_492.display()"
   ]
  },
  {
   "cell_type": "code",
   "execution_count": null,
   "id": "d952de4e-dd5b-4ed1-ad58-746ea772d159",
   "metadata": {},
   "outputs": [],
   "source": [
    "indiv_mutant_491 = plot_affinity_individual_mutants(df_binding_effect_merge,491)\n",
    "indiv_mutant_491.display()"
   ]
  },
  {
   "cell_type": "code",
   "execution_count": null,
   "id": "e202e60c-2c51-46aa-9b2e-6ed51a4a7770",
   "metadata": {},
   "outputs": [],
   "source": [
    "indiv_mutant_580 = plot_affinity_individual_mutants(df_binding_effect_merge,580)\n",
    "indiv_mutant_580.display()"
   ]
  },
  {
   "cell_type": "code",
   "execution_count": null,
   "id": "15c0cc0f-a73f-4f9e-b173-3bf76ab49319",
   "metadata": {},
   "outputs": [],
   "source": [
    "indiv_mutant_589 = plot_affinity_individual_mutants(df_binding_effect_merge,589)\n",
    "indiv_mutant_589.display()"
   ]
  },
  {
   "cell_type": "code",
   "execution_count": null,
   "id": "fcbab890-46c0-487e-8357-6ce585003b7d",
   "metadata": {},
   "outputs": [],
   "source": [
    "indiv_mutant_559 = plot_affinity_individual_mutants(df_binding_effect_merge,559)\n",
    "indiv_mutant_559.display()"
   ]
  },
  {
   "cell_type": "code",
   "execution_count": null,
   "id": "9a49b0da-7d12-47d3-b76d-86fdffd62508",
   "metadata": {},
   "outputs": [],
   "source": [
    "indiv_mutant_239 = plot_affinity_individual_mutants(df_binding_effect_merge,239)\n",
    "indiv_mutant_239.display()"
   ]
  },
  {
   "cell_type": "markdown",
   "id": "05e2dc0a-76b3-487e-8023-f68be6ef6ca9",
   "metadata": {
    "editable": true,
    "slideshow": {
     "slide_type": ""
    },
    "tags": []
   },
   "source": [
    "### Plot correlations between summary statistics for each site"
   ]
  },
  {
   "cell_type": "code",
   "execution_count": null,
   "id": "8d82d3ee-79bb-40ee-8ef5-63280552e471",
   "metadata": {
    "editable": true,
    "slideshow": {
     "slide_type": ""
    },
    "tags": []
   },
   "outputs": [],
   "source": [
    "def plot_affinity_solid_mean(df):\n",
    "    df = df.dropna()\n",
    "    means = (\n",
    "        df.groupby(\"site\")\n",
    "        .agg(\n",
    "            {\n",
    "                \"effect_E2\": \"mean\",\n",
    "                \"effect_E3\": \"mean\",\n",
    "                \"binding_mean_E2\": \"mean\",\n",
    "                \"binding_mean_E3\": \"mean\",\n",
    "                \"wildtype\": \"first\",\n",
    "            }\n",
    "        )\n",
    "        .reset_index().round(2)\n",
    "    )\n",
    "    slope, intercept, r_value, p_value, std_err = scipy.stats.linregress(\n",
    "        means[\"binding_mean_E2\"], means[\"binding_mean_E3\"]\n",
    "    )\n",
    "    r_value = float(r_value)\n",
    "    chart = (\n",
    "        alt.Chart(\n",
    "            means,\n",
    "            title=alt.Title(\n",
    "                \"Correlation between Aggregate Mutant Binding Scores\",\n",
    "                subtitle=f\"r={r_value:.2f}\",\n",
    "            ),\n",
    "        )\n",
    "        .mark_point(size=50, opacity=0.3,filled=True,color='black')\n",
    "        .encode(\n",
    "            x=alt.X(\n",
    "                \"binding_mean_E2\",\n",
    "                title=(\"Avg EFNB2 Binding\"),\n",
    "                axis=alt.Axis(tickCount=3),\n",
    "            ),\n",
    "            y=alt.Y(\n",
    "                \"binding_mean_E3\",\n",
    "                title=(\"Avg EFNB3 Binding\"),\n",
    "                axis=alt.Axis(tickCount=3),\n",
    "            ),\n",
    "            tooltip=[\n",
    "                \"site\",\n",
    "                \"wildtype\",\n",
    "                \"binding_mean_E2\",\n",
    "                \"binding_mean_E3\",\n",
    "                \"effect_E2\",\n",
    "                \"effect_E3\",\n",
    "            ],\n",
    "        )\n",
    "    )\n",
    "    text = (\n",
    "        alt.Chart({\"values\": [{\"x\": -3.5, \"y\": 0.5, \"text\": f\"r = {r_value:.2f}\"}]})\n",
    "        .mark_text(align=\"left\", baseline=\"top\", dx=0, dy=0)\n",
    "        .encode(x=alt.X(\"x:Q\"), y=alt.Y(\"y:Q\"), text=\"text:N\")\n",
    "    )\n",
    "    chart_and_text = chart\n",
    "    return chart_and_text\n",
    "\n",
    "\n",
    "E2_E3_site_corr = plot_affinity_solid_mean(df_binding_effect_merge)\n",
    "E2_E3_site_corr.display()\n",
    "if entry_binding_combined_corr_plot is not None:\n",
    "    E2_E3_site_corr.save(E2_E3_correlation_site)"
   ]
  },
  {
   "cell_type": "markdown",
   "id": "805e432b-d901-4cad-b305-0346e0ca5447",
   "metadata": {
    "editable": true,
    "slideshow": {
     "slide_type": ""
    },
    "tags": []
   },
   "source": [
    "### Make plot showing binding by site"
   ]
  },
  {
   "cell_type": "code",
   "execution_count": null,
   "id": "6a3be425-d246-4351-a64f-c717b2046236",
   "metadata": {},
   "outputs": [],
   "source": [
    "def plot_affinity_by_site(df):\n",
    "    variant_selector = alt.selection_point(\n",
    "        on=\"mouseover\", nearest=True, empty=False, fields=[\"site\"], value=0\n",
    "    )\n",
    "    \n",
    "    chart = alt.Chart(df).mark_bar(stroke=\"black\",size=1).encode(\n",
    "        alt.X(\"site\")\n",
    "            .title(\"Site\")\n",
    "            .axis(tickCount=4)\n",
    "            .scale(domain=[70, 602]),\n",
    "        \n",
    "        alt.Y('mean(binding_mean)')\n",
    "            .axis(tickCount=3)\n",
    "            .title('Mean binding'),\n",
    "        alt.Row('selection',title=None),\n",
    "        tooltip=['site'],\n",
    "        color=alt.condition(\n",
    "            variant_selector, alt.value(\"orange\"), alt.value(\"black\")\n",
    "        ),\n",
    "        opacity=alt.condition(variant_selector, alt.value(1), alt.value(0.5)),\n",
    "        strokeWidth=alt.condition(variant_selector, alt.value(1), alt.value(0)),\n",
    "    ).properties(height=100, width=600).add_params(variant_selector).resolve_scale(y='independent')\n",
    "    \n",
    "\n",
    "    return chart\n",
    "\n",
    "\n",
    "binding_by_site = plot_affinity_by_site(df_binding_effect_concat)\n",
    "binding_by_site.display()\n",
    "if entry_binding_combined_corr_plot is not None:\n",
    "    binding_by_site.save(binding_by_site_plot)"
   ]
  },
  {
   "cell_type": "code",
   "execution_count": null,
   "id": "5de2b70e-b7f2-4aaf-97fb-39763a3a99f6",
   "metadata": {},
   "outputs": [],
   "source": [
    "def plot_affinity_by_contact_site(df, sites_to_show):\n",
    "    # Filter the DataFrame based on the sites to show\n",
    "    contact_df = df[df[\"site\"].isin(sites_to_show)]\n",
    "    \n",
    "    # Define a selection for highlighting bars on hover\n",
    "    variant_selector = alt.selection_point(on=\"mouseover\", nearest=True, empty=False, fields=[\"site\"])\n",
    "    \n",
    "    # Create the chart\n",
    "    chart = alt.Chart(contact_df).mark_bar(stroke='black').encode(\n",
    "        y=alt.Y(\"site:N\", title=\"Site\",sort='-x'),\n",
    "        x=alt.X(\"max(binding_mean):Q\", title=\"Max binding mutant at site\"),\n",
    "        color=alt.condition(variant_selector, alt.value(\"orange\"), alt.value(\"black\")),\n",
    "        strokeWidth=alt.condition(variant_selector, alt.value(2), alt.value(0)),\n",
    "        column=alt.Column('selection',title=None)\n",
    "    ).add_params(variant_selector).properties(width=200, height=alt.Step(12)).resolve_scale(x='independent').configure_header(\n",
    "        labelFontSize=20,  \n",
    "        labelAngle=0,\n",
    "        labelAlign='center',\n",
    "        labelAnchor='middle',\n",
    "        labelFont='Helvetica Light',\n",
    "        labelFontStyle='bold',\n",
    "        labelPadding=3\n",
    "    )\n",
    "    \n",
    "    return chart\n"
   ]
  },
  {
   "cell_type": "code",
   "execution_count": null,
   "id": "e79478cc-999c-43f3-8021-f4333a13f9f9",
   "metadata": {},
   "outputs": [],
   "source": [
    "contact_binding_by_site = plot_affinity_by_contact_site(df_binding_effect_concat, config[\"contact_sites\"])\n",
    "contact_binding_by_site.display()\n",
    "if entry_binding_combined_corr_plot is not None:\n",
    "    contact_binding_by_site.save(combined_contact_ranked_bar_output)"
   ]
  },
  {
   "cell_type": "markdown",
   "id": "e1a7d81f-bd72-428d-a358-2c5e7b3841a0",
   "metadata": {
    "editable": true,
    "slideshow": {
     "slide_type": ""
    },
    "tags": []
   },
   "source": [
    "### Make bubble plots for binding in different areas of receptor pocket"
   ]
  },
  {
   "cell_type": "code",
   "execution_count": null,
   "id": "66e007fc-73e6-4bf2-8dd2-2e7a59eb29dc",
   "metadata": {
    "editable": true,
    "slideshow": {
     "slide_type": ""
    },
    "tags": []
   },
   "outputs": [],
   "source": [
    "def make_bubble_binding_region(df):\n",
    "    barrel_ranges = {\n",
    "        \"Stalk\": list(range(96, 147)),\n",
    "        \"Neck\": list(range(148, 165)),\n",
    "        \"Linker\": list(range(166, 177)),\n",
    "        \"Head\": list(range(178, 602)),\n",
    "        \"Receptor Contact\": config[\"contact_sites\"],\n",
    "    }\n",
    "    custom_order = [\"Stalk\", \"Neck\", \"Linker\", \"Head\", \"Receptor Contact\"]\n",
    "    agg_means = []\n",
    "\n",
    "    # For each barrel, filter the site_means dataframe to the sites belonging to that barrel and then store the means\n",
    "    for barrel, sites in barrel_ranges.items():\n",
    "        subset = df[df[\"site\"].isin(sites)]\n",
    "        for _, row in subset.iterrows():\n",
    "            agg_means.append(\n",
    "                {\n",
    "                    \"region\": barrel,\n",
    "                    \"binding_mean\": row[\"binding_mean\"],\n",
    "                    \"site\": row[\"site\"],\n",
    "                    \"mutant\": row[\"mutant\"],\n",
    "                    \"selection\": row[\"selection\"],\n",
    "                }\n",
    "            )\n",
    "        agg_means_df = pd.DataFrame(agg_means)\n",
    "\n",
    "    variant_selector = alt.selection_point(\n",
    "        on=\"mouseover\", empty=False, nearest=True, fields=[\"site\", \"mutant\"], value=1\n",
    "    )\n",
    "\n",
    "    chart = alt.Chart(agg_means_df).mark_point(stroke=\"black\",filled=True).encode(\n",
    "        x=alt.X(\n",
    "            \"region:O\",\n",
    "            sort=custom_order,\n",
    "            title=\"RBP Region\",\n",
    "            axis=alt.Axis(labelAngle=-90),\n",
    "        ),\n",
    "        y=alt.Y(\n",
    "            \"binding_mean\",\n",
    "            title=\"Binding\",\n",
    "            axis=alt.Axis(tickCount=4),\n",
    "        ),\n",
    "        xOffset=\"random:Q\",\n",
    "        tooltip=[\"region\", \"binding_mean\", \"site\", \"mutant\"],\n",
    "        color=alt.condition(\n",
    "            variant_selector, alt.value(\"orange\"), alt.value(\"black\")\n",
    "        ),\n",
    "        opacity=alt.condition(variant_selector, alt.value(1), alt.value(0.2)),\n",
    "        strokeWidth=alt.condition(variant_selector, alt.value(2), alt.value(0)),\n",
    "        size=alt.condition(variant_selector, alt.value(50), alt.value(15)),\n",
    "        column=alt.Column('selection',title=None)\n",
    "    ).transform_calculate(random=\"sqrt(-1*log(random()))*cos(2*PI*random())\"\n",
    "    ).properties(\n",
    "        width=200, \n",
    "        height=200\n",
    "    ).add_params(variant_selector\n",
    "    ).resolve_scale(y='independent'\n",
    "    ).configure_header(\n",
    "        labelFontSize=20,  \n",
    "        labelAngle=0,\n",
    "        labelAlign='center',\n",
    "        labelAnchor='middle',\n",
    "        labelFont='Helvetica Light',\n",
    "        labelFontStyle='bold',\n",
    "        labelPadding=3\n",
    "    )\n",
    "    \n",
    "    return chart\n",
    "\n",
    "\n",
    "entry_region_bubble = make_bubble_binding_region(df_binding_effect_concat)\n",
    "entry_region_bubble.display()\n",
    "if entry_binding_combined_corr_plot is not None:\n",
    "    entry_region_bubble.save(binding_region_bubble_plot)"
   ]
  },
  {
   "cell_type": "code",
   "execution_count": null,
   "id": "76962075-8141-461a-a303-06688a09617f",
   "metadata": {},
   "outputs": [],
   "source": []
  }
 ],
 "metadata": {
  "kernelspec": {
   "display_name": "Python 3 (ipykernel)",
   "language": "python",
   "name": "python3"
  },
  "language_info": {
   "codemirror_mode": {
    "name": "ipython",
    "version": 3
   },
   "file_extension": ".py",
   "mimetype": "text/x-python",
   "name": "python",
   "nbconvert_exporter": "python",
   "pygments_lexer": "ipython3",
   "version": "3.11.8"
  }
 },
 "nbformat": 4,
 "nbformat_minor": 5
}
