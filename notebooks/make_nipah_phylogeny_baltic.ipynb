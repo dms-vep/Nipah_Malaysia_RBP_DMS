{
 "cells": [
  {
   "cell_type": "markdown",
   "id": "47cc10f2-bbf9-41f2-a9e7-bc534764c944",
   "metadata": {},
   "source": [
    "# make_nipah_phylogeny_baltic\n",
    "Script to pull in a newick tree file, and make a pretty phylogeny with the baltic package https://github.com/evogytis/baltic\n",
    "\n",
    "* Written by Brendan Larsen"
   ]
  },
  {
   "cell_type": "code",
   "execution_count": null,
   "id": "75a37dc4-6d52-44ef-b62c-0631ed91a300",
   "metadata": {
    "editable": true,
    "slideshow": {
     "slide_type": ""
    },
    "tags": [
     "parameters"
    ]
   },
   "outputs": [],
   "source": [
    "# this cell is tagged as parameters for `papermill` parameterization\n",
    "input_phylo = None\n",
    "output_img = None"
   ]
  },
  {
   "cell_type": "code",
   "execution_count": null,
   "id": "20ad1378",
   "metadata": {
    "editable": true,
    "slideshow": {
     "slide_type": ""
    },
    "tags": []
   },
   "outputs": [],
   "source": [
    "from Bio import Entrez\n",
    "from Bio import SeqIO\n",
    "from Bio import AlignIO\n",
    "from Bio.Align import MultipleSeqAlignment\n",
    "from Bio.Align.Applications import MafftCommandline\n",
    "from Bio.Seq import Seq\n",
    "\n",
    "import matplotlib.pyplot as plt\n",
    "import matplotlib as mpl\n",
    "import matplotlib.patheffects as path_effects\n",
    "import matplotlib.patches as mpatches\n",
    "from matplotlib import gridspec,patheffects\n",
    "import pandas as pd\n",
    "import os\n",
    "from matplotlib.patches import Rectangle,ConnectionPatch\n",
    "import baltic as bt"
   ]
  },
  {
   "cell_type": "markdown",
   "id": "8afbf411-ab9e-4156-90dc-d87730dbaed9",
   "metadata": {},
   "source": [
    "Setup working directory"
   ]
  },
  {
   "cell_type": "code",
   "execution_count": null,
   "id": "1ae5bfad-5f75-4661-9159-c4752aba5e21",
   "metadata": {},
   "outputs": [],
   "source": [
    "if os.getcwd() == '/fh/fast/bloom_j/computational_notebooks/blarsen/2023/Nipah_Malaysia_RBP_DMS/':\n",
    "    pass\n",
    "    print(\"Already in correct directory\")\n",
    "else:\n",
    "    os.chdir(\"/fh/fast/bloom_j/computational_notebooks/blarsen/2023/Nipah_Malaysia_RBP_DMS/\")\n",
    "    print(\"Setup in correct directory\")"
   ]
  },
  {
   "cell_type": "markdown",
   "id": "378ef4c5-e6b7-46c5-9688-b7d984dfbdc3",
   "metadata": {},
   "source": [
    "Load in newick tree"
   ]
  },
  {
   "cell_type": "code",
   "execution_count": null,
   "id": "456f26f2-8d63-4904-b09d-08488f7b431a",
   "metadata": {},
   "outputs": [],
   "source": [
    "tree = bt.loadNewick(input_phylo,tip_regex='-([0-9\\-]+)$',absoluteTime=False)"
   ]
  },
  {
   "cell_type": "markdown",
   "id": "76161692-e83d-459f-8a7d-87a62bc728f8",
   "metadata": {
    "editable": true,
    "slideshow": {
     "slide_type": ""
    },
    "tags": []
   },
   "source": [
    "Function to plot tree"
   ]
  },
  {
   "cell_type": "markdown",
   "id": "f6ada7a8-7862-42bf-bae6-c92f33addbe7",
   "metadata": {
    "editable": true,
    "slideshow": {
     "slide_type": ""
    },
    "tags": []
   },
   "source": [
    "Function to get country of origin information from genbank files"
   ]
  },
  {
   "cell_type": "code",
   "execution_count": null,
   "id": "1f8610be-65a6-4d62-8b15-37e0b71bc412",
   "metadata": {},
   "outputs": [],
   "source": [
    "# Always provide your email address\n",
    "Entrez.email = \"blarsen@fredhutch.org\"\n",
    "\n",
    "def get_country_from_accession_id(accession_ids):\n",
    "    country_info = {}\n",
    "    \n",
    "    for accession_id in accession_ids:\n",
    "        # Fetch the record from GenBank\n",
    "        handle = Entrez.efetch(db=\"nucleotide\", id=accession_id, rettype=\"gb\", retmode=\"text\")\n",
    "        \n",
    "        # Parse the GenBank record\n",
    "        try:\n",
    "            record = SeqIO.read(handle, \"genbank\")\n",
    "        except Exception as e:\n",
    "            print(f\"Error reading record for {accession_id}: {e}\")\n",
    "            handle.close()\n",
    "            continue\n",
    "        \n",
    "        handle.close()\n",
    "        \n",
    "        # Extract country information from features\n",
    "        country = None\n",
    "        for feature in record.features:\n",
    "            if feature.type == \"source\":\n",
    "                if \"country\" in feature.qualifiers:\n",
    "                    country = feature.qualifiers[\"country\"][0]\n",
    "                    break\n",
    "        \n",
    "        country_info[accession_id] = country\n",
    "    \n",
    "    return country_info\n",
    "\n",
    "def read_accession_ids_from_file(file_path):\n",
    "    with open(file_path, 'r') as file:\n",
    "        # Read each line and strip any whitespace or newline characters,\n",
    "        # assuming each line contains one accession ID\n",
    "        accession_ids = [line.strip() for line in file.readlines()]\n",
    "    return accession_ids\n",
    "\n",
    "\n",
    "file_path = 'data/custom_analyses_data/alignments/phylo/nipah_whole_genome_genbank_accession_ids.txt'\n",
    "accession_ids = read_accession_ids_from_file(file_path)\n",
    "\n",
    "# Fetch country information for each accession ID\n",
    "country_info = get_country_from_accession_id(accession_ids)\n",
    "print(country_info)"
   ]
  },
  {
   "cell_type": "markdown",
   "id": "b1c9acba-d05e-46e3-a883-6e3e10541542",
   "metadata": {
    "editable": true,
    "slideshow": {
     "slide_type": ""
    },
    "tags": []
   },
   "source": [
    "Convert country information to dataframe"
   ]
  },
  {
   "cell_type": "code",
   "execution_count": null,
   "id": "4f6a4929-42f8-4141-ae9c-7c84b2d30b4d",
   "metadata": {
    "editable": true,
    "slideshow": {
     "slide_type": ""
    },
    "tags": []
   },
   "outputs": [],
   "source": [
    "def convert_to_dataframe(country_info):\n",
    "    # Convert dictionary to DataFrame\n",
    "    df = pd.DataFrame(list(country_info.items()), columns=['Accession ID', 'Country'])\n",
    "    return df\n",
    "    \n",
    "# Convert country information to pandas DataFrame\n",
    "country_df = convert_to_dataframe(country_info)\n",
    "display(country_df)\n",
    "\n",
    "fixed_country_df = pd.read_csv('data/custom_analyses_data/alignments/phylo/countrydf.csv')\n",
    "display(fixed_country_df)"
   ]
  },
  {
   "cell_type": "code",
   "execution_count": null,
   "id": "134a1acf-c6b0-47cb-9130-457b58f9cba7",
   "metadata": {},
   "outputs": [],
   "source": [
    "def get_accessions_by_country(country_df):\n",
    "    country_dict = {}\n",
    "    country_lists = country_df['Country'].unique()\n",
    "    for country in country_lists:\n",
    "        country_specific_df = country_df[country_df['Country'] == country]\n",
    "        country_dict[country] = list(country_specific_df['Accession ID'])\n",
    "    return country_dict\n",
    "\n",
    "country_dict = get_accessions_by_country(fixed_country_df)"
   ]
  },
  {
   "cell_type": "markdown",
   "id": "3b0084fa-842c-4448-9b42-045e3a7295c8",
   "metadata": {
    "editable": true,
    "slideshow": {
     "slide_type": ""
    },
    "tags": []
   },
   "source": [
    "Now make the tree"
   ]
  },
  {
   "cell_type": "code",
   "execution_count": null,
   "id": "1fbf07d9-31a0-4b4e-b5cd-2c6fb636c1fc",
   "metadata": {
    "editable": true,
    "slideshow": {
     "slide_type": ""
    },
    "tags": []
   },
   "outputs": [],
   "source": [
    "def make_tree(tree, country_dict):\n",
    "    mpl.rc('font', family='sans-serif')\n",
    "    mpl.rc('font', serif='Helvetica')\n",
    "    mpl.rc('text', usetex='false')\n",
    "    mpl.rcParams.update({'font.size': 6})\n",
    "    mpl.rcParams['font.weight'] = 'light'\n",
    "    \n",
    "    fig = plt.figure(figsize=(7.5, 10), facecolor='w')\n",
    "    gs = gridspec.GridSpec(1, 1, wspace=0.0)\n",
    "    ax = plt.subplot(gs[0], facecolor='w')\n",
    "\n",
    "    ### MAP COLORS\n",
    "    colors = ['#5778a4', '#e49444', '#d1615d', '#a87c9f', '#e7ca60']\n",
    "    color_mapping = {country: colors[i % len(colors)] for i, country in enumerate(country_dict.keys())}\n",
    "    color_func = lambda k: color_mapping[next(country for country, ids in country_dict.items() if k.name in ids)]\n",
    "\n",
    "    ### DRAW TREE\n",
    "    tree.drawTree()\n",
    "    tree.plotTree(ax, colour='black', width=1, connection_type='baltic')\n",
    "    tree.plotPoints(ax, colour=color_func, size=40, zorder=4)\n",
    "\n",
    "    ### ADD LEAF TEXT\n",
    "    x_attr = lambda k: k.x+0.001\n",
    "    kwargs={'va':'center','ha':'left'} ## kwargs for text\n",
    "    #tree.addText(ax,x_attr=x_attr,**kwargs)\n",
    "\n",
    "    ### SET MATPLOTLIB INFO\n",
    "    ax.set_xticks([])\n",
    "    ax.set_yticks([])\n",
    "    ax.set_yticklabels([])\n",
    "    ax.spines['top'].set_visible(False)\n",
    "    ax.spines['right'].set_visible(False)\n",
    "    ax.spines['bottom'].set_visible(False)\n",
    "    ax.spines['left'].set_visible(False)\n",
    "\n",
    "    ### MAKE COUNTRY COLOR LEGEND\n",
    "    legend_patches = [mpatches.Patch(color=color, label=country) for country, color in color_mapping.items()]\n",
    "    legend = ax.legend(handles=legend_patches, loc='upper left', bbox_to_anchor=(1, 1), frameon=False, fontsize=6)\n",
    "    plt.tight_layout()\n",
    "    plt.savefig(output_img,dpi=300)\n",
    "    plt.show()\n",
    "    \n",
    "make_tree(tree,country_dict)"
   ]
  },
  {
   "cell_type": "code",
   "execution_count": null,
   "id": "93007325-01d5-451f-9ae8-4ee6c6b4109f",
   "metadata": {},
   "outputs": [],
   "source": []
  }
 ],
 "metadata": {
  "kernelspec": {
   "display_name": "Python 3 (ipykernel)",
   "language": "python",
   "name": "python3"
  },
  "language_info": {
   "codemirror_mode": {
    "name": "ipython",
    "version": 3
   },
   "file_extension": ".py",
   "mimetype": "text/x-python",
   "name": "python",
   "nbconvert_exporter": "python",
   "pygments_lexer": "ipython3",
   "version": "3.11.8"
  }
 },
 "nbformat": 4,
 "nbformat_minor": 5
}
