{
 "cells": [
  {
   "cell_type": "markdown",
   "id": "262ca3d4-3cc9-4175-be21-210319a490a6",
   "metadata": {
    "editable": true,
    "slideshow": {
     "slide_type": ""
    },
    "tags": []
   },
   "source": [
    "### This script will filter, then make logo plots for each mAb against NiV"
   ]
  },
  {
   "cell_type": "code",
   "execution_count": null,
   "id": "50b5a1c3-799b-4c24-90d8-b041bc835763",
   "metadata": {
    "editable": true,
    "slideshow": {
     "slide_type": ""
    },
    "tags": [
     "parameters"
    ]
   },
   "outputs": [],
   "source": [
    "# this cell is tagged as parameters for `papermill` parameterization\n",
    "#nipah_config = None\n",
    "#\n",
    "#HENV103_file = None\n",
    "#HENV117_file = None\n",
    "#HENV26_file = None\n",
    "#HENV32_file = None\n",
    "#m102_file = None\n",
    "#nAH1_file = None\n",
    "#\n",
    "#HENV103_filtered_path = None\n",
    "#HENV117_filtered_path = None\n",
    "#HENV26_filtered_path = None \n",
    "#HENV32_filtered_path = None \n",
    "#m102_filtered_path = None\n",
    "#nAH1_filtered_path = None\n",
    "#\n",
    "#HENV103_logo_path = None\n",
    "#HENV117_logo_path = None\n",
    "#HENV26_logo_path = None\n",
    "#HENV32_logo_path = None\n",
    "#m102_logo_path = None\n",
    "#nAH1_logo_path = None"
   ]
  },
  {
   "cell_type": "code",
   "execution_count": null,
   "id": "f83e70ff-0049-4b6b-a852-bc4d9034333b",
   "metadata": {
    "editable": true,
    "slideshow": {
     "slide_type": ""
    },
    "tags": []
   },
   "outputs": [],
   "source": [
    "import math\n",
    "import os\n",
    "import re\n",
    "\n",
    "import altair as alt\n",
    "\n",
    "import numpy as np\n",
    "\n",
    "import pandas as pd\n",
    "\n",
    "import scipy.stats\n",
    "\n",
    "import Bio.SeqIO\n",
    "import yaml\n",
    "import matplotlib\n",
    "matplotlib.rcParams['svg.fonttype'] = 'none'\n",
    "\n",
    "from Bio import PDB\n",
    "import dmslogo\n",
    "from dmslogo.colorschemes import CBPALETTE\n",
    "from dmslogo.colorschemes import ValueToColorMap"
   ]
  },
  {
   "cell_type": "code",
   "execution_count": null,
   "id": "402f8b06-af68-47b0-90ce-d3aeef00a455",
   "metadata": {
    "editable": true,
    "slideshow": {
     "slide_type": ""
    },
    "tags": []
   },
   "outputs": [],
   "source": [
    "# allow more rows for Altair\n",
    "_ = alt.data_transformers.disable_max_rows()\n",
    "\n",
    "if os.getcwd() == '/fh/fast/bloom_j/computational_notebooks/blarsen/2023/Nipah_Malaysia_RBP_DMS/':\n",
    "    pass\n",
    "    print(\"Already in correct directory\")\n",
    "else:\n",
    "    os.chdir(\"/fh/fast/bloom_j/computational_notebooks/blarsen/2023/Nipah_Malaysia_RBP_DMS/\")\n",
    "    print(\"Setup in correct directory\")"
   ]
  },
  {
   "cell_type": "markdown",
   "id": "edacfe37-0325-4426-817e-bf56e42e5579",
   "metadata": {
    "editable": true,
    "slideshow": {
     "slide_type": ""
    },
    "tags": []
   },
   "source": [
    "# Make logo plots"
   ]
  },
  {
   "cell_type": "code",
   "execution_count": null,
   "id": "3bfeda2f-4d4a-49c5-8f87-81e1cec6ef9d",
   "metadata": {
    "editable": true,
    "slideshow": {
     "slide_type": ""
    },
    "tags": []
   },
   "outputs": [],
   "source": [
    "#nipah_config = 'nipah_config.yaml'\n",
    "\n",
    "#HENV103_file = 'results/antibody_escape/averages/HENV103_mut_effect.csv'\n",
    "#HENV117_file = 'results/antibody_escape/averages/HENV117_mut_effect.csv'\n",
    "#HENV26_file = 'results/antibody_escape/averages/HENV26_mut_effect.csv'\n",
    "#HENV32_file = 'results/antibody_escape/averages/HENV32_mut_effect.csv'\n",
    "#m102_file = 'results/antibody_escape/averages/m102.4_mut_effect.csv'\n",
    "#nAH1_file = 'results/antibody_escape/averages/nAH1.3_mut_effect.csv'\n",
    "\n",
    "HENV103_filtered_path = 'results/filtered_data/HENV103_escape_filtered.csv'\n",
    "HENV117_filtered_path = 'results/filtered_data/HENV117_escape_filtered.csv'\n",
    "HENV26_filtered_path = 'results/filtered_data/HENV26_escape_filtered.csv'\n",
    "HENV32_filtered_path = 'results/filtered_data/HENV32_escape_filtered.csv'\n",
    "m102_filtered_path = 'results/filtered_data/m102_escape_filtered.csv'\n",
    "nAH1_filtered_path = 'results/filtered_data/nAH1_escape_filtered.csv'\n",
    "\n",
    "HENV103_logo_path = 'results/images/logo_plots/HENV103_logo.svg'\n",
    "HENV117_logo_path = 'results/images/logo_plots/HENV117_logo.svg'\n",
    "HENV26_logo_path = 'results/images/logo_plots/HENV26_logo.svg'\n",
    "HENV32_logo_path = 'results/images/logo_plots/HENV32_logo.svg'\n",
    "m102_logo_path = 'results/images/logo_plots/m102_logo.svg'\n",
    "nAH1_logo_path = 'results/images/logo_plots/nAH1_logo.svg'"
   ]
  },
  {
   "cell_type": "code",
   "execution_count": null,
   "id": "616ddf81-102a-42eb-8590-0ff1c86924ce",
   "metadata": {
    "editable": true,
    "slideshow": {
     "slide_type": ""
    },
    "tags": []
   },
   "outputs": [],
   "source": [
    "with open(nipah_config) as f:\n",
    "    config = yaml.safe_load(f)"
   ]
  },
  {
   "cell_type": "code",
   "execution_count": null,
   "id": "682e60ac-40de-4d56-ab72-dcbe109e21dd",
   "metadata": {
    "editable": true,
    "slideshow": {
     "slide_type": ""
    },
    "tags": []
   },
   "outputs": [],
   "source": [
    "HENV103 = pd.read_csv(HENV103_file)\n",
    "HENV117 = pd.read_csv(HENV117_file)\n",
    "HENV26 = pd.read_csv(HENV26_file)\n",
    "HENV32 = pd.read_csv(HENV32_file)\n",
    "m102 = pd.read_csv(m102_file)\n",
    "nAH1 = pd.read_csv(nAH1_file)"
   ]
  },
  {
   "cell_type": "markdown",
   "id": "aa4627e8-d058-45e7-9dea-8115e401b508",
   "metadata": {
    "editable": true,
    "slideshow": {
     "slide_type": ""
    },
    "tags": []
   },
   "source": [
    "### Make escape logo plots colored by entry score"
   ]
  },
  {
   "cell_type": "code",
   "execution_count": null,
   "id": "172de76e-e7da-4269-abb9-d56502fce360",
   "metadata": {
    "editable": true,
    "slideshow": {
     "slide_type": ""
    },
    "tags": []
   },
   "outputs": [],
   "source": [
    "func_scores = pd.read_csv('../Nipah_Malaysia_RBP_DMS/results/func_effects/averages/CHO_EFNB3_low_func_effects.csv')\n",
    "\n",
    "def generate_logo_plot(df, output_file, title):\n",
    "    \"\"\"Generate logo plot and save as a file.\"\"\"\n",
    "    fig, ax = dmslogo.draw_logo(\n",
    "        data=df.query('show_site'),\n",
    "        x_col='site',\n",
    "        letter_col='mutant',\n",
    "        letter_height_col='escape_median',\n",
    "        ylabel='Escape',\n",
    "        xlabel='',\n",
    "        color_col='color',\n",
    "        title=title\n",
    "    )\n",
    "    fig.savefig(output_file, bbox_inches='tight',format='svg')\n",
    "\n",
    "dfs_filter_only = {}\n",
    "def prepare_mab_escape_for_logo(df,name,filtered_output,logo_output):\n",
    "    tmp_df = df.merge(func_scores, on=['site','wildtype','mutant'],how='left',suffixes=['_ab','_func_effects'])\n",
    "    #filter\n",
    "    tmp_df = tmp_df[\n",
    "        (tmp_df['site'] != 603) &\n",
    "        (tmp_df['mutant'] != '*') &\n",
    "        (tmp_df['mutant'] != '-') &\n",
    "        (tmp_df['times_seen_func_effects'] >= config['func_times_seen_cutoff']) &\n",
    "        (tmp_df['times_seen_ab'] >= config['min_times_seen_ab']) &\n",
    "        (tmp_df['frac_models'] >= config['frac_models']) &\n",
    "        (tmp_df['effect'] >= config['min_func_effect_for_ab']) &\n",
    "        (tmp_df['escape_std'] <= config['max_ab_std']) \n",
    "    ]\n",
    "    \n",
    "    # Get sites with max score over some percentile threshold\n",
    "    sums_max = tmp_df.groupby('site')['escape_median'].max()\n",
    "    quantile_max = sums_max.quantile(config['max_quantile'])\n",
    "    sites_max_score = sums_max[sums_max > quantile_max].index.tolist()\n",
    "    display(sites_max_score)\n",
    "    # Get sites with sum score over percentile threshold\n",
    "    sums_total = tmp_df.groupby('site')['escape_median'].sum()\n",
    "    quantile_total = sums_total.quantile(config['sum_quantile'])\n",
    "    sites_agg_sum = sums_total[sums_total > quantile_total].index.tolist()\n",
    "    \n",
    "    # Combine both lists of sites\n",
    "    sites_to_show_list = list(set(sites_max_score + sites_agg_sum))\n",
    "    # Add a column to data\n",
    "    tmp_df['show_site'] = tmp_df['site'].isin(sites_to_show_list)\n",
    "    tmp_df['ab'] = name\n",
    "    # Save processed df of each mAb for mapping onto crystal structure\n",
    "    tmp_df.to_csv(filtered_output, index=False)\n",
    "\n",
    "    # Remove small escape sites\n",
    "    tmp_df = tmp_df[tmp_df['escape_median'] >= config['min_escape_cutoff']]\n",
    "\n",
    "    # Color by functional score and clip scores > 0\n",
    "    tmp_df['clip'] = np.clip(tmp_df['effect'], None, 0)\n",
    "    min_prop = tmp_df['effect'].min()\n",
    "    max_prop = tmp_df['clip'].max()\n",
    "\n",
    "    map1 = ValueToColorMap(minvalue=min_prop, maxvalue=max_prop, cmap='Blues')\n",
    "    tmp_df['color'] = tmp_df['clip'].map(map1.val_to_color)\n",
    "    generate_logo_plot(tmp_df, logo_output, name)\n",
    "    tmp_df = tmp_df[['site','wildtype','mutant','mutation','escape_median','escape_std','times_seen_ab','effect','show_site']]\n",
    "    \n",
    "    fig, _ = map1.scale_bar(orientation='horizontal')\n",
    "    fig.savefig('results/images/logo_plots/scalebar.svg', bbox_inches='tight',format='svg')\n",
    "    \n",
    "    return tmp_df\n",
    "\n",
    "HENV103_df = prepare_mab_escape_for_logo(HENV103,'HENV-103', HENV103_filtered_path, HENV103_logo_path)\n",
    "HENV117_df = prepare_mab_escape_for_logo(HENV117,'HENV-117', HENV117_filtered_path, HENV117_logo_path)\n",
    "HENV26_df = prepare_mab_escape_for_logo(HENV26,'HENV-26', HENV26_filtered_path, HENV26_logo_path)\n",
    "HENV32_df = prepare_mab_escape_for_logo(HENV32,'HENV-32', HENV32_filtered_path, HENV32_logo_path)\n",
    "m102_df = prepare_mab_escape_for_logo(m102,'m102.4', m102_filtered_path, m102_logo_path)\n",
    "nAH1_df = prepare_mab_escape_for_logo(nAH1,'nAH1.3', nAH1_filtered_path, nAH1_logo_path)"
   ]
  }
 ],
 "metadata": {
  "kernelspec": {
   "display_name": "Python 3 (ipykernel)",
   "language": "python",
   "name": "python3"
  },
  "language_info": {
   "codemirror_mode": {
    "name": "ipython",
    "version": 3
   },
   "file_extension": ".py",
   "mimetype": "text/x-python",
   "name": "python",
   "nbconvert_exporter": "python",
   "pygments_lexer": "ipython3",
   "version": "3.11.7"
  }
 },
 "nbformat": 4,
 "nbformat_minor": 5
}
