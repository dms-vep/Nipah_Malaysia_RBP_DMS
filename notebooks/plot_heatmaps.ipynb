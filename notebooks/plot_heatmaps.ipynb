{
 "cells": [
  {
   "cell_type": "markdown",
   "id": "7c485c25-1e1a-401a-b5f4-2d969b1fa694",
   "metadata": {
    "editable": true,
    "slideshow": {
     "slide_type": ""
    },
    "tags": []
   },
   "source": [
    "### This notebook makes heatmaps of entry and binding data from filtered data"
   ]
  },
  {
   "cell_type": "code",
   "execution_count": 42,
   "id": "c564182e-f416-4808-9a3d-edf7b8d31a57",
   "metadata": {
    "editable": true,
    "slideshow": {
     "slide_type": ""
    },
    "tags": [
     "parameters"
    ]
   },
   "outputs": [],
   "source": [
    "# this cell is tagged as parameters for `papermill` parameterization\n",
    "#input configs\n",
    "altair_config = None\n",
    "nipah_config = None\n",
    "\n",
    "#input files\n",
    "entropy_file = None\n",
    "\n",
    "func_scores_E2_file = None\n",
    "binding_E2_file = None\n",
    "e2_low_func_file = None\n",
    "\n",
    "func_scores_E3_file = None\n",
    "binding_E3_file = None\n",
    "e3_low_func_file = None\n",
    "\n",
    "#output images\n",
    "E2_binding_heatmap = None\n",
    "E3_binding_heatmap = None\n",
    "E2_entry_heatmap = None\n",
    "E3_entry_heatmap = None\n",
    "combined_entry_contact_heatmaps = None\n",
    "combined_contact_binding_plot = None"
   ]
  },
  {
   "cell_type": "code",
   "execution_count": 43,
   "id": "3c44c337-b3e1-46b6-85a3-142a5f3a9321",
   "metadata": {
    "editable": true,
    "slideshow": {
     "slide_type": ""
    },
    "tags": []
   },
   "outputs": [],
   "source": [
    "import math\n",
    "import os\n",
    "import re\n",
    "import altair as alt\n",
    "import numpy as np\n",
    "import pandas as pd\n",
    "import scipy.stats\n",
    "import yaml"
   ]
  },
  {
   "cell_type": "code",
   "execution_count": 44,
   "id": "46b3f8e6-1f43-410b-a207-814bdc3a9af2",
   "metadata": {
    "editable": true,
    "slideshow": {
     "slide_type": ""
    },
    "tags": []
   },
   "outputs": [
    {
     "name": "stdout",
     "output_type": "stream",
     "text": [
      "Setup in correct directory\n"
     ]
    }
   ],
   "source": [
    "# allow more rows for Altair\n",
    "_ = alt.data_transformers.disable_max_rows()\n",
    "\n",
    "if os.getcwd() == '/fh/fast/bloom_j/computational_notebooks/blarsen/2023/Nipah_Malaysia_RBP_DMS/':\n",
    "    pass\n",
    "    print(\"Already in correct directory\")\n",
    "else:\n",
    "    os.chdir(\"/fh/fast/bloom_j/computational_notebooks/blarsen/2023/Nipah_Malaysia_RBP_DMS/\")\n",
    "    print(\"Setup in correct directory\")"
   ]
  },
  {
   "cell_type": "code",
   "execution_count": 45,
   "id": "dd2445a1-19cb-419b-8339-213fb21725c4",
   "metadata": {
    "editable": true,
    "slideshow": {
     "slide_type": ""
    },
    "tags": []
   },
   "outputs": [
    {
     "name": "stdout",
     "output_type": "stream",
     "text": [
      "loading hard paths\n"
     ]
    }
   ],
   "source": [
    "if nipah_config is None:\n",
    "##hard paths in case don't want to run with snakemake\n",
    "    print('loading hard paths')\n",
    "    altair_config = \"data/custom_analyses_data/theme.py\"\n",
    "    nipah_config = \"nipah_config.yaml\"\n",
    "    entropy_file = 'results/entropy/entropy.csv'\n",
    "    \n",
    "    #input files\n",
    "    func_scores_E2_file = \"results/filtered_data/E2_entry_filtered.csv\"\n",
    "    binding_E2_file = \"results/filtered_data/E2_binding_filtered.csv\"\n",
    "    e2_low_func_file = \"results/filtered_data/E2_binding_low_effect_filter.csv\"\n",
    "    \n",
    "    func_scores_E3_file = \"results/filtered_data/E3_entry_filtered.csv\"\n",
    "    binding_E3_file = \"results/filtered_data/E3_binding_filtered.csv\"\n",
    "    e3_low_func_file = \"results/filtered_data/E3_binding_low_effect_filter.csv\""
   ]
  },
  {
   "cell_type": "markdown",
   "id": "d6365bd9-cf78-43ce-a3b8-aa0781c6a98b",
   "metadata": {},
   "source": [
    "#### Read configs"
   ]
  },
  {
   "cell_type": "code",
   "execution_count": 46,
   "id": "b1a9f684-65cb-49f4-ba74-fe057f00d30c",
   "metadata": {
    "editable": true,
    "slideshow": {
     "slide_type": ""
    },
    "tags": []
   },
   "outputs": [],
   "source": [
    "if altair_config:\n",
    "    with open(altair_config, 'r') as file:\n",
    "        exec(file.read())\n",
    "\n",
    "with open(nipah_config) as f:\n",
    "    config = yaml.safe_load(f)"
   ]
  },
  {
   "cell_type": "code",
   "execution_count": 47,
   "id": "aca4e9ac-e285-494f-97ed-2e71e85fafeb",
   "metadata": {
    "editable": true,
    "slideshow": {
     "slide_type": ""
    },
    "tags": []
   },
   "outputs": [],
   "source": [
    "#import filtered data\n",
    "e2_binding = pd.read_csv(binding_E2_file)\n",
    "e2_func = pd.read_csv(func_scores_E2_file)\n",
    "e2_low_func = pd.read_csv(e2_low_func_file)\n",
    "\n",
    "e3_binding = pd.read_csv(binding_E3_file)\n",
    "e3_func = pd.read_csv(func_scores_E3_file)\n",
    "e3_low_func = pd.read_csv(e3_low_func_file)"
   ]
  },
  {
   "cell_type": "code",
   "execution_count": null,
   "id": "aca46f90-3043-489d-b056-a3d20d92d3dc",
   "metadata": {
    "editable": true,
    "slideshow": {
     "slide_type": ""
    },
    "tags": []
   },
   "outputs": [],
   "source": [
    "def prepare_entropy():  # need to prepare entropy data for plotting on heatmap\n",
    "    # read in entropy data, calculated in different notebook\n",
    "    entropy = pd.read_csv(entropy_file)\n",
    "    df = entropy[[\"site\", \"henipavirus_entropy\"]]\n",
    "    df = df.dropna(subset=[\"site\"])\n",
    "    df[\"site\"] = df[\"site\"].astype(\"Int64\")\n",
    "    df = df.rename(columns={\"henipavirus_entropy\": \"entropy\"})\n",
    "    df['entropy'] = df['entropy'].round(2)\n",
    "    df = df[[\"site\", \"entropy\"]].drop_duplicates()\n",
    "    df[\"mutant\"] = \"entropy\"\n",
    "    df[\"wildtype\"] = \"\"\n",
    "    df[\"type\"] = \"entropy\"\n",
    "    df.rename(columns={\"entropy\": 'value'}, inplace=True)\n",
    "    return df\n",
    "\n",
    "def make_contact():\n",
    "    df = pd.DataFrame(\n",
    "        {\n",
    "            \"site\": config[\"contact_sites\"],\n",
    "            \"contact\": [0.0] * len(config[\"contact_sites\"]),\n",
    "        }\n",
    "    )\n",
    "    # Renaming and restructuring the dataframe as per your original function\n",
    "    df[\"mutant\"] = \"contact\"\n",
    "    df[\"wildtype\"] = \"\"\n",
    "    df[\"type\"] = \"contact\"\n",
    "    df.rename(columns={\"contact\": 'value'}, inplace=True)\n",
    "    return df\n",
    "\n",
    "# This gets called during heatmap generation\n",
    "def make_empty_df(df, contact_df=None, entropy_df=None, contact_flag=None, entropy_flag=None,low_entry_df=None,binding_flag=None):\n",
    "    sites = range(71, 603)\n",
    "    amino_acids = [\"R\", \"K\", \"H\", \"D\", \"E\", \"Q\", \"N\", \"S\", \"T\", \"Y\", \"W\", \"F\", \"A\", \"I\", \"L\", \"M\", \"V\", \"G\", \"P\", \"C\"]\n",
    "    # Create the combination of each site with each amino acid\n",
    "    data = [{\"site\": site, \"mutant\": aa} for site in sites for aa in amino_acids]\n",
    "\n",
    "    # Create the DataFrame\n",
    "    empty_df = pd.DataFrame(data)\n",
    "    #all_sites_df = pd.merge(empty_df, df, on=[\"site\", \"mutant\"], how=\"left\")\n",
    "\n",
    "    if binding_flag:\n",
    "        if low_entry_df is None:\n",
    "            print('You indicated binding but did not provide a low_entry_df')\n",
    "        all_sites_df = pd.merge(empty_df, df, on=[\"site\", \"mutant\"], how=\"left\")\n",
    "        df_test = all_sites_df.melt(\n",
    "            id_vars=[\"site\", \"mutant\", \"wildtype\"],\n",
    "            value_vars=[\"binding_median\"],\n",
    "            var_name=\"type\",\n",
    "            value_name='value',\n",
    "        )\n",
    "        low_entry_df = low_entry_df.rename(columns={'effect':'low_effect'})\n",
    "        df_filter = low_entry_df.melt(\n",
    "            id_vars=[\"site\",\"mutant\",\"wildtype\"],\n",
    "            value_vars=[\"low_effect\"],\n",
    "            var_name=\"type\",\n",
    "            value_name='value',\n",
    "        )\n",
    "        df_test = pd.concat([df_test,df_filter])\n",
    "        \n",
    "    else:\n",
    "        all_sites_df = pd.merge(empty_df, df, on=[\"site\", \"mutant\"], how=\"left\")\n",
    "        df_test = all_sites_df.melt(\n",
    "            id_vars=[\"site\", \"mutant\", \"wildtype\"],\n",
    "            value_vars=[\"effect\"],\n",
    "            var_name=\"type\",\n",
    "            value_name='value',\n",
    "        )\n",
    "    \n",
    "    \n",
    "    if contact_flag and entropy_flag is None:\n",
    "        df_test = pd.concat([df_test], ignore_index=True)\n",
    "    if contact_flag is True:\n",
    "        df_test = pd.concat([df_test, contact_df], ignore_index=True)\n",
    "    if entropy_flag is True:\n",
    "        df_test = pd.concat([df_test, entropy_df], ignore_index=True)\n",
    "    if entropy_flag and contact_flag is True:\n",
    "        df_test = pd.concat([df_test, entropy_df, contact_df], ignore_index=True)\n",
    "    \n",
    "\n",
    "\n",
    "    return df_test"
   ]
  },
  {
   "cell_type": "code",
   "execution_count": null,
   "id": "9c57cf58-dba9-4356-ae0b-a9e960c37f73",
   "metadata": {
    "editable": true,
    "slideshow": {
     "slide_type": ""
    },
    "tags": []
   },
   "outputs": [],
   "source": [
    "# Make the base heatmap. This contains information about the x_axis and heatmap_sites which are important for sorting them correctly. \n",
    "def make_base_heatmap(df, heatmap_sites, x_axis):\n",
    "    base = (\n",
    "        alt.Chart(df)\n",
    "        .encode(\n",
    "            x=alt.X(\"site:O\", title=\"Site\", sort=heatmap_sites, axis=x_axis),\n",
    "            y=alt.Y(\n",
    "                \"mutant\",\n",
    "                title=\"Amino Acid\",\n",
    "                sort=alt.EncodingSortField(field='mutant_rank', order='ascending'),\n",
    "                axis=alt.Axis(grid=False),\n",
    "            ),\n",
    "        )\n",
    "        .properties(\n",
    "            width=alt.Step(10),\n",
    "            height=alt.Step(11),\n",
    "        )\n",
    "    )\n",
    "    return base\n",
    "\n",
    "# This makes an 'empty' heatmap that shows sites that were not observed as some color (default:gray)\n",
    "def make_empty_heatmap(base, background_color):\n",
    "    chart_empty = (\n",
    "        base.mark_rect(color=background_color)\n",
    "        .encode(\n",
    "            tooltip=['site', 'mutant']\n",
    "        )\n",
    "        .transform_filter(\n",
    "            ((alt.datum.type == \"effect\") | (alt.datum.type == 'binding_median')) & (alt.datum.value == None) \n",
    "        )\n",
    "    )\n",
    "    return chart_empty\n",
    "# This makes the white squares and X for the wildtype amino acids\n",
    "def make_wildtype_heatmap(unique_wildtypes_df, strokewidth_size, heatmap_sites):\n",
    "    wildtype_layer_box = (\n",
    "        alt.Chart(unique_wildtypes_df)\n",
    "        .mark_rect(color=\"white\", stroke=\"black\", strokeWidth=strokewidth_size)\n",
    "        .encode(\n",
    "            x=alt.X(\"site:O\", sort=heatmap_sites),\n",
    "            y=alt.Y(\"wildtype\", sort=alt.EncodingSortField(field=\"mutant_rank\", order=\"ascending\")),\n",
    "            tooltip=[\"site\", \"wildtype\"],\n",
    "        )\n",
    "        .transform_filter(\n",
    "            ((alt.datum.type == \"effect\") | (alt.datum.type == 'binding_median')) & (alt.datum.wildtype != None) & (alt.datum.value != None)\n",
    "        )\n",
    "    )\n",
    "    wildtype_layer = (\n",
    "        alt.Chart(unique_wildtypes_df)\n",
    "        .mark_text(color=\"black\", text=\"X\", size=8, align=\"center\", baseline=\"middle\")\n",
    "        .encode(\n",
    "            x=alt.X(\"site:O\", sort=heatmap_sites),\n",
    "            y=alt.Y(\"wildtype\", sort=alt.EncodingSortField(field=\"mutant_rank\", order=\"ascending\")),\n",
    "            tooltip=[\"site\", \"wildtype\"],\n",
    "        )\n",
    "        .transform_filter(\n",
    "            ((alt.datum.type == \"effect\") | (alt.datum.type == 'binding_median')) & (alt.datum.wildtype != None) & (alt.datum.value != None)\n",
    "        )\n",
    "    )\n",
    "    return wildtype_layer_box, wildtype_layer\n",
    "\n",
    "# This makes the actual effect heatmap, and adds a bar for the legend if its the first time through the loop\n",
    "def create_effect_chart(base, color_scale_effect, strokewidth_size, legend_title=None, effect_legend_added=None):\n",
    "    legend = alt.Legend(title=legend_title) if effect_legend_added is True else None\n",
    "    chart = (\n",
    "        base.mark_rect(stroke=\"black\", strokeWidth=strokewidth_size)\n",
    "        .encode(\n",
    "            color=alt.condition(\n",
    "                '(datum.type == \"effect\" | datum.type == \"binding_median\")',\n",
    "                alt.Color('value:Q', scale=color_scale_effect, legend=legend),\n",
    "                alt.value(\"transparent\"),\n",
    "            ),\n",
    "            tooltip=['site', 'mutant', 'wildtype', 'value']\n",
    "        )\n",
    "        .transform_filter(\n",
    "            (alt.datum.wildtype != '') & (alt.datum.wildtype != None)\n",
    "        )\n",
    "    )\n",
    "    return chart\n",
    "# This makes a chart for the entropy values \n",
    "def create_entropy_chart(base, color_scale_entropy, strokewidth_size, legend_title=None, entropy_legend_added=None):\n",
    "    legend = alt.Legend(title='Henipavirus Entropy') if entropy_legend_added is True else None\n",
    "    chart = (\n",
    "        base.mark_rect(stroke=\"black\", strokeWidth=strokewidth_size)\n",
    "        .encode(\n",
    "            color=alt.condition(\n",
    "                'datum.mutant == \"entropy\"',\n",
    "                alt.Color('value:Q', scale=color_scale_entropy, legend=legend),\n",
    "                alt.value(\"transparent\"),\n",
    "            ),\n",
    "            tooltip=['site', 'mutant', 'wildtype', 'value']\n",
    "        )\n",
    "    )\n",
    "    return chart\n",
    "# This makes a chart for the contact sites\n",
    "def create_contact_chart(base):\n",
    "    chart_contact = (\n",
    "        base.mark_rect(color=\"black\")\n",
    "        .encode(tooltip=['site'])\n",
    "        .transform_filter(\n",
    "            (alt.datum.mutant == \"contact\")\n",
    "        )\n",
    "    )\n",
    "    return chart_contact\n",
    "\n",
    "def make_low_effect_heatmap(base,strokewidth_size,heatmap_sites):\n",
    "    chart_filtered = (\n",
    "            base.mark_rect(color='#939598',stroke='black',strokeWidth = strokewidth_size).encode(\n",
    "            ).transform_filter(\n",
    "                alt.datum.type == 'low_effect'\n",
    "            )\n",
    "    )\n",
    "    return chart_filtered\n",
    "\n",
    "# This compiles all the different charts and returns a single chart\n",
    "def compile_chart(df, heatmap_sites, unique_wildtypes_df, x_axis, background_color, color_scale_effect, color_scale_entropy, strokewidth_size=None, legend_title=None, effect_legend_added=None, entropy_legend_added=None,binding_flag=None):\n",
    "    base = make_base_heatmap(df, heatmap_sites, x_axis)\n",
    "    chart_empty = make_empty_heatmap(base, background_color)\n",
    "    chart_contact = create_contact_chart(base)\n",
    "    chart_effect = create_effect_chart(base, color_scale_effect, strokewidth_size, legend_title, effect_legend_added)\n",
    "    chart_entropy = create_entropy_chart(base, color_scale_entropy, strokewidth_size, legend_title, entropy_legend_added)\n",
    "    wildtype_layer_box, wildtype_layer = make_wildtype_heatmap(unique_wildtypes_df, strokewidth_size, heatmap_sites)\n",
    "    if binding_flag:\n",
    "        low_entry_heatmap = make_low_effect_heatmap(base,strokewidth_size,heatmap_sites)\n",
    "        chart = alt.layer(\n",
    "            chart_empty,\n",
    "            chart_effect,\n",
    "            low_entry_heatmap,\n",
    "            chart_entropy,\n",
    "            chart_contact,\n",
    "            wildtype_layer_box,\n",
    "            wildtype_layer,\n",
    "        ).resolve_scale(y=\"shared\", x=\"shared\", color=\"independent\")\n",
    "    else:\n",
    "        chart = alt.layer(\n",
    "            chart_empty,\n",
    "            chart_effect,\n",
    "            chart_entropy,\n",
    "            chart_contact,\n",
    "            wildtype_layer_box,\n",
    "            wildtype_layer,\n",
    "        ).resolve_scale(y=\"shared\", x=\"shared\", color=\"independent\")\n",
    "    \n",
    "    return chart"
   ]
  },
  {
   "cell_type": "code",
   "execution_count": null,
   "id": "4700aed0-c18b-4a27-99b0-e0932384aca0",
   "metadata": {
    "editable": true,
    "slideshow": {
     "slide_type": ""
    },
    "tags": []
   },
   "outputs": [],
   "source": [
    "def plot_entry_heatmap(\n",
    "    df, \n",
    "    legend_title, \n",
    "    null_color=None, \n",
    "    ranges=None, \n",
    "    effect_color=None, \n",
    "    entropy_color=None,\n",
    "    strokewidth_size=None,\n",
    "    custom_y_axis_order=None,\n",
    "    entropy_flag=None,\n",
    "    contact_flag=None,\n",
    "    specific_sites=None,\n",
    "    specific_sites_name=None,\n",
    "    low_entry_df = None,\n",
    "    binding_flag=None,\n",
    "    custom_domain=None):\n",
    "    \n",
    "    \"\"\"\n",
    "    Generates a customizable heatmap for deep mutational scanning (DMS) data visualization.\n",
    "\n",
    "    Parameters:\n",
    "    - df (DataFrame): The data frame containing the data to be visualized. It must include the columns 'site', 'mutant', 'value', and 'wildtype'.\n",
    "    - legend_title (str): The title of the heatmap legend.\n",
    "    - null_color (str, optional): Color for mutants with no observations. Default is 'gray'.\n",
    "    - ranges (list of tuples, optional): Defines the ranges for site wrapping on the heatmap. If not provided, a default range is used.\n",
    "    - effect_color (str, optional): Color scheme for effect values. Default is 'red-blue'.\n",
    "    - entropy_color (str, optional): Color scheme for entropy values. Default is 'purples'.\n",
    "    - strokewidth_size (float, optional): The width of the stroke used in the heatmap. Default size is not specified.\n",
    "    - custom_y_axis_order (list, optional): Specifies a custom order for the y-axis, overriding the default amino acid order.\n",
    "    - entropy_flag (bool, optional): If True, sequence entropy is included in the heatmap. Default is False.\n",
    "    - contact_flag (bool, optional): If True, contact sites are included in the heatmap. Default is False.\n",
    "    - specific_sites (list, optional): Specifies a subset of sites to be plotted. If None, all sites are plotted using wrapping. Default is None.\n",
    "    - specific_sites_name (str, optional): A title to display at the top of the heatmap for specific sites. Default is None.\n",
    "    - low_entry_df (DataFrame,optional): If given, will use different color to show sites with low entry scores (Used for Binding Score Heatmaps)\n",
    "    - binding_flag (bool, optional): If True, will plot binding instead of entry. Must be used with low_entry_df to mask low cell entry mutants\n",
    "    - custom_domain (list, optional): Give custom domain used for coloring. If None, will use default [-4,2.5]\n",
    "\n",
    "    Returns:\n",
    "    An Altair chart object representing the generated heatmap. This chart can be further customized or directly displayed in Jupyter notebooks or other compatible environments.\n",
    "    \"\"\"\n",
    "    \n",
    "    if contact_flag:\n",
    "        contact_df = make_contact()\n",
    "    else: \n",
    "        contact_df = None\n",
    "    if entropy_flag is True:\n",
    "        entropy_df = prepare_entropy()\n",
    "    else:\n",
    "        entropy_df = None\n",
    "\n",
    "    # Make the dataframes for plotting.\n",
    "    empty_df = make_empty_df(df,contact_df=contact_df,entropy_df=entropy_df,contact_flag=contact_flag,entropy_flag=entropy_flag,low_entry_df=low_entry_df,binding_flag=binding_flag)\n",
    "\n",
    "    # Define the base order list\n",
    "    base_order = [\"R\", \"K\", \"H\", \"D\", \"E\", \"Q\", \"N\", \"S\", \"T\", \"Y\", \"W\", \"F\", \"A\", \"I\", \"L\", \"M\", \"V\", \"G\", \"P\", \"C\"]\n",
    "    \n",
    "    # Initialize custom_order with custom_y_axis_order or base_order based on custom_y_axis_order's value\n",
    "    custom_order = custom_y_axis_order if custom_y_axis_order is not None else base_order\n",
    "    # Prepend conditions based on flags\n",
    "    if entropy_flag and contact_flag:\n",
    "        # Both flags are true, prepend both \"contact\" and \"entropy\"\n",
    "        custom_order = [\"contact\", \"entropy\"] + custom_order\n",
    "    elif entropy_flag:\n",
    "        # Only entropy_flag is true, prepend \"entropy\"\n",
    "        custom_order = [\"entropy\"] + custom_order\n",
    "    elif contact_flag:\n",
    "        # Only contact_flag is true, prepend \"contact\"\n",
    "        custom_order = [\"contact\"] + custom_order\n",
    "    \n",
    "    # Optional parameters\n",
    "    if null_color is None:\n",
    "        background_color = \"#d1d3d4\"\n",
    "    else:\n",
    "        background_color = null_color\n",
    "        \n",
    "    # Sites for wrapping heatmap correctly\n",
    "    if ranges is None:\n",
    "        full_ranges = [\n",
    "            list(range(start, end))\n",
    "            for start, end in [(71, 204), (204, 337), (337, 470), (470, 603)]\n",
    "        ]\n",
    "    else:\n",
    "        full_ranges=ranges\n",
    "    \n",
    "    # effect_color\n",
    "    if custom_domain:\n",
    "        if effect_color is None:\n",
    "            color_scale_effect = alt.Scale(scheme=\"redblue\", domainMid=0, domain=custom_domain)\n",
    "        else:\n",
    "            color_scale_effect = alt.Scale(scheme=effect_color, domainMid=0, domain=custom_domain)\n",
    "    else:\n",
    "        if effect_color is None:\n",
    "            color_scale_effect = alt.Scale(scheme=\"redblue\", domainMid=0, domain=[-4,2.5])\n",
    "        else:\n",
    "            color_scale_effect = alt.Scale(scheme=effect_color, domainMid=0, domain=[-4,2.5])\n",
    "        \n",
    "    \n",
    "    # entropy_color\n",
    "    if entropy_color is None:\n",
    "        color_scale_entropy = alt.Scale(scheme=\"purples\", domain=[0, 2], reverse=True)\n",
    "    else:\n",
    "        color_scale_entropy = alt.Scale(scheme=entropy_color, domain=[0, 2], reverse=True)\n",
    "    \n",
    "    # strokewidth size\n",
    "    if strokewidth_size is None:\n",
    "        strokewidth_size = 0.25\n",
    "    else:\n",
    "        strokewidth_size = strokewidth_size\n",
    "\n",
    "    if entropy_flag is None:\n",
    "        entropy_legend_added = None\n",
    "    else:\n",
    "        entropy_legend_added = True\n",
    "      \n",
    "    effect_legend_added = True\n",
    "\n",
    "    def determine_sorting_order(df):\n",
    "        # Sort the dataframe by 'site' to ensure that duplicates are detected correctly.\n",
    "        final_df = df.sort_values(\"site\")\n",
    "        sort_order = {mutant: i for i, mutant in enumerate(custom_order)}\n",
    "        final_df[\"mutant_rank\"] = final_df[\"mutant\"].map(sort_order)\n",
    "        # Map the 'mutant' column to these ranks\n",
    "        # Now sort the dataframe by this rank\n",
    "        final_df = final_df.sort_values(\"mutant_rank\")\n",
    "        sites = sorted(final_df[\"site\"].unique(), key=lambda x: float(x))\n",
    "        return final_df, sites, sort_order\n",
    "    \n",
    "    heatmap_df, heatmap_sites,sort_order = determine_sorting_order(empty_df)\n",
    "    \n",
    "    # container to hold the charts\n",
    "    charts = []\n",
    "\n",
    "    if specific_sites:\n",
    "        #Filter the heatmap to only show certain sites\n",
    "        subset_df = heatmap_df[heatmap_df[\"site\"].isin(specific_sites)]\n",
    "        \n",
    "        ### Need to do independently for wildtype here for individual sites\n",
    "        unique_wildtypes_df = subset_df.drop_duplicates(subset=[\"site\",\"wildtype\"])  \n",
    "        unique_wildtypes_df = unique_wildtypes_df.sort_values(\"site\")\n",
    "        sort_order = {mutant: i for i, mutant in enumerate(custom_order)}\n",
    "        unique_wildtypes_df[\"mutant_rank\"] = unique_wildtypes_df[\"wildtype\"].map(sort_order)\n",
    "        unique_wildtypes_df = unique_wildtypes_df.sort_values(\"mutant_rank\")\n",
    "\n",
    "        #Setup x-axis labeling\n",
    "        x_axis = alt.Axis(\n",
    "                labelAngle=-90,\n",
    "                title=\"Site\",\n",
    "                labels=True,\n",
    "        )  \n",
    "        # Run the main heatmap compiler function\n",
    "        chart = compile_chart(subset_df, heatmap_sites, unique_wildtypes_df, x_axis, background_color, color_scale_effect=color_scale_effect, color_scale_entropy=color_scale_entropy,strokewidth_size=strokewidth_size, legend_title=legend_title, effect_legend_added=effect_legend_added, entropy_legend_added=entropy_legend_added,binding_flag=binding_flag)\n",
    "        #Since this is a single chart, I don't know why I need to do this, but I seem to get errors if I don't append and then do alt.vconcat below. I get why I need to do this for multiple heatmaps in a for loop, but not here. Leaving in.\n",
    "        charts.append(chart)\n",
    "        if specific_sites_name:\n",
    "            specific_sites_name=specific_sites_name\n",
    "        else:\n",
    "            specific_sites_name=''\n",
    "        combined_charts = alt.vconcat(*charts,title=specific_sites_name).resolve_scale(y=\"shared\", x=\"shared\", color=\"shared\")\n",
    "        return combined_charts\n",
    "    else:\n",
    "        for idx, subset in enumerate(full_ranges):\n",
    "            # Flags for showing the legend only the first time\n",
    "            subset_df = heatmap_df[\n",
    "                heatmap_df[\"site\"].isin(subset)\n",
    "            ]  # for the wrapping of sites\n",
    "            unique_wildtypes_df = subset_df.drop_duplicates(\n",
    "                subset=[\"site\", \"wildtype\"]\n",
    "            )  # for the wildtype mapping\n",
    "            \n",
    "            # Keep track of where in the loop we are for plotting\n",
    "            is_last_plot = idx == len(full_ranges) - 1\n",
    "            x_axis = alt.Axis(\n",
    "                labelAngle=-90,\n",
    "                labelExpr=\"datum.value % 10 === 0 ? datum.value : ''\",\n",
    "                title=\"Site\" if is_last_plot else None,\n",
    "                labels=True,\n",
    "            )\n",
    "            chart = compile_chart(subset_df, heatmap_sites, unique_wildtypes_df, x_axis, background_color, color_scale_effect=color_scale_effect, color_scale_entropy=color_scale_entropy,strokewidth_size=strokewidth_size, legend_title=legend_title, effect_legend_added=effect_legend_added, entropy_legend_added=entropy_legend_added,binding_flag=binding_flag)\n",
    "            charts.append(chart)\n",
    "            effect_legend_added = None\n",
    "            entropy_legend_added = None\n",
    "        combined_chart = alt.vconcat(\n",
    "            *charts, spacing=3, title=f\"{legend_title}\"\n",
    "        ).resolve_scale(y=\"shared\", x=\"independent\", color=\"shared\")\n",
    "        return combined_chart"
   ]
  },
  {
   "cell_type": "markdown",
   "id": "8fb65e9d-c792-42df-ae21-50dd62c429c3",
   "metadata": {},
   "source": [
    "### Now that we have heatmap function setup, make heatmaps:"
   ]
  },
  {
   "cell_type": "markdown",
   "id": "eae75c20-a2ea-4959-8361-a8fc54ebd29c",
   "metadata": {},
   "source": [
    "#### First, do binding heatmaps"
   ]
  },
  {
   "cell_type": "code",
   "execution_count": null,
   "id": "6dfd57e5-8984-42ce-8361-1c587c7c841d",
   "metadata": {
    "editable": true,
    "slideshow": {
     "slide_type": ""
    },
    "tags": []
   },
   "outputs": [],
   "source": [
    "E2_binding_heatmap_full = plot_entry_heatmap(\n",
    "    df=e2_binding,\n",
    "    legend_title='EFNB2 Binding',\n",
    "    null_color=config['background_color'],\n",
    "    effect_color=config['effect_color'],\n",
    "    entropy_color=config['entropy_color'],\n",
    "    strokewidth_size=config['strokewidth_size'],\n",
    "    contact_flag = True,\n",
    "    #entropy_flag = True,\n",
    "    low_entry_df = e2_low_func,\n",
    "    binding_flag = True,\n",
    "    custom_domain=[-6,2.5]\n",
    "    \n",
    ")\n",
    "E2_binding_heatmap_full.display()\n",
    "E2_binding_heatmap_full.save(E2_binding_heatmap)"
   ]
  },
  {
   "cell_type": "code",
   "execution_count": null,
   "id": "0354dd6a-3b68-4643-b428-614a8a97cc7f",
   "metadata": {
    "editable": true,
    "slideshow": {
     "slide_type": ""
    },
    "tags": []
   },
   "outputs": [],
   "source": [
    "E3_binding_heatmap_full = plot_entry_heatmap(\n",
    "    df=e3_binding,\n",
    "    legend_title='EFNB3 Binding',\n",
    "    null_color=config['background_color'],\n",
    "    effect_color=config['effect_color'],\n",
    "    entropy_color=config['entropy_color'],\n",
    "    strokewidth_size=config['strokewidth_size'],\n",
    "    contact_flag = True,\n",
    "    #entropy_flag = True,\n",
    "    low_entry_df = e3_low_func,\n",
    "    binding_flag = True,\n",
    "    custom_domain=[-2,2],\n",
    "    \n",
    ")\n",
    "E3_binding_heatmap_full.display()\n",
    "E3_binding_heatmap_full.save(E3_binding_heatmap)"
   ]
  },
  {
   "cell_type": "markdown",
   "id": "ac5bb453-c15d-4e5e-b501-1ea065ec2d04",
   "metadata": {},
   "source": [
    "#### Then, make entry heatmaps:"
   ]
  },
  {
   "cell_type": "code",
   "execution_count": null,
   "id": "5dd2e361-6213-4231-84ce-87569617e04d",
   "metadata": {
    "editable": true,
    "slideshow": {
     "slide_type": ""
    },
    "tags": []
   },
   "outputs": [],
   "source": [
    "E2_entry_heatmap_full = plot_entry_heatmap(\n",
    "    df = e2_func, \n",
    "    legend_title = \"CHO-EFNB2 Entry\", \n",
    "    null_color=config['background_color'],\n",
    "    effect_color=config['effect_color'],\n",
    "    entropy_color=config['entropy_color'],\n",
    "    strokewidth_size=config['strokewidth_size'],\n",
    "    contact_flag = True,\n",
    "    entropy_flag = True\n",
    ")\n",
    "E2_entry_heatmap_full.display()\n",
    "E2_entry_heatmap_full.save(E2_entry_heatmap)"
   ]
  },
  {
   "cell_type": "code",
   "execution_count": null,
   "id": "adfacc80-370e-4e62-bb0c-85e8e9fa4ada",
   "metadata": {
    "editable": true,
    "slideshow": {
     "slide_type": ""
    },
    "tags": []
   },
   "outputs": [],
   "source": [
    "E3_entry_heatmap_full = plot_entry_heatmap(\n",
    "    df = e3_func, \n",
    "    legend_title = \"CHO-EFNB3 Entry\", \n",
    "    null_color=config['background_color'],\n",
    "    effect_color=config['effect_color'],\n",
    "    entropy_color=config['entropy_color'],\n",
    "    strokewidth_size=config['strokewidth_size'],\n",
    "    contact_flag = True,\n",
    "    entropy_flag = True\n",
    ")\n",
    "E3_entry_heatmap_full.display()\n",
    "E3_entry_heatmap_full.save(E3_entry_heatmap)"
   ]
  },
  {
   "cell_type": "markdown",
   "id": "80e1c671-b762-402c-95ae-057869388f9d",
   "metadata": {},
   "source": [
    "#### Then, make entry and binding heatmaps for contact sites:"
   ]
  },
  {
   "cell_type": "code",
   "execution_count": null,
   "id": "089ac265-88b6-4e86-b41e-fbcaae9de75f",
   "metadata": {
    "editable": true,
    "slideshow": {
     "slide_type": ""
    },
    "tags": []
   },
   "outputs": [],
   "source": [
    "E2_entry_heatmap_contact = plot_entry_heatmap(\n",
    "    df = e2_func, \n",
    "    legend_title = \"CHO-EFNB2 Entry\", \n",
    "    null_color=config['background_color'],\n",
    "    effect_color=config['effect_color'],\n",
    "    entropy_color=config['entropy_color'],\n",
    "    strokewidth_size=config['strokewidth_size'],\n",
    "    specific_sites=config['contact_sites'],\n",
    "    #specific_sites_name='Contact Sites',\n",
    "    #contact_flag = False,\n",
    "    #entropy_flag = True,\n",
    ")\n",
    "E2_entry_heatmap_contact.display()"
   ]
  },
  {
   "cell_type": "code",
   "execution_count": null,
   "id": "10e4ad3f-474d-4d79-bf99-5b4d178cf9d0",
   "metadata": {
    "editable": true,
    "slideshow": {
     "slide_type": ""
    },
    "tags": []
   },
   "outputs": [],
   "source": [
    "E3_entry_heatmap_contact = plot_entry_heatmap(\n",
    "    df = e3_func, \n",
    "    legend_title = \"CHO-EFNB3 Entry\", \n",
    "    null_color=config['background_color'],\n",
    "    effect_color=config['effect_color'],\n",
    "    entropy_color=config['entropy_color'],\n",
    "    strokewidth_size=config['strokewidth_size'],\n",
    "    specific_sites=config['contact_sites'],\n",
    "    #specific_sites_name='Contact Sites',\n",
    "    #contact_flag = True,\n",
    "    #entropy_flag = True,\n",
    ")\n",
    "E3_entry_heatmap_contact.display()"
   ]
  },
  {
   "cell_type": "code",
   "execution_count": null,
   "id": "8e2f6483-397f-431d-a95e-2c16455b370b",
   "metadata": {
    "editable": true,
    "slideshow": {
     "slide_type": ""
    },
    "tags": []
   },
   "outputs": [],
   "source": [
    "combined_contact = alt.hconcat(E2_entry_heatmap_contact, E3_entry_heatmap_contact,title='Contact Sites')\n",
    "combined_contact.display()\n",
    "combined_contact.save(combined_entry_contact_heatmaps)"
   ]
  },
  {
   "cell_type": "code",
   "execution_count": null,
   "id": "de7d4bbe-2747-401e-88fc-961c8714a564",
   "metadata": {
    "editable": true,
    "slideshow": {
     "slide_type": ""
    },
    "tags": []
   },
   "outputs": [],
   "source": [
    "E2_binding_heatmap_contact = plot_entry_heatmap(\n",
    "    df=e2_binding,\n",
    "    legend_title='EFNB2 Binding',\n",
    "    null_color=config['background_color'],\n",
    "    effect_color=config['effect_color'],\n",
    "    entropy_color=config['entropy_color'],\n",
    "    strokewidth_size=config['strokewidth_size'],\n",
    "    specific_sites=config['contact_sites'],\n",
    "    #contact_flag = True,\n",
    "    #entropy_flag = True,\n",
    "    low_entry_df = e2_low_func,\n",
    "    binding_flag = True,\n",
    "    custom_domain=[-6,2.5]\n",
    ")\n",
    "#E2_binding_heatmap_contact.display()\n",
    "\n",
    "E3_binding_heatmap_contact = plot_entry_heatmap(\n",
    "    df=e3_binding,\n",
    "    legend_title='EFNB3 Binding',\n",
    "    null_color=config['background_color'],\n",
    "    effect_color=config['effect_color'],\n",
    "    entropy_color=config['entropy_color'],\n",
    "    strokewidth_size=config['strokewidth_size'],\n",
    "    specific_sites=config['contact_sites'],\n",
    "    #contact_flag = True,\n",
    "    #entropy_flag = True,\n",
    "    low_entry_df = e3_low_func,\n",
    "    binding_flag = True,\n",
    "    custom_domain=[-2,2]\n",
    ")\n",
    "#E3_binding_heatmap_contact.display()\n",
    "combined_contact_binding = alt.hconcat(E2_binding_heatmap_contact, E3_binding_heatmap_contact,title='Contact Sites')\n",
    "combined_contact_binding.display()\n",
    "combined_contact_binding.save(combined_contact_binding_plot)"
   ]
  },
  {
   "cell_type": "code",
   "execution_count": null,
   "id": "fa95e9f7-f4f0-4b36-97ae-ec9a57ab9187",
   "metadata": {
    "editable": true,
    "slideshow": {
     "slide_type": ""
    },
    "tags": []
   },
   "outputs": [],
   "source": [
    "entry_binding_combined_heatmap = alt.vconcat(combined_contact,combined_contact_binding)\n",
    "entry_binding_combined_heatmap.display()"
   ]
  },
  {
   "cell_type": "code",
   "execution_count": null,
   "id": "9969eff6-660e-4c20-8398-2c28658f2758",
   "metadata": {},
   "outputs": [],
   "source": [
    "E3_binding_heatmap_contact = plot_entry_heatmap(\n",
    "    df=e3_binding,\n",
    "    legend_title='EFNB3 Binding',\n",
    "    null_color=config['background_color'],\n",
    "    effect_color=config['effect_color'],\n",
    "    entropy_color=config['entropy_color'],\n",
    "    strokewidth_size=config['strokewidth_size'],\n",
    "    specific_sites=config['contact_sites'],\n",
    "    #contact_flag = True,\n",
    "    #entropy_flag = True,\n",
    "    low_entry_df = e3_low_func,\n",
    "    binding_flag = True,\n",
    "    custom_domain=[-2,2]\n",
    ")"
   ]
  },
  {
   "cell_type": "code",
   "execution_count": null,
   "id": "abb67b82-68b1-43dd-a315-2f8cd165a4c6",
   "metadata": {
    "editable": true,
    "slideshow": {
     "slide_type": ""
    },
    "tags": []
   },
   "outputs": [],
   "source": [
    "hydrophobic_AA = ['A','V','L','I','M']\n",
    "aromatic_AA = ['Y','W','F']\n",
    "positive_AA = ['K','R','H']\n",
    "negative_AA = ['E','D']\n",
    "hydrophilic_AA = ['S','T','N','Q']\n",
    "\n",
    "def find_aa_wildtype_sites(df,aa_type):\n",
    "    aa_list = list(df[df['wildtype'].isin(aa_type)]['site'].unique())\n",
    "    return aa_list\n",
    "\n",
    "def make_AA_lists(df):\n",
    "    hydrophobic_AA_list = find_aa_wildtype_sites(df,hydrophobic_AA)\n",
    "    aromatic_AA_list = find_aa_wildtype_sites(df,aromatic_AA)\n",
    "    positive_AA_list = find_aa_wildtype_sites(df,positive_AA)\n",
    "    negative_AA_list = find_aa_wildtype_sites(df,negative_AA)\n",
    "    hydrophilic_AA_list = find_aa_wildtype_sites(df,hydrophilic_AA)\n",
    "    all_AA = [hydrophobic_AA_list,aromatic_AA_list,positive_AA_list,negative_AA_list,hydrophilic_AA_list]\n",
    "    return all_AA\n",
    "\n",
    "all_AA = make_AA_lists(e2_binding)\n",
    "AA_names = ['Hydrophobic','Aromatic','Positive','Negative','Hydrophilic']\n",
    "\n",
    "empty_charts = []\n",
    "\n",
    "def make_aa_property_charts(df,df_low,sites_list,sites_name,custom_domain,legend_name):\n",
    "    for aa_type, name in zip(sites_list, sites_name):\n",
    "        aa_property = plot_entry_heatmap(\n",
    "            df=df,\n",
    "            legend_title=legend_name,\n",
    "            null_color=config['background_color'],\n",
    "            effect_color=config['effect_color'],\n",
    "            entropy_color=config['entropy_color'],\n",
    "            strokewidth_size=config['strokewidth_size'],\n",
    "            specific_sites=aa_type,\n",
    "            specific_sites_name=name,\n",
    "            #contact_flag = True,\n",
    "            #entropy_flag = True,\n",
    "            low_entry_df = df_low,\n",
    "            binding_flag = True,\n",
    "            custom_domain=custom_domain\n",
    "        )\n",
    "        empty_charts.append(aa_property)\n",
    "    combined_chart = alt.vconcat(*empty_charts, spacing=3)\n",
    "    return combined_chart\n",
    "\n",
    "E2_binding_AA_prop = make_aa_property_charts(e2_binding,e2_low_func, all_AA, AA_names, [-6,2.5],'EFNB2 Binding')\n",
    "E2_binding_AA_prop.display()"
   ]
  },
  {
   "cell_type": "code",
   "execution_count": null,
   "id": "d4f0ef14-0529-4634-82c2-c44b1b40fc63",
   "metadata": {},
   "outputs": [],
   "source": [
    "E3_binding_AA_prop = make_aa_property_charts(e3_binding,e3_low_func, all_AA, AA_names, [-2,2],'EFNB3 Binding')\n",
    "E3_binding_AA_prop.display()"
   ]
  }
 ],
 "metadata": {
  "kernelspec": {
   "display_name": "Python 3 (ipykernel)",
   "language": "python",
   "name": "python3"
  },
  "language_info": {
   "codemirror_mode": {
    "name": "ipython",
    "version": 3
   },
   "file_extension": ".py",
   "mimetype": "text/x-python",
   "name": "python",
   "nbconvert_exporter": "python",
   "pygments_lexer": "ipython3",
   "version": "3.11.7"
  }
 },
 "nbformat": 4,
 "nbformat_minor": 5
}
