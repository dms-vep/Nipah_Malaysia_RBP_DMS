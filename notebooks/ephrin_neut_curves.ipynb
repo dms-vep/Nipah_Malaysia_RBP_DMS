{
 "cells": [
  {
   "cell_type": "markdown",
   "id": "08b3bc7f-e318-4fc1-8876-a50bb470b83a",
   "metadata": {
    "editable": true,
    "slideshow": {
     "slide_type": ""
    },
    "tags": []
   },
   "source": [
    "### This notebook analyzes ephrin neutralization of Nipah pseudovirus"
   ]
  },
  {
   "cell_type": "code",
   "execution_count": null,
   "id": "289795e6-8419-4211-8b5b-8f8c05162bb5",
   "metadata": {
    "editable": true,
    "slideshow": {
     "slide_type": ""
    },
    "tags": [
     "parameters"
    ]
   },
   "outputs": [],
   "source": [
    "# this cell is tagged as parameters for `papermill` parameterization\n",
    "altair_config = None\n",
    "nipah_config = None\n",
    "\n",
    "ephrin_binding_neuts_file = None\n",
    "ephrin_validation_curves = None\n",
    "\n",
    "validation_ic50s_file = None\n",
    "\n",
    "e2_monomeric_binding_file = None\n",
    "e3_dimeric_binding_file = None\n",
    "\n",
    "ephrin_curve_plot = None\n",
    "e2_curve_plot = None\n",
    "e3_curve_plot = None\n",
    "e2_corr_plot = None\n",
    "e3_corr_plot = None"
   ]
  },
  {
   "cell_type": "code",
   "execution_count": null,
   "id": "17d33550-8011-4e7d-ba14-5696ed01ddb5",
   "metadata": {
    "editable": true,
    "slideshow": {
     "slide_type": ""
    },
    "tags": []
   },
   "outputs": [],
   "source": [
    "import warnings\n",
    "import math\n",
    "import os\n",
    "\n",
    "from IPython.display import display, HTML, SVG\n",
    "\n",
    "import matplotlib.pyplot as plt\n",
    "import pandas as pd\n",
    "import numpy as np\n",
    "\n",
    "import neutcurve\n",
    "from neutcurve.colorschemes import CBPALETTE\n",
    "from neutcurve.colorschemes import CBMARKERS\n",
    "import scipy.stats\n",
    "\n",
    "import yaml\n",
    "\n",
    "import altair as alt\n",
    "import re\n",
    "\n",
    "print(f\"Using `neutcurve` version {neutcurve.__version__}\")"
   ]
  },
  {
   "cell_type": "code",
   "execution_count": null,
   "id": "d9ca5661-c389-4145-85aa-413001de1dab",
   "metadata": {
    "editable": true,
    "slideshow": {
     "slide_type": ""
    },
    "tags": []
   },
   "outputs": [],
   "source": [
    "# allow more rows for Altair\n",
    "_ = alt.data_transformers.disable_max_rows()\n",
    "\n",
    "if os.getcwd() == '/fh/fast/bloom_j/computational_notebooks/blarsen/2023/Nipah_Malaysia_RBP_DMS/':\n",
    "    pass\n",
    "    print(\"Already in correct directory\")\n",
    "else:\n",
    "    os.chdir(\"/fh/fast/bloom_j/computational_notebooks/blarsen/2023/Nipah_Malaysia_RBP_DMS/\")\n",
    "    print(\"Setup in correct directory\")"
   ]
  },
  {
   "cell_type": "code",
   "execution_count": null,
   "id": "9fcdbe3c-b3cf-4c8d-a775-53607de2cf39",
   "metadata": {
    "editable": true,
    "slideshow": {
     "slide_type": ""
    },
    "tags": []
   },
   "outputs": [],
   "source": [
    "#altair_config = 'data/custom_analyses_data/theme.py'\n",
    "#nipah_config = 'nipah_config.yaml'\n",
    "#ephrin_binding_neuts_file = 'data/custom_analyses_data/experimental_data/bat_ephrin_neuts.csv'\n",
    "#ephrin_validation_curves = 'data/custom_analyses_data/experimental_data/binding_single_mutant_validations.csv'\n",
    "#validation_ic50s_file = 'data/custom_analyses_data/experimental_data/receptor_IC_validations.csv'\n",
    "#e2_monomeric_binding_file = 'results/receptor_affinity/averages/EFNB2_monomeric_mut_effect.csv'\n",
    "#e3_dimeric_binding_file = 'results/receptor_affinity/averages/EFNB3_dimeric_mut_effect.csv'\n",
    "\n",
    "#ephrin_curve_plot\n",
    "#e2_curve_plot\n",
    "#e3_curve_plot\n",
    "#e2_corr_plot\n",
    "#e3_corr_plot"
   ]
  },
  {
   "cell_type": "code",
   "execution_count": null,
   "id": "79b5a94b-efbb-4ae4-8603-118bfff0e59a",
   "metadata": {
    "editable": true,
    "slideshow": {
     "slide_type": ""
    },
    "tags": []
   },
   "outputs": [],
   "source": [
    "if altair_config:\n",
    "    with open(altair_config, 'r') as file:\n",
    "        exec(file.read())\n",
    "\n",
    "with open(nipah_config) as f:\n",
    "    config = yaml.safe_load(f)"
   ]
  },
  {
   "cell_type": "markdown",
   "id": "94ce8815-dfce-4e22-a38f-b136e2e6abb9",
   "metadata": {
    "editable": true,
    "slideshow": {
     "slide_type": ""
    },
    "tags": []
   },
   "source": [
    "### First plot neuts with WT virus"
   ]
  },
  {
   "cell_type": "code",
   "execution_count": null,
   "id": "059d3340-edc7-4625-a664-d71ead11adb5",
   "metadata": {
    "editable": true,
    "slideshow": {
     "slide_type": ""
    },
    "tags": []
   },
   "outputs": [],
   "source": [
    "df = pd.read_csv(ephrin_binding_neuts_file)\n",
    "df['virus'] = df['virus'].replace({'E2-dimeric': 'Ephrin-B2-dimeric', 'E2-monomeric': 'Ephrin-B2-monomeric','E3-dimeric': 'Ephrin-B3-dimeric', 'E3-monomeric': 'Ephrin-B3-monomeric'})\n",
    "fits = neutcurve.curvefits.CurveFits(\n",
    "            data=df,\n",
    "            fixbottom=0,\n",
    "            #max_sera_per_subplot=10\n",
    "            )\n",
    "\n",
    "fitParams = fits.fitParams(ics=[50, 90, 95, 97, 98, 99])\n",
    "\n",
    "def extract_dataframe_from_neutcurve(serum, viruses, replicate='average'):\n",
    "    curves = []\n",
    "    # Loop over each virus type and retrieve the curve\n",
    "    for virus in viruses:\n",
    "        curve = fits.getCurve(serum=serum, virus=virus, replicate=replicate)\n",
    "        df = curve.dataframe()\n",
    "        df['virus'] = virus\n",
    "        curves.append(df)\n",
    "    \n",
    "    # Concatenate all the dataframes into one\n",
    "    combined_curve = pd.concat(curves, axis=0)\n",
    "    return combined_curve\n",
    "\n",
    "serum = 'CHO-EFNB3' #pull out the neuts that were done on CHO-EFNB3 cells, not E2\n",
    "viruses = ['Ephrin-B2-dimeric','Ephrin-B2-monomeric','Ephrin-B3-dimeric','Ephrin-B3-monomeric']\n",
    "curve = extract_dataframe_from_neutcurve(serum, viruses)\n",
    "curve['upper'] = curve['measurement'] + curve['stderr']\n",
    "curve['lower'] = curve['measurement'] - curve['stderr']\n",
    "\n",
    "def plot_neut_curve(df):\n",
    "    chart = alt.Chart(df).mark_line(size=1.5,opacity=1).encode(\n",
    "        x=alt.X('concentration:Q',scale=alt.Scale(type='log'),axis=alt.Axis(format='.0e'),title='Concentration (μM)'),\n",
    "        y=alt.Y('fit:Q',title='Fraction Infectivity',),\n",
    "        color=alt.Color('virus',title='Receptor')\n",
    "    ).properties(\n",
    "        height=alt.Step(20),\n",
    "        width=300,\n",
    "    )\n",
    "    circle = alt.Chart(df).mark_circle(size=50,opacity=1).encode(\n",
    "        x=alt.X('concentration',scale=alt.Scale(type='log'),axis=alt.Axis(format='.0e'),title='Concentration (μM)'),\n",
    "        y=alt.Y('measurement:Q',title='Fraction Infectivity'),\n",
    "        color=alt.Color('virus',title='Receptor'),\n",
    "    ).properties(\n",
    "        height=alt.Step(20),\n",
    "        width=300,\n",
    "    )\n",
    "    error = alt.Chart(df).mark_errorbar(opacity=1).encode(\n",
    "        x='concentration',\n",
    "        y=alt.Y('lower',title='Fraction Infectivity'),\n",
    "        y2='upper',\n",
    "        color='virus'\n",
    "    )\n",
    "    plot = chart+circle+error\n",
    "    return plot\n",
    "\n",
    "\n",
    "ephrin_curve = plot_neut_curve(curve)\n",
    "ephrin_curve.display()\n",
    "ephrin_curve.save(ephrin_curve_plot)\n",
    "#ephrin_curve.save('ephrin_curve.json')\n",
    "\n",
    "fitParams = fitParams.rename(columns={'serum': 'target_cells', 'virus': 'soluble_receptor'})\n",
    "fitParams['ic50_nM'] = fitParams['ic50'] * 1000\n",
    "subset = fitParams[fitParams['target_cells'] == 'CHO-EFNB3']\n",
    "display(subset[['soluble_receptor','ic50_nM']])"
   ]
  },
  {
   "cell_type": "markdown",
   "id": "46151689-677b-4e22-8584-2c7450eef4c8",
   "metadata": {
    "editable": true,
    "slideshow": {
     "slide_type": ""
    },
    "tags": []
   },
   "source": [
    "### Pull in binding validation neut data"
   ]
  },
  {
   "cell_type": "code",
   "execution_count": null,
   "id": "f66dea08-7378-4c7d-b4d9-1d7e6b495b74",
   "metadata": {
    "editable": true,
    "slideshow": {
     "slide_type": ""
    },
    "tags": []
   },
   "outputs": [],
   "source": [
    "validation_curves = pd.read_csv(ephrin_validation_curves)\n",
    "\n",
    "fits = neutcurve.curvefits.CurveFits(\n",
    "            data=validation_curves,\n",
    "            fixbottom=0,\n",
    "            #max_sera_per_subplot=10\n",
    "            )\n",
    "\n",
    "fitParams = fits.fitParams(ics=[50, 90, 95, 97, 98, 99])\n",
    "fitParams = fitParams.rename(columns={'serum': 'target_cells', 'virus': 'mutant'})\n",
    "#display(fitParams)\n",
    "def extract_dataframe_from_neutcurve(serum, viruses, replicate='average'):\n",
    "    curves = []\n",
    "    # Loop over each virus type and retrieve the curve\n",
    "    for virus in viruses:\n",
    "        curve = fits.getCurve(serum=serum, virus=virus, replicate=replicate)\n",
    "        df = curve.dataframe()\n",
    "        df['virus'] = virus\n",
    "        curves.append(df)\n",
    "    \n",
    "    # Concatenate all the dataframes into one\n",
    "    combined_curve = pd.concat(curves, axis=0)\n",
    "    return combined_curve\n",
    "\n",
    "def get_curves(df,serum):\n",
    "    #serum = name\n",
    "    viruses = ['H333Q', 'Q492R', 'V507I', 'Q530F', 'S553W', 'D555K', 'WT']\n",
    "    curve = extract_dataframe_from_neutcurve(serum, viruses)\n",
    "    curve['upper'] = curve['measurement'] + curve['stderr']\n",
    "    curve['lower'] = curve['measurement'] - curve['stderr']\n",
    "    return curve\n",
    "\n",
    "e2_validation_curves = get_curves(validation_curves,'EFNB2-monomeric')\n",
    "e3_validation_curves = get_curves(validation_curves,'EFNB3-dimeric')\n",
    "\n",
    "# Sorting function to put 'WT' on top of the legend, followed by numerical order\n",
    "def custom_sort_order(array):\n",
    "    # Sort based on the numerical part in mutation strings, e.g., '530' in 'Q530F'\n",
    "    def extract_number(virus):\n",
    "        num = re.search(r'\\d+', virus)\n",
    "        return int(num.group()) if num else 0\n",
    "\n",
    "    array = sorted(array, key=extract_number)\n",
    "\n",
    "    # Move 'WT' to the beginning of the list\n",
    "    if 'WT' in array:\n",
    "        array.remove('WT')\n",
    "        array.insert(0, 'WT')\n",
    "    return array\n",
    "\n",
    "def plot_validation_curves(df,name):\n",
    "    # Define the category10 colors manually\n",
    "    category10_colors = ['#4E79A5', '#F18F3B', '#E0585B', '#77B7B2', '#5AA155', '#EDC958', '#AF7AA0', '#FE9EA8', '#9C7561', '#BAB0AC']\n",
    "\n",
    "    # Adjust colors based on the unique mutations\n",
    "    colors = ['black'] + category10_colors[:len(df['virus'].unique())-1]\n",
    "\n",
    "    chart = alt.Chart(df).mark_line(size=1,opacity=1).encode(\n",
    "        x=alt.X('concentration:Q',scale=alt.Scale(type='log'),axis=alt.Axis(format='.0e',tickCount=3),title=f'{name} conc. (μg/mL)'),\n",
    "        y=alt.Y('fit:Q',title='Fraction Infectivity',axis=alt.Axis(tickCount=3)),\n",
    "        color=alt.Color('virus',title='Virus',scale=alt.Scale(domain=custom_sort_order(df['virus'].unique()), range=colors))\n",
    "    ).properties(\n",
    "        height=alt.Step(10),\n",
    "        width=300,\n",
    "    )\n",
    "    circle = alt.Chart(df).mark_circle(size=50,opacity=1).encode(\n",
    "        x=alt.X('concentration',scale=alt.Scale(type='log'),axis=alt.Axis(format='.0e',tickCount=3),title=f'{name} conc. (μg/mL)'),\n",
    "        y=alt.Y('measurement:Q',title='Fraction Infectivity',axis=alt.Axis(tickCount=3)),\n",
    "        color=alt.Color('virus',title='Virus',scale=alt.Scale(domain=custom_sort_order(df['virus'].unique()), range=colors))\n",
    "    ).properties(\n",
    "        height=alt.Step(10),\n",
    "        width=300,\n",
    "    )\n",
    "    error = alt.Chart(df).mark_errorbar(opacity=1).encode(\n",
    "        x='concentration',\n",
    "        y=alt.Y('lower',title='Fraction Infectivity'),\n",
    "        y2='upper',\n",
    "        color='virus'\n",
    "    )\n",
    "    plot = chart+circle+error\n",
    "    return plot\n",
    "\n",
    "ephrin_b2_neut_curve = plot_validation_curves(e2_validation_curves,'Ephrin-B2-monomeric')\n",
    "ephrin_b2_neut_curve.display()\n",
    "ephrin_b2_neut_curve.save(e2_curve_plot)\n",
    "#ephrin_b2_neut_curve.save('ephrinb2.json')\n",
    "\n",
    "ephrin_b3_neut_curve = plot_validation_curves(e3_validation_curves,'Ephrin-B3-dimeric')\n",
    "ephrin_b3_neut_curve.display()\n",
    "ephrin_b3_neut_curve.save(e3_curve_plot)\n",
    "#ephrin_b3_neut_curve.save('ephrinb3.json')\n",
    "\n",
    "# Find the IC50 values in ng/mL and relative IC50 to WT\n",
    "fitParams['ic50_ng'] = (fitParams['ic50'] * 1000).round(1)\n",
    "efnb2 = fitParams[fitParams['target_cells'] == 'EFNB2-monomeric']\n",
    "WT_IC50 = efnb2[efnb2['mutant'] == 'WT']\n",
    "wt50 = WT_IC50['ic50_ng'].unique()\n",
    "\n",
    "fitParams['relative_ic50'] = (fitParams['ic50_ng'] / wt50).round(1)\n",
    "display(fitParams[['target_cells','mutant','ic50_ng','relative_ic50']])"
   ]
  },
  {
   "cell_type": "markdown",
   "id": "78209594-71fb-403f-9f55-4787d12ecac5",
   "metadata": {
    "editable": true,
    "slideshow": {
     "slide_type": ""
    },
    "tags": []
   },
   "source": [
    "### Now plot correlations between IC50 and DMS binding score"
   ]
  },
  {
   "cell_type": "markdown",
   "id": "f78b6468-e688-459f-aa3d-b06c3a0b9352",
   "metadata": {
    "editable": true,
    "slideshow": {
     "slide_type": ""
    },
    "tags": []
   },
   "source": [
    "Pull in data and prepare for plotting"
   ]
  },
  {
   "cell_type": "code",
   "execution_count": null,
   "id": "7bbf1148-2d4a-431c-9d65-5baf4c4e6ffe",
   "metadata": {
    "editable": true,
    "slideshow": {
     "slide_type": ""
    },
    "tags": []
   },
   "outputs": [],
   "source": [
    "validation_ic50s = pd.read_csv(validation_ic50s_file,na_filter=None)\n",
    "e2_monomeric_binding = pd.read_csv(e2_monomeric_binding_file)\n",
    "e3_dimeric_binding = pd.read_csv(e3_dimeric_binding_file)\n",
    "\n",
    "def make_df(df,name):\n",
    "    merged = validation_ic50s.merge(df,on=['mutation'])\n",
    "    wt_rows = validation_ic50s[validation_ic50s['mutation'] == 'WT'].copy()\n",
    "    wt_rows['Ephrin binding_median'] = 0.00000\n",
    "    merged = pd.concat([merged, wt_rows], ignore_index=True)\n",
    "    df_tmp = merged[merged['antibody'] == name]\n",
    "    return df_tmp\n",
    "\n",
    "e2_df_out = make_df(e2_monomeric_binding,'EFNB2-monomeric')\n",
    "e3_df_out = make_df(e3_dimeric_binding,'EFNB3-dimeric')"
   ]
  },
  {
   "cell_type": "markdown",
   "id": "7337b686-f9b1-4a5a-b086-c1e37488f01b",
   "metadata": {
    "editable": true,
    "slideshow": {
     "slide_type": ""
    },
    "tags": []
   },
   "source": [
    "Plot correlation data:"
   ]
  },
  {
   "cell_type": "code",
   "execution_count": null,
   "id": "4214e0db-cb7d-403d-ba46-ba8c862a9d86",
   "metadata": {
    "editable": true,
    "slideshow": {
     "slide_type": ""
    },
    "tags": []
   },
   "outputs": [],
   "source": [
    "# Sorting function to put 'WT' on top of the legend, followed by numerical order\n",
    "def custom_sort_order(array):\n",
    "    # Sort based on the numerical part in mutation strings, e.g., '530' in 'Q530F'\n",
    "    def extract_number(mutation):\n",
    "        num = re.search(r'\\d+', mutation)\n",
    "        return int(num.group()) if num else 0\n",
    "\n",
    "    array = sorted(array, key=extract_number)\n",
    "\n",
    "    # Move 'WT' to the beginning of the list\n",
    "    if 'WT' in array:\n",
    "        array.remove('WT')\n",
    "        array.insert(0, 'WT')\n",
    "    return array\n",
    "\n",
    "def make_corr_chart(df,name):\n",
    "    #calculate NT50\n",
    "    df['NT50'] = 1 / df['measured IC50']\n",
    "\n",
    "    #calculate R value:\n",
    "    slope, intercept, r_value, p_value, std_err = scipy.stats.linregress(df['Ephrin binding_median'], df['NT50'])\n",
    "    print(f'The r-value is: {r_value:.2f}')\n",
    "\n",
    "    # Define the category10 colors manually\n",
    "    category10_colors = ['#4E79A5', '#F18F3B', '#E0585B', '#77B7B2', '#5AA155', '#EDC958', '#AF7AA0', '#FE9EA8', '#9C7561', '#BAB0AC']\n",
    "\n",
    "    # Adjust colors based on the unique mutations\n",
    "    colors = ['black'] + category10_colors[:len(df['mutation'].unique())-1]\n",
    "    corr_chart = (\n",
    "        alt.Chart(df)\n",
    "        .encode(\n",
    "            x=alt.X(\n",
    "                \"Ephrin binding_median\",\n",
    "                title=\"DMS binding Score\",\n",
    "            ),\n",
    "            y=alt.Y(\n",
    "                \"NT50\",\n",
    "                title=f\"{name} NT50 (μg/ml-1)\",\n",
    "                scale=alt.Scale(type=\"log\",domain=[0.1,100]),\n",
    "            ),\n",
    "            color=alt.Color('mutation', title='Mutant', scale=alt.Scale(domain=custom_sort_order(df['mutation'].unique()), range=colors)),\n",
    "        )\n",
    "        .mark_point(filled=True, size=100, opacity=1)\n",
    "        .properties(\n",
    "            width=300, \n",
    "            height=300\n",
    "        )\n",
    "    )\n",
    "    text = alt.Chart({'values':[{'x': df['Ephrin binding_median'].min(), 'y': df['NT50'].max(), 'text': f'r = {r_value:.2f}'}]}).mark_text(\n",
    "        align='left',\n",
    "        baseline='top',\n",
    "        dx=5  \n",
    "    ).encode(\n",
    "        x=alt.X('x:Q'),\n",
    "        y=alt.Y('y:Q'),\n",
    "        text='text:N'\n",
    "    )\n",
    "    chart = corr_chart + text\n",
    "    return chart\n",
    "\n",
    "e2_corr = make_corr_chart(e2_df_out,'Ephrin-B2-monomeric')\n",
    "e2_corr.display()\n",
    "e2_corr.save(e2_corr_plot)\n",
    "#e2_corr.save('e2_corr.json')\n",
    "\n",
    "e3_corr = make_corr_chart(e3_df_out,'Ephrin-B3-dimeric')\n",
    "e3_corr.display()\n",
    "e3_corr.save(e3_corr_plot)\n",
    "#e3_corr.save('e3_corr.json')"
   ]
  },
  {
   "cell_type": "code",
   "execution_count": null,
   "id": "3de948c1-970d-46a5-8c9d-fba8443aefdf",
   "metadata": {
    "editable": true,
    "slideshow": {
     "slide_type": ""
    },
    "tags": []
   },
   "outputs": [],
   "source": [
    "(e2_corr | e3_corr).display()"
   ]
  },
  {
   "cell_type": "code",
   "execution_count": null,
   "id": "ad9f30f9-e43b-424a-8b6c-f11b3b2e9d9a",
   "metadata": {
    "editable": true,
    "slideshow": {
     "slide_type": ""
    },
    "tags": []
   },
   "outputs": [],
   "source": []
  }
 ],
 "metadata": {
  "kernelspec": {
   "display_name": "Python 3 (ipykernel)",
   "language": "python",
   "name": "python3"
  },
  "language_info": {
   "codemirror_mode": {
    "name": "ipython",
    "version": 3
   },
   "file_extension": ".py",
   "mimetype": "text/x-python",
   "name": "python",
   "nbconvert_exporter": "python",
   "pygments_lexer": "ipython3",
   "version": "3.11.7"
  }
 },
 "nbformat": 4,
 "nbformat_minor": 5
}
