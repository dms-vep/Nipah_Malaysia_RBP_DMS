{
 "cells": [
  {
   "cell_type": "markdown",
   "id": "08b3bc7f-e318-4fc1-8876-a50bb470b83a",
   "metadata": {
    "editable": true,
    "slideshow": {
     "slide_type": ""
    },
    "tags": []
   },
   "source": [
    "# ephrin_neut_curves\n",
    "This notebook analyzes ephrin neutralization of Nipah pseudovirus\n",
    "- Written by Brendan Larsen"
   ]
  },
  {
   "cell_type": "code",
   "execution_count": null,
   "id": "289795e6-8419-4211-8b5b-8f8c05162bb5",
   "metadata": {
    "editable": true,
    "slideshow": {
     "slide_type": ""
    },
    "tags": [
     "parameters"
    ]
   },
   "outputs": [],
   "source": [
    "# this cell is tagged as parameters for `papermill` parameterization\n",
    "altair_config = None\n",
    "nipah_config = None\n",
    "\n",
    "ephrin_binding_neuts_file = None\n",
    "ephrin_validation_curves = None\n",
    "\n",
    "validation_ic50s_file = None\n",
    "\n",
    "e2_monomeric_binding_file = None\n",
    "e3_dimeric_binding_file = None\n",
    "\n",
    "ephrin_curve_plot = None\n",
    "e2_curve_plot = None\n",
    "e3_curve_plot = None\n",
    "e2_corr_plot = None\n",
    "e3_corr_plot = None\n",
    "EFNB2_neut_corr = None\n",
    "EFNB3_neut_corr = None\n",
    "all_ephrin_neut_plots = None"
   ]
  },
  {
   "cell_type": "code",
   "execution_count": null,
   "id": "17d33550-8011-4e7d-ba14-5696ed01ddb5",
   "metadata": {
    "editable": true,
    "slideshow": {
     "slide_type": ""
    },
    "tags": []
   },
   "outputs": [],
   "source": [
    "import warnings\n",
    "import math\n",
    "import os\n",
    "\n",
    "from IPython.display import display, HTML, SVG\n",
    "\n",
    "import matplotlib.pyplot as plt\n",
    "import pandas as pd\n",
    "import numpy as np\n",
    "\n",
    "import neutcurve\n",
    "from neutcurve.colorschemes import CBPALETTE\n",
    "from neutcurve.colorschemes import CBMARKERS\n",
    "import scipy.stats\n",
    "\n",
    "import yaml\n",
    "\n",
    "import altair as alt\n",
    "import re\n",
    "\n",
    "print(f\"Using `neutcurve` version {neutcurve.__version__}\")"
   ]
  },
  {
   "cell_type": "code",
   "execution_count": null,
   "id": "d9ca5661-c389-4145-85aa-413001de1dab",
   "metadata": {
    "editable": true,
    "slideshow": {
     "slide_type": ""
    },
    "tags": []
   },
   "outputs": [],
   "source": [
    "# allow more rows for Altair\n",
    "_ = alt.data_transformers.disable_max_rows()\n",
    "\n",
    "if (\n",
    "    os.getcwd()\n",
    "    == \"/fh/fast/bloom_j/computational_notebooks/blarsen/2023/Nipah_Malaysia_RBP_DMS/\"\n",
    "):\n",
    "    pass\n",
    "    print(\"Already in correct directory\")\n",
    "else:\n",
    "    os.chdir(\n",
    "        \"/fh/fast/bloom_j/computational_notebooks/blarsen/2023/Nipah_Malaysia_RBP_DMS/\"\n",
    "    )\n",
    "    print(\"Setup in correct directory\")"
   ]
  },
  {
   "cell_type": "markdown",
   "id": "6ed97ffe-8e4c-4c1b-b9a8-f088c5cc3743",
   "metadata": {},
   "source": [
    "### For running interactively"
   ]
  },
  {
   "cell_type": "code",
   "execution_count": null,
   "id": "9fcdbe3c-b3cf-4c8d-a775-53607de2cf39",
   "metadata": {
    "editable": true,
    "slideshow": {
     "slide_type": ""
    },
    "tags": []
   },
   "outputs": [],
   "source": [
    "if EFNB2_neut_corr is None:\n",
    "    altair_config = \"data/custom_analyses_data/theme.py\"\n",
    "    nipah_config = \"nipah_config.yaml\"\n",
    "    ephrin_binding_neuts_file = (\n",
    "        \"data/custom_analyses_data/experimental_data/bat_ephrin_neuts.csv\"\n",
    "    )\n",
    "    ephrin_validation_curves = \"data/custom_analyses_data/experimental_data/binding_single_mutant_validations.csv\"\n",
    "    validation_ic50s_file = (\n",
    "        \"data/custom_analyses_data/experimental_data/receptor_IC_validations.csv\"\n",
    "    )\n",
    "    e2_monomeric_binding_file = (\n",
    "        \"results/receptor_affinity/averages/EFNB2_monomeric_mut_effect.csv\"\n",
    "    )\n",
    "    e3_dimeric_binding_file = (\n",
    "        \"results/receptor_affinity/averages/EFNB3_dimeric_mut_effect.csv\"\n",
    "    )"
   ]
  },
  {
   "cell_type": "markdown",
   "id": "e9c6f154-3ac5-4a48-b830-f52d26dc1f86",
   "metadata": {},
   "source": [
    "### Read in config files"
   ]
  },
  {
   "cell_type": "code",
   "execution_count": null,
   "id": "79b5a94b-efbb-4ae4-8603-118bfff0e59a",
   "metadata": {
    "editable": true,
    "slideshow": {
     "slide_type": ""
    },
    "tags": []
   },
   "outputs": [],
   "source": [
    "if altair_config:\n",
    "    with open(altair_config, \"r\") as file:\n",
    "        exec(file.read())\n",
    "\n",
    "with open(nipah_config) as f:\n",
    "    config = yaml.safe_load(f)"
   ]
  },
  {
   "cell_type": "markdown",
   "id": "94ce8815-dfce-4e22-a38f-b136e2e6abb9",
   "metadata": {
    "editable": true,
    "slideshow": {
     "slide_type": ""
    },
    "tags": []
   },
   "source": [
    "### First plot neuts with WT virus"
   ]
  },
  {
   "cell_type": "code",
   "execution_count": null,
   "id": "112039e7-3bcf-45e0-952d-d96f21ce6936",
   "metadata": {},
   "outputs": [],
   "source": [
    "# First, load in the neut data\n",
    "df = pd.read_csv(ephrin_binding_neuts_file)\n",
    "\n",
    "\n",
    "# In this particular case I want to fix the names\n",
    "df[\"virus\"] = df[\"virus\"].replace(\n",
    "    {\n",
    "        \"E2-dimeric\": \"EFNB2-dimeric\",\n",
    "        \"E2-monomeric\": \"EFNB2-monomeric\",\n",
    "        \"E3-dimeric\": \"EFNB3-dimeric\",\n",
    "        \"E3-monomeric\": \"EFNB3-monomeric\",\n",
    "    }\n",
    ")\n",
    "\n",
    "display(df.head(4))"
   ]
  },
  {
   "cell_type": "markdown",
   "id": "aeeac162-a200-4048-99b5-de6321acd360",
   "metadata": {},
   "source": [
    "### Get neut curves and plot"
   ]
  },
  {
   "cell_type": "code",
   "execution_count": null,
   "id": "059d3340-edc7-4625-a664-d71ead11adb5",
   "metadata": {
    "editable": true,
    "slideshow": {
     "slide_type": ""
    },
    "tags": []
   },
   "outputs": [],
   "source": [
    "fits = neutcurve.curvefits.CurveFits(\n",
    "    data=df,\n",
    "    fixbottom=0,\n",
    ")\n",
    "\n",
    "fitParams = fits.fitParams(ics=[50, 90, 95, 97, 98, 99])\n",
    "\n",
    "\n",
    "def extract_dataframe_from_neutcurve(serum, viruses, replicate=\"average\"):\n",
    "    curves = []\n",
    "    # Loop over each virus type and retrieve the curve\n",
    "    for virus in viruses:\n",
    "        curve = fits.getCurve(serum=serum, virus=virus, replicate=replicate)\n",
    "        df = curve.dataframe()\n",
    "        df[\"virus\"] = virus\n",
    "        curves.append(df)\n",
    "\n",
    "    # Concatenate all the dataframes into one\n",
    "    combined_curve = pd.concat(curves, axis=0)\n",
    "    return combined_curve\n",
    "\n",
    "\n",
    "serum = \"CHO-EFNB3\"  # pull out the neuts that were done on CHO-EFNB3 cells, not E2\n",
    "viruses = [\"EFNB2-dimeric\", \"EFNB2-monomeric\", \"EFNB3-dimeric\", \"EFNB3-monomeric\"]\n",
    "curve = extract_dataframe_from_neutcurve(serum, viruses)\n",
    "curve[\"upper\"] = curve[\"measurement\"] + curve[\"stderr\"]\n",
    "curve[\"lower\"] = curve[\"measurement\"] - curve[\"stderr\"]\n",
    "\n",
    "\n",
    "def plot_neut_curve(df):\n",
    "    chart = (\n",
    "        alt.Chart(df)\n",
    "        .mark_line(size=1.5)\n",
    "        .encode(\n",
    "            x=alt.X(\n",
    "                \"concentration:Q\",\n",
    "                scale=alt.Scale(type=\"log\"),\n",
    "                axis=alt.Axis(format=\".0e\"),\n",
    "                title=\"Concentration (μM)\",\n",
    "            ),\n",
    "            y=alt.Y(\n",
    "                \"fit:Q\",\n",
    "                title=\"Fraction Infectivity\",\n",
    "            ),\n",
    "            color=alt.Color(\"virus\", title=\"Receptor\"),\n",
    "        )\n",
    "        .properties(\n",
    "            width=config[\"neut_curve_width\"], height=config[\"neut_curve_height\"]\n",
    "        )\n",
    "    )\n",
    "    circle = (\n",
    "        alt.Chart(df)\n",
    "        .mark_circle(size=40)\n",
    "        .encode(\n",
    "            x=alt.X(\n",
    "                \"concentration\",\n",
    "                scale=alt.Scale(type=\"log\"),\n",
    "                axis=alt.Axis(format=\".0e\"),\n",
    "                title=\"Concentration (μM)\",\n",
    "            ),\n",
    "            y=alt.Y(\"measurement:Q\", title=\"Fraction Infectivity\"),\n",
    "            color=alt.Color(\"virus\", title=\"Receptor\"),\n",
    "        )\n",
    "        .properties(\n",
    "            width=config[\"neut_curve_width\"], height=config[\"neut_curve_height\"]\n",
    "        )\n",
    "    )\n",
    "    error = (\n",
    "        alt.Chart(df)\n",
    "        .mark_errorbar()\n",
    "        .encode(\n",
    "            x=\"concentration\",\n",
    "            y=alt.Y(\"lower\", title=\"Fraction Infectivity\"),\n",
    "            y2=\"upper\",\n",
    "            color=\"virus\",\n",
    "        )\n",
    "        .properties(\n",
    "            width=config[\"neut_curve_width\"], height=config[\"neut_curve_height\"]\n",
    "        )\n",
    "    )\n",
    "    plot = chart + circle + error\n",
    "    return plot\n",
    "\n",
    "\n",
    "ephrin_curve = plot_neut_curve(curve)\n",
    "ephrin_curve.display()\n",
    "if EFNB2_neut_corr is not None:\n",
    "    ephrin_curve.save(ephrin_curve_plot)\n",
    "\n",
    "fitParams = fitParams.rename(\n",
    "    columns={\"serum\": \"target_cells\", \"virus\": \"soluble_receptor\"}\n",
    ")\n",
    "fitParams[\"ic50_nM\"] = fitParams[\"ic50\"] * 1000\n",
    "subset = fitParams[fitParams[\"target_cells\"] == \"CHO-EFNB3\"]\n",
    "display(subset[[\"soluble_receptor\", \"ic50_nM\"]].round(3))"
   ]
  },
  {
   "cell_type": "markdown",
   "id": "46151689-677b-4e22-8584-2c7450eef4c8",
   "metadata": {
    "editable": true,
    "slideshow": {
     "slide_type": ""
    },
    "tags": []
   },
   "source": [
    "### Pull in binding validation neut data"
   ]
  },
  {
   "cell_type": "code",
   "execution_count": null,
   "id": "e9b764a0-4eb7-4317-84ec-5112220e17f9",
   "metadata": {},
   "outputs": [],
   "source": [
    "validation_curves = pd.read_csv(ephrin_validation_curves)\n",
    "validation_curves['virus'] = validation_curves['virus'].str.replace('WT','Unmutated')"
   ]
  },
  {
   "cell_type": "code",
   "execution_count": null,
   "id": "f66dea08-7378-4c7d-b4d9-1d7e6b495b74",
   "metadata": {
    "editable": true,
    "slideshow": {
     "slide_type": ""
    },
    "tags": []
   },
   "outputs": [],
   "source": [
    "\n",
    "fits = neutcurve.curvefits.CurveFits(\n",
    "    data=validation_curves,\n",
    "    fixbottom=0,\n",
    ")\n",
    "\n",
    "fitParams = fits.fitParams(ics=[50, 90, 95, 97, 98, 99])\n",
    "fitParams = fitParams.rename(columns={\"serum\": \"target_cells\", \"virus\": \"mutant\"})\n",
    "\n",
    "\n",
    "def extract_dataframe_from_neutcurve(serum, viruses, replicate=\"average\"):\n",
    "    curves = []\n",
    "    # Loop over each virus type and retrieve the curve\n",
    "    for virus in viruses:\n",
    "        curve = fits.getCurve(serum=serum, virus=virus, replicate=replicate)\n",
    "        df = curve.dataframe()\n",
    "        df[\"virus\"] = virus\n",
    "        curves.append(df)\n",
    "\n",
    "    # Concatenate all the dataframes into one\n",
    "    combined_curve = pd.concat(curves, axis=0)\n",
    "    return combined_curve\n",
    "\n",
    "\n",
    "def get_curves(df, serum):\n",
    "    viruses = [\"H333Q\", \"Q492R\", \"V507I\", \"Q530F\", \"S553W\", \"D555K\", \"Unmutated\"]\n",
    "    curve = extract_dataframe_from_neutcurve(serum, viruses)\n",
    "    curve[\"upper\"] = curve[\"measurement\"] + curve[\"stderr\"]\n",
    "    curve[\"lower\"] = curve[\"measurement\"] - curve[\"stderr\"]\n",
    "    return curve\n",
    "\n",
    "\n",
    "e2_validation_curves = get_curves(validation_curves, \"EFNB2-monomeric\")\n",
    "e3_validation_curves = get_curves(validation_curves, \"EFNB3-dimeric\")\n",
    "\n",
    "\n",
    "# Sorting function to put 'WT' on top of the legend, followed by numerical order\n",
    "def custom_sort_order(array):\n",
    "    # Sort based on the numerical part in mutation strings, e.g., '530' in 'Q530F'\n",
    "    def extract_number(virus):\n",
    "        num = re.search(r\"\\d+\", virus)\n",
    "        return int(num.group()) if num else 0\n",
    "\n",
    "    array = sorted(array, key=extract_number)\n",
    "\n",
    "    # Move 'WT' to the beginning of the list\n",
    "    if \"WT\" in array:\n",
    "        array.remove(\"Unmutated\")\n",
    "        array.insert(0, \"Unmutated\")\n",
    "    return array\n",
    "\n",
    "\n",
    "def plot_validation_curves(df, name):\n",
    "    # Define the category10 colors manually\n",
    "    category10_colors = [\n",
    "        \"#4E79A5\",\n",
    "        \"#F18F3B\",\n",
    "        \"#E0585B\",\n",
    "        \"#77B7B2\",\n",
    "        \"#5AA155\",\n",
    "        \"#EDC958\",\n",
    "        \"#AF7AA0\",\n",
    "        \"#FE9EA8\",\n",
    "        \"#9C7561\",\n",
    "        \"#BAB0AC\",\n",
    "    ]\n",
    "\n",
    "    # Adjust colors based on the unique mutations\n",
    "    colors = [\"black\"] + category10_colors[: len(df[\"virus\"].unique()) - 1]\n",
    "\n",
    "    chart = (\n",
    "        alt.Chart(df)\n",
    "        .mark_line()\n",
    "        .encode(\n",
    "            x=alt.X(\n",
    "                \"concentration:Q\",\n",
    "                scale=alt.Scale(type=\"log\"),\n",
    "                axis=alt.Axis(format=\".0e\", tickCount=3),\n",
    "                title=f\"{name} conc. (μg/mL)\",\n",
    "            ),\n",
    "            y=alt.Y(\"fit:Q\", title=\"Fraction Infectivity\", axis=alt.Axis(tickCount=3)),\n",
    "            color=alt.Color(\n",
    "                \"virus\",\n",
    "                title=\"Virus\",\n",
    "                scale=alt.Scale(\n",
    "                    domain=custom_sort_order(df[\"virus\"].unique()), range=colors\n",
    "                ),\n",
    "            ),\n",
    "        )\n",
    "        .properties(\n",
    "            width=config[\"neut_curve_width\"], height=config[\"neut_curve_height\"]\n",
    "        )\n",
    "    )\n",
    "    circle = (\n",
    "        alt.Chart(df)\n",
    "        .mark_circle()\n",
    "        .encode(\n",
    "            x=alt.X(\n",
    "                \"concentration\",\n",
    "                scale=alt.Scale(type=\"log\"),\n",
    "                axis=alt.Axis(format=\".0e\", tickCount=3),\n",
    "                title=f\"{name} conc. (μg/mL)\",\n",
    "            ),\n",
    "            y=alt.Y(\n",
    "                \"measurement:Q\",\n",
    "                title=\"Fraction Infectivity\",\n",
    "                axis=alt.Axis(tickCount=3),\n",
    "            ),\n",
    "            color=alt.Color(\n",
    "                \"virus\",\n",
    "                title=\"Virus\",\n",
    "                scale=alt.Scale(\n",
    "                    domain=custom_sort_order(df[\"virus\"].unique()), range=colors\n",
    "                ),\n",
    "            ),\n",
    "        )\n",
    "        .properties(\n",
    "            width=config[\"neut_curve_width\"], height=config[\"neut_curve_height\"]\n",
    "        )\n",
    "    )\n",
    "    error = (\n",
    "        alt.Chart(df)\n",
    "        .mark_errorbar()\n",
    "        .encode(\n",
    "            x=\"concentration\",\n",
    "            y=alt.Y(\"lower\", title=\"Fraction Infectivity\"),\n",
    "            y2=\"upper\",\n",
    "            color=\"virus\",\n",
    "        )\n",
    "        .properties(\n",
    "            width=config[\"neut_curve_width\"], height=config[\"neut_curve_height\"]\n",
    "        )\n",
    "    )\n",
    "    plot = chart + circle + error\n",
    "    plot\n",
    "    return plot\n",
    "\n",
    "\n",
    "ephrin_b2_neut_curve = plot_validation_curves(e2_validation_curves, \"EFNB2-monomeric\")\n",
    "ephrin_b2_neut_curve.display()\n",
    "if EFNB2_neut_corr is not None:\n",
    "    ephrin_b2_neut_curve.save(e2_curve_plot)\n",
    "\n",
    "ephrin_b3_neut_curve = plot_validation_curves(e3_validation_curves, \"EFNB3-dimeric\")\n",
    "ephrin_b3_neut_curve.display()\n",
    "if EFNB2_neut_corr is not None:\n",
    "    ephrin_b3_neut_curve.save(e3_curve_plot)\n",
    "\n",
    "# Find the IC50 values in ng/mL and relative IC50 to WT\n",
    "fitParams[\"ic50_ng\"] = (fitParams[\"ic50\"] * 1000).round(1)\n",
    "efnb2 = fitParams[fitParams[\"target_cells\"] == \"EFNB2-monomeric\"]\n",
    "WT_IC50 = efnb2[efnb2[\"mutant\"] == \"Unmutated\"]\n",
    "wt50 = WT_IC50[\"ic50_ng\"].unique()\n",
    "\n",
    "fitParams[\"relative_ic50\"] = (fitParams[\"ic50_ng\"] / wt50).round(1)\n",
    "display(fitParams[[\"target_cells\", \"mutant\", \"ic50_ng\", \"relative_ic50\"]])"
   ]
  },
  {
   "cell_type": "markdown",
   "id": "78209594-71fb-403f-9f55-4787d12ecac5",
   "metadata": {
    "editable": true,
    "slideshow": {
     "slide_type": ""
    },
    "tags": []
   },
   "source": [
    "### Now plot correlations between IC50 and DMS binding score"
   ]
  },
  {
   "cell_type": "markdown",
   "id": "f78b6468-e688-459f-aa3d-b06c3a0b9352",
   "metadata": {
    "editable": true,
    "slideshow": {
     "slide_type": ""
    },
    "tags": []
   },
   "source": [
    "Pull in data and prepare for plotting"
   ]
  },
  {
   "cell_type": "code",
   "execution_count": null,
   "id": "d3f92811-9775-40c5-80a2-cb70c213df27",
   "metadata": {},
   "outputs": [],
   "source": [
    "validation_ic50s = pd.read_csv(validation_ic50s_file, na_filter=None)\n",
    "validation_ic50s['mutation'] = validation_ic50s['mutation'].str.replace('WT','Unmutated')"
   ]
  },
  {
   "cell_type": "code",
   "execution_count": null,
   "id": "7bbf1148-2d4a-431c-9d65-5baf4c4e6ffe",
   "metadata": {
    "editable": true,
    "slideshow": {
     "slide_type": ""
    },
    "tags": []
   },
   "outputs": [],
   "source": [
    "\n",
    "# Read in filtered DMS binding data\n",
    "e2_monomeric_binding = pd.read_csv(e2_monomeric_binding_file)\n",
    "e3_dimeric_binding = pd.read_csv(e3_dimeric_binding_file)\n",
    "\n",
    "\n",
    "def make_df(df, name):\n",
    "    merged = validation_ic50s.merge(df, on=[\"mutation\"])\n",
    "    wt_rows = validation_ic50s[validation_ic50s[\"mutation\"] == \"Unmutated\"].copy()\n",
    "    wt_rows[\"Ephrin binding_median\"] = 0.00000\n",
    "    merged = pd.concat([merged, wt_rows], ignore_index=True)\n",
    "    df_tmp = merged[merged[\"antibody\"] == name]\n",
    "    return df_tmp\n",
    "\n",
    "\n",
    "e2_df_out = make_df(e2_monomeric_binding, \"EFNB2-monomeric\")\n",
    "e3_df_out = make_df(e3_dimeric_binding, \"EFNB3-dimeric\")"
   ]
  },
  {
   "cell_type": "markdown",
   "id": "7337b686-f9b1-4a5a-b086-c1e37488f01b",
   "metadata": {
    "editable": true,
    "slideshow": {
     "slide_type": ""
    },
    "tags": []
   },
   "source": [
    "Plot correlation data:"
   ]
  },
  {
   "cell_type": "code",
   "execution_count": null,
   "id": "4214e0db-cb7d-403d-ba46-ba8c862a9d86",
   "metadata": {
    "editable": true,
    "slideshow": {
     "slide_type": ""
    },
    "tags": []
   },
   "outputs": [],
   "source": [
    "# Sorting function to put 'WT' on top of the legend, followed by numerical order\n",
    "def custom_sort_order(array):\n",
    "    # Sort based on the numerical part in mutation strings, e.g., '530' in 'Q530F'\n",
    "    def extract_number(mutation):\n",
    "        num = re.search(r\"\\d+\", mutation)\n",
    "        return int(num.group()) if num else 0\n",
    "\n",
    "    array = sorted(array, key=extract_number)\n",
    "\n",
    "    # Move 'WT' to the beginning of the list\n",
    "    if \"WT\" in array:\n",
    "        array.remove(\"Unmutated\")\n",
    "        array.insert(0, \"Unmutated\")\n",
    "    return array\n",
    "\n",
    "\n",
    "def make_corr_chart(df, name):\n",
    "    # calculate NT50\n",
    "    df[\"NT50\"] = 1 / df[\"measured IC50\"]\n",
    "\n",
    "    # calculate R value:\n",
    "    slope, intercept, r_value, p_value, std_err = scipy.stats.linregress(\n",
    "        df[\"Ephrin binding_median\"], df[\"NT50\"]\n",
    "    )\n",
    "    print(f\"The r-value is: {r_value:.2f}\")\n",
    "\n",
    "    # Define the category10 colors manually\n",
    "    category10_colors = [\n",
    "        \"#4E79A5\",\n",
    "        \"#F18F3B\",\n",
    "        \"#E0585B\",\n",
    "        \"#77B7B2\",\n",
    "        \"#5AA155\",\n",
    "        \"#EDC958\",\n",
    "        \"#AF7AA0\",\n",
    "        \"#FE9EA8\",\n",
    "        \"#9C7561\",\n",
    "        \"#BAB0AC\",\n",
    "    ]\n",
    "    if name == 'EFNB3-dimeric':\n",
    "        scale_y = alt.Scale(type=\"log\", domain=[5, 100])\n",
    "    else:\n",
    "        scale_y = alt.Scale(type=\"log\", domain=[0.1, 100])\n",
    "\n",
    "    # Adjust colors based on the unique mutations\n",
    "    colors = [\"black\"] + category10_colors[: len(df[\"mutation\"].unique()) - 1]\n",
    "    corr_chart = (\n",
    "        alt.Chart(df)\n",
    "        .encode(\n",
    "            x=alt.X(\n",
    "                \"Ephrin binding_median\",\n",
    "                title=\"DMS binding Score\",\n",
    "            ),\n",
    "            y=alt.Y(\n",
    "                \"NT50\",\n",
    "                title=f\"{name} NT50 (μg/ml-1)\",\n",
    "                scale=scale_y,\n",
    "            ),\n",
    "            color=alt.Color(\n",
    "                \"mutation\",\n",
    "                title=\"Virus\",\n",
    "                scale=alt.Scale(\n",
    "                    domain=custom_sort_order(df[\"mutation\"].unique()), range=colors\n",
    "                ),\n",
    "            ),\n",
    "        )\n",
    "        .mark_point(size=90)\n",
    "    )\n",
    "    text = (\n",
    "        alt.Chart(\n",
    "            {\n",
    "                \"values\": [\n",
    "                    {\n",
    "                        \"x\": df[\"Ephrin binding_median\"].min(),\n",
    "                        \"y\": df[\"NT50\"].max(),\n",
    "                        \"text\": f\"r = {r_value:.2f}\",\n",
    "                    }\n",
    "                ]\n",
    "            }\n",
    "        )\n",
    "        .mark_text(align=\"left\", baseline=\"top\", dx=5)\n",
    "        .encode(x=alt.X(\"x:Q\"), y=alt.Y(\"y:Q\"), text=\"text:N\")\n",
    "    )\n",
    "    chart = corr_chart + text\n",
    "    return chart\n",
    "\n",
    "\n",
    "e2_corr = make_corr_chart(e2_df_out, \"EFNB2-monomeric\")\n",
    "e2_corr.display()\n",
    "if EFNB2_neut_corr is not None:\n",
    "    e2_corr.save(e2_corr_plot)\n",
    "\n",
    "e3_corr = make_corr_chart(e3_df_out, \"EFNB3-dimeric\")\n",
    "e3_corr.display()\n",
    "if EFNB2_neut_corr is not None:\n",
    "    e3_corr.save(e3_corr_plot)\n",
    "\n",
    "if EFNB2_neut_corr is not None:\n",
    "    (ephrin_b2_neut_curve | e2_corr).save(EFNB2_neut_corr)\n",
    "    (ephrin_b3_neut_curve | e3_corr).save(EFNB3_neut_corr)\n",
    "\n",
    "all_ephrin_neuts = (ephrin_b2_neut_curve | e2_corr) & (ephrin_b3_neut_curve | e3_corr)\n",
    "all_ephrin_neuts.display()\n",
    "if EFNB2_neut_corr is not None:\n",
    "    all_ephrin_neuts.save(all_ephrin_neut_plots)"
   ]
  },
  {
   "cell_type": "code",
   "execution_count": null,
   "id": "c38d0c53-f519-4fcb-a3b1-fffe92346ec1",
   "metadata": {},
   "outputs": [],
   "source": []
  }
 ],
 "metadata": {
  "kernelspec": {
   "display_name": "Python 3 (ipykernel)",
   "language": "python",
   "name": "python3"
  },
  "language_info": {
   "codemirror_mode": {
    "name": "ipython",
    "version": 3
   },
   "file_extension": ".py",
   "mimetype": "text/x-python",
   "name": "python",
   "nbconvert_exporter": "python",
   "pygments_lexer": "ipython3",
   "version": "3.11.7"
  }
 },
 "nbformat": 4,
 "nbformat_minor": 5
}
