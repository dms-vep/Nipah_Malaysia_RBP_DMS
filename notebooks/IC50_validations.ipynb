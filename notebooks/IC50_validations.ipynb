{
 "cells": [
  {
   "cell_type": "markdown",
   "id": "ed116457-09ed-441f-9a48-c75f1267f4e8",
   "metadata": {
    "editable": true,
    "slideshow": {
     "slide_type": ""
    },
    "tags": []
   },
   "source": [
    "# IC50_validations\n",
    "This notebook will read in experimentally determined fraction infectivity curves, plot, and then make correlations with DMS data\n",
    "- Written by Brendan Larsen"
   ]
  },
  {
   "cell_type": "code",
   "execution_count": null,
   "id": "390f988b-7fb1-49ab-afa0-6b46eb2a9c6b",
   "metadata": {
    "editable": true,
    "slideshow": {
     "slide_type": ""
    },
    "tags": [
     "parameters"
    ]
   },
   "outputs": [],
   "source": [
    "# this cell is tagged as parameters for `papermill` parameterization\n",
    "altair_config = None\n",
    "nipah_config = None\n",
    "\n",
    "neut = None\n",
    "escape_file = None\n",
    "\n",
    "nah1_validation_neut_curves = None\n",
    "IC50_validation_plot = None\n",
    "combined_ic50_neut_curve_plot = None"
   ]
  },
  {
   "cell_type": "code",
   "execution_count": null,
   "id": "3ec42b2b-0cee-45be-a369-8c1ddb346959",
   "metadata": {
    "editable": true,
    "slideshow": {
     "slide_type": ""
    },
    "tags": []
   },
   "outputs": [],
   "source": [
    "import math\n",
    "import os\n",
    "import re\n",
    "\n",
    "import altair as alt\n",
    "\n",
    "import numpy as np\n",
    "\n",
    "import pandas as pd\n",
    "\n",
    "import scipy.stats\n",
    "\n",
    "import yaml\n",
    "\n",
    "import neutcurve\n",
    "\n",
    "import scipy.stats\n",
    "\n",
    "print(f\"Using `neutcurve` version {neutcurve.__version__}\")"
   ]
  },
  {
   "cell_type": "code",
   "execution_count": null,
   "id": "9b7b00eb-c489-4c54-8154-4ecbb66c3fa6",
   "metadata": {
    "editable": true,
    "slideshow": {
     "slide_type": ""
    },
    "tags": []
   },
   "outputs": [],
   "source": [
    "# allow more rows for Altair\n",
    "_ = alt.data_transformers.disable_max_rows()\n",
    "\n",
    "if (\n",
    "    os.getcwd()\n",
    "    == \"/fh/fast/bloom_j/computational_notebooks/blarsen/2023/Nipah_Malaysia_RBP_DMS/\"\n",
    "):\n",
    "    pass\n",
    "    print(\"Already in correct directory\")\n",
    "else:\n",
    "    os.chdir(\n",
    "        \"/fh/fast/bloom_j/computational_notebooks/blarsen/2023/Nipah_Malaysia_RBP_DMS/\"\n",
    "    )\n",
    "    print(\"Setup in correct directory\")"
   ]
  },
  {
   "cell_type": "markdown",
   "id": "6b7b65d3-91d2-4a4c-8041-4b5a3f0fc9ce",
   "metadata": {},
   "source": [
    "### For running interactively"
   ]
  },
  {
   "cell_type": "code",
   "execution_count": null,
   "id": "80c70230-2141-41ae-a2c7-46263b3bdfa4",
   "metadata": {
    "editable": true,
    "slideshow": {
     "slide_type": ""
    },
    "tags": []
   },
   "outputs": [],
   "source": [
    "if nah1_validation_neut_curves is None:\n",
    "    altair_config = \"data/custom_analyses_data/theme.py\"\n",
    "    nipah_config = \"nipah_config.yaml\"\n",
    "    escape_file = \"results/antibody_escape/averages/nAH1.3_mut_effect.csv\"\n",
    "    neut = \"data/custom_analyses_data/experimental_data/nAH1_3_mab_validation_neuts.csv\"\n",
    "\n",
    "    ephrin_binding_neuts_file = (\n",
    "        \"data/custom_analyses_data/experimental_data/bat_ephrin_neuts.csv\"\n",
    "    )\n",
    "    ephrin_validation_curves = \"data/custom_analyses_data/experimental_data/binding_single_mutant_validations.csv\"\n",
    "    validation_ic50s_file = (\n",
    "        \"data/custom_analyses_data/experimental_data/receptor_IC_validations.csv\"\n",
    "    )\n",
    "    e2_monomeric_binding_file = (\n",
    "        \"results/receptor_affinity/averages/EFNB2_monomeric_mut_effect.csv\"\n",
    "    )\n",
    "    e3_dimeric_binding_file = (\n",
    "        \"results/receptor_affinity/averages/EFNB3_dimeric_mut_effect.csv\"\n",
    "    )"
   ]
  },
  {
   "cell_type": "markdown",
   "id": "9e6aee46-0aa3-4f4d-bcc0-8ee5a17c8934",
   "metadata": {
    "editable": true,
    "slideshow": {
     "slide_type": ""
    },
    "tags": []
   },
   "source": [
    "### Read in config files"
   ]
  },
  {
   "cell_type": "code",
   "execution_count": null,
   "id": "4a31a956-8abd-4fad-93dd-0322aa7329e8",
   "metadata": {
    "editable": true,
    "slideshow": {
     "slide_type": ""
    },
    "tags": []
   },
   "outputs": [],
   "source": [
    "if altair_config:\n",
    "    with open(altair_config, \"r\") as file:\n",
    "        exec(file.read())\n",
    "\n",
    "with open(nipah_config) as f:\n",
    "    config = yaml.safe_load(f)"
   ]
  },
  {
   "cell_type": "markdown",
   "id": "d51701b4-d2b8-4abb-a61e-6e9c89abd9a4",
   "metadata": {},
   "source": [
    "### Function for getting fitting neut curve from experimental data"
   ]
  },
  {
   "cell_type": "code",
   "execution_count": null,
   "id": "c2ad1733-9ebd-4681-b26a-020cb8425d40",
   "metadata": {
    "editable": true,
    "slideshow": {
     "slide_type": ""
    },
    "tags": []
   },
   "outputs": [],
   "source": [
    "# Estimate neutralization curves using the `curvefits` module from `neutcurve` package.\n",
    "def get_neutcurve(df, replicate=\"average\"):\n",
    "    # estimate neut curves\n",
    "    fits = neutcurve.curvefits.CurveFits(\n",
    "        data=df,  # Input DataFrame containing the experimental data.\n",
    "        serum_col=\"antibody\",\n",
    "        virus_col=\"virus\",\n",
    "        replicate_col=\"replicate\",\n",
    "        conc_col=\"concentration\",\n",
    "        fracinf_col=\"fraction infectivity\",\n",
    "        fixbottom=0,\n",
    "    )\n",
    "    # get neutcurve parameters for different IC values\n",
    "    fitParams = fits.fitParams(ics=[50, 90, 95, 97, 98, 99])\n",
    "\n",
    "    # Prepare lists of unique antibodies and viruses for looping.\n",
    "    antibody_list = list(df[\"antibody\"].unique())\n",
    "    virus_list = list(df[\"virus\"].unique())\n",
    "\n",
    "    curve_list = (\n",
    "        []\n",
    "    )  # Initialize an empty list to store neutralization curve data frames.\n",
    "    # Loop through each combination of antibody and virus to get their neutralization curve.\n",
    "    for antibody in antibody_list:\n",
    "        for virus in virus_list:\n",
    "            # get curves and combine\n",
    "            curve = fits.getCurve(serum=antibody, virus=virus, replicate=replicate)\n",
    "            neut_df = curve.dataframe()\n",
    "            neut_df[\"antibody\"] = antibody\n",
    "            neut_df[\"virus\"] = virus\n",
    "            curve_list.append(neut_df)\n",
    "\n",
    "    neut_curve_df = pd.concat(curve_list)\n",
    "    # Calculate upper and lower bounds for the measurements using standard error (stderr).\n",
    "    neut_curve_df[\"upper\"] = neut_curve_df[\"measurement\"] + neut_curve_df[\"stderr\"]\n",
    "    neut_curve_df[\"lower\"] = neut_curve_df[\"measurement\"] - neut_curve_df[\"stderr\"]\n",
    "\n",
    "    return (\n",
    "        fitParams,\n",
    "        neut_curve_df,\n",
    "    )  # Return the fit parameters and the neut fitted neut curves"
   ]
  },
  {
   "cell_type": "markdown",
   "id": "5a04161f-16bb-4614-b848-836ddb8df860",
   "metadata": {
    "editable": true,
    "slideshow": {
     "slide_type": ""
    },
    "tags": []
   },
   "source": [
    "### Make neut curve plot"
   ]
  },
  {
   "cell_type": "code",
   "execution_count": null,
   "id": "d51a71a8-4303-42e0-bb32-ec1df2415e38",
   "metadata": {
    "editable": true,
    "slideshow": {
     "slide_type": ""
    },
    "tags": []
   },
   "outputs": [],
   "source": [
    "# Sorting function to organize mutation strings with 'WT' at the start and the rest numerically.\n",
    "def custom_sort_order(array):\n",
    "    # Helper function to extract numerical part from mutation strings.\n",
    "    def extract_number(virus):\n",
    "        num = re.search(\n",
    "            r\"\\d+\", virus\n",
    "        )  # Find the first sequence of digits in the string.\n",
    "        return (\n",
    "            int(num.group()) if num else 0\n",
    "        )  # Convert digits to integer, or 0 if none found.\n",
    "\n",
    "    array = sorted(\n",
    "        array, key=extract_number\n",
    "    )  # Sort array by the numerical value extracted.\n",
    "\n",
    "    # Ensure 'WT' (wild type) is the first element in the list if it exists.\n",
    "    if \"WT\" in array:\n",
    "        array.remove(\"WT\")  # Remove 'WT' from its current position.\n",
    "        array.insert(0, \"WT\")  # Insert 'WT' at the beginning of the list.\n",
    "    return array\n",
    "\n",
    "\n",
    "# Function to plot neutralization curves with customized color coding for each virus mutation.\n",
    "def plot_neut_curves(df, neut_curve_name, color_name):\n",
    "    # Manually define colors corresponding to the category10 color scheme plus black.\n",
    "    category10_colors = [\n",
    "        \"#4E79A5\",\n",
    "        \"#F18F3B\",\n",
    "        \"#E0585B\",\n",
    "        \"#77B7B2\",\n",
    "        \"#5AA155\",\n",
    "        \"#EDC958\",\n",
    "        \"#AF7AA0\",\n",
    "        \"#FE9EA8\",\n",
    "        \"#9C7561\",\n",
    "        \"#BAB0AC\",\n",
    "    ]\n",
    "\n",
    "    # Assign colors to mutations, starting with black for the first mutation.\n",
    "    colors = [\"black\"] + category10_colors[: len(df[\"virus\"].unique()) - 1]\n",
    "    # Construct a line chart for the neutralization curves.\n",
    "    chart = (\n",
    "        alt.Chart(df)\n",
    "        .mark_line(size=1.5, opacity=1)\n",
    "        .encode(\n",
    "            x=alt.X(\n",
    "                \"concentration:Q\",\n",
    "                scale=alt.Scale(type=\"log\"),\n",
    "                axis=alt.Axis(format=\".0e\", tickCount=3),\n",
    "                title=neut_curve_name,\n",
    "            ),\n",
    "            y=alt.Y(\"fit:Q\", title=\"Fraction Infectivity\", axis=alt.Axis(tickCount=3)),\n",
    "            color=alt.Color(\n",
    "                \"virus\",\n",
    "                title=color_name,\n",
    "                scale=alt.Scale(\n",
    "                    domain=custom_sort_order(df[\"virus\"].unique()), range=colors\n",
    "                ),\n",
    "            ),\n",
    "        )\n",
    "        .properties(\n",
    "            height=config[\"neut_curve_height\"],\n",
    "            width=config[\"neut_curve_width\"],\n",
    "        )\n",
    "    )\n",
    "    # Add data points as circles on the plot for actual measurements.\n",
    "    circle = (\n",
    "        alt.Chart(df)\n",
    "        .mark_circle(size=40, opacity=1)\n",
    "        .encode(\n",
    "            x=alt.X(\n",
    "                \"concentration\",\n",
    "                scale=alt.Scale(type=\"log\"),\n",
    "                axis=alt.Axis(format=\".0e\", tickCount=3),\n",
    "                title=neut_curve_name,\n",
    "            ),\n",
    "            y=alt.Y(\n",
    "                \"measurement:Q\",\n",
    "                title=\"Fraction Infectivity\",\n",
    "                axis=alt.Axis(tickCount=3),\n",
    "            ),\n",
    "            color=alt.Color(\n",
    "                \"virus\",\n",
    "                title=color_name,\n",
    "                scale=alt.Scale(\n",
    "                    domain=custom_sort_order(df[\"virus\"].unique()), range=colors\n",
    "                ),\n",
    "            ),\n",
    "        )\n",
    "        .properties(\n",
    "            height=config[\"neut_curve_height\"],\n",
    "            width=config[\"neut_curve_width\"],\n",
    "        )\n",
    "    )\n",
    "    # Add error bars\n",
    "    error = (\n",
    "        alt.Chart(df)\n",
    "        .mark_errorbar(opacity=1)\n",
    "        .encode(\n",
    "            x=\"concentration\",\n",
    "            y=alt.Y(\"lower\", title=\"Fraction Infectivity\"),\n",
    "            y2=\"upper\",\n",
    "            color=\"virus\",\n",
    "        )\n",
    "    )\n",
    "    plot = (\n",
    "        chart + circle + error\n",
    "    )  # Combine line chart, circles, and error bars into one plot.\n",
    "    return plot"
   ]
  },
  {
   "cell_type": "markdown",
   "id": "9f695c59-348e-4ed7-a2bd-258646792181",
   "metadata": {
    "editable": true,
    "slideshow": {
     "slide_type": ""
    },
    "tags": []
   },
   "source": [
    "### Now calculate correlations with DMS data and plot"
   ]
  },
  {
   "cell_type": "code",
   "execution_count": null,
   "id": "4d072783-b7be-4247-abc8-17c14d9ae0ff",
   "metadata": {
    "editable": true,
    "slideshow": {
     "slide_type": ""
    },
    "tags": []
   },
   "outputs": [],
   "source": [
    "def plot_ic50_correlations(fitparams, name, escape):\n",
    "    # Merge IC50 and DMS escape dataframes and append WT so it has escape score of 0\n",
    "    fitparams[\"lower_bound\"] = fitparams[\"ic50_bound\"].apply(lambda x: x == \"lower\")\n",
    "    fitparams[\"mutation\"] = fitparams[\"virus\"]\n",
    "    # Merge with DMS escape data\n",
    "    merged = fitparams.merge(escape, on=[\"mutation\"])\n",
    "    wt_rows = fitparams[fitparams[\"mutation\"] == \"WT\"].copy()\n",
    "    wt_rows[\"escape_median\"] = 0\n",
    "    merged = pd.concat([merged, wt_rows], ignore_index=True)\n",
    "\n",
    "    # calculate R value:\n",
    "    slope, intercept, r_value, p_value, std_err = scipy.stats.linregress(\n",
    "        merged[\"escape_median\"], merged[\"ic50\"]\n",
    "    )\n",
    "\n",
    "    # Define the category10 colors manually\n",
    "    category10_colors = [\n",
    "        \"#4E79A5\",\n",
    "        \"#F18F3B\",\n",
    "        \"#E0585B\",\n",
    "        \"#77B7B2\",\n",
    "        \"#5AA155\",\n",
    "        \"#EDC958\",\n",
    "        \"#AF7AA0\",\n",
    "        \"#FE9EA8\",\n",
    "        \"#9C7561\",\n",
    "        \"#BAB0AC\",\n",
    "    ]\n",
    "\n",
    "    # Adjust colors based on the unique mutations\n",
    "    colors = [\"black\"] + category10_colors[: len(merged[\"mutation\"].unique()) - 1]\n",
    "\n",
    "    corr_chart = (\n",
    "        alt.Chart(merged)\n",
    "        .mark_point(size=125)\n",
    "        .encode(\n",
    "            x=alt.X(\n",
    "                \"escape_median\", title=\"DMS escape score\", axis=alt.Axis(grid=True)\n",
    "            ),\n",
    "            y=alt.Y(\n",
    "                \"ic50\",\n",
    "                title=f\"{name}\",\n",
    "                scale=alt.Scale(type=\"log\"),\n",
    "                axis=alt.Axis(grid=True),\n",
    "            ),\n",
    "            color=alt.Color(\n",
    "                \"mutation\",\n",
    "                title=\"Mutant\",\n",
    "                scale=alt.Scale(\n",
    "                    domain=custom_sort_order(merged[\"mutation\"].unique()), range=colors\n",
    "                ),\n",
    "            ),\n",
    "            shape=alt.Shape(\"lower_bound\", title=\"Lower Bound\"),\n",
    "        )\n",
    "    )\n",
    "    text = (\n",
    "        alt.Chart(\n",
    "            {\n",
    "                \"values\": [\n",
    "                    {\n",
    "                        \"x\": merged[\"escape_median\"].min(),\n",
    "                        \"y\": merged[\"ic50\"].max(),\n",
    "                        \"text\": f\"r = {r_value:.2f}\",\n",
    "                    }\n",
    "                ]\n",
    "            }\n",
    "        )\n",
    "        .mark_text(align=\"left\", baseline=\"top\", dx=5)  # Adjust this for position\n",
    "        .encode(x=alt.X(\"x:Q\"), y=alt.Y(\"y:Q\"), text=\"text:N\")\n",
    "    )\n",
    "    final_chart = corr_chart + text\n",
    "    return final_chart"
   ]
  },
  {
   "cell_type": "markdown",
   "id": "11666ed1-ac8f-4111-9776-5908c6fdc1c1",
   "metadata": {},
   "source": [
    "### Combine all the data from above in single function"
   ]
  },
  {
   "cell_type": "code",
   "execution_count": null,
   "id": "b5e170eb-52c7-48c1-b90d-3e06e12ad553",
   "metadata": {},
   "outputs": [],
   "source": [
    "# Function to calculate IC50 correlations and generate plots for neutralization curves and IC50 correlations.\n",
    "def get_neut_curve_ic50_correlations(\n",
    "    raw_data, escape, neut_curve_name, name, color_name\n",
    "):\n",
    "    # Process raw data to separate fitted curve data and neutralization curve data.\n",
    "    fit_df, neut_df = get_neutcurve(raw_data)\n",
    "\n",
    "    # Convert IC50 values from µg to ng/mL for better readability.\n",
    "    fit_df[\"ic50_ng\"] = fit_df[\"ic50\"] * 1000\n",
    "    # Display IC50 values for each serum-virus combination, rounded for clarity.\n",
    "    print(\"Here are the ic50 values:\")\n",
    "    display(fit_df[[\"serum\", \"virus\", \"ic50_ng\"]].round(2))\n",
    "\n",
    "    # Generate a plot of the neutralization curves using the provided data and color scheme.\n",
    "    neut_curves_plot = plot_neut_curves(neut_df, neut_curve_name, color_name)\n",
    "\n",
    "    # Create a plot showing correlations between IC50 values and a specified variable (e.g., escape).\n",
    "    ic50_correlations = plot_ic50_correlations(fit_df, name, escape)\n",
    "\n",
    "    # Combine the neutralization curve plot and the IC50 correlation plot side by side.\n",
    "    combined_neut_curve = neut_curves_plot | ic50_correlations\n",
    "\n",
    "    # Return the individual plots as well as the combined plot for further use or display.\n",
    "    return neut_curves_plot, ic50_correlations, combined_neut_curve"
   ]
  },
  {
   "cell_type": "markdown",
   "id": "ac506bea-817d-4b4c-a3ea-4622ff0c55a5",
   "metadata": {},
   "source": [
    "### Do for antibody validations"
   ]
  },
  {
   "cell_type": "code",
   "execution_count": null,
   "id": "9c2a0d67-c1d5-49d1-b333-0ea5f333803b",
   "metadata": {},
   "outputs": [],
   "source": [
    "# Load escape mutation data from a CSV file\n",
    "escape = pd.read_csv(escape_file)\n",
    "# Load neutralization data from another CSV file\n",
    "neuts = pd.read_csv(neut)\n",
    "\n",
    "# Get rid of Y455M because its not present in escape data\n",
    "neuts = neuts[neuts[\"virus\"] != \"Y455M\"]\n",
    "\n",
    "\n",
    "def fix_neut_df(df):\n",
    "    df = df[[\"serum\", \"virus\", \"replicate\", \"concentration\", \"fraction infectivity\"]]\n",
    "    df = df.rename(columns={\"serum\": \"antibody\"})\n",
    "    return df\n",
    "\n",
    "\n",
    "# Fix naming in dataframe\n",
    "nAH1_validation_neuts = fix_neut_df(neuts)\n",
    "\n",
    "# Calculate neut curve, ic50 correlations with DMS data, and combine figures\n",
    "nAH1_curve_plot, nAH1_ic50_correlations, nAH1_combined = (\n",
    "    get_neut_curve_ic50_correlations(\n",
    "        nAH1_validation_neuts,  # Single mutant validations\n",
    "        escape,  # Filtered DMS escape file\n",
    "        \"nAH1.3 Concentration (μg/ml)\",  # Title for the neutralization curve\n",
    "        \"nAH1.3 IC₅₀ (μg/ml)\",  # Title for the IC50 correlation plot\n",
    "        \"Mutant\",  # Color legend title\n",
    "    )\n",
    ")\n",
    "\n",
    "nAH1_curve_plot.display()\n",
    "if combined_ic50_neut_curve_plot is not None:\n",
    "    nAH1_curve_plot.save(nah1_validation_neut_curves)\n",
    "\n",
    "nAH1_ic50_correlations.display()\n",
    "if combined_ic50_neut_curve_plot is not None:\n",
    "    nAH1_ic50_correlations.save(IC50_validation_plot)\n",
    "\n",
    "nAH1_combined.display()\n",
    "if combined_ic50_neut_curve_plot is not None:\n",
    "    nAH1_combined.save(combined_ic50_neut_curve_plot)"
   ]
  },
  {
   "cell_type": "code",
   "execution_count": null,
   "id": "6a950749-cdcc-41ad-baf9-429ac2e1149a",
   "metadata": {},
   "outputs": [],
   "source": []
  }
 ],
 "metadata": {
  "kernelspec": {
   "display_name": "Python 3 (ipykernel)",
   "language": "python",
   "name": "python3"
  },
  "language_info": {
   "codemirror_mode": {
    "name": "ipython",
    "version": 3
   },
   "file_extension": ".py",
   "mimetype": "text/x-python",
   "name": "python",
   "nbconvert_exporter": "python",
   "pygments_lexer": "ipython3",
   "version": "3.11.7"
  }
 },
 "nbformat": 4,
 "nbformat_minor": 5
}
