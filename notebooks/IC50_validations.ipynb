{
 "cells": [
  {
   "cell_type": "markdown",
   "id": "ed116457-09ed-441f-9a48-c75f1267f4e8",
   "metadata": {
    "editable": true,
    "slideshow": {
     "slide_type": ""
    },
    "tags": []
   },
   "source": [
    "# This notebook will read in experimentally determined fraction infectivity curves, plot, and then make correlations with DMS data"
   ]
  },
  {
   "cell_type": "code",
   "execution_count": null,
   "id": "390f988b-7fb1-49ab-afa0-6b46eb2a9c6b",
   "metadata": {
    "editable": true,
    "slideshow": {
     "slide_type": ""
    },
    "tags": [
     "parameters"
    ]
   },
   "outputs": [],
   "source": [
    "# this cell is tagged as parameters for `papermill` parameterization\n",
    "altair_config=None\n",
    "nipah_config=None\n",
    "\n",
    "neut = None\n",
    "escape_file = None\n",
    "\n",
    "nah1_validation_neut_curves = None\n",
    "IC50_validation_plot = None\n",
    "combined_ic50_neut_curve_plot = None"
   ]
  },
  {
   "cell_type": "code",
   "execution_count": null,
   "id": "3ec42b2b-0cee-45be-a369-8c1ddb346959",
   "metadata": {
    "editable": true,
    "slideshow": {
     "slide_type": ""
    },
    "tags": []
   },
   "outputs": [],
   "source": [
    "import math\n",
    "import os\n",
    "import re\n",
    "\n",
    "import altair as alt\n",
    "\n",
    "import numpy as np\n",
    "\n",
    "import pandas as pd\n",
    "\n",
    "import scipy.stats\n",
    "\n",
    "import yaml\n",
    "\n",
    "import pickle\n",
    "\n",
    "import neutcurve\n",
    "from neutcurve.colorschemes import CBPALETTE\n",
    "from neutcurve.colorschemes import CBMARKERS\n",
    "import scipy.stats\n",
    "print(f\"Using `neutcurve` version {neutcurve.__version__}\")"
   ]
  },
  {
   "cell_type": "code",
   "execution_count": null,
   "id": "9b7b00eb-c489-4c54-8154-4ecbb66c3fa6",
   "metadata": {
    "editable": true,
    "slideshow": {
     "slide_type": ""
    },
    "tags": []
   },
   "outputs": [],
   "source": [
    "# allow more rows for Altair\n",
    "_ = alt.data_transformers.disable_max_rows()\n",
    "\n",
    "if os.getcwd() == '/fh/fast/bloom_j/computational_notebooks/blarsen/2023/Nipah_Malaysia_RBP_DMS/':\n",
    "    pass\n",
    "    print(\"Already in correct directory\")\n",
    "else:\n",
    "    os.chdir(\"/fh/fast/bloom_j/computational_notebooks/blarsen/2023/Nipah_Malaysia_RBP_DMS/\")\n",
    "    print(\"Setup in correct directory\")\n",
    "#with open(\"config.yaml\") as f:\n",
    "#    config = yaml.safe_load(f)"
   ]
  },
  {
   "cell_type": "code",
   "execution_count": null,
   "id": "80c70230-2141-41ae-a2c7-46263b3bdfa4",
   "metadata": {
    "editable": true,
    "slideshow": {
     "slide_type": ""
    },
    "tags": []
   },
   "outputs": [],
   "source": [
    "#altair_config = 'data/custom_analyses_data/theme.py'\n",
    "#nipah_config = 'nipah_config.yaml'\n",
    "#escape_file = 'results/antibody_escape/averages/nAH1.3_mut_effect.csv'\n",
    "#neut = 'data/custom_analyses_data/experimental_data/nAH1_3_mab_validation_neuts.csv'\n",
    "#IC50_validation_plot"
   ]
  },
  {
   "cell_type": "markdown",
   "id": "9e6aee46-0aa3-4f4d-bcc0-8ee5a17c8934",
   "metadata": {
    "editable": true,
    "slideshow": {
     "slide_type": ""
    },
    "tags": []
   },
   "source": [
    "### Read in config files"
   ]
  },
  {
   "cell_type": "code",
   "execution_count": null,
   "id": "4a31a956-8abd-4fad-93dd-0322aa7329e8",
   "metadata": {
    "editable": true,
    "slideshow": {
     "slide_type": ""
    },
    "tags": []
   },
   "outputs": [],
   "source": [
    "if altair_config:\n",
    "    with open(altair_config, 'r') as file:\n",
    "        exec(file.read())\n",
    "\n",
    "with open(nipah_config) as f:\n",
    "    config = yaml.safe_load(f)"
   ]
  },
  {
   "cell_type": "markdown",
   "id": "0860ce79-66da-4462-8fa2-5e34643dc1c7",
   "metadata": {
    "editable": true,
    "slideshow": {
     "slide_type": ""
    },
    "tags": []
   },
   "source": [
    "### Read in raw data"
   ]
  },
  {
   "cell_type": "code",
   "execution_count": null,
   "id": "2a6f101f-d343-43ec-ae5f-5cfaa315c39f",
   "metadata": {
    "editable": true,
    "slideshow": {
     "slide_type": ""
    },
    "tags": []
   },
   "outputs": [],
   "source": [
    "escape = pd.read_csv(escape_file)\n",
    "neuts = pd.read_csv(neut)"
   ]
  },
  {
   "cell_type": "markdown",
   "id": "cf765058-9683-42dc-89c5-ff4a449148ad",
   "metadata": {
    "editable": true,
    "slideshow": {
     "slide_type": ""
    },
    "tags": []
   },
   "source": [
    "Get curves"
   ]
  },
  {
   "cell_type": "code",
   "execution_count": null,
   "id": "d9c4288c-0db3-46c6-adef-f9f7821ed78d",
   "metadata": {
    "editable": true,
    "slideshow": {
     "slide_type": ""
    },
    "tags": []
   },
   "outputs": [],
   "source": [
    "# Get rid of Y455M because its not present in escape data\n",
    "neuts = neuts[neuts['virus'] != 'Y455M']"
   ]
  },
  {
   "cell_type": "code",
   "execution_count": null,
   "id": "c2ad1733-9ebd-4681-b26a-020cb8425d40",
   "metadata": {
    "editable": true,
    "slideshow": {
     "slide_type": ""
    },
    "tags": []
   },
   "outputs": [],
   "source": [
    "def get_neutcurve(df,serum,virus,replicate='average'):\n",
    "    fits = neutcurve.curvefits.CurveFits(\n",
    "                data=df,\n",
    "                fixbottom=0,\n",
    "                )\n",
    "    fitParams = fits.fitParams(ics=[50, 90, 95, 97, 98, 99])\n",
    "\n",
    "    curve = fits.getCurve(serum=serum, virus=virus, replicate=replicate)\n",
    "    \n",
    "    neut_df = curve.dataframe()\n",
    "    neut_df['antibody'] = serum\n",
    "    neut_df['virus'] = virus\n",
    "    neut_df['upper'] = neut_df['measurement'] + neut_df['stderr']\n",
    "    neut_df['lower'] = neut_df['measurement'] - neut_df['stderr']\n",
    "    \n",
    "    return fitParams,neut_df\n",
    "\n",
    "serum_list = list(neuts['serum'].unique())\n",
    "virus_list = list(neuts['virus'].unique())\n",
    "\n",
    "# Assuming neuts is your DataFrame, and you have lists of serums and viruses\n",
    "empty = []\n",
    "for serum in serum_list:  # Iterate over each serum\n",
    "    for virus in virus_list:  # For each serum, iterate over each virus\n",
    "        fit_df,neut_df = get_neutcurve(neuts, serum, virus)  # Pass single serum and virus\n",
    "        empty.append(neut_df)\n",
    "\n",
    "#fit_df is the calculated fit for IC50,IC90, etc\n",
    "display(fit_df.head(8))\n",
    "\n",
    "# neut_curve is full fitting dataframe\n",
    "neut_curve = pd.concat(empty,axis=0)\n",
    "display(neut_curve.head(3))"
   ]
  },
  {
   "cell_type": "markdown",
   "id": "5a04161f-16bb-4614-b848-836ddb8df860",
   "metadata": {
    "editable": true,
    "slideshow": {
     "slide_type": ""
    },
    "tags": []
   },
   "source": [
    "### Make neut curve plot"
   ]
  },
  {
   "cell_type": "code",
   "execution_count": null,
   "id": "d51a71a8-4303-42e0-bb32-ec1df2415e38",
   "metadata": {
    "editable": true,
    "slideshow": {
     "slide_type": ""
    },
    "tags": []
   },
   "outputs": [],
   "source": [
    "# Sorting function to put 'WT' on top of the legend, followed by numerical order\n",
    "def custom_sort_order(array):\n",
    "    # Sort based on the numerical part in mutation strings, e.g., '530' in 'Q530F'\n",
    "    def extract_number(virus):\n",
    "        num = re.search(r'\\d+', virus)\n",
    "        return int(num.group()) if num else 0\n",
    "\n",
    "    array = sorted(array, key=extract_number)\n",
    "\n",
    "    # Move 'WT' to the beginning of the list\n",
    "    if 'WT' in array:\n",
    "        array.remove('WT')\n",
    "        array.insert(0, 'WT')\n",
    "    return array\n",
    "\n",
    "def plot_validation_curves(df,name):\n",
    "    # Define the category10 colors manually\n",
    "    category10_colors = ['#4E79A5', '#F18F3B', '#E0585B', '#77B7B2', '#5AA155', '#EDC958', '#AF7AA0', '#FE9EA8', '#9C7561', '#BAB0AC']\n",
    "\n",
    "    # Adjust colors based on the unique mutations\n",
    "    colors = ['black'] + category10_colors[:len(df['virus'].unique())-1]\n",
    "\n",
    "    chart = alt.Chart(df).mark_line(size=1,opacity=1).encode(\n",
    "        x=alt.X('concentration:Q',scale=alt.Scale(type='log'),axis=alt.Axis(format='.0e',tickCount=3),title=f'{name} conc. (μg/mL)'),\n",
    "        y=alt.Y('fit:Q',title='Fraction Infectivity',axis=alt.Axis(tickCount=3)),\n",
    "        color=alt.Color('virus',title='Mutant',scale=alt.Scale(domain=custom_sort_order(df['virus'].unique()), range=colors))\n",
    "    ).properties(\n",
    "        height=200,\n",
    "        width=300,\n",
    "    )\n",
    "    circle = alt.Chart(df).mark_circle(size=50,opacity=1).encode(\n",
    "        x=alt.X('concentration',scale=alt.Scale(type='log'),axis=alt.Axis(format='.0e',tickCount=3),title=f'{name} conc. (μg/mL)'),\n",
    "        y=alt.Y('measurement:Q',title='Fraction Infectivity',axis=alt.Axis(tickCount=3)),\n",
    "        color=alt.Color('virus',title='Mutant',scale=alt.Scale(domain=custom_sort_order(df['virus'].unique()), range=colors))\n",
    "    ).properties(\n",
    "        height=200,\n",
    "        width=300,\n",
    "    )\n",
    "    error = alt.Chart(df).mark_errorbar(opacity=1).encode(\n",
    "        x='concentration',\n",
    "        y=alt.Y('lower',title='Fraction Infectivity'),\n",
    "        y2='upper',\n",
    "        color='virus'\n",
    "    )\n",
    "    plot = chart+circle+error\n",
    "    return plot\n",
    "\n",
    "nah1_neut_curves = plot_validation_curves(neut_curve,'nAH1.3')\n",
    "nah1_neut_curves.display()\n",
    "nah1_neut_curves.save(nah1_validation_neut_curves)"
   ]
  },
  {
   "cell_type": "markdown",
   "id": "9f695c59-348e-4ed7-a2bd-258646792181",
   "metadata": {
    "editable": true,
    "slideshow": {
     "slide_type": ""
    },
    "tags": []
   },
   "source": [
    "### Now calculate r correlation value, and plot"
   ]
  },
  {
   "cell_type": "code",
   "execution_count": null,
   "id": "4d072783-b7be-4247-abc8-17c14d9ae0ff",
   "metadata": {
    "editable": true,
    "slideshow": {
     "slide_type": ""
    },
    "tags": []
   },
   "outputs": [],
   "source": [
    "def plot_ic50_correlations(df):\n",
    "    #Merge dataframes and append WT so it has escape score of 0\n",
    "    df['lower_bound'] = df['ic50_bound'].apply(lambda x: x == 'lower')\n",
    "    df['mutation'] = df['virus']\n",
    "    # Merge with DMS escape data\n",
    "    merged = df.merge(escape,on=['mutation'])\n",
    "    wt_rows = df[df['mutation'] == 'WT'].copy()\n",
    "    wt_rows['escape_median'] = 0\n",
    "    merged = pd.concat([merged, wt_rows], ignore_index=True)\n",
    "    \n",
    "    #calculate R value:\n",
    "    slope, intercept, r_value, p_value, std_err = scipy.stats.linregress(merged['escape_median'], merged['ic50'])\n",
    "    #print(f'r={r_value:.2f}')\n",
    "    \n",
    "    # Sorting function to put 'WT' on top of the legend, followed by numerical order\n",
    "    def custom_sort_order(array):\n",
    "        # Sort based on the numerical part in mutation strings, e.g., '530' in 'Q530F'\n",
    "        def extract_number(mutation):\n",
    "            num = re.search(r'\\d+', mutation)\n",
    "            return int(num.group()) if num else 0\n",
    "    \n",
    "        array = sorted(array, key=extract_number)\n",
    "    \n",
    "        # Move 'WT' to the beginning of the list\n",
    "        if 'WT' in array:\n",
    "            array.remove('WT')\n",
    "            array.insert(0, 'WT')\n",
    "        return array\n",
    "    \n",
    "    # Define the category10 colors manually\n",
    "    category10_colors = ['#4E79A5', '#F18F3B', '#E0585B', '#77B7B2', '#5AA155', '#EDC958', '#AF7AA0', '#FE9EA8', '#9C7561', '#BAB0AC']\n",
    "    \n",
    "    # Adjust colors based on the unique mutations\n",
    "    colors = ['black'] + category10_colors[:len(merged['mutation'].unique())-1]\n",
    "    \n",
    "    corr_chart = (\n",
    "        alt.Chart(merged)\n",
    "        .encode(\n",
    "            x=alt.X(\n",
    "                \"escape_median\",\n",
    "                title=\"DMS escape score\",\n",
    "                axis=alt.Axis(grid=True)\n",
    "            ),\n",
    "            y=alt.Y(\n",
    "                \"ic50\",\n",
    "                title=\"nAH1.3 IC₅₀ (μg/ml)\",\n",
    "                scale=alt.Scale(type=\"log\"),\n",
    "                axis=alt.Axis(grid=True),\n",
    "            ),\n",
    "            color=alt.Color('mutation', title='Mutant', scale=alt.Scale(domain=custom_sort_order(merged['mutation'].unique()), range=colors)),\n",
    "            shape=alt.Shape('lower_bound',title='Lower Bound'),\n",
    "        )\n",
    "        .mark_point(filled=True, size=150, opacity=1)\n",
    "        .properties(width=200, height=200)\n",
    "    )\n",
    "    \n",
    "    text = alt.Chart({'values':[{'x': merged['ic50'].min(), 'y': merged['escape_median'].max(), 'text': f'r = {r_value:.2f}'}]}).mark_text(\n",
    "        align='left',\n",
    "        baseline='top',\n",
    "        dx=5  # Adjust this for position\n",
    "    ).encode(\n",
    "        x=alt.X('x:Q'),\n",
    "        y=alt.Y('y:Q'),\n",
    "        text='text:N'\n",
    "    )\n",
    "    final_chart = corr_chart + text\n",
    "    return final_chart\n",
    "\n",
    "ic50_validations = plot_ic50_correlations(fit_df)\n",
    "ic50_validations.display()\n",
    "ic50_validations.save(IC50_validation_plot)"
   ]
  },
  {
   "cell_type": "code",
   "execution_count": null,
   "id": "38aa1b74-12d7-460f-bd13-43d423116d2f",
   "metadata": {
    "editable": true,
    "slideshow": {
     "slide_type": ""
    },
    "tags": []
   },
   "outputs": [],
   "source": [
    "(nah1_neut_curves | ic50_validations).save(combined_ic50_neut_curve_plot)"
   ]
  }
 ],
 "metadata": {
  "kernelspec": {
   "display_name": "Python 3 (ipykernel)",
   "language": "python",
   "name": "python3"
  },
  "language_info": {
   "codemirror_mode": {
    "name": "ipython",
    "version": 3
   },
   "file_extension": ".py",
   "mimetype": "text/x-python",
   "name": "python",
   "nbconvert_exporter": "python",
   "pygments_lexer": "ipython3",
   "version": "3.11.7"
  }
 },
 "nbformat": 4,
 "nbformat_minor": 5
}
