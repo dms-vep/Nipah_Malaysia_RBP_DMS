{
 "cells": [
  {
   "cell_type": "markdown",
   "id": "031d7b1a-ee98-45c8-8224-fc355e91e1c1",
   "metadata": {
    "editable": true,
    "slideshow": {
     "slide_type": ""
    },
    "tags": []
   },
   "source": [
    "# This notebook analyzes features of henipavirus and nipah sequence conservation and compares to DMS data"
   ]
  },
  {
   "cell_type": "code",
   "execution_count": null,
   "id": "b7a89531-6abf-4dac-a6c8-477383142c4a",
   "metadata": {
    "editable": true,
    "slideshow": {
     "slide_type": ""
    },
    "tags": [
     "parameters"
    ]
   },
   "outputs": [],
   "source": [
    "#this cell is tagged as parameters for `papermill` parameterization\n",
    "nipah_config = None\n",
    "nipah_alignment = None\n",
    "entropy_output = None"
   ]
  },
  {
   "cell_type": "code",
   "execution_count": null,
   "id": "acb4b7bc-1ab5-4698-a21b-6b9bc6194e78",
   "metadata": {
    "editable": true,
    "slideshow": {
     "slide_type": ""
    },
    "tags": []
   },
   "outputs": [],
   "source": [
    "import math\n",
    "import os\n",
    "\n",
    "import altair as alt\n",
    "\n",
    "import numpy as np\n",
    "\n",
    "import pandas as pd\n",
    "\n",
    "import scipy.stats\n",
    "from scipy import stats\n",
    "\n",
    "import subprocess\n",
    "import tempfile\n",
    "import yaml\n",
    "from Bio import Entrez\n",
    "from Bio import SeqIO\n",
    "from Bio import AlignIO\n",
    "from Bio.Align import MultipleSeqAlignment\n",
    "from Bio.Align.Applications import MuscleCommandline\n",
    "from Bio.Align.Applications import MafftCommandline\n",
    "from Bio.Seq import Seq\n",
    "from Bio.Align import PairwiseAligner"
   ]
  },
  {
   "cell_type": "code",
   "execution_count": null,
   "id": "3e1a5407-b027-4297-9c0f-5cb6ad0b963c",
   "metadata": {
    "editable": true,
    "slideshow": {
     "slide_type": ""
    },
    "tags": []
   },
   "outputs": [],
   "source": [
    "# allow more rows for Altair\n",
    "_ = alt.data_transformers.disable_max_rows()\n",
    "\n",
    "if os.getcwd() == '/fh/fast/bloom_j/computational_notebooks/blarsen/2023/Nipah_Malaysia_RBP_DMS/':\n",
    "    pass\n",
    "    print(\"Already in correct directory\")\n",
    "else:\n",
    "    os.chdir(\"/fh/fast/bloom_j/computational_notebooks/blarsen/2023/Nipah_Malaysia_RBP_DMS/\")\n",
    "    print(\"Setup in correct directory\")"
   ]
  },
  {
   "cell_type": "markdown",
   "id": "f1f0e639-1898-496e-bf75-300dd517b807",
   "metadata": {},
   "source": [
    "### For running interactively:"
   ]
  },
  {
   "cell_type": "code",
   "execution_count": null,
   "id": "eede4772-4260-41a9-a3d4-333f7eeb9de2",
   "metadata": {
    "editable": true,
    "slideshow": {
     "slide_type": ""
    },
    "tags": []
   },
   "outputs": [],
   "source": [
    "if nipah_alignment is None:\n",
    "    altair_config = 'data/custom_analyses_data/theme.py'\n",
    "    nipah_config = 'nipah_config.yaml'\n",
    "    #e2_binding = 'results/receptor_affinity/averages/EFNB2_monomeric_mut_effect.csv'\n",
    "    #e2_entry = 'results/func_effects/averages/CHO_EFNB2_low_func_effects.csv'\n",
    "    #e3_binding = 'results/receptor_affinity/averages/EFNB3_dimeric_mut_effect.csv'\n",
    "    #e3_entry = 'results/func_effects/averages/CHO_EFNB3_low_func_effects.csv'\n",
    "    nipah_alignment = 'data/custom_analyses_data/alignments/Nipah_RBP_AA_align.fasta'\n",
    "    entropy_output = 'results/entropy/entropy.csv'\n",
    "    #entry_scores_niv_poly = 'results/images/niv_polymorphic_entry.html'\n",
    "    #binding_scores_niv_poly = 'results/images/niv_polymorphic_binding.html'"
   ]
  },
  {
   "cell_type": "code",
   "execution_count": null,
   "id": "6f8c6823-dafc-4856-aebe-b6a403d0b7dc",
   "metadata": {
    "editable": true,
    "slideshow": {
     "slide_type": ""
    },
    "tags": []
   },
   "outputs": [],
   "source": [
    "with open(nipah_config) as f:\n",
    "    config = yaml.safe_load(f)"
   ]
  },
  {
   "cell_type": "markdown",
   "id": "f489f81a-1876-4bbc-a6b2-be6519b2ec55",
   "metadata": {
    "editable": true,
    "slideshow": {
     "slide_type": ""
    },
    "tags": []
   },
   "source": [
    "### Pull represantative henipavirus RBP amino acid sequences from genbank, align, calculate entropy, and convert to a dataframe"
   ]
  },
  {
   "cell_type": "code",
   "execution_count": null,
   "id": "e6c28cfe-9ce1-4d7a-8ddf-159d240863f3",
   "metadata": {
    "editable": true,
    "slideshow": {
     "slide_type": ""
    },
    "tags": []
   },
   "outputs": [],
   "source": [
    "def shannon_entropy(column):\n",
    "    \"\"\"Compute the Shannon entropy of a column in the alignment.\"\"\"\n",
    "    counts = {}\n",
    "    for aa in column:\n",
    "        if aa in counts:\n",
    "            counts[aa] += 1\n",
    "        else:\n",
    "            counts[aa] = 1\n",
    "\n",
    "    entropy = 0.0\n",
    "    for key in counts:\n",
    "        freq = counts[key] / len(column)\n",
    "        entropy += freq * math.log2(freq)\n",
    "    return -entropy\n",
    "\n",
    "def fetch_and_align(accession_numbers, email, output_folder=\".\"):\n",
    "    \"\"\"\n",
    "    Fetch sequences from GenBank based on accession numbers, align them,\n",
    "    and return the alignment as a pandas DataFrame.\n",
    "\n",
    "    Parameters:\n",
    "    - accession_numbers: List of accession numbers.\n",
    "    - email: Email address to be used with NCBI's Entrez.\n",
    "    - output_folder: The directory where output files will be saved.\n",
    "\n",
    "    Returns:\n",
    "    - DataFrame representation of the alignment.\n",
    "    \"\"\"\n",
    "    # Ensure the output directory exists, if not, create it.\n",
    "    if not os.path.exists(output_folder):\n",
    "        os.makedirs(output_folder)\n",
    "\n",
    "    # Fetch sequences from GenBank\n",
    "    Entrez.email = email\n",
    "    sequences = []\n",
    "    for acc in accession_numbers:\n",
    "        handle = Entrez.efetch(db=\"protein\", id=acc, rettype=\"fasta\", retmode=\"text\")\n",
    "        seq_record = SeqIO.read(handle, \"fasta\")\n",
    "        sequences.append(seq_record)\n",
    "        handle.close()\n",
    "\n",
    "    # Define file paths\n",
    "    temp_sequences_path = os.path.join(output_folder, \"temp_sequences.fasta\")\n",
    "    aligned_path = os.path.join(output_folder, \"aligned.fasta\")\n",
    "\n",
    "    # Write sequences to a temporary fasta file\n",
    "    SeqIO.write(sequences, temp_sequences_path, \"fasta\")\n",
    "\n",
    "    # Align using MUSCLE\n",
    "    muscle_exe = \"/fh/fast/bloom_j/software/miniconda3/envs/BloomLab/bin/muscle\"\n",
    "    muscle_result = subprocess.check_output([muscle_exe, \"-align\", temp_sequences_path, \"-output\", aligned_path])\n",
    "\n",
    "    # Read the aligned sequences\n",
    "    alignment = AlignIO.read(aligned_path, \"fasta\")\n",
    "\n",
    "    # Convert alignment to DataFrame\n",
    "    alignment_dict = {record.id: list(record.seq) for record in alignment}\n",
    "    df_alignment = pd.DataFrame(alignment_dict)\n",
    "    df_alignment = df_alignment.rename(columns={'YP_009094086.1':'cedar','AFH96011.1':'ghana','NP_112027.1':'nipah','NP_047112.2':'hendra','UCY33670.1':'hendra_G2','QDJ04463.1':'nipah_cambodia','QKV44014.1':'nipah_india','YP_009094095.1':'Mojiang','UUV47206.1':'Langya','AJP33320.1':'cedar_2'})\n",
    "    \n",
    "    # Calculate and add Shannon entropy for each site to the dataframe\n",
    "    df_alignment['henipavirus_entropy'] = [shannon_entropy(df_alignment.iloc[i]) for i in range(df_alignment.shape[0])]\n",
    "    \n",
    "    return df_alignment\n",
    "\n",
    "# Pull these genbank sequences\n",
    "cedar = 'YP_009094086.1'\n",
    "cedar2 = 'AJP33320.1'\n",
    "ghana = 'AFH96011.1'\n",
    "nipah = 'NP_112027.1',\n",
    "nipah_cambodia = 'QDJ04463.1'\n",
    "nipah_india = 'QKV44014.1'\n",
    "hendra = 'NP_047112.2'\n",
    "hendra_G2 = 'UCY33670.1'\n",
    "\n",
    "seqs = [cedar, cedar2, ghana, nipah, nipah_cambodia, nipah_india, hendra, hendra_G2]\n",
    "output_folder = \"results/alignments/\"\n",
    "df = fetch_and_align(seqs, \"blarsen@fredhutch.org\", output_folder)\n",
    "display(df.head(3))"
   ]
  },
  {
   "cell_type": "markdown",
   "id": "838118ca-a8bc-4005-8a19-c3f9101f2db4",
   "metadata": {
    "editable": true,
    "slideshow": {
     "slide_type": ""
    },
    "tags": []
   },
   "source": [
    "### Make site numbering relative to Nipah reference sequence"
   ]
  },
  {
   "cell_type": "code",
   "execution_count": null,
   "id": "5e5d8c04-f6e8-4723-bd25-f6023efc7317",
   "metadata": {
    "editable": true,
    "slideshow": {
     "slide_type": ""
    },
    "tags": []
   },
   "outputs": [],
   "source": [
    "# Create a boolean mask for the 'nipah' column\n",
    "mask = df['nipah'] != '-'\n",
    "# Use cumsum to count the occurrences and assign it to a new column 'site'\n",
    "df['site'] = mask.cumsum()\n",
    "# Reset the count to 0 for rows where 'nipah' is '-'\n",
    "df.loc[~mask, 'site'] = 'NaN'\n",
    "\n",
    "#Save entropy file for other notebooks to use\n",
    "df.to_csv(entropy_output)\n",
    "display(df.head(5))"
   ]
  },
  {
   "cell_type": "markdown",
   "id": "6eba869a-fa4b-4766-b204-7ca64106b4cd",
   "metadata": {
    "editable": true,
    "slideshow": {
     "slide_type": ""
    },
    "tags": []
   },
   "source": [
    "### Calculate Which Sites are 100% conserved across represantative henipavirus sequences"
   ]
  },
  {
   "cell_type": "code",
   "execution_count": null,
   "id": "d5485411-8a7a-456f-bb9a-124fda77c767",
   "metadata": {
    "editable": true,
    "slideshow": {
     "slide_type": ""
    },
    "tags": []
   },
   "outputs": [],
   "source": [
    "relevant_columns = df.drop(columns=['henipavirus_entropy', 'site'])\n",
    "df['conserved'] = relevant_columns.apply(lambda row: len(set(row)) == 1, axis=1)\n",
    "conserved_sites = df[df['conserved']]['site'].sort_values().tolist()\n",
    "print(f\" These sites are completely conserved among representative Henipaviruses: {conserved_sites}\")\n",
    "print(f\" The number of sites conserved across representative Henipaviruses are: {len(conserved_sites)}\")"
   ]
  },
  {
   "cell_type": "markdown",
   "id": "85f70592-cc77-4530-9af9-f8502dc925c5",
   "metadata": {
    "editable": true,
    "slideshow": {
     "slide_type": ""
    },
    "tags": []
   },
   "source": [
    "### Calculate entropy from Nipah sequence alignment of RBP"
   ]
  },
  {
   "cell_type": "code",
   "execution_count": null,
   "id": "09b17ce5-be7f-486a-866d-10c7e0cefff8",
   "metadata": {},
   "outputs": [],
   "source": [
    "# read in nipah alignment\n",
    "alignment_path = nipah_alignment\n",
    "alignment = AlignIO.read(alignment_path, \"fasta\")\n",
    "\n",
    "# Convert alignment to DataFrame\n",
    "alignment_dict = {record.id: list(record.seq) for record in alignment}\n",
    "df_alignment = pd.DataFrame(alignment_dict)"
   ]
  },
  {
   "cell_type": "code",
   "execution_count": null,
   "id": "bfb99ec4-3b3b-4dab-8986-16aa115514ee",
   "metadata": {
    "editable": true,
    "slideshow": {
     "slide_type": ""
    },
    "tags": []
   },
   "outputs": [],
   "source": [
    "def shannon_entropy_and_mutant_aa(column, wildtype_aa):\n",
    "    \"\"\"\n",
    "    Compute the Shannon entropy of a column in the alignment and return the top amino acid excluding the wildtype.\n",
    "    \n",
    "    Parameters:\n",
    "    - column: A column from a sequence alignment, representing one site across multiple sequences.\n",
    "    - wildtype_aa: The wildtype (original) amino acid at this position in a reference sequence.\n",
    "    \n",
    "    Returns:\n",
    "    - The Shannon entropy of the column (a measure of diversity).\n",
    "    - The amino acid variant that appears most frequently, excluding the wildtype.\n",
    "    \"\"\"\n",
    "    # Initialize a dictionary to count occurrences of each amino acid\n",
    "    counts = {}\n",
    "    # Iterate through each amino acid in the column\n",
    "    for aa in column:\n",
    "        # Ignore gap ('-') and unknown ('X') characters\n",
    "        if aa not in [\"-\", \"X\"]:\n",
    "            # If the amino acid is already in the dictionary, increment its count\n",
    "            if aa in counts:\n",
    "                counts[aa] += 1\n",
    "            # Otherwise, add it to the dictionary with a count of 1\n",
    "            else:\n",
    "                counts[aa] = 1\n",
    "    \n",
    "    # If counts is empty after filtering, return 0.0 entropy and None for the mutant amino acid\n",
    "    if not counts:\n",
    "        return 0.0, None\n",
    "      \n",
    "    # Calculate Shannon entropy\n",
    "    entropy = 0.0\n",
    "    for key in counts:\n",
    "        freq = counts[key] / sum(counts.values())  # Calculate frequency of each amino acid\n",
    "        entropy += freq * math.log2(freq)  # Add the frequency times the log base 2 of the frequency to the entropy\n",
    "\n",
    "    # Remove the wildtype amino acid from counts if it's present\n",
    "    counts.pop(wildtype_aa, None)\n",
    "    # Sort the amino acids by frequency to find the mutant\n",
    "    sorted_aas = sorted(counts.items(), key=lambda x: x[1], reverse=True)\n",
    "\n",
    "    mutant_aa = sorted_aas[0][0] if sorted_aas and sorted_aas[0][1] >= 2 else None\n",
    "    \n",
    "    # return entropy\n",
    "    return -entropy, mutant_aa\n",
    "\n",
    "# Path to the alignment file\n",
    "alignment_path = nipah_alignment\n",
    "\n",
    "# Read the alignment file using BioPython's AlignIO\n",
    "alignment = AlignIO.read(alignment_path, \"fasta\")\n",
    "\n",
    "# Convert the alignment to pandas\n",
    "alignment_dict = {record.id: list(record.seq) for record in alignment}\n",
    "df_alignment = pd.DataFrame(alignment_dict)\n",
    "\n",
    "# Extract the wildtype sequence from the DataFrame\n",
    "wildtype_series = df_alignment['NC_002728.1_Nipah_virus_complete_genome']\n",
    "\n",
    "# Compute entropy and mutant amino acid for each site in the alignment\n",
    "values = [shannon_entropy_and_mutant_aa(df_alignment.iloc[i], wildtype_series[i]) for i in range(df_alignment.shape[0])]\n",
    "# Unpack the computed values into two lists: entropies and mutants\n",
    "entropies, mutants = zip(*values)\n",
    "\n",
    "# Create a final DataFrame to hold the computed values along with site numbers\n",
    "df_final = pd.DataFrame({\n",
    "    'site': range(1, len(mutants) + 1),\n",
    "    'entropy': entropies,\n",
    "    'wildtype': wildtype_series,\n",
    "    'mutant': mutants\n",
    "})\n",
    "\n",
    "# Filter to get rid of extra site at end\n",
    "df_final = df_final[df_final['site'] < 603]\n",
    "display(df_final)"
   ]
  },
  {
   "cell_type": "markdown",
   "id": "bee3862b-b4d3-4137-9dc0-ad2a48ed7aed",
   "metadata": {
    "editable": true,
    "slideshow": {
     "slide_type": ""
    },
    "tags": []
   },
   "source": [
    "### Find polymorphic Nipah sites"
   ]
  },
  {
   "cell_type": "code",
   "execution_count": null,
   "id": "217b9135-0f05-4fdf-8627-aae93612dfa3",
   "metadata": {
    "editable": true,
    "slideshow": {
     "slide_type": ""
    },
    "tags": []
   },
   "outputs": [],
   "source": [
    "sites_with_mutants = df_final.loc[df_final['mutant'].notnull(), 'site'].tolist()\n",
    "polymorphisms = list(sites_with_mutants)\n",
    "data_series = pd.Series(polymorphisms)\n",
    "# filter out sites that are outside mutagenized region\n",
    "filtered_series = data_series[data_series > 71]\n",
    "polymorphisms = list(filtered_series)\n",
    "polymorphism_length = len(polymorphisms)\n",
    "print(f'There are {polymorphism_length} polymorphic sites in NiV RBP sequences: {polymorphisms}')"
   ]
  },
  {
   "cell_type": "code",
   "execution_count": null,
   "id": "1738ff5d-b18d-42ca-926a-a06885444399",
   "metadata": {},
   "outputs": [],
   "source": [
    "def find_other_henipavirus_mutants(df,virus):\n",
    "    df_comparison = df.rename(columns={virus:'mutant'})\n",
    "    df_comparison = df_comparison[['mutant','nipah','site']]\n",
    "\n",
    "    #filter rows to differences\n",
    "    no_dash_df = df_comparison[~df_comparison['mutant'].str.contains('-') & ~df_comparison['nipah'].str.contains('-')]\n",
    "    filtered_df = no_dash_df[no_dash_df['mutant'] != no_dash_df['nipah']]    \n",
    "\n",
    "    sites = list(filtered_df['site'].unique())\n",
    "    data_series = pd.Series(sites)\n",
    "    filtered_series = data_series[data_series > 71]\n",
    "    series = list(filtered_series)\n",
    "    print(f'{virus} is different from nipah at these sites:\\n {series}\\n')\n",
    "\n",
    "find_other_henipavirus_mutants(df,'hendra')\n",
    "find_other_henipavirus_mutants(df,'cedar')"
   ]
  },
  {
   "cell_type": "code",
   "execution_count": null,
   "id": "6765a35c-98c9-4dcf-a34b-1ee0101935d2",
   "metadata": {},
   "outputs": [],
   "source": []
  }
 ],
 "metadata": {
  "kernelspec": {
   "display_name": "Python 3 (ipykernel)",
   "language": "python",
   "name": "python3"
  },
  "language_info": {
   "codemirror_mode": {
    "name": "ipython",
    "version": 3
   },
   "file_extension": ".py",
   "mimetype": "text/x-python",
   "name": "python",
   "nbconvert_exporter": "python",
   "pygments_lexer": "ipython3",
   "version": "3.11.8"
  }
 },
 "nbformat": 4,
 "nbformat_minor": 5
}
