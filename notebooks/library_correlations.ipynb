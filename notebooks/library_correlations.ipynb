{
 "cells": [
  {
   "cell_type": "markdown",
   "id": "187059af-29b8-4755-af75-9794b6f30b53",
   "metadata": {
    "editable": true,
    "slideshow": {
     "slide_type": ""
    },
    "tags": []
   },
   "source": [
    "### This script calculates the correlations between different cell entry selections. Either the median of all LibA selections vs the median of all LibB selections, OR all selections for a specific condition."
   ]
  },
  {
   "cell_type": "code",
   "execution_count": null,
   "id": "616f555f-ec4c-444f-904a-a33c6e8568a4",
   "metadata": {
    "editable": true,
    "slideshow": {
     "slide_type": ""
    },
    "tags": [
     "parameters"
    ]
   },
   "outputs": [],
   "source": [
    "# this cell is tagged as parameters for `papermill` parameterization\n",
    "altair_config = None\n",
    "nipah_config = None\n",
    "\n",
    "codon_variants_file = None\n",
    "\n",
    "CHO_corr_plot_save = None\n",
    "CHO_EFNB2_indiv_plot_save = None\n",
    "CHO_EFNB3_indiv_plot_save = None\n",
    "\n",
    "histogram_plot = None\n",
    "func_scores_plot = None"
   ]
  },
  {
   "cell_type": "code",
   "execution_count": null,
   "id": "c3b096ea-ffb1-4bff-b9c6-f4f536d94279",
   "metadata": {
    "editable": true,
    "slideshow": {
     "slide_type": ""
    },
    "tags": []
   },
   "outputs": [],
   "source": [
    "import math\n",
    "import os\n",
    "import re\n",
    "import altair as alt\n",
    "\n",
    "import numpy as np\n",
    "\n",
    "import pandas as pd\n",
    "\n",
    "import scipy.stats\n",
    "\n",
    "import Bio.SeqIO\n",
    "import yaml\n",
    "from Bio import AlignIO\n",
    "from Bio import PDB\n",
    "from Bio.Align import PairwiseAligner"
   ]
  },
  {
   "cell_type": "code",
   "execution_count": null,
   "id": "a34c1f33-67c4-45a9-a27e-0311ba9014f4",
   "metadata": {
    "editable": true,
    "slideshow": {
     "slide_type": ""
    },
    "tags": []
   },
   "outputs": [],
   "source": [
    "# allow more rows for Altair\n",
    "_ = alt.data_transformers.disable_max_rows()\n",
    "\n",
    "if os.getcwd() == '/fh/fast/bloom_j/computational_notebooks/blarsen/2023/Nipah_Malaysia_RBP_DMS/':\n",
    "    pass\n",
    "    print(\"Already in correct directory\")\n",
    "else:\n",
    "    os.chdir(\"/fh/fast/bloom_j/computational_notebooks/blarsen/2023/Nipah_Malaysia_RBP_DMS/\")\n",
    "    print(\"Setup in correct directory\")"
   ]
  },
  {
   "cell_type": "code",
   "execution_count": null,
   "id": "31b8ce6c-2d83-4a16-bb50-91129309d0b6",
   "metadata": {
    "editable": true,
    "slideshow": {
     "slide_type": ""
    },
    "tags": []
   },
   "outputs": [],
   "source": [
    "if histogram_plot is None:\n",
    "    altair_config = 'data/custom_analyses_data/theme.py'\n",
    "    nipah_config = 'nipah_config.yaml'\n",
    "    codon_variants_file = 'results/variants/codon_variants.csv'\n",
    "#CHO_corr_plot_save\n",
    "#CHO_EFNB3_corr_plot_save\n",
    "#CHO_EFNB2_indiv_plot_save\n",
    "#CHO_EFNB3_indiv_plot_save"
   ]
  },
  {
   "cell_type": "code",
   "execution_count": null,
   "id": "3ee6eb9a-4b89-4028-b78d-188d53ff96b7",
   "metadata": {
    "editable": true,
    "slideshow": {
     "slide_type": ""
    },
    "tags": []
   },
   "outputs": [],
   "source": [
    "if altair_config:\n",
    "    with open(altair_config, 'r') as file:\n",
    "        exec(file.read())\n",
    "\n",
    "with open(nipah_config) as f:\n",
    "    config = yaml.safe_load(f)\n",
    "\n",
    "with open('data/func_effects_config.yml') as y:\n",
    "    config_func = yaml.safe_load(y)"
   ]
  },
  {
   "cell_type": "code",
   "execution_count": null,
   "id": "3f08050f-9fa4-4393-bc3d-d357bdc879e3",
   "metadata": {
    "editable": true,
    "slideshow": {
     "slide_type": ""
    },
    "tags": []
   },
   "outputs": [],
   "source": [
    "cho_efnb2_low_selections = config_func['avg_func_effects']['CHO_EFNB2_low']['selections']\n",
    "LibA_CHO_EFNB2 = [selection + '_func_effects.csv' for selection in cho_efnb2_low_selections if 'LibA' in selection and 'LibB' not in selection]\n",
    "LibB_CHO_EFNB2 = [selection + '_func_effects.csv' for selection in cho_efnb2_low_selections if 'LibB' in selection and 'LibA' not in selection]\n",
    "\n",
    "cho_efnb3_low_selections = config_func['avg_func_effects']['CHO_EFNB3_low']['selections']\n",
    "LibA_CHO_EFNB3 = [selection + '_func_effects.csv' for selection in cho_efnb3_low_selections if 'LibA' in selection and 'LibB' not in selection]\n",
    "LibB_CHO_EFNB3 = [selection + '_func_effects.csv' for selection in cho_efnb3_low_selections if 'LibB' in selection and 'LibA' not in selection]"
   ]
  },
  {
   "cell_type": "markdown",
   "id": "29e83a7f-f8e0-4922-b50d-5a8304507c8e",
   "metadata": {
    "editable": true,
    "slideshow": {
     "slide_type": ""
    },
    "tags": []
   },
   "source": [
    "### Calculate correlations for LibA and LibB for CHO-EFNB2 cell entry selections"
   ]
  },
  {
   "cell_type": "code",
   "execution_count": null,
   "id": "7591951d-4d8f-4fac-9d6c-744aaad6884f",
   "metadata": {
    "editable": true,
    "slideshow": {
     "slide_type": ""
    },
    "tags": []
   },
   "outputs": [],
   "source": [
    "path = 'results/func_effects/by_selection/'\n",
    "def process_func_selections(library,library_name):\n",
    "    df_list = []\n",
    "    clock = 1\n",
    "    for file_name in library:\n",
    "        file_path = os.path.join(path, file_name)\n",
    "\n",
    "        fixed_name = file_name.replace('_func_effects.csv', '')\n",
    "        \n",
    "        # Read the current CSV file\n",
    "        func_scores = pd.read_csv(file_path)\n",
    "        \n",
    "        func_scores_renamed = func_scores.rename(columns={'functional_effect': f'functional_effect_{clock}','times_seen': f'times_seen_{clock}'})\n",
    "        func_scores_renamed.drop(['latent_phenotype_effect'],axis=1,inplace=True)\n",
    "        \n",
    "        # Append the dataframe to the list\n",
    "        df_list.append(func_scores_renamed)\n",
    "        clock = clock + 1\n",
    "    \n",
    "    # Merge all dataframes on 'site' and 'mutant'\n",
    "    merged_df = df_list[0]\n",
    "    for df in df_list[1:]:\n",
    "        merged_df = pd.merge(merged_df, df, on=['site', 'mutant','wildtype'], how='outer')\n",
    "    \n",
    "    #Calculate median values\n",
    "    lib_columns_func = [col for col in merged_df.columns if 'functional_effect' in col]\n",
    "    merged_df[f'median_effect_{library_name}'] = merged_df[lib_columns_func].median(axis=1)\n",
    "    lib_columns_times_seen = [col for col in merged_df.columns if 'times_seen' in col]\n",
    "    merged_df[f'median_times_seen_{library_name}'] = merged_df[lib_columns_times_seen].median(axis=1)\n",
    "    #Now drop columns\n",
    "    lib_columns = [col for col in merged_df.columns if re.search(r'_\\d+', col)]\n",
    "    merged_df = merged_df.drop(columns=lib_columns)\n",
    "    return merged_df\n",
    "\n",
    "A_selections_E2 = process_func_selections(LibA_CHO_EFNB2,'LibA')\n",
    "B_selections_E2 = process_func_selections(LibB_CHO_EFNB2,'LibB')\n",
    "\n",
    "A_selections_E3 = process_func_selections(LibA_CHO_EFNB3,'LibA')\n",
    "B_selections_E3 = process_func_selections(LibB_CHO_EFNB3,'LibB')\n",
    "\n",
    "def merge_selections(A_selections,B_selections):\n",
    "    merged_selections = pd.merge(A_selections,B_selections,on=['wildtype','site','mutant'],how='inner')\n",
    "    \n",
    "    #make one times seen column for slider\n",
    "    lib_columns_times_seen = [col for col in merged_selections.columns if 'times_seen' in col]\n",
    "    merged_selections['times_seen'] = merged_selections[lib_columns_times_seen].median(axis=1)\n",
    "    return merged_selections\n",
    "\n",
    "CHO_EFNB2_merged = merge_selections(A_selections_E2,B_selections_E2)\n",
    "CHO_EFNB2_merged['cell_type'] = 'CHO-EFNB2'\n",
    "CHO_EFNB3_merged = merge_selections(A_selections_E3,B_selections_E3)\n",
    "CHO_EFNB3_merged['cell_type'] = 'CHO-EFNB3'\n",
    "\n",
    "both_selections = pd.concat([CHO_EFNB2_merged, CHO_EFNB3_merged])\n",
    "\n",
    "def make_chart_median(df,title):\n",
    "    slider = alt.binding_range(min=1, max=25, step=1, name=\"times_seen\")\n",
    "    selector = alt.param(name=\"SelectorName\", value=1, bind=slider)\n",
    "    \n",
    "    empty = []\n",
    "    variant_selector = alt.selection_point(\n",
    "        on=\"mouseover\",\n",
    "        empty=False,\n",
    "        nearest=True,\n",
    "        fields=[\"site\",\"mutant\"],\n",
    "        value=1\n",
    "    )\n",
    "  \n",
    "    df = df[\n",
    "        (df['median_effect_LibA'].notna()) &\n",
    "        (df['median_effect_LibB'].notna())\n",
    "    ]\n",
    "    size = df.shape[0]\n",
    "    \n",
    "\n",
    "    for selection in ['CHO-EFNB2','CHO-EFNB3']:\n",
    "        print(selection)\n",
    "        tmp_df = df[df['cell_type'] == selection] \n",
    "        slope, intercept, r_value, p_value, std_err = scipy.stats.linregress(df[f'median_effect_LibA'], df[f'median_effect_LibB'])\n",
    "        r_value = float(r_value)\n",
    "        print(f'{r_value:.2f}')\n",
    "        \n",
    "        chart = alt.Chart(tmp_df,title=f'Entry in {selection} cells').mark_point().encode(\n",
    "            x=alt.X('median_effect_LibA',title='LibA Cell Entry'),\n",
    "            y=alt.Y('median_effect_LibB',title='LibB Cell Entry'),\n",
    "            tooltip=['site','wildtype','mutant','times_seen'],\n",
    "            size=alt.condition(variant_selector, alt.value(100),alt.value(15)),\n",
    "            color=alt.condition(alt.datum.times_seen < selector, alt.value('transparent'), alt.value('black')),\n",
    "            opacity=alt.condition(variant_selector, alt.value(1),alt.value(0.2)),\n",
    "        )\n",
    "        empty.append(chart)\n",
    "    combined_effect_chart = alt.hconcat(*empty).resolve_scale(y='shared', x='shared', color='independent').add_params(variant_selector,selector)\n",
    "    return combined_effect_chart\n",
    "\n",
    "CHO_EFNB2_corr_plot = make_chart_median(both_selections,'CHO-EFNB2')\n",
    "CHO_EFNB2_corr_plot.display()\n",
    "if histogram_plot is not None:\n",
    "    CHO_EFNB2_corr_plot.save(CHO_corr_plot_save)"
   ]
  },
  {
   "cell_type": "code",
   "execution_count": null,
   "id": "25136046-f160-4743-973b-436ce695ac5d",
   "metadata": {},
   "outputs": [],
   "source": [
    "def plot_corr_heatmap(df):\n",
    "    empty_chart = []\n",
    "    \n",
    "    for cell in list(df['cell_type'].unique()):\n",
    "        tmp_df = df[df['cell_type'] == cell]\n",
    "        chart = alt.Chart(tmp_df,title=f'{cell}').mark_rect().encode(\n",
    "            x=alt.X('median_effect_LibA',title='Library A').bin(maxbins=50), #axis=alt.Axis(values=[-4,-1,0,1])\n",
    "            y=alt.Y('median_effect_LibB',title='Library B').bin(maxbins=50), #,axis=alt.Axis(values=[-4,-1,0,1])\n",
    "            color=alt.Color('count()',title='Count').scale(scheme='greenblue'),\n",
    "            #tooltip=['effect','binding_median']\n",
    "        )\n",
    "        empty_chart.append(chart)\n",
    "    \n",
    "    combined_chart = alt.hconcat(*empty_chart,title=alt.Title('Correlation between binding and entry')).resolve_scale(y='shared',x='shared',color='shared')\n",
    "    return combined_chart\n",
    "\n",
    "entry_binding_corr_heatmap = plot_corr_heatmap(both_selections)\n",
    "entry_binding_corr_heatmap.display()\n",
    "#entry_binding_corr_heatmap.save(entry_binding_corr_heatmap)"
   ]
  },
  {
   "cell_type": "markdown",
   "id": "c2dccee9-cfe5-468a-b520-efa8bb98af3a",
   "metadata": {
    "editable": true,
    "slideshow": {
     "slide_type": ""
    },
    "tags": []
   },
   "source": [
    "### Make correlations between individual selections"
   ]
  },
  {
   "cell_type": "code",
   "execution_count": null,
   "id": "76818744-d87f-4845-9396-83713452b3be",
   "metadata": {
    "editable": true,
    "slideshow": {
     "slide_type": ""
    },
    "tags": []
   },
   "outputs": [],
   "source": [
    "#path = 'results/func_effects/by_selection/'\n",
    "def process_individ_selections(library):\n",
    "    df_list = []\n",
    "    clock = 1\n",
    "    for file_name in library:\n",
    "        file_path = os.path.join(path, file_name)\n",
    "        print(f\"Processing file: {file_path}\")\n",
    "        \n",
    "        #fixed_name = file_name.replace('_func_effects.csv', '')\n",
    "        \n",
    "        # Read the current CSV file\n",
    "        func_scores = pd.read_csv(file_path)\n",
    "        #display(func_scores.head(2))\n",
    "        #func_scores = func_scores[func_scores['times_seen'] >= config['func_times_seen_cutoff']]\n",
    "        func_scores_renamed = func_scores.rename(columns={'functional_effect': f'functional_effect_{clock}','times_seen': f'times_seen_{clock}'})\n",
    "        func_scores_renamed.drop(['latent_phenotype_effect'],axis=1,inplace=True)\n",
    "        \n",
    "        # Append the dataframe to the list\n",
    "        df_list.append(func_scores_renamed)\n",
    "        clock = clock + 1\n",
    "    \n",
    "    # Merge all dataframes on 'site' and 'mutant'\n",
    "    merged_df = df_list[0]\n",
    "    for df in df_list[1:]:\n",
    "        merged_df = pd.merge(merged_df, df, on=['site', 'mutant','wildtype'], how='outer')\n",
    "    # Make list of how many selections are done for later correlation plots\n",
    "    lib_size = len(library)\n",
    "    number_list = [i for i in range(1, lib_size+1)]\n",
    "    return merged_df,number_list\n",
    "\n",
    "CHO_EFNB2_indiv,lib_size_EFNB2 = process_individ_selections(LibA_CHO_EFNB2+LibB_CHO_EFNB2)\n",
    "CHO_EFNB3_indiv,lib_size_EFNB3 = process_individ_selections(LibA_CHO_EFNB3+LibB_CHO_EFNB3)\n",
    "\n",
    "def make_chart(df,number_list):\n",
    "    empty_list = []\n",
    "    for i in number_list:\n",
    "        other_empty_list = []\n",
    "        for j in number_list:\n",
    "            df = df[\n",
    "                (df[f'times_seen_{i}'] >= config['func_times_seen_cutoff']) & \n",
    "                (df[f'times_seen_{j}'] >= config['func_times_seen_cutoff']) &\n",
    "                (df[f'functional_effect_{i}'].notna()) &\n",
    "                (df[f'functional_effect_{j}'].notna())\n",
    "            ]\n",
    "            #slope, intercept, r_value, p_value, std_err = scipy.stats.linregress(df[f'functional_effect_{i}'], df[f'functional_effect_{j}'])\n",
    "            #r_value = float(r_value)\n",
    "            #print(f'{r_value:.2f}')\n",
    "            chart = alt.Chart(df).mark_circle(size=10, color='black', opacity=0.2).encode(\n",
    "                x=alt.X(f'functional_effect_{i}'),\n",
    "                y=alt.Y(f'functional_effect_{j}'),\n",
    "                tooltip=['site','wildtype','mutant'],\n",
    "            ).properties(\n",
    "                height=alt.Step(10),\n",
    "                width=alt.Step(10)\n",
    "            )\n",
    "            other_empty_list.append(chart)\n",
    "        combined_effect_chart = alt.hconcat(*other_empty_list).resolve_scale(y='shared', x='shared', color='independent')\n",
    "        empty_list.append(combined_effect_chart)\n",
    "    final_combined_chart = alt.vconcat(*empty_list).resolve_scale(y='shared', x='shared', color='independent')\n",
    "    return final_combined_chart\n",
    "\n",
    "CHO_EFNB2_indiv_plot = make_chart(CHO_EFNB2_indiv,lib_size_EFNB2)\n",
    "#CHO_EFNB2_indiv_plot.display()\n",
    "if histogram_plot is not None:\n",
    "    CHO_EFNB2_indiv_plot.save(CHO_EFNB2_indiv_plot_save)\n",
    "CHO_EFNB3_indiv_plot = make_chart(CHO_EFNB3_indiv,lib_size_EFNB3)\n",
    "if histogram_plot is not None:\n",
    "    CHO_EFNB3_indiv_plot.save(CHO_EFNB3_indiv_plot_save)"
   ]
  },
  {
   "cell_type": "markdown",
   "id": "dc8e5ae1-df65-445a-aeae-20f35e139816",
   "metadata": {
    "editable": true,
    "slideshow": {
     "slide_type": ""
    },
    "tags": []
   },
   "source": [
    "### Now make histogram of variants"
   ]
  },
  {
   "cell_type": "code",
   "execution_count": null,
   "id": "4403c1eb-85c0-4948-91cb-2773188b1fdb",
   "metadata": {
    "editable": true,
    "slideshow": {
     "slide_type": ""
    },
    "tags": []
   },
   "outputs": [],
   "source": [
    "codon_variants = pd.read_csv(codon_variants_file)\n",
    "display(codon_variants.head(3))\n",
    "unique_barcodes_per_library = codon_variants.groupby('library')['barcode'].nunique()\n",
    "display(unique_barcodes_per_library)"
   ]
  },
  {
   "cell_type": "code",
   "execution_count": null,
   "id": "0f8e15a5-0b92-47e6-9d59-b86f4094da21",
   "metadata": {
    "editable": true,
    "slideshow": {
     "slide_type": ""
    },
    "tags": []
   },
   "outputs": [],
   "source": [
    "def calculate_fraction(library):\n",
    "    total_A = codon_variants[codon_variants['library'] == library].shape[0]\n",
    "    for number in range(5):\n",
    "        fraction = codon_variants[(codon_variants['library'] == library) & (codon_variants['n_aa_substitutions'] == number)].shape[0]\n",
    "        print(f'For {library}, the fraction of sites with {number} mutations relative to WT are: {fraction/total_A:.2f}')\n",
    "\n",
    "calculate_fraction('LibA')\n",
    "calculate_fraction('LibB')"
   ]
  },
  {
   "cell_type": "code",
   "execution_count": null,
   "id": "998767a9-6d4a-41c2-8259-f302cdb79521",
   "metadata": {
    "editable": true,
    "slideshow": {
     "slide_type": ""
    },
    "tags": []
   },
   "outputs": [],
   "source": [
    "def plot_histogram(df):\n",
    "    df = df.drop(columns=['barcode','target','variant_call_support','codon_substitutions','aa_substitutions','n_codon_substitutions'])\n",
    "    chart = alt.Chart(df).mark_bar(color='black').encode(\n",
    "        alt.X(\"n_aa_substitutions:N\",title='# of AA Substitutions'), \n",
    "        alt.Y('count()', title='Count',axis=alt.Axis(grid=True)), # count() is a built-in aggregation to count rows in each bin\n",
    "        column=alt.Column('library',header=alt.Header(title=None, labelFontSize=18))\n",
    "    )\n",
    "    return chart\n",
    "\n",
    "histogram = plot_histogram(codon_variants)\n",
    "histogram.display()\n",
    "if histogram_plot is not None:\n",
    "    histogram.save(histogram_plot)"
   ]
  },
  {
   "cell_type": "markdown",
   "id": "10c497c7-e62a-4cfe-b7e1-67e5d38d24f1",
   "metadata": {},
   "source": [
    "### Find distribution of functional scores"
   ]
  },
  {
   "cell_type": "code",
   "execution_count": null,
   "id": "96afbf9d-7a17-4ad3-84ff-2a0798e85e5c",
   "metadata": {},
   "outputs": [],
   "source": [
    "def pull_in_func_scores(df):\n",
    "    empty_list = []\n",
    "    for i in df:\n",
    "        j = i + '_func_scores.csv'\n",
    "        tmp_df = pd.read_csv(f'results/func_scores/{j}')\n",
    "        tmp_df['selection'] = i\n",
    "        empty_list.append(tmp_df)\n",
    "        tmp_df = pd.concat(empty_list)\n",
    "        return tmp_df\n",
    "\n",
    "e2_func_scores_df = pull_in_func_scores(cho_efnb2_low_selections)\n",
    "e2_func_scores_df['cell_type'] = 'CHO-EFNB2'\n",
    "e3_func_scores_df = pull_in_func_scores(cho_efnb3_low_selections)\n",
    "e3_func_scores_df['cell_type'] = 'CHO-EFNB3'\n",
    "\n",
    "#Make combined dataframe of cell entry data\n",
    "merged_func_scores = pd.concat([e2_func_scores_df,e3_func_scores_df])\n",
    "\n",
    "def classify_mutation(row):\n",
    "    if isinstance(row['aa_substitutions'], str) and '*' in row['aa_substitutions']:\n",
    "        return 'stop'\n",
    "    elif row['n_aa_substitutions'] == 0:\n",
    "        if row['n_codon_substitutions'] >= 1:\n",
    "            return 'synonymous'\n",
    "        else:\n",
    "            return 'wildtype'\n",
    "    elif row['n_aa_substitutions'] == 1:\n",
    "        return '1 nonsynonymous'\n",
    "    elif row['n_aa_substitutions'] >= 2:\n",
    "        return '>2 nonsynonymous'\n",
    "\n",
    "# Apply the function to each row in the dataframe to create the new column\n",
    "merged_func_scores['mutation_class'] = merged_func_scores.apply(classify_mutation, axis=1)\n",
    "\n",
    "result_df = merged_func_scores.groupby(['barcode','cell_type']).agg(\n",
    "    func_score=('func_score', 'median'),\n",
    "    mutation_class=('mutation_class','first')\n",
    ").reset_index()\n",
    "\n",
    "tmp = result_df.groupby(['mutation_class','cell_type'])['func_score'].median().reset_index()\n",
    "tmp = tmp.rename(columns={'func_score':'median_func_score'})\n",
    "\n",
    "result_df = result_df.merge(tmp,on=['mutation_class','cell_type'],how='left')\n",
    "display(result_df)"
   ]
  },
  {
   "cell_type": "code",
   "execution_count": null,
   "id": "3e9815c8-f191-4e0e-b229-eeb020cb6a9b",
   "metadata": {},
   "outputs": [],
   "source": [
    "def plot_func_score_distribution(df):\n",
    "    custom_sort = ['wildtype', 'synonymous', '1 nonsynonymous', '>2 nonsynonymous', 'stop']\n",
    "    empty_charts = []\n",
    "    for cell_idx,target_cell in enumerate(['CHO-EFNB2','CHO-EFNB3']):\n",
    "        charts = []\n",
    "        first_df = df[df['cell_type'] == target_cell]\n",
    "        for idx, subset in enumerate(custom_sort):\n",
    "            tmp_df = first_df[first_df['mutation_class'] == subset]\n",
    "            \n",
    "            is_last_plot = idx == len(custom_sort) - 1\n",
    "            x_axis = alt.Axis(labelAngle=-90, titleFontSize=10,tickCount=3, values=[-10, -5, 0],\n",
    "                              title=\"Functional Score\" if is_last_plot else None, \n",
    "                              labels=True if is_last_plot else False)  # Only show labels for the last plot\n",
    "    \n",
    "            first_plot_column = cell_idx == 0\n",
    "            y_axis = alt.Axis(labelAngle=0,titleAngle=0,title=subset if first_plot_column else None,domain=False,ticks=False,labels=False,titleX=-10,titleAlign='right')\n",
    "            \n",
    "            \n",
    "            chart = alt.Chart(tmp_df,title=(target_cell if idx == 0 else \"\")).mark_area(color='black').encode(\n",
    "                x=alt.X('func_score', bin=alt.Bin(step=0.4), axis=x_axis),\n",
    "                y=alt.Y('count()', title=subset, axis=y_axis),#alt.Axis(domain=False, ticks=False, labels=False)),\n",
    "                color=alt.Color('median_func_score',title='Median Functional Score',scale=alt.Scale(scheme='greenblue')),\n",
    "                #row=alt.Row('mutation_class', title=None, sort=custom_sort, header=alt.Header(title=None)),\n",
    "                #column=alt.Column('cell_type'),\n",
    "            ).properties(width=100, height=50)\n",
    "    \n",
    "            charts.append(chart)\n",
    "        combined_muts_chart = alt.vconcat(*charts,spacing=0).resolve_scale(y='independent',x='shared',color='shared')\n",
    "        empty_charts.append(combined_muts_chart)\n",
    "    # Combine charts using vertical concatenation, adjusting scales and configuration as needed\n",
    "    combined_chart = alt.hconcat(*empty_charts, spacing=0).resolve_scale(\n",
    "        y='independent', x='shared', color='shared'\n",
    "    ).configure_view(\n",
    "        stroke=None\n",
    "    ).configure_axis(\n",
    "        grid=False\n",
    "    ).configure_title(\n",
    "        anchor='middle',  # Anchors the title to the start of the chart\n",
    "        offset=5,  # Adjusts the distance between the title and the chart\n",
    "        fontSize=16,  # Adjusts the font size of the title\n",
    "        #dx=5,  # Shifts the title horizontally (use negative value to shift left)\n",
    "        #dy=-5  # Shifts the title vertically (use negative value to shift up)\n",
    "    )\n",
    "    \n",
    "    return combined_chart\n",
    "\n",
    "tmp_img = plot_func_score_distribution(result_df)\n",
    "tmp_img.display()    \n",
    "if histogram_plot is not None:\n",
    "    tmp_img.save(func_scores_plot)"
   ]
  },
  {
   "cell_type": "code",
   "execution_count": null,
   "id": "85d66e1c-94be-4a89-a62e-1aa7a38fa6e9",
   "metadata": {},
   "outputs": [],
   "source": []
  }
 ],
 "metadata": {
  "kernelspec": {
   "display_name": "Python 3 (ipykernel)",
   "language": "python",
   "name": "python3"
  },
  "language_info": {
   "codemirror_mode": {
    "name": "ipython",
    "version": 3
   },
   "file_extension": ".py",
   "mimetype": "text/x-python",
   "name": "python",
   "nbconvert_exporter": "python",
   "pygments_lexer": "ipython3",
   "version": "3.11.7"
  }
 },
 "nbformat": 4,
 "nbformat_minor": 5
}
