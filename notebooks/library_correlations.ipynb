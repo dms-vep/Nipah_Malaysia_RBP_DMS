{
 "cells": [
  {
   "cell_type": "markdown",
   "id": "187059af-29b8-4755-af75-9794b6f30b53",
   "metadata": {
    "editable": true,
    "slideshow": {
     "slide_type": ""
    },
    "tags": []
   },
   "source": [
    "# library_correlations.ipynb\n",
    "This script calculates stats about functional selections and variants present in libraries. \n",
    "- The mean of all LibA selections vs the mean of all LibB selections\n",
    "- All selections for a specific condition\n",
    "- Histogram of variants by # of mutations\n",
    "\n",
    "- written by Brendan Larsen"
   ]
  },
  {
   "cell_type": "code",
   "execution_count": null,
   "id": "616f555f-ec4c-444f-904a-a33c6e8568a4",
   "metadata": {
    "editable": true,
    "slideshow": {
     "slide_type": ""
    },
    "tags": [
     "parameters"
    ]
   },
   "outputs": [],
   "source": [
    "# this cell is tagged as parameters for `papermill` parameterization\n",
    "altair_config = None\n",
    "nipah_config = None\n",
    "\n",
    "codon_variants_file = None\n",
    "\n",
    "CHO_corr_plot_save = None\n",
    "entry_binding_corr_heatmap_plot = None\n",
    "CHO_EFNB2_indiv_plot_save = None\n",
    "CHO_EFNB3_indiv_plot_save = None\n",
    "\n",
    "histogram_plot = None\n",
    "uniq_barcodes_per_lib_df = None"
   ]
  },
  {
   "cell_type": "code",
   "execution_count": null,
   "id": "c3b096ea-ffb1-4bff-b9c6-f4f536d94279",
   "metadata": {
    "editable": true,
    "slideshow": {
     "slide_type": ""
    },
    "tags": []
   },
   "outputs": [],
   "source": [
    "import math\n",
    "import os\n",
    "import re\n",
    "import altair as alt\n",
    "import numpy as np\n",
    "import pandas as pd\n",
    "import scipy.stats\n",
    "import yaml\n",
    "from collections import Counter\n",
    "import sys\n",
    "\n",
    "# allow more rows for Altair\n",
    "_ = alt.data_transformers.disable_max_rows()\n",
    "\n",
    "# setup working directory\n",
    "if os.getcwd() == \"/fh/fast/bloom_j/computational_notebooks/blarsen/2023/Nipah_Malaysia_RBP_DMS/\":\n",
    "    pass\n",
    "    print(\"Already in correct directory\")\n",
    "else:\n",
    "    os.chdir(\"/fh/fast/bloom_j/computational_notebooks/blarsen/2023/Nipah_Malaysia_RBP_DMS/\")\n",
    "    print(\"Setup in correct directory\")\n",
    "\n",
    "#import altair themes from /data/custom_analyses_data/theme.py and enable\n",
    "sys.path.append('data/custom_analyses_data/')\n",
    "import theme\n",
    "alt.themes.register('main_theme', theme.main_theme)\n",
    "alt.themes.enable('main_theme')"
   ]
  },
  {
   "cell_type": "markdown",
   "id": "360ca766-34ec-426f-a1e5-b32c1afc669f",
   "metadata": {},
   "source": [
    "For running interactively:"
   ]
  },
  {
   "cell_type": "code",
   "execution_count": null,
   "id": "31b8ce6c-2d83-4a16-bb50-91129309d0b6",
   "metadata": {
    "editable": true,
    "slideshow": {
     "slide_type": ""
    },
    "tags": []
   },
   "outputs": [],
   "source": [
    "if histogram_plot is None:\n",
    "    #altair_config = \"data/custom_analyses_data/theme.py\"\n",
    "    nipah_config = \"nipah_config.yaml\"\n",
    "    codon_variants_file = \"results/variants/codon_variants.csv\""
   ]
  },
  {
   "cell_type": "markdown",
   "id": "8ba0424a-1419-4719-b592-179561236cbb",
   "metadata": {},
   "source": [
    "Read in config files"
   ]
  },
  {
   "cell_type": "code",
   "execution_count": null,
   "id": "3ee6eb9a-4b89-4028-b78d-188d53ff96b7",
   "metadata": {
    "editable": true,
    "slideshow": {
     "slide_type": ""
    },
    "tags": []
   },
   "outputs": [],
   "source": [
    "with open(nipah_config) as f:\n",
    "    config = yaml.safe_load(f)\n",
    "\n",
    "with open(\"data/func_effects_config.yml\") as y:\n",
    "    config_func = yaml.safe_load(y)"
   ]
  },
  {
   "cell_type": "markdown",
   "id": "13182a7a-035c-4691-ac68-c6071e3162f8",
   "metadata": {},
   "source": [
    "### Read in selections"
   ]
  },
  {
   "cell_type": "code",
   "execution_count": null,
   "id": "3f08050f-9fa4-4393-bc3d-d357bdc879e3",
   "metadata": {
    "editable": true,
    "slideshow": {
     "slide_type": ""
    },
    "tags": []
   },
   "outputs": [],
   "source": [
    "cho_efnb2_low_selections = config_func[\"avg_func_effects\"][\"CHO_bEFNB2\"][\n",
    "    \"selections\"\n",
    "]\n",
    "LibA_CHO_EFNB2 = [\n",
    "    selection + \"_func_effects.csv\"\n",
    "    for selection in cho_efnb2_low_selections\n",
    "    if \"LibA\" in selection and \"LibB\" not in selection\n",
    "]\n",
    "LibB_CHO_EFNB2 = [\n",
    "    selection + \"_func_effects.csv\"\n",
    "    for selection in cho_efnb2_low_selections\n",
    "    if \"LibB\" in selection and \"LibA\" not in selection\n",
    "]\n",
    "\n",
    "cho_efnb3_low_selections = config_func[\"avg_func_effects\"][\"CHO_bEFNB3\"][\n",
    "    \"selections\"\n",
    "]\n",
    "LibA_CHO_EFNB3 = [\n",
    "    selection + \"_func_effects.csv\"\n",
    "    for selection in cho_efnb3_low_selections\n",
    "    if \"LibA\" in selection and \"LibB\" not in selection\n",
    "]\n",
    "LibB_CHO_EFNB3 = [\n",
    "    selection + \"_func_effects.csv\"\n",
    "    for selection in cho_efnb3_low_selections\n",
    "    if \"LibB\" in selection and \"LibA\" not in selection\n",
    "]"
   ]
  },
  {
   "cell_type": "markdown",
   "id": "29e83a7f-f8e0-4922-b50d-5a8304507c8e",
   "metadata": {
    "editable": true,
    "slideshow": {
     "slide_type": ""
    },
    "tags": []
   },
   "source": [
    "### Calculate correlations for LibA and LibB for CHO-EFNB2 cell entry selections"
   ]
  },
  {
   "cell_type": "code",
   "execution_count": null,
   "id": "7591951d-4d8f-4fac-9d6c-744aaad6884f",
   "metadata": {
    "editable": true,
    "slideshow": {
     "slide_type": ""
    },
    "tags": []
   },
   "outputs": [],
   "source": [
    "# Define the base directory where CSV files are stored\n",
    "path = \"results/func_effects/by_selection/\"\n",
    "\n",
    "\n",
    "# Function to process functional selections from a specific library\n",
    "def process_func_selections(library, library_name):\n",
    "    df_list = []  # Initialize a list to store dataframes\n",
    "    clock = 1  # Counter to uniquely name columns for each file\n",
    "\n",
    "    # Loop through each file in the library\n",
    "    for file_name in library:\n",
    "        file_path = os.path.join(path, file_name)  # Construct the full file path\n",
    "\n",
    "        # Read the CSV file into a dataframe, then rename and drop specific columns\n",
    "        func_scores = pd.read_csv(file_path)\n",
    "        func_scores_renamed = func_scores.rename(\n",
    "            columns={\n",
    "                \"functional_effect\": f\"functional_effect_{clock}\",\n",
    "                \"times_seen\": f\"times_seen_{clock}\",\n",
    "            }\n",
    "        )\n",
    "        func_scores_renamed.drop([\"latent_phenotype_effect\"], axis=1, inplace=True)\n",
    "\n",
    "        df_list.append(func_scores_renamed)  # Append modified dataframe to the list\n",
    "        clock += 1  # Increment counter\n",
    "\n",
    "    # Merge all dataframes on 'site', 'mutant', and 'wildtype' columns\n",
    "    merged_df = df_list[0]\n",
    "    for df in df_list[1:]:\n",
    "        merged_df = pd.merge(\n",
    "            merged_df, df, on=[\"site\", \"mutant\", \"wildtype\"], how=\"outer\"\n",
    "        )\n",
    "\n",
    "    # Calculate median values of functional effects and times seen across all files\n",
    "    lib_columns_func = [col for col in merged_df.columns if \"functional_effect\" in col]\n",
    "    merged_df[f\"mean_effect_{library_name}\"] = merged_df[lib_columns_func].mean(\n",
    "        axis=1\n",
    "    )\n",
    "    lib_columns_times_seen = [col for col in merged_df.columns if \"times_seen\" in col]\n",
    "    merged_df[f\"mean_times_seen_{library_name}\"] = merged_df[\n",
    "        lib_columns_times_seen\n",
    "    ].mean(axis=1)\n",
    "\n",
    "    # Drop intermediate columns used for calculations\n",
    "    lib_columns = [col for col in merged_df.columns if re.search(r\"_\\d+\", col)]\n",
    "    merged_df = merged_df.drop(columns=lib_columns)\n",
    "    return merged_df\n",
    "\n",
    "\n",
    "# Process selections for two libraries and two cell types\n",
    "A_selections_E2 = process_func_selections(LibA_CHO_EFNB2, \"LibA\")\n",
    "B_selections_E2 = process_func_selections(LibB_CHO_EFNB2, \"LibB\")\n",
    "A_selections_E3 = process_func_selections(LibA_CHO_EFNB3, \"LibA\")\n",
    "B_selections_E3 = process_func_selections(LibB_CHO_EFNB3, \"LibB\")\n",
    "\n",
    "\n",
    "# Function to merge selections from two libraries\n",
    "def merge_selections(A_selections, B_selections):\n",
    "    merged_selections = pd.merge(\n",
    "        A_selections, B_selections, on=[\"wildtype\", \"site\", \"mutant\"], how=\"inner\"\n",
    "    )\n",
    "    lib_columns_times_seen = [\n",
    "        col for col in merged_selections.columns if \"times_seen\" in col\n",
    "    ]\n",
    "    merged_selections[\"times_seen\"] = merged_selections[lib_columns_times_seen].median(\n",
    "        axis=1\n",
    "    )\n",
    "    return merged_selections\n",
    "\n",
    "\n",
    "# Merge selections and add cell type information\n",
    "CHO_EFNB2_merged = merge_selections(A_selections_E2, B_selections_E2)\n",
    "CHO_EFNB2_merged[\"cell_type\"] = \"CHO-bEFNB2\"\n",
    "CHO_EFNB3_merged = merge_selections(A_selections_E3, B_selections_E3)\n",
    "CHO_EFNB3_merged[\"cell_type\"] = \"CHO-bEFNB3\"\n",
    "\n",
    "# Concatenate merged selections for both cell types\n",
    "both_selections = pd.concat([CHO_EFNB2_merged, CHO_EFNB3_merged])\n",
    "\n",
    "\n",
    "# Function to generate and display a scatter plot comparing median effects from two libraries\n",
    "def make_chart_median(df, title):\n",
    "    slider = alt.binding_range(min=1, max=25, step=1, name=\"times_seen\")\n",
    "    selector = alt.param(name=\"SelectorName\", value=1, bind=slider)\n",
    "\n",
    "    empty = []\n",
    "    variant_selector = alt.selection_point(\n",
    "        on=\"mouseover\", empty=False, nearest=True, fields=[\"site\", \"mutant\"], value=1\n",
    "    )\n",
    "\n",
    "    df = df[(df[\"mean_effect_LibA\"].notna()) & (df[\"mean_effect_LibB\"].notna())].round(2)\n",
    "    size = df.shape[0]\n",
    "\n",
    "    for selection in [\"CHO-bEFNB2\", \"CHO-bEFNB3\"]:\n",
    "        print(selection)\n",
    "        tmp_df = df[df[\"cell_type\"] == selection]\n",
    "        slope, intercept, r_value, p_value, std_err = scipy.stats.linregress(\n",
    "            df[f\"mean_effect_LibA\"], df[f\"mean_effect_LibB\"]\n",
    "        )\n",
    "        r_value = float(r_value)\n",
    "        print(f\"{r_value:.2f}\")\n",
    "\n",
    "        chart = (\n",
    "            alt.Chart(tmp_df, title=f\"{selection}\")\n",
    "            .mark_point(filled=True,size=20)\n",
    "            .encode(\n",
    "                x=alt.X(\"mean_effect_LibA\", title=\"Library A\"),\n",
    "                y=alt.Y(\"mean_effect_LibB\", title=\"Library B\"),\n",
    "                tooltip=[\"site\", \"wildtype\", \"mutant\", \"times_seen\"],\n",
    "                size=alt.condition(variant_selector, alt.value(100), alt.value(15)),\n",
    "                color=alt.condition(\n",
    "                    alt.datum.times_seen < selector,\n",
    "                    alt.value(\"transparent\"),\n",
    "                    alt.value(\"black\"),\n",
    "                ),\n",
    "                opacity=alt.condition(variant_selector, alt.value(1), alt.value(0.2)),\n",
    "            )\n",
    "        )\n",
    "        empty.append(chart)\n",
    "    combined_effect_chart = (\n",
    "        alt.hconcat(*empty)\n",
    "        .resolve_scale(y=\"shared\", x=\"shared\", color=\"independent\")\n",
    "        .add_params(variant_selector, selector)\n",
    "    )\n",
    "    return combined_effect_chart\n",
    "\n",
    "\n",
    "CHO_EFNB2_corr_plot = make_chart_median(both_selections, \"CHO-EFNB2\")\n",
    "CHO_EFNB2_corr_plot.display()\n",
    "if histogram_plot is not None:\n",
    "    CHO_EFNB2_corr_plot.save(CHO_corr_plot_save)"
   ]
  },
  {
   "cell_type": "code",
   "execution_count": null,
   "id": "25136046-f160-4743-973b-436ce695ac5d",
   "metadata": {},
   "outputs": [],
   "source": [
    "def plot_corr_heatmap(df):\n",
    "    empty_chart = []\n",
    "\n",
    "    for cell in list(df[\"cell_type\"].unique()):\n",
    "        tmp_df = df[df[\"cell_type\"] == cell]\n",
    "        chart = (\n",
    "            alt.Chart(tmp_df, title=f\"{cell}\")\n",
    "            .mark_rect()\n",
    "            .encode(\n",
    "                x=alt.X(\"mean_effect_LibA\", title=\"Library A\",axis=alt.Axis(values=[-4,-3,-2,-1,0,1])).bin(\n",
    "                    maxbins=80,\n",
    "                ),\n",
    "                y=alt.Y(\"mean_effect_LibB\", title=\"Library B\",axis=alt.Axis(values=[-4,-3,-2,-1,0,1])).bin(\n",
    "                    maxbins=80,\n",
    "                ),\n",
    "                color=alt.Color(\"count()\", title=\"Count\").scale(scheme=\"greenblue\",type='log'),\n",
    "                tooltip=['count()'],\n",
    "            )\n",
    "        )\n",
    "        empty_chart.append(chart)\n",
    "\n",
    "    combined_chart = alt.hconcat(\n",
    "        *empty_chart, title=alt.Title(\"Correlation between cell entry measurements between libraries\",offset=10)\n",
    "    ).resolve_scale(y=\"shared\", x=\"shared\", color=\"shared\")\n",
    "    return combined_chart\n",
    "\n",
    "\n",
    "entry_binding_corr_heatmap = plot_corr_heatmap(both_selections.query('times_seen >= 2'))\n",
    "entry_binding_corr_heatmap.display()\n",
    "entry_binding_corr_heatmap.save(entry_binding_corr_heatmap_plot)"
   ]
  },
  {
   "cell_type": "markdown",
   "id": "c2dccee9-cfe5-468a-b520-efa8bb98af3a",
   "metadata": {
    "editable": true,
    "slideshow": {
     "slide_type": ""
    },
    "tags": []
   },
   "source": [
    "### Make correlations between individual selections"
   ]
  },
  {
   "cell_type": "code",
   "execution_count": null,
   "id": "76818744-d87f-4845-9396-83713452b3be",
   "metadata": {
    "editable": true,
    "slideshow": {
     "slide_type": ""
    },
    "tags": []
   },
   "outputs": [],
   "source": [
    "def process_individ_selections(library):\n",
    "    df_list = []\n",
    "    clock = 1\n",
    "    for file_name in library:\n",
    "        file_path = os.path.join(path, file_name)\n",
    "        print(f\"Processing file: {file_path}\")\n",
    "        # Read the current CSV file\n",
    "        func_scores = pd.read_csv(file_path)\n",
    "        func_scores_renamed = func_scores.rename(\n",
    "            columns={\n",
    "                \"functional_effect\": f\"functional_effect_{clock}\",\n",
    "                \"times_seen\": f\"times_seen_{clock}\",\n",
    "            }\n",
    "        )\n",
    "        func_scores_renamed.drop([\"latent_phenotype_effect\"], axis=1, inplace=True)\n",
    "\n",
    "        # Append the dataframe to the list\n",
    "        df_list.append(func_scores_renamed)\n",
    "        clock = clock + 1\n",
    "\n",
    "    # Merge all dataframes on 'site' and 'mutant'\n",
    "    merged_df = df_list[0]\n",
    "    for df in df_list[1:]:\n",
    "        merged_df = pd.merge(\n",
    "            merged_df, df, on=[\"site\", \"mutant\", \"wildtype\"], how=\"outer\"\n",
    "        )\n",
    "    # Make list of how many selections are done for later correlation plots\n",
    "    lib_size = len(library)\n",
    "    number_list = [i for i in range(1, lib_size + 1)]\n",
    "    return merged_df, number_list\n",
    "\n",
    "\n",
    "CHO_EFNB2_indiv, lib_size_EFNB2 = process_individ_selections(\n",
    "    LibA_CHO_EFNB2 + LibB_CHO_EFNB2\n",
    ")\n",
    "CHO_EFNB3_indiv, lib_size_EFNB3 = process_individ_selections(\n",
    "    LibA_CHO_EFNB3 + LibB_CHO_EFNB3\n",
    ")\n",
    "\n",
    "\n",
    "def make_chart(df, number_list):\n",
    "    empty_list = []\n",
    "    for i in number_list:\n",
    "        other_empty_list = []\n",
    "        for j in number_list:\n",
    "            df = df[\n",
    "                (df[f\"times_seen_{i}\"] >= config[\"func_times_seen_cutoff\"])\n",
    "                & (df[f\"times_seen_{j}\"] >= config[\"func_times_seen_cutoff\"])\n",
    "                & (df[f\"functional_effect_{i}\"].notna())\n",
    "                & (df[f\"functional_effect_{j}\"].notna())\n",
    "            ]\n",
    "\n",
    "            chart = (\n",
    "                alt.Chart(df)\n",
    "                .mark_circle(size=10, color=\"black\", opacity=0.2)\n",
    "                .encode(\n",
    "                    x=alt.X(f\"functional_effect_{i}\"),\n",
    "                    y=alt.Y(f\"functional_effect_{j}\"),\n",
    "                    tooltip=[\"site\", \"wildtype\", \"mutant\"],\n",
    "                )\n",
    "                .properties(height=alt.Step(10), width=alt.Step(10))\n",
    "            )\n",
    "            other_empty_list.append(chart)\n",
    "        combined_effect_chart = alt.hconcat(*other_empty_list).resolve_scale(\n",
    "            y=\"shared\", x=\"shared\", color=\"independent\"\n",
    "        )\n",
    "        empty_list.append(combined_effect_chart)\n",
    "    final_combined_chart = alt.vconcat(*empty_list).resolve_scale(\n",
    "        y=\"shared\", x=\"shared\", color=\"independent\"\n",
    "    )\n",
    "    return final_combined_chart\n",
    "\n",
    "\n",
    "CHO_EFNB2_indiv_plot = make_chart(CHO_EFNB2_indiv, lib_size_EFNB2)\n",
    "if histogram_plot is not None:\n",
    "    CHO_EFNB2_indiv_plot.save(CHO_EFNB2_indiv_plot_save)\n",
    "CHO_EFNB3_indiv_plot = make_chart(CHO_EFNB3_indiv, lib_size_EFNB3)\n",
    "if histogram_plot is not None:\n",
    "    CHO_EFNB3_indiv_plot.save(CHO_EFNB3_indiv_plot_save)"
   ]
  },
  {
   "cell_type": "markdown",
   "id": "dc8e5ae1-df65-445a-aeae-20f35e139816",
   "metadata": {
    "editable": true,
    "slideshow": {
     "slide_type": ""
    },
    "tags": []
   },
   "source": [
    "# Now make histogram of variants"
   ]
  },
  {
   "cell_type": "code",
   "execution_count": null,
   "id": "4403c1eb-85c0-4948-91cb-2773188b1fdb",
   "metadata": {
    "editable": true,
    "slideshow": {
     "slide_type": ""
    },
    "tags": []
   },
   "outputs": [],
   "source": [
    "codon_variants = pd.read_csv(codon_variants_file)\n",
    "display(codon_variants.head(3))\n",
    "unique_barcodes_per_library = codon_variants.groupby(\"library\")[\"barcode\"].nunique()\n",
    "\n",
    "uniq_barcodes_per_lib = pd.DataFrame(unique_barcodes_per_library)\n",
    "display(uniq_barcodes_per_lib)"
   ]
  },
  {
   "cell_type": "markdown",
   "id": "bb8068b9-f425-4796-8d84-ac1259b06a6f",
   "metadata": {},
   "source": [
    "### Find which sites are present, and which are missing"
   ]
  },
  {
   "cell_type": "code",
   "execution_count": null,
   "id": "f2fccb9e-9ea6-4fbc-90ba-5448f51a8746",
   "metadata": {},
   "outputs": [],
   "source": [
    "# Initialize an empty dictionary to keep track of observed mutations\n",
    "aa_counts = {}\n",
    "wildtypes = {}  # Dictionary to keep track of wildtype amino acids for each site\n",
    "\n",
    "\n",
    "# Function to process each cell, update counts, and record wildtype amino acids\n",
    "def process_cell(cell):\n",
    "    if pd.notna(cell):  # Check if cell is not NaN\n",
    "        substitutions = cell.split()\n",
    "        for substitution in substitutions:\n",
    "            if substitution[-1] not in (\"*\", \"-\") and substitution[0] not in (\n",
    "                \"*\"\n",
    "            ):  # Skip if substitution ends with '*' or '-'\n",
    "                site = substitution[1:-1]\n",
    "                mutation = substitution[-1]\n",
    "                wildtype = substitution[0]\n",
    "                site_mutation = site + mutation\n",
    "                if site not in wildtypes:\n",
    "                    wildtypes[site] = wildtype\n",
    "                if site_mutation in aa_counts:\n",
    "                    aa_counts[site_mutation] += 1\n",
    "                else:\n",
    "                    aa_counts[site_mutation] = 1\n",
    "\n",
    "\n",
    "empty_mutants = []\n",
    "empty_percent = []\n",
    "for lib in [\"LibA\", \"LibB\"]:\n",
    "    # Apply the function to each cell in the 'aa_substitutions' column\n",
    "    tmp_df = codon_variants[codon_variants[\"library\"] == lib]\n",
    "    tmp_df[\"aa_substitutions\"].apply(process_cell)\n",
    "\n",
    "    # Generate all possible combinations excluding the wildtype for each site\n",
    "    expected_sites = range(1, 533)\n",
    "    possible_mutations = [\n",
    "        \"A\",\n",
    "        \"C\",\n",
    "        \"D\",\n",
    "        \"E\",\n",
    "        \"F\",\n",
    "        \"G\",\n",
    "        \"H\",\n",
    "        \"I\",\n",
    "        \"K\",\n",
    "        \"L\",\n",
    "        \"M\",\n",
    "        \"N\",\n",
    "        \"P\",\n",
    "        \"Q\",\n",
    "        \"R\",\n",
    "        \"S\",\n",
    "        \"T\",\n",
    "        \"V\",\n",
    "        \"W\",\n",
    "        \"Y\",\n",
    "    ]\n",
    "\n",
    "    # Adjust expected combinations to exclude the wildtype for each site\n",
    "    expected_combinations = set()\n",
    "    for site in expected_sites:\n",
    "        site_str = str(site)\n",
    "        if site_str in wildtypes:\n",
    "            wildtype = wildtypes[site_str]\n",
    "            for mutation in possible_mutations:\n",
    "                if mutation != wildtype:  # Exclude the wildtype amino acid\n",
    "                    expected_combinations.add(site_str + mutation)\n",
    "\n",
    "    # Extract the actual combinations from the counts\n",
    "    actual_combinations = set(aa_counts.keys())\n",
    "\n",
    "    # Find missing combinations\n",
    "    missing_combinations = expected_combinations - actual_combinations\n",
    "\n",
    "    # Display results\n",
    "    print(f\"Number of unique site-mutation combinations observed: {len(aa_counts)}\")\n",
    "    print(\n",
    "        f\"Number of missing combinations (excluding wildtypes): {len(missing_combinations)}\"\n",
    "    )\n",
    "    print(\n",
    "        f\"Total possible combinations excluding wildtypes: {len(expected_combinations)}\"\n",
    "    )\n",
    "    empty_percent.append(len(actual_combinations) / len(expected_combinations))\n",
    "\n",
    "uniq_barcodes_per_lib[\"percent\"] = empty_percent\n",
    "uniq_barcodes_per_lib[\"percent\"] = uniq_barcodes_per_lib[\"percent\"] * 100\n",
    "uniq_barcodes_per_lib = uniq_barcodes_per_lib.round(2)\n",
    "uniq_barcodes_per_lib = uniq_barcodes_per_lib.reset_index()\n",
    "uniq_barcodes_per_lib.to_csv(uniq_barcodes_per_lib_df, index=False)"
   ]
  },
  {
   "cell_type": "code",
   "execution_count": null,
   "id": "0f8e15a5-0b92-47e6-9d59-b86f4094da21",
   "metadata": {
    "editable": true,
    "slideshow": {
     "slide_type": ""
    },
    "tags": []
   },
   "outputs": [],
   "source": [
    "def calculate_fraction(library):\n",
    "    total_A = codon_variants[codon_variants[\"library\"] == library].shape[0]\n",
    "    for number in range(5):\n",
    "        fraction = codon_variants[\n",
    "            (codon_variants[\"library\"] == library)\n",
    "            & (codon_variants[\"n_aa_substitutions\"] == number)\n",
    "        ].shape[0]\n",
    "        print(\n",
    "            f\"For {library}, the fraction of sites with {number} mutations relative to WT are: {fraction/total_A:.2f}\"\n",
    "        )\n",
    "\n",
    "\n",
    "calculate_fraction(\"LibA\")\n",
    "calculate_fraction(\"LibB\")"
   ]
  },
  {
   "cell_type": "code",
   "execution_count": null,
   "id": "998767a9-6d4a-41c2-8259-f302cdb79521",
   "metadata": {
    "editable": true,
    "slideshow": {
     "slide_type": ""
    },
    "tags": []
   },
   "outputs": [],
   "source": [
    "def plot_histogram(df):\n",
    "    df = df.drop(\n",
    "        columns=[\n",
    "            \"barcode\",\n",
    "            \"target\",\n",
    "            \"variant_call_support\",\n",
    "            \"codon_substitutions\",\n",
    "            \"aa_substitutions\",\n",
    "            \"n_codon_substitutions\",\n",
    "        ]\n",
    "    )\n",
    "    chart = (\n",
    "        alt.Chart(df)\n",
    "        .mark_bar(color=\"black\")\n",
    "        .encode(\n",
    "            alt.X(\"n_aa_substitutions:O\", title=\"# of AA Mutations\",axis=alt.Axis(labelAngle=0)).scale(domain=[0,1,2,3,4,5,6,7]),\n",
    "            alt.Y(\n",
    "                \"count()\", title=\"Count\", axis=alt.Axis(grid=False)\n",
    "            ),  \n",
    "            column=alt.Column(\n",
    "                \"library\", header=alt.Header(title=None, labelFontSize=20,labelFont='Helvetica Light',labelFontStyle='bold')\n",
    "            ),\n",
    "        )\n",
    "    )\n",
    "    return chart\n",
    "\n",
    "\n",
    "histogram = plot_histogram(codon_variants)\n",
    "histogram.display()\n",
    "if histogram_plot is not None:\n",
    "    histogram.save(histogram_plot)"
   ]
  },
  {
   "cell_type": "code",
   "execution_count": null,
   "id": "d7c3a3d4-7fb1-402e-b46c-7cc19696c046",
   "metadata": {},
   "outputs": [],
   "source": []
  }
 ],
 "metadata": {
  "kernelspec": {
   "display_name": "Python 3 (ipykernel)",
   "language": "python",
   "name": "python3"
  },
  "language_info": {
   "codemirror_mode": {
    "name": "ipython",
    "version": 3
   },
   "file_extension": ".py",
   "mimetype": "text/x-python",
   "name": "python",
   "nbconvert_exporter": "python",
   "pygments_lexer": "ipython3",
   "version": "3.11.8"
  }
 },
 "nbformat": 4,
 "nbformat_minor": 5
}
