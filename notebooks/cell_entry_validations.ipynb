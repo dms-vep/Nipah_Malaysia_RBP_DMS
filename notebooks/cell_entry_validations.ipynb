{
 "cells": [
  {
   "cell_type": "markdown",
   "id": "30ec43ac-3b4e-4b2a-86c3-e30c67241d5d",
   "metadata": {
    "editable": true,
    "slideshow": {
     "slide_type": ""
    },
    "tags": []
   },
   "source": [
    "# This notebook will read in experimentally determined luciferase entry of individual mutants and plot correlation with DMS entry scores"
   ]
  },
  {
   "cell_type": "code",
   "execution_count": null,
   "id": "b8e3249c-2c91-41e9-bda2-354ca01b4b16",
   "metadata": {
    "editable": true,
    "slideshow": {
     "slide_type": ""
    },
    "tags": [
     "parameters"
    ]
   },
   "outputs": [],
   "source": [
    "# this cell is tagged as parameters for `papermill` parameterization\n",
    "altair_config = None\n",
    "nipah_config = None\n",
    "validation_file_E2 = None\n",
    "validation_file_E3 = None\n",
    "\n",
    "func_scores_E2_file = None\n",
    "func_scores_E3_file = None\n",
    "\n",
    "func_score_E2_plot = None\n",
    "func_score_E3_plot = None\n",
    "corr_plots_combined = None"
   ]
  },
  {
   "cell_type": "code",
   "execution_count": null,
   "id": "3ec42b2b-0cee-45be-a369-8c1ddb346959",
   "metadata": {
    "editable": true,
    "slideshow": {
     "slide_type": ""
    },
    "tags": []
   },
   "outputs": [],
   "source": [
    "import math\n",
    "import os\n",
    "import re\n",
    "\n",
    "import altair as alt\n",
    "\n",
    "import numpy as np\n",
    "\n",
    "import pandas as pd\n",
    "\n",
    "import scipy.stats\n",
    "\n",
    "import yaml"
   ]
  },
  {
   "cell_type": "code",
   "execution_count": null,
   "id": "1d2e7dbd-7b5b-48ef-ad05-da00c36588c6",
   "metadata": {
    "editable": true,
    "slideshow": {
     "slide_type": ""
    },
    "tags": []
   },
   "outputs": [],
   "source": [
    "# allow more rows for Altair\n",
    "_ = alt.data_transformers.disable_max_rows()\n",
    "\n",
    "if os.getcwd() == '/fh/fast/bloom_j/computational_notebooks/blarsen/2023/Nipah_Malaysia_RBP_DMS/':\n",
    "    pass\n",
    "    print(\"Already in correct directory\")\n",
    "else:\n",
    "    os.chdir(\"/fh/fast/bloom_j/computational_notebooks/blarsen/2023/Nipah_Malaysia_RBP_DMS/\")\n",
    "    print(\"Setup in correct directory\")\n",
    "with open(\"config.yaml\") as f:\n",
    "    config = yaml.safe_load(f)"
   ]
  },
  {
   "cell_type": "code",
   "execution_count": null,
   "id": "f7313e6e-5276-4184-aad0-a9ba06a6b9e6",
   "metadata": {
    "editable": true,
    "slideshow": {
     "slide_type": ""
    },
    "tags": []
   },
   "outputs": [],
   "source": [
    "#altair_config = 'data/custom_analyses_data/theme.py'\n",
    "#nipah_config = 'nipah_config.yaml'\n",
    "#validation_file_E2 = 'data/custom_analyses_data/experimental_data/functional_validations_EFNB2.csv'\n",
    "#validation_file_E3 = 'data/custom_analyses_data/experimental_data/functional_validations_EFNB3.csv'\n",
    "#\n",
    "#func_scores_E2_file = \"results/func_effects/averages/CHO_EFNB2_low_func_effects.csv\"\n",
    "#func_scores_E3_file = \"results/func_effects/averages/CHO_EFNB3_low_func_effects.csv\"\n",
    "#\n",
    "#func_score_E2_plot \n",
    "#func_score_E3_plot"
   ]
  },
  {
   "cell_type": "code",
   "execution_count": null,
   "id": "efb4ff62-4407-4bb9-8b5a-3da82b495d95",
   "metadata": {
    "editable": true,
    "slideshow": {
     "slide_type": ""
    },
    "tags": []
   },
   "outputs": [],
   "source": [
    "if altair_config:\n",
    "    with open(altair_config, 'r') as file:\n",
    "        exec(file.read())\n",
    "\n",
    "with open(nipah_config) as f:\n",
    "    config = yaml.safe_load(f)"
   ]
  },
  {
   "cell_type": "markdown",
   "id": "46b8c6ea-8849-479d-a7a3-a58054c8cb37",
   "metadata": {
    "editable": true,
    "slideshow": {
     "slide_type": ""
    },
    "tags": []
   },
   "source": [
    "### Import luciferase (RLUs/uL) readings for each mutant"
   ]
  },
  {
   "cell_type": "code",
   "execution_count": null,
   "id": "2a6f101f-d343-43ec-ae5f-5cfaa315c39f",
   "metadata": {
    "editable": true,
    "slideshow": {
     "slide_type": ""
    },
    "tags": []
   },
   "outputs": [],
   "source": [
    "func_validations_EFNB2 = pd.read_csv(validation_file_E2,na_filter=None)\n",
    "func_validations_EFNB2 = func_validations_EFNB2.rename(columns={'mean_luciferase':'mean_luciferase_E2'})\n",
    "func_validations_EFNB3 = pd.read_csv(validation_file_E3,na_filter=None)\n",
    "func_validations_EFNB3 = func_validations_EFNB3.rename(columns={'mean_luciferase':'mean_luciferase_E3'})\n",
    "func_validations_EFNB3 = func_validations_EFNB3.drop('mutation',axis=1)\n",
    "concat = pd.concat([func_validations_EFNB2,func_validations_EFNB3],axis=1)\n",
    "display(concat)"
   ]
  },
  {
   "cell_type": "markdown",
   "id": "4d983683-9937-407c-a895-909e6e6c2298",
   "metadata": {
    "editable": true,
    "slideshow": {
     "slide_type": ""
    },
    "tags": []
   },
   "source": [
    "### Now import func scores and make new column to match above data frame to merge on"
   ]
  },
  {
   "cell_type": "code",
   "execution_count": null,
   "id": "7dd73330-d8b4-475e-b742-c073cc4e4796",
   "metadata": {
    "editable": true,
    "slideshow": {
     "slide_type": ""
    },
    "tags": []
   },
   "outputs": [],
   "source": [
    "func_scores = pd.read_csv(func_scores_E2_file)\n",
    "func_scores['mutation'] = func_scores['wildtype'] + func_scores['site'].astype(str) + func_scores['mutant']\n",
    "\n",
    "func_scores_E3 = pd.read_csv(func_scores_E3_file)\n",
    "func_scores_E3['mutation'] = func_scores_E3['wildtype'] + func_scores_E3['site'].astype(str) + func_scores_E3['mutant']\n",
    "\n",
    "func_scores_merged = func_scores.merge(func_scores_E3, on=['mutation'], how='left', suffixes=['_E2','_E3'])\n",
    "merged = concat.merge(func_scores_merged,on=['mutation'],how='left')\n",
    "#Change effect of WT to very small number other than 0 so can plot on log scale\n",
    "merged.loc[merged['mutation'] == 'WT', ['effect_E2', 'effect_E3']] = 0.0000001\n",
    "\n",
    "#for column in merged.select_dtypes(include=['int64']).columns:\n",
    "#    merged[column] = merged[column].astype(int)"
   ]
  },
  {
   "cell_type": "markdown",
   "id": "85595e30-1e9b-40e8-89ce-0fa31e824745",
   "metadata": {
    "editable": true,
    "slideshow": {
     "slide_type": ""
    },
    "tags": []
   },
   "source": [
    "### Now Plot Correlations"
   ]
  },
  {
   "cell_type": "markdown",
   "id": "9b173d82-87d9-48c4-b975-b7192c3212db",
   "metadata": {
    "editable": true,
    "slideshow": {
     "slide_type": ""
    },
    "tags": []
   },
   "source": [
    "### E2 Correlations"
   ]
  },
  {
   "cell_type": "code",
   "execution_count": null,
   "id": "dffbc5a1-cb22-4fc2-bc2a-5026a6032f02",
   "metadata": {
    "editable": true,
    "slideshow": {
     "slide_type": ""
    },
    "tags": []
   },
   "outputs": [],
   "source": [
    "##### calculate R value:\n",
    "slope, intercept, r_value, p_value, std_err = scipy.stats.linregress(merged['effect_E2'], merged['mean_luciferase_E2'])\n",
    "r_value = float(r_value)\n",
    "\n",
    "# Sorting function to put 'WT' on top of the legend, followed by numerical order\n",
    "def custom_sort_order(array):\n",
    "    # Sort based on the numerical part in mutation strings, e.g., '530' in 'Q530F'\n",
    "    def extract_number(mutation):\n",
    "        num = re.search(r'\\d+', mutation)\n",
    "        return int(num.group()) if num else 0\n",
    "\n",
    "    array = sorted(array, key=extract_number)\n",
    "\n",
    "    # Move 'WT' to the beginning of the list\n",
    "    if 'WT' in array:\n",
    "        array.remove('WT')\n",
    "        array.insert(0, 'WT')\n",
    "    return array\n",
    "\n",
    "# Define the category10 colors manually\n",
    "category10_colors = ['#4E79A5', '#F18F3B', '#E0585B', '#77B7B2', '#5AA155', '#EDC958', '#AF7AA0', '#FE9EA8', '#9C7561', '#BAB0AC']\n",
    "\n",
    "# Adjust colors based on the unique mutations\n",
    "colors = ['black'] + category10_colors[:len(merged['mutation'].unique())-1]\n",
    "\n",
    "# Create the Altair chart\n",
    "corr_chart = (\n",
    "    alt.Chart(merged,title=alt.Title('CHO-EFNB2',anchor='middle', fontSize=16))\n",
    "    .encode(\n",
    "        x=alt.X(\n",
    "            \"effect_E2:Q\",\n",
    "            title=\"DMS entry score\",\n",
    "            scale=alt.Scale(domain=[-4,1]),\n",
    "            axis=alt.Axis(values=[-4, -3, -2, -1, 0, 1],tickCount=6)\n",
    "        ),\n",
    "        y=alt.Y(\n",
    "            \"mean_luciferase_E2\",\n",
    "            title=\"RLU/μL\",\n",
    "            scale=alt.Scale(type=\"log\", base=10),\n",
    "            axis=alt.Axis(format=\".0e\", grid=True, tickCount=4)  # Display in scientific notation\n",
    "        ),\n",
    "        color=alt.Color('mutation', title='Mutant', scale=alt.Scale(domain=custom_sort_order(merged['mutation'].unique()), range=colors)),\n",
    "        tooltip=['mutation','effect_E2','mean_luciferase_E2']\n",
    "    )\n",
    "    .mark_point(filled=True, size=80, opacity=0.8)\n",
    "    .properties(width=alt.Step(20), height=alt.Step(20))\n",
    ")\n",
    "\n",
    "min_effect_E2 = int(merged['effect_E2'].min())\n",
    "max_mean_luciferase_E2 = int(merged['mean_luciferase_E2'].max())\n",
    "\n",
    "text = alt.Chart({'values':[{'x': min_effect_E2, 'y': max_mean_luciferase_E2, 'text': f'r = {r_value:.2f}'}]}).mark_text(\n",
    "\n",
    "    align='left',\n",
    "    baseline='top',\n",
    "    dx=-30,  # Adjust this for position\n",
    "    dy=-10  # Adjust this for position\n",
    ").encode(\n",
    "    x=alt.X('x:Q'),\n",
    "    y=alt.Y('y:Q'),\n",
    "    text='text:N'\n",
    ")\n",
    "#text\n",
    "final_chart = corr_chart + text\n",
    "\n",
    "\n",
    "func_score_E2_chart = final_chart\n",
    "func_score_E2_chart.display()\n",
    "func_score_E2_chart.save(func_score_E2_plot)"
   ]
  },
  {
   "cell_type": "code",
   "execution_count": null,
   "id": "6e00f6a8-086f-4b79-b4cf-80505f392cad",
   "metadata": {
    "editable": true,
    "slideshow": {
     "slide_type": ""
    },
    "tags": []
   },
   "outputs": [],
   "source": [
    "#calculate R value:\n",
    "slope, intercept, r_value, p_value, std_err = scipy.stats.linregress(merged['effect_E3'], merged['mean_luciferase_E3'])\n",
    "r_value = float(r_value)\n",
    "\n",
    "# Sorting function to put 'WT' on top of the legend, followed by numerical order\n",
    "def custom_sort_order(array):\n",
    "    # Sort based on the numerical part in mutation strings, e.g., '530' in 'Q530F'\n",
    "    def extract_number(mutation):\n",
    "        num = re.search(r'\\d+', mutation)\n",
    "        return int(num.group()) if num else 0\n",
    "\n",
    "    array = sorted(array, key=extract_number)\n",
    "\n",
    "    # Move 'WT' to the beginning of the list\n",
    "    if 'WT' in array:\n",
    "        array.remove('WT')\n",
    "        array.insert(0, 'WT')\n",
    "    return array\n",
    "\n",
    "# Define the category10 colors manually\n",
    "category10_colors = ['#4E79A5', '#F18F3B', '#E0585B', '#77B7B2', '#5AA155', '#EDC958', '#AF7AA0', '#FE9EA8', '#9C7561', '#BAB0AC']\n",
    "\n",
    "# Adjust colors based on the unique mutations\n",
    "colors = ['black'] + category10_colors[:len(merged['mutation'].unique())-1]\n",
    "\n",
    "# Create the Altair chart\n",
    "corr_chart = (\n",
    "    alt.Chart(merged,title=alt.Title('CHO-EFNB3',anchor='middle', fontSize=16))\n",
    "    .encode(\n",
    "        x=alt.X(\n",
    "            \"effect_E3:Q\",\n",
    "            title=\"DMS entry score\",\n",
    "            scale=alt.Scale(domain=[-4,1]),\n",
    "            axis=alt.Axis(values=[-4, -3, -2, -1, 0, 1],tickCount=6)\n",
    "        ),\n",
    "        y=alt.Y(\n",
    "            \"mean_luciferase_E3\",\n",
    "            title=\"RLU/μL\",\n",
    "            scale=alt.Scale(type=\"log\", base=10),\n",
    "            axis=alt.Axis(format=\".0e\", grid=True, tickCount=4)  # Display in scientific notation\n",
    "        ),\n",
    "        color=alt.Color('mutation', title='Mutant', scale=alt.Scale(domain=custom_sort_order(merged['mutation'].unique()), range=colors)),\n",
    "        tooltip=['mutation','effect_E3','mean_luciferase_E3']    \n",
    "    )\n",
    "    .mark_point(filled=True, size=80, opacity=0.6)\n",
    "    .properties(width=alt.Step(20), height=alt.Step(20))\n",
    ")\n",
    "\n",
    "min_effect_E3 = int(merged['effect_E3'].min())\n",
    "max_mean_luciferase_E3 = int(merged['mean_luciferase_E3'].max())\n",
    "\n",
    "text = alt.Chart({'values':[{'x': min_effect_E3, 'y': max_mean_luciferase_E3, 'text': f'r = {r_value:.2f}'}]}).mark_text(\n",
    "\n",
    "    align='left',\n",
    "    baseline='top',\n",
    "    dx=-30,  # Adjust this for position\n",
    "    dy=-10  # Adjust this for position\n",
    ").encode(\n",
    "    x=alt.X('x:Q'),\n",
    "    y=alt.Y('y:Q'),\n",
    "    text='text:N'\n",
    ")\n",
    "#text\n",
    "final_chart = corr_chart + text\n",
    "\n",
    "func_score_E3_chart = final_chart\n",
    "func_score_E3_chart.display()\n",
    "func_score_E3_chart.save(func_score_E3_plot)"
   ]
  },
  {
   "cell_type": "markdown",
   "id": "0675a100-8a6b-4dd9-ad1a-d25787fc05e9",
   "metadata": {
    "editable": true,
    "slideshow": {
     "slide_type": ""
    },
    "tags": []
   },
   "source": [
    "### Now calculate entry of each mutant relative to WT"
   ]
  },
  {
   "cell_type": "code",
   "execution_count": null,
   "id": "78e0025e-959e-4499-8661-9c1cca8c6b96",
   "metadata": {
    "editable": true,
    "slideshow": {
     "slide_type": ""
    },
    "tags": []
   },
   "outputs": [],
   "source": [
    "mean_luc_E2 = merged.query('mutation == \"WT\"').groupby('mutation')['mean_luciferase_E2'].mean()\n",
    "mean_luc_E3 = merged.query('mutation == \"WT\"').groupby('mutation')['mean_luciferase_E3'].mean()\n",
    "merged['E2_relative'] = merged['mean_luciferase_E2'] / mean_luc_E2[0]\n",
    "merged['E3_relative'] = merged['mean_luciferase_E3'] / mean_luc_E3[0]\n",
    "\n",
    "merged_wt_drop = merged[merged['mutation'] != 'WT']"
   ]
  },
  {
   "cell_type": "code",
   "execution_count": null,
   "id": "6871a4ed-dad2-40e8-b13f-c75baeaef5c9",
   "metadata": {
    "editable": true,
    "slideshow": {
     "slide_type": ""
    },
    "tags": []
   },
   "outputs": [],
   "source": [
    "def plot_functional_validations(df):    \n",
    "    df_melted = df.melt(id_vars='mutation', value_vars=['E2_relative', 'E3_relative'], var_name='type', value_name='effect')    \n",
    "    chart = alt.Chart(df_melted).mark_circle(filled=True,opacity=0.7,size=100).encode(\n",
    "        x=alt.X('type:N',title=None,axis=alt.Axis(labels=False, ticks=False, domain=True)),\n",
    "        y=alt.Y('effect', title='Cell Entry of RBP Mutants Relative to WT',scale=alt.Scale(type=\"log\", base=10),axis=alt.Axis(grid=True, tickCount=6)),  # Display in scientific notation\n",
    "        #xOffset='random:Q',\n",
    "        color=alt.Color('type',title='Receptor'),\n",
    "        column=alt.Column('mutation:N',title=None, header=alt.Header(labelFontSize=16, labelFont=\"Helvetica Light\", labelOrient='bottom'))\n",
    "    ).properties(\n",
    "        height=300,\n",
    "        width=100\n",
    "    )\n",
    "    \n",
    "    return chart.display()\n",
    "\n",
    "plot_functional_validations(merged_wt_drop)"
   ]
  },
  {
   "cell_type": "code",
   "execution_count": null,
   "id": "e28cbacc-dea2-4b9a-aae6-bb43e4e162fd",
   "metadata": {
    "editable": true,
    "slideshow": {
     "slide_type": ""
    },
    "tags": []
   },
   "outputs": [],
   "source": [
    "#corr_plots_combined\n",
    "(func_score_E2_chart | func_score_E3_chart).save(corr_plots_combined)"
   ]
  },
  {
   "cell_type": "code",
   "execution_count": null,
   "id": "7919f9ba-729d-43aa-bb95-a06e698063da",
   "metadata": {
    "editable": true,
    "slideshow": {
     "slide_type": ""
    },
    "tags": []
   },
   "outputs": [],
   "source": []
  },
  {
   "cell_type": "code",
   "execution_count": null,
   "id": "3e096044-6ca1-4f41-8c24-4775c249f406",
   "metadata": {},
   "outputs": [],
   "source": []
  },
  {
   "cell_type": "code",
   "execution_count": null,
   "id": "7dec8ac4-8392-4bdd-bd9e-135e6f6f5984",
   "metadata": {},
   "outputs": [],
   "source": []
  }
 ],
 "metadata": {
  "kernelspec": {
   "display_name": "Python 3 (ipykernel)",
   "language": "python",
   "name": "python3"
  },
  "language_info": {
   "codemirror_mode": {
    "name": "ipython",
    "version": 3
   },
   "file_extension": ".py",
   "mimetype": "text/x-python",
   "name": "python",
   "nbconvert_exporter": "python",
   "pygments_lexer": "ipython3",
   "version": "3.11.7"
  }
 },
 "nbformat": 4,
 "nbformat_minor": 5
}
