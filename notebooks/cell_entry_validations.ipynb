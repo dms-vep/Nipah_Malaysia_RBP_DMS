{
 "cells": [
  {
   "cell_type": "markdown",
   "id": "30ec43ac-3b4e-4b2a-86c3-e30c67241d5d",
   "metadata": {
    "editable": true,
    "slideshow": {
     "slide_type": ""
    },
    "tags": []
   },
   "source": [
    "# cell_entry_validations\n",
    "This notebook will read in experimentally determined luciferase entry of individual mutants and plot correlation with DMS entry scores\n",
    "- Written by Brendan Larsen"
   ]
  },
  {
   "cell_type": "code",
   "execution_count": null,
   "id": "b8e3249c-2c91-41e9-bda2-354ca01b4b16",
   "metadata": {
    "editable": true,
    "slideshow": {
     "slide_type": ""
    },
    "tags": [
     "parameters"
    ]
   },
   "outputs": [],
   "source": [
    "# this cell is tagged as parameters for `papermill` parameterization\n",
    "altair_config = None\n",
    "nipah_config = None\n",
    "validation_file_E2 = None\n",
    "validation_file_E3 = None\n",
    "\n",
    "func_scores_E2_file = None\n",
    "func_scores_E3_file = None\n",
    "\n",
    "func_score_E2_plot = None\n",
    "func_score_E3_plot = None\n",
    "corr_plots_combined = None"
   ]
  },
  {
   "cell_type": "code",
   "execution_count": null,
   "id": "3ec42b2b-0cee-45be-a369-8c1ddb346959",
   "metadata": {
    "editable": true,
    "slideshow": {
     "slide_type": ""
    },
    "tags": []
   },
   "outputs": [],
   "source": [
    "import math\n",
    "import os\n",
    "import re\n",
    "\n",
    "import altair as alt\n",
    "\n",
    "import numpy as np\n",
    "\n",
    "import pandas as pd\n",
    "\n",
    "import scipy.stats\n",
    "\n",
    "import yaml"
   ]
  },
  {
   "cell_type": "code",
   "execution_count": null,
   "id": "1d2e7dbd-7b5b-48ef-ad05-da00c36588c6",
   "metadata": {
    "editable": true,
    "slideshow": {
     "slide_type": ""
    },
    "tags": []
   },
   "outputs": [],
   "source": [
    "# allow more rows for Altair\n",
    "_ = alt.data_transformers.disable_max_rows()\n",
    "\n",
    "if (\n",
    "    os.getcwd()\n",
    "    == \"/fh/fast/bloom_j/computational_notebooks/blarsen/2023/Nipah_Malaysia_RBP_DMS/\"\n",
    "):\n",
    "    pass\n",
    "    print(\"Already in correct directory\")\n",
    "else:\n",
    "    os.chdir(\n",
    "        \"/fh/fast/bloom_j/computational_notebooks/blarsen/2023/Nipah_Malaysia_RBP_DMS/\"\n",
    "    )\n",
    "    print(\"Setup in correct directory\")\n",
    "with open(\"config.yaml\") as f:\n",
    "    config = yaml.safe_load(f)"
   ]
  },
  {
   "cell_type": "markdown",
   "id": "791ca792-db8d-4ba0-bb15-6f81bd040ec9",
   "metadata": {},
   "source": [
    "### For running interactively"
   ]
  },
  {
   "cell_type": "code",
   "execution_count": null,
   "id": "f7313e6e-5276-4184-aad0-a9ba06a6b9e6",
   "metadata": {
    "editable": true,
    "slideshow": {
     "slide_type": ""
    },
    "tags": []
   },
   "outputs": [],
   "source": [
    "if corr_plots_combined is None:\n",
    "    altair_config = \"data/custom_analyses_data/theme.py\"\n",
    "    nipah_config = \"nipah_config.yaml\"\n",
    "    validation_file_E2 = (\n",
    "        \"data/custom_analyses_data/experimental_data/functional_validations_EFNB2.csv\"\n",
    "    )\n",
    "    validation_file_E3 = (\n",
    "        \"data/custom_analyses_data/experimental_data/functional_validations_EFNB3.csv\"\n",
    "    )\n",
    "    func_scores_E2_file = \"results/func_effects/averages/CHO_EFNB2_low_func_effects.csv\"\n",
    "    func_scores_E3_file = \"results/func_effects/averages/CHO_EFNB3_low_func_effects.csv\""
   ]
  },
  {
   "cell_type": "markdown",
   "id": "14c2f429-61c8-4edf-921e-ca669072b583",
   "metadata": {},
   "source": [
    "### Load in config files"
   ]
  },
  {
   "cell_type": "code",
   "execution_count": null,
   "id": "efb4ff62-4407-4bb9-8b5a-3da82b495d95",
   "metadata": {
    "editable": true,
    "slideshow": {
     "slide_type": ""
    },
    "tags": []
   },
   "outputs": [],
   "source": [
    "if altair_config:\n",
    "    with open(altair_config, \"r\") as file:\n",
    "        exec(file.read())\n",
    "\n",
    "with open(nipah_config) as f:\n",
    "    config = yaml.safe_load(f)"
   ]
  },
  {
   "cell_type": "markdown",
   "id": "46b8c6ea-8849-479d-a7a3-a58054c8cb37",
   "metadata": {
    "editable": true,
    "slideshow": {
     "slide_type": ""
    },
    "tags": []
   },
   "source": [
    "### Import luciferase (RLUs/uL) readings for each mutant"
   ]
  },
  {
   "cell_type": "code",
   "execution_count": null,
   "id": "2a6f101f-d343-43ec-ae5f-5cfaa315c39f",
   "metadata": {
    "editable": true,
    "slideshow": {
     "slide_type": ""
    },
    "tags": []
   },
   "outputs": [],
   "source": [
    "func_validations_EFNB2 = pd.read_csv(validation_file_E2, na_filter=None)\n",
    "func_validations_EFNB2 = func_validations_EFNB2.rename(\n",
    "    columns={\"mean_luciferase\": \"mean_luciferase_E2\"}\n",
    ")\n",
    "func_validations_EFNB3 = pd.read_csv(validation_file_E3, na_filter=None)\n",
    "func_validations_EFNB3 = func_validations_EFNB3.rename(\n",
    "    columns={\"mean_luciferase\": \"mean_luciferase_E3\"}\n",
    ")\n",
    "func_validations_EFNB3 = func_validations_EFNB3.drop(\"mutation\", axis=1)\n",
    "concat = pd.concat([func_validations_EFNB2, func_validations_EFNB3], axis=1)\n",
    "display(concat.head(30))"
   ]
  },
  {
   "cell_type": "markdown",
   "id": "4d983683-9937-407c-a895-909e6e6c2298",
   "metadata": {
    "editable": true,
    "slideshow": {
     "slide_type": ""
    },
    "tags": []
   },
   "source": [
    "### Now import func scores and make new column to match above data frame to merge on"
   ]
  },
  {
   "cell_type": "code",
   "execution_count": null,
   "id": "7dd73330-d8b4-475e-b742-c073cc4e4796",
   "metadata": {
    "editable": true,
    "slideshow": {
     "slide_type": ""
    },
    "tags": []
   },
   "outputs": [],
   "source": [
    "func_scores = pd.read_csv(func_scores_E2_file)\n",
    "func_scores[\"mutation\"] = (\n",
    "    func_scores[\"wildtype\"] + func_scores[\"site\"].astype(str) + func_scores[\"mutant\"]\n",
    ")\n",
    "\n",
    "func_scores_E3 = pd.read_csv(func_scores_E3_file)\n",
    "func_scores_E3[\"mutation\"] = (\n",
    "    func_scores_E3[\"wildtype\"]\n",
    "    + func_scores_E3[\"site\"].astype(str)\n",
    "    + func_scores_E3[\"mutant\"]\n",
    ")\n",
    "\n",
    "func_scores_merged = func_scores.merge(\n",
    "    func_scores_E3, on=[\"mutation\"], how=\"left\", suffixes=[\"_E2\", \"_E3\"]\n",
    ")\n",
    "merged = concat.merge(func_scores_merged, on=[\"mutation\"], how=\"left\")\n",
    "# Change effect of WT to very small number other than 0 so can plot on log scale\n",
    "merged.loc[merged[\"mutation\"] == \"Unmutated\", [\"effect_E2\", \"effect_E3\"]] = 0.0000001"
   ]
  },
  {
   "cell_type": "markdown",
   "id": "85595e30-1e9b-40e8-89ce-0fa31e824745",
   "metadata": {
    "editable": true,
    "slideshow": {
     "slide_type": ""
    },
    "tags": []
   },
   "source": [
    "### Now Plot Correlations"
   ]
  },
  {
   "cell_type": "markdown",
   "id": "9b173d82-87d9-48c4-b975-b7192c3212db",
   "metadata": {
    "editable": true,
    "slideshow": {
     "slide_type": ""
    },
    "tags": []
   },
   "source": [
    "### CHO-EFNB2 Entry Correlations"
   ]
  },
  {
   "cell_type": "code",
   "execution_count": null,
   "id": "dffbc5a1-cb22-4fc2-bc2a-5026a6032f02",
   "metadata": {
    "editable": true,
    "slideshow": {
     "slide_type": ""
    },
    "tags": []
   },
   "outputs": [],
   "source": [
    "##### calculate R value:\n",
    "slope, intercept, r_value, p_value, std_err = scipy.stats.linregress(\n",
    "    merged[\"effect_E2\"], merged[\"mean_luciferase_E2\"]\n",
    ")\n",
    "r_value = float(r_value)\n",
    "\n",
    "\n",
    "# Sorting function to put 'WT' on top of the legend, followed by numerical order\n",
    "def custom_sort_order(array):\n",
    "    # Sort based on the numerical part in mutation strings, e.g., '530' in 'Q530F'\n",
    "    def extract_number(mutation):\n",
    "        num = re.search(r\"\\d+\", mutation)\n",
    "        return int(num.group()) if num else 0\n",
    "\n",
    "    array = sorted(array, key=extract_number)\n",
    "\n",
    "    # Move 'WT' to the beginning of the list\n",
    "    if \"Unmutated\" in array:\n",
    "        array.remove(\"Unmutated\")\n",
    "        array.insert(0, \"Unmutated\")\n",
    "    return array\n",
    "\n",
    "\n",
    "# Define the category10 colors manually\n",
    "category10_colors = [\n",
    "    \"#4E79A5\",\n",
    "    \"#F18F3B\",\n",
    "    \"#E0585B\",\n",
    "    \"#77B7B2\",\n",
    "    \"#5AA155\",\n",
    "    \"#EDC958\",\n",
    "    \"#AF7AA0\",\n",
    "    \"#FE9EA8\",\n",
    "    \"#9C7561\",\n",
    "    \"#BAB0AC\",\n",
    "]\n",
    "\n",
    "# Adjust colors based on the unique mutations\n",
    "colors = [\"black\"] + category10_colors[: len(merged[\"mutation\"].unique()) - 1]\n",
    "\n",
    "# Create the Altair chart\n",
    "corr_chart = (\n",
    "    alt.Chart(merged, title=alt.Title(\"CHO-EFNB2\", anchor=\"middle\"))\n",
    "    .encode(\n",
    "        x=alt.X(\n",
    "            \"effect_E2:Q\",\n",
    "            title=\"DMS entry score\",\n",
    "            scale=alt.Scale(domain=[-4, 1]),\n",
    "            axis=alt.Axis(values=[-4, -3, -2, -1, 0, 1], tickCount=6),\n",
    "        ),\n",
    "        y=alt.Y(\n",
    "            \"mean_luciferase_E2\",\n",
    "            title=\"RLU/μL\",\n",
    "            scale=alt.Scale(type=\"log\", base=10),\n",
    "            axis=alt.Axis(\n",
    "                format=\".0e\", grid=True, tickCount=4\n",
    "            ),  # Display in scientific notation\n",
    "        ),\n",
    "        color=alt.Color(\n",
    "            \"mutation\",\n",
    "            title=\"Mutant\",\n",
    "            scale=alt.Scale(\n",
    "                domain=custom_sort_order(merged[\"mutation\"].unique()), range=colors\n",
    "            ),\n",
    "        ),\n",
    "        tooltip=[\"mutation\", \"effect_E2\", \"mean_luciferase_E2\"],\n",
    "    )\n",
    "    .mark_point(size=90)\n",
    ")\n",
    "\n",
    "min_effect_E2 = int(merged[\"effect_E2\"].min())\n",
    "max_mean_luciferase_E2 = int(merged[\"mean_luciferase_E2\"].max())\n",
    "\n",
    "text = (\n",
    "    alt.Chart(\n",
    "        {\n",
    "            \"values\": [\n",
    "                {\n",
    "                    \"x\": min_effect_E2,\n",
    "                    \"y\": max_mean_luciferase_E2,\n",
    "                    \"text\": f\"r = {r_value:.2f}\",\n",
    "                }\n",
    "            ]\n",
    "        }\n",
    "    )\n",
    "    .mark_text(\n",
    "        align=\"left\",\n",
    "        baseline=\"top\",\n",
    "        dx=-30,  # Adjust this for position\n",
    "        dy=-10,  # Adjust this for position\n",
    "    )\n",
    "    .encode(x=alt.X(\"x:Q\"), y=alt.Y(\"y:Q\"), text=\"text:N\")\n",
    ")\n",
    "# text\n",
    "final_chart = corr_chart + text\n",
    "\n",
    "\n",
    "func_score_E2_chart = final_chart\n",
    "func_score_E2_chart.display()\n",
    "if corr_plots_combined is not None:\n",
    "    func_score_E2_chart.save(func_score_E2_plot)"
   ]
  },
  {
   "cell_type": "markdown",
   "id": "0f108f6d-c962-498e-a19c-117d49374224",
   "metadata": {},
   "source": [
    "### CHO-EFNB3 entry correlations plot"
   ]
  },
  {
   "cell_type": "code",
   "execution_count": null,
   "id": "6e00f6a8-086f-4b79-b4cf-80505f392cad",
   "metadata": {
    "editable": true,
    "slideshow": {
     "slide_type": ""
    },
    "tags": []
   },
   "outputs": [],
   "source": [
    "# calculate R value:\n",
    "slope, intercept, r_value, p_value, std_err = scipy.stats.linregress(\n",
    "    merged[\"effect_E3\"], merged[\"mean_luciferase_E3\"]\n",
    ")\n",
    "r_value = float(r_value)\n",
    "\n",
    "\n",
    "# Sorting function to put 'WT' on top of the legend, followed by numerical order\n",
    "def custom_sort_order(array):\n",
    "    # Sort based on the numerical part in mutation strings, e.g., '530' in 'Q530F'\n",
    "    def extract_number(mutation):\n",
    "        num = re.search(r\"\\d+\", mutation)\n",
    "        return int(num.group()) if num else 0\n",
    "\n",
    "    array = sorted(array, key=extract_number)\n",
    "\n",
    "    # Move 'WT' to the beginning of the list\n",
    "    if \"WT\" in array:\n",
    "        array.remove(\"WT\")\n",
    "        array.insert(0, \"WT\")\n",
    "    return array\n",
    "\n",
    "\n",
    "# Define the category10 colors manually\n",
    "category10_colors = [\n",
    "    \"#4E79A5\",\n",
    "    \"#F18F3B\",\n",
    "    \"#E0585B\",\n",
    "    \"#77B7B2\",\n",
    "    \"#5AA155\",\n",
    "    \"#EDC958\",\n",
    "    \"#AF7AA0\",\n",
    "    \"#FE9EA8\",\n",
    "    \"#9C7561\",\n",
    "    \"#BAB0AC\",\n",
    "]\n",
    "\n",
    "# Adjust colors based on the unique mutations\n",
    "colors = [\"black\"] + category10_colors[: len(merged[\"mutation\"].unique()) - 1]\n",
    "\n",
    "# Create the Altair chart\n",
    "corr_chart = (\n",
    "    alt.Chart(merged, title=alt.Title(\"CHO-EFNB3\", anchor=\"middle\"))\n",
    "    .encode(\n",
    "        x=alt.X(\n",
    "            \"effect_E3:Q\",\n",
    "            title=\"DMS entry score\",\n",
    "            scale=alt.Scale(domain=[-4, 1]),\n",
    "            axis=alt.Axis(values=[-4, -3, -2, -1, 0, 1], tickCount=6),\n",
    "        ),\n",
    "        y=alt.Y(\n",
    "            \"mean_luciferase_E3\",\n",
    "            title=\"RLU/μL\",\n",
    "            scale=alt.Scale(type=\"log\", base=10),\n",
    "            axis=alt.Axis(\n",
    "                format=\".0e\", grid=True, tickCount=4\n",
    "            ),  # Display in scientific notation\n",
    "        ),\n",
    "        color=alt.Color(\n",
    "            \"mutation\",\n",
    "            title=\"Mutant\",\n",
    "            scale=alt.Scale(\n",
    "                domain=custom_sort_order(merged[\"mutation\"].unique()), range=colors\n",
    "            ),\n",
    "        ),\n",
    "        tooltip=[\"mutation\", \"effect_E3\", \"mean_luciferase_E3\"],\n",
    "    )\n",
    "    .mark_point(size=90)\n",
    ")\n",
    "\n",
    "min_effect_E3 = int(merged[\"effect_E3\"].min())\n",
    "max_mean_luciferase_E3 = int(merged[\"mean_luciferase_E3\"].max())\n",
    "\n",
    "text = (\n",
    "    alt.Chart(\n",
    "        {\n",
    "            \"values\": [\n",
    "                {\n",
    "                    \"x\": min_effect_E3,\n",
    "                    \"y\": max_mean_luciferase_E3,\n",
    "                    \"text\": f\"r = {r_value:.2f}\",\n",
    "                }\n",
    "            ]\n",
    "        }\n",
    "    )\n",
    "    .mark_text(\n",
    "        align=\"left\",\n",
    "        baseline=\"top\",\n",
    "        dx=-30,  # Adjust this for position\n",
    "        dy=-10,  # Adjust this for position\n",
    "    )\n",
    "    .encode(x=alt.X(\"x:Q\"), y=alt.Y(\"y:Q\"), text=\"text:N\")\n",
    ")\n",
    "# text\n",
    "final_chart = corr_chart + text\n",
    "\n",
    "func_score_E3_chart = final_chart\n",
    "func_score_E3_chart.display()\n",
    "if corr_plots_combined is not None:\n",
    "    func_score_E3_chart.save(func_score_E3_plot)"
   ]
  },
  {
   "cell_type": "code",
   "execution_count": null,
   "id": "223577cb-8b9b-4924-9efa-fe063938868a",
   "metadata": {},
   "outputs": [],
   "source": [
    "# Combine the plots\n",
    "if corr_plots_combined is not None:\n",
    "    (func_score_E2_chart | func_score_E3_chart).save(corr_plots_combined)"
   ]
  },
  {
   "cell_type": "markdown",
   "id": "0675a100-8a6b-4dd9-ad1a-d25787fc05e9",
   "metadata": {
    "editable": true,
    "slideshow": {
     "slide_type": ""
    },
    "tags": []
   },
   "source": [
    "### Now calculate entry of each mutant relative to WT"
   ]
  },
  {
   "cell_type": "code",
   "execution_count": null,
   "id": "78e0025e-959e-4499-8661-9c1cca8c6b96",
   "metadata": {
    "editable": true,
    "slideshow": {
     "slide_type": ""
    },
    "tags": []
   },
   "outputs": [],
   "source": [
    "mean_luc_E2 = (\n",
    "    merged.query('mutation == \"Unmutated\"').groupby(\"mutation\")[\"mean_luciferase_E2\"].mean()\n",
    ")\n",
    "mean_luc_E3 = (\n",
    "    merged.query('mutation == \"Unmutated\"').groupby(\"mutation\")[\"mean_luciferase_E3\"].mean()\n",
    ")\n",
    "merged[\"E2_relative\"] = merged[\"mean_luciferase_E2\"] / mean_luc_E2[0]\n",
    "merged[\"E3_relative\"] = merged[\"mean_luciferase_E3\"] / mean_luc_E3[0]\n",
    "\n",
    "merged_wt_drop = merged[merged[\"mutation\"] != \"Unmutated\"]"
   ]
  },
  {
   "cell_type": "code",
   "execution_count": null,
   "id": "6871a4ed-dad2-40e8-b13f-c75baeaef5c9",
   "metadata": {
    "editable": true,
    "slideshow": {
     "slide_type": ""
    },
    "tags": []
   },
   "outputs": [],
   "source": [
    "def plot_functional_validations(df):\n",
    "    df_melted = df.melt(\n",
    "        id_vars=\"mutation\",\n",
    "        value_vars=[\"E2_relative\", \"E3_relative\"],\n",
    "        var_name=\"type\",\n",
    "        value_name=\"effect\",\n",
    "    )\n",
    "    chart = (\n",
    "        alt.Chart(df_melted)\n",
    "        .mark_circle(size=75)\n",
    "        .encode(\n",
    "            x=alt.X(\n",
    "                \"type:N\",\n",
    "                title=None,\n",
    "                axis=alt.Axis(labels=False, ticks=False, domain=True),\n",
    "            ),\n",
    "            y=alt.Y(\n",
    "                \"effect\",\n",
    "                title=\"Cell Entry of RBP Mutants Relative to WT\",\n",
    "                scale=alt.Scale(type=\"log\", base=10),\n",
    "                axis=alt.Axis(grid=True, tickCount=6),\n",
    "            ),  # Display in scientific notation\n",
    "            color=alt.Color(\"type\", title=\"Receptor\"),\n",
    "            column=alt.Column(\n",
    "                \"mutation:N\",\n",
    "                title=None,\n",
    "                header=alt.Header(\n",
    "                    labelFontSize=16, labelFont=\"Helvetica Light\", labelOrient=\"bottom\"\n",
    "                ),\n",
    "            ),\n",
    "        )\n",
    "        .properties(height=100, width=100)\n",
    "    )\n",
    "\n",
    "    return chart.display()\n",
    "\n",
    "\n",
    "plot_functional_validations(merged_wt_drop)"
   ]
  },
  {
   "cell_type": "code",
   "execution_count": null,
   "id": "48c704e8-2d34-4593-8884-9ed84e8c6c0e",
   "metadata": {},
   "outputs": [],
   "source": []
  }
 ],
 "metadata": {
  "kernelspec": {
   "display_name": "Python 3 (ipykernel)",
   "language": "python",
   "name": "python3"
  },
  "language_info": {
   "codemirror_mode": {
    "name": "ipython",
    "version": 3
   },
   "file_extension": ".py",
   "mimetype": "text/x-python",
   "name": "python",
   "nbconvert_exporter": "python",
   "pygments_lexer": "ipython3",
   "version": "3.11.7"
  }
 },
 "nbformat": 4,
 "nbformat_minor": 5
}
