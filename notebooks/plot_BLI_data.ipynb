{
 "cells": [
  {
   "cell_type": "markdown",
   "id": "3e899f79-0f63-4b47-87ca-1b744bf88afe",
   "metadata": {
    "editable": true,
    "slideshow": {
     "slide_type": ""
    },
    "tags": []
   },
   "source": [
    "# plot_BLI_data.ipynb\n",
    "Analyzes correlation between BLI binding measurements and DMS\n",
    "\n",
    "- Written by Brendan Larsen"
   ]
  },
  {
   "cell_type": "code",
   "execution_count": null,
   "id": "de27506f-3e19-45e1-ad09-e9ca842271cd",
   "metadata": {
    "editable": true,
    "slideshow": {
     "slide_type": ""
    },
    "tags": [
     "parameters"
    ]
   },
   "outputs": [],
   "source": [
    "# this cell is tagged as parameters for `papermill` parameterization\n",
    "altair_config = None\n",
    "BLI_corr_plot = None\n",
    "\n",
    "binding_E2_file = None\n",
    "binding_E3_file = None"
   ]
  },
  {
   "cell_type": "code",
   "execution_count": null,
   "id": "71b71ea3-b3a6-4825-8344-22d84eb26dbe",
   "metadata": {
    "editable": true,
    "slideshow": {
     "slide_type": ""
    },
    "tags": []
   },
   "outputs": [],
   "source": [
    "import math\n",
    "import os\n",
    "import re\n",
    "import altair as alt\n",
    "import numpy as np\n",
    "import pandas as pd\n",
    "import scipy.stats\n",
    "import yaml"
   ]
  },
  {
   "cell_type": "code",
   "execution_count": null,
   "id": "3ef9418e-4f61-4794-b135-48e40185400a",
   "metadata": {},
   "outputs": [],
   "source": [
    "# allow more rows for Altair\n",
    "_ = alt.data_transformers.disable_max_rows()\n",
    "\n",
    "if (\n",
    "    os.getcwd()\n",
    "    == \"/fh/fast/bloom_j/computational_notebooks/blarsen/2023/Nipah_Malaysia_RBP_DMS/\"\n",
    "):\n",
    "    pass\n",
    "    print(\"Already in correct directory\")\n",
    "else:\n",
    "    os.chdir(\n",
    "        \"/fh/fast/bloom_j/computational_notebooks/blarsen/2023/Nipah_Malaysia_RBP_DMS/\"\n",
    "    )\n",
    "    print(\"Setup in correct directory\")"
   ]
  },
  {
   "cell_type": "code",
   "execution_count": null,
   "id": "118f7b4c-6c80-4e86-8eb9-a4698f2cba78",
   "metadata": {
    "editable": true,
    "slideshow": {
     "slide_type": ""
    },
    "tags": []
   },
   "outputs": [],
   "source": [
    "##hard paths in case don't want to run with snakemake\n",
    "if BLI_corr_plot is None:\n",
    "    print(\"loading hard paths\")\n",
    "    altair_config = \"data/custom_analyses_data/theme.py\"\n",
    "    nipah_config = \"nipah_config.yaml\"\n",
    "    \n",
    "    # input files\n",
    "    binding_E2_file = \"results/filtered_data/binding/e2_binding_filtered.csv\"\n",
    "    binding_E3_file = \"results/filtered_data/binding/e3_binding_filtered.csv\""
   ]
  },
  {
   "cell_type": "code",
   "execution_count": null,
   "id": "df555b6d-a674-4435-9de6-40691671c645",
   "metadata": {
    "editable": true,
    "slideshow": {
     "slide_type": ""
    },
    "tags": []
   },
   "outputs": [],
   "source": [
    "if altair_config:\n",
    "    with open(altair_config, \"r\") as file:\n",
    "        exec(file.read())\n",
    "\n",
    "#with open(nipah_config) as f:\n",
    "#    config = yaml.safe_load(f)"
   ]
  },
  {
   "cell_type": "code",
   "execution_count": null,
   "id": "6f550e64-f2b8-4f6e-8282-fa4c2c81f58d",
   "metadata": {},
   "outputs": [],
   "source": [
    "# import binding data\n",
    "df_E2_filter = pd.read_csv(binding_E2_file)\n",
    "display(df_E2_filter.head(3))\n",
    "df_E3_filter = pd.read_csv(binding_E3_file)\n",
    "display(df_E3_filter.head(3))"
   ]
  },
  {
   "cell_type": "code",
   "execution_count": null,
   "id": "8756a295-0211-4b02-9441-d8930750f1ed",
   "metadata": {},
   "outputs": [],
   "source": [
    "### load BLI data and merge with binding from DMS\n",
    "BLI_df = pd.read_csv('data/custom_analyses_data/experimental_data/BLI_data.csv')\n",
    "\n",
    "#merge\n",
    "BLI_w_E2 = pd.merge(BLI_df,df_E2_filter[['site','wildtype','mutant','binding_mean']],on=['site','mutant'],how='left')\n",
    "df = pd.merge(BLI_w_E2,df_E3_filter[['site','wildtype','mutant','binding_mean']],on=['site','mutant','wildtype'],how='left',suffixes=['_E2','_E3'])\n",
    "\n",
    "#Make mutation column\n",
    "df['mutation'] = (df['wildtype'].astype(str) + df['site'].astype(str) + df['mutant'].astype(str)).astype(object)\n",
    "df.drop(['site','mutant','wildtype'],axis=1,inplace=True)\n",
    "\n",
    "#Add unmutated information\n",
    "new_row = {'B2_1': 0, 'B2_2': 0, 'B3_1': 0, 'B3_2': 0, 'binding_mean_E2': 0, 'binding_mean_E3': 0, 'mutation': 'Unmutated'}\n",
    "new_df = pd.DataFrame([new_row])\n",
    "\n",
    "#combine\n",
    "df = pd.concat([df,new_df])\n",
    "display(df)"
   ]
  },
  {
   "cell_type": "code",
   "execution_count": null,
   "id": "4dad9380-1189-4f0a-8d16-86a309c8a651",
   "metadata": {},
   "outputs": [],
   "source": [
    "df['B2_mean'] = df[['B2_1', 'B2_2']].mean(axis=1)\n",
    "df['B3_mean'] = df[['B3_1', 'B3_2']].mean(axis=1)\n",
    "df['B2_std'] = df[['B2_1','B2_2']].std(axis=1)\n",
    "df['B3_std'] = df[['B3_1','B3_2']].std(axis=1)\n",
    "df['B2_upper'] = df['B2_mean'] + df['B2_std']\n",
    "df['B2_lower'] = df['B2_mean'] - df['B2_std']\n",
    "df['B3_upper'] = df['B3_mean'] + df['B3_std']\n",
    "df['B3_lower'] = df['B3_mean'] - df['B3_std']\n",
    "\n",
    "display(df)"
   ]
  },
  {
   "cell_type": "code",
   "execution_count": null,
   "id": "a6bac1a2-2334-4f13-877c-88da6963ba51",
   "metadata": {},
   "outputs": [],
   "source": [
    "##### calculate R value:\n",
    "slope, intercept, r_value, p_value, std_err = scipy.stats.linregress(\n",
    "    df[\"B2_mean\"], df[\"binding_mean_E2\"]\n",
    ")\n",
    "r_value_E2 = float(r_value)\n",
    "print(r_value_E2)\n",
    "\n",
    "slope, intercept, r_value, p_value, std_err = scipy.stats.linregress(\n",
    "    df[\"B3_mean\"], df[\"binding_mean_E3\"]\n",
    ")\n",
    "r_value_E3 = float(r_value)\n",
    "print(r_value_E3)"
   ]
  },
  {
   "cell_type": "code",
   "execution_count": null,
   "id": "74b621d0-9d49-4b19-abb9-c431c4d62d32",
   "metadata": {},
   "outputs": [],
   "source": [
    "# Sorting function to put 'WT' on top of the legend, followed by numerical order\n",
    "def custom_sort_order(array):\n",
    "    # Sort based on the numerical part in mutation strings, e.g., '530' in 'Q530F'\n",
    "    def extract_number(mutation):\n",
    "        num = re.search(r\"\\d+\", mutation)\n",
    "        return int(num.group()) if num else 0\n",
    "\n",
    "    array = sorted(array, key=extract_number)\n",
    "\n",
    "    # Move 'WT' to the beginning of the list\n",
    "    if \"Unmutated\" in array:\n",
    "        array.remove(\"Unmutated\")\n",
    "        array.insert(0, \"Unmutated\")\n",
    "    return array\n",
    "\n",
    "\n",
    "# Define the category10 colors manually\n",
    "category10_colors = [\"#4e79a7\",\"#f28e2c\",\"#e15759\",\"#76b7b2\",\"#59a14f\",\"#edc949\",\"#af7aa1\",\"#ff9da7\",\"#9c755f\",\"#bab0ab\"]\n",
    "\n",
    "# Adjust colors based on the unique mutations\n",
    "colors = [\"black\"] + category10_colors[: len(df[\"mutation\"].unique()) - 1]\n",
    "\n",
    "# Create the Altair chart\n",
    "corr_chart = alt.Chart(df, title=alt.Title(\"bEFNB2\")).mark_point(size=125,filled=True,opacity=1).encode(\n",
    "        x=alt.X(\n",
    "            \"binding_mean_E2:Q\",\n",
    "            title=\"DMS Binding\",\n",
    "            #scale=alt.Scale(domain=[-4, 2]),\n",
    "            axis=alt.Axis(tickCount=3),\n",
    "        ),\n",
    "        y=alt.Y(\n",
    "            \"B2_mean\",\n",
    "            title=\"Binding (% change AUC)\",\n",
    "            #scale=alt.Scale(type=\"log\", base=10),\n",
    "            axis=alt.Axis(tickCount=4),\n",
    "            #    format=\".0e\", tickCount=4\n",
    "            #),  # Display in scientific notation\n",
    "        ),\n",
    "        color=alt.Color(\n",
    "            \"mutation\",\n",
    "            title=\"Variant\",\n",
    "            scale=alt.Scale(\n",
    "                domain=custom_sort_order(df[\"mutation\"].unique()), range=colors\n",
    "            ),\n",
    "        ),\n",
    ")\n",
    "\n",
    "min_effect_E2 = int(df[\"binding_mean_E2\"].min())\n",
    "max_mean_luciferase_E2 = int(df[\"B2_mean\"].max())\n",
    "\n",
    "text = (\n",
    "    alt.Chart(\n",
    "        {\n",
    "            \"values\": [\n",
    "                {\n",
    "                    \"x\": min_effect_E2,\n",
    "                    \"y\": max_mean_luciferase_E2,\n",
    "                    \"text\": f\"r = {r_value_E2:.2f}\",\n",
    "                }\n",
    "            ]\n",
    "        }\n",
    "    )\n",
    "    .mark_text(\n",
    "        align=\"left\",\n",
    "        baseline=\"top\",\n",
    "        dx=-10,  # Adjust this for position\n",
    "        dy=-20,  # Adjust this for position\n",
    "        \n",
    "    )\n",
    "    .encode(x=alt.X(\"x:Q\"), y=alt.Y(\"y:Q\"), text=\"text:N\")\n",
    ")\n",
    "error = (\n",
    "        alt.Chart(df)\n",
    "        .mark_errorbar(opacity=1)\n",
    "        .encode(\n",
    "            x=\"binding_mean_E2\",\n",
    "            y=alt.Y(\"B2_lower\",title='Binding (% change AUC)'),\n",
    "            y2=\"B2_upper\",\n",
    "            color=\"mutation\",\n",
    "        )\n",
    ")\n",
    "# text\n",
    "final_chart_E2 = corr_chart  + error + text\n",
    "final_chart = final_chart_E2.properties(height=200,width=200)\n",
    "final_chart\n",
    "\n",
    "\n"
   ]
  },
  {
   "cell_type": "code",
   "execution_count": null,
   "id": "6a99ed29-40da-4618-ab16-5dc162a092a3",
   "metadata": {},
   "outputs": [],
   "source": [
    "# Create the Altair chart\n",
    "corr_chart_E3 = alt.Chart(df, title=alt.Title(\"bEFNB3\")).mark_point(size=125,filled=True,opacity=1).encode(\n",
    "        x=alt.X(\n",
    "            \"binding_mean_E3:Q\",\n",
    "            title=\"DMS Binding\",\n",
    "            scale=alt.Scale(domain=[-1, 1.5]),\n",
    "            axis=alt.Axis(tickCount=3),\n",
    "        ),\n",
    "        y=alt.Y(\n",
    "            \"B3_mean\",\n",
    "            title=\"Binding (% max response)\",\n",
    "            #scale=alt.Scale(type=\"log\", base=10),\n",
    "            axis=alt.Axis(tickCount=4),\n",
    "            #    format=\".0e\", tickCount=4\n",
    "            #),  # Display in scientific notation\n",
    "        ),\n",
    "        color=alt.Color(\n",
    "            \"mutation\",\n",
    "            title=\"Variant\",\n",
    "            scale=alt.Scale(\n",
    "                domain=custom_sort_order(df[\"mutation\"].unique()), range=colors\n",
    "            ),\n",
    "        ),\n",
    ")\n",
    "min_effect_E2 = int(df[\"binding_mean_E3\"].min())\n",
    "max_mean_luciferase_E2 = int(df[\"B3_mean\"].max())\n",
    "\n",
    "text_E3 = (\n",
    "    alt.Chart(\n",
    "        {\n",
    "            \"values\": [\n",
    "                {\n",
    "                    \"x\": min_effect_E2,\n",
    "                    \"y\": max_mean_luciferase_E2,\n",
    "                    \"text\": f\"r = {r_value_E3:.2f}\",\n",
    "                }\n",
    "            ]\n",
    "        }\n",
    "    )\n",
    "    .mark_text(\n",
    "        align=\"left\",\n",
    "        baseline=\"top\",\n",
    "        dx=-70,  # Adjust this for position\n",
    "        dy=-30,  # Adjust this for position\n",
    "        \n",
    "    )\n",
    "    .encode(x=alt.X(\"x:Q\"), y=alt.Y(\"y:Q\"), text=\"text:N\")\n",
    ")\n",
    "\n",
    "error = (\n",
    "        alt.Chart(df)\n",
    "        .mark_errorbar(opacity=1)\n",
    "        .encode(\n",
    "            x=\"binding_mean_E3\",\n",
    "            y=alt.Y(\"B3_lower\", title=\"Binding (% max response)\"),\n",
    "            y2=\"B3_upper\",\n",
    "            color=\"mutation\",\n",
    "        )\n",
    ")\n",
    "# text\n",
    "final_chart_E3 = corr_chart_E3  + error + text_E3\n",
    "final_chart_E3 = final_chart_E3.properties(height=200,width=200)\n",
    "final_chart_E3"
   ]
  },
  {
   "cell_type": "code",
   "execution_count": null,
   "id": "5923cf90-f207-4511-b1e9-dd4fa95dcc61",
   "metadata": {},
   "outputs": [],
   "source": [
    "combined = alt.hconcat(final_chart_E2, final_chart_E3)\n",
    "combined.display()\n",
    "combined.save(BLI_corr_plot)"
   ]
  },
  {
   "cell_type": "code",
   "execution_count": null,
   "id": "37b55ca6-fea0-43c6-b0b7-4a26a3cb020e",
   "metadata": {},
   "outputs": [],
   "source": []
  }
 ],
 "metadata": {
  "kernelspec": {
   "display_name": "Python 3 (ipykernel)",
   "language": "python",
   "name": "python3"
  },
  "language_info": {
   "codemirror_mode": {
    "name": "ipython",
    "version": 3
   },
   "file_extension": ".py",
   "mimetype": "text/x-python",
   "name": "python",
   "nbconvert_exporter": "python",
   "pygments_lexer": "ipython3",
   "version": "3.11.8"
  }
 },
 "nbformat": 4,
 "nbformat_minor": 5
}
