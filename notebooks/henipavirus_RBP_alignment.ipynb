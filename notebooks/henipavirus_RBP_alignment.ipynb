{
 "cells": [
  {
   "cell_type": "markdown",
   "id": "9f449f73",
   "metadata": {
    "editable": true,
    "slideshow": {
     "slide_type": ""
    },
    "tags": []
   },
   "source": [
    "# henipavirus_RBP_alignment.ipynb\n",
    "This script imports canonical henipavirus RBPs amino acid sequences, aligns them, changes text in name, then makes similarity plot of alignment from biotite package"
   ]
  },
  {
   "cell_type": "code",
   "execution_count": null,
   "id": "2b132782-23c8-4bed-8a69-db1aaffd44f4",
   "metadata": {
    "editable": true,
    "slideshow": {
     "slide_type": ""
    },
    "tags": [
     "parameters"
    ]
   },
   "outputs": [],
   "source": [
    "# this cell is tagged as parameters for `papermill` parameterization\n",
    "fasta_input_file = None\n",
    "henipavirus_alignment = None"
   ]
  },
  {
   "cell_type": "code",
   "execution_count": null,
   "id": "aae808a6",
   "metadata": {
    "editable": true,
    "slideshow": {
     "slide_type": ""
    },
    "tags": []
   },
   "outputs": [],
   "source": [
    "import matplotlib.pyplot as plt\n",
    "from Bio import Entrez\n",
    "from Bio import SeqIO\n",
    "from Bio import AlignIO\n",
    "from io import StringIO\n",
    "import os\n",
    "import re\n",
    "\n",
    "import biotite.sequence as seq\n",
    "import biotite.sequence.align as align\n",
    "import biotite.sequence.io.fasta as fasta\n",
    "import biotite.database.entrez as entrez\n",
    "import biotite.sequence.graphics as graphics\n",
    "import biotite.application.mafft as mafft"
   ]
  },
  {
   "cell_type": "code",
   "execution_count": null,
   "id": "7a6c2364-634a-4943-b24c-5d45c46bebcd",
   "metadata": {
    "editable": true,
    "slideshow": {
     "slide_type": ""
    },
    "tags": []
   },
   "outputs": [],
   "source": [
    "if os.getcwd() == '/fh/fast/bloom_j/computational_notebooks/blarsen/2023/Nipah_Malaysia_RBP_DMS/':\n",
    "    pass\n",
    "    print(\"Already in correct directory\")\n",
    "else:\n",
    "    os.chdir(\"/fh/fast/bloom_j/computational_notebooks/blarsen/2023/Nipah_Malaysia_RBP_DMS/\")\n",
    "    print(\"Setup in correct directory\")"
   ]
  },
  {
   "cell_type": "code",
   "execution_count": null,
   "id": "614221be-b028-47fb-bb85-4155397c27b3",
   "metadata": {
    "editable": true,
    "slideshow": {
     "slide_type": ""
    },
    "tags": []
   },
   "outputs": [],
   "source": [
    "#fasta_input_file = \"results/alignments/temp_sequences.fasta\"\n",
    "#henipavirus_alignment = \"results/images/henipavirus_RBP_alignment.png\""
   ]
  },
  {
   "cell_type": "code",
   "execution_count": null,
   "id": "76c3f93d-bfdc-4835-aea5-dc03bae66fa8",
   "metadata": {
    "editable": true,
    "slideshow": {
     "slide_type": ""
    },
    "tags": []
   },
   "outputs": [],
   "source": [
    "def modify_sequence_names(input_file, output_file, name_mapping):\n",
    "    # Read sequences from the input file\n",
    "    sequences = list(SeqIO.parse(input_file, \"fasta\"))\n",
    "\n",
    "    # Modify each sequence name based on partial matches in the dictionary\n",
    "    for seq_record in sequences:\n",
    "        for partial_name, new_name in name_mapping.items():\n",
    "            if re.search(partial_name, seq_record.id):\n",
    "                seq_record.id = new_name\n",
    "                seq_record.description = new_name  # Update description as well\n",
    "                break  # Exit the loop once a match is found\n",
    "\n",
    "    # Write modified sequences to the output file\n",
    "    SeqIO.write(sequences, output_file, \"fasta\")\n",
    "\n",
    "# Define the mapping dictionary\n",
    "name_mapping = {\n",
    "    'NP_112027.1': 'Nipah-M',\n",
    "    'QDJ04463.1': 'Nipah_Cambodia',\n",
    "    'QKV44014.1': 'Nipah_India',\n",
    "    'NP_047112.2': 'Hendra',\n",
    "    'UCY33670.1': 'Hendra_G2',    \n",
    "\n",
    "    'YP_009094086.1': 'Cedar',\n",
    "    'AJP33320.1': 'Cedar2',\n",
    "    'AFH96011.1': 'Ghana',\n",
    "}\n",
    "# Usage\n",
    "input_fasta = fasta_input_file  # Replace with your FASTA file path\n",
    "output_fasta = \"results/alignments/output.fasta\"  # Replace with your desired output path\n",
    "modify_sequence_names(input_fasta, output_fasta, name_mapping)\n",
    "\n",
    "def reorder_sequences(input_file, output_file, order_list):\n",
    "    # Read sequences into a dictionary\n",
    "    sequences = {record.id: record for record in SeqIO.parse(input_file, \"fasta\")}\n",
    "\n",
    "    # Reorder sequences based on the order list\n",
    "    reordered_sequences = [sequences[seq_id] for seq_id in order_list if seq_id in sequences]\n",
    "\n",
    "    # Write reordered sequences to the output file\n",
    "    SeqIO.write(reordered_sequences, output_file, \"fasta\")\n",
    "\n",
    "# Define the order list\n",
    "order_list = [\n",
    "    'Nipah-M',\n",
    "    'Nipah_Cambodia',\n",
    "    'Nipah_India',\n",
    "    'Hendra',\n",
    "    'Hendra_G2',  \n",
    "    'Cedar',\n",
    "    'Cedar2',\n",
    "    'Ghana',\n",
    "]\n",
    "\n",
    "input_fasta = \"results/alignments/output.fasta\"  # Replace with your FASTA file path\n",
    "output_fasta = \"results/alignments/reordered.fasta\"  # Replace with your desired output path\n",
    "reorder_sequences(input_fasta, output_fasta, order_list)"
   ]
  },
  {
   "cell_type": "code",
   "execution_count": null,
   "id": "7d18d491",
   "metadata": {
    "editable": true,
    "slideshow": {
     "slide_type": ""
    },
    "tags": []
   },
   "outputs": [],
   "source": [
    "fasta_file = fasta.FastaFile.read('results/alignments/reordered.fasta')\n",
    "\n",
    "ids = []\n",
    "sequences = []\n",
    "\n",
    "for header, seq_str in fasta_file.items():\n",
    "    ids.append(header)\n",
    "    sequences.append(seq.ProteinSequence(seq_str))\n",
    "\n",
    "matrix = align.SubstitutionMatrix.std_protein_matrix()\n",
    "alignment, order, tree, distances = align.align_multiple(\n",
    "    sequences, matrix, gap_penalty=(-10,-1))"
   ]
  },
  {
   "cell_type": "code",
   "execution_count": null,
   "id": "8759c724",
   "metadata": {
    "editable": true,
    "slideshow": {
     "slide_type": ""
    },
    "tags": []
   },
   "outputs": [],
   "source": [
    "fig = plt.figure(figsize=(15, 10))\n",
    "ax = fig.add_subplot(111)\n",
    "graphics.plot_alignment_similarity_based(\n",
    "    ax, alignment, matrix=matrix, labels=ids,\n",
    "    show_numbers=True, show_line_position=False, symbols_per_line=100,color=\"blue\",spacing=3\n",
    ")\n",
    "fig.tight_layout()\n",
    "plt.savefig(henipavirus_alignment,dpi=300)\n",
    "plt.show()"
   ]
  },
  {
   "cell_type": "code",
   "execution_count": null,
   "id": "8d65fffc-ac22-41f8-bab5-aebcd54881f1",
   "metadata": {},
   "outputs": [],
   "source": []
  }
 ],
 "metadata": {
  "kernelspec": {
   "display_name": "Python 3 (ipykernel)",
   "language": "python",
   "name": "python3"
  },
  "language_info": {
   "codemirror_mode": {
    "name": "ipython",
    "version": 3
   },
   "file_extension": ".py",
   "mimetype": "text/x-python",
   "name": "python",
   "nbconvert_exporter": "python",
   "pygments_lexer": "ipython3",
   "version": "3.11.8"
  }
 },
 "nbformat": 4,
 "nbformat_minor": 5
}
