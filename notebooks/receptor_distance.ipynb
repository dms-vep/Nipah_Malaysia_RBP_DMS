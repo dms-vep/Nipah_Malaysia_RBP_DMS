{
 "cells": [
  {
   "cell_type": "markdown",
   "id": "a5b23694-d323-489e-89a8-769d60a9feda",
   "metadata": {
    "editable": true,
    "slideshow": {
     "slide_type": ""
    },
    "tags": []
   },
   "source": [
    "## Find distances of each RBP residue to either Ephrin-B2 or -B3, and find contact sites"
   ]
  },
  {
   "cell_type": "code",
   "execution_count": null,
   "id": "47b4f322-9291-4677-bc3d-a5502014eab8",
   "metadata": {
    "editable": true,
    "slideshow": {
     "slide_type": ""
    },
    "tags": [
     "parameters"
    ]
   },
   "outputs": [],
   "source": [
    "# this cell is tagged as parameters for `papermill` parameterization\n",
    "e2_pdb = None\n",
    "e3_pdb = None\n",
    "rbp_pdb = None\n",
    "\n",
    "ephrin_b2_close_residues = None\n",
    "ephrin_b3_close_residues = None\n",
    "\n",
    "ephrin_b2_distance = None\n",
    "ephrin_b3_distance = None\n",
    "dimerization_distance = None"
   ]
  },
  {
   "cell_type": "code",
   "execution_count": null,
   "id": "f83e70ff-0049-4b6b-a852-bc4d9034333b",
   "metadata": {
    "editable": true,
    "slideshow": {
     "slide_type": ""
    },
    "tags": []
   },
   "outputs": [],
   "source": [
    "import math\n",
    "import os\n",
    "\n",
    "import altair as alt\n",
    "\n",
    "import numpy as np\n",
    "\n",
    "import pandas as pd\n",
    "\n",
    "import scipy.stats\n",
    "\n",
    "import Bio.SeqIO\n",
    "\n",
    "from Bio import AlignIO\n",
    "from Bio import PDB\n",
    "from Bio.Align import PairwiseAligner\n",
    "from Bio.PDB.DSSP import DSSP\n",
    "from Bio.PDB import PDBParser\n",
    "\n",
    "#pd.set_option('display.max_rows', None)"
   ]
  },
  {
   "cell_type": "code",
   "execution_count": null,
   "id": "402f8b06-af68-47b0-90ce-d3aeef00a455",
   "metadata": {
    "editable": true,
    "slideshow": {
     "slide_type": ""
    },
    "tags": []
   },
   "outputs": [],
   "source": [
    "# allow more rows for Altair\n",
    "_ = alt.data_transformers.disable_max_rows()\n",
    "\n",
    "if os.getcwd() == '/fh/fast/bloom_j/computational_notebooks/blarsen/2023/Nipah_Malaysia_RBP_DMS/':\n",
    "    pass\n",
    "    print(\"Already in correct directory\")\n",
    "else:\n",
    "    os.chdir(\"/fh/fast/bloom_j/computational_notebooks/blarsen/2023/Nipah_Malaysia_RBP_DMS/\")\n",
    "    print(\"Setup in correct directory\")"
   ]
  },
  {
   "cell_type": "code",
   "execution_count": null,
   "id": "d176b4a5-6eca-4744-ad85-7f1a91daf7a2",
   "metadata": {
    "editable": true,
    "slideshow": {
     "slide_type": ""
    },
    "tags": []
   },
   "outputs": [],
   "source": [
    "if ephrin_b2_close_residues is None:\n",
    "    e2_pdb = 'data/custom_analyses_data/crystal_structures/2vsm.pdb'\n",
    "    e3_pdb = 'data/custom_analyses_data/crystal_structures/3d12.pdb'\n",
    "    rbp_pdb = 'data/custom_analyses_data/crystal_structures/7txz.pdb'\n",
    "    \n",
    "    ephrin_b2_close_residues = 'results/distances/2vsm_close_residues.csv'\n",
    "    ephrin_b3_close_residues = 'results/distances/3d12_close_residues.csv'\n",
    "    \n",
    "    ephrin_b2_distance = 'results/distances/2vsm_distances.csv'\n",
    "    ephrin_b3_distance = 'results/distances/3d12_distances.csv'\n",
    "    dimerization_distance = 'results/distances/7txz_distances.csv'"
   ]
  },
  {
   "cell_type": "code",
   "execution_count": null,
   "id": "c74d96ce-b734-4036-bc04-ddd8913ff24b",
   "metadata": {
    "editable": true,
    "slideshow": {
     "slide_type": ""
    },
    "tags": []
   },
   "outputs": [],
   "source": [
    "#check whether output directory exists\n",
    "def create_directory(directory_path):\n",
    "    # Check if the directory exists\n",
    "    if not os.path.exists(directory_path):\n",
    "        # Create the directory\n",
    "        os.makedirs(directory_path)\n",
    "        print(f\"Directory '{directory_path}' created.\")\n",
    "    else:\n",
    "        print(f\"Directory '{directory_path}' already exists.\")\n",
    "\n",
    "# Example usage\n",
    "directory_path = 'results/distances/'\n",
    "create_directory(directory_path)"
   ]
  },
  {
   "cell_type": "markdown",
   "id": "254b5261-3b14-4478-8cfe-c69a0a96f50c",
   "metadata": {
    "editable": true,
    "slideshow": {
     "slide_type": ""
    },
    "tags": []
   },
   "source": [
    "## Calculate amino acid distances of RBP to Ephrins"
   ]
  },
  {
   "cell_type": "markdown",
   "id": "c7b96997-c71f-4125-96ce-56d6327d3a1b",
   "metadata": {
    "editable": true,
    "slideshow": {
     "slide_type": ""
    },
    "tags": []
   },
   "source": [
    "### First calculate how many receptor residues are within cutoff distance"
   ]
  },
  {
   "cell_type": "code",
   "execution_count": null,
   "id": "cd91ad35-f360-4520-9aa2-b011d9196089",
   "metadata": {
    "editable": true,
    "slideshow": {
     "slide_type": ""
    },
    "tags": []
   },
   "outputs": [],
   "source": [
    "cutoff_distance = 4"
   ]
  },
  {
   "cell_type": "code",
   "execution_count": null,
   "id": "7bdc9c69-8dd8-4703-b496-33335d1aa19d",
   "metadata": {
    "editable": true,
    "slideshow": {
     "slide_type": ""
    },
    "tags": []
   },
   "outputs": [],
   "source": [
    "def calculate_nearby_residues(pdb_path, source_chain_id, target_chain_ids, name, cutoff_distance):\n",
    "    # Initialize the PDB parser and load the structure\n",
    "    parser = PDB.PDBParser(QUIET=True)\n",
    "    structure = parser.get_structure('structure_id', pdb_path)\n",
    "\n",
    "    source_chain = structure[0][source_chain_id]\n",
    "    target_chains = [structure[0][chain_id] for chain_id in target_chain_ids]\n",
    "\n",
    "    data = []\n",
    "\n",
    "    for residueA in source_chain:\n",
    "        if residueA.resname in [\"HOH\", \"WAT\", \"IPA\", \"NAG\",\"SO4\"]:\n",
    "            continue\n",
    "        \n",
    "        nearby_residues = []\n",
    "\n",
    "        for target_chain in target_chains:\n",
    "            for residueB in target_chain:\n",
    "                if residueB.resname in [\"HOH\", \"WAT\", \"IPA\",\"SO4\"]:\n",
    "                    continue\n",
    "\n",
    "                is_within_cutoff = False\n",
    "                for atomA in residueA:\n",
    "                    for atomB in residueB:\n",
    "                        distance = atomA - atomB\n",
    "                        if distance < cutoff_distance:\n",
    "                            is_within_cutoff = True\n",
    "                            break\n",
    "                    if is_within_cutoff:\n",
    "                        break\n",
    "                        \n",
    "                if is_within_cutoff:\n",
    "                    nearby_residues.append({\n",
    "                        'chain': target_chain.get_id(),\n",
    "                        'residue_id': residueB.id[1],\n",
    "                        'residue_name': residueB.resname,\n",
    "                        'distance': distance\n",
    "                    })\n",
    "\n",
    "        data.append({\n",
    "            'wildtype': residueA.resname,\n",
    "            'site': residueA.id[1],\n",
    "            'nearby_residues': nearby_residues,\n",
    "            'custom_source': name\n",
    "        })\n",
    "\n",
    "    # Convert data to pandas DataFrame\n",
    "    df = pd.DataFrame(data)\n",
    "    return df\n",
    "\n",
    "# Usage\n",
    "pdb_path_2VSM = e2_pdb\n",
    "source_chain_2VSM = 'A'\n",
    "target_chains_2VSM = ['B']\n",
    "\n",
    "\n",
    "### 3D12 is crystal structure of RBP head bound to EFNB3\n",
    "pdb_path_3D12 = e3_pdb\n",
    "source_chain_3D12 = 'A'\n",
    "target_chains_3D12 = 'B'\n",
    "\n",
    "df_2VSM_close = calculate_nearby_residues(pdb_path_2VSM, source_chain_2VSM, target_chains_2VSM, '2VSM_source', cutoff_distance)\n",
    "df_2VSM_close['number_of_contact_residues_within_5'] = df_2VSM_close['nearby_residues'].apply(len)\n",
    "df_2VSM_close['close_residues'] = df_2VSM_close['nearby_residues'].apply(lambda x: ', '.join([str(item['residue_id']) for item in x]) if x else None)\n",
    "\n",
    "\n",
    "df_3D12_close = calculate_nearby_residues(pdb_path_3D12, source_chain_3D12, target_chains_3D12, '3D12_source', cutoff_distance)\n",
    "df_3D12_close[f'number_of_contact_residues_within_{cutoff_distance}'] = df_3D12_close['nearby_residues'].apply(len)\n",
    "df_3D12_close['close_residues'] = df_3D12_close['nearby_residues'].apply(lambda x: ', '.join([str(item['residue_id']) for item in x]) if x else None)\n",
    "\n",
    "##Adjust numbering for 2VSM\n",
    "def adjust_residues(residue_str):\n",
    "    if residue_str is None:\n",
    "        return None\n",
    "    \n",
    "    # Convert comma-separated string to list of integers\n",
    "    residues = [int(residue_id) for residue_id in residue_str.split(', ')]\n",
    "    \n",
    "    # Adjust residue IDs\n",
    "    adjusted_residues = [residue_id - 3 if residue_id < 68 else residue_id for residue_id in residues]\n",
    "    \n",
    "    # Convert list of integers back to comma-separated string\n",
    "    return ', '.join(map(str, adjusted_residues))\n",
    "\n",
    "df_2VSM_close['close_residues'] = df_2VSM_close['close_residues'].apply(adjust_residues)\n",
    "df_2VSM_close.to_csv(ephrin_b2_close_residues,index=False)\n",
    "df_3D12_close.to_csv(ephrin_b3_close_residues,index=False)"
   ]
  },
  {
   "cell_type": "code",
   "execution_count": null,
   "id": "6802832e-4d0f-4f80-b84b-5555cd9a0ae1",
   "metadata": {
    "editable": true,
    "slideshow": {
     "slide_type": ""
    },
    "tags": []
   },
   "outputs": [],
   "source": [
    "def calculate_min_distances(pdb_path, source_chain_id, target_chain_ids, name):\n",
    "    # Initialize the PDB parser and load the structure\n",
    "    parser = PDB.PDBParser(QUIET=True)\n",
    "    structure = parser.get_structure('structure_id', pdb_path)\n",
    "\n",
    "    source_chain = structure[0][source_chain_id]\n",
    "    target_chains = [structure[0][chain_id] for chain_id in target_chain_ids]\n",
    "\n",
    "    data = []\n",
    "\n",
    "    for residueA in source_chain:\n",
    "        if residueA.resname in [\"HOH\", \"WAT\", \"IPA\", \"NAG\",\"SO4\"]:\n",
    "            continue\n",
    "\n",
    "        min_distance = float('inf')\n",
    "        closest_residueB = None\n",
    "        closest_chain_id = None\n",
    "        residues_within_4 = 0\n",
    "\n",
    "        for target_chain in target_chains:\n",
    "            for residueB in target_chain:\n",
    "                if residueB.resname in [\"HOH\", \"WAT\", \"IPA\",\"SO4\"]:\n",
    "                    continue\n",
    "\n",
    "                # Check for residues within 4 angstroms\n",
    "                is_within_4 = False\n",
    "                for atomA in residueA:\n",
    "                    for atomB in residueB:\n",
    "                        distance = atomA - atomB\n",
    "                        if distance < min_distance:\n",
    "                            min_distance = distance\n",
    "                            closest_residueB = residueB\n",
    "                            closest_chain_id = target_chain.get_id()\n",
    "                        if distance < 4:\n",
    "                            is_within_4 = True\n",
    "                if is_within_4:\n",
    "                    residues_within_4 += 1\n",
    "\n",
    "        data.append({\n",
    "            'wildtype': residueA.resname,\n",
    "            'site': residueA.id[1],\n",
    "            'chain': closest_chain_id,\n",
    "            'residue': closest_residueB.id[1],\n",
    "            'residue_name': closest_residueB.resname,\n",
    "            'distance': min_distance,\n",
    "            'residues_within_4': residues_within_4,\n",
    "            'custom_source': name\n",
    "        })\n",
    "\n",
    "    # Convert data to pandas DataFrame\n",
    "    df = pd.DataFrame(data)\n",
    "    return df\n",
    "\n",
    "# Usage\n",
    "### 2VSM is crystal structure for RBP head bound to EFNB2\n",
    "pdb_path_2VSM = e2_pdb\n",
    "source_chain_2VSM = 'A'\n",
    "target_chains_2VSM = 'B'\n",
    "\n",
    "\n",
    "### 3D12 is crystal structure of RBP head bound to EFNB3\n",
    "pdb_path_3D12 = e3_pdb\n",
    "source_chain_3D12 = 'A'\n",
    "target_chains_3D12 = 'B'\n",
    "\n",
    "pdb_path_7txz = rbp_pdb\n",
    "source_chain_7txz = 'B'\n",
    "target_chains_7txz = 'A'\n",
    "\n",
    "three_to_one_letter = {\n",
    "    'ALA': 'A', 'ARG': 'R', 'ASN': 'N', 'ASP': 'D',\n",
    "    'CYS': 'C', 'GLU': 'E', 'GLN': 'Q', 'GLY': 'G',\n",
    "    'HIS': 'H', 'ILE': 'I', 'LEU': 'L', 'LYS': 'K',\n",
    "    'MET': 'M', 'PHE': 'F', 'PRO': 'P', 'SER': 'S',\n",
    "    'THR': 'T', 'TRP': 'W', 'TYR': 'Y', 'VAL': 'V',\n",
    "}\n",
    "\n",
    "\n",
    "df_2VSM = calculate_min_distances(pdb_path_2VSM, source_chain_2VSM, target_chains_2VSM, 'E2')\n",
    "df_2VSM['E2_PDB_residue'] = df_2VSM['residue_name'].replace(three_to_one_letter)\n",
    "#Have to adjust the numbering because 2VSM numbering of Ephrin-B2 is off compared to Reference\n",
    "df_2VSM['residue'] = np.where(df_2VSM['residue'] < 68, df_2VSM['residue'] - 3, df_2VSM['residue'])\n",
    "\n",
    "\n",
    "df_3D12 = calculate_min_distances(pdb_path_3D12, source_chain_3D12, target_chains_3D12, 'E3')\n",
    "df_3D12['E3_PDB_residue'] = df_3D12['residue_name'].replace(three_to_one_letter)\n",
    "\n",
    "df_7txz = calculate_min_distances(pdb_path_7txz, source_chain_7txz, target_chains_7txz, 'dimerization')\n",
    "df_7txz['dimerization_PDB_residue'] = df_7txz['residue_name'].replace(three_to_one_letter)\n",
    "\n",
    "print(\"All done!\")\n",
    "\n",
    "df_2VSM.to_csv(ephrin_b2_distance,index=False)\n",
    "df_3D12.to_csv(ephrin_b3_distance,index=False)\n",
    "df_7txz.to_csv(dimerization_distance,index=False)"
   ]
  },
  {
   "cell_type": "markdown",
   "id": "4f9671d9-d209-4db3-9860-226c0087ddac",
   "metadata": {
    "editable": true,
    "slideshow": {
     "slide_type": ""
    },
    "tags": []
   },
   "source": [
    "### Which residues are close to receptor?"
   ]
  },
  {
   "cell_type": "code",
   "execution_count": null,
   "id": "9a7f201a-a811-4e74-8a26-445b01668979",
   "metadata": {
    "editable": true,
    "slideshow": {
     "slide_type": ""
    },
    "tags": []
   },
   "outputs": [],
   "source": [
    "def find_close_residues(df,distance_cutoff):\n",
    "    close = df[df['distance'] <= distance_cutoff]\n",
    "    unique_sites = close['site'].unique()\n",
    "    return unique_sites\n",
    "\n",
    "ephrin_b2_close = find_close_residues(df_2VSM,4)\n",
    "print(list(ephrin_b2_close))\n",
    "ephrin_b2_close = find_close_residues(df_2VSM,5)\n",
    "print(list(ephrin_b2_close))"
   ]
  },
  {
   "cell_type": "code",
   "execution_count": null,
   "id": "34b17274-bda8-4f47-96c9-d4d88856d68e",
   "metadata": {
    "editable": true,
    "slideshow": {
     "slide_type": ""
    },
    "tags": []
   },
   "outputs": [],
   "source": [
    "ephrin_b3_close = find_close_residues(df_3D12,4)\n",
    "print(list(ephrin_b3_close))\n",
    "ephrin_b3_close = find_close_residues(df_3D12,5)\n",
    "print(list(ephrin_b3_close))"
   ]
  },
  {
   "cell_type": "code",
   "execution_count": null,
   "id": "54147030-159e-46ea-8a2a-7cff6f8099ec",
   "metadata": {
    "editable": true,
    "slideshow": {
     "slide_type": ""
    },
    "tags": []
   },
   "outputs": [],
   "source": [
    "dimerization = find_close_residues(df_7txz,4)\n",
    "print(list(dimerization))\n",
    "dimerization = find_close_residues(df_7txz,5)\n",
    "print(list(dimerization))"
   ]
  },
  {
   "cell_type": "markdown",
   "id": "251b0d94-36cf-4273-9c94-aec28372eeef",
   "metadata": {},
   "source": [
    "### Find overlapping sites for EFNB2 and EFNB3 that are within 5 angstroms"
   ]
  },
  {
   "cell_type": "code",
   "execution_count": null,
   "id": "014d1dc7-b84e-4294-85ef-3a5dd349ee3e",
   "metadata": {
    "editable": true,
    "slideshow": {
     "slide_type": ""
    },
    "tags": []
   },
   "outputs": [],
   "source": [
    "# Assuming ephrin_b2_close and ephrin_b3_close are sets or any iterable\n",
    "test = list(ephrin_b2_close) + list(ephrin_b3_close)\n",
    "unique_elements = set(test)\n",
    "\n",
    "# Convert set to a list and sort\n",
    "sorted_list = sorted(unique_elements)\n",
    "print(sorted_list)"
   ]
  },
  {
   "cell_type": "code",
   "execution_count": null,
   "id": "7b63b0ae-caf8-4175-bbdb-f865cc669d6e",
   "metadata": {},
   "outputs": [],
   "source": []
  }
 ],
 "metadata": {
  "kernelspec": {
   "display_name": "Python 3 (ipykernel)",
   "language": "python",
   "name": "python3"
  },
  "language_info": {
   "codemirror_mode": {
    "name": "ipython",
    "version": 3
   },
   "file_extension": ".py",
   "mimetype": "text/x-python",
   "name": "python",
   "nbconvert_exporter": "python",
   "pygments_lexer": "ipython3",
   "version": "3.11.7"
  }
 },
 "nbformat": 4,
 "nbformat_minor": 5
}
