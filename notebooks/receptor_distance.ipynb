{
 "cells": [
  {
   "cell_type": "markdown",
   "id": "a5b23694-d323-489e-89a8-769d60a9feda",
   "metadata": {
    "editable": true,
    "slideshow": {
     "slide_type": ""
    },
    "tags": []
   },
   "source": [
    "## receptor_distance\n",
    "Find distances of each RBP residue to either Ephrin-B2 or -B3, and find contact sites\n",
    "- Written by Brendan Larsen"
   ]
  },
  {
   "cell_type": "code",
   "execution_count": null,
   "id": "47b4f322-9291-4677-bc3d-a5502014eab8",
   "metadata": {
    "editable": true,
    "slideshow": {
     "slide_type": ""
    },
    "tags": [
     "parameters"
    ]
   },
   "outputs": [],
   "source": [
    "# this cell is tagged as parameters for `papermill` parameterization\n",
    "e2_pdb = None\n",
    "e3_pdb = None\n",
    "rbp_pdb = None\n",
    "\n",
    "ephrin_b2_close_residues = None\n",
    "ephrin_b3_close_residues = None\n",
    "\n",
    "ephrin_b2_distance = None\n",
    "ephrin_b3_distance = None\n",
    "dimerization_distance = None"
   ]
  },
  {
   "cell_type": "code",
   "execution_count": null,
   "id": "f83e70ff-0049-4b6b-a852-bc4d9034333b",
   "metadata": {
    "editable": true,
    "slideshow": {
     "slide_type": ""
    },
    "tags": []
   },
   "outputs": [],
   "source": [
    "import math\n",
    "import os\n",
    "\n",
    "import altair as alt\n",
    "\n",
    "import numpy as np\n",
    "\n",
    "import pandas as pd\n",
    "\n",
    "import scipy.stats\n",
    "\n",
    "import Bio.SeqIO\n",
    "\n",
    "from Bio import AlignIO\n",
    "from Bio import PDB\n",
    "from Bio.Align import PairwiseAligner\n",
    "from Bio.PDB.DSSP import DSSP\n",
    "from Bio.PDB import PDBParser\n",
    "import xml.etree.ElementTree as ET\n",
    "# pd.set_option('display.max_rows', None)"
   ]
  },
  {
   "cell_type": "code",
   "execution_count": null,
   "id": "402f8b06-af68-47b0-90ce-d3aeef00a455",
   "metadata": {
    "editable": true,
    "slideshow": {
     "slide_type": ""
    },
    "tags": []
   },
   "outputs": [],
   "source": [
    "# allow more rows for Altair\n",
    "_ = alt.data_transformers.disable_max_rows()\n",
    "\n",
    "if (\n",
    "    os.getcwd()\n",
    "    == \"/fh/fast/bloom_j/computational_notebooks/blarsen/2023/Nipah_Malaysia_RBP_DMS/\"\n",
    "):\n",
    "    pass\n",
    "    print(\"Already in correct directory\")\n",
    "else:\n",
    "    os.chdir(\n",
    "        \"/fh/fast/bloom_j/computational_notebooks/blarsen/2023/Nipah_Malaysia_RBP_DMS/\"\n",
    "    )\n",
    "    print(\"Setup in correct directory\")"
   ]
  },
  {
   "cell_type": "markdown",
   "id": "2e90155e-bc77-4c01-a451-4c12114c1a2a",
   "metadata": {},
   "source": [
    "### For running interactively"
   ]
  },
  {
   "cell_type": "code",
   "execution_count": null,
   "id": "d176b4a5-6eca-4744-ad85-7f1a91daf7a2",
   "metadata": {
    "editable": true,
    "slideshow": {
     "slide_type": ""
    },
    "tags": []
   },
   "outputs": [],
   "source": [
    "if ephrin_b2_close_residues is None:\n",
    "    e2_pdb = \"data/custom_analyses_data/crystal_structures/2vsm.pdb\"\n",
    "    e3_pdb = \"data/custom_analyses_data/crystal_structures/3d12.pdb\"\n",
    "    rbp_pdb = \"data/custom_analyses_data/crystal_structures/7txz.pdb\"\n",
    "\n",
    "    ephrin_b2_close_residues = \"results/distances/2vsm_close_residues.csv\"\n",
    "    ephrin_b3_close_residues = \"results/distances/3d12_close_residues.csv\"\n",
    "\n",
    "    ephrin_b2_distance = \"results/distances/2vsm_distances.csv\"\n",
    "    ephrin_b3_distance = \"results/distances/3d12_distances.csv\"\n",
    "    dimerization_distance = \"results/distances/7txz_distances.csv\""
   ]
  },
  {
   "cell_type": "markdown",
   "id": "99c45693-d43f-4678-abd5-70e1bc148b9a",
   "metadata": {},
   "source": [
    "### Check whether data already exists"
   ]
  },
  {
   "cell_type": "code",
   "execution_count": null,
   "id": "c74d96ce-b734-4036-bc04-ddd8913ff24b",
   "metadata": {
    "editable": true,
    "slideshow": {
     "slide_type": ""
    },
    "tags": []
   },
   "outputs": [],
   "source": [
    "# check whether output directory exists\n",
    "def create_directory(directory_path):\n",
    "    # Check if the directory exists\n",
    "    if not os.path.exists(directory_path):\n",
    "        # Create the directory\n",
    "        os.makedirs(directory_path)\n",
    "        print(f\"Directory '{directory_path}' created.\")\n",
    "    else:\n",
    "        print(f\"Directory '{directory_path}' already exists.\")\n",
    "\n",
    "\n",
    "# Example usage\n",
    "directory_path = \"results/distances/\"\n",
    "create_directory(directory_path)"
   ]
  },
  {
   "cell_type": "markdown",
   "id": "254b5261-3b14-4478-8cfe-c69a0a96f50c",
   "metadata": {
    "editable": true,
    "slideshow": {
     "slide_type": ""
    },
    "tags": []
   },
   "source": [
    "## Calculate amino acid distances of RBP to Ephrins"
   ]
  },
  {
   "cell_type": "markdown",
   "id": "c7b96997-c71f-4125-96ce-56d6327d3a1b",
   "metadata": {
    "editable": true,
    "slideshow": {
     "slide_type": ""
    },
    "tags": []
   },
   "source": [
    "### First calculate how many receptor residues are within cutoff distance"
   ]
  },
  {
   "cell_type": "code",
   "execution_count": null,
   "id": "cd91ad35-f360-4520-9aa2-b011d9196089",
   "metadata": {
    "editable": true,
    "slideshow": {
     "slide_type": ""
    },
    "tags": []
   },
   "outputs": [],
   "source": [
    "cutoff_distance = 4"
   ]
  },
  {
   "cell_type": "code",
   "execution_count": null,
   "id": "7bdc9c69-8dd8-4703-b496-33335d1aa19d",
   "metadata": {
    "editable": true,
    "slideshow": {
     "slide_type": ""
    },
    "tags": []
   },
   "outputs": [],
   "source": [
    "def calculate_nearby_residues(\n",
    "    pdb_path, source_chain_id, target_chain_ids, name, cutoff_distance\n",
    "):\n",
    "    # Initialize the PDB parser and load the structure from the given pdb_path\n",
    "    parser = PDB.PDBParser(QUIET=True)\n",
    "    structure = parser.get_structure(\"structure_id\", pdb_path)\n",
    "\n",
    "    # Retrieve the source chain and target chains from the structure\n",
    "    source_chain = structure[0][source_chain_id]\n",
    "    target_chains = [structure[0][chain_id] for chain_id in target_chain_ids]\n",
    "\n",
    "    data = []\n",
    "\n",
    "    # Loop through each residue in the source chain\n",
    "    for residueA in source_chain:\n",
    "        # Skip water and common non-protein residues\n",
    "        if residueA.resname in [\"HOH\", \"WAT\", \"IPA\", \"NAG\", \"SO4\"]:\n",
    "            continue\n",
    "\n",
    "        nearby_residues = []\n",
    "\n",
    "        # Compare against residues in each target chain\n",
    "        for target_chain in target_chains:\n",
    "            for residueB in target_chain:\n",
    "                # Skip water and common non-protein residues in target chains as well\n",
    "                if residueB.resname in [\"HOH\", \"WAT\", \"IPA\", \"SO4\"]:\n",
    "                    continue\n",
    "\n",
    "                is_within_cutoff = False\n",
    "                # Calculate distance between atoms in the two residues\n",
    "                for atomA in residueA:\n",
    "                    for atomB in residueB:\n",
    "                        distance = atomA - atomB\n",
    "                        if distance < cutoff_distance:\n",
    "                            is_within_cutoff = True\n",
    "                            break\n",
    "                    if is_within_cutoff:\n",
    "                        break\n",
    "\n",
    "                # If within cutoff, add to nearby residues list\n",
    "                if is_within_cutoff:\n",
    "                    nearby_residues.append(\n",
    "                        {\n",
    "                            \"chain\": target_chain.get_id(),\n",
    "                            \"residue_id\": residueB.id[1],\n",
    "                            \"residue_name\": residueB.resname,\n",
    "                            \"distance\": distance,\n",
    "                        }\n",
    "                    )\n",
    "\n",
    "        # Append collected data for each residue in source chain\n",
    "        data.append(\n",
    "            {\n",
    "                \"wildtype\": residueA.resname,\n",
    "                \"site\": residueA.id[1],\n",
    "                \"nearby_residues\": nearby_residues,\n",
    "                \"custom_source\": name,\n",
    "            }\n",
    "        )\n",
    "\n",
    "    # Convert collected data into a pandas DataFrame for easier manipulation\n",
    "    df = pd.DataFrame(data)\n",
    "    return df\n",
    "\n",
    "\n",
    "# Example usage of the function with specified parameters\n",
    "pdb_path_2VSM = e2_pdb\n",
    "source_chain_2VSM = \"A\"\n",
    "target_chains_2VSM = [\"B\"]\n",
    "\n",
    "pdb_path_3D12 = e3_pdb\n",
    "source_chain_3D12 = \"A\"\n",
    "target_chains_3D12 = \"B\"\n",
    "\n",
    "# Calculate nearby residues and add custom columns to summarize data\n",
    "df_2VSM_close = calculate_nearby_residues(\n",
    "    pdb_path_2VSM, source_chain_2VSM, target_chains_2VSM, \"2VSM_source\", cutoff_distance\n",
    ")\n",
    "df_2VSM_close[\"number_of_contact_residues_within_5\"] = df_2VSM_close[\n",
    "    \"nearby_residues\"\n",
    "].apply(len)\n",
    "df_2VSM_close[\"close_residues\"] = df_2VSM_close[\"nearby_residues\"].apply(\n",
    "    lambda x: \", \".join([str(item[\"residue_id\"]) for item in x]) if x else None\n",
    ")\n",
    "\n",
    "df_3D12_close = calculate_nearby_residues(\n",
    "    pdb_path_3D12, source_chain_3D12, target_chains_3D12, \"3D12_source\", cutoff_distance\n",
    ")\n",
    "df_3D12_close[f\"number_of_contact_residues_within_{cutoff_distance}\"] = df_3D12_close[\n",
    "    \"nearby_residues\"\n",
    "].apply(len)\n",
    "df_3D12_close[\"close_residues\"] = df_3D12_close[\"nearby_residues\"].apply(\n",
    "    lambda x: \", \".join([str(item[\"residue_id\"]) for item in x]) if x else None\n",
    ")\n",
    "\n",
    "\n",
    "# Adjust numbering for specific residues based on criteria\n",
    "def adjust_residues(residue_str):\n",
    "    if residue_str is None:\n",
    "        return None\n",
    "\n",
    "    residues = [int(residue_id) for residue_id in residue_str.split(\", \")]\n",
    "\n",
    "    adjusted_residues = [\n",
    "        residue_id - 3 if residue_id < 68 else residue_id for residue_id in residues\n",
    "    ]\n",
    "\n",
    "    return \", \".join(map(str, adjusted_residues))\n",
    "\n",
    "\n",
    "df_2VSM_close[\"close_residues\"] = df_2VSM_close[\"close_residues\"].apply(adjust_residues)\n",
    "df_2VSM_close.to_csv(ephrin_b2_close_residues, index=False)\n",
    "df_3D12_close.to_csv(ephrin_b3_close_residues, index=False)"
   ]
  },
  {
   "cell_type": "markdown",
   "id": "bcc55869-54cb-43a9-9283-a45cc70f2270",
   "metadata": {},
   "source": [
    "Now find distances to all residues"
   ]
  },
  {
   "cell_type": "code",
   "execution_count": null,
   "id": "6802832e-4d0f-4f80-b84b-5555cd9a0ae1",
   "metadata": {
    "editable": true,
    "slideshow": {
     "slide_type": ""
    },
    "tags": []
   },
   "outputs": [],
   "source": [
    "def calculate_min_distances(pdb_path, source_chain_id, target_chain_ids, name):\n",
    "    \"\"\"\n",
    "    Calculate the minimum distance between residues in a source chain and residues in target chains.\n",
    "\n",
    "    Args:\n",
    "        pdb_path (str): Path to the PDB file.\n",
    "        source_chain_id (str): ID of the source chain.\n",
    "        target_chain_ids (list): List of IDs for the target chains.\n",
    "        name (str): A custom name for the data source.\n",
    "\n",
    "    Returns:\n",
    "        pandas.DataFrame: A DataFrame containing the minimum distances and related information.\n",
    "    \"\"\"\n",
    "    # Initialize the PDB parser and load the structure from the given pdb_path\n",
    "    parser = PDB.PDBParser(QUIET=True)\n",
    "    structure = parser.get_structure(\"structure_id\", pdb_path)\n",
    "\n",
    "    # Retrieve the source chain and target chains from the structure\n",
    "    source_chain = structure[0][source_chain_id]\n",
    "    target_chains = [structure[0][chain_id] for chain_id in target_chain_ids]\n",
    "\n",
    "    data = []\n",
    "\n",
    "    # Loop through each residue in the source chain\n",
    "    for residueA in source_chain:\n",
    "        # Skip water and common non-protein residues\n",
    "        if residueA.resname in [\"HOH\", \"WAT\", \"IPA\", \"NAG\", \"SO4\"]:\n",
    "            continue\n",
    "\n",
    "        # Initialize variables to track the closest residue and its distance\n",
    "        min_distance = float(\"inf\")\n",
    "        closest_residueB = None\n",
    "        closest_chain_id = None\n",
    "        residues_within_4 = 0  # Count of residues within 4 angstroms\n",
    "\n",
    "        # Compare against residues in each target chain\n",
    "        for target_chain in target_chains:\n",
    "            for residueB in target_chain:\n",
    "                if residueB.resname in [\"HOH\", \"WAT\", \"IPA\", \"SO4\"]:\n",
    "                    continue\n",
    "\n",
    "                # Check for minimum distance and residues within 4 angstroms\n",
    "                is_within_4 = False\n",
    "                for atomA in residueA:\n",
    "                    for atomB in residueB:\n",
    "                        distance = atomA - atomB\n",
    "                        if distance < min_distance:\n",
    "                            min_distance = distance\n",
    "                            closest_residueB = residueB\n",
    "                            closest_chain_id = target_chain.get_id()\n",
    "                        if distance < 4:\n",
    "                            is_within_4 = True\n",
    "                if is_within_4:\n",
    "                    residues_within_4 += 1\n",
    "\n",
    "        # Append collected data for each residue in source chain\n",
    "        data.append(\n",
    "            {\n",
    "                \"wildtype\": residueA.resname,\n",
    "                \"site\": residueA.id[1],\n",
    "                \"chain\": closest_chain_id,\n",
    "                \"residue\": closest_residueB.id[1],\n",
    "                \"residue_name\": closest_residueB.resname,\n",
    "                \"distance\": min_distance,\n",
    "                \"residues_within_4\": residues_within_4,\n",
    "                \"custom_source\": name,\n",
    "            }\n",
    "        )\n",
    "\n",
    "    # Convert collected data into a pandas DataFrame for easier manipulation\n",
    "    df = pd.DataFrame(data)\n",
    "    return df\n",
    "\n",
    "\n",
    "# Usage examples with specified parameters for different PDB structures\n",
    "pdb_path_2VSM = e2_pdb\n",
    "source_chain_2VSM = \"A\"\n",
    "target_chains_2VSM = \"B\"\n",
    "\n",
    "pdb_path_3D12 = e3_pdb\n",
    "source_chain_3D12 = \"A\"\n",
    "target_chains_3D12 = \"B\"\n",
    "\n",
    "pdb_path_7txz = rbp_pdb\n",
    "source_chain_7txz = \"B\"\n",
    "target_chains_7txz = \"A\"\n",
    "\n",
    "#pdb_path_7txz = rbp_pdb\n",
    "source_chain_7txz_A = \"A\"\n",
    "target_chains_7txz_B = \"B\"\n",
    "\n",
    "# Dictionary to convert three-letter amino acid codes to one-letter\n",
    "three_to_one_letter = {\n",
    "    \"ALA\": \"A\",\n",
    "    \"ARG\": \"R\",\n",
    "    \"ASN\": \"N\",\n",
    "    \"ASP\": \"D\",\n",
    "    \"CYS\": \"C\",\n",
    "    \"GLU\": \"E\",\n",
    "    \"GLN\": \"Q\",\n",
    "    \"GLY\": \"G\",\n",
    "    \"HIS\": \"H\",\n",
    "    \"ILE\": \"I\",\n",
    "    \"LEU\": \"L\",\n",
    "    \"LYS\": \"K\",\n",
    "    \"MET\": \"M\",\n",
    "    \"PHE\": \"F\",\n",
    "    \"PRO\": \"P\",\n",
    "    \"SER\": \"S\",\n",
    "    \"THR\": \"T\",\n",
    "    \"TRP\": \"W\",\n",
    "    \"TYR\": \"Y\",\n",
    "    \"VAL\": \"V\",\n",
    "}\n",
    "\n",
    "#Calculate minimum distances and modify dataframes with additional information\n",
    "df_2VSM = calculate_min_distances(\n",
    "    pdb_path_2VSM, source_chain_2VSM, target_chains_2VSM, \"E2\"\n",
    ")\n",
    "df_2VSM[\"E2_PDB_residue\"] = df_2VSM[\"residue_name\"].replace(three_to_one_letter)\n",
    "# Adjust residue numbering for specific cases\n",
    "df_2VSM[\"residue\"] = np.where(\n",
    "    df_2VSM[\"residue\"] < 68, df_2VSM[\"residue\"] - 3, df_2VSM[\"residue\"]\n",
    ")\n",
    "\n",
    "df_3D12 = calculate_min_distances(\n",
    "    pdb_path_3D12, source_chain_3D12, target_chains_3D12, \"E3\"\n",
    ")\n",
    "df_3D12[\"E3_PDB_residue\"] = df_3D12[\"residue_name\"].replace(three_to_one_letter)\n",
    "\n",
    "df_7txz = calculate_min_distances(\n",
    "    pdb_path_7txz, 'A', 'B', \"dimerization\"\n",
    ")\n",
    "df_7txz[\"dimerization_PDB_residue\"] = df_7txz[\"residue_name\"].replace(\n",
    "    three_to_one_letter\n",
    ")\n",
    "\n",
    "df_7txz_assm = calculate_min_distances(\n",
    "    pdb_path_7txz, 'B', 'A', \"dimerization\"\n",
    ")\n",
    "df_7txz_assm[\"dimerization_PDB_residue\"] = df_7txz_assm[\"residue_name\"].replace(\n",
    "    three_to_one_letter\n",
    ")\n",
    "\n",
    "EFNB2_dist = calculate_min_distances(\n",
    "    pdb_path_2VSM, 'B','A','EFNB2'\n",
    ")\n",
    "#EFNB2_dist[\"site\"] = np.where(\n",
    "#    EFNB2_dist[\"site\"] < 68, EFNB2_dist[\"site\"] - 3, EFNB2_dist[\"site\"]\n",
    "#)\n",
    "\n",
    "EFNB3_dist = calculate_min_distances(\n",
    "    pdb_path_3D12, 'B','A','EFNB3'\n",
    ")\n",
    "\n",
    "print(\"All done!\")\n",
    "\n",
    "# Save the processed data to CSV files\n",
    "df_2VSM.to_csv(ephrin_b2_distance, index=False)\n",
    "df_3D12.to_csv(ephrin_b3_distance, index=False)\n",
    "df_7txz.to_csv(dimerization_distance, index=False)"
   ]
  },
  {
   "cell_type": "markdown",
   "id": "4f9671d9-d209-4db3-9860-226c0087ddac",
   "metadata": {
    "editable": true,
    "slideshow": {
     "slide_type": ""
    },
    "tags": []
   },
   "source": [
    "### Which residues are close to receptor?"
   ]
  },
  {
   "cell_type": "code",
   "execution_count": null,
   "id": "9a7f201a-a811-4e74-8a26-445b01668979",
   "metadata": {
    "editable": true,
    "slideshow": {
     "slide_type": ""
    },
    "tags": []
   },
   "outputs": [],
   "source": [
    "def find_close_residues(df, distance_cutoff):\n",
    "    close = df[df[\"distance\"] <= distance_cutoff]\n",
    "    unique_sites = list(close[\"site\"].unique())\n",
    "    return unique_sites\n",
    "\n",
    "ephrin_b2_close = find_close_residues(df_2VSM, 4)\n",
    "print(f'For 2VSM (RBP/Ephrin-B2), the close contact sites are: {ephrin_b2_close}\\n')\n",
    "\n",
    "ephrin_b3_close = find_close_residues(df_3D12, 4)\n",
    "print(f'For 3D12 (RBP/Ephrin-B3), the close contact sites are: {ephrin_b3_close}\\n')\n",
    "\n",
    "dimerization = find_close_residues(df_7txz, 4)\n",
    "print(f' For 7TXZ Chain A, close contact sites are: {dimerization}')\n",
    "\n",
    "dimerization_assm = find_close_residues(df_7txz_assm,4)\n",
    "print(f' For 7TXZ Chain B, close contact sites are : {dimerization_assm}')\n",
    "\n",
    "EFNB2_close = find_close_residues(EFNB2_dist,4)\n",
    "print(f' For EFNB2, close contact sites are : {EFNB2_close}')\n",
    "\n",
    "EFNB3_close = find_close_residues(EFNB3_dist,4)\n",
    "print(f' For EFNB3, close contact sites are : {EFNB3_close}')\n",
    "\n",
    "# Function for finding the combined values for two different lists\n",
    "def find_combined_sites(list1, list2):\n",
    "    combined_list = list(list1) + list(list2)\n",
    "    unique_elements = set(combined_list)\n",
    "    sorted_list = sorted(unique_elements)\n",
    "    len_list = len(sorted_list)\n",
    "    print(f'The number of residues is: {len_list}\\n')\n",
    "    print(sorted_list)\n",
    "\n",
    "find_combined_sites(ephrin_b2_close,ephrin_b3_close)\n",
    "find_combined_sites(EFNB2_close,EFNB3_close)\n",
    "\n",
    "# Function for finding values that are shared between two different lists\n",
    "def find_overlapping_sites(list1, list2):\n",
    "    # Convert both lists to sets\n",
    "    set1 = set(list1)\n",
    "    set2 = set(list2)\n",
    "    # Find the intersection (common elements) of both sets\n",
    "    overlapping_sites = set1.intersection(set2)\n",
    "    # Convert the resulting set to a sorted list\n",
    "    sorted_list = sorted(overlapping_sites)\n",
    "    # Print the number of overlapping sites and the sites themselves\n",
    "    print(f'The number of overlapping residues is: {len(sorted_list)}\\n')\n",
    "    print(sorted_list)\n",
    "\n",
    "find_overlapping_sites(ephrin_b2_close, ephrin_b3_close)"
   ]
  },
  {
   "cell_type": "code",
   "execution_count": null,
   "id": "25934328-d15c-40c9-bf92-b8e839647209",
   "metadata": {},
   "outputs": [],
   "source": [
    "# What residues are shared between chain A and B in dimerization face?\n",
    "find_combined_sites(dimerization,dimerization_assm)"
   ]
  },
  {
   "cell_type": "code",
   "execution_count": null,
   "id": "4a3c3776-8117-4e2b-9ec6-1ae6de2c66e2",
   "metadata": {},
   "outputs": [],
   "source": [
    "# What residues are overlapping for both asymmetric heads?\n",
    "find_overlapping_sites(dimerization, dimerization_assm)"
   ]
  }
 ],
 "metadata": {
  "kernelspec": {
   "display_name": "Python 3 (ipykernel)",
   "language": "python",
   "name": "python3"
  },
  "language_info": {
   "codemirror_mode": {
    "name": "ipython",
    "version": 3
   },
   "file_extension": ".py",
   "mimetype": "text/x-python",
   "name": "python",
   "nbconvert_exporter": "python",
   "pygments_lexer": "ipython3",
   "version": "3.11.8"
  }
 },
 "nbformat": 4,
 "nbformat_minor": 5
}
